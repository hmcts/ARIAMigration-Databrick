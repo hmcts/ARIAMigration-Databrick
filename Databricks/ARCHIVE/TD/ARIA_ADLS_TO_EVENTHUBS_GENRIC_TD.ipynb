{
 "cells": [
  {
   "cell_type": "code",
   "execution_count": 0,
   "metadata": {
    "application/vnd.databricks.v1+cell": {
     "cellMetadata": {
      "byteLimit": 2048000,
      "rowLimit": 10000
     },
     "inputWidgets": {},
     "nuid": "971d01f4-9654-4671-91ff-b2b6e49d88bc",
     "showTitle": false,
     "tableResultSettingsMap": {},
     "title": ""
    }
   },
   "outputs": [],
   "source": [
    "from confluent_kafka import Producer\n",
    "import json\n",
    "from  itertools import islice\n",
    "import numpy as np\n",
    "# from pyspark.sql.functions import col, decode, split, element_at,udf\n",
    "import logging\n",
    "from pyspark.sql.types import StructType, StructField, StringType\n",
    "from pyspark import SparkContext\n",
    "from pyspark.sql.functions import *\n"
   ]
  },
  {
   "cell_type": "markdown",
   "metadata": {
    "application/vnd.databricks.v1+cell": {
     "cellMetadata": {},
     "inputWidgets": {},
     "nuid": "ca5d0732-52ee-47db-8fc2-e2cd9efaac84",
     "showTitle": false,
     "tableResultSettingsMap": {},
     "title": ""
    }
   },
   "source": [
    "## Read in HTML and JSON files"
   ]
  },
  {
   "cell_type": "code",
   "execution_count": 0,
   "metadata": {
    "application/vnd.databricks.v1+cell": {
     "cellMetadata": {
      "byteLimit": 2048000,
      "rowLimit": 10000
     },
     "inputWidgets": {},
     "nuid": "0a41ea18-a1ef-4126-9f92-363cc05a0761",
     "showTitle": false,
     "tableResultSettingsMap": {},
     "title": ""
    }
   },
   "outputs": [],
   "source": [
    "eh_kv_secret = dbutils.secrets.get(scope=\"ingest00-meta002-sbox\", key=\"evh-namespace-connection-string\")"
   ]
  },
  {
   "cell_type": "code",
   "execution_count": 0,
   "metadata": {
    "application/vnd.databricks.v1+cell": {
     "cellMetadata": {
      "byteLimit": 2048000,
      "rowLimit": 10000
     },
     "inputWidgets": {},
     "nuid": "ab9b9b97-9c5d-477d-a68a-b3f8044b3ae2",
     "showTitle": false,
     "tableResultSettingsMap": {},
     "title": ""
    }
   },
   "outputs": [],
   "source": [
    "# dbutils.widgets.removeAll()"
   ]
  },
  {
   "cell_type": "code",
   "execution_count": 0,
   "metadata": {
    "application/vnd.databricks.v1+cell": {
     "cellMetadata": {
      "byteLimit": 2048000,
      "rowLimit": 10000
     },
     "inputWidgets": {},
     "nuid": "8c28ed67-0c7f-4a8d-a50b-bb65512ed092",
     "showTitle": false,
     "tableResultSettingsMap": {},
     "title": ""
    }
   },
   "outputs": [],
   "source": [
    "dbutils.widgets.dropdown(\n",
    "    name='gold_mount', \n",
    "    defaultValue='/mnt/ingest00curatedsboxgold/ARIADM/ARM/TD/', \n",
    "    choices=[\n",
    "        '/mnt/ingest00curatedsboxgold/ARIADM/ARM/TD/', \n",
    "        '/mnt/ingest00curatedsboxgold/ARIADM/ARM/ARIAJR/', \n",
    "        '/mnt/ingest00curatedsboxgold/ARIADM/ARM/ARIAFTA/',\n",
    "        '/mnt/ingest00curatedsboxgold/ARIADM/ARM/ARIAUTA/',\n",
    "        '/mnt/ingest00curatedsboxgold/ARIADM/ARM/ARIAB/',\n",
    "        '/mnt/ingest00curatedsboxgold/ARIADM/ARM/ARIASB/',\n",
    "        '/mnt/ingest00curatedsboxgold/ARIADM/ARM/APPEALS/'\n",
    "    ]\n",
    ")\n",
    "gold_mount = dbutils.widgets.get('gold_mount')\n",
    "\n",
    "dbutils.widgets.dropdown(\n",
    "    name='topic', \n",
    "    defaultValue='evh-td-pub-dev-uks-dlrm-01', \n",
    "    choices=[\n",
    "        'evh-td-pub-dev-uks-dlrm-01', \n",
    "        'evh-joh-pub-dev-uks-dlrm-01', \n",
    "        'evh-apl-pub-dev-uks-dlrm-01',\n",
    "        'evh-bl-pub-dev-uks-dlrm-01'\n",
    "    ]\n",
    ")\n",
    "topic = dbutils.widgets.get('topic')\n",
    "\n",
    "dbutils.widgets.dropdown(\n",
    "    name='dropzone_mount', \n",
    "    defaultValue='/mnt/dropzoneariatd/TD/', \n",
    "    choices=[\n",
    "        '/mnt/dropzoneariatd/TD/', \n",
    "        '/mnt/dropzoneariatjr/ARIAJR/',  \n",
    "        '/mnt/dropzoneariafta/ARIAFTA/', \n",
    "        '/mnt/dropzoneariauta/ARIAUTA/', \n",
    "        '/mnt/dropzoneariab/ARIAB/', \n",
    "        '/mnt/dropzoneariasb/ARIASB/'\n",
    "    ]\n",
    ")\n",
    "dropzone_mount = dbutils.widgets.get('dropzone_mount')\n",
    "\n",
    "dbutils.widgets.dropdown(\n",
    "    name='file_types', \n",
    "    defaultValue='html,json', \n",
    "    choices=[\n",
    "        'html,json', \n",
    "        'a360'\n",
    "    ]\n",
    ")\n",
    "file_types = dbutils.widgets.get('file_types')\n",
    "\n",
    "dbutils.widgets.text(\n",
    "    name='audit_delta_path', \n",
    "    defaultValue='/mnt/ingest00curatedsboxsilver/ARIADM/ARM/AUDIT/TD/td_cr_audit_table'\n",
    ")\n",
    "audit_delta_path = dbutils.widgets.get('audit_delta_path')\n",
    "\n",
    "dbutils.widgets.dropdown(\n",
    "    name='audit_path', \n",
    "    defaultValue='/mnt/ingest00curatedsboxsilver/ARIADM/ARM/AUDIT/TD/td_pub_audit_db_eh', \n",
    "    choices=[\n",
    "        '/mnt/ingest00curatedsboxsilver/ARIADM/ARM/AUDIT/TD/td_pub_audit_db_eh'\n",
    "    ]\n",
    ")\n",
    "audit_path = dbutils.widgets.get('audit_path')\n",
    "\n",
    "display(f\"Gold Mount: {gold_mount}\", f\"Topic: {topic}\", f\"Dropzone Mount: {dropzone_mount}\", f\"File Types: {file_types}\", f\"Audit Path: {audit_path}\")"
   ]
  },
  {
   "cell_type": "code",
   "execution_count": 0,
   "metadata": {
    "application/vnd.databricks.v1+cell": {
     "cellMetadata": {
      "byteLimit": 2048000,
      "rowLimit": 10000
     },
     "inputWidgets": {},
     "nuid": "625208fc-4823-45f7-8e56-5338370ef88a",
     "showTitle": false,
     "tableResultSettingsMap": {},
     "title": ""
    }
   },
   "outputs": [],
   "source": [
    "from pyspark.sql import SparkSession\n",
    "from pyspark.sql.functions import col, split, element_at\n",
    "from pyspark.sql.types import StructType, StructField, StringType\n",
    "from pyspark import SparkContext\n",
    "\n",
    "\n",
    "\n",
    "# Event Hub configurations\n",
    "eventhubs_hostname = \"sbox-dlrm-eventhub-ns.servicebus.windows.net:9093\"\n",
    "conf = {\n",
    "    'bootstrap.servers': eventhubs_hostname,\n",
    "    'security.protocol': 'SASL_SSL',\n",
    "    'sasl.mechanism': 'PLAIN',\n",
    "    'sasl.username': '$ConnectionString',\n",
    "    # 'sasl.password': \"Endpoint=sb://sbox-dlrm-eventhub-ns.servicebus.windows.net/;SharedAccessKeyName=RootManageSharedAccessKey;SharedAccessKey=\" ,\n",
    "    'sasl.password': eh_kv_secret,\n",
    "    'retries': 5,                     # Increased retries\n",
    "    'enable.idempotence': True,        # Enable idempotent producer\n",
    "}\n",
    "broadcast_conf = sc.broadcast(conf)\n",
    "\n"
   ]
  },
  {
   "cell_type": "code",
   "execution_count": 0,
   "metadata": {
    "application/vnd.databricks.v1+cell": {
     "cellMetadata": {
      "byteLimit": 2048000,
      "rowLimit": 10000
     },
     "inputWidgets": {},
     "nuid": "24c2aef4-dec0-43e7-8d12-c118e0c7a812",
     "showTitle": false,
     "tableResultSettingsMap": {},
     "title": ""
    }
   },
   "outputs": [],
   "source": [
    "# Read and prepare data HTML files\n",
    "# json_mount = '/mnt/ingest00curatedsboxgold/ARIADM/ARM/ARIATD/'\n",
    "binary_df = spark.read.format('binaryFile') \\\n",
    "                     .option('pathGlobFilter', f'*.{{{file_types}}}') \\\n",
    "                     .option('recursiveFileLookup', 'true') \\\n",
    "                     .load(gold_mount)\n",
    "\n",
    "\n",
    "\n",
    "html_df = binary_df.withColumn(\"content_str\", decode(col('content'), 'utf-8')) \\\n",
    "                   .withColumn('file_path', element_at(split(col('path'), '/'), -1))\n",
    "html_df = html_df.select('content_str','file_path')\n",
    "\n",
    "# # Repartition based on cluster resources\n",
    "# num_spark_partitions =  8\n",
    "# optimized_html_df = html_df.repartition(num_spark_partitions)\n",
    "\n",
    "html_df.display()"
   ]
  },
  {
   "cell_type": "markdown",
   "metadata": {
    "application/vnd.databricks.v1+cell": {
     "cellMetadata": {},
     "inputWidgets": {},
     "nuid": "d99f4b22-2d4c-4550-9959-219d94d18973",
     "showTitle": false,
     "tableResultSettingsMap": {},
     "title": ""
    }
   },
   "source": [
    "## Send to EventHubs"
   ]
  },
  {
   "cell_type": "code",
   "execution_count": 0,
   "metadata": {
    "application/vnd.databricks.v1+cell": {
     "cellMetadata": {
      "byteLimit": 2048000,
      "rowLimit": 10000
     },
     "inputWidgets": {},
     "nuid": "3e6df5e0-b6ae-481f-a221-a7bcd2a64141",
     "showTitle": false,
     "tableResultSettingsMap": {},
     "title": ""
    }
   },
   "outputs": [],
   "source": [
    "# Repartition based on cluster resources\n",
    "num_spark_partitions =  8\n",
    "optimized_html_df = html_df.repartition(num_spark_partitions)"
   ]
  },
  {
   "cell_type": "code",
   "execution_count": 0,
   "metadata": {
    "application/vnd.databricks.v1+cell": {
     "cellMetadata": {
      "byteLimit": 2048000,
      "rowLimit": 10000
     },
     "inputWidgets": {},
     "nuid": "2cacfef9-1522-43f8-ad26-82864f1c6bce",
     "showTitle": false,
     "tableResultSettingsMap": {},
     "title": ""
    }
   },
   "outputs": [],
   "source": [
    "def process_partition(partition):\n",
    "    import logging\n",
    "    from confluent_kafka import Producer\n",
    "    from datetime import datetime\n",
    "\n",
    "    # Initialize logger\n",
    "    logging.basicConfig(level=logging.INFO)\n",
    "    logger = logging.getLogger('KafkaProducer')\n",
    "    \n",
    "    failure_list = []\n",
    "    success_list = []\n",
    "    results = []\n",
    "\n",
    "    # Initialize producer\n",
    "    producer = Producer(**broadcast_conf.value)\n",
    "\n",
    "    def delivery_report(err, msg):\n",
    "        key_str = msg.key().decode('utf-8') if msg.key() is not None else \"Unknown\"\n",
    "        if err is not None:\n",
    "            err_msg = str(err)\n",
    "            logger.error(f\"Message delivery failed for key {key_str}: {err}\")\n",
    "            failure_list.append((key_str, \"failure\", err_msg, datetime.utcnow().strftime(\"%Y-%m-%d %H:%M:%S\")))\n",
    "        else:\n",
    "            success_list.append((key_str, \"success\", \"\", datetime.utcnow().strftime(\"%Y-%m-%d %H:%M:%S\")))\n",
    "\n",
    "    for row in partition:\n",
    "        if row.file_path is None or row.content_str is None:\n",
    "            logger.warning(f\"Skipping row with missing file_path/content_str: {row}\")\n",
    "            continue\n",
    "\n",
    "        try:\n",
    "            if isinstance(row.content_str, str):\n",
    "                value = row.content_str.encode('utf-8')\n",
    "            elif isinstance(row.content_str, bytearray):\n",
    "                value = bytes(row.content_str)\n",
    "            elif isinstance(row.content_str, bytes):\n",
    "                value = row.content_str\n",
    "            else:\n",
    "                logger.error(f\"Unsupported type for content_str: {type(row.content_str)}\")\n",
    "                failure_list.append((row.file_path, \"failure\", \"Unsupported type\", datetime.utcnow().strftime(\"%Y-%m-%d %H:%M:%S\")))\n",
    "                continue\n",
    "\n",
    "            producer.produce(\n",
    "                topic=topic,\n",
    "                key=row.file_path.encode('utf-8'),\n",
    "                value=value,\n",
    "                callback=delivery_report\n",
    "            )\n",
    "\n",
    "        except BufferError:\n",
    "            logger.error(\"Producer buffer full. Polling for events.\")\n",
    "            producer.poll(1)  \n",
    "        except Exception as e:\n",
    "            logger.error(f\"Unexpected error during production: {e}\")\n",
    "            failure_list.append((row.file_path, \"failure\", str(e), datetime.utcnow().strftime(\"%Y-%m-%d %H:%M:%S\")))\n",
    "\n",
    "    try:\n",
    "        producer.flush()\n",
    "        logger.info(\"Producer flushed successfully.\")\n",
    "    except Exception as e:\n",
    "        logger.error(f\"Unexpected error during flush: {e}\")\n",
    "\n",
    "    # Append results to list instead of using yield\n",
    "    results.extend(success_list)\n",
    "    results.extend(failure_list)\n",
    "\n",
    "    return results  # Return list instead of using yield\n",
    "\n",
    "# Schema for result DataFrame\n",
    "schema = StructType([\n",
    "    StructField(\"file_name\", StringType(), True),\n",
    "    StructField(\"status\", StringType(), True),\n",
    "    StructField(\"error_message\", StringType(), True),\n",
    "    StructField(\"timestamp\", StringType(), True)\n",
    "])\n",
    "\n",
    "# Apply the optimized processing\n",
    "result_rdd = optimized_html_df.rdd.mapPartitions(process_partition)\n",
    "\n",
    "# Create DataFrame and show results\n",
    "result_df = spark.createDataFrame(result_rdd, schema)\n",
    "display(result_df)  # Debugging step to verify output"
   ]
  },
  {
   "cell_type": "code",
   "execution_count": 0,
   "metadata": {
    "application/vnd.databricks.v1+cell": {
     "cellMetadata": {
      "byteLimit": 2048000,
      "rowLimit": 10000
     },
     "inputWidgets": {},
     "nuid": "9ea0014f-d416-470f-9d74-15337a6d4b32",
     "showTitle": false,
     "tableResultSettingsMap": {},
     "title": ""
    }
   },
   "outputs": [],
   "source": [
    "# # Display failed files\n",
    "\n",
    "failed_files = result_df.filter(col(\"status\") == \"failure\")\n",
    "\n",
    "display(failed_files)\n"
   ]
  },
  {
   "cell_type": "code",
   "execution_count": 0,
   "metadata": {
    "application/vnd.databricks.v1+cell": {
     "cellMetadata": {
      "byteLimit": 2048000,
      "rowLimit": 10000
     },
     "inputWidgets": {},
     "nuid": "4aa3c06f-9a2c-4469-93e6-626054d5a56a",
     "showTitle": false,
     "tableResultSettingsMap": {},
     "title": ""
    }
   },
   "outputs": [],
   "source": [
    "result_df.write.format(\"delta\").mode(\"append\").save(audit_path)"
   ]
  },
  {
   "cell_type": "code",
   "execution_count": 0,
   "metadata": {
    "application/vnd.databricks.v1+cell": {
     "cellMetadata": {
      "byteLimit": 2048000,
      "rowLimit": 10000
     },
     "inputWidgets": {},
     "nuid": "87b72610-b1b4-488d-bc99-bcea706c35d5",
     "showTitle": false,
     "tableResultSettingsMap": {},
     "title": ""
    }
   },
   "outputs": [],
   "source": [
    "successful_files =  result_df.filter(col(\"status\") == \"success\").count()\n",
    "failed_files =  result_df.filter(col(\"status\") == \"failure\").count()\n",
    "\n",
    "dbutils.notebook.exit({\"successful_files\": successful_files, \"failed_files\": failed_files})"
   ]
  },
  {
   "cell_type": "markdown",
   "metadata": {
    "application/vnd.databricks.v1+cell": {
     "cellMetadata": {},
     "inputWidgets": {},
     "nuid": "388dbe66-2e57-4a7b-acb8-4022c0543656",
     "showTitle": false,
     "tableResultSettingsMap": {},
     "title": ""
    }
   },
   "source": [
    "## Appendix"
   ]
  },
  {
   "cell_type": "code",
   "execution_count": 0,
   "metadata": {
    "application/vnd.databricks.v1+cell": {
     "cellMetadata": {
      "byteLimit": 2048000,
      "rowLimit": 10000
     },
     "inputWidgets": {},
     "nuid": "842332e1-349f-429b-89c2-45d0c34f7b31",
     "showTitle": false,
     "tableResultSettingsMap": {},
     "title": ""
    }
   },
   "outputs": [],
   "source": [
    "# dbutils.fs.ls(\"/mnt/dropzoneariatd/ARIATD/submission\")"
   ]
  },
  {
   "cell_type": "code",
   "execution_count": 0,
   "metadata": {
    "application/vnd.databricks.v1+cell": {
     "cellMetadata": {
      "byteLimit": 2048000,
      "rowLimit": 10000
     },
     "inputWidgets": {},
     "nuid": "757f2c8e-c06e-4421-813c-ab8c7af337d7",
     "showTitle": false,
     "tableResultSettingsMap": {},
     "title": ""
    }
   },
   "outputs": [],
   "source": [
    "# from pyspark.sql.functions import col, from_unixtime\n",
    "\n",
    "# files_df = spark.createDataFrame(dbutils.fs.ls(f\"{dropzone_mount}submission/\"))\n",
    "# files_df = files_df.withColumn(\"modificationTime\", from_unixtime(col(\"modificationTime\") / 1000).cast(\"timestamp\"))\n",
    "\n",
    "# display(files_df.orderBy(col(\"modificationTime\").desc()))"
   ]
  },
  {
   "cell_type": "code",
   "execution_count": 0,
   "metadata": {
    "application/vnd.databricks.v1+cell": {
     "cellMetadata": {
      "byteLimit": 2048000,
      "rowLimit": 10000
     },
     "inputWidgets": {},
     "nuid": "62f21d0b-7f5a-4be5-b590-4fa6993c18f5",
     "showTitle": false,
     "tableResultSettingsMap": {},
     "title": ""
    }
   },
   "outputs": [],
   "source": [
    "# json_count = files_df.filter(col(\"path\").endswith(\".json\")).count()\n",
    "# html_count = files_df.filter(col(\"path\").endswith(\".html\")).count()\n",
    "# a360_count = files_df.filter(col(\"path\").endswith(\".a360\")).count()\n",
    "\n",
    "# display(json_count)\n",
    "# display(html_count)\n",
    "# display(a360_count)"
   ]
  },
  {
   "cell_type": "code",
   "execution_count": 0,
   "metadata": {
    "application/vnd.databricks.v1+cell": {
     "cellMetadata": {
      "byteLimit": 2048000,
      "rowLimit": 10000
     },
     "inputWidgets": {},
     "nuid": "d3ed727c-17ed-40ef-bef0-875341ce2246",
     "showTitle": false,
     "tableResultSettingsMap": {},
     "title": ""
    }
   },
   "outputs": [],
   "source": [
    "# # Read and prepare data HTML files\n",
    "# t_json_mount = f'{dropzone_mount}response/'\n",
    "# t_binary_df = spark.read.format('binaryFile') \\\n",
    "#                      .option('pathGlobFilter', '*.rsp') \\\n",
    "#                      .option('recursiveFileLookup', 'true') \\\n",
    "#                      .load(t_json_mount)\n",
    " \n",
    " \n",
    " \n",
    "# t_html_df = t_binary_df.withColumn(\"content_str\", decode(col('content'), 'utf-8')) \\\n",
    "#                    .withColumn('file_path', element_at(split(col('path'), '/'), -1))\n",
    "# t_html_df = t_html_df.select('content_str','file_path')\n",
    " \n",
    "# display(t_html_df)"
   ]
  }
 ],
 "metadata": {
  "application/vnd.databricks.v1+notebook": {
   "computePreferences": null,
   "dashboards": [],
   "environmentMetadata": {
    "base_environment": "",
    "environment_version": "2"
   },
   "inputWidgetPreferences": null,
   "language": "python",
   "notebookMetadata": {
    "mostRecentlyExecutedCommandWithImplicitDF": {
     "commandId": 3483635658919412,
     "dataframes": [
      "_sqldf"
     ]
    },
    "pythonIndentUnit": 4
   },
   "notebookName": "ARIA_ADLS_TO_EVENTHUBS_GENRIC_TD",
   "widgets": {
    "audit_delta_path": {
     "currentValue": "/mnt/ingest00curatedsboxsilver/ARIADM/ARM/AUDIT/TD/td_cr_audit_table",
     "nuid": "bbf74cc7-6d43-4ff1-a71d-5e3c9c5db017",
     "typedWidgetInfo": {
      "autoCreated": false,
      "defaultValue": "/mnt/ingest00curatedsboxsilver/ARIADM/ARM/AUDIT/TD/td_cr_audit_table",
      "label": null,
      "name": "audit_delta_path",
      "options": {
       "widgetDisplayType": "Text",
       "validationRegex": null
      },
      "parameterDataType": "String"
     },
     "widgetInfo": {
      "widgetType": "text",
      "defaultValue": "/mnt/ingest00curatedsboxsilver/ARIADM/ARM/AUDIT/TD/td_cr_audit_table",
      "label": null,
      "name": "audit_delta_path",
      "options": {
       "widgetType": "text",
       "autoCreated": null,
       "validationRegex": null
      }
     }
    },
    "audit_path": {
     "currentValue": "/mnt/ingest00curatedsboxgold/ARIADM/ARM/AUDIT/APPEALS/ARIAFTA/td_pub_audit_db_eh",
     "nuid": "27468b16-e19c-4611-8213-2eb56614f2b1",
     "typedWidgetInfo": {
      "autoCreated": false,
      "defaultValue": "/mnt/ingest00curatedsboxsilver/ARIADM/ARM/AUDIT/TD/td_pub_audit_db_eh",
      "label": null,
      "name": "audit_path",
      "options": {
       "widgetDisplayType": "Dropdown",
       "choices": [
        "/mnt/ingest00curatedsboxsilver/ARIADM/ARM/AUDIT/TD/td_pub_audit_db_eh"
       ],
       "fixedDomain": true,
       "multiselect": false
      },
      "parameterDataType": "String"
     },
     "widgetInfo": {
      "widgetType": "dropdown",
      "defaultValue": "/mnt/ingest00curatedsboxsilver/ARIADM/ARM/AUDIT/TD/td_pub_audit_db_eh",
      "label": null,
      "name": "audit_path",
      "options": {
       "widgetType": "dropdown",
       "autoCreated": null,
       "choices": [
        "/mnt/ingest00curatedsboxsilver/ARIADM/ARM/AUDIT/TD/td_pub_audit_db_eh"
       ]
      }
     }
    },
    "dropzone_mount": {
     "currentValue": "/mnt/dropzoneariatd/TD/",
     "nuid": "788428df-6ccb-449a-be16-794138bef528",
     "typedWidgetInfo": {
      "autoCreated": false,
      "defaultValue": "/mnt/dropzoneariatd/TD/",
      "label": null,
      "name": "dropzone_mount",
      "options": {
       "widgetDisplayType": "Dropdown",
       "choices": [
        "/mnt/dropzoneariatd/TD/",
        "/mnt/dropzoneariatjr/ARIAJR/",
        "/mnt/dropzoneariafta/ARIAFTA/",
        "/mnt/dropzoneariauta/ARIAUTA/",
        "/mnt/dropzoneariab/ARIAB/",
        "/mnt/dropzoneariasb/ARIASB/"
       ],
       "fixedDomain": true,
       "multiselect": false
      },
      "parameterDataType": "String"
     },
     "widgetInfo": {
      "widgetType": "dropdown",
      "defaultValue": "/mnt/dropzoneariatd/TD/",
      "label": null,
      "name": "dropzone_mount",
      "options": {
       "widgetType": "dropdown",
       "autoCreated": null,
       "choices": [
        "/mnt/dropzoneariatd/TD/",
        "/mnt/dropzoneariatjr/ARIAJR/",
        "/mnt/dropzoneariafta/ARIAFTA/",
        "/mnt/dropzoneariauta/ARIAUTA/",
        "/mnt/dropzoneariab/ARIAB/",
        "/mnt/dropzoneariasb/ARIASB/"
       ]
      }
     }
    },
    "file_types": {
     "currentValue": "html,json",
     "nuid": "49d0899b-cb27-4100-97ce-0f67c366922d",
     "typedWidgetInfo": {
      "autoCreated": false,
      "defaultValue": "html,json",
      "label": null,
      "name": "file_types",
      "options": {
       "widgetDisplayType": "Dropdown",
       "choices": [
        "html,json",
        "a360"
       ],
       "fixedDomain": true,
       "multiselect": false
      },
      "parameterDataType": "String"
     },
     "widgetInfo": {
      "widgetType": "dropdown",
      "defaultValue": "html,json",
      "label": null,
      "name": "file_types",
      "options": {
       "widgetType": "dropdown",
       "autoCreated": null,
       "choices": [
        "html,json",
        "a360"
       ]
      }
     }
    },
    "gold_mount": {
     "currentValue": "/mnt/ingest00curatedsboxgold/ARIADM/ARM/TD/",
     "nuid": "14d8662e-0f83-4973-85cf-7f98d82af90a",
     "typedWidgetInfo": {
      "autoCreated": false,
      "defaultValue": "/mnt/ingest00curatedsboxgold/ARIADM/ARM/TD/",
      "label": null,
      "name": "gold_mount",
      "options": {
       "widgetDisplayType": "Dropdown",
       "choices": [
        "/mnt/ingest00curatedsboxgold/ARIADM/ARM/TD/",
        "/mnt/ingest00curatedsboxgold/ARIADM/ARM/ARIAJR/",
        "/mnt/ingest00curatedsboxgold/ARIADM/ARM/ARIAFTA/",
        "/mnt/ingest00curatedsboxgold/ARIADM/ARM/ARIAUTA/",
        "/mnt/ingest00curatedsboxgold/ARIADM/ARM/ARIAB/",
        "/mnt/ingest00curatedsboxgold/ARIADM/ARM/ARIASB/",
        "/mnt/ingest00curatedsboxgold/ARIADM/ARM/APPEALS/"
       ],
       "fixedDomain": true,
       "multiselect": false
      },
      "parameterDataType": "String"
     },
     "widgetInfo": {
      "widgetType": "dropdown",
      "defaultValue": "/mnt/ingest00curatedsboxgold/ARIADM/ARM/TD/",
      "label": null,
      "name": "gold_mount",
      "options": {
       "widgetType": "dropdown",
       "autoCreated": null,
       "choices": [
        "/mnt/ingest00curatedsboxgold/ARIADM/ARM/TD/",
        "/mnt/ingest00curatedsboxgold/ARIADM/ARM/ARIAJR/",
        "/mnt/ingest00curatedsboxgold/ARIADM/ARM/ARIAFTA/",
        "/mnt/ingest00curatedsboxgold/ARIADM/ARM/ARIAUTA/",
        "/mnt/ingest00curatedsboxgold/ARIADM/ARM/ARIAB/",
        "/mnt/ingest00curatedsboxgold/ARIADM/ARM/ARIASB/",
        "/mnt/ingest00curatedsboxgold/ARIADM/ARM/APPEALS/"
       ]
      }
     }
    },
    "topic": {
     "currentValue": "evh-td-pub-dev-uks-dlrm-01",
     "nuid": "84ac1549-3032-40dd-a3b4-c82cd107f4d4",
     "typedWidgetInfo": {
      "autoCreated": false,
      "defaultValue": "evh-td-pub-dev-uks-dlrm-01",
      "label": null,
      "name": "topic",
      "options": {
       "widgetDisplayType": "Dropdown",
       "choices": [
        "evh-td-pub-dev-uks-dlrm-01",
        "evh-joh-pub-dev-uks-dlrm-01",
        "evh-apl-pub-dev-uks-dlrm-01",
        "evh-bl-pub-dev-uks-dlrm-01"
       ],
       "fixedDomain": true,
       "multiselect": false
      },
      "parameterDataType": "String"
     },
     "widgetInfo": {
      "widgetType": "dropdown",
      "defaultValue": "evh-td-pub-dev-uks-dlrm-01",
      "label": null,
      "name": "topic",
      "options": {
       "widgetType": "dropdown",
       "autoCreated": null,
       "choices": [
        "evh-td-pub-dev-uks-dlrm-01",
        "evh-joh-pub-dev-uks-dlrm-01",
        "evh-apl-pub-dev-uks-dlrm-01",
        "evh-bl-pub-dev-uks-dlrm-01"
       ]
      }
     }
    }
   }
  },
  "language_info": {
   "name": "python"
  }
 },
 "nbformat": 4,
 "nbformat_minor": 0
}
