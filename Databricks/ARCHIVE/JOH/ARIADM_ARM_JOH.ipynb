{
 "cells": [
  {
   "cell_type": "markdown",
   "metadata": {
    "application/vnd.databricks.v1+cell": {
     "cellMetadata": {
      "byteLimit": 2048000,
      "rowLimit": 10000
     },
     "inputWidgets": {},
     "nuid": "7796493c-6498-4264-8903-a66e404172ec",
     "showTitle": false,
     "tableResultSettingsMap": {},
     "title": ""
    }
   },
   "source": [
    "# Judicial Office Holder Archive\n",
    "<table style = 'float:left;'>\n",
    "   <tbody>\n",
    "      <tr>\n",
    "         <td style='text-align: left; '><b>Name: </b></td>\n",
    "         <td>ARIADM_ARM_JOH</td>\n",
    "      </tr>\n",
    "      <tr>\n",
    "         <td style='text-align: left; '><b>Description: </b></td>\n",
    "         <td>Notebook to generate a set of HTML, JSON, and A360 files, each representing the data about judges stored in ARIA.</td>\n",
    "      </tr>\n",
    "      <tr>\n",
    "         <td style='text-align: left; '><b>First Created: </b></td>\n",
    "         <td>Sep-2024 </td>\n",
    "      </tr>\n",
    "      <tr>\n",
    "         <th style='text-align: left; '><b>Changelog(JIRA ref/initials./date):</b></th>\n",
    "         <th>Comments </th>\n",
    "      </tr>\n",
    "      <tr>\n",
    "         <td style='text-align: left; '><a href=\"https://tools.hmcts.net/jira/browse/ARIADM-95\">ARIADM-95</a>/NSA/SEP-2024</td>\n",
    "         <td>JOH :Compete Landing to Bronze Notebook</td>\n",
    "      </tr>\n",
    "      <tr>\n",
    "         <td style='text-align: left; '><a href=\"https://tools.hmcts.net/jira/browse/ARIADM-97\">ARIADM-97</a>/NSA/SEP-2024</td>\n",
    "         <td>JOH: Create Silver and gold HTML outputs: </td>\n",
    "      </tr>\n",
    "      <tr>\n",
    "         <td style='text-align: left; '><a href=\"https://tools.hmcts.net/jira/browse/ARIADM-123\">ARIADM-123</a>/NSA/SEP-2024</td>\n",
    "         <td>JOH: Create Gold outputs- Json and A360</td>\n",
    "      </tr>\n",
    "      <tr>\n",
    "    <td style='text-align: left; '><a href=\"https://tools.hmcts.net/jira/browse/ARIADM-130\">ARIADM-130</a>/NSA/-07-OCT-2024</td>\n",
    "    <td>JOH: Tune Performance, Refactor Code for Reusability, Manage Broadcast Effectively, Implement Repartitioning Strategy</td>\n",
    "</tr>\n",
    "\n",
    "    \n",
    "   </tbody>\n",
    "</table>"
   ]
  },
  {
   "cell_type": "markdown",
   "metadata": {
    "application/vnd.databricks.v1+cell": {
     "cellMetadata": {
      "byteLimit": 2048000,
      "rowLimit": 10000
     },
     "inputWidgets": {},
     "nuid": "ec266b71-1e36-457c-96b0-a07007a8b326",
     "showTitle": false,
     "tableResultSettingsMap": {},
     "title": ""
    }
   },
   "source": [
    "### Import packages"
   ]
  },
  {
   "cell_type": "code",
   "execution_count": 0,
   "metadata": {
    "application/vnd.databricks.v1+cell": {
     "cellMetadata": {
      "byteLimit": 2048000,
      "rowLimit": 10000
     },
     "inputWidgets": {},
     "nuid": "d0de1b19-39a0-495a-ae9f-61b039c6c8bd",
     "showTitle": false,
     "tableResultSettingsMap": {},
     "title": ""
    }
   },
   "outputs": [],
   "source": [
    "pip install azure-storage-blob"
   ]
  },
  {
   "cell_type": "code",
   "execution_count": 0,
   "metadata": {
    "application/vnd.databricks.v1+cell": {
     "cellMetadata": {
      "byteLimit": 2048000,
      "rowLimit": 10000
     },
     "inputWidgets": {},
     "nuid": "159c27d4-4420-435d-871a-01cc8175a53e",
     "showTitle": false,
     "tableResultSettingsMap": {},
     "title": ""
    }
   },
   "outputs": [],
   "source": [
    "import dlt\n",
    "import json\n",
    "from pyspark.sql.functions import when, col,coalesce, current_timestamp, lit, date_format\n",
    "from pyspark.sql.functions import *\n",
    "from pyspark.sql.types import *\n",
    "from concurrent.futures import ThreadPoolExecutor, as_completed\n",
    "from datetime import datetime"
   ]
  },
  {
   "cell_type": "code",
   "execution_count": 0,
   "metadata": {
    "application/vnd.databricks.v1+cell": {
     "cellMetadata": {
      "byteLimit": 2048000,
      "rowLimit": 10000
     },
     "inputWidgets": {},
     "nuid": "21b09fa2-f560-49e2-9325-1b3f437e4f9d",
     "showTitle": false,
     "tableResultSettingsMap": {},
     "title": ""
    }
   },
   "outputs": [],
   "source": [
    "spark.conf.set(\"spark.databricks.delta.schema.autoMerge.enabled\", \"true\")\n",
    "spark.conf.set(\"pipelines.tableManagedByMultiplePipelinesCheck.enabled\", \"false\")"
   ]
  },
  {
   "cell_type": "code",
   "execution_count": 0,
   "metadata": {
    "application/vnd.databricks.v1+cell": {
     "cellMetadata": {
      "byteLimit": 2048000,
      "rowLimit": 10000
     },
     "inputWidgets": {},
     "nuid": "8e6fb7cc-140f-4bb5-ab52-34111f9003e8",
     "showTitle": false,
     "tableResultSettingsMap": {},
     "title": ""
    }
   },
   "outputs": [],
   "source": [
    "read_hive = False\n",
    "\n",
    "# Setting variables for use in subsequent cells\n",
    "raw_mnt = \"/mnt/ingest00rawsboxraw/ARIADM/ARM/JOH/test\"\n",
    "landing_mnt = \"/mnt/ingest00landingsboxlanding/test\"\n",
    "bronze_mnt = \"/mnt/ingest00curatedsboxbronze/ARIADM/ARM/JOH/test\"\n",
    "silver_mnt = \"/mnt/ingest00curatedsboxsilver/ARIADM/ARM/JOH/test\"\n",
    "gold_mnt = \"/mnt/ingest00curatedsboxgold/ARIADM/ARM/JOH/test\"\n",
    "gold_outputs = \"ARIADM/ARM/JOH/test\"\n",
    "hive_schema = \"ariadm_arm_joh_test\""
   ]
  },
  {
   "cell_type": "markdown",
   "metadata": {
    "application/vnd.databricks.v1+cell": {
     "cellMetadata": {
      "byteLimit": 2048000,
      "rowLimit": 10000
     },
     "inputWidgets": {},
     "nuid": "b51d8cb5-117a-47f9-9cef-228a9c5a7c91",
     "showTitle": false,
     "tableResultSettingsMap": {},
     "title": ""
    }
   },
   "source": [
    "## Set Variables"
   ]
  },
  {
   "cell_type": "markdown",
   "metadata": {
    "application/vnd.databricks.v1+cell": {
     "cellMetadata": {
      "byteLimit": 2048000,
      "rowLimit": 10000
     },
     "inputWidgets": {},
     "nuid": "bde73884-96a2-41a6-ac42-26183b2867fb",
     "showTitle": false,
     "tableResultSettingsMap": {},
     "title": ""
    }
   },
   "source": [
    "Please note that running the DLT pipeline with the parameter `initial_load = true` will ensure the creation of the corresponding Hive tables. However, during this stage, none of the gold outputs (HTML, JSON, and A360) are processed. To generate the gold outputs, a secondary run with `initial_load = true` is required."
   ]
  },
  {
   "cell_type": "code",
   "execution_count": 0,
   "metadata": {
    "application/vnd.databricks.v1+cell": {
     "cellMetadata": {
      "byteLimit": 2048000,
      "rowLimit": 10000
     },
     "inputWidgets": {},
     "nuid": "89bb0dbf-8c10-4f88-8863-ebee3c300daf",
     "showTitle": false,
     "tableResultSettingsMap": {},
     "title": ""
    }
   },
   "outputs": [],
   "source": [
    "# dbutils.widgets.text(\"initial_Load\", \"False\")\n",
    "# dbutils.widgets.text(\"raw_mnt\", \"/mnt/ingest00rawsboxraw/ARIADM/ARM/JOH/test\")\n",
    "# dbutils.widgets.text(\"landing_mnt\", \"/mnt/ingest00landingsboxlanding/test\")\n",
    "# dbutils.widgets.text(\"bronze_mnt\", \"/mnt/ingest00curatedsboxbronze/ARIADM/ARM/JOH/test\")\n",
    "# dbutils.widgets.text(\"silver_mnt\", \"/mnt/ingest00curatedsboxsilver/ARIADM/ARM/JOH/test\")\n",
    "# dbutils.widgets.text(\"gold_mnt\", \"/mnt/ingest00curatedsboxgold/ARIADM/ARM/JOH/test\")\n",
    "# dbutils.widgets.text(\"gold_outputs\", \"ARIADM/ARM/JOH/test\")  # Path for gold output files in gold container\n",
    "# dbutils.widgets.text(\"hive_schema\", \"ariadm_arm_joh_test\")  # SchemaName\n",
    "\n",
    "# initial_Load = dbutils.widgets.get(\"initial_Load\") \n",
    "# raw_mnt = dbutils.widgets.get(\"raw_mnt\")\n",
    "# landing_mnt = dbutils.widgets.get(\"landing_mnt\")\n",
    "# bronze_mnt = dbutils.widgets.get(\"bronze_mnt\")\n",
    "# silver_mnt = dbutils.widgets.get(\"silver_mnt\")\n",
    "# gold_mnt = dbutils.widgets.get(\"gold_mnt\")\n",
    "# gold_outputs = dbutils.widgets.get(\"gold_outputs\")\n",
    "# hive_schema = dbutils.widgets.get(\"hive_schema\")\n"
   ]
  },
  {
   "cell_type": "markdown",
   "metadata": {
    "application/vnd.databricks.v1+cell": {
     "cellMetadata": {
      "byteLimit": 2048000,
      "rowLimit": 10000
     },
     "inputWidgets": {},
     "nuid": "9b492bb4-08d9-4314-a3f5-2695fdc7ee85",
     "showTitle": false,
     "tableResultSettingsMap": {},
     "title": ""
    }
   },
   "source": [
    "## Functions to Read Latest Landing Files"
   ]
  },
  {
   "cell_type": "code",
   "execution_count": 0,
   "metadata": {
    "application/vnd.databricks.v1+cell": {
     "cellMetadata": {
      "byteLimit": 2048000,
      "rowLimit": 10000
     },
     "inputWidgets": {},
     "nuid": "338bf5c0-769f-44af-be06-83aed12aea2e",
     "showTitle": false,
     "tableResultSettingsMap": {},
     "title": ""
    }
   },
   "outputs": [],
   "source": [
    "\n",
    "# Function to recursively list all files in the ADLS directory\n",
    "def deep_ls(path: str, depth: int = 0, max_depth: int = 10) -> list:\n",
    "    \"\"\"\n",
    "    Recursively list all files and directories in ADLS directory.\n",
    "    Returns a list of all paths found.\n",
    "    \"\"\"\n",
    "    output = set()  # Using a set to avoid duplicates\n",
    "    if depth > max_depth:\n",
    "        return list(output)\n",
    "\n",
    "    try:\n",
    "        children = dbutils.fs.ls(path)\n",
    "        for child in children:\n",
    "            if child.path.endswith(\".parquet\"):\n",
    "                output.add(child.path.strip())  # Add only .parquet files to the set\n",
    "\n",
    "            if child.isDir:\n",
    "                output.update(deep_ls(child.path, depth=depth + 1, max_depth=max_depth))\n",
    "\n",
    "    except Exception as e:\n",
    "        print(f\"Error accessing {path}: {e}\")\n",
    "\n",
    "    return list(output)\n",
    "\n",
    "# Main function to read the latest parquet file, add audit columns, and return the DataFrame\n",
    "def read_latest_parquet(folder_name: str, view_name: str, process_name: str, base_path: str = f\"{landing_mnt}/\") -> \"DataFrame\":\n",
    "    \"\"\"\n",
    "    Reads the latest .parquet file from a specified folder, adds audit columns, creates a temporary Spark view, and returns the DataFrame.\n",
    "    \n",
    "    Parameters:\n",
    "    - folder_name (str): The name of the folder to look for the .parquet files (e.g., \"AdjudicatorRole\").\n",
    "    - view_name (str): The name of the temporary view to create (e.g., \"tv_AdjudicatorRole\").\n",
    "    - process_name (str): The name of the process adding the audit information (e.g., \"ARIA_ARM_JOH\").\n",
    "    - base_path (str): The base path for the folders in the data lake.\n",
    "    \n",
    "    Returns:\n",
    "    - DataFrame: The DataFrame created from the latest .parquet file with added audit columns.\n",
    "    \"\"\"\n",
    "    # Construct the full folder path\n",
    "    folder_path = f\"{base_path}{folder_name}/full/\"\n",
    "    \n",
    "    # List all .parquet files in the folder\n",
    "    all_files = deep_ls(folder_path)\n",
    "    \n",
    "    # Check if files were found\n",
    "    if not all_files:\n",
    "        print(f\"No .parquet files found in {folder_path}\")\n",
    "        return None\n",
    "\n",
    "    # Create a DataFrame from the file paths\n",
    "    file_df = spark.createDataFrame([(f,) for f in all_files], [\"file_path\"])\n",
    "    \n",
    "    # Extract timestamp from the file name using a regex pattern (assuming it's the last underscore-separated part before \".parquet\")\n",
    "    file_df = file_df.withColumn(\"timestamp\", regexp_extract(\"file_path\", r\"_(\\d+)\\.parquet$\", 1).cast(\"long\"))\n",
    "    \n",
    "    # Find the maximum timestamp\n",
    "    max_timestamp = file_df.agg(max(\"timestamp\")).collect()[0][0]\n",
    "    \n",
    "    # Filter to get the file with the maximum timestamp\n",
    "    latest_file_df = file_df.filter(col(\"timestamp\") == max_timestamp)\n",
    "    latest_file = latest_file_df.first()[\"file_path\"]\n",
    "    \n",
    "    # Print the latest file being loaded for logging purposes\n",
    "    print(f\"Reading latest file: {latest_file}\")\n",
    "    \n",
    "    # Read the latest .parquet file into a DataFrame\n",
    "    df = spark.read.option(\"inferSchema\", \"true\").parquet(latest_file)\n",
    "    \n",
    "    # Add audit columns\n",
    "    df = df.withColumn(\"AdtclmnFirstCreatedDatetime\", current_timestamp()) \\\n",
    "           .withColumn(\"AdtclmnModifiedDatetime\", current_timestamp()) \\\n",
    "           .withColumn(\"SourceFileName\", lit(latest_file)) \\\n",
    "           .withColumn(\"InsertedByProcessName\", lit(process_name))\n",
    "    \n",
    "    # Create or replace a temporary view\n",
    "    df.createOrReplaceTempView(view_name)\n",
    "    \n",
    "    print(f\"Loaded the latest file for {folder_name} into view {view_name} with audit columns\")\n",
    "    \n",
    "    # Return the DataFrame\n",
    "    return df\n"
   ]
  },
  {
   "cell_type": "markdown",
   "metadata": {
    "application/vnd.databricks.v1+cell": {
     "cellMetadata": {
      "byteLimit": 2048000,
      "rowLimit": 10000
     },
     "inputWidgets": {},
     "nuid": "774cc0cd-06d4-436f-b682-66588f90eb33",
     "showTitle": false,
     "tableResultSettingsMap": {},
     "title": ""
    }
   },
   "source": [
    "## Raw DLT Tables Creation"
   ]
  },
  {
   "cell_type": "code",
   "execution_count": 0,
   "metadata": {
    "application/vnd.databricks.v1+cell": {
     "cellMetadata": {
      "byteLimit": 2048000,
      "rowLimit": 10000
     },
     "inputWidgets": {},
     "nuid": "2c47884f-153f-4ad6-8bd5-8a72abc3023d",
     "showTitle": false,
     "tableResultSettingsMap": {},
     "title": ""
    }
   },
   "outputs": [],
   "source": [
    "@dlt.table(\n",
    "    name=\"raw_adjudicatorrole\",\n",
    "    comment=\"Delta Live Table ARIA AdjudicatorRole.\",\n",
    "    path=f\"{raw_mnt}/Raw_AdjudicatorRole\"\n",
    ")\n",
    "def Raw_AdjudicatorRole():\n",
    "    return read_latest_parquet(\"AdjudicatorRole\", \"tv_AdjudicatorRole\", \"ARIA_ARM_JOH_ARA\")\n",
    "\n",
    "\n",
    "@dlt.table(\n",
    "    name=\"raw_adjudicator\",\n",
    "    comment=\"Delta Live Table ARIA Adjudicator.\",\n",
    "    path=f\"{raw_mnt}/Raw_Adjudicator\"\n",
    ")\n",
    "def Raw_Adjudicator():\n",
    "    return read_latest_parquet(\"Adjudicator\", \"tv_Adjudicator\", \"ARIA_ARM_JOH_ARA\")\n",
    "\n",
    "\n",
    "@dlt.table(\n",
    "    name=\"raw_employmentterm\",\n",
    "    comment=\"Delta Live Table ARIA EmploymentTerm.\",\n",
    "    path=f\"{raw_mnt}/Raw_EmploymentTerm\"\n",
    ")\n",
    "def Raw_EmploymentTerm():\n",
    "     return read_latest_parquet(\"ARIAEmploymentTerm\", \"tv_EmploymentTerm\", \"ARIA_ARM_JOH_ARA\")\n",
    "\n",
    "\n",
    "@dlt.table(\n",
    "    name=\"raw_donotusereason\",\n",
    "    comment=\"Delta Live Table ARIA DoNotUseReason.\",\n",
    "    path=f\"{raw_mnt}/Raw_DoNotUseReason\"\n",
    ")\n",
    "def Raw_DoNotUseReason():\n",
    "    return read_latest_parquet(\"DoNotUseReason\", \"tv_DoNotUseReason\", \"ARIA_ARM_JOH_ARA\")\n",
    "\n",
    "\n",
    "@dlt.table(\n",
    "    name=\"raw_johistory\",\n",
    "    comment=\"Delta Live Table ARIA JoHistory.\",\n",
    "    path=f\"{raw_mnt}/Raw_JoHistory\"\n",
    ")\n",
    "def Raw_JoHistory():\n",
    "    return read_latest_parquet(\"JoHistory\", \"tv_JoHistory\", \"ARIA_ARM_JOH_ARA\")\n",
    "\n",
    "\n",
    "@dlt.table(\n",
    "    name=\"raw_othercentre\",\n",
    "    comment=\"Delta Live Table ARIA OtherCentre.\",\n",
    "    path=f\"{raw_mnt}/Raw_OtherCentre\"\n",
    ")\n",
    "def Raw_OtherCentre():\n",
    "    return read_latest_parquet(\"OtherCentre\", \"tv_OtherCentre\", \"ARIA_ARM_JOH_ARA\")\n",
    "\n",
    "\n",
    "@dlt.table(\n",
    "    name=\"raw_hearingcentre\",\n",
    "    comment=\"Delta Live Table ARIA HearingCentre.\",\n",
    "    path=f\"{raw_mnt}/Raw_HearingCentre\"\n",
    ")\n",
    "def Raw_HearingCentre():\n",
    "    return read_latest_parquet(\"ARIAHearingCentre\", \"tv_HearingCentre\", \"ARIA_ARM_JOH_ARA\")\n",
    "\n",
    "\n",
    "@dlt.table(\n",
    "    name=\"raw_users\",\n",
    "    comment=\"Delta Live Table ARIA Users.\",\n",
    "    path=f\"{raw_mnt}/Raw_Users\"\n",
    ")\n",
    "def Raw_Users():\n",
    "    return read_latest_parquet(\"Users\", \"tv_Users\", \"ARIA_ARM_JOH_ARA\")\n"
   ]
  },
  {
   "cell_type": "markdown",
   "metadata": {
    "application/vnd.databricks.v1+cell": {
     "cellMetadata": {
      "byteLimit": 2048000,
      "rowLimit": 10000
     },
     "inputWidgets": {},
     "nuid": "aecad692-7090-42b4-a8b0-663120619768",
     "showTitle": false,
     "tableResultSettingsMap": {},
     "title": ""
    }
   },
   "source": [
    "## Bronze DLT Tables Creation"
   ]
  },
  {
   "cell_type": "markdown",
   "metadata": {
    "application/vnd.databricks.v1+cell": {
     "cellMetadata": {
      "byteLimit": 2048000,
      "rowLimit": 10000
     },
     "inputWidgets": {},
     "nuid": "94cba7e3-936a-4d76-807b-6363274e688a",
     "showTitle": false,
     "tableResultSettingsMap": {},
     "title": ""
    }
   },
   "source": [
    "### Transformation bronze_adjudicator_et_hc_dnur"
   ]
  },
  {
   "cell_type": "markdown",
   "metadata": {
    "application/vnd.databricks.v1+cell": {
     "cellMetadata": {
      "byteLimit": 2048000,
      "rowLimit": 10000
     },
     "inputWidgets": {},
     "nuid": "a80d412e-83e0-4f9f-9c0f-7fc495da7137",
     "showTitle": false,
     "tableResultSettingsMap": {},
     "title": ""
    }
   },
   "source": [
    "```sql\n",
    "SELECT adj.AdjudicatorId, \n",
    "  adj.Surname, \n",
    "       adj.Forenames, \n",
    "       adj.Title, \n",
    "       adj.DateOfBirth, \n",
    "       adj.CorrespondenceAddress, \n",
    "       adj.ContactTelephone, \n",
    "       adj.ContactDetails, \n",
    "       adj.AvailableAtShortNotice, \n",
    "       hc.Description as DesignatedCentre, \n",
    "       et.Description as EmploymentTerms, \n",
    "       adj.FullTime, \n",
    "       adj.IdentityNumber, \n",
    "       adj.DateOfRetirement, \n",
    "       adj.ContractEndDate, \n",
    "       adj.ContractRenewalDate, \n",
    "       dnur.DoNotUse, \n",
    "       dnur.Description as DoNotUseReason, \n",
    "       adj.JudicialStatus, \n",
    "       adj.Address1, \n",
    "       adj.Address2, \n",
    "       adj.Address3, \n",
    "       adj.Address4, \n",
    "       adj.Address5, \n",
    "       adj.Postcode, \n",
    "       adj.Telephone, \n",
    "       adj.Mobile, \n",
    "       adj.Email, \n",
    "       adj.BusinessAddress1, \n",
    "       adj.BusinessAddress2, \n",
    "       adj.BusinessAddress3, \n",
    "       adj.BusinessAddress4, \n",
    "       adj.BusinessAddress5, \n",
    "       adj.BusinessPostcode, \n",
    "       adj.BusinessTelephone, \n",
    "       adj.BusinessFax, \n",
    "       adj.BusinessEmail, \n",
    "       adj.JudicialInstructions, \n",
    "       adj.JudicialInstructionsDate, \n",
    "       adj.Notes \n",
    "FROM [ARIAREPORTS].[dbo].[Adjudicator] adj \n",
    "    LEFT OUTER JOIN [ARIAREPORTS].[dbo].[HearingCentre] hc \n",
    "        ON adj.CentreId = hc.CentreId \n",
    "    LEFT OUTER JOIN [ARIAREPORTS].[dbo].[EmploymentTerm] et \n",
    "        ON adj.EmploymentTerms = et.EmploymentTermId \n",
    "    LEFT OUTER JOIN [ARIAREPORTS].[dbo].[DoNotUseReason] dnur \n",
    "        ON adj.DoNotUseReason = dnur.DoNotUseReasonId \n",
    "```"
   ]
  },
  {
   "cell_type": "code",
   "execution_count": 0,
   "metadata": {
    "application/vnd.databricks.v1+cell": {
     "cellMetadata": {
      "byteLimit": 2048000,
      "rowLimit": 10000
     },
     "inputWidgets": {},
     "nuid": "754a0c11-3f41-4efb-8de1-059dc50c7507",
     "showTitle": false,
     "tableResultSettingsMap": {},
     "title": ""
    }
   },
   "outputs": [],
   "source": [
    "from pyspark.sql.functions import col\n",
    "\n",
    "@dlt.table(\n",
    "    name=\"bronze_adjudicator_et_hc_dnur\",\n",
    "    comment=\"Delta Live Table combining Adjudicator data with Hearing Centre, Employment Terms, and Do Not Use Reason.\",\n",
    "    path=f\"{bronze_mnt}/bronze_adjudicator_et_hc_dnur\"\n",
    ")\n",
    "def bronze_adjudicator_et_hc_dnur():\n",
    "    return (\n",
    "        dlt.read(\"raw_adjudicator\").alias(\"adj\")\n",
    "            .join(\n",
    "                dlt.read(\"raw_hearingcentre\").alias(\"hc\"),\n",
    "                col(\"adj.CentreId\") == col(\"hc.CentreId\"),\n",
    "                \"left_outer\",\n",
    "            )\n",
    "            .join(\n",
    "                dlt.read(\"raw_employmentterm\").alias(\"et\"),\n",
    "                col(\"adj.EmploymentTerms\") == col(\"et.EmploymentTermId\"),\n",
    "                \"left_outer\",\n",
    "            )\n",
    "            .join(\n",
    "                dlt.read(\"raw_donotusereason\").alias(\"dnur\"),\n",
    "                col(\"adj.DoNotUseReason\") == col(\"dnur.DoNotUseReasonId\"),\n",
    "                \"left_outer\",\n",
    "            )\n",
    "        .select(\n",
    "            col(\"adj.AdjudicatorId\"),\n",
    "            col(\"adj.Surname\"),\n",
    "            col(\"adj.Forenames\"),\n",
    "            col(\"adj.Title\"),\n",
    "            col(\"adj.DateOfBirth\"),\n",
    "            col(\"adj.CorrespondenceAddress\"),\n",
    "            col(\"adj.ContactTelephone\"),\n",
    "            col(\"adj.ContactDetails\"),\n",
    "            col(\"adj.AvailableAtShortNotice\"),\n",
    "            col(\"hc.Description\").alias(\"DesignatedCentre\"),\n",
    "            col(\"et.Description\").alias(\"EmploymentTerm\"),\n",
    "            col(\"adj.FullTime\"),\n",
    "            col(\"adj.IdentityNumber\"),\n",
    "            col(\"adj.DateOfRetirement\"),\n",
    "            col(\"adj.ContractEndDate\"),\n",
    "            col(\"adj.ContractRenewalDate\"),\n",
    "            col(\"dnur.DoNotUse\"),\n",
    "            col(\"dnur.Description\").alias(\"DoNotUseReason\"),\n",
    "            col(\"adj.JudicialStatus\"),\n",
    "            col(\"adj.Address1\"),\n",
    "            col(\"adj.Address2\"),\n",
    "            col(\"adj.Address3\"),\n",
    "            col(\"adj.Address4\"),\n",
    "            col(\"adj.Address5\"),\n",
    "            col(\"adj.Postcode\"),\n",
    "            col(\"adj.Telephone\"),\n",
    "            col(\"adj.Mobile\"),\n",
    "            col(\"adj.Email\"),\n",
    "            col(\"adj.BusinessAddress1\"),\n",
    "            col(\"adj.BusinessAddress2\"),\n",
    "            col(\"adj.BusinessAddress3\"),\n",
    "            col(\"adj.BusinessAddress4\"),\n",
    "            col(\"adj.BusinessAddress5\"),\n",
    "            col(\"adj.BusinessPostcode\"),\n",
    "            col(\"adj.BusinessTelephone\"),\n",
    "            col(\"adj.BusinessFax\"),\n",
    "            col(\"adj.BusinessEmail\"),\n",
    "            col(\"adj.JudicialInstructions\"),\n",
    "            col(\"adj.JudicialInstructionsDate\"),\n",
    "            col(\"adj.Notes\"),\n",
    "            col(\"adj.AdtclmnFirstCreatedDatetime\"),\n",
    "            col(\"adj.AdtclmnModifiedDatetime\"),\n",
    "            col(\"adj.SourceFileName\"),\n",
    "            col(\"adj.InsertedByProcessName\")\n",
    "        )\n",
    "    )"
   ]
  },
  {
   "cell_type": "markdown",
   "metadata": {
    "application/vnd.databricks.v1+cell": {
     "cellMetadata": {
      "byteLimit": 2048000,
      "rowLimit": 10000
     },
     "inputWidgets": {},
     "nuid": "b1b4bc75-286b-4243-a7d4-ca5bc0bf0e22",
     "showTitle": false,
     "tableResultSettingsMap": {},
     "title": ""
    }
   },
   "source": [
    "### Transformation  bronze_johistory_users "
   ]
  },
  {
   "cell_type": "markdown",
   "metadata": {
    "application/vnd.databricks.v1+cell": {
     "cellMetadata": {
      "byteLimit": 2048000,
      "rowLimit": 10000
     },
     "inputWidgets": {},
     "nuid": "145f0bb7-8ce3-4007-a5f2-0cb4b61ca6a6",
     "showTitle": false,
     "tableResultSettingsMap": {},
     "title": ""
    }
   },
   "source": [
    "```sql\n",
    "SELECT jh.AdjudicatorId, \n",
    "       jh.HistDate, \n",
    "       jh.HistType, \n",
    "       u.FullName as UserName, \n",
    "       jh.Comment \n",
    "FROM [ARIAREPORTS].[dbo].[JoHistory] jh \n",
    "    LEFT OUTER JOIN [ARIAREPORTS].[dbo].[Users] u \n",
    "        ON jh.UserId = u.UserId \n",
    "```"
   ]
  },
  {
   "cell_type": "code",
   "execution_count": 0,
   "metadata": {
    "application/vnd.databricks.v1+cell": {
     "cellMetadata": {
      "byteLimit": 2048000,
      "rowLimit": 10000
     },
     "inputWidgets": {},
     "nuid": "3ce7059e-9381-4a9c-a777-2b150cad4241",
     "showTitle": false,
     "tableResultSettingsMap": {},
     "title": ""
    }
   },
   "outputs": [],
   "source": [
    "@dlt.table(\n",
    "    name=\"bronze_johistory_users\",\n",
    "    comment=\"Delta Live Table combining JoHistory data with Users information.\",\n",
    "    path=f\"{bronze_mnt}/bronze_johistory_users\" \n",
    ")\n",
    "def bronze_johistory_users():\n",
    "    return (\n",
    "        dlt.read(\"raw_johistory\").alias(\"joh\")\n",
    "            .join(dlt.read(\"raw_users\").alias(\"u\"), col(\"joh.UserId\") == col(\"u.UserId\"), \"left_outer\")\n",
    "            .select(\n",
    "                col(\"joh.AdjudicatorId\"),\n",
    "                col(\"joh.HistDate\"),\n",
    "                col(\"joh.HistType\"),\n",
    "                col(\"u.FullName\").alias(\"UserName\"),\n",
    "                col(\"joh.Comment\"),\n",
    "                col(\"joh.AdtclmnFirstCreatedDatetime\"),\n",
    "                col(\"joh.AdtclmnModifiedDatetime\"),\n",
    "                col(\"joh.SourceFileName\"),\n",
    "                col(\"joh.InsertedByProcessName\")\n",
    "            )\n",
    "    )"
   ]
  },
  {
   "cell_type": "markdown",
   "metadata": {
    "application/vnd.databricks.v1+cell": {
     "cellMetadata": {
      "byteLimit": 2048000,
      "rowLimit": 10000
     },
     "inputWidgets": {},
     "nuid": "b66fda40-9704-457a-b32b-d0d656033f35",
     "showTitle": false,
     "tableResultSettingsMap": {},
     "title": ""
    }
   },
   "source": [
    "### Transformation bronze_othercentre_hearingcentre "
   ]
  },
  {
   "cell_type": "markdown",
   "metadata": {
    "application/vnd.databricks.v1+cell": {
     "cellMetadata": {
      "byteLimit": 2048000,
      "rowLimit": 10000
     },
     "inputWidgets": {},
     "nuid": "8ed59a7a-af2e-474d-8e75-cde08324665d",
     "showTitle": false,
     "tableResultSettingsMap": {},
     "title": ""
    }
   },
   "source": [
    "```sql\n",
    "SELECT oc.AdjudicatorId, \n",
    "       hc.Description As OtherCentres \n",
    "FROM [ARIAREPORTS].[dbo].[OtherCentre] oc \n",
    "    LEFT OUTER JOIN [ARIAREPORTS].[dbo].[HearingCentre] hc \n",
    "        ON oc.CentreId = hc.CentreId \n",
    "```"
   ]
  },
  {
   "cell_type": "code",
   "execution_count": 0,
   "metadata": {
    "application/vnd.databricks.v1+cell": {
     "cellMetadata": {
      "byteLimit": 2048000,
      "rowLimit": 10000
     },
     "inputWidgets": {},
     "nuid": "0b57abcb-afc1-4b2b-94b5-2f7f53888aca",
     "showTitle": false,
     "tableResultSettingsMap": {},
     "title": ""
    }
   },
   "outputs": [],
   "source": [
    "# DLT Table 1: bronze_othercentre_hearingcentre\n",
    "@dlt.table(\n",
    "    name=\"bronze_othercentre_hearingcentre\",\n",
    "    comment=\"Delta Live Table combining OtherCentre data with HearingCentre information.\",\n",
    "    path=f\"{bronze_mnt}/bronze_othercentre_hearingcentre\" \n",
    ")\n",
    "def bronze_othercentre_hearingcentre():\n",
    "    return (\n",
    "        dlt.read(\"raw_othercentre\").alias(\"oc\")\n",
    "        .join(\n",
    "            dlt.read(\"raw_hearingcentre\").alias(\"hc\"),\n",
    "            col(\"hc.CentreId\") == col(\"oc.CentreId\"),\n",
    "            \"left_outer\",\n",
    "        )\n",
    "        .select(\n",
    "            col(\"oc.AdjudicatorId\"),\n",
    "            col(\"hc.Description\").alias(\"OtherCentres\"),\n",
    "            col(\"oc.AdtclmnFirstCreatedDatetime\"),\n",
    "            col(\"oc.AdtclmnModifiedDatetime\"),\n",
    "            col(\"oc.SourceFileName\"),\n",
    "            col(\"oc.InsertedByProcessName\")\n",
    "        )\n",
    "    )\n"
   ]
  },
  {
   "cell_type": "markdown",
   "metadata": {
    "application/vnd.databricks.v1+cell": {
     "cellMetadata": {
      "byteLimit": 2048000,
      "rowLimit": 10000
     },
     "inputWidgets": {},
     "nuid": "42bd3fd9-551a-4bda-a9ea-24c27be5be89",
     "showTitle": false,
     "tableResultSettingsMap": {},
     "title": ""
    }
   },
   "source": [
    "### Transformation bronze_adjudicatorrole"
   ]
  },
  {
   "cell_type": "markdown",
   "metadata": {
    "application/vnd.databricks.v1+cell": {
     "cellMetadata": {
      "byteLimit": 2048000,
      "rowLimit": 10000
     },
     "inputWidgets": {},
     "nuid": "a9f7c1d9-3e73-45de-985e-ef6c9e1f4b8e",
     "showTitle": false,
     "tableResultSettingsMap": {},
     "title": ""
    }
   },
   "source": [
    "```sql\n",
    "SELECT AdjudicatorId, \n",
    "       Role, \n",
    "       DateOfAppointment, \n",
    "       EndDateOfAppointment \n",
    "FROM [ARIAREPORTS].[dbo].[AdjudicatorRole] \n",
    "```"
   ]
  },
  {
   "cell_type": "code",
   "execution_count": 0,
   "metadata": {
    "application/vnd.databricks.v1+cell": {
     "cellMetadata": {
      "byteLimit": 2048000,
      "rowLimit": 10000
     },
     "inputWidgets": {},
     "nuid": "eeb0bb0a-b982-4378-b529-9a00ed35fdde",
     "showTitle": false,
     "tableResultSettingsMap": {},
     "title": ""
    }
   },
   "outputs": [],
   "source": [
    "\n",
    "# DLT Table 2: bronze_adjudicator_role\n",
    "@dlt.table(\n",
    "    name=\"bronze_adjudicator_role\",\n",
    "    comment=\"Delta Live Table for Adjudicator Role data.\",\n",
    "    path=f\"{bronze_mnt}/bronze_adjudicator_role\" \n",
    ")\n",
    "def bronze_adjudicator_role():\n",
    "    return  (\n",
    "        dlt.read(\"raw_adjudicatorrole\").alias(\"adjr\")\n",
    "        .select(\n",
    "            col(\"adjr.AdjudicatorId\"),\n",
    "            col(\"adjr.Role\"),\n",
    "            col(\"adjr.DateOfAppointment\"),\n",
    "            col(\"adjr.EndDateOfAppointment\"),\n",
    "            col(\"adjr.AdtclmnFirstCreatedDatetime\"),\n",
    "            col(\"adjr.AdtclmnModifiedDatetime\"),\n",
    "            col(\"adjr.SourceFileName\"),\n",
    "            col(\"adjr.InsertedByProcessName\")\n",
    "        )\n",
    "    )"
   ]
  },
  {
   "cell_type": "markdown",
   "metadata": {
    "application/vnd.databricks.v1+cell": {
     "cellMetadata": {
      "byteLimit": 2048000,
      "rowLimit": 10000
     },
     "inputWidgets": {},
     "nuid": "c662bc50-ca9c-4847-9212-06095d262278",
     "showTitle": false,
     "tableResultSettingsMap": {},
     "title": ""
    }
   },
   "source": [
    "## Segmentation DLT Tables Creation - stg_joh_filtered\n",
    "Segmentation query (to be applied in silver): ???\n",
    " \n",
    "```sql\n",
    "SELECT a.[AdjudicatorId] \n",
    "FROM [ARIAREPORTS].[dbo].[Adjudicator] a \n",
    "    LEFT JOIN [ARIAREPORTS].[dbo].[AdjudicatorRole] jr \n",
    "        ON jr.AdjudicatorId = a.AdjudicatorId \n",
    "WHERE jr.Role NOT IN ( 7, 8 ) \n",
    "GROUP BY a.[AdjudicatorId]\n",
    "```\n",
    "The below staging table is joined with other silver table to esure the Role NOT IN ( 7, 8 ) "
   ]
  },
  {
   "cell_type": "code",
   "execution_count": 0,
   "metadata": {
    "application/vnd.databricks.v1+cell": {
     "cellMetadata": {
      "byteLimit": 2048000,
      "rowLimit": 10000
     },
     "inputWidgets": {},
     "nuid": "55b5f3a7-d235-40ff-9c15-d97013121178",
     "showTitle": false,
     "tableResultSettingsMap": {},
     "title": ""
    }
   },
   "outputs": [],
   "source": [
    "@dlt.table(\n",
    "    name=\"stg_joh_filtered\",\n",
    "    comment=\"Delta Live silver Table segmentation with judges only using bronze_adjudicator_et_hc_dnur.\",\n",
    "    path=f\"{silver_mnt}/stg_joh_filtered\"\n",
    ")\n",
    "def stg_joh_filtered():\n",
    "    return (\n",
    "        dlt.read(\"bronze_adjudicator_et_hc_dnur\").alias(\"a\")\n",
    "        .join(\n",
    "            dlt.read(\"bronze_adjudicator_role\").alias(\"jr\"),\n",
    "            col(\"a.AdjudicatorId\") == col(\"jr.AdjudicatorId\"), \n",
    "            \"left\"\n",
    "        )\n",
    "        .filter((~col(\"jr.Role\").isin(7, 8)) | (col(\"jr.Role\").isNull()))\n",
    "        .groupBy(col(\"a.AdjudicatorId\"))\n",
    "        .count()\n",
    "        .select(col(\"a.AdjudicatorId\"))\n",
    "    )\n"
   ]
  },
  {
   "cell_type": "markdown",
   "metadata": {
    "application/vnd.databricks.v1+cell": {
     "cellMetadata": {
      "byteLimit": 2048000,
      "rowLimit": 10000
     },
     "inputWidgets": {},
     "nuid": "4dc86ca8-3c18-4208-80f2-c05c7bba899c",
     "showTitle": false,
     "tableResultSettingsMap": {},
     "title": ""
    }
   },
   "source": [
    "## Silver DLT Tables Creation"
   ]
  },
  {
   "cell_type": "markdown",
   "metadata": {
    "application/vnd.databricks.v1+cell": {
     "cellMetadata": {
      "byteLimit": 2048000,
      "rowLimit": 10000
     },
     "inputWidgets": {},
     "nuid": "1d8b17a3-4027-420f-a91d-41d5af704c28",
     "showTitle": false,
     "tableResultSettingsMap": {},
     "title": ""
    }
   },
   "source": [
    "### Transformation silver_adjudicator_detail\n",
    "\n"
   ]
  },
  {
   "cell_type": "code",
   "execution_count": 0,
   "metadata": {
    "application/vnd.databricks.v1+cell": {
     "cellMetadata": {
      "byteLimit": 2048000,
      "rowLimit": 10000
     },
     "inputWidgets": {},
     "nuid": "0a054e50-3b97-47cf-9625-c05c80594317",
     "showTitle": false,
     "tableResultSettingsMap": {},
     "title": ""
    }
   },
   "outputs": [],
   "source": [
    "@dlt.table(\n",
    "    name=\"silver_adjudicator_detail\",\n",
    "    comment=\"Delta Live Silver Table for Adjudicator details enhanced with Hearing Centre and DNUR information.\",\n",
    "    path=f\"{silver_mnt}/silver_adjudicator_detail\"\n",
    ")\n",
    "def silver_adjudicator_detail():\n",
    "    return (\n",
    "        dlt.read(\"bronze_adjudicator_et_hc_dnur\").alias(\"adj\").join(dlt.read(\"stg_joh_filtered\").alias('flt'), col(\"adj.AdjudicatorId\") == col(\"flt.AdjudicatorId\"), \"inner\").select(\n",
    "            col(\"adj.AdjudicatorId\"),\n",
    "            col(\"adj.Surname\"),\n",
    "            col(\"adj.Forenames\"),\n",
    "            col(\"adj.Title\"),\n",
    "            col(\"adj.DateOfBirth\"),\n",
    "            when(col(\"adj.CorrespondenceAddress\") == 1, \"Business\").otherwise(\"Home\").alias(\"CorrespondenceAddress\"),\n",
    "            col(\"adj.ContactDetails\"),\n",
    "            when(col(\"adj.ContactTelephone\") == 1, \"Business\")\n",
    "                .when(col(\"adj.ContactTelephone\") == 2, \"Home\")\n",
    "                .when(col(\"adj.ContactTelephone\") == 3, \"Mobile\")\n",
    "                .otherwise(col(\"adj.ContactTelephone\")).alias(\"ContactTelephone\"),\n",
    "            col(\"adj.AvailableAtShortNotice\"),\n",
    "            col(\"adj.DesignatedCentre\"),\n",
    "            col(\"adj.EmploymentTerm\"),\n",
    "            when(col(\"adj.FullTime\") == 1,'Yes').otherwise(\"No\").alias(\"FullTime\"),\n",
    "            col(\"adj.IdentityNumber\"),\n",
    "            col(\"adj.DateOfRetirement\"),\n",
    "            col(\"adj.ContractEndDate\"),\n",
    "            col(\"adj.ContractRenewalDate\"),\n",
    "            col(\"adj.DoNotUse\"),\n",
    "            col(\"adj.DoNotUseReason\"),\n",
    "            when(col(\"adj.JudicialStatus\") == 1, \"Deputy President\")\n",
    "                .when(col(\"adj.JudicialStatus\") == 2, \"Designated Immigration Judge\")\n",
    "                .when(col(\"adj.JudicialStatus\") == 3, \"Immigration Judge\")\n",
    "                .when(col(\"adj.JudicialStatus\") == 4, \"President\")\n",
    "                .when(col(\"adj.JudicialStatus\") == 5, \"Senior Immigration Judge\")\n",
    "                .when(col(\"adj.JudicialStatus\") == 6, \"Deputy Senior Immigration Judge\")\n",
    "                .when(col(\"adj.JudicialStatus\") == 7, \"Senior President\")\n",
    "                .when(col(\"adj.JudicialStatus\") == 21, \"Vice President of the Upper Tribunal IAAC\")\n",
    "                .when(col(\"adj.JudicialStatus\") == 22, \"Designated Judge of the First-tier Tribunal\")\n",
    "                .when(col(\"adj.JudicialStatus\") == 23, \"Judge of the First-tier Tribunal\")\n",
    "                .when(col(\"adj.JudicialStatus\") == 25, \"Upper Tribunal Judge\")\n",
    "                .when(col(\"adj.JudicialStatus\") == 26, \"Deputy Judge of the Upper Tribunal\")\n",
    "                .when(col(\"adj.JudicialStatus\") == 28, \"Resident Judge of the First-tier Tribunal\")\n",
    "                .when(col(\"adj.JudicialStatus\") == 29, \"Principle Resident Judge of the Upper Tribunal\")\n",
    "                .otherwise(col(\"adj.JudicialStatus\")).alias(\"JudicialStatus\"),\n",
    "            col(\"adj.Address1\"),\n",
    "            col(\"adj.Address2\"),\n",
    "            col(\"adj.Address3\"),\n",
    "            col(\"adj.Address4\"),\n",
    "            col(\"adj.Address5\"),\n",
    "            col(\"adj.Postcode\"),\n",
    "            col(\"adj.Telephone\"),\n",
    "            col(\"adj.Mobile\"),\n",
    "            col(\"adj.Email\"),\n",
    "            col(\"adj.BusinessAddress1\"),\n",
    "            col(\"adj.BusinessAddress2\"),\n",
    "            col(\"adj.BusinessAddress3\"),\n",
    "            col(\"adj.BusinessAddress4\"),\n",
    "            col(\"adj.BusinessAddress5\"),\n",
    "            col(\"adj.BusinessPostcode\"),\n",
    "            col(\"adj.BusinessTelephone\"),\n",
    "            col(\"adj.BusinessFax\"),\n",
    "            col(\"adj.BusinessEmail\"),\n",
    "            col(\"adj.JudicialInstructions\"),\n",
    "            col(\"adj.JudicialInstructionsDate\"),\n",
    "            col(\"adj.Notes\"),\n",
    "            col(\"adj.AdtclmnFirstCreatedDatetime\"),\n",
    "            col(\"adj.AdtclmnModifiedDatetime\"),\n",
    "            col(\"adj.SourceFileName\"),\n",
    "            col(\"adj.InsertedByProcessName\")\n",
    "        )\n",
    "    )"
   ]
  },
  {
   "cell_type": "markdown",
   "metadata": {
    "application/vnd.databricks.v1+cell": {
     "cellMetadata": {
      "byteLimit": 2048000,
      "rowLimit": 10000
     },
     "inputWidgets": {},
     "nuid": "b9c4476b-3c97-4119-a949-ce93a27c9cd3",
     "showTitle": false,
     "tableResultSettingsMap": {},
     "title": ""
    }
   },
   "source": [
    "### Transformation  silver_history_detail"
   ]
  },
  {
   "cell_type": "code",
   "execution_count": 0,
   "metadata": {
    "application/vnd.databricks.v1+cell": {
     "cellMetadata": {
      "byteLimit": 2048000,
      "rowLimit": 10000
     },
     "inputWidgets": {},
     "nuid": "3b3f043b-7e31-4a72-b807-94a7e638af14",
     "showTitle": false,
     "tableResultSettingsMap": {},
     "title": ""
    }
   },
   "outputs": [],
   "source": [
    "@dlt.table(\n",
    "    name=\"silver_history_detail\",\n",
    "    comment=\"Delta Live Silver Table combining JoHistory data with Users information.\",\n",
    "    path=f\"{silver_mnt}/silver_history_detail\"\n",
    ")\n",
    "def silver_history_detail():\n",
    "    return (\n",
    "        dlt.read(\"bronze_johistory_users\").alias(\"his\").join(dlt.read(\"stg_joh_filtered\").alias('flt'), col(\"his.AdjudicatorId\") == col(\"flt.AdjudicatorId\"), \"inner\").select(\n",
    "            col('his.AdjudicatorId'),\n",
    "            col('his.HistDate'),\n",
    "            when(col(\"his.HistType\") == 1, \"Adjournment\")\n",
    "            .when(col(\"his.HistType\") == 2, \"Adjudicator Process\")\n",
    "            .when(col(\"his.HistType\") == 3, \"Bail Process\")\n",
    "            .when(col(\"his.HistType\") == 4, \"Change of Address\")\n",
    "            .when(col(\"his.HistType\") == 5, \"Decisions\")\n",
    "            .when(col(\"his.HistType\") == 6, \"File Location\")\n",
    "            .when(col(\"his.HistType\") == 7, \"Interpreters\")\n",
    "            .when(col(\"his.HistType\") == 8, \"Issue\")\n",
    "            .when(col(\"his.HistType\") == 9, \"Links\")\n",
    "            .when(col(\"his.HistType\") == 10, \"Listing\")\n",
    "            .when(col(\"his.HistType\") == 11, \"SIAC Process\")\n",
    "            .when(col(\"his.HistType\") == 12, \"Superior Court\")\n",
    "            .when(col(\"his.HistType\") == 13, \"Tribunal Process\")\n",
    "            .when(col(\"his.HistType\") == 14, \"Typing\")\n",
    "            .when(col(\"his.HistType\") == 15, \"Parties edited\")\n",
    "            .when(col(\"his.HistType\") == 16, \"Document\")\n",
    "            .when(col(\"his.HistType\") == 17, \"Document Received\")\n",
    "            .when(col(\"his.HistType\") == 18, \"Manual Entry\")\n",
    "            .when(col(\"his.HistType\") == 19, \"Interpreter\")\n",
    "            .when(col(\"his.HistType\") == 20, \"File Detail Changed\")\n",
    "            .when(col(\"his.HistType\") == 21, \"Dedicated hearing centre changed\")\n",
    "            .when(col(\"his.HistType\") == 22, \"File Linking\")\n",
    "            .when(col(\"his.HistType\") == 23, \"Details\")\n",
    "            .when(col(\"his.HistType\") == 24, \"Availability\")\n",
    "            .when(col(\"his.HistType\") == 25, \"Cancel\")\n",
    "            .when(col(\"his.HistType\") == 26, \"De-allocation\")\n",
    "            .when(col(\"his.HistType\") == 27, \"Work Pattern\")\n",
    "            .when(col(\"his.HistType\") == 28, \"Allocation\")\n",
    "            .when(col(\"his.HistType\") == 29, \"De-Listing\")\n",
    "            .when(col(\"his.HistType\") == 30, \"Statutory Closure\")\n",
    "            .when(col(\"his.HistType\") == 31, \"Provisional Destruction Date\")\n",
    "            .when(col(\"his.HistType\") == 32, \"Destruction Date\")\n",
    "            .when(col(\"his.HistType\") == 33, \"Date of Service\")\n",
    "            .when(col(\"his.HistType\") == 34, \"IND Interface\")\n",
    "            .when(col(\"his.HistType\") == 35, \"Address Changed\")\n",
    "            .when(col(\"his.HistType\") == 36, \"Contact Details\")\n",
    "            .when(col(\"his.HistType\") == 37, \"Effective Date\")\n",
    "            .when(col(\"his.HistType\") == 38, \"Centre Changed\")\n",
    "            .when(col(\"his.HistType\") == 39, \"Appraisal Added\")\n",
    "            .when(col(\"his.HistType\") == 40, \"Appraisal Removed\")\n",
    "            .when(col(\"his.HistType\") == 41, \"Costs Deleted\")\n",
    "            .when(col(\"his.HistType\") == 42, \"Credit/Debit Card Payment received\")\n",
    "            .when(col(\"his.HistType\") == 43, \"Bank Transfer Payment received\")\n",
    "            .when(col(\"his.HistType\") == 44, \"Chargeback Taken\")\n",
    "            .when(col(\"his.HistType\") == 45, \"Remission request Rejected\")\n",
    "            .when(col(\"his.HistType\") == 46, \"Refund Event Added\")\n",
    "            .when(col(\"his.HistType\") == 47, \"WriteOff, Strikeout Write-Off or Threshold Write-off Event Added\")\n",
    "            .when(col(\"his.HistType\") == 48, \"Aggregated Payment Taken\")\n",
    "            .when(col(\"his.HistType\") == 49, \"Case Created\")\n",
    "            .when(col(\"his.HistType\") == 50, \"Tracked Document\")\n",
    "            .otherwise(col(\"his.HistType\")).alias(\"HistType\"),\n",
    "            col('his.UserName'),\n",
    "            col('his.Comment'),\n",
    "            col('his.AdtclmnFirstCreatedDatetime'),\n",
    "            col('his.AdtclmnModifiedDatetime'),\n",
    "            col('his.SourceFileName'),\n",
    "            col('his.InsertedByProcessName'),\n",
    "        )\n",
    "    )"
   ]
  },
  {
   "cell_type": "markdown",
   "metadata": {
    "application/vnd.databricks.v1+cell": {
     "cellMetadata": {
      "byteLimit": 2048000,
      "rowLimit": 10000
     },
     "inputWidgets": {},
     "nuid": "95c43c98-cc92-4ef6-be6c-0e04107622b4",
     "showTitle": false,
     "tableResultSettingsMap": {},
     "title": ""
    }
   },
   "source": [
    "### Transformation silver_othercentre_detail"
   ]
  },
  {
   "cell_type": "code",
   "execution_count": 0,
   "metadata": {
    "application/vnd.databricks.v1+cell": {
     "cellMetadata": {
      "byteLimit": 2048000,
      "rowLimit": 10000
     },
     "inputWidgets": {},
     "nuid": "d9ad644d-7c56-4243-9b5a-0dc5c4839b30",
     "showTitle": false,
     "tableResultSettingsMap": {},
     "title": ""
    }
   },
   "outputs": [],
   "source": [
    "@dlt.table(\n",
    "    name=\"silver_othercentre_detail\",\n",
    "    comment=\"Delta Live silver Table combining OtherCentre data with HearingCentre information.\",\n",
    "    path=f\"{silver_mnt}/silver_othercentre_detail\"\n",
    ")\n",
    "def silver_othercentre_detail():\n",
    "    return (dlt.read(\"bronze_othercentre_hearingcentre\").alias(\"hc\").join(dlt.read(\"stg_joh_filtered\").alias('flt'), col(\"hc.AdjudicatorId\") == col(\"flt.AdjudicatorId\"), \"inner\").select(\"hc.*\"))"
   ]
  },
  {
   "cell_type": "markdown",
   "metadata": {
    "application/vnd.databricks.v1+cell": {
     "cellMetadata": {
      "byteLimit": 2048000,
      "rowLimit": 10000
     },
     "inputWidgets": {},
     "nuid": "5adc2973-8113-439b-8d6f-5ffee482a5d7",
     "showTitle": false,
     "tableResultSettingsMap": {},
     "title": ""
    }
   },
   "source": [
    "### Transformation silver_appointment_detail"
   ]
  },
  {
   "cell_type": "code",
   "execution_count": 0,
   "metadata": {
    "application/vnd.databricks.v1+cell": {
     "cellMetadata": {
      "byteLimit": 2048000,
      "rowLimit": 10000
     },
     "inputWidgets": {},
     "nuid": "73a0d06f-bc9f-4fbe-bce9-7ac879c3da7d",
     "showTitle": false,
     "tableResultSettingsMap": {},
     "title": ""
    }
   },
   "outputs": [],
   "source": [
    "@dlt.table(\n",
    "    name=\"silver_appointment_detail\",\n",
    "    comment=\"Delta Live Silver Table for Adjudicator Role data.\",\n",
    "    path=f\"{silver_mnt}/silver_appointment_detail\"\n",
    ")\n",
    "def silver_appointment_detail():\n",
    "    return (\n",
    "        dlt.read(\"bronze_adjudicator_role\").alias(\"rol\").join(dlt.read(\"stg_joh_filtered\").alias('flt'), col(\"rol.AdjudicatorId\") == col(\"flt.AdjudicatorId\"), \"inner\").select(\n",
    "            col('rol.AdjudicatorId'),\n",
    "            when(col(\"rol.Role\") == 2, \"Chairman\")\n",
    "            .when(col(\"rol.Role\") == 5, \"Adjudicator\")\n",
    "            .when(col(\"rol.Role\") == 6, \"Lay Member\")\n",
    "            .when(col(\"rol.Role\") == 7, \"Court Clerk\")\n",
    "            .when(col(\"rol.Role\") == 8, \"Usher\")\n",
    "            .when(col(\"rol.Role\") == 9, \"Qualified Member\")\n",
    "            .when(col(\"rol.Role\") == 10, \"Senior Immigration Judge\")\n",
    "            .when(col(\"rol.Role\") == 11, \"Immigration Judge\")\n",
    "            .when(col(\"rol.Role\") == 12, \"Non Legal Member\")\n",
    "            .when(col(\"rol.Role\") == 13, \"Designated Immigration Judge\")\n",
    "            .when(col(\"rol.Role\") == 20, \"Upper Tribunal Judge\")\n",
    "            .when(col(\"rol.Role\") == 21, \"Judge of the First-tier Tribunal\")\n",
    "            .when(col(\"rol.Role\") == 23, \"Designated Judge of the First-tier Tribunal\")\n",
    "            .when(col(\"rol.Role\") == 24, \"Upper Tribunal Judge acting As A Judge Of The First-tier Tribunal\")\n",
    "            .when(col(\"rol.Role\") == 25, \"Deputy Judge of the Upper Tribunal\")\n",
    "            .otherwise(col(\"rol.Role\")).alias(\"Role\"),\n",
    "            col('rol.DateOfAppointment'),\n",
    "            col('rol.EndDateOfAppointment'),\n",
    "            col('rol.AdtclmnFirstCreatedDatetime'),\n",
    "            col('rol.AdtclmnModifiedDatetime'),\n",
    "            col('rol.SourceFileName'),\n",
    "            col('rol.InsertedByProcessName')\n",
    "        )\n",
    "    )"
   ]
  },
  {
   "cell_type": "markdown",
   "metadata": {
    "application/vnd.databricks.v1+cell": {
     "cellMetadata": {
      "byteLimit": 2048000,
      "rowLimit": 10000
     },
     "inputWidgets": {},
     "nuid": "539cbcf0-86e2-4025-a2bc-45bc19d0f0bd",
     "showTitle": false,
     "tableResultSettingsMap": {},
     "title": ""
    }
   },
   "source": [
    "### Transformation silver_archive_metadata\n",
    "<table style='float:left;'>\n",
    "   <tbody>\n",
    "      <tr>\n",
    "         <td style='text-align: left;'><b>Field</b></td>\n",
    "         <td style='text-align: left;'><b>Maps to</b></td>\n",
    "      </tr>\n",
    "      <tr>\n",
    "         <td>Client Identifier</td>\n",
    "         <td>IdentityNumber</td>\n",
    "      </tr>\n",
    "      <tr>\n",
    "         <td>Event Date*</td>\n",
    "         <td>DateOfRetirement or ContractEndDate, whichever is later. If NULL, use date of migration/generation.</td>\n",
    "      </tr>\n",
    "      <tr>\n",
    "         <td>Record Date*</td>\n",
    "         <td>Date of migration/generation</td>\n",
    "      </tr>\n",
    "      <tr>\n",
    "         <td>Region*</td>\n",
    "         <td>GBR</td>\n",
    "      </tr>\n",
    "      <tr>\n",
    "         <td>Publisher*</td>\n",
    "         <td>ARIA</td>\n",
    "      </tr>\n",
    "      <tr>\n",
    "         <td>Record Class*</td>\n",
    "         <td>ARIA Judicial Records</td>\n",
    "      </tr>\n",
    "      <tr>\n",
    "         <td>Entitlement Tag</td>\n",
    "         <td>IA_Judicial_Office</td>\n",
    "      </tr>\n",
    "   </tbody>\n",
    "</table>\n",
    "\n",
    "<br>\n",
    "\n",
    "```\n",
    "* = mandatory field. \n",
    "\n",
    "The following fields will need to be configured as business metadata fields for this record class: \n",
    "```\n",
    "\n",
    "<table style='float:left; margin-top: 20px;'>\n",
    "   <tbody>\n",
    "      <tr>\n",
    "         <td style='text-align: left;'><b>Field</b></td>\n",
    "         <td style='text-align: left;'><b>Type</b></td>\n",
    "         <td style='text-align: left;'><b>Maps to</b></td>\n",
    "      </tr>\n",
    "      <tr>\n",
    "         <td>bf_xxx</td>\n",
    "         <td>String</td>\n",
    "         <td>Title</td>\n",
    "      </tr>\n",
    "      <tr>\n",
    "         <td>bf_xxx</td>\n",
    "         <td>String</td>\n",
    "         <td>Forenames</td>\n",
    "      </tr>\n",
    "      <tr>\n",
    "         <td>bf_xxx</td>\n",
    "         <td>String</td>\n",
    "         <td>Surname</td>\n",
    "      </tr>\n",
    "      <tr>\n",
    "         <td>bf_xxx</td>\n",
    "         <td>Date</td>\n",
    "         <td>DateOfBirth</td>\n",
    "      </tr>\n",
    "      <tr>\n",
    "         <td>bf_xxx</td>\n",
    "         <td>String</td>\n",
    "         <td>DesignatedCentre</td>\n",
    "      </tr>\n",
    "   </tbody>\n",
    "</table>\n",
    "\n",
    "```\n",
    "Please note: \n",
    "the bf_xxx indexes may change while being finalised with Through Technology \n",
    "Dates must be provided in Zulu time format ```\n"
   ]
  },
  {
   "cell_type": "code",
   "execution_count": 0,
   "metadata": {
    "application/vnd.databricks.v1+cell": {
     "cellMetadata": {
      "byteLimit": 2048000,
      "rowLimit": 10000
     },
     "inputWidgets": {},
     "nuid": "b871bee1-9053-4d2a-a58f-d3f6e554dea0",
     "showTitle": false,
     "tableResultSettingsMap": {},
     "title": ""
    }
   },
   "outputs": [],
   "source": [
    "@dlt.table(\n",
    "    name=\"silver_archive_metadata\",\n",
    "    comment=\"Delta Live Silver Table for Archive Metadata data.\",\n",
    "    path=f\"{silver_mnt}/silver_archive_metadata\"\n",
    ")\n",
    "def silver_archive_metadata():\n",
    "    return (\n",
    "        dlt.read(\"silver_adjudicator_detail\").alias(\"adj\").join(dlt.read(\"stg_joh_filtered\").alias('flt'), col(\"adj.AdjudicatorId\") == col(\"flt.AdjudicatorId\"), \"inner\").select(\n",
    "            col('adj.AdjudicatorId').alias('client_identifier'),\n",
    "            date_format(coalesce(col('adj.DateOfRetirement'), col('adj.ContractEndDate'), col('adj.AdtclmnFirstCreatedDatetime')), \"yyyy-MM-dd'T'HH:mm:ss'Z'\").alias(\"event_date\"),\n",
    "            date_format(col('adj.AdtclmnFirstCreatedDatetime'), \"yyyy-MM-dd'T'HH:mm:ss'Z'\").alias(\"recordDate\"),\n",
    "            lit(\"GBR\").alias(\"region\"),\n",
    "            lit(\"ARIA\").alias(\"publisher\"),\n",
    "            lit(\"ARIA Judicial Records\").alias(\"record_class\"),\n",
    "            lit('IA_Judicial_Office').alias(\"entitlement_tag\"),\n",
    "            col('adj.Title').alias('bf_001'),\n",
    "            col('adj.Forenames').alias('bf_002'),\n",
    "            col('adj.Surname').alias('bf_003'),\n",
    "            col('adj.DateOfBirth').alias('bf_004'),\n",
    "            col('adj.DesignatedCentre').alias('bf_005')\n",
    "        )\n",
    "    )"
   ]
  },
  {
   "cell_type": "markdown",
   "metadata": {
    "application/vnd.databricks.v1+cell": {
     "cellMetadata": {
      "byteLimit": 2048000,
      "rowLimit": 10000
     },
     "inputWidgets": {},
     "nuid": "f41c0837-9bfa-4806-adf0-21c1aa99e9ca",
     "showTitle": false,
     "tableResultSettingsMap": {},
     "title": ""
    }
   },
   "source": [
    "## Gold Outputs and Tracking DLT Table Creation"
   ]
  },
  {
   "cell_type": "code",
   "execution_count": 0,
   "metadata": {
    "application/vnd.databricks.v1+cell": {
     "cellMetadata": {
      "byteLimit": 2048000,
      "rowLimit": 10000
     },
     "inputWidgets": {},
     "nuid": "1a6a4f0c-526f-43df-bada-15fb5b9bc60d",
     "showTitle": false,
     "tableResultSettingsMap": {},
     "title": ""
    }
   },
   "outputs": [],
   "source": [
    "secret = dbutils.secrets.get(\"ingest00-keyvault-sbox\", \"ingest00-adls-ingest00curatedsbox-connection-string-sbox\")"
   ]
  },
  {
   "cell_type": "code",
   "execution_count": 0,
   "metadata": {
    "application/vnd.databricks.v1+cell": {
     "cellMetadata": {
      "byteLimit": 2048000,
      "rowLimit": 10000
     },
     "inputWidgets": {},
     "nuid": "c4e71fe6-8e16-4034-85b4-0378bc1b260e",
     "showTitle": true,
     "tableResultSettingsMap": {},
     "title": "Azure Blob Storage Connection Setup in Python"
    }
   },
   "outputs": [],
   "source": [
    "from azure.storage.blob import BlobServiceClient, BlobClient, ContainerClient\n",
    "import os\n",
    "\n",
    "# Set up the BlobServiceClient with your connection string\n",
    "connection_string = f\"BlobEndpoint=https://ingest00curatedsbox.blob.core.windows.net/;QueueEndpoint=https://ingest00curatedsbox.queue.core.windows.net/;FileEndpoint=https://ingest00curatedsbox.file.core.windows.net/;TableEndpoint=https://ingest00curatedsbox.table.core.windows.net/;SharedAccessSignature={secret}\"\n",
    "\n",
    "blob_service_client = BlobServiceClient.from_connection_string(connection_string)\n",
    "\n",
    "# Specify the container name\n",
    "container_name = \"gold\"\n",
    "container_client = blob_service_client.get_container_client(container_name)\n"
   ]
  },
  {
   "cell_type": "code",
   "execution_count": 0,
   "metadata": {
    "application/vnd.databricks.v1+cell": {
     "cellMetadata": {
      "byteLimit": 2048000,
      "rowLimit": 10000
     },
     "inputWidgets": {},
     "nuid": "e0c67ec5-a503-4a04-818e-b86a77886918",
     "showTitle": true,
     "tableResultSettingsMap": {},
     "title": "Spark SQL Shuffle Partitions"
    }
   },
   "outputs": [],
   "source": [
    "spark.conf.set(\"spark.sql.shuffle.partitions\", 32)  # Set this to 32 for your 8-worker cluster\n"
   ]
  },
  {
   "cell_type": "markdown",
   "metadata": {
    "application/vnd.databricks.v1+cell": {
     "cellMetadata": {
      "byteLimit": 2048000,
      "rowLimit": 10000
     },
     "inputWidgets": {},
     "nuid": "0438288a-60c6-4e6f-9ce7-6ca0bf577f90",
     "showTitle": false,
     "tableResultSettingsMap": {},
     "title": ""
    }
   },
   "source": [
    "### Generate HTML"
   ]
  },
  {
   "cell_type": "markdown",
   "metadata": {
    "application/vnd.databricks.v1+cell": {
     "cellMetadata": {
      "byteLimit": 2048000,
      "rowLimit": 10000
     },
     "inputWidgets": {},
     "nuid": "33e48bf5-ce41-4a67-98af-33f4afbee569",
     "showTitle": false,
     "tableResultSettingsMap": {},
     "title": ""
    }
   },
   "source": [
    "#### Create gold_adjudicator_html_generation_status & Processing Adjudicator HTML's\n",
    "This section is to prallel process the HTML and create atracker table with log information."
   ]
  },
  {
   "cell_type": "code",
   "execution_count": 0,
   "metadata": {
    "application/vnd.databricks.v1+cell": {
     "cellMetadata": {
      "byteLimit": 2048000,
      "rowLimit": 10000
     },
     "inputWidgets": {},
     "nuid": "605ebf8c-1015-439f-b066-fe5ea4620914",
     "showTitle": true,
     "tableResultSettingsMap": {},
     "title": "Adhoc debug code- Generating HTML Content with Date Formatting"
    }
   },
   "outputs": [],
   "source": [
    "\n",
    "# from datetime import datetime\n",
    "\n",
    "# # # Helper to format dates in ISO format (YYYY-MM-DD)\n",
    "# def format_date_iso(date_value):\n",
    "#     try:\n",
    "#         # Attempt to parse as datetime if it's a string\n",
    "#         if isinstance(date_value, str):\n",
    "#             date_value = datetime.strptime(date_value, \"%Y-%m-%d\")\n",
    "#         return date_value.strftime(\"%Y-%m-%d\")\n",
    "    \n",
    "#     except (ValueError, TypeError):  # If parsing fails, attempt with other formats\n",
    "#         try:\n",
    "#             # Try parsing the string as dd/MM/YYYY format\n",
    "#             if isinstance(date_value, str):\n",
    "#                 date_value = datetime.strptime(date_value, \"%d/%m/%Y\")\n",
    "#             return date_value.strftime(\"%Y-%m-%d\")\n",
    "#         except (ValueError, TypeError):  # If both parsing attempts fail\n",
    "#             return \"\"  # Return empty string if parsing fails\n",
    "\n",
    "# # Helper to format dates in dd/MM/YYYY format\n",
    "# def format_date(date_value):\n",
    "#     try:\n",
    "#         # Attempt to parse as datetime if it's a string\n",
    "#         if isinstance(date_value, str):\n",
    "#             date_value = datetime.strptime(date_value, \"%Y-%m-%d\")\n",
    "#         return date_value.strftime(\"%d/%m/%Y\")\n",
    "    \n",
    "#     except (ValueError, TypeError):  # If parsing fails, attempt with other formats\n",
    "#         try:\n",
    "#             # Try parsing the string as dd/MM/YYYY format\n",
    "#             if isinstance(date_value, str):\n",
    "#                 date_value = datetime.strptime(date_value, \"%d/%m/%Y\")\n",
    "#             return date_value.strftime(\"%d/%m/%Y\")\n",
    "#         except (ValueError, TypeError):  # If both parsing attempts fail\n",
    "#             return \"\"  # Return empty string if parsing fails\n",
    "\n",
    "\n",
    "\n",
    "\n",
    "# # Helper function to find data from a list by AdjudicatorId\n",
    "# def find_data_in_list(data_list, adjudicator_id):\n",
    "#     for row in data_list:\n",
    "#         if row['AdjudicatorId'] == adjudicator_id:\n",
    "#             return row\n",
    "#     return None\n",
    "\n",
    "# # Define the function to generate HTML content for a given adjudicator\n",
    "# def generate_html_content(adjudicator_id, judicial_officer_details_list, other_centres_list, roles_list, history_list):\n",
    "#     try:\n",
    "#         # Step 1: Find judicial officer details\n",
    "#         judicial_officer_details = find_data_in_list(judicial_officer_details_list, adjudicator_id)\n",
    "#         if not judicial_officer_details:\n",
    "#             print(f\"No details found for Adjudicator ID: {adjudicator_id}\")\n",
    "#             return None, \"No details found\"\n",
    "\n",
    "#         # Step 2: Find other centres\n",
    "#         other_centres = [centre for centre in other_centres_list if centre['AdjudicatorId'] == adjudicator_id]\n",
    "\n",
    "#         # Step 3: Find roles\n",
    "#         roles = [role for role in roles_list if role['AdjudicatorId'] == adjudicator_id]\n",
    "\n",
    "#         # Step 4: Find history\n",
    "#         history = [hist for hist in history_list if hist['AdjudicatorId'] == adjudicator_id]\n",
    "\n",
    "#         # Step 4: Read the HTML template\n",
    "#         html_template_path = \"/dbfs/mnt/ingest00landingsboxhtml-template/JOH-Details-no-js-updated-v2.html\"\n",
    "#         with open(html_template_path, \"r\") as f:\n",
    "#             html_template = \"\".join([l for l in f])\n",
    "\n",
    "#         # Step 6: Convert the Spark Row object to a dictionary\n",
    "#         row_dict = judicial_officer_details.asDict()  # Convert Spark Row object to a dictionary\n",
    "\n",
    "#         print(type(row_dict.get('DateOfBirth'))) # <class 'datetime.datetime'>\n",
    "\n",
    "#         # Create a dictionary with the replacements, ensuring all values are strings\n",
    "#         replacements = {\n",
    "#             \"{{Surname}}\": str(row_dict.get('Surname', '') or ''),\n",
    "#             \"{{Title}}\": str(row_dict.get('Title', '') or ''),\n",
    "#             \"{{Forenames}}\": str(row_dict.get('Forenames', '') or ''),\n",
    "#             \"{{DateOfBirth}}\": format_date_iso(row_dict.get('DateOfBirth')),\n",
    "#             \"{{CorrespondenceAddress}}\": str(row_dict.get('CorrespondenceAddress', '') or ''),\n",
    "#             \"{{Telephone}}\": str(row_dict.get('ContactTelephone', '') or ''),\n",
    "#             \"{{ContactDetails}}\": str(row_dict.get('ContactDetails', '') or ''),\n",
    "#             \"{{DesignatedCentre}}\": str(row_dict.get('DesignatedCentre', '') or ''),\n",
    "#             \"{{EmploymentTerm}}\": str(row_dict.get('EmploymentTerm', '') or ''),\n",
    "#             \"{{FullTime}}\": str(row_dict.get('FullTime', '') or ''),\n",
    "#             \"{{IdentityNumber}}\": str(row_dict.get('IdentityNumber', '') or ''),\n",
    "#             \"{{DateOfRetirement}}\": format_date_iso(row_dict.get('DateOfRetirement')),\n",
    "#             \"{{ContractEndDate}}\": format_date_iso(row_dict.get('ContractEndDate')),\n",
    "#             \"{{ContractRenewalDate}}\": format_date_iso(row_dict.get('ContractRenewalDate')),\n",
    "#             \"{{DoNotUseReason}}\": str(row_dict.get('DoNotUseReason', '') or ''),\n",
    "#             \"{{JudicialStatus}}\": str(row_dict.get('JudicialStatus', '') or ''),\n",
    "#             \"{{Address1}}\": str(row_dict.get('Address1', '') or ''),\n",
    "#             \"{{Address2}}\": str(row_dict.get('Address2', '') or ''),\n",
    "#             \"{{Address3}}\": str(row_dict.get('Address3', '') or ''),\n",
    "#             \"{{Address4}}\": str(row_dict.get('Address4', '') or ''),\n",
    "#             \"{{Address5}}\": str(row_dict.get('Address5', '') or ''),\n",
    "#             \"{{Postcode}}\": str(row_dict.get('Postcode', '') or ''),\n",
    "#             \"{{Mobile}}\": str(row_dict.get('Mobile', '') or ''),\n",
    "#             \"{{Email}}\": str(row_dict.get('Email', '') or ''),\n",
    "#             \"{{BusinessAddress1}}\": str(row_dict.get('BusinessAddress1', '') or ''),\n",
    "#             \"{{BusinessAddress2}}\": str(row_dict.get('BusinessAddress2', '') or ''),\n",
    "#             \"{{BusinessAddress3}}\": str(row_dict.get('BusinessAddress3', '') or ''),\n",
    "#             \"{{BusinessAddress4}}\": str(row_dict.get('BusinessAddress4', '') or ''),\n",
    "#             \"{{BusinessAddress5}}\": str(row_dict.get('BusinessAddress5', '') or ''),\n",
    "#             \"{{BusinessPostcode}}\": str(row_dict.get('BusinessPostcode', '') or ''),\n",
    "#             \"{{BusinessTelephone}}\": str(row_dict.get('BusinessTelephone', '') or ''),\n",
    "#             \"{{BusinessFax}}\": str(row_dict.get('BusinessFax', '') or ''),\n",
    "#             \"{{BusinessEmail}}\": str(row_dict.get('BusinessEmail', '') or ''),\n",
    "#             \"{{JudicialInstructions}}\": str(row_dict.get('JudicialInstructions', '') or ''),\n",
    "#             \"{{JudicialInstructionsDate}}\": format_date_iso(row_dict.get('JudicialInstructionsDate')),\n",
    "#             \"{{Notes}}\": str(row_dict.get('Notes', '') or ''),\n",
    "#         }\n",
    "\n",
    "#         # Step 7: Replace placeholders using the replacements dictionary\n",
    "#         for key, value in replacements.items():\n",
    "#             html_template = html_template.replace(key, value)\n",
    "\n",
    "#         # Step 8: Handle multiple rows for Other Centres\n",
    "#         other_centres_code = \"\"\n",
    "#         for i, centre in enumerate(other_centres, start=1):\n",
    "#             line = f\"<tr><td id=\\\"midpadding\\\">{i}</td><td id=\\\"midpadding\\\">{centre['OtherCentres']}</td></tr>\"\n",
    "#             other_centres_code += line + '\\n'\n",
    "#         html_template = html_template.replace(\"{{OtherCentre}}\", other_centres_code)\n",
    "\n",
    "#         # Handle roles\n",
    "#         roles_code = \"\"\n",
    "#         for i, role in enumerate(roles, start=1):\n",
    "#             line = f\"<tr><td id=\\\"midpadding\\\">{i}</td><td id=\\\"midpadding\\\">{role['Role']}</td><td id=\\\"midpadding\\\">{format_date(role['DateOfAppointment'])}</td><td id=\\\"midpadding\\\">{format_date(role['EndDateOfAppointment'])}</td></tr>\"\n",
    "#             roles_code += line + '\\n'\n",
    "            \n",
    "#         html_template = html_template.replace(\"{{AppointmentPlaceHolder}}\", roles_code)\n",
    "\n",
    "#         # History Details\n",
    "#         History_Code = ''\n",
    "#         for index, row in enumerate(history, start=1):\n",
    "#             print(type(row['HistDate']))\n",
    "#             line = f\"<tr><td id=\\\"midpadding\\\">{format_date(row['HistDate'])}</td><td id=\\\"midpadding\\\">{row['HistType']}</td><td id=\\\"midpadding\\\">{row['UserName']}</td><td id=\\\"midpadding\\\">{row['Comment']}</td></tr>\"\n",
    "#             History_Code += line + '\\n'\n",
    "#         html_template = html_template.replace(f\"{{{{HistoryPlaceHolder}}}}\", History_Code)\n",
    "\n",
    "#         # Step 9: Return the transformed HTML content\n",
    "#         return html_template, \"Success\"\n",
    "\n",
    "#     except Exception as e:\n",
    "#         print(f\"Error writing file for Adjudicator ID: {adjudicator_id}: {str(e)}\")\n",
    "#         return None, f\"Error writing file: {str(e)}\"\n",
    "\n",
    "# adjudicator_id = 6457\n",
    "# df_stg_joh_filtered = spark.read.table(f\"hive_metastore.ariadm_arm_joh_test.stg_joh_filtered\")\n",
    "# df_judicial_officer_details = spark.read.table(f\"hive_metastore.ariadm_arm_joh_test.silver_adjudicator_detail\")\n",
    "# df_other_centres = spark.read.table(f\"hive_metastore.ariadm_arm_joh_test.silver_othercentre_detail\")\n",
    "# df_roles = spark.read.table(f\"hive_metastore.ariadm_arm_joh_test.silver_appointment_detail\")\n",
    "# df_history = spark.read.table(f\"hive_metastore.ariadm_arm_joh_test.silver_history_detail\")\n",
    "\n",
    "# # adjudicator_id = 1660\n",
    "# # df_stg_joh_filtered = spark.read.table(f\"hive_metastore.ariadm_arm_joh.stg_joh_filtered\")\n",
    "# # df_judicial_officer_details = spark.read.table(f\"hive_metastore.ariadm_arm_joh.silver_adjudicator_detail\")\n",
    "# # df_other_centres = spark.read.table(f\"hive_metastore.ariadm_arm_joh.silver_othercentre_detail\")\n",
    "# # df_roles = spark.read.table(f\"hive_metastore.ariadm_arm_joh.silver_appointment_detail\")\n",
    "# # df_history = spark.read.table(f\"hive_metastore.ariadm_arm_joh.silver_history_detail\")\n",
    "\n",
    "# # Broadcast the dataframes to all workers\n",
    "# judicial_officer_details_bc = spark.sparkContext.broadcast(df_judicial_officer_details.collect())\n",
    "# other_centres_bc = spark.sparkContext.broadcast(df_other_centres.collect())\n",
    "# roles_bc = spark.sparkContext.broadcast(df_roles.collect())\n",
    "# history_bc = spark.sparkContext.broadcast(df_history.collect())\n",
    "\n",
    "# html_content, status = generate_html_content(\n",
    "#             adjudicator_id,\n",
    "#             judicial_officer_details_bc.value,\n",
    "#             other_centres_bc.value,\n",
    "#             roles_bc.value,\n",
    "#             history_bc.value\n",
    "#         )\n",
    "\n",
    "# displayHTML(html_content)"
   ]
  },
  {
   "cell_type": "code",
   "execution_count": 0,
   "metadata": {
    "application/vnd.databricks.v1+cell": {
     "cellMetadata": {
      "byteLimit": 2048000,
      "rowLimit": 10000
     },
     "inputWidgets": {},
     "nuid": "5c0c049d-4f59-4715-b1f5-7560c081564d",
     "showTitle": false,
     "tableResultSettingsMap": {},
     "title": ""
    }
   },
   "outputs": [],
   "source": [
    "# display(df_judicial_officer_details)"
   ]
  },
  {
   "cell_type": "code",
   "execution_count": 0,
   "metadata": {
    "application/vnd.databricks.v1+cell": {
     "cellMetadata": {
      "byteLimit": 2048000,
      "rowLimit": 10000
     },
     "inputWidgets": {},
     "nuid": "383a82aa-efa8-4843-9f6d-c3056952d5be",
     "showTitle": true,
     "tableResultSettingsMap": {},
     "title": "temp"
    }
   },
   "outputs": [],
   "source": [
    "if read_hive == True:\n",
    "    print(\"Generating HTML for Adjudicators...\")\n",
    "    df_stg_joh_filtered = spark.read.table(f\"hive_metastore.{hive_schema}.stg_joh_filtered\")\n",
    "    df_judicial_officer_details = spark.read.table(f\"hive_metastore.{hive_schema}.silver_adjudicator_detail\")\n",
    "    df_other_centres = spark.read.table(f\"hive_metastore.{hive_schema}.silver_othercentre_detail\")\n",
    "    df_roles = spark.read.table(f\"hive_metastore.{hive_schema}.silver_appointment_detail\")\n",
    "    df_history = spark.read.table(f\"hive_metastore.{hive_schema}.silver_history_detail\")"
   ]
  },
  {
   "cell_type": "code",
   "execution_count": 0,
   "metadata": {
    "application/vnd.databricks.v1+cell": {
     "cellMetadata": {
      "byteLimit": 2048000,
      "rowLimit": 10000
     },
     "inputWidgets": {},
     "nuid": "1fb46f2d-f30c-4a71-a747-e7bd574273cf",
     "showTitle": true,
     "tableResultSettingsMap": {},
     "title": "Generating Judicial Officer Profiles in HMTL Outputs"
    }
   },
   "outputs": [],
   "source": [
    "\n",
    "# Date formatting helper\n",
    "def format_date_iso(date_value):\n",
    "    if date_value:\n",
    "        return datetime.strftime(date_value, \"%Y-%m-%d\")\n",
    "    return \"\"\n",
    "\n",
    "def format_date(date_value):\n",
    "    if date_value:\n",
    "        return datetime.strftime(date_value, \"%d/%m/%Y\")\n",
    "    return \"\"\n",
    "\n",
    "# Helper function to find data from a list by AdjudicatorId\n",
    "def find_data_in_list(data_list, adjudicator_id):\n",
    "    for row in data_list:\n",
    "        if row['AdjudicatorId'] == adjudicator_id:\n",
    "            return row\n",
    "    return None\n",
    "\n",
    "# Define the function to generate HTML content for a given adjudicator\n",
    "def generate_html_content(adjudicator_id, judicial_officer_details_list, other_centres_list, roles_list, history_list):\n",
    "    try:\n",
    "        # Step 1: Find judicial officer details\n",
    "        judicial_officer_details = find_data_in_list(judicial_officer_details_list, adjudicator_id)\n",
    "        if not judicial_officer_details:\n",
    "            print(f\"No details found for Adjudicator ID: {adjudicator_id}\")\n",
    "            return None, \"No details found\"\n",
    "\n",
    "        # Step 2: Find other centres\n",
    "        other_centres = [centre for centre in other_centres_list if centre['AdjudicatorId'] == adjudicator_id]\n",
    "\n",
    "        # Step 3: Find roles\n",
    "        roles = [role for role in roles_list if role['AdjudicatorId'] == adjudicator_id]\n",
    "\n",
    "        # Step 4: Find history\n",
    "        history = [hist for hist in history_list if hist['AdjudicatorId'] == adjudicator_id]\n",
    "\n",
    "        # Step 4: Read the HTML template\n",
    "        html_template_path = \"/dbfs/mnt/ingest00landingsboxhtml-template/JOH-Details-no-js-updated-v2.html\"\n",
    "        with open(html_template_path, \"r\") as f:\n",
    "            html_template = \"\".join([l for l in f])\n",
    "\n",
    "        # Step 6: Convert the Spark Row object to a dictionary\n",
    "        row_dict = judicial_officer_details.asDict()  # Convert Spark Row object to a dictionary\n",
    "\n",
    "        # Create a dictionary with the replacements, ensuring all values are strings\n",
    "        replacements = {\n",
    "            \"{{Surname}}\": str(row_dict.get('Surname', '') or ''),\n",
    "            \"{{Title}}\": str(row_dict.get('Title', '') or ''),\n",
    "            \"{{Forenames}}\": str(row_dict.get('Forenames', '') or ''),\n",
    "            \"{{DateOfBirth}}\": format_date_iso(row_dict.get('DateOfBirth')),\n",
    "            \"{{CorrespondenceAddress}}\": str(row_dict.get('CorrespondenceAddress', '') or ''),\n",
    "            \"{{Telephone}}\": str(row_dict.get('ContactTelephone', '') or ''),\n",
    "            \"{{ContactDetails}}\": str(row_dict.get('ContactDetails', '') or ''),\n",
    "            \"{{DesignatedCentre}}\": str(row_dict.get('DesignatedCentre', '') or ''),\n",
    "            \"{{EmploymentTerm}}\": str(row_dict.get('EmploymentTerm', '') or ''),\n",
    "            \"{{FullTime}}\": str(row_dict.get('FullTime', '') or ''),\n",
    "            \"{{IdentityNumber}}\": str(row_dict.get('IdentityNumber', '') or ''),\n",
    "            \"{{DateOfRetirement}}\": format_date_iso(row_dict.get('DateOfRetirement')),\n",
    "            \"{{ContractEndDate}}\": format_date_iso(row_dict.get('ContractEndDate')),\n",
    "            \"{{ContractRenewalDate}}\": format_date_iso(row_dict.get('ContractRenewalDate')),\n",
    "            \"{{DoNotUseReason}}\": str(row_dict.get('DoNotUseReason', '') or ''),\n",
    "            \"{{JudicialStatus}}\": str(row_dict.get('JudicialStatus', '') or ''),\n",
    "            \"{{Address1}}\": str(row_dict.get('Address1', '') or ''),\n",
    "            \"{{Address2}}\": str(row_dict.get('Address2', '') or ''),\n",
    "            \"{{Address3}}\": str(row_dict.get('Address3', '') or ''),\n",
    "            \"{{Address4}}\": str(row_dict.get('Address4', '') or ''),\n",
    "            \"{{Address5}}\": str(row_dict.get('Address5', '') or ''),\n",
    "            \"{{Postcode}}\": str(row_dict.get('Postcode', '') or ''),\n",
    "            \"{{Mobile}}\": str(row_dict.get('Mobile', '') or ''),\n",
    "            \"{{Email}}\": str(row_dict.get('Email', '') or ''),\n",
    "            \"{{BusinessAddress1}}\": str(row_dict.get('BusinessAddress1', '') or ''),\n",
    "            \"{{BusinessAddress2}}\": str(row_dict.get('BusinessAddress2', '') or ''),\n",
    "            \"{{BusinessAddress3}}\": str(row_dict.get('BusinessAddress3', '') or ''),\n",
    "            \"{{BusinessAddress4}}\": str(row_dict.get('BusinessAddress4', '') or ''),\n",
    "            \"{{BusinessAddress5}}\": str(row_dict.get('BusinessAddress5', '') or ''),\n",
    "            \"{{BusinessPostcode}}\": str(row_dict.get('BusinessPostcode', '') or ''),\n",
    "            \"{{BusinessTelephone}}\": str(row_dict.get('BusinessTelephone', '') or ''),\n",
    "            \"{{BusinessFax}}\": str(row_dict.get('BusinessFax', '') or ''),\n",
    "            \"{{BusinessEmail}}\": str(row_dict.get('BusinessEmail', '') or ''),\n",
    "            \"{{JudicialInstructions}}\": str(row_dict.get('JudicialInstructions', '') or ''),\n",
    "            \"{{JudicialInstructionsDate}}\": format_date_iso(row_dict.get('JudicialInstructionsDate')),\n",
    "            \"{{Notes}}\": str(row_dict.get('Notes', '') or ''),\n",
    "        }\n",
    "\n",
    "        # Step 7: Replace placeholders using the replacements dictionary\n",
    "        for key, value in replacements.items():\n",
    "            html_template = html_template.replace(key, value)\n",
    "\n",
    "        # Step 8: Handle multiple rows for Other Centres\n",
    "        other_centres_code = \"\"\n",
    "        for i, centre in enumerate(other_centres, start=1):\n",
    "            line = f\"<tr><td id=\\\"midpadding\\\">{i}</td><td id=\\\"midpadding\\\">{centre['OtherCentres']}</td></tr>\"\n",
    "            other_centres_code += line + '\\n'\n",
    "        html_template = html_template.replace(\"{{OtherCentre}}\", other_centres_code)\n",
    "\n",
    "        # Handle roles\n",
    "        roles_code = \"\"\n",
    "        for i, role in enumerate(roles, start=1):\n",
    "            line = f\"<tr><td id=\\\"midpadding\\\">{i}</td><td id=\\\"midpadding\\\">{role['Role']}</td><td id=\\\"midpadding\\\">{format_date(role['DateOfAppointment'])}</td><td id=\\\"midpadding\\\">{format_date(role['EndDateOfAppointment'])}</td></tr>\"\n",
    "            roles_code += line + '\\n'\n",
    "            \n",
    "        html_template = html_template.replace(\"{{AppointmentPlaceHolder}}\", roles_code)\n",
    "\n",
    "        # History Details\n",
    "        History_Code = ''\n",
    "        for index, row in enumerate(history, start=1):\n",
    "            line = f\"<tr><td id=\\\"midpadding\\\">{format_date(row['HistDate'])}</td><td id=\\\"midpadding\\\">{row['HistType']}</td><td id=\\\"midpadding\\\">{row['UserName']}</td><td id=\\\"midpadding\\\">{row['Comment']}</td></tr>\"\n",
    "            History_Code += line + '\\n'\n",
    "        html_template = html_template.replace(f\"{{{{HistoryPlaceHolder}}}}\", History_Code)\n",
    "\n",
    "        # Step 9: Return the transformed HTML content\n",
    "        return html_template, \"Success\"\n",
    "\n",
    "    except Exception as e:\n",
    "        print(f\"Error writing file for Adjudicator ID: {adjudicator_id}: {str(e)}\")\n",
    "        return None, f\"Error writing file: {str(e)}\"\n",
    "\n",
    "# Define a function to run the HTML generation for each partition\n",
    "def process_html_partition(partition, judicial_officer_details_bc, other_centres_bc, roles_bc, history_bc):\n",
    "    results = []\n",
    "    for row in partition:\n",
    "        adjudicator_id = row['AdjudicatorId']\n",
    "        html_content, status = generate_html_content(\n",
    "            adjudicator_id,\n",
    "            judicial_officer_details_bc.value,\n",
    "            other_centres_bc.value,\n",
    "            roles_bc.value,\n",
    "            history_bc.value\n",
    "        )\n",
    "        \n",
    "        # if html_content is None:\n",
    "        #     continue\n",
    "        \n",
    "        # Define the target path for each Adjudicator's HTML file\n",
    "        target_path = f\"{gold_outputs}/HTML/judicial_officer_{adjudicator_id}.html\"\n",
    "        \n",
    "        # Upload the HTML content to Azure Blob Storage\n",
    "        blob_client = container_client.get_blob_client(target_path)\n",
    "        # blob_client.upload_blob(html_content, overwrite=True)\n",
    "        if status == \"Success\":\n",
    "            try:\n",
    "                blob_client.upload_blob(html_content, overwrite=True)\n",
    "            except Exception as e:\n",
    "                print(f\"Error uploading HTML for Adjudicator ID {adjudicator_id}: {str(e)}\")\n",
    "                continue  # Skip to the next Adjudicator\n",
    "\n",
    "        # Append the result\n",
    "        results.append((adjudicator_id, target_path, status))\n",
    "    return results\n",
    "\n",
    "\n",
    "\n",
    "@dlt.table(\n",
    "    name=\"gold_joh_html_generation_status\",\n",
    "    comment=\"Delta Live Table for Adjudicator HTML Generation Status.\",\n",
    "    path=f\"{gold_mnt}/gold_joh_html_generation_status\"\n",
    ")\n",
    "def gold_joh_html_generation_status():\n",
    "    df_stg_joh_filtered = dlt.read(\"stg_joh_filtered\")\n",
    "    df_judicial_officer_details = dlt.read(\"silver_adjudicator_detail\")\n",
    "    df_other_centres = dlt.read(\"silver_othercentre_detail\")\n",
    "    df_roles = dlt.read(\"silver_appointment_detail\")\n",
    "    df_history = dlt.read(\"silver_history_detail\")\n",
    "\n",
    "    # Load the necessary dataframes from Hive metastore if not initial load\n",
    "    if read_hive == True:\n",
    "        df_stg_joh_filtered = spark.read.table(f\"hive_metastore.{hive_schema}.stg_joh_filtered\")\n",
    "        df_judicial_officer_details = spark.read.table(f\"hive_metastore.{hive_schema}.silver_adjudicator_detail\")\n",
    "        df_other_centres = spark.read.table(f\"hive_metastore.{hive_schema}.silver_othercentre_detail\")\n",
    "        df_roles = spark.read.table(f\"hive_metastore.{hive_schema}.silver_appointment_detail\")\n",
    "        df_history = spark.read.table(f\"hive_metastore.{hive_schema}.silver_history_detail\")\n",
    "\n",
    "    # Broadcast the dataframes to all workers\n",
    "    judicial_officer_details_bc = spark.sparkContext.broadcast(df_judicial_officer_details.collect())\n",
    "    other_centres_bc = spark.sparkContext.broadcast(df_other_centres.collect())\n",
    "    roles_bc = spark.sparkContext.broadcast(df_roles.collect())\n",
    "    history_bc = spark.sparkContext.broadcast(df_history.collect())\n",
    "\n",
    "    # Repartition the DataFrame by AdjudicatorId to optimize parallel processing\n",
    "    num_partitions = 32  # Setting this to optimize for your 8-worker cluster\n",
    "    repartitioned_df = df_stg_joh_filtered.repartition(num_partitions, \"AdjudicatorId\")\n",
    "\n",
    "    # Run the HTML generation on each partition\n",
    "    result_rdd = repartitioned_df.rdd.mapPartitions(lambda partition: process_html_partition(partition, judicial_officer_details_bc, other_centres_bc, roles_bc, history_bc))\n",
    "\n",
    "    # Collect results\n",
    "    results = result_rdd.collect()\n",
    "\n",
    "    # Create DataFrame for output\n",
    "    schema = StructType([\n",
    "        StructField(\"AdjudicatorId\", LongType(), True),\n",
    "        StructField(\"HTML_Path\", StringType(), True),\n",
    "        StructField(\"Status\", StringType(), True)\n",
    "    ])\n",
    "    html_result_df = spark.createDataFrame(results, schema=schema)\n",
    "\n",
    "    # Log the HTML paths in the Delta Live Table\n",
    "    return html_result_df.select(\"AdjudicatorId\", \"HTML_Path\", \"Status\")\n"
   ]
  },
  {
   "cell_type": "markdown",
   "metadata": {
    "application/vnd.databricks.v1+cell": {
     "cellMetadata": {
      "byteLimit": 2048000,
      "rowLimit": 10000
     },
     "inputWidgets": {},
     "nuid": "eea51cc1-041a-4d68-bf0a-8e75f728bedb",
     "showTitle": false,
     "tableResultSettingsMap": {},
     "title": ""
    }
   },
   "source": [
    "### Generate JSON"
   ]
  },
  {
   "cell_type": "markdown",
   "metadata": {
    "application/vnd.databricks.v1+cell": {
     "cellMetadata": {
      "byteLimit": 2048000,
      "rowLimit": 10000
     },
     "inputWidgets": {},
     "nuid": "ffca4938-95da-44cb-bf50-a4cb1baad250",
     "showTitle": false,
     "tableResultSettingsMap": {},
     "title": ""
    }
   },
   "source": [
    "#### Create gold_adjudicator_Json_generation_status & Processing Adjudicator Json's\n",
    "This section is to prallel process the json and create atracker table with log information."
   ]
  },
  {
   "cell_type": "code",
   "execution_count": 0,
   "metadata": {
    "application/vnd.databricks.v1+cell": {
     "cellMetadata": {
      "byteLimit": 2048000,
      "rowLimit": 10000
     },
     "inputWidgets": {},
     "nuid": "47b8e4a4-a942-4f7f-9f40-04c175528cd7",
     "showTitle": true,
     "tableResultSettingsMap": {},
     "title": "Generating Judicial Officer Profiles in JSON Outputs"
    }
   },
   "outputs": [],
   "source": [
    "# from pyspark.sql.functions import col\n",
    "# from pyspark.sql.types import LongType, StringType, StructType, StructField\n",
    "# from datetime import datetime\n",
    "# import json\n",
    "\n",
    "# # Step 5: Date formatting helper\n",
    "# def format_date_iso(date_value):\n",
    "#     if date_value:\n",
    "#         return datetime.strftime(date_value, \"%Y-%m-%d\")\n",
    "#     return \"\"\n",
    "\n",
    "# def format_date(date_value):\n",
    "#     if date_value:\n",
    "#         return datetime.strftime(date_value, \"%d/%m/%Y\")\n",
    "#     return \"\"\n",
    "\n",
    "# # Helper function to find data from a list by AdjudicatorId\n",
    "# def find_data_in_list(data_list, adjudicator_id):\n",
    "#     for row in data_list:\n",
    "#         if row['AdjudicatorId'] == adjudicator_id:\n",
    "#             return row\n",
    "#     return None\n",
    "\n",
    "# Define the function to generate JSON content for a given adjudicator\n",
    "def generate_json_content(adjudicator_id, judicial_officer_details_list, other_centres_list, roles_list, history_list):\n",
    "    try:\n",
    "        # Step 1: Find judicial officer details\n",
    "        judicial_officer_details = find_data_in_list(judicial_officer_details_list, adjudicator_id)\n",
    "        if not judicial_officer_details:\n",
    "            print(f\"No details found for Adjudicator ID: {adjudicator_id}\")\n",
    "            return None, \"No details found\"\n",
    "\n",
    "        # Step 2: Find other centres\n",
    "        other_centres = [centre for centre in other_centres_list if centre['AdjudicatorId'] == adjudicator_id]\n",
    "\n",
    "        # Step 3: Find roles\n",
    "        roles = [role for role in roles_list if role['AdjudicatorId'] == adjudicator_id]\n",
    "\n",
    "        # Step 4: Find history\n",
    "        history = [hist for hist in history_list if hist['AdjudicatorId'] == adjudicator_id]\n",
    "\n",
    "        # Step 6: Convert the Spark Row object to a dictionary\n",
    "        row_dict = judicial_officer_details.asDict()  # Convert Spark Row object to a dictionary\n",
    "\n",
    "        # Create a dictionary with the data\n",
    "        json_data = {\n",
    "            \"Surname\": row_dict.get('Surname', ''),\n",
    "            \"Title\": row_dict.get('Title', ''),\n",
    "            \"Forenames\": row_dict.get('Forenames', ''),\n",
    "            \"DateOfBirth\": format_date_iso(row_dict.get('DateOfBirth')),\n",
    "            \"CorrespondenceAddress\": row_dict.get('CorrespondenceAddress', ''),\n",
    "            \"Telephone\": row_dict.get('ContactTelephone', ''),\n",
    "            \"ContactDetails\": row_dict.get('ContactDetails', ''),\n",
    "            \"DesignatedCentre\": row_dict.get('DesignatedCentre', ''),\n",
    "            \"EmploymentTerm\": row_dict.get('EmploymentTerm', ''),\n",
    "            \"FullTime\": row_dict.get('FullTime', ''),\n",
    "            \"IdentityNumber\": row_dict.get('IdentityNumber', ''),\n",
    "            \"DateOfRetirement\": format_date_iso(row_dict.get('DateOfRetirement')),\n",
    "            \"ContractEndDate\": format_date_iso(row_dict.get('ContractEndDate')),\n",
    "            \"ContractRenewalDate\": format_date_iso(row_dict.get('ContractRenewalDate')),\n",
    "            \"DoNotUseReason\": row_dict.get('DoNotUseReason', ''),\n",
    "            \"JudicialStatus\": row_dict.get('JudicialStatus', ''),\n",
    "            \"Address1\": row_dict.get('Address1', ''),\n",
    "            \"Address2\": row_dict.get('Address2', ''),\n",
    "            \"Address3\": row_dict.get('Address3', ''),\n",
    "            \"Address4\": row_dict.get('Address4', ''),\n",
    "            \"Address5\": row_dict.get('Address5', ''),\n",
    "            \"Postcode\": row_dict.get('Postcode', ''),\n",
    "            \"Mobile\": row_dict.get('Mobile', ''),\n",
    "            \"Email\": row_dict.get('Email', ''),\n",
    "            \"BusinessAddress1\": row_dict.get('BusinessAddress1', ''),\n",
    "            \"BusinessAddress2\": row_dict.get('BusinessAddress2', ''),\n",
    "            \"BusinessAddress3\": row_dict.get('BusinessAddress3', ''),\n",
    "            \"BusinessAddress4\": row_dict.get('BusinessAddress4', ''),\n",
    "            \"BusinessAddress5\": row_dict.get('BusinessAddress5', ''),\n",
    "            \"BusinessPostcode\": row_dict.get('BusinessPostcode', ''),\n",
    "            \"BusinessTelephone\": row_dict.get('BusinessTelephone', ''),\n",
    "            \"BusinessFax\": row_dict.get('BusinessFax', ''),\n",
    "            \"BusinessEmail\": row_dict.get('BusinessEmail', ''),\n",
    "            \"JudicialInstructions\": row_dict.get('JudicialInstructions', ''),\n",
    "            \"JudicialInstructionsDate\": format_date_iso(row_dict.get('JudicialInstructionsDate')),\n",
    "            \"Notes\": row_dict.get('Notes', ''),\n",
    "            \"OtherCentres\": [centre['OtherCentres'] for centre in other_centres],\n",
    "            \"Roles\": [{\"Role\": role['Role'], \"DateOfAppointment\": format_date(role['DateOfAppointment']), \"EndDateOfAppointment\": format_date(role['EndDateOfAppointment'])} for role in roles],\n",
    "            \"History\": [{\"HistDate\": format_date(hist['HistDate']), \"HistType\": hist['HistType'], \"UserName\": hist['UserName'], \"Comment\": hist['Comment']} for hist in history]\n",
    "        }\n",
    "\n",
    "        # Convert the dictionary to a JSON string\n",
    "        json_content = json.dumps(json_data, indent=4)\n",
    "\n",
    "        # Step 9: Return the transformed JSON content\n",
    "        return json_content, \"Success\"\n",
    "\n",
    "    except Exception as e:\n",
    "        print(f\"Error writing file for Adjudicator ID: {adjudicator_id}: {str(e)}\")\n",
    "        return None, f\"Error writing file: {str(e)}\"\n",
    "\n",
    "# Define a function to run the JSON generation for each partition\n",
    "def process_json_partition(partition, judicial_officer_details_bc, other_centres_bc, roles_bc, history_bc):\n",
    "    results = []\n",
    "    for row in partition:\n",
    "        adjudicator_id = row['AdjudicatorId']\n",
    "        json_content, status = generate_json_content(\n",
    "            adjudicator_id,\n",
    "            judicial_officer_details_bc.value,\n",
    "            other_centres_bc.value,\n",
    "            roles_bc.value,\n",
    "            history_bc.value\n",
    "        )\n",
    "        \n",
    "        if json_content is None:\n",
    "            continue\n",
    "        \n",
    "        # Define the target path for each Adjudicator's JSON file\n",
    "        target_path = f\"{gold_outputs}/JSON/judicial_officer_{adjudicator_id}.json\"\n",
    "        \n",
    "        # Upload the JSON content to Azure Blob Storage\n",
    "        blob_client = container_client.get_blob_client(target_path)\n",
    "        # blob_client.upload_blob(json_content, overwrite=True)\n",
    "\n",
    "        try:\n",
    "            blob_client.upload_blob(json_content, overwrite=True)\n",
    "        except Exception as e:\n",
    "            print(f\"Error uploading HTML for Adjudicator ID {adjudicator_id}: {str(e)}\")\n",
    "            continue  # Skip to the next Adjudicator\n",
    "\n",
    "        \n",
    "        # Append the result\n",
    "        results.append((adjudicator_id, target_path, status))\n",
    "    return results\n",
    "\n",
    "@dlt.table(\n",
    "    name=\"gold_joh_json_generation_status\",\n",
    "    comment=\"Delta Live Table for Adjudicator JSON Generation Status.\",\n",
    "    path=f\"{gold_mnt}/gold_joh_json_generation_status\"\n",
    ")\n",
    "def gold_joh_json_generation_status():\n",
    "    df_stg_joh_filtered = dlt.read(\"stg_joh_filtered\")\n",
    "    df_judicial_officer_details = dlt.read(\"silver_adjudicator_detail\")\n",
    "    df_other_centres = dlt.read(\"silver_othercentre_detail\")\n",
    "    df_roles = dlt.read(\"silver_appointment_detail\")\n",
    "    df_history = dlt.read(\"silver_history_detail\")\n",
    "\n",
    "    # Load the necessary dataframes from Hive metastore if not initial load\n",
    "    if read_hive == True:\n",
    "        df_stg_joh_filtered = spark.read.table(f\"hive_metastore.{hive_schema}.stg_joh_filtered\")\n",
    "        df_judicial_officer_details = spark.read.table(f\"hive_metastore.{hive_schema}.silver_adjudicator_detail\")\n",
    "        df_other_centres = spark.read.table(f\"hive_metastore.{hive_schema}.silver_othercentre_detail\")\n",
    "        df_roles = spark.read.table(f\"hive_metastore.{hive_schema}.silver_appointment_detail\")\n",
    "        df_history = spark.read.table(f\"hive_metastore.{hive_schema}.silver_history_detail\")\n",
    "\n",
    "    # Broadcast the dataframes to all workers\n",
    "    judicial_officer_details_bc = spark.sparkContext.broadcast(df_judicial_officer_details.collect())\n",
    "    other_centres_bc = spark.sparkContext.broadcast(df_other_centres.collect())\n",
    "    roles_bc = spark.sparkContext.broadcast(df_roles.collect())\n",
    "    history_bc = spark.sparkContext.broadcast(df_history.collect())\n",
    "\n",
    "    # Repartition the DataFrame by AdjudicatorId to optimize parallel processing\n",
    "    num_partitions = 32  # Setting this to optimize for your 8-worker cluster\n",
    "    repartitioned_df = df_stg_joh_filtered.repartition(32, \"AdjudicatorId\")\n",
    "\n",
    "    # Run the JSON generation on each partition\n",
    "    result_rdd = repartitioned_df.rdd.mapPartitions(lambda partition: process_json_partition(partition, judicial_officer_details_bc, other_centres_bc, roles_bc, history_bc))\n",
    "\n",
    "    # Collect results\n",
    "    results = result_rdd.collect()\n",
    "\n",
    "    # Create DataFrame for output\n",
    "    schema = StructType([\n",
    "        StructField(\"AdjudicatorId\", LongType(), True),\n",
    "        StructField(\"JSON_Path\", StringType(), True),\n",
    "        StructField(\"Status\", StringType(), True)\n",
    "    ])\n",
    "    json_result_df = spark.createDataFrame(results, schema=schema)\n",
    "\n",
    "    # Log the JSON paths in the Delta Live Table\n",
    "    return json_result_df.select(\"AdjudicatorId\", \"JSON_Path\", \"Status\")\n",
    "\n"
   ]
  },
  {
   "cell_type": "markdown",
   "metadata": {
    "application/vnd.databricks.v1+cell": {
     "cellMetadata": {
      "byteLimit": 2048000,
      "rowLimit": 10000
     },
     "inputWidgets": {},
     "nuid": "4d6fde46-d895-4566-89e3-64e80ecc0c5d",
     "showTitle": false,
     "tableResultSettingsMap": {},
     "title": ""
    }
   },
   "source": [
    "### Generate a360 files"
   ]
  },
  {
   "cell_type": "markdown",
   "metadata": {
    "application/vnd.databricks.v1+cell": {
     "cellMetadata": {
      "byteLimit": 2048000,
      "rowLimit": 10000
     },
     "inputWidgets": {},
     "nuid": "a76c4c06-839b-44f8-a017-b945ab851d29",
     "showTitle": false,
     "tableResultSettingsMap": {},
     "title": ""
    }
   },
   "source": [
    "#### Create gold_adjudicator_a360_generation_status & Processing Adjudicator a360's\n",
    "This section is to prallel process the a360 and create atracker table with log information."
   ]
  },
  {
   "cell_type": "code",
   "execution_count": 0,
   "metadata": {
    "application/vnd.databricks.v1+cell": {
     "cellMetadata": {
      "byteLimit": 2048000,
      "rowLimit": 10000
     },
     "inputWidgets": {},
     "nuid": "ad380b63-e91f-42ed-bda0-d57e51801cc1",
     "showTitle": true,
     "tableResultSettingsMap": {},
     "title": "Generating metadata in A360 Outputs"
    }
   },
   "outputs": [],
   "source": [
    "# Function to format dates\n",
    "def format_date_zulu(date_value):\n",
    "    if isinstance(date_value, str):  # If the date is already a string, return as is\n",
    "        return date_value\n",
    "    elif isinstance(date_value, (datetime,)):\n",
    "        return datetime.strftime(date_value, \"%Y-%m-%dT%H:%M:%SZ\")\n",
    "    return None  # Return None if the date is invalid or not provided\n",
    "\n",
    "# Function to generate an .a360 file for a given adjudicator\n",
    "def generate_a360_file_for_adjudicator(adjudicator_id, joh_metadata_list, container_client):\n",
    "    try:\n",
    "        # Find judicial officer metadata\n",
    "        joh_metadata = next((row for row in joh_metadata_list if row['client_identifier'] == adjudicator_id), None)\n",
    "        if not joh_metadata:\n",
    "            print(f\"No details found for Adjudicator ID: {adjudicator_id}\")\n",
    "            return None, f\"No details for Adjudicator ID: {adjudicator_id}\"\n",
    "\n",
    "        # Create metadata, HTML, and JSON strings\n",
    "        metadata_data = {\n",
    "            \"operation\": \"create_record\",\n",
    "            \"relation_id\": joh_metadata.client_identifier,\n",
    "            \"record_metadata\": {\n",
    "                \"publisher\": joh_metadata.publisher,\n",
    "                \"record_class\": joh_metadata.record_class,\n",
    "                \"region\": joh_metadata.region,\n",
    "                \"recordDate\": format_date_zulu(joh_metadata.recordDate),\n",
    "                \"event_date\": format_date_zulu(joh_metadata.event_date),\n",
    "                \"client_identifier\": joh_metadata.client_identifier,\n",
    "                \"bf_001\": joh_metadata.bf_001,\n",
    "                \"bf_002\": joh_metadata.bf_002,\n",
    "                \"bf_003\": joh_metadata.bf_003,\n",
    "                \"bf_004\": format_date_zulu(joh_metadata.bf_004),\n",
    "                \"bf_005\": joh_metadata.bf_005\n",
    "            }\n",
    "        }\n",
    "\n",
    "        html_data = {\n",
    "            \"operation\": \"upload_new_file\",\n",
    "            \"relation_id\": joh_metadata.client_identifier,\n",
    "            \"file_metadata\": {\n",
    "                \"publisher\": joh_metadata.publisher,\n",
    "                \"dz_file_name\": f\"judicial_officer_{adjudicator_id}.html\",\n",
    "                \"file_tag\": \"html\"\n",
    "            }\n",
    "        }\n",
    "\n",
    "        json_data = {\n",
    "            \"operation\": \"upload_new_file\",\n",
    "            \"relation_id\": joh_metadata.client_identifier,\n",
    "            \"file_metadata\": {\n",
    "                \"publisher\": joh_metadata.publisher,\n",
    "                \"dz_file_name\": f\"judicial_officer_{adjudicator_id}.json\",\n",
    "                \"file_tag\": \"json\"\n",
    "            }\n",
    "        }\n",
    "\n",
    "        # Convert dictionaries to JSON strings\n",
    "        metadata_data_str = json.dumps(metadata_data, separators=(',', ':'))\n",
    "        html_data_str = json.dumps(html_data, separators=(',', ':'))\n",
    "        json_data_str = json.dumps(json_data, separators=(',', ':'))\n",
    "\n",
    "        # Combine the data\n",
    "        all_data_str = f\"{metadata_data_str}\\n{html_data_str}\\n{json_data_str}\"\n",
    "\n",
    "        # Define the target path for each Adjudicator's A360 file\n",
    "        target_path = f\"{gold_outputs}/A360/judicial_officer_{adjudicator_id}.a360\"\n",
    "        \n",
    "        # Upload the A360 content to Azure Blob Storage\n",
    "        # Not standard content so, write the text here\n",
    "        blob_client = container_client.get_blob_client(target_path)\n",
    "        blob_client.upload_blob(all_data_str, overwrite=True)\n",
    "\n",
    "\n",
    "        # print(f\"A360 file created for Adjudicator with ID: {adjudicator_id} at {target_path}\")\n",
    "        return target_path, \"Success\"\n",
    "    except Exception as e:\n",
    "        print(f\"Error writing file for Adjudicator ID: {adjudicator_id}: {str(e)}\")\n",
    "        return None, f\"Error writing file: {str(e)}\"\n",
    "\n",
    "# Define a function to run the A360 file generation for each partition\n",
    "def process_partition_a360(partition, joh_metadata_bc, container_client):\n",
    "    results = []\n",
    "    for row in partition:\n",
    "        adjudicator_id = row['AdjudicatorId']\n",
    "        file_name, status = generate_a360_file_for_adjudicator(\n",
    "            adjudicator_id,\n",
    "            joh_metadata_bc.value,\n",
    "            container_client\n",
    "        )\n",
    "        \n",
    "        if file_name is None:\n",
    "            results.append((adjudicator_id, \"\", status))\n",
    "        else:\n",
    "            results.append((adjudicator_id, file_name, status))\n",
    "    return results\n",
    "\n",
    "\n",
    "@dlt.table(\n",
    "    name=\"gold_joh_a360_generation_status\",\n",
    "    comment=\"Delta Live Table for Silver Adjudicator .a360 File Generation Status.\",\n",
    "    path=f\"{gold_mnt}/gold_joh_a360_generation_status\"\n",
    ")\n",
    "def gold_joh_a360_generation_status():\n",
    "\n",
    "    df_stg_joh_filtered = dlt.read(\"stg_joh_filtered\")\n",
    "    df_joh_metadata = dlt.read(\"silver_archive_metadata\")\n",
    "\n",
    "    # Load necessary data from Hive tables if not initial load\n",
    "    if read_hive == True:\n",
    "        print(\"Running non initial load\")\n",
    "        df_stg_joh_filtered = spark.read.table(f\"hive_metastore.{hive_schema}.stg_joh_filtered\")\n",
    "        df_joh_metadata = spark.read.table(f\"hive_metastore.{hive_schema}.silver_archive_metadata\")\n",
    "\n",
    "    # Broadcast the dataframes to all workers\n",
    "    joh_metadata_bc = spark.sparkContext.broadcast(df_joh_metadata.collect())\n",
    "\n",
    "    # Repartition the DataFrame by AdjudicatorId to optimize parallel processing\n",
    "    num_partitions = 32  # Setting this to optimize for your 8-worker cluster\n",
    "    repartitioned_df = df_stg_joh_filtered.repartition(num_partitions, \"AdjudicatorId\")\n",
    "\n",
    "    # # Define the container client for Azure Blob Storage\n",
    "    # container_client = BlobServiceClient.from_connection_string(\"your_connection_string\").get_container_client(\"your_container_name\")\n",
    "\n",
    "    # Run the A360 file generation on each partition\n",
    "    result_rdd = repartitioned_df.rdd.mapPartitions(lambda partition: process_partition_a360(partition, joh_metadata_bc, container_client))\n",
    "\n",
    "    # Collect results\n",
    "    results = result_rdd.collect()\n",
    "\n",
    "    # Create DataFrame for output\n",
    "    schema = StructType([\n",
    "        StructField(\"AdjudicatorId\", LongType(), True),\n",
    "        StructField(\"GeneratedFilePath\", StringType(), True),\n",
    "        StructField(\"Status\", StringType(), True)\n",
    "    ])\n",
    "    a360_result_df = spark.createDataFrame(results, schema=schema)\n",
    "\n",
    "    # Log the A360 paths in the Delta Live Table\n",
    "    return a360_result_df.select(\"AdjudicatorId\", \"GeneratedFilePath\", \"Status\")\n"
   ]
  },
  {
   "cell_type": "markdown",
   "metadata": {
    "application/vnd.databricks.v1+cell": {
     "cellMetadata": {
      "byteLimit": 2048000,
      "rowLimit": 10000
     },
     "inputWidgets": {},
     "nuid": "2fe46e1c-3838-45e1-a886-34d3f4e08a2b",
     "showTitle": false,
     "tableResultSettingsMap": {},
     "title": ""
    }
   },
   "source": [
    "## Appendix"
   ]
  },
  {
   "cell_type": "code",
   "execution_count": 0,
   "metadata": {
    "application/vnd.databricks.v1+cell": {
     "cellMetadata": {
      "byteLimit": 2048000,
      "rowLimit": 10000
     },
     "inputWidgets": {},
     "nuid": "41863b25-dd67-4631-958b-2cc3a1a045a9",
     "showTitle": true,
     "tableResultSettingsMap": {},
     "title": "Sample A360"
    }
   },
   "outputs": [],
   "source": [
    "#Sample frin td\n",
    "# {\"operation\": \"create_record\",\"relation_id\":\"152820\",\"record_metadata\":{\"publisher\":\"IADEMO\",\"record_class\":\"IADEMO\",\"region\":\"GBR\",\"recordDate\":\"2023-04-12T00:00:00Z\",\"event_date\":\"2023-04-12T00:00:00Z\",\"client_identifier\":\"HU/02287/2021\",\"bf_001\":\"Orgest\",\"bf_002\":\"Hoxha\",\"bf_003\":\"A1234567/001\",\"bf_004\":\"1990-06-09T00:00:00Z\",\"bf_005\":\"ABC/12345\",\"bf_010\":\"2024-01-01T00:00:00Z\"}}\n",
    "\n",
    "# {\"operation\": \"upload_new_file\",\"relation_id\":\"152820\",\"file_metadata\":{\"publisher\":\"IADEMO\",\"dz_file_name\":\"HU_02287_2021.json\",\"file_tag\":\"json\"}}\n",
    "\n",
    "# {\"operation\": \"upload_new_file\",\"relation_id\":\"152820\",\"file_metadata\":{\"publisher\":\"IADEMO\",\"dz_file_name\":\"HU022872021.pdf\",\"file_tag\":\"pdf\"}}\n",
    " "
   ]
  },
  {
   "cell_type": "code",
   "execution_count": 0,
   "metadata": {
    "application/vnd.databricks.v1+cell": {
     "cellMetadata": {
      "byteLimit": 2048000,
      "rowLimit": 10000
     },
     "inputWidgets": {},
     "nuid": "d16b9490-bbc1-49a4-9fde-2d0cfbc9b324",
     "showTitle": false,
     "tableResultSettingsMap": {},
     "title": ""
    }
   },
   "outputs": [],
   "source": [
    "# %sql\n",
    "# select * from hive_metastore.ariadm_arm_joh_test.gold_joh_html_generation_status"
   ]
  },
  {
   "cell_type": "code",
   "execution_count": 0,
   "metadata": {
    "application/vnd.databricks.v1+cell": {
     "cellMetadata": {
      "byteLimit": 2048000,
      "implicitDf": true,
      "rowLimit": 10000
     },
     "inputWidgets": {},
     "nuid": "860777da-fa8b-487c-b095-90e73e1bd99f",
     "showTitle": false,
     "tableResultSettingsMap": {},
     "title": ""
    }
   },
   "outputs": [],
   "source": [
    "# %sql\n",
    "# drop schema hive_metastore.ariadm_arm_joh_test cascade"
   ]
  },
  {
   "cell_type": "code",
   "execution_count": 0,
   "metadata": {
    "application/vnd.databricks.v1+cell": {
     "cellMetadata": {
      "byteLimit": 2048000,
      "rowLimit": 10000
     },
     "inputWidgets": {},
     "nuid": "4934d692-954c-4a75-a987-a1d0a9dc69e2",
     "showTitle": false,
     "tableResultSettingsMap": {},
     "title": ""
    }
   },
   "outputs": [],
   "source": [
    "# gold_mnt = \"/mnt/ingest00curatedsboxgold/ARIADM/ARM/JOH/test\"\n",
    "# display(spark.read.format(\"binaryFile\").load(f\"{gold_mnt}/HTML\").count())\n",
    "# display(spark.read.format(\"binaryFile\").load(f\"{gold_mnt}/JSON\").count())\n",
    "# display(spark.read.format(\"binaryFile\").load(f\"{gold_mnt}/A360\").count())"
   ]
  }
 ],
 "metadata": {
  "application/vnd.databricks.v1+notebook": {
   "computePreferences": null,
   "dashboards": [],
   "environmentMetadata": null,
   "language": "python",
   "notebookMetadata": {
    "mostRecentlyExecutedCommandWithImplicitDF": {
     "commandId": -1,
     "dataframes": [
      "_sqldf"
     ]
    },
    "pythonIndentUnit": 4
   },
   "notebookName": "ARIADM_ARM_JOH",
   "widgets": {
    "bronze_mnt": {
     "currentValue": "/mnt/ingest00curatedsboxbronze/ARIADM/ARM/JOH/test",
     "nuid": "5515dd10-f57f-4f9e-ba94-f8a0491d6977",
     "typedWidgetInfo": {
      "autoCreated": false,
      "defaultValue": "/mnt/ingest00curatedsboxbronze/ARIADM/ARM/JOH/test",
      "label": null,
      "name": "bronze_mnt",
      "options": {
       "widgetDisplayType": "Text",
       "validationRegex": null
      },
      "parameterDataType": "String"
     },
     "widgetInfo": {
      "widgetType": "text",
      "defaultValue": "/mnt/ingest00curatedsboxbronze/ARIADM/ARM/JOH/test",
      "label": null,
      "name": "bronze_mnt",
      "options": {
       "widgetType": "text",
       "autoCreated": null,
       "validationRegex": null
      }
     }
    },
    "gold_mnt": {
     "currentValue": "/mnt/ingest00curatedsboxgold/ARIADM/ARM/JOH/test",
     "nuid": "f295a653-1c1d-4768-aee7-9082ecd693a5",
     "typedWidgetInfo": {
      "autoCreated": false,
      "defaultValue": "/mnt/ingest00curatedsboxgold/ARIADM/ARM/JOH/test",
      "label": null,
      "name": "gold_mnt",
      "options": {
       "widgetDisplayType": "Text",
       "validationRegex": null
      },
      "parameterDataType": "String"
     },
     "widgetInfo": {
      "widgetType": "text",
      "defaultValue": "/mnt/ingest00curatedsboxgold/ARIADM/ARM/JOH/test",
      "label": null,
      "name": "gold_mnt",
      "options": {
       "widgetType": "text",
       "autoCreated": null,
       "validationRegex": null
      }
     }
    },
    "gold_outputs": {
     "currentValue": "ARIADM/ARM/JOH/test",
     "nuid": "c2b0ef1c-7b65-455c-b7b6-4c680e73167f",
     "typedWidgetInfo": {
      "autoCreated": false,
      "defaultValue": "ARIADM/ARM/JOH/test",
      "label": null,
      "name": "gold_outputs",
      "options": {
       "widgetDisplayType": "Text",
       "validationRegex": null
      },
      "parameterDataType": "String"
     },
     "widgetInfo": {
      "widgetType": "text",
      "defaultValue": "ARIADM/ARM/JOH/test",
      "label": null,
      "name": "gold_outputs",
      "options": {
       "widgetType": "text",
       "autoCreated": null,
       "validationRegex": null
      }
     }
    },
    "hive_schema": {
     "currentValue": "ariadm_arm_joh_test",
     "nuid": "aea2f125-5aef-4280-8ce1-f4720ea91a2e",
     "typedWidgetInfo": {
      "autoCreated": false,
      "defaultValue": "ariadm_arm_joh_test",
      "label": null,
      "name": "hive_schema",
      "options": {
       "widgetDisplayType": "Text",
       "validationRegex": null
      },
      "parameterDataType": "String"
     },
     "widgetInfo": {
      "widgetType": "text",
      "defaultValue": "ariadm_arm_joh_test",
      "label": null,
      "name": "hive_schema",
      "options": {
       "widgetType": "text",
       "autoCreated": null,
       "validationRegex": null
      }
     }
    },
    "initial_Load": {
     "currentValue": "",
     "nuid": "0ae41e8b-c7a1-4946-9ff7-943065a2bc9b",
     "typedWidgetInfo": {
      "autoCreated": false,
      "defaultValue": "False",
      "label": null,
      "name": "initial_Load",
      "options": {
       "widgetDisplayType": "Text",
       "validationRegex": null
      },
      "parameterDataType": "String"
     },
     "widgetInfo": {
      "widgetType": "text",
      "defaultValue": "False",
      "label": null,
      "name": "initial_Load",
      "options": {
       "widgetType": "text",
       "autoCreated": null,
       "validationRegex": null
      }
     }
    },
    "landing_mnt": {
     "currentValue": "/mnt/ingest00landingsboxlanding/test",
     "nuid": "6d5dcc67-1e61-4051-a81f-18436e579a33",
     "typedWidgetInfo": {
      "autoCreated": false,
      "defaultValue": "/mnt/ingest00landingsboxlanding/test",
      "label": null,
      "name": "landing_mnt",
      "options": {
       "widgetDisplayType": "Text",
       "validationRegex": null
      },
      "parameterDataType": "String"
     },
     "widgetInfo": {
      "widgetType": "text",
      "defaultValue": "/mnt/ingest00landingsboxlanding/test",
      "label": null,
      "name": "landing_mnt",
      "options": {
       "widgetType": "text",
       "autoCreated": null,
       "validationRegex": null
      }
     }
    },
    "raw_mnt": {
     "currentValue": "/mnt/ingest00rawsboxraw/ARIADM/ARM/JOH/test",
     "nuid": "49866b96-889b-4c4a-bfd8-116ff9fbfb65",
     "typedWidgetInfo": {
      "autoCreated": false,
      "defaultValue": "/mnt/ingest00rawsboxraw/ARIADM/ARM/JOH/test",
      "label": null,
      "name": "raw_mnt",
      "options": {
       "widgetDisplayType": "Text",
       "validationRegex": null
      },
      "parameterDataType": "String"
     },
     "widgetInfo": {
      "widgetType": "text",
      "defaultValue": "/mnt/ingest00rawsboxraw/ARIADM/ARM/JOH/test",
      "label": null,
      "name": "raw_mnt",
      "options": {
       "widgetType": "text",
       "autoCreated": null,
       "validationRegex": null
      }
     }
    },
    "silver_mnt": {
     "currentValue": "/mnt/ingest00curatedsboxsilver/ARIADM/ARM/JOH/test",
     "nuid": "58a96c0c-c625-43d3-9c23-94f2c021dbaf",
     "typedWidgetInfo": {
      "autoCreated": false,
      "defaultValue": "/mnt/ingest00curatedsboxsilver/ARIADM/ARM/JOH/test",
      "label": null,
      "name": "silver_mnt",
      "options": {
       "widgetDisplayType": "Text",
       "validationRegex": null
      },
      "parameterDataType": "String"
     },
     "widgetInfo": {
      "widgetType": "text",
      "defaultValue": "/mnt/ingest00curatedsboxsilver/ARIADM/ARM/JOH/test",
      "label": null,
      "name": "silver_mnt",
      "options": {
       "widgetType": "text",
       "autoCreated": null,
       "validationRegex": null
      }
     }
    }
   }
  },
  "language_info": {
   "name": "python"
  }
 },
 "nbformat": 4,
 "nbformat_minor": 0
}
