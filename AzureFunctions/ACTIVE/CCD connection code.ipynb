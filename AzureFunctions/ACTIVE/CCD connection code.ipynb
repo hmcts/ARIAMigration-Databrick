{
 "cells": [
  {
   "cell_type": "markdown",
   "metadata": {
    "application/vnd.databricks.v1+cell": {
     "cellMetadata": {
      "byteLimit": 2048000,
      "rowLimit": 10000
     },
     "inputWidgets": {},
     "nuid": "fc25882a-b9e5-4d8f-b735-299a7c2c74ff",
     "showTitle": false,
     "tableResultSettingsMap": {},
     "title": ""
    }
   },
   "source": [
    "# User Access Token"
   ]
  },
  {
   "cell_type": "markdown",
   "metadata": {
    "application/vnd.databricks.v1+cell": {
     "cellMetadata": {
      "byteLimit": 2048000,
      "rowLimit": 10000
     },
     "inputWidgets": {},
     "nuid": "2f124bc8-cb42-4771-85e9-aee06ceb7698",
     "showTitle": false,
     "tableResultSettingsMap": {},
     "title": ""
    }
   },
   "source": [
    "## User Acces Token"
   ]
  },
  {
   "cell_type": "code",
   "execution_count": 0,
   "metadata": {
    "application/vnd.databricks.v1+cell": {
     "cellMetadata": {
      "byteLimit": 2048000,
      "rowLimit": 10000
     },
     "inputWidgets": {},
     "nuid": "f4e4a094-f6c1-4ebc-90e4-8fcfa1444810",
     "showTitle": false,
     "tableResultSettingsMap": {},
     "title": ""
    }
   },
   "outputs": [],
   "source": [
    "# from azure.keyvault import KeyVaultClient\n",
    "import requests\n",
    "# import pyotp"
   ]
  },
  {
   "cell_type": "code",
   "execution_count": 0,
   "metadata": {
    "application/vnd.databricks.v1+cell": {
     "cellMetadata": {
      "byteLimit": 2048000,
      "rowLimit": 10000
     },
     "inputWidgets": {},
     "nuid": "fabfb8a2-a483-40d1-94ad-44ff52d9eafd",
     "showTitle": false,
     "tableResultSettingsMap": {},
     "title": ""
    }
   },
   "outputs": [],
   "source": [
    "## Authenticate to Keyvaults\n",
    "key_Vault_name = \"ia-aat\"\n"
   ]
  },
  {
   "cell_type": "code",
   "execution_count": 0,
   "metadata": {
    "application/vnd.databricks.v1+cell": {
     "cellMetadata": {
      "byteLimit": 2048000,
      "rowLimit": 10000
     },
     "inputWidgets": {},
     "nuid": "5b27d41c-cf41-4aa0-8171-52aaf3ac4dd1",
     "showTitle": false,
     "tableResultSettingsMap": {},
     "title": ""
    }
   },
   "outputs": [],
   "source": [
    "grant_type = \"password\"\n",
    "client_id = dbutils.secrets.get(key_Vault_name, \"idam-client-id\")\n",
    "client_secret = dbutils.secrets.get(key_Vault_name, \"idam-secret\")\n",
    "username = dbutils.secrets.get(key_Vault_name, \"system-username\")\n",
    "password = dbutils.secrets.get(key_Vault_name, \"system-password\")\n",
    "scope = \"openid profile roles\""
   ]
  },
  {
   "cell_type": "code",
   "execution_count": 0,
   "metadata": {
    "application/vnd.databricks.v1+cell": {
     "cellMetadata": {
      "byteLimit": 2048000,
      "rowLimit": 10000
     },
     "inputWidgets": {},
     "nuid": "77fcfd72-b532-4926-811f-d16dd28623a1",
     "showTitle": false,
     "tableResultSettingsMap": {},
     "title": ""
    }
   },
   "outputs": [],
   "source": [
    "# base_url = \"https://idam-api.aat.platform.hmcts.net/o/token\"\n",
    "idam_host = \"https://idam-web-public.aat.platform.hmcts.net\"\n",
    "base_url = f\"{idam_host}/o/token\"\n",
    "\n",
    "headers = {\n",
    "    \"Content-Type\": \"application/x-www-form-urlencoded\"\n",
    "}"
   ]
  },
  {
   "cell_type": "code",
   "execution_count": 0,
   "metadata": {
    "application/vnd.databricks.v1+cell": {
     "cellMetadata": {
      "byteLimit": 2048000,
      "rowLimit": 10000
     },
     "inputWidgets": {},
     "nuid": "f6deee54-9b9f-4aff-9793-c1ab06c6a345",
     "showTitle": false,
     "tableResultSettingsMap": {},
     "title": ""
    }
   },
   "outputs": [],
   "source": [
    "data = {\n",
    "    \"grant_type\": \"password\",\n",
    "    \"client_id\": client_id,\n",
    "    \"client_secret\": client_secret,\n",
    "    \"username\": username,\n",
    "    \"password\": password,\n",
    "    \"scope\": \"openid profile roles\"\n",
    "}\n",
    "\n",
    "# data = {\n",
    "#     \"grant_type\": \"password\",\n",
    "#     \"client_id\": \"iac\",\n",
    "#     \"client_secret\": \"thUphEveC2Ekuqedaneh4jEcRuba4t2t\",\n",
    "#     \"username\": \"iac.idamdashboard.aat@mailinator.com\",\n",
    "#     \"password\": \"AldgateT0wer\",\n",
    "#     # \"scope\": \"openid profile roles\"\n",
    "# }\n",
    "data"
   ]
  },
  {
   "cell_type": "code",
   "execution_count": 0,
   "metadata": {
    "application/vnd.databricks.v1+cell": {
     "cellMetadata": {
      "byteLimit": 2048000,
      "rowLimit": 10000
     },
     "inputWidgets": {},
     "nuid": "9c4c3ba0-5319-4794-a5c7-38fb4b8833a3",
     "showTitle": false,
     "tableResultSettingsMap": {},
     "title": ""
    }
   },
   "outputs": [],
   "source": [
    "def generate_user_token(env):\n",
    "    #----# determine the instance and Keyvault to use #-----#\n",
    "    if env == \"sbox\":\n",
    "        idam_host = \"https://idam-web-public.aat.platform.hmcts.net\"\n",
    "        key_Vault_name = \"ia-aat\"\n",
    "    if env == \"stg\":\n",
    "        idam_host = \"https://idam-web-public.aat.platform.hmcts.net\"\n",
    "        key_Vault_name = \"ia-aat\"\n",
    "    if env == \"prod\":\n",
    "        idam_host = \" \"\n",
    "        key_Vault_name = \"\"\n",
    "\n",
    "    base_url = f\"{idam_host}/o/token\"\n",
    "\n",
    "    headers = {\n",
    "        \"Content-Type\": \"application/x-www-form-urlencoded\"\n",
    "    }\n",
    "    #-----# Get variables from keyvault #-----#\n",
    "    grant_type = \"password\"\n",
    "    client_id = dbutils.secrets.get(key_Vault_name, \"idam-client-id\")\n",
    "    client_secret = dbutils.secrets.get(key_Vault_name, \"idam-secret\")\n",
    "    username = dbutils.secrets.get(key_Vault_name, \"system-username\")\n",
    "    password = dbutils.secrets.get(key_Vault_name, \"system-password\")\n",
    "    scope = \"openid profile roles\"\n",
    "\n",
    "    #-----# Create body of the message #-----#\n",
    "    data = {\n",
    "        \"grant_type\": \"password\",\n",
    "        \"client_id\": client_id,\n",
    "        \"client_secret\": client_secret,\n",
    "        \"username\": username,\n",
    "        \"password\": password,\n",
    "        \"scope\": \"openid profile roles\"\n",
    "    }\n",
    "    #-----# POST Request to get user access token #-----#\n",
    "    try:\n",
    "        idam_response = requests.post(base_url, headers=headers, data=data)\n",
    "        # Check and handle response\n",
    "        if idam_response.status_code == 200:\n",
    "            access_token = idam_response.json()[\"access_token\"]\n",
    "            print(\"Succesfully acquired: User Access Token\")\n",
    "            return access_token\n",
    "        else:\n",
    "            print(\"Failed to get token:\", idam_response.status_code)\n",
    "            print(idam_response.text)\n",
    "    except Exception as e:\n",
    "        print(\"Error:\", e)\n",
    "        return None\n",
    "\n",
    "generate_user_token(\"sbox\")\n",
    "\n"
   ]
  },
  {
   "cell_type": "markdown",
   "metadata": {
    "application/vnd.databricks.v1+cell": {
     "cellMetadata": {
      "byteLimit": 2048000,
      "rowLimit": 10000
     },
     "inputWidgets": {},
     "nuid": "cd5e60b5-c9a8-4b22-a995-c7b1de10453f",
     "showTitle": false,
     "tableResultSettingsMap": {},
     "title": ""
    }
   },
   "source": [
    "## Service to Service Token"
   ]
  },
  {
   "cell_type": "code",
   "execution_count": 0,
   "metadata": {
    "application/vnd.databricks.v1+cell": {
     "cellMetadata": {
      "byteLimit": 2048000,
      "rowLimit": 10000
     },
     "inputWidgets": {},
     "nuid": "870966f6-8daf-4827-a829-42bd121582d7",
     "showTitle": false,
     "tableResultSettingsMap": {},
     "title": ""
    }
   },
   "outputs": [],
   "source": [
    "s2s_base_url = \"http://rpe-service-auth-provider-aat.service.core-compute-aat.internal\""
   ]
  },
  {
   "cell_type": "code",
   "execution_count": 0,
   "metadata": {
    "application/vnd.databricks.v1+cell": {
     "cellMetadata": {
      "byteLimit": 2048000,
      "rowLimit": 10000
     },
     "inputWidgets": {},
     "nuid": "c4f48eee-d086-474c-9c01-16ae739803c4",
     "showTitle": false,
     "tableResultSettingsMap": {},
     "title": ""
    }
   },
   "outputs": [],
   "source": [
    "\n",
    "s2s_url = \"http://rpe-service-auth-provider-aat.service.core-compute-aat.internal\"\n",
    "s2s_secret = \"AAAAAAAAAAAAAAAC\"\n",
    "s2s_microservice = \"iac\""
   ]
  },
  {
   "cell_type": "code",
   "execution_count": 0,
   "metadata": {
    "application/vnd.databricks.v1+cell": {
     "cellMetadata": {
      "byteLimit": 2048000,
      "rowLimit": 10000
     },
     "inputWidgets": {},
     "nuid": "1a7c0d18-c523-4bcf-80ae-e735b618d5af",
     "showTitle": false,
     "tableResultSettingsMap": {},
     "title": ""
    }
   },
   "outputs": [],
   "source": [
    "otp = pyotp.TOTP(s2s_secret).now()\n",
    "\n",
    "otp"
   ]
  },
  {
   "cell_type": "code",
   "execution_count": 0,
   "metadata": {
    "application/vnd.databricks.v1+cell": {
     "cellMetadata": {
      "byteLimit": 2048000,
      "rowLimit": 10000
     },
     "inputWidgets": {},
     "nuid": "178fc06d-dadc-45f7-9f38-6f24f8ea021b",
     "showTitle": false,
     "tableResultSettingsMap": {},
     "title": ""
    }
   },
   "outputs": [],
   "source": [
    "s2s_payload = {\n",
    "    \"microservice\": s2s_microservice,\n",
    "    \"oneTimePassword\": otp\n",
    "}"
   ]
  },
  {
   "cell_type": "code",
   "execution_count": 0,
   "metadata": {
    "application/vnd.databricks.v1+cell": {
     "cellMetadata": {
      "byteLimit": 2048000,
      "rowLimit": 10000
     },
     "inputWidgets": {},
     "nuid": "25c58df0-30c9-47ec-8550-a44562c36674",
     "showTitle": false,
     "tableResultSettingsMap": {},
     "title": ""
    }
   },
   "outputs": [],
   "source": [
    "s2s_response = requests.post(\n",
    "    s2s_base_url,json=s2s_payload)"
   ]
  },
  {
   "cell_type": "markdown",
   "metadata": {
    "application/vnd.databricks.v1+cell": {
     "cellMetadata": {},
     "inputWidgets": {},
     "nuid": "b5deb5d1-d48e-421d-9262-27bd998ebf31",
     "showTitle": false,
     "tableResultSettingsMap": {},
     "title": ""
    }
   },
   "source": [
    "# CCD API"
   ]
  },
  {
   "cell_type": "markdown",
   "metadata": {
    "application/vnd.databricks.v1+cell": {
     "cellMetadata": {},
     "inputWidgets": {},
     "nuid": "0c4b0873-747c-4fd2-9808-0c41797ebdb8",
     "showTitle": false,
     "tableResultSettingsMap": {},
     "title": ""
    }
   },
   "source": [
    "## Start Case Creation"
   ]
  },
  {
   "cell_type": "code",
   "execution_count": 0,
   "metadata": {
    "application/vnd.databricks.v1+cell": {
     "cellMetadata": {},
     "inputWidgets": {},
     "nuid": "7f291ca4-dec7-4d0f-9c27-5ecfd25bbb05",
     "showTitle": false,
     "tableResultSettingsMap": {},
     "title": ""
    }
   },
   "outputs": [],
   "source": [
    "uid = \"get from idam response, user id/user info\"\n",
    "jid = \"IA\"\n",
    "ctid = \"Asylum\"\n",
    "etid = \"ariaCreateCase\"\n",
    "\n"
   ]
  },
  {
   "cell_type": "code",
   "execution_count": 0,
   "metadata": {
    "application/vnd.databricks.v1+cell": {
     "cellMetadata": {},
     "inputWidgets": {},
     "nuid": "207bddb0-832d-4175-8876-9ee11fc54aa1",
     "showTitle": false,
     "tableResultSettingsMap": {},
     "title": ""
    }
   },
   "outputs": [],
   "source": [
    "ccd_base_url = \"ccd-data-store-api-ia-case-api-pr-2660.preview.platform.hmcts.net\"\n",
    "start_case_creation = f\"/caseworkers/{uid}/jurisdictions/{jid}/case-types/{ctid}/event-triggers/{etid}/token\""
   ]
  },
  {
   "cell_type": "code",
   "execution_count": 0,
   "metadata": {
    "application/vnd.databricks.v1+cell": {
     "cellMetadata": {},
     "inputWidgets": {},
     "nuid": "bce50ba6-1c6f-4e2b-994c-2bd6cf47f6da",
     "showTitle": false,
     "tableResultSettingsMap": {},
     "title": ""
    }
   },
   "outputs": [],
   "source": [
    "ccd_start_case_creation_response = requests.get(\n",
    "    ccd_base_url+start_case_creation, \n",
    "    headers={\n",
    "\n",
    "    \"Authorization\": f\"Bearer {idam_response.json()['access_token']}\",\n",
    "\n",
    "    \"ServiceAuthorization\": f\"Bearer {s2s_response.json()['access_token']}\"\n",
    "}\n",
    "    )\n"
   ]
  },
  {
   "cell_type": "code",
   "execution_count": 0,
   "metadata": {
    "application/vnd.databricks.v1+cell": {
     "cellMetadata": {
      "byteLimit": 2048000,
      "rowLimit": 10000
     },
     "inputWidgets": {},
     "nuid": "11dbb887-dc0c-49b6-bcf2-4eac408404a2",
     "showTitle": false,
     "tableResultSettingsMap": {},
     "title": ""
    }
   },
   "outputs": [],
   "source": [
    "## Get the event id and event token from the response\n",
    "event_token = ccd_start_case_creation_response.json()[\"token\"]\n",
    "event_id = ccd_start_case_creation_response.json()[\"eventId\"]"
   ]
  },
  {
   "cell_type": "markdown",
   "metadata": {
    "application/vnd.databricks.v1+cell": {
     "cellMetadata": {},
     "inputWidgets": {},
     "nuid": "d63cbd8a-e42c-4935-ac95-b40820bb3d11",
     "showTitle": false,
     "tableResultSettingsMap": {},
     "title": ""
    }
   },
   "source": [
    "## Validate Case"
   ]
  },
  {
   "cell_type": "code",
   "execution_count": 0,
   "metadata": {
    "application/vnd.databricks.v1+cell": {
     "cellMetadata": {
      "byteLimit": 2048000,
      "rowLimit": 10000
     },
     "inputWidgets": {},
     "nuid": "82e2ec57-23cb-41ba-882b-d9655829ebd8",
     "showTitle": false,
     "tableResultSettingsMap": {},
     "title": ""
    }
   },
   "outputs": [],
   "source": [
    "case_payload_example = \"\""
   ]
  },
  {
   "cell_type": "code",
   "execution_count": 0,
   "metadata": {
    "application/vnd.databricks.v1+cell": {
     "cellMetadata": {},
     "inputWidgets": {},
     "nuid": "997cafaa-bfe0-4b88-973b-07ea5e63cb0d",
     "showTitle": false,
     "tableResultSettingsMap": {},
     "title": ""
    }
   },
   "outputs": [],
   "source": [
    "case_data = {\n",
    "    \"event_token\": event_token,\n",
    "    \"event\": {\n",
    "        \"id\": \"startAppeal\",\n",
    "        \"summary\": \"Starting appeal\",\n",
    "        \"description\": \"Validate draft appeal\"\n",
    "    },\n",
    "    \"data\": case_payload_example\n",
    "}\n"
   ]
  },
  {
   "cell_type": "code",
   "execution_count": 0,
   "metadata": {
    "application/vnd.databricks.v1+cell": {
     "cellMetadata": {},
     "inputWidgets": {},
     "nuid": "97e7edca-99a4-4aa3-a5ac-46740067c058",
     "showTitle": false,
     "tableResultSettingsMap": {},
     "title": ""
    }
   },
   "outputs": [],
   "source": [
    "ccd_validate_case_ep = f\"/caseworkers/{uid}/jurisdictions/{jid}/case-types/{ctid}/validate\""
   ]
  },
  {
   "cell_type": "code",
   "execution_count": 0,
   "metadata": {
    "application/vnd.databricks.v1+cell": {
     "cellMetadata": {},
     "inputWidgets": {},
     "nuid": "81000eb3-b4b6-48b9-b6ce-640f608c3091",
     "showTitle": false,
     "tableResultSettingsMap": {},
     "title": ""
    }
   },
   "outputs": [],
   "source": [
    "ccd_validate_case_response = requests.post(ccd_base_url+ccd_validate_case_ep, json=case_data, headers={\n",
    "    \"Authorization\": f\"Bearer {idam_response.json()['access_token']}\")"
   ]
  },
  {
   "cell_type": "markdown",
   "metadata": {
    "application/vnd.databricks.v1+cell": {
     "cellMetadata": {},
     "inputWidgets": {},
     "nuid": "dc57693a-d803-4eb4-bb52-c726f05e7360",
     "showTitle": false,
     "tableResultSettingsMap": {},
     "title": ""
    }
   },
   "source": [
    "## Submit Case Creation"
   ]
  },
  {
   "cell_type": "code",
   "execution_count": 0,
   "metadata": {
    "application/vnd.databricks.v1+cell": {
     "cellMetadata": {},
     "inputWidgets": {},
     "nuid": "3f9caf88-5c71-4723-a8b7-2fc90d8e814a",
     "showTitle": false,
     "tableResultSettingsMap": {},
     "title": ""
    }
   },
   "outputs": [],
   "source": []
  }
 ],
 "metadata": {
  "application/vnd.databricks.v1+notebook": {
   "computePreferences": null,
   "dashboards": [],
   "environmentMetadata": {
    "base_environment": "",
    "environment_version": "2"
   },
   "inputWidgetPreferences": null,
   "language": "python",
   "notebookMetadata": {
    "pythonIndentUnit": 4
   },
   "notebookName": "CCD connection code",
   "widgets": {}
  },
  "language_info": {
   "name": "python"
  }
 },
 "nbformat": 4,
 "nbformat_minor": 0
}
