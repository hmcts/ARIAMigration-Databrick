{
 "cells": [
  {
   "cell_type": "markdown",
   "metadata": {
    "application/vnd.databricks.v1+cell": {
     "cellMetadata": {
      "byteLimit": 2048000,
      "rowLimit": 10000
     },
     "inputWidgets": {},
     "nuid": "ca145479-3655-4bf2-bafa-8c2894258a3b",
     "showTitle": false,
     "tableResultSettingsMap": {},
     "title": ""
    }
   },
   "source": [
    "# ARM Acknowledgment "
   ]
  },
  {
   "cell_type": "markdown",
   "metadata": {
    "application/vnd.databricks.v1+cell": {
     "cellMetadata": {
      "byteLimit": 2048000,
      "rowLimit": 10000
     },
     "inputWidgets": {},
     "nuid": "81ef4be3-3c60-450c-91c7-9d09d193aea9",
     "showTitle": false,
     "tableResultSettingsMap": {},
     "title": ""
    }
   },
   "source": [
    "\n",
    "**Autoloader set up**  \n",
    "This Notebook sets up an Autoloader job that runs on a manual trigger to collect ack messages from the ack eventhubs\n"
   ]
  },
  {
   "cell_type": "code",
   "execution_count": 0,
   "metadata": {
    "application/vnd.databricks.v1+cell": {
     "cellMetadata": {
      "byteLimit": 2048000,
      "rowLimit": 10000
     },
     "inputWidgets": {},
     "nuid": "7ab6f686-9bdf-4e7c-8537-52a7097d6569",
     "showTitle": false,
     "tableResultSettingsMap": {},
     "title": ""
    }
   },
   "outputs": [],
   "source": [
    "import json\n",
    "import time\n",
    "from pyspark.sql.types import StructType, StructField, StringType, IntegerType, TimestampType, LongType\n",
    "from pyspark.sql.functions import col,from_json\n",
    "import json\n",
    "import logging"
   ]
  },
  {
   "cell_type": "code",
   "execution_count": 0,
   "metadata": {
    "application/vnd.databricks.v1+cell": {
     "cellMetadata": {
      "byteLimit": 2048000,
      "rowLimit": 10000
     },
     "inputWidgets": {},
     "nuid": "e157d913-e674-406f-8164-049801758eb7",
     "showTitle": false,
     "tableResultSettingsMap": {},
     "title": ""
    }
   },
   "outputs": [],
   "source": [
    "logger = logging.getLogger(\"DatabricksWorkflow\")\n",
    "logger.setLevel(logging.INFO)\n",
    "handler = logging.StreamHandler()\n",
    "formatter = logging.Formatter('%(asctime)s - %(name)s - %(levelname)s - %(message)s')\n",
    "handler.setFormatter(formatter)\n",
    "if not logger.hasHandlers():\n",
    "    logger.addHandler(handler)"
   ]
  },
  {
   "cell_type": "code",
   "execution_count": 0,
   "metadata": {
    "application/vnd.databricks.v1+cell": {
     "cellMetadata": {
      "byteLimit": 2048000,
      "rowLimit": 10000
     },
     "inputWidgets": {},
     "nuid": "c41be175-1d89-4a6f-9135-82e7f162705e",
     "showTitle": false,
     "tableResultSettingsMap": {},
     "title": ""
    }
   },
   "outputs": [],
   "source": [
    "ack_schema = StructType([\n",
    "    StructField(\"filename\", StringType(), True),\n",
    "    StructField(\"http_response\", IntegerType(),True),\n",
    "    StructField(\"timestamp\", TimestampType(), True),\n",
    "    StructField(\"http_message\", StringType(), True)\n",
    "])"
   ]
  },
  {
   "cell_type": "markdown",
   "metadata": {
    "application/vnd.databricks.v1+cell": {
     "cellMetadata": {
      "byteLimit": 2048000,
      "rowLimit": 10000
     },
     "inputWidgets": {},
     "nuid": "4bf5e79f-62a2-48ec-a216-5c36b44a1a8b",
     "showTitle": false,
     "tableResultSettingsMap": {},
     "title": ""
    }
   },
   "source": [
    "## Set up configs"
   ]
  },
  {
   "cell_type": "code",
   "execution_count": 0,
   "metadata": {
    "application/vnd.databricks.v1+cell": {
     "cellMetadata": {
      "byteLimit": 2048000,
      "rowLimit": 10000
     },
     "inputWidgets": {},
     "nuid": "a4e82801-8912-4ce4-8444-98d5e636341d",
     "showTitle": false,
     "tableResultSettingsMap": {},
     "title": ""
    }
   },
   "outputs": [],
   "source": [
    "#Load configuration JSON\n",
    "config_path = \"dbfs:/configs/config.json\"\n",
    "try:\n",
    "    config = spark.read.option(\"multiline\", \"true\").json(config_path)\n",
    "    logger.info(f\"Successfully read config file from {config_path}\")\n",
    "except Exception as e:\n",
    "    logger.error(f\"Could not read config file at {config_path}: {e}\", exc_info=True)\n",
    "    raise FileNotFoundError(f\"Could not read config file at {config_path}: {e}\")\n",
    "\n",
    "#Extract environment and lz_key\n",
    "try:\n",
    "    first_row = config.first()\n",
    "    env = first_row[\"env\"].strip().lower()\n",
    "    lz_key = first_row[\"lz_key\"].strip().lower()\n",
    "    logger.info(f\"Extracted configs: env={env}, lz_key={lz_key}\")\n",
    "except Exception as e:\n",
    "    logger.error(f\"Missing expected keys 'env' or 'lz_key' in config file: {e}\", exc_info=True)\n",
    "    raise KeyError(f\"Missing expected keys 'env' or 'lz_key' in config file: {e}\")\n",
    "\n",
    "#Construct keyvault name\n",
    "try:\n",
    "    keyvault_name = f\"ingest{lz_key}-meta002-{env}\"\n",
    "    logger.info(f\"Constructed keyvault name: {keyvault_name}\")\n",
    "except Exception as e:\n",
    "    logger.error(f\"Error constructing keyvault name: {e}\", exc_info=True)\n",
    "    raise ValueError(f\"Error constructing keyvault name: {e}\")\n"
   ]
  },
  {
   "cell_type": "code",
   "execution_count": 0,
   "metadata": {
    "application/vnd.databricks.v1+cell": {
     "cellMetadata": {
      "byteLimit": 2048000,
      "rowLimit": 10000
     },
     "inputWidgets": {},
     "nuid": "a0c451d4-fa8a-448d-80bb-1e8e9c49cd5a",
     "showTitle": false,
     "tableResultSettingsMap": {},
     "title": ""
    }
   },
   "outputs": [],
   "source": [
    "# Access the Service Principal secrets from Key Vault\n",
    "try:\n",
    "    client_secret = dbutils.secrets.get(scope=keyvault_name, key='SERVICE-PRINCIPLE-CLIENT-SECRET')\n",
    "    logger.info(\"Successfully retrieved SERVICE-PRINCIPLE-CLIENT-SECRET from Key Vault\")\n",
    "except Exception as e:\n",
    "    logger.error(f\"Could not retrieve 'SERVICE-PRINCIPLE-CLIENT-SECRET' from Key Vault '{keyvault_name}': {e}\", exc_info=True)\n",
    "    raise KeyError(f\"Could not retrieve 'SERVICE-PRINCIPLE-CLIENT-SECRET' from Key Vault '{keyvault_name}': {e}\")\n",
    "\n",
    "try:\n",
    "    tenant_id = dbutils.secrets.get(scope=keyvault_name, key='SERVICE-PRINCIPLE-TENANT-ID')\n",
    "    logger.info(\"Successfully retrieved SERVICE-PRINCIPLE-TENANT-ID from Key Vault\")\n",
    "except Exception as e:\n",
    "    logger.error(f\"Could not retrieve 'SERVICE-PRINCIPLE-TENANT-ID' from Key Vault '{keyvault_name}': {e}\", exc_info=True)\n",
    "    raise KeyError(f\"Could not retrieve 'SERVICE-PRINCIPLE-TENANT-ID' from Key Vault '{keyvault_name}': {e}\")\n",
    "\n",
    "try:\n",
    "    client_id = dbutils.secrets.get(scope=keyvault_name, key='SERVICE-PRINCIPLE-CLIENT-ID')\n",
    "    logger.info(\"Successfully retrieved SERVICE-PRINCIPLE-CLIENT-ID from Key Vault\")\n",
    "except Exception as e:\n",
    "    logger.error(f\"Could not retrieve 'SERVICE-PRINCIPLE-CLIENT-ID' from Key Vault '{keyvault_name}': {e}\", exc_info=True)\n",
    "    raise KeyError(f\"Could not retrieve 'SERVICE-PRINCIPLE-CLIENT-ID' from Key Vault '{keyvault_name}': {e}\")\n",
    "\n",
    "logger.info(\"✅ Successfully retrieved all Service Principal secrets from Key Vault\")\n"
   ]
  },
  {
   "cell_type": "code",
   "execution_count": 0,
   "metadata": {
    "application/vnd.databricks.v1+cell": {
     "cellMetadata": {
      "byteLimit": 2048000,
      "rowLimit": 10000
     },
     "inputWidgets": {},
     "nuid": "13a173df-b554-4f68-a341-23a44c35e2f9",
     "showTitle": false,
     "tableResultSettingsMap": {},
     "title": ""
    }
   },
   "outputs": [],
   "source": [
    "EH_NAMESPACE = f\"ingest{lz_key}-integration-eventHubNamespace001-{env}\"\n",
    "EH_NAME = f\"evh-bl-ack-{lz_key}-uks-dlrm-01\""
   ]
  },
  {
   "cell_type": "code",
   "execution_count": 0,
   "metadata": {
    "application/vnd.databricks.v1+cell": {
     "cellMetadata": {
      "byteLimit": 2048000,
      "rowLimit": 10000
     },
     "inputWidgets": {},
     "nuid": "5db00bd6-0302-4a5b-b55c-fb2f2a0cb89c",
     "showTitle": false,
     "tableResultSettingsMap": {},
     "title": ""
    }
   },
   "outputs": [],
   "source": [
    "connection_string = dbutils.secrets.get(keyvault_name, \"RootManageSharedAccessKey\")\n",
    "\n",
    "KAFKA_OPTIONS = {\n",
    "    \"kafka.bootstrap.servers\": f\"{EH_NAMESPACE}.servicebus.windows.net:9093\",\n",
    "    \"subscribe\": EH_NAME,\n",
    "    \"startingOffsets\": \"earliest\",\n",
    "    \"kafka.security.protocol\": \"SASL_SSL\",\n",
    "    \"failOnDataLoss\": \"false\",\n",
    "    \"kafka.sasl.mechanism\": \"PLAIN\",\n",
    "    \"kafka.sasl.jaas.config\": f'kafkashaded.org.apache.kafka.common.security.plain.PlainLoginModule required username=\"$ConnectionString\" password=\"{connection_string}\";'\n",
    "}"
   ]
  },
  {
   "cell_type": "code",
   "execution_count": 0,
   "metadata": {
    "application/vnd.databricks.v1+cell": {
     "cellMetadata": {
      "byteLimit": 2048000,
      "rowLimit": 10000
     },
     "inputWidgets": {},
     "nuid": "e9927a08-6a4a-40b6-b0dd-bb8e731dc0de",
     "showTitle": false,
     "tableResultSettingsMap": {},
     "title": ""
    }
   },
   "outputs": [],
   "source": [
    "# --- Parameterise containers ---\n",
    "curated_storage_account = f\"ingest{lz_key}curated{env}\"\n",
    "curated_container = \"gold\"\n",
    "silver_curated_container = \"silver\"\n",
    "checkpoint_storage_account = f\"ingest{lz_key}xcutting{env}\"\n",
    "\n",
    "# --- Assign OAuth to storage accounts ---\n",
    "storage_accounts = [curated_storage_account, checkpoint_storage_account]\n",
    "\n",
    "for storage_account in storage_accounts:\n",
    "    try:\n",
    "        configs = {\n",
    "            f\"fs.azure.account.auth.type.{storage_account}.dfs.core.windows.net\": \"OAuth\",\n",
    "            f\"fs.azure.account.oauth.provider.type.{storage_account}.dfs.core.windows.net\":\n",
    "                \"org.apache.hadoop.fs.azurebfs.oauth2.ClientCredsTokenProvider\",\n",
    "            f\"fs.azure.account.oauth2.client.id.{storage_account}.dfs.core.windows.net\": client_id,\n",
    "            f\"fs.azure.account.oauth2.client.secret.{storage_account}.dfs.core.windows.net\": client_secret,\n",
    "            f\"fs.azure.account.oauth2.client.endpoint.{storage_account}.dfs.core.windows.net\":\n",
    "                f\"https://login.microsoftonline.com/{tenant_id}/oauth2/token\"\n",
    "        }\n",
    "\n",
    "        for key, val in configs.items():\n",
    "            try:\n",
    "                spark.conf.set(key, val)\n",
    "            except Exception as e:\n",
    "                logger.error(f\"Failed to set Spark config '{key}' for storage account '{storage_account}': {e}\", exc_info=True)\n",
    "                raise RuntimeError(f\"Failed to set Spark config '{key}' for storage account '{storage_account}': {e}\")\n",
    "\n",
    "        logger.info(f\"✅ Successfully configured OAuth for storage account: {storage_account}\")\n",
    "\n",
    "    except Exception as e:\n",
    "        logger.error(f\"Error configuring OAuth for storage account '{storage_account}': {e}\", exc_info=True)\n",
    "        raise RuntimeError(f\"Error configuring OAuth for storage account '{storage_account}': {e}\")\n"
   ]
  },
  {
   "cell_type": "code",
   "execution_count": 0,
   "metadata": {
    "application/vnd.databricks.v1+cell": {
     "cellMetadata": {
      "byteLimit": 2048000,
      "rowLimit": 10000
     },
     "inputWidgets": {},
     "nuid": "87d93d13-e894-4a99-b37f-96de6adc989b",
     "showTitle": false,
     "tableResultSettingsMap": {},
     "title": ""
    }
   },
   "outputs": [],
   "source": [
    "# Container and path for storing Delta table (in curated storage account)\n",
    "data_path = f\"abfss://silver@ingest{lz_key}curated{env}.dfs.core.windows.net/ARIADM/ARM/AUDIT/BAILS/bl_ack_audit_table\"\n",
    "\n",
    "# Container and path for checkpoint (in xcuttings storage account)\n",
    "checkpoint_path = f\"abfss://db-ack-checkpoint@ingest{lz_key}xcutting{env}.dfs.core.windows.net/BAILS/ACK/ack\"\n"
   ]
  },
  {
   "cell_type": "code",
   "execution_count": 0,
   "metadata": {
    "application/vnd.databricks.v1+cell": {
     "cellMetadata": {
      "byteLimit": 2048000,
      "rowLimit": 10000
     },
     "inputWidgets": {},
     "nuid": "4cb50870-e84d-4d05-8d76-64d844e6a4c2",
     "showTitle": true,
     "tableResultSettingsMap": {},
     "title": "Reconciliation figures"
    }
   },
   "outputs": [],
   "source": [
    "gold_data_path = f\"abfss://gold@ingest{lz_key}curated{env}.dfs.core.windows.net/ARIADM/ARM/BAILS/\"\n",
    "# HTML Count\n",
    "html_path = f\"{gold_data_path}HTML/*.html\"\n",
    "html_df = spark.read.format(\"binaryFile\").load(html_path)\n",
    "\n",
    "json_path = f\"{gold_data_path}JSON/*.json\"\n",
    "json_df = spark.read.format(\"binaryFile\").load(json_path)\n",
    "\n",
    "a360_path = f\"{gold_data_path}A360/*.a360\"\n",
    "a360_df = spark.read.format(\"binaryFile\").load(a360_path)\n",
    "\n",
    "expected_html = html_df.count()\n",
    "expected_json = json_df.count()\n",
    "expected_a360 = a360_df.count()\n",
    "\n",
    "logger.info(f\"Expected HTML: {expected_html}\")\n",
    "logger.info(f\"Expected JSON: {expected_json}\")\n",
    "logger.info(f\"Expected A360: {expected_a360}\")\n",
    "\n",
    "#1a. how many records in source data? (prod aria db) or we can use outputs of segmentation tables eg gold tables\n",
    "#1b json content, html content should be the same as what we have established in the source\n",
    "#1c a360 is %% (mod) 250\n",
    "## expected pre-publish"
   ]
  },
  {
   "cell_type": "code",
   "execution_count": 0,
   "metadata": {
    "application/vnd.databricks.v1+cell": {
     "cellMetadata": {
      "byteLimit": 2048000,
      "rowLimit": 10000
     },
     "inputWidgets": {},
     "nuid": "60c1ade3-6716-41e6-9f8f-ed97a60a88b3",
     "showTitle": false,
     "tableResultSettingsMap": {},
     "title": ""
    }
   },
   "outputs": [],
   "source": [
    "eventhubdf = spark.readStream.format(\"kafka\")\\\n",
    "    .options(**KAFKA_OPTIONS)\\\n",
    "        .load()"
   ]
  },
  {
   "cell_type": "code",
   "execution_count": 0,
   "metadata": {
    "application/vnd.databricks.v1+cell": {
     "cellMetadata": {
      "byteLimit": 2048000,
      "rowLimit": 10000
     },
     "inputWidgets": {},
     "nuid": "d4cb5a90-4074-47c1-8c93-bbe76876bc0f",
     "showTitle": false,
     "tableResultSettingsMap": {},
     "title": ""
    }
   },
   "outputs": [],
   "source": [
    "parsed_df = (\n",
    "    eventhubdf\n",
    "    # 'body' is binary, so we cast to string (assuming UTF-8)\n",
    "    .select(col(\"value\").cast(\"string\").alias(\"json_str\"))\n",
    "    .select(from_json(col(\"json_str\"), ack_schema).alias(\"json_obj\"))\n",
    "    .select(\"json_obj.*\")\n",
    ")"
   ]
  },
  {
   "cell_type": "code",
   "execution_count": 0,
   "metadata": {
    "application/vnd.databricks.v1+cell": {
     "cellMetadata": {
      "byteLimit": 2048000,
      "rowLimit": 10000
     },
     "inputWidgets": {},
     "nuid": "0c2a3647-c3c2-4748-8b7f-be677ef5bf58",
     "showTitle": false,
     "tableResultSettingsMap": {},
     "title": ""
    }
   },
   "outputs": [],
   "source": [
    "def get_processed_counts():\n",
    "    df = spark.read.format(\"delta\").load(data_path)\n",
    "    \n",
    "    html_count = df.filter(col(\"filename\").endswith(\".html\")).select(\"filename\").distinct().count()\n",
    "    json_count = df.filter((col(\"filename\")).endswith(\".json\")).select(\"filename\").distinct().count()\n",
    "    a360_count = df.filter((col(\"filename\")).endswith(\".a360\")).select(\"filename\").distinct().count()\n",
    "\n",
    "    return html_count, json_count, a360_count"
   ]
  },
  {
   "cell_type": "code",
   "execution_count": 0,
   "metadata": {
    "application/vnd.databricks.v1+cell": {
     "cellMetadata": {
      "byteLimit": 2048000,
      "rowLimit": 10000
     },
     "inputWidgets": {},
     "nuid": "4ea47fa2-e4ee-4f46-921e-dc56b46f4b64",
     "showTitle": false,
     "tableResultSettingsMap": {},
     "title": ""
    }
   },
   "outputs": [],
   "source": [
    "query = parsed_df.writeStream \\\n",
    "    .format(\"delta\") \\\n",
    "    .option(\"checkpointLocation\", checkpoint_path) \\\n",
    "    .outputMode(\"append\") \\\n",
    "    .start(data_path)\n",
    "\n",
    "while query.isActive:\n",
    "    html_count, json_count, a360_count = get_processed_counts()\n",
    "    logger.info(f\"\\nStatus HTML: {html_count}/{expected_html} \\nStatus JSON: {json_count}/{expected_json} \\nStatus A360: {a360_count}/{expected_a360}\")\n",
    "\n",
    "    if (\n",
    "        html_count >= expected_html\n",
    "        and json_count >= expected_json\n",
    "        and a360_count >= expected_a360\n",
    "    ):\n",
    "        logger.info(\"All files processed\")\n",
    "        query.stop()"
   ]
  },
  {
   "cell_type": "code",
   "execution_count": 0,
   "metadata": {
    "application/vnd.databricks.v1+cell": {
     "cellMetadata": {
      "byteLimit": 2048000,
      "rowLimit": 10000
     },
     "inputWidgets": {},
     "nuid": "d00fa303-1444-4665-9cc4-614a21371040",
     "showTitle": false,
     "tableResultSettingsMap": {},
     "title": ""
    }
   },
   "outputs": [],
   "source": [
    "silver_container = \"silver\"\n",
    "df_bails_ack_audit_data = spark.read.format(\"delta\").load(f\"abfss://{silver_container}@{curated_storage_account}.dfs.core.windows.net/ARIADM/ARM/AUDIT/BAILS/bl_ack_audit_table/\")\n",
    "df_bails_ack_audit_data.createOrReplaceTempView(\"bails_acknowledge_audit_data\")"
   ]
  },
  {
   "cell_type": "code",
   "execution_count": 0,
   "metadata": {
    "application/vnd.databricks.v1+cell": {
     "cellMetadata": {
      "byteLimit": 2048000,
      "implicitDf": true,
      "rowLimit": 10000
     },
     "inputWidgets": {},
     "nuid": "362996fb-92e7-42f0-8e77-304d82ba361e",
     "showTitle": true,
     "tableResultSettingsMap": {
      "0": {
       "dataGridStateBlob": "{\"version\":1,\"tableState\":{\"columnPinning\":{\"left\":[\"#row_number#\"],\"right\":[]},\"columnSizing\":{},\"columnVisibility\":{}},\"settings\":{\"columns\":{}},\"syncTimestamp\":1761662601738}",
       "filterBlob": null,
       "queryPlanFiltersBlob": null,
       "tableResultIndex": 0
      }
     },
     "title": "a360 table"
    }
   },
   "outputs": [],
   "source": [
    "%sql \n",
    "with window_func as (\n",
    "SELECT filename,\n",
    "            CASE WHEN http_response = 201 THEN 'Success' ELSE 'Failure' END AS http_response_status,\n",
    "            timestamp,\n",
    "            ROW_NUMBER() OVER (PARTITION BY filename ORDER BY timestamp DESC) as rn\n",
    "\n",
    "FROM bails_acknowledge_audit_data)\n",
    "SELECT filename, \n",
    "        http_response_status,\n",
    "        timestamp\n",
    "FROM window_func where rn=1 and filename LIKE '%.a360'\n",
    "\n"
   ]
  },
  {
   "cell_type": "code",
   "execution_count": 0,
   "metadata": {
    "application/vnd.databricks.v1+cell": {
     "cellMetadata": {
      "byteLimit": 2048000,
      "rowLimit": 10000
     },
     "inputWidgets": {},
     "nuid": "f549011b-a689-4517-9665-b604f7829acd",
     "showTitle": false,
     "tableResultSettingsMap": {},
     "title": ""
    }
   },
   "outputs": [],
   "source": [
    "# max_attempt = 5\n",
    "# delay = 60 # seconds\n",
    "\n",
    "# for attempt in range(1,max_attempt):\n",
    "#     try:\n",
    "#         html_count, json_count, a360_count = get_processed_counts()\n",
    "#     except Exception as e:\n",
    "#         if attempt < max_attempt:\n",
    "#             print(f\"Attempt {attempt} failed: {e}. Retrying in {delay} seconds... \")\n",
    "#             time.sleep(60)\n",
    "#         else:\n",
    "#             print(\"Failed to get processed counts after {max_attempt} attempts: {e}\")\n",
    "#             raise\n",
    "\n",
    "\n"
   ]
  },
  {
   "cell_type": "code",
   "execution_count": 0,
   "metadata": {
    "application/vnd.databricks.v1+cell": {
     "cellMetadata": {
      "byteLimit": 2048000,
      "implicitDf": true,
      "rowLimit": 10000
     },
     "inputWidgets": {},
     "nuid": "717aea75-ce30-4d0b-8f72-dad33654e0a9",
     "showTitle": true,
     "tableResultSettingsMap": {
      "0": {
       "dataGridStateBlob": "{\"version\":1,\"tableState\":{\"columnPinning\":{\"left\":[\"#row_number#\"],\"right\":[]},\"columnSizing\":{},\"columnVisibility\":{}},\"settings\":{\"columns\":{}},\"syncTimestamp\":1761676858687}",
       "filterBlob": null,
       "queryPlanFiltersBlob": null,
       "tableResultIndex": 0
      }
     },
     "title": "JSON table"
    }
   },
   "outputs": [],
   "source": [
    "%sql \n",
    "with window_func as (\n",
    "SELECT filename,\n",
    "            CASE WHEN http_response = 201 THEN 'Success' ELSE 'Failure' END AS http_response_status,\n",
    "            timestamp,\n",
    "            ROW_NUMBER() OVER (PARTITION BY filename ORDER BY timestamp DESC) as rn\n",
    "\n",
    "FROM bails_acknowledge_audit_data)\n",
    "SELECT filename, \n",
    "        http_response_status,\n",
    "        timestamp\n",
    "FROM window_func where rn=1 and filename LIKE '%.json'"
   ]
  },
  {
   "cell_type": "code",
   "execution_count": 0,
   "metadata": {
    "application/vnd.databricks.v1+cell": {
     "cellMetadata": {
      "byteLimit": 2048000,
      "implicitDf": true,
      "rowLimit": 10000
     },
     "inputWidgets": {},
     "nuid": "b11bbc21-1411-490d-8894-bea596734824",
     "showTitle": true,
     "tableResultSettingsMap": {},
     "title": "HTML table"
    }
   },
   "outputs": [],
   "source": [
    "%sql \n",
    "with window_func as (\n",
    "SELECT filename,\n",
    "            CASE WHEN http_response = 201 THEN 'Success' ELSE 'Failure' END AS http_response_status,\n",
    "            timestamp,\n",
    "            ROW_NUMBER() OVER (PARTITION BY filename ORDER BY timestamp DESC) as rn\n",
    "\n",
    "FROM bails_acknowledge_audit_data)\n",
    "SELECT filename, \n",
    "        http_response_status,\n",
    "        timestamp\n",
    "FROM window_func where rn=1 and filename LIKE '%.html'"
   ]
  },
  {
   "cell_type": "code",
   "execution_count": 0,
   "metadata": {
    "application/vnd.databricks.v1+cell": {
     "cellMetadata": {
      "byteLimit": 2048000,
      "rowLimit": 10000
     },
     "inputWidgets": {},
     "nuid": "935714c4-5070-418a-ab3a-7302e225074f",
     "showTitle": true,
     "tableResultSettingsMap": {},
     "title": "HTML"
    }
   },
   "outputs": [
    {
     "output_type": "display_data",
     "data": {
      "text/plain": [
       "Databricks visualization. Run in Databricks to view."
      ]
     },
     "metadata": {
      "application/vnd.databricks.v1.subcommand+json": {
       "baseErrorDetails": null,
       "bindings": {},
       "collapsed": false,
       "command": "spark.sql(f\"\"\"\n    WITH results AS (\n        SELECT \n            split_part(filename, '.', -1) AS file_extension,\n            COUNT(CASE WHEN http_response = 201 AND http_message = 'Created' THEN 1 END) AS count_of_successful_eventhub_responses,\n            COUNT(CASE WHEN http_response <> 201 AND http_message <> 'Created' THEN 1 END) AS count_of_unsuccessful_eventhub_responses\n        FROM bails_acknowledge_audit_data\n        \n        WHERE split_part(filename, '.', -1) = 'html'\n        GROUP BY split_part(filename, '.', -1)\n    )\n    SELECT\n        file_extension AS file_type,\n        {expected_html} AS total_expected_html_eventhub_responses,\n        CASE WHEN file_extension = 'html' THEN count_of_successful_eventhub_responses ELSE NULL END AS `total_sent_html_eventhub_responses`,\n        CASE WHEN file_extension = 'html' THEN concat(ROUND((count_of_successful_eventhub_responses / {expected_html}) * 100, 2), \"%\") ELSE NULL END AS `%total_expected_html_eventhub_responses`\n\n    FROM results\n\"\"\").display()",
       "commandTitle": "Visualization 1",
       "commandType": "auto",
       "commandVersion": 0,
       "commentThread": [],
       "commentsVisible": false,
       "contentSha256Hex": null,
       "customPlotOptions": {
        "redashChart": [
         {
          "key": "type",
          "value": "DETAILS"
         },
         {
          "key": "options",
          "value": {
           "columns": [
            {
             "name": "file_type",
             "title": "file_type",
             "type": "string"
            },
            {
             "name": "total_expected_html_eventhub_responses",
             "title": "total_expected_html_eventhub_responses",
             "type": "integer"
            },
            {
             "name": "total_sent_html_eventhub_responses",
             "title": "total_sent_html_eventhub_responses",
             "type": "integer"
            },
            {
             "name": "%total_expected_html_eventhub_responses",
             "title": "%total_expected_html_eventhub_responses",
             "type": "string"
            }
           ],
           "version": 1
          }
         }
        ]
       },
       "datasetPreviewNameToCmdIdMap": {},
       "diffDeletes": [],
       "diffInserts": [],
       "displayType": "redashChart",
       "error": null,
       "errorDetails": null,
       "errorSummary": null,
       "errorTraceType": null,
       "finishTime": 0,
       "globalVars": {},
       "guid": "",
       "height": "auto",
       "hideCommandCode": false,
       "hideCommandResult": false,
       "iPythonMetadata": null,
       "inputWidgets": {},
       "isLockedInExamMode": false,
       "latestAssumeRoleInfo": null,
       "latestUser": "a user",
       "latestUserId": null,
       "listResultMetadata": null,
       "metadata": {
        "byteLimit": 2048000,
        "rowLimit": 10000
       },
       "nuid": "54c63277-18b8-4b25-aef0-5088608f3165",
       "origId": 0,
       "parentHierarchy": [],
       "pivotAggregation": null,
       "pivotColumns": null,
       "position": 21.59375,
       "resultDbfsErrorMessage": null,
       "resultDbfsStatus": "INLINED_IN_TREE",
       "results": null,
       "showCommandTitle": false,
       "startTime": 0,
       "state": "input",
       "streamStates": {},
       "subcommandOptions": {},
       "submitTime": 0,
       "subtype": "tableResultSubCmd.visualization",
       "tableResultIndex": 0,
       "tableResultSettingsMap": {},
       "useConsistentColors": false,
       "version": "CommandV1",
       "width": "auto",
       "workflows": null,
       "xColumns": null,
       "yColumns": null
      }
     },
     "output_type": "display_data"
    }
   ],
   "source": [
    "spark.sql(f\"\"\"\n",
    "    WITH results AS (\n",
    "        SELECT \n",
    "            split_part(filename, '.', -1) AS file_extension,\n",
    "            COUNT(CASE WHEN http_response = 201 AND http_message = 'Created' THEN 1 END) AS count_of_successful_eventhub_responses,\n",
    "            COUNT(CASE WHEN http_response <> 201 AND http_message <> 'Created' THEN 1 END) AS count_of_unsuccessful_eventhub_responses\n",
    "        FROM bails_acknowledge_audit_data\n",
    "        \n",
    "        WHERE split_part(filename, '.', -1) = 'html'\n",
    "        GROUP BY split_part(filename, '.', -1)\n",
    "    )\n",
    "    SELECT\n",
    "        file_extension AS file_type,\n",
    "        {expected_html} AS total_expected_html_eventhub_responses,\n",
    "        CASE WHEN file_extension = 'html' THEN count_of_successful_eventhub_responses ELSE NULL END AS `total_sent_html_eventhub_responses`,\n",
    "        CASE WHEN file_extension = 'html' THEN concat(ROUND((count_of_successful_eventhub_responses / {expected_html}) * 100, 2), \"%\") ELSE NULL END AS `%total_expected_html_eventhub_responses`\n",
    "\n",
    "    FROM results\n",
    "\"\"\").display()"
   ]
  },
  {
   "cell_type": "code",
   "execution_count": 0,
   "metadata": {
    "application/vnd.databricks.v1+cell": {
     "cellMetadata": {
      "byteLimit": 2048000,
      "rowLimit": 10000
     },
     "inputWidgets": {},
     "nuid": "abec1983-d762-4397-acd9-9f3b76afc5b2",
     "showTitle": true,
     "tableResultSettingsMap": {},
     "title": "JSON"
    }
   },
   "outputs": [
    {
     "output_type": "display_data",
     "data": {
      "text/plain": [
       "Databricks visualization. Run in Databricks to view."
      ]
     },
     "metadata": {
      "application/vnd.databricks.v1.subcommand+json": {
       "baseErrorDetails": null,
       "bindings": {},
       "collapsed": false,
       "command": "spark.sql(f\"\"\"\n    WITH results AS (\n        SELECT \n            split_part(filename, '.', -1) AS file_extension,\n            COUNT(CASE WHEN http_response = 201 AND http_message = 'Created' THEN 1 END) AS count_of_successful_eventhub_responses,\n            COUNT(CASE WHEN http_response <> 201 AND http_message <> 'Created' THEN 1 END) AS count_of_unsuccessful_eventhub_responses\n        FROM bails_acknowledge_audit_data\n        WHERE split_part(filename, '.', -1) = 'json'\n        GROUP BY split_part(filename, '.', -1)\n    )\n    SELECT\n        file_extension AS file_type,\n        {expected_html} AS total_expected_html_eventhub_responses,\n        CASE WHEN file_extension = 'json' THEN count_of_successful_eventhub_responses ELSE NULL END AS `total_sent_json_eventhub_responses`,\n        CASE WHEN file_extension = 'json' THEN concat(ROUND((count_of_successful_eventhub_responses / {expected_html}) * 100, 2), \"%\") ELSE NULL END AS `%total_expected_json_eventhub_responses`\n    FROM results\n\"\"\").display()",
       "commandTitle": "Visualization 1",
       "commandType": "auto",
       "commandVersion": 0,
       "commentThread": [],
       "commentsVisible": false,
       "contentSha256Hex": null,
       "customPlotOptions": {
        "redashChart": [
         {
          "key": "type",
          "value": "DETAILS"
         },
         {
          "key": "options",
          "value": {
           "columns": [
            {
             "name": "file_type",
             "title": "file_type",
             "type": "string"
            },
            {
             "name": "total_expected_html_eventhub_responses",
             "title": "total_expected_html_eventhub_responses",
             "type": "integer"
            },
            {
             "name": "total_sent_json_eventhub_responses",
             "title": "total_sent_json_eventhub_responses",
             "type": "integer"
            },
            {
             "name": "%total_expected_json_eventhub_responses",
             "title": "%total_expected_json_eventhub_responses",
             "type": "string"
            }
           ],
           "version": 1
          }
         }
        ]
       },
       "datasetPreviewNameToCmdIdMap": {},
       "diffDeletes": [],
       "diffInserts": [],
       "displayType": "redashChart",
       "error": null,
       "errorDetails": null,
       "errorSummary": null,
       "errorTraceType": null,
       "finishTime": 0,
       "globalVars": {},
       "guid": "",
       "height": "auto",
       "hideCommandCode": false,
       "hideCommandResult": false,
       "iPythonMetadata": null,
       "inputWidgets": {},
       "isLockedInExamMode": false,
       "latestAssumeRoleInfo": null,
       "latestUser": "a user",
       "latestUserId": null,
       "listResultMetadata": null,
       "metadata": {
        "byteLimit": 2048000,
        "rowLimit": 10000
       },
       "nuid": "0d5c41a9-447a-401b-ad46-89d30be4df43",
       "origId": 0,
       "parentHierarchy": [],
       "pivotAggregation": null,
       "pivotColumns": null,
       "position": 21.6640625,
       "resultDbfsErrorMessage": null,
       "resultDbfsStatus": "INLINED_IN_TREE",
       "results": null,
       "showCommandTitle": false,
       "startTime": 0,
       "state": "input",
       "streamStates": {},
       "subcommandOptions": {},
       "submitTime": 0,
       "subtype": "tableResultSubCmd.visualization",
       "tableResultIndex": 0,
       "tableResultSettingsMap": {},
       "useConsistentColors": false,
       "version": "CommandV1",
       "width": "auto",
       "workflows": null,
       "xColumns": null,
       "yColumns": null
      }
     },
     "output_type": "display_data"
    }
   ],
   "source": [
    "spark.sql(f\"\"\"\n",
    "    WITH results AS (\n",
    "        SELECT \n",
    "            split_part(filename, '.', -1) AS file_extension,\n",
    "            COUNT(CASE WHEN http_response = 201 AND http_message = 'Created' THEN 1 END) AS count_of_successful_eventhub_responses,\n",
    "            COUNT(CASE WHEN http_response <> 201 AND http_message <> 'Created' THEN 1 END) AS count_of_unsuccessful_eventhub_responses\n",
    "        FROM bails_acknowledge_audit_data\n",
    "        WHERE split_part(filename, '.', -1) = 'json'\n",
    "        GROUP BY split_part(filename, '.', -1)\n",
    "    )\n",
    "    SELECT\n",
    "        file_extension AS file_type,\n",
    "        {expected_html} AS total_expected_html_eventhub_responses,\n",
    "        CASE WHEN file_extension = 'json' THEN count_of_successful_eventhub_responses ELSE NULL END AS `total_sent_json_eventhub_responses`,\n",
    "        CASE WHEN file_extension = 'json' THEN concat(ROUND((count_of_successful_eventhub_responses / {expected_html}) * 100, 2), \"%\") ELSE NULL END AS `%total_expected_json_eventhub_responses`\n",
    "    FROM results\n",
    "\"\"\").display()"
   ]
  },
  {
   "cell_type": "code",
   "execution_count": 0,
   "metadata": {
    "application/vnd.databricks.v1+cell": {
     "cellMetadata": {
      "byteLimit": 2048000,
      "rowLimit": 10000
     },
     "inputWidgets": {},
     "nuid": "5ba7852d-6c86-41d1-9c98-5d09f2ea1628",
     "showTitle": true,
     "tableResultSettingsMap": {},
     "title": "A360"
    }
   },
   "outputs": [
    {
     "output_type": "display_data",
     "data": {
      "text/plain": [
       "Databricks visualization. Run in Databricks to view."
      ]
     },
     "metadata": {
      "application/vnd.databricks.v1.subcommand+json": {
       "baseErrorDetails": null,
       "bindings": {},
       "collapsed": false,
       "command": "spark.sql(f\"\"\"\n    WITH results AS (\n        SELECT \n            split_part(filename, '.', -1) AS file_extension,\n            COUNT(CASE WHEN http_response = 201 AND http_message = 'Created' THEN 1 END) AS count_of_successful_eventhub_responses,\n            COUNT(CASE WHEN http_response <> 201 AND http_message <> 'Created' THEN 1 END) AS count_of_unsuccessful_eventhub_responses\n        FROM bails_acknowledge_audit_data\n        WHERE split_part(filename, '.', -1) = 'a360'\n        GROUP BY split_part(filename, '.', -1)\n    )\n    SELECT\n        file_extension AS file_type,\n        {expected_a360} AS total_expected_a360_eventhub_responses,\n        CASE WHEN file_extension = 'a360' THEN CEIL(count_of_successful_eventhub_responses, {expected_a360}) ELSE NULL END AS `count_of_successful_a360_responses`,\n        CASE WHEN file_extension = 'a360' THEN concat(ROUND((count_of_successful_eventhub_responses / {expected_a360}) * 100, 2), \"%\") ELSE NULL END AS `%total_expected_a360_eventhub_responses`\n        \n        FROM results\n\"\"\").display()",
       "commandTitle": "Visualization 1",
       "commandType": "auto",
       "commandVersion": 0,
       "commentThread": [],
       "commentsVisible": false,
       "contentSha256Hex": null,
       "customPlotOptions": {
        "redashChart": [
         {
          "key": "type",
          "value": "DETAILS"
         },
         {
          "key": "options",
          "value": {
           "columns": [
            {
             "name": "file_type",
             "title": "file_type",
             "type": "string"
            },
            {
             "name": "total_expected_a360_eventhub_responses",
             "title": "total_expected_a360_eventhub_responses",
             "type": "integer"
            },
            {
             "name": "count_of_successful_a360_responses",
             "title": "count_of_successful_a360_responses",
             "type": "float"
            },
            {
             "name": "%total_expected_a360_eventhub_responses",
             "title": "%total_expected_a360_eventhub_responses",
             "type": "string"
            }
           ],
           "version": 1
          }
         }
        ]
       },
       "datasetPreviewNameToCmdIdMap": {},
       "diffDeletes": [],
       "diffInserts": [],
       "displayType": "redashChart",
       "error": null,
       "errorDetails": null,
       "errorSummary": null,
       "errorTraceType": null,
       "finishTime": 0,
       "globalVars": {},
       "guid": "",
       "height": "auto",
       "hideCommandCode": false,
       "hideCommandResult": false,
       "iPythonMetadata": null,
       "inputWidgets": {},
       "isLockedInExamMode": false,
       "latestAssumeRoleInfo": null,
       "latestUser": "a user",
       "latestUserId": null,
       "listResultMetadata": null,
       "metadata": {
        "byteLimit": 2048000,
        "rowLimit": 10000
       },
       "nuid": "1aba7e17-fa30-44c9-95d8-a3e69e26a6f5",
       "origId": 0,
       "parentHierarchy": [],
       "pivotAggregation": null,
       "pivotColumns": null,
       "position": 21.734375,
       "resultDbfsErrorMessage": null,
       "resultDbfsStatus": "INLINED_IN_TREE",
       "results": null,
       "showCommandTitle": false,
       "startTime": 0,
       "state": "input",
       "streamStates": {},
       "subcommandOptions": {},
       "submitTime": 0,
       "subtype": "tableResultSubCmd.visualization",
       "tableResultIndex": 0,
       "tableResultSettingsMap": {},
       "useConsistentColors": false,
       "version": "CommandV1",
       "width": "auto",
       "workflows": null,
       "xColumns": null,
       "yColumns": null
      }
     },
     "output_type": "display_data"
    }
   ],
   "source": [
    "spark.sql(f\"\"\"\n",
    "    WITH results AS (\n",
    "        SELECT \n",
    "            split_part(filename, '.', -1) AS file_extension,\n",
    "            COUNT(CASE WHEN http_response = 201 AND http_message = 'Created' THEN 1 END) AS count_of_successful_eventhub_responses,\n",
    "            COUNT(CASE WHEN http_response <> 201 AND http_message <> 'Created' THEN 1 END) AS count_of_unsuccessful_eventhub_responses\n",
    "        FROM bails_acknowledge_audit_data\n",
    "        WHERE split_part(filename, '.', -1) = 'a360'\n",
    "        GROUP BY split_part(filename, '.', -1)\n",
    "    )\n",
    "    SELECT\n",
    "        file_extension AS file_type,\n",
    "        {expected_a360} AS total_expected_a360_eventhub_responses,\n",
    "        CASE WHEN file_extension = 'a360' THEN CEIL(count_of_successful_eventhub_responses, {expected_a360}) ELSE NULL END AS `count_of_successful_a360_responses`,\n",
    "        CASE WHEN file_extension = 'a360' THEN concat(ROUND((count_of_successful_eventhub_responses / {expected_a360}) * 100, 2), \"%\") ELSE NULL END AS `%total_expected_a360_eventhub_responses`\n",
    "        \n",
    "        FROM results\n",
    "\"\"\").display()"
   ]
  },
  {
   "cell_type": "code",
   "execution_count": 0,
   "metadata": {
    "application/vnd.databricks.v1+cell": {
     "cellMetadata": {
      "byteLimit": 2048000,
      "rowLimit": 10000
     },
     "inputWidgets": {},
     "nuid": "7716528e-2735-42fb-b687-eaa9c9cfbeb6",
     "showTitle": false,
     "tableResultSettingsMap": {},
     "title": ""
    }
   },
   "outputs": [],
   "source": [
    "silver_container = \"silver\"\n",
    "bl_cr_audit_table = spark.read.format(\"delta\").load(f\"abfss://{silver_container}@{curated_storage_account}.dfs.core.windows.net/ARIADM/ARM/AUDIT/BAILS/bl_cr_audit_table/\")\n",
    "bl_cr_audit_table.createOrReplaceTempView(\"bl_cr_audit_table\")"
   ]
  },
  {
   "cell_type": "code",
   "execution_count": 0,
   "metadata": {
    "application/vnd.databricks.v1+cell": {
     "cellMetadata": {
      "byteLimit": 2048000,
      "implicitDf": true,
      "rowLimit": 10000
     },
     "inputWidgets": {},
     "nuid": "9d353909-de75-4542-8bf7-66d1d29d5e7f",
     "showTitle": false,
     "tableResultSettingsMap": {},
     "title": ""
    }
   },
   "outputs": [],
   "source": [
    "%sql\n",
    "WITH CTE AS (\n",
    "  SELECT \n",
    "    COUNT(Unique_Identifier) AS count_of_gold_records, \n",
    "    Table_Name, \n",
    "    Stage_Name \n",
    "  FROM bl_cr_audit_table \n",
    "  WHERE Stage_Name IN ('segmentation_stage', 'gold_stage') \n",
    "    AND Table_Name IN (\n",
    "      'silver_normal_bail', \n",
    "      'create_bails_json_content', \n",
    "      'create_bails_html_content', \n",
    "      'gold_bails_a360'\n",
    "    )\n",
    "  GROUP BY Table_Name, Stage_Name\n",
    "  ORDER BY Stage_Name DESC\n",
    ")\n",
    "SELECT\n",
    "  count_of_gold_records,\n",
    "  Table_Name,\n",
    "  Stage_Name\n",
    "FROM CTE"
   ]
  },
  {
   "cell_type": "code",
   "execution_count": 0,
   "metadata": {
    "application/vnd.databricks.v1+cell": {
     "cellMetadata": {
      "byteLimit": 2048000,
      "rowLimit": 10000
     },
     "inputWidgets": {},
     "nuid": "f87e9315-a6d0-42bc-95ea-b815ed7f48eb",
     "showTitle": true,
     "tableResultSettingsMap": {
      "0": {
       "dataGridStateBlob": "{\"version\":1,\"tableState\":{\"columnPinning\":{\"left\":[\"#row_number#\"],\"right\":[]},\"columnSizing\":{\"total_expected_eventhub_responses\":279,\"count_of_successful_eventhub_responses\":293,\"count_of_unsuccessful_eventhub_responses\":302,\"file_extension\":117},\"columnVisibility\":{}},\"settings\":{\"columns\":{}},\"syncTimestamp\":1761560612548}",
       "filterBlob": null,
       "queryPlanFiltersBlob": null,
       "tableResultIndex": 0
      }
     },
     "title": "Pub"
    }
   },
   "outputs": [],
   "source": [
    "df_bails_pub_audit_db_eh_audit_data = spark.read.format(\"delta\").load(f\"abfss://{silver_container}@{curated_storage_account}.dfs.core.windows.net/ARIADM/ARM/AUDIT/BAILS/bl_pub_audit_table/\")\n",
    "df_bails_pub_audit_db_eh_audit_data.createOrReplaceTempView(\"bl_publish_audit_db_eh_data\")\n",
    "\n",
    "spark.sql(f\"\"\"\n",
    "      SELECT \n",
    "      split_part(file_name, '.', -1) as file_extension,\n",
    "      {expected_html} as total_expected_html_eventhub_responses,\n",
    "      {expected_json} as total_expected_json_eventhub_responses,\n",
    "      {expected_a360} as total_expected_a360_eventhub_responses,\n",
    "      COUNT(CASE WHEN status = 'success' THEN 1 END) AS count_of_successful_eventhub_responses,\n",
    "      COUNT(CASE WHEN status <> 'success' THEN 1 END) AS count_of_unsuccessful_eventhub_responses,\n",
    "      concat(((count_of_successful_eventhub_responses/total_expected_html_eventhub_responses) * 100), \"%\") as `%_of_successful_eventhub_responses`\n",
    "\n",
    "FROM bl_publish_audit_db_eh_data\n",
    "GROUP BY file_extension\n",
    "\"\"\").display()"
   ]
  },
  {
   "cell_type": "code",
   "execution_count": 0,
   "metadata": {
    "application/vnd.databricks.v1+cell": {
     "cellMetadata": {
      "byteLimit": 2048000,
      "rowLimit": 10000
     },
     "inputWidgets": {},
     "nuid": "d92fd089-3d03-4091-a4ff-a7d70bddef75",
     "showTitle": true,
     "tableResultSettingsMap": {},
     "title": "A360 Ack"
    }
   },
   "outputs": [
    {
     "output_type": "display_data",
     "data": {
      "text/plain": [
       "Databricks visualization. Run in Databricks to view."
      ]
     },
     "metadata": {
      "application/vnd.databricks.v1.subcommand+json": {
       "baseErrorDetails": null,
       "bindings": {},
       "collapsed": false,
       "command": "spark.sql(f\"\"\"\n    WITH results AS (\n        SELECT \n            split_part(file_name, '.', -1) AS file_extension,\n            COUNT(CASE WHEN status = 'success' THEN 1 END) AS count_of_successful_eventhub_responses,\n            COUNT(CASE WHEN status != 'success' THEN 1 END) AS count_of_unsuccessful_eventhub_responses\n        FROM bl_publish_audit_db_eh_data\n        WHERE split_part(file_name, '.', -1) = 'a360'\n        GROUP BY split_part(file_name, '.', -1)\n    )\n    SELECT\n        file_extension AS file_type,\n        {expected_a360} AS total_expected_a360_eventhub_responses,\n        count_of_successful_eventhub_responses AS count_of_successful_a360_responses,\n        concat(\n            ROUND(\n                (count_of_successful_eventhub_responses / {expected_a360}) * 100, 2\n            ), \"%\"\n        ) AS `%total_expected_a360_eventhub_responses`\n    FROM results\n\"\"\").display()",
       "commandTitle": "Visualization 1",
       "commandType": "auto",
       "commandVersion": 0,
       "commentThread": [],
       "commentsVisible": false,
       "contentSha256Hex": null,
       "customPlotOptions": {
        "redashChart": [
         {
          "key": "type",
          "value": "DETAILS"
         },
         {
          "key": "options",
          "value": {
           "columns": [
            {
             "name": "file_type",
             "title": "file_type",
             "type": "string"
            },
            {
             "name": "total_expected_a360_eventhub_responses",
             "title": "total_expected_a360_eventhub_responses",
             "type": "integer"
            },
            {
             "name": "count_of_successful_a360_responses",
             "title": "count_of_successful_a360_responses",
             "type": "integer"
            },
            {
             "name": "%total_expected_a360_eventhub_responses",
             "title": "%total_expected_a360_eventhub_responses",
             "type": "string"
            }
           ],
           "version": 1
          }
         }
        ]
       },
       "datasetPreviewNameToCmdIdMap": {},
       "diffDeletes": [],
       "diffInserts": [],
       "displayType": "redashChart",
       "error": null,
       "errorDetails": null,
       "errorSummary": null,
       "errorTraceType": null,
       "finishTime": 0,
       "globalVars": {},
       "guid": "",
       "height": "auto",
       "hideCommandCode": false,
       "hideCommandResult": false,
       "iPythonMetadata": null,
       "inputWidgets": {},
       "isLockedInExamMode": false,
       "latestAssumeRoleInfo": null,
       "latestUser": "a user",
       "latestUserId": null,
       "listResultMetadata": null,
       "metadata": {
        "byteLimit": 2048000,
        "rowLimit": 10000
       },
       "nuid": "31ee91a8-c72e-423e-a259-8d0e18c006fe",
       "origId": 0,
       "parentHierarchy": [],
       "pivotAggregation": null,
       "pivotColumns": null,
       "position": 21.9375,
       "resultDbfsErrorMessage": null,
       "resultDbfsStatus": "INLINED_IN_TREE",
       "results": null,
       "showCommandTitle": false,
       "startTime": 0,
       "state": "input",
       "streamStates": {},
       "subcommandOptions": {},
       "submitTime": 0,
       "subtype": "tableResultSubCmd.visualization",
       "tableResultIndex": 0,
       "tableResultSettingsMap": {},
       "useConsistentColors": false,
       "version": "CommandV1",
       "width": "auto",
       "workflows": null,
       "xColumns": null,
       "yColumns": null
      }
     },
     "output_type": "display_data"
    }
   ],
   "source": [
    "spark.sql(f\"\"\"\n",
    "    WITH results AS (\n",
    "        SELECT \n",
    "            split_part(file_name, '.', -1) AS file_extension,\n",
    "            COUNT(CASE WHEN status = 'success' THEN 1 END) AS count_of_successful_eventhub_responses,\n",
    "            COUNT(CASE WHEN status != 'success' THEN 1 END) AS count_of_unsuccessful_eventhub_responses\n",
    "        FROM bl_publish_audit_db_eh_data\n",
    "        WHERE split_part(file_name, '.', -1) = 'a360'\n",
    "        GROUP BY split_part(file_name, '.', -1)\n",
    "    )\n",
    "    SELECT\n",
    "        file_extension AS file_type,\n",
    "        {expected_a360} AS total_expected_a360_eventhub_responses,\n",
    "        count_of_successful_eventhub_responses AS count_of_successful_a360_responses,\n",
    "        concat(\n",
    "            ROUND(\n",
    "                (count_of_successful_eventhub_responses / {expected_a360}) * 100, 2\n",
    "            ), \"%\"\n",
    "        ) AS `%total_expected_a360_eventhub_responses`\n",
    "    FROM results\n",
    "\"\"\").display()"
   ]
  },
  {
   "cell_type": "code",
   "execution_count": 0,
   "metadata": {
    "application/vnd.databricks.v1+cell": {
     "cellMetadata": {
      "byteLimit": 2048000,
      "rowLimit": 10000
     },
     "inputWidgets": {},
     "nuid": "7b157766-7027-48e6-a11d-835b758b8431",
     "showTitle": true,
     "tableResultSettingsMap": {},
     "title": "HTML ack"
    }
   },
   "outputs": [
    {
     "output_type": "display_data",
     "data": {
      "text/plain": [
       "Databricks visualization. Run in Databricks to view."
      ]
     },
     "metadata": {
      "application/vnd.databricks.v1.subcommand+json": {
       "baseErrorDetails": null,
       "bindings": {},
       "collapsed": false,
       "command": "spark.sql(f\"\"\"\n    WITH results AS (\n        SELECT \n            split_part(file_name, '.', -1) AS file_extension,\n            COUNT(CASE WHEN status = 'success' THEN 1 END) AS count_of_successful_eventhub_responses,\n            COUNT(CASE WHEN status != 'success' THEN 1 END) AS count_of_unsuccessful_eventhub_responses\n        FROM bl_publish_audit_db_eh_data\n        WHERE split_part(file_name, '.', -1) = 'html'\n        GROUP BY split_part(file_name, '.', -1)\n    )\n    SELECT\n        file_extension AS file_type,\n        {expected_html} AS total_expected_html_eventhub_responses,\n        count_of_successful_eventhub_responses AS count_of_successful_html_responses,\n        concat(\n            ROUND(\n                (count_of_successful_eventhub_responses / {expected_html}) * 100, 2\n            ), \"%\"\n        ) AS `%total_expected_html_eventhub_responses`\n    FROM results\n\"\"\").display()",
       "commandTitle": "Visualization 1",
       "commandType": "auto",
       "commandVersion": 0,
       "commentThread": [],
       "commentsVisible": false,
       "contentSha256Hex": null,
       "customPlotOptions": {
        "redashChart": [
         {
          "key": "type",
          "value": "DETAILS"
         },
         {
          "key": "options",
          "value": {
           "columns": [
            {
             "name": "file_type",
             "title": "file_type",
             "type": "string"
            },
            {
             "name": "total_expected_html_eventhub_responses",
             "title": "total_expected_html_eventhub_responses",
             "type": "integer"
            },
            {
             "name": "count_of_successful_html_responses",
             "title": "count_of_successful_html_responses",
             "type": "integer"
            },
            {
             "name": "%total_expected_a360_eventhub_responses",
             "title": "%total_expected_a360_eventhub_responses",
             "type": "string"
            }
           ],
           "version": 1
          }
         }
        ]
       },
       "datasetPreviewNameToCmdIdMap": {},
       "diffDeletes": [],
       "diffInserts": [],
       "displayType": "redashChart",
       "error": null,
       "errorDetails": null,
       "errorSummary": null,
       "errorTraceType": null,
       "finishTime": 0,
       "globalVars": {},
       "guid": "",
       "height": "auto",
       "hideCommandCode": false,
       "hideCommandResult": false,
       "iPythonMetadata": null,
       "inputWidgets": {},
       "isLockedInExamMode": false,
       "latestAssumeRoleInfo": null,
       "latestUser": "a user",
       "latestUserId": null,
       "listResultMetadata": null,
       "metadata": {
        "byteLimit": 2048000,
        "rowLimit": 10000
       },
       "nuid": "39e03ade-0455-4ed3-8f69-6932fdeaab19",
       "origId": 0,
       "parentHierarchy": [],
       "pivotAggregation": null,
       "pivotColumns": null,
       "position": 21.953125,
       "resultDbfsErrorMessage": null,
       "resultDbfsStatus": "INLINED_IN_TREE",
       "results": null,
       "showCommandTitle": false,
       "startTime": 0,
       "state": "input",
       "streamStates": {},
       "subcommandOptions": {},
       "submitTime": 0,
       "subtype": "tableResultSubCmd.visualization",
       "tableResultIndex": 0,
       "tableResultSettingsMap": {},
       "useConsistentColors": false,
       "version": "CommandV1",
       "width": "auto",
       "workflows": null,
       "xColumns": null,
       "yColumns": null
      }
     },
     "output_type": "display_data"
    }
   ],
   "source": [
    "spark.sql(f\"\"\"\n",
    "    WITH results AS (\n",
    "        SELECT \n",
    "            split_part(file_name, '.', -1) AS file_extension,\n",
    "            COUNT(CASE WHEN status = 'success' THEN 1 END) AS count_of_successful_eventhub_responses,\n",
    "            COUNT(CASE WHEN status != 'success' THEN 1 END) AS count_of_unsuccessful_eventhub_responses\n",
    "        FROM bl_publish_audit_db_eh_data\n",
    "        WHERE split_part(file_name, '.', -1) = 'html'\n",
    "        GROUP BY split_part(file_name, '.', -1)\n",
    "    )\n",
    "    SELECT\n",
    "        file_extension AS file_type,\n",
    "        {expected_html} AS total_expected_html_eventhub_responses,\n",
    "        count_of_successful_eventhub_responses AS count_of_successful_html_responses,\n",
    "        concat(\n",
    "            ROUND(\n",
    "                (count_of_successful_eventhub_responses / {expected_html}) * 100, 2\n",
    "            ), \"%\"\n",
    "        ) AS `%total_expected_html_eventhub_responses`\n",
    "    FROM results\n",
    "\"\"\").display()"
   ]
  },
  {
   "cell_type": "code",
   "execution_count": 0,
   "metadata": {
    "application/vnd.databricks.v1+cell": {
     "cellMetadata": {
      "byteLimit": 2048000,
      "rowLimit": 10000
     },
     "inputWidgets": {},
     "nuid": "6389e333-780e-4268-b6ee-8a17ecea696d",
     "showTitle": true,
     "tableResultSettingsMap": {},
     "title": "JSON ack"
    }
   },
   "outputs": [
    {
     "output_type": "display_data",
     "data": {
      "text/plain": [
       "Databricks visualization. Run in Databricks to view."
      ]
     },
     "metadata": {
      "application/vnd.databricks.v1.subcommand+json": {
       "baseErrorDetails": null,
       "bindings": {},
       "collapsed": false,
       "command": "spark.sql(f\"\"\"\n    WITH results AS (\n        SELECT \n            split_part(file_name, '.', -1) AS file_extension,\n            COUNT(CASE WHEN status = 'success' THEN 1 END) AS count_of_successful_eventhub_responses,\n            COUNT(CASE WHEN status != 'success' THEN 1 END) AS count_of_unsuccessful_eventhub_responses\n        FROM bl_publish_audit_db_eh_data\n        WHERE split_part(file_name, '.', -1) = 'json'\n        GROUP BY split_part(file_name, '.', -1)\n    )\n    SELECT\n        file_extension AS file_type,\n        {expected_json} AS total_expected_json_eventhub_responses,\n        count_of_successful_eventhub_responses AS count_of_successful_json_responses,\n        concat(\n            ROUND(\n                (count_of_successful_eventhub_responses / {expected_json}) * 100, 2\n            ), \"%\"\n        ) AS `%total_expected_json_eventhub_responses`\n    FROM results\n\"\"\").display()",
       "commandTitle": "Visualization 1",
       "commandType": "auto",
       "commandVersion": 0,
       "commentThread": [],
       "commentsVisible": false,
       "contentSha256Hex": null,
       "customPlotOptions": {
        "redashChart": [
         {
          "key": "type",
          "value": "DETAILS"
         },
         {
          "key": "options",
          "value": {
           "columns": [
            {
             "name": "file_type",
             "title": "file_type",
             "type": "string"
            },
            {
             "name": "total_expected_json_eventhub_responses",
             "title": "total_expected_json_eventhub_responses",
             "type": "integer"
            },
            {
             "name": "count_of_successful_json_responses",
             "title": "count_of_successful_json_responses",
             "type": "integer"
            },
            {
             "name": "%total_expected_a360_eventhub_responses",
             "title": "%total_expected_a360_eventhub_responses",
             "type": "string"
            }
           ],
           "version": 1
          }
         }
        ]
       },
       "datasetPreviewNameToCmdIdMap": {},
       "diffDeletes": [],
       "diffInserts": [],
       "displayType": "redashChart",
       "error": null,
       "errorDetails": null,
       "errorSummary": null,
       "errorTraceType": null,
       "finishTime": 0,
       "globalVars": {},
       "guid": "",
       "height": "auto",
       "hideCommandCode": false,
       "hideCommandResult": false,
       "iPythonMetadata": null,
       "inputWidgets": {},
       "isLockedInExamMode": false,
       "latestAssumeRoleInfo": null,
       "latestUser": "a user",
       "latestUserId": null,
       "listResultMetadata": null,
       "metadata": {
        "byteLimit": 2048000,
        "rowLimit": 10000
       },
       "nuid": "62404e27-7222-4838-9ba3-cb5cf2f29b60",
       "origId": 0,
       "parentHierarchy": [],
       "pivotAggregation": null,
       "pivotColumns": null,
       "position": 21.96875,
       "resultDbfsErrorMessage": null,
       "resultDbfsStatus": "INLINED_IN_TREE",
       "results": null,
       "showCommandTitle": false,
       "startTime": 0,
       "state": "input",
       "streamStates": {},
       "subcommandOptions": {},
       "submitTime": 0,
       "subtype": "tableResultSubCmd.visualization",
       "tableResultIndex": 0,
       "tableResultSettingsMap": {},
       "useConsistentColors": false,
       "version": "CommandV1",
       "width": "auto",
       "workflows": null,
       "xColumns": null,
       "yColumns": null
      }
     },
     "output_type": "display_data"
    }
   ],
   "source": [
    "spark.sql(f\"\"\"\n",
    "    WITH results AS (\n",
    "        SELECT \n",
    "            split_part(file_name, '.', -1) AS file_extension,\n",
    "            COUNT(CASE WHEN status = 'success' THEN 1 END) AS count_of_successful_eventhub_responses,\n",
    "            COUNT(CASE WHEN status != 'success' THEN 1 END) AS count_of_unsuccessful_eventhub_responses\n",
    "        FROM bl_publish_audit_db_eh_data\n",
    "        WHERE split_part(file_name, '.', -1) = 'json'\n",
    "        GROUP BY split_part(file_name, '.', -1)\n",
    "    )\n",
    "    SELECT\n",
    "        file_extension AS file_type,\n",
    "        {expected_json} AS total_expected_json_eventhub_responses,\n",
    "        count_of_successful_eventhub_responses AS count_of_successful_json_responses,\n",
    "        concat(\n",
    "            ROUND(\n",
    "                (count_of_successful_eventhub_responses / {expected_json}) * 100, 2\n",
    "            ), \"%\"\n",
    "        ) AS `%total_expected_json_eventhub_responses`\n",
    "    FROM results\n",
    "\"\"\").display()"
   ]
  },
  {
   "cell_type": "code",
   "execution_count": 0,
   "metadata": {
    "application/vnd.databricks.v1+cell": {
     "cellMetadata": {
      "byteLimit": 2048000,
      "rowLimit": 10000
     },
     "inputWidgets": {},
     "nuid": "b1640307-70bd-4699-8108-d07195bd4954",
     "showTitle": false,
     "tableResultSettingsMap": {},
     "title": ""
    }
   },
   "outputs": [],
   "source": [
    "dbutils.notebook.exit(\"Notebook completed successfully\")"
   ]
  }
 ],
 "metadata": {
  "application/vnd.databricks.v1+notebook": {
   "computePreferences": null,
   "dashboards": [
    {
     "elements": [
      {
       "dashboardResultIndex": null,
       "elementNUID": "62404e27-7222-4838-9ba3-cb5cf2f29b60",
       "elementType": "command",
       "guid": "0a7bf311-3fe2-4e4d-a42e-7b435d66ec3a",
       "options": {
        "autoScaleImg": false,
        "scale": 0,
        "showTitle": true,
        "title": "Count of JSON messages acknowledged by EventHub",
        "titleAlign": "center"
       },
       "position": {
        "height": 4,
        "width": 12,
        "x": 12,
        "y": 8,
        "z": null
       },
       "resultIndex": null
      },
      {
       "dashboardResultIndex": null,
       "elementNUID": "0d5c41a9-447a-401b-ad46-89d30be4df43",
       "elementType": "command",
       "guid": "12140333-2d0c-4eba-aa6a-1d9634559401",
       "options": {
        "autoScaleImg": false,
        "scale": 0,
        "showTitle": true,
        "title": "Count of JSON messages published to EventHub",
        "titleAlign": "center"
       },
       "position": {
        "height": 4,
        "width": 12,
        "x": 0,
        "y": 8,
        "z": null
       },
       "resultIndex": null
      },
      {
       "dashboardResultIndex": null,
       "elementNUID": "1aba7e17-fa30-44c9-95d8-a3e69e26a6f5",
       "elementType": "command",
       "guid": "3a2dd357-1e45-4cd8-8379-44ee25442701",
       "options": {
        "autoScaleImg": false,
        "scale": 0,
        "showTitle": true,
        "title": "Count of A360 messages published to EventHub",
        "titleAlign": "center"
       },
       "position": {
        "height": 4,
        "width": 12,
        "x": 0,
        "y": 12,
        "z": null
       },
       "resultIndex": null
      },
      {
       "dashboardResultIndex": 0,
       "elementNUID": "9d353909-de75-4542-8bf7-66d1d29d5e7f",
       "elementType": "command",
       "guid": "49c0f45d-600d-49fd-b79c-3cabdac3079f",
       "options": {
        "autoScaleImg": false,
        "scale": 0,
        "showTitle": true,
        "title": "Count of successful HTML, A360, JSON files created in gold DLT",
        "titleAlign": "center"
       },
       "position": {
        "height": 4,
        "width": 24,
        "x": 0,
        "y": 0,
        "z": null
       },
       "resultIndex": null
      },
      {
       "dashboardResultIndex": null,
       "elementNUID": "39e03ade-0455-4ed3-8f69-6932fdeaab19",
       "elementType": "command",
       "guid": "800863bf-3834-435c-9bd6-010dc8a6e6df",
       "options": {
        "autoScaleImg": false,
        "scale": 0,
        "showTitle": true,
        "title": "Count of HTML messages acknowledged by EventHub",
        "titleAlign": "center"
       },
       "position": {
        "height": 4,
        "width": 12,
        "x": 12,
        "y": 4,
        "z": null
       },
       "resultIndex": null
      },
      {
       "dashboardResultIndex": 0,
       "elementNUID": "362996fb-92e7-42f0-8e77-304d82ba361e",
       "elementType": "command",
       "guid": "8c78988f-cf55-4bc0-9b39-1978bf34a768",
       "options": {
        "autoScaleImg": false,
        "scale": 0,
        "showTitle": true,
        "title": "Gold A360 table (DLT output)",
        "titleAlign": "center"
       },
       "position": {
        "height": 4,
        "width": 24,
        "x": 0,
        "y": 22,
        "z": null
       },
       "resultIndex": null
      },
      {
       "dashboardResultIndex": 0,
       "elementNUID": "b11bbc21-1411-490d-8894-bea596734824",
       "elementType": "command",
       "guid": "d37619db-c4cf-4505-a8a4-8d4c39995632",
       "options": {
        "autoScaleImg": false,
        "scale": 0,
        "showTitle": true,
        "title": "Gold HTML table (DLT output)",
        "titleAlign": "center"
       },
       "position": {
        "height": 6,
        "width": 12,
        "x": 0,
        "y": 16,
        "z": null
       },
       "resultIndex": null
      },
      {
       "dashboardResultIndex": null,
       "elementNUID": "54c63277-18b8-4b25-aef0-5088608f3165",
       "elementType": "command",
       "guid": "ec1915b2-4606-41d5-a132-77eb5a5a528a",
       "options": {
        "autoScaleImg": false,
        "scale": 0,
        "showTitle": true,
        "title": "Count of HTML messages published to EventHub",
        "titleAlign": "center"
       },
       "position": {
        "height": 4,
        "width": 12,
        "x": 0,
        "y": 4,
        "z": null
       },
       "resultIndex": null
      },
      {
       "dashboardResultIndex": 0,
       "elementNUID": "717aea75-ce30-4d0b-8f72-dad33654e0a9",
       "elementType": "command",
       "guid": "edccf492-6747-4059-9746-5b291b58992a",
       "options": {
        "autoScaleImg": false,
        "scale": 0,
        "showTitle": true,
        "title": "Gold JSON table (DLT output)",
        "titleAlign": "center"
       },
       "position": {
        "height": 6,
        "width": 12,
        "x": 12,
        "y": 16,
        "z": null
       },
       "resultIndex": null
      },
      {
       "dashboardResultIndex": null,
       "elementNUID": "31ee91a8-c72e-423e-a259-8d0e18c006fe",
       "elementType": "command",
       "guid": "f1a851e8-1b4b-47f7-8e74-729706fd6ee6",
       "options": {
        "autoScaleImg": false,
        "scale": 0,
        "showTitle": true,
        "title": "Count of A360 messages acknowledged by EventHub",
        "titleAlign": "center"
       },
       "position": {
        "height": 4,
        "width": 12,
        "x": 12,
        "y": 12,
        "z": null
       },
       "resultIndex": null
      }
     ],
     "globalVars": {},
     "guid": "",
     "layoutOption": {
      "grid": true,
      "stack": true
     },
     "nuid": "ab52bf9b-1e95-455b-8b60-67ef5f5deb20",
     "origId": 6578794018835672,
     "title": "Bails_Acknowledge_Dashboard",
     "version": "DashboardViewV1",
     "width": 1440
    }
   ],
   "environmentMetadata": {
    "base_environment": "",
    "environment_version": "2"
   },
   "inputWidgetPreferences": null,
   "language": "python",
   "notebookMetadata": {
    "mostRecentlyExecutedCommandWithImplicitDF": {
     "commandId": 6578794018836026,
     "dataframes": [
      "_sqldf"
     ]
    },
    "pythonIndentUnit": 4
   },
   "notebookName": "bails_ack_autoloader",
   "widgets": {}
  },
  "language_info": {
   "name": "python"
  }
 },
 "nbformat": 4,
 "nbformat_minor": 0
}
