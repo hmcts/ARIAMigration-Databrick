{
 "cells": [
  {
   "cell_type": "markdown",
   "metadata": {
    "application/vnd.databricks.v1+cell": {
     "cellMetadata": {
      "byteLimit": 2048000,
      "rowLimit": 10000
     },
     "inputWidgets": {},
     "nuid": "fc25882a-b9e5-4d8f-b735-299a7c2c74ff",
     "showTitle": false,
     "tableResultSettingsMap": {},
     "title": ""
    }
   },
   "source": [
    "# User Access Token"
   ]
  },
  {
   "cell_type": "markdown",
   "metadata": {
    "application/vnd.databricks.v1+cell": {
     "cellMetadata": {
      "byteLimit": 2048000,
      "rowLimit": 10000
     },
     "inputWidgets": {},
     "nuid": "2f124bc8-cb42-4771-85e9-aee06ceb7698",
     "showTitle": false,
     "tableResultSettingsMap": {},
     "title": ""
    }
   },
   "source": [
    "## User Acces Token"
   ]
  },
  {
   "cell_type": "code",
   "execution_count": 0,
   "metadata": {
    "application/vnd.databricks.v1+cell": {
     "cellMetadata": {
      "byteLimit": 2048000,
      "rowLimit": 10000
     },
     "inputWidgets": {},
     "nuid": "6f0c19f9-cb8b-40ba-9968-23c18a075221",
     "showTitle": false,
     "tableResultSettingsMap": {},
     "title": ""
    }
   },
   "outputs": [],
   "source": [
    "%sh pip install pyotp\n",
    "\n"
   ]
  },
  {
   "cell_type": "code",
   "execution_count": 0,
   "metadata": {
    "application/vnd.databricks.v1+cell": {
     "cellMetadata": {
      "byteLimit": 2048000,
      "rowLimit": 10000
     },
     "inputWidgets": {},
     "nuid": "f4e4a094-f6c1-4ebc-90e4-8fcfa1444810",
     "showTitle": false,
     "tableResultSettingsMap": {},
     "title": ""
    }
   },
   "outputs": [],
   "source": [
    "# from azure.keyvault import KeyVaultClient\n",
    "import requests\n",
    "import pyotp"
   ]
  },
  {
   "cell_type": "code",
   "execution_count": 0,
   "metadata": {
    "application/vnd.databricks.v1+cell": {
     "cellMetadata": {
      "byteLimit": 2048000,
      "rowLimit": 10000
     },
     "inputWidgets": {},
     "nuid": "fabfb8a2-a483-40d1-94ad-44ff52d9eafd",
     "showTitle": false,
     "tableResultSettingsMap": {},
     "title": ""
    }
   },
   "outputs": [],
   "source": [
    "## Authenticate to Keyvaults\n",
    "key_Vault_name = \"ia-aat\"\n"
   ]
  },
  {
   "cell_type": "code",
   "execution_count": 0,
   "metadata": {
    "application/vnd.databricks.v1+cell": {
     "cellMetadata": {
      "byteLimit": 2048000,
      "rowLimit": 10000
     },
     "inputWidgets": {},
     "nuid": "5b27d41c-cf41-4aa0-8171-52aaf3ac4dd1",
     "showTitle": false,
     "tableResultSettingsMap": {},
     "title": ""
    }
   },
   "outputs": [],
   "source": [
    "grant_type = \"password\"\n",
    "client_id = dbutils.secrets.get(key_Vault_name, \"idam-client-id\")\n",
    "client_secret = dbutils.secrets.get(key_Vault_name, \"idam-secret\")\n",
    "username = dbutils.secrets.get(key_Vault_name, \"system-username\")\n",
    "password = dbutils.secrets.get(key_Vault_name, \"system-password\")\n",
    "scope = \"openid profile roles\""
   ]
  },
  {
   "cell_type": "code",
   "execution_count": 0,
   "metadata": {
    "application/vnd.databricks.v1+cell": {
     "cellMetadata": {
      "byteLimit": 2048000,
      "rowLimit": 10000
     },
     "inputWidgets": {},
     "nuid": "77fcfd72-b532-4926-811f-d16dd28623a1",
     "showTitle": false,
     "tableResultSettingsMap": {},
     "title": ""
    }
   },
   "outputs": [],
   "source": [
    "# base_url = \"https://idam-api.aat.platform.hmcts.net/o/token\"\n",
    "idam_host = \"https://idam-web-public.aat.platform.hmcts.net\"\n",
    "base_url = f\"{idam_host}/o/token\"\n",
    "\n",
    "headers = {\n",
    "    \"Content-Type\": \"application/x-www-form-urlencoded\"\n",
    "}"
   ]
  },
  {
   "cell_type": "code",
   "execution_count": 0,
   "metadata": {
    "application/vnd.databricks.v1+cell": {
     "cellMetadata": {
      "byteLimit": 2048000,
      "rowLimit": 10000
     },
     "inputWidgets": {},
     "nuid": "9c4c3ba0-5319-4794-a5c7-38fb4b8833a3",
     "showTitle": false,
     "tableResultSettingsMap": {},
     "title": ""
    }
   },
   "outputs": [],
   "source": [
    "# import json\n",
    "# def generate_user_token(env):\n",
    "#     #----# determine the instance and Keyvault to use #-----#\n",
    "#     if env == \"sbox\":\n",
    "#         idam_host = \"https://idam-web-public.aat.platform.hmcts.net\"\n",
    "#         key_Vault_name = \"ia-aat\"\n",
    "#     if env == \"stg\":\n",
    "#         idam_host = \"https://idam-api.aat.platform.hmcts.net\"\n",
    "#         key_Vault_name = \"ia-aat\"\n",
    "#     if env == \"prod\":\n",
    "#         idam_host = \"\" ### Set PROD URL\n",
    "#         key_Vault_name = \"\" # SET PROD Key vault\n",
    "\n",
    "#     base_url = f\"{idam_host}/o/token\"\n",
    "\n",
    "#     headers = {\n",
    "#         \"Content-Type\": \"application/x-www-form-urlencoded\"\n",
    "#     }\n",
    "#     #-----# Get variables from keyvault #-----#\n",
    "#     grant_type = \"password\"\n",
    "#     client_id = dbutils.secrets.get(key_Vault_name, \"idam-client-id\")\n",
    "#     client_secret = dbutils.secrets.get(key_Vault_name, \"idam-secret\")\n",
    "#     username = dbutils.secrets.get(key_Vault_name, \"system-username\")\n",
    "#     password = dbutils.secrets.get(key_Vault_name, \"system-password\")\n",
    "#     scope = \"openid profile roles\"\n",
    "\n",
    "#     #-----# Create body of the message #-----#\n",
    "#     data = {\n",
    "#         \"grant_type\": \"password\",\n",
    "#         \"client_id\": client_id,\n",
    "#         \"client_secret\": client_secret,\n",
    "#         \"username\": username,\n",
    "#         \"password\": password,\n",
    "#         \"scope\": \"openid profile roles\"\n",
    "#     }\n",
    "#     #-----# POST Request to get user access token #-----#\n",
    "#     try:\n",
    "\n",
    "#         idam_response = requests.post(base_url, headers=headers, data=data)\n",
    "#         # Check and handle response\n",
    "#         if idam_response.status_code == 200:\n",
    "#             access_token = idam_response.json()[\"access_token\"]\n",
    "#             print(idam_response.text)\n",
    "#             print(\"Succesfully acquired: User Access Token\")\n",
    "#             return access_token, idam_response.json()[\"expires_in\"]\n",
    "#         else:\n",
    "#             print(\"Failed to get token:\", idam_response.status_code)\n",
    "#             print(idam_response.text)\n",
    "#     except Exception as e:\n",
    "#         print(\"Error:\", e)\n",
    "#         return None\n",
    "\n",
    "# idam_token,expires_in = generate_user_token(\"sbox\")\n",
    "\n"
   ]
  },
  {
   "cell_type": "code",
   "execution_count": 0,
   "metadata": {
    "application/vnd.databricks.v1+cell": {
     "cellMetadata": {
      "byteLimit": 2048000,
      "rowLimit": 10000
     },
     "inputWidgets": {},
     "nuid": "eb33e1d4-feb1-4f67-ac21-9ee2c67dc9db",
     "showTitle": true,
     "tableResultSettingsMap": {},
     "title": "Creating a IDAM Token Manager"
    }
   },
   "outputs": [],
   "source": [
    "from datetime import datetime, timezone, timedelta\n",
    "import threading\n",
    "import requests\n",
    "\n",
    "class IDAMTokenManager:\n",
    "  def __init__(self,env:str,skew:int=28792):\n",
    "    self.env = env\n",
    "    self._token = None\n",
    "    self._expiration_time = None\n",
    "    self._uid = None\n",
    "    self.skew = timedelta(seconds=int(skew))\n",
    "    self._lock = threading.RLock()\n",
    "\n",
    "     # ----- Environment config (host + key vault) -----\n",
    "    if env == \"sbox\":\n",
    "        self.idam_host = \"https://idam-web-public.aat.platform.hmcts.net\"\n",
    "        key_vault = \"ia-aat\"\n",
    "    elif env == \"stg\":\n",
    "        self.idam_host = \"https://idam-api.aat.platform.hmcts.net\"\n",
    "        key_vault = \"ia-aat\"\n",
    "    elif env == \"prod\":\n",
    "        # TODO: fill in production host and key vault names.\n",
    "        self.idam_host = \"\"\n",
    "        key_vault = \"\"\n",
    "    else:\n",
    "        # Fail fast if an unknown env is passed.\n",
    "        raise ValueError(f\"Unknown env: {env}\")\n",
    "\n",
    "    # ----- Secrets (fetched once per manager instance) -----\n",
    "    # Databricks utility to retrieve secrets from Key Vault. ## need to change this to use kv client\n",
    "    self.client_id = dbutils.secrets.get(key_vault, \"idam-client-id\")\n",
    "    self.client_secret = dbutils.secrets.get(key_vault, \"idam-secret\")\n",
    "    self.username = dbutils.secrets.get(key_vault, \"system-username\")\n",
    "    self.password = dbutils.secrets.get(key_vault, \"system-password\")\n",
    "\n",
    "    # OAuth2 token endpoint (password grant).\n",
    "    self.token_url = f\"{self.idam_host}/o/token\"\n",
    "    self.uid_url = f\"{self.idam_host}/o/userinfo\"\n",
    "    # Requested scopes.\n",
    "    self.scope = \"openid profile roles\"\n",
    "\n",
    "\n",
    "\n",
    "\n",
    "  def _fetch_token(self):\n",
    "    data = {\n",
    "            \"grant_type\": \"password\",\n",
    "            \"client_id\": self.client_id,\n",
    "            \"client_secret\": self.client_secret,\n",
    "            \"username\": self.username,\n",
    "            \"password\": self.password,\n",
    "            \"scope\": self.scope,\n",
    "        }\n",
    "    \n",
    "    headers = {\"Content-Type\":\"application/x-www-form-urlencoded\"}\n",
    "\n",
    "    idam_response = requests.post(self.token_url , headers=headers, data=data)\n",
    "\n",
    "    if idam_response.status_code != 200:\n",
    "      raise RuntimeError(f\"Token request failed: {idam_response.status_code} {idam_response.text}\")\n",
    "\n",
    "\n",
    "    payload = idam_response.json()\n",
    "\n",
    "    idam_token = payload.get(\"access_token\")\n",
    "    expires_in = payload.get(\"expires_in\")\n",
    "    if not idam_token or not expires_in:\n",
    "      raise RuntimeError(f\"Invalid token response: {payload}\")\n",
    "\n",
    "    now = datetime.now(timezone.utc)\n",
    "\n",
    "    expiration_time = now + timedelta(seconds=int(expires_in))\n",
    "\n",
    "    uid = self._fetch_uid(idam_token)\n",
    "\n",
    "    return idam_token,expiration_time,uid\n",
    "  \n",
    "\n",
    "  def _needs_refresh(self):\n",
    "\n",
    "    if not self._token or not self._expiration_time:\n",
    "      return True\n",
    "\n",
    "    return datetime.now(timezone.utc) >= (self._expiration_time - self.skew)\n",
    "\n",
    "\n",
    "  def get_token(self):\n",
    "    if not self._needs_refresh():\n",
    "      return self._token,self._uid\n",
    "# use locking to only allow one block to refresh and other blocks will have to wait\n",
    "    with self._lock:\n",
    "      if self._needs_refresh():\n",
    "        self._token, self._expiration_time, self._uid = self._fetch_token()\n",
    "      return self._token, self._uid\n",
    "    \n",
    "  def _fetch_uid(self,idam_token):\n",
    "    uid_headers = {\"Authorization\": f\"Bearer {idam_token}\"}\n",
    "  ## make the get request to get the uid\n",
    "    try:\n",
    "        idam_response = requests.get(self.uid_url, headers=uid_headers)\n",
    "    except Exception as e:        \n",
    "        print(f\"UID request failed: {e}\")\n",
    "  ## safley convert to json\n",
    "    try:\n",
    "      payload = idam_response.json()\n",
    "    except ValueError:\n",
    "      raise RuntimeError(f\"UID endpoint did not return valid JSON: {idam_response.text}\")\n",
    "  ## get the uid from the json\n",
    "    uid = payload.get(\"uid\")\n",
    "    if not uid:\n",
    "        raise RuntimeError(f\"UID missing in response: {payload}\")\n",
    "    return uid\n",
    "\n",
    "\n",
    "    \n",
    "  def invalidate(self):\n",
    "    with self._lock:\n",
    "      self._token = None\n",
    "      self._expiration_time = None\n",
    "      self._uid = None\n",
    "\n",
    "idam_token_mgr = IDAMTokenManager(env=\"sbox\")\n",
    "\n",
    "\n",
    "\n"
   ]
  },
  {
   "cell_type": "code",
   "execution_count": 0,
   "metadata": {
    "application/vnd.databricks.v1+cell": {
     "cellMetadata": {
      "byteLimit": 2048000,
      "rowLimit": 10000
     },
     "inputWidgets": {},
     "nuid": "7768771d-b4ce-4e90-85b3-9a07ef631cbb",
     "showTitle": false,
     "tableResultSettingsMap": {},
     "title": ""
    }
   },
   "outputs": [],
   "source": [
    "idam_token_mgr.get_token()"
   ]
  },
  {
   "cell_type": "code",
   "execution_count": 0,
   "metadata": {
    "application/vnd.databricks.v1+cell": {
     "cellMetadata": {
      "byteLimit": 2048000,
      "rowLimit": 10000
     },
     "inputWidgets": {},
     "nuid": "8f8cfd69-2479-44ce-b9e9-b88af29e5040",
     "showTitle": false,
     "tableResultSettingsMap": {},
     "title": ""
    }
   },
   "outputs": [],
   "source": [
    "!pip install azure-keyvault azure-identity"
   ]
  },
  {
   "cell_type": "code",
   "execution_count": 0,
   "metadata": {
    "application/vnd.databricks.v1+cell": {
     "cellMetadata": {
      "byteLimit": 2048000,
      "rowLimit": 10000
     },
     "inputWidgets": {},
     "nuid": "7badd7ec-8ef4-4139-ab98-693421a8ac47",
     "showTitle": false,
     "tableResultSettingsMap": {},
     "title": ""
    }
   },
   "outputs": [],
   "source": [
    "from azure.identity import DefaultAzureCredential\n",
    "from azure.keyvault.secrets import SecretClient\n",
    "\n",
    "credential = DefaultAzureCredential()\n",
    "kv_client = SecretClient(vault_url=\"https://ia-aat.vault.azure.net/\", credential=credential)\n",
    "\n"
   ]
  },
  {
   "cell_type": "code",
   "execution_count": 0,
   "metadata": {
    "application/vnd.databricks.v1+cell": {
     "cellMetadata": {
      "byteLimit": 2048000,
      "rowLimit": 10000
     },
     "inputWidgets": {},
     "nuid": "5409bd12-6d2a-4158-bd3e-3dcca9321393",
     "showTitle": false,
     "tableResultSettingsMap": {},
     "title": ""
    }
   },
   "outputs": [],
   "source": [
    "from datetime import datetime, timezone, timedelta\n",
    "import threading\n",
    "import requests\n",
    "from azure.identity import DefaultAzureCredential\n",
    "# from azure.keyvault.secrets import SecretClient\n",
    "\n",
    "class IDAMTokenManager:\n",
    "  def __init__(self,env:str,skew:int=28792):\n",
    "    self.env = env\n",
    "    self._token = None\n",
    "    self._expiration_time = None\n",
    "    self._uid = None\n",
    "    self.skew = timedelta(seconds=int(skew))\n",
    "    self._lock = threading.RLock()\n",
    "\n",
    "     # ----- Environment config (host + key vault) -----\n",
    "    if env == \"sbox\":\n",
    "        self.idam_host = \"https://idam-web-public.aat.platform.hmcts.net\"\n",
    "        key_vault = \"ia-aat\"\n",
    "    elif env == \"stg\":\n",
    "        self.idam_host = \"https://idam-api.aat.platform.hmcts.net\"\n",
    "        key_vault = \"ia-aat\"\n",
    "    elif env == \"prod\":\n",
    "        # TODO: fill in production host and key vault names.\n",
    "        self.idam_host = \"\"\n",
    "        key_vault = \"\"\n",
    "    else:\n",
    "        # Fail fast if an unknown env is passed.\n",
    "        raise ValueError(f\"Unknown env: {env}\")\n",
    "\n",
    "    # ----- Secrets (fetched once per manager instance) -----\n",
    "    # Databricks utility to retrieve secrets from Key Vault. ## need to change this to use kv client\n",
    "\n",
    "    # credentials = DefaultAzureCredential()\n",
    "    # kv_client = SecretClient(vault_url=f\"https://{key_vault}.vault.azure.net/\", credential=credential)\n",
    "    # self.client_id = kv_client.get_secret(\"idam-client-id\").value\n",
    "    # self.client_secret = kv_client.get_secret(\"idam-secret\").value\n",
    "    # self.username = kv_client.get_secret(\"system-username\").value\n",
    "    # self.password = kv_client.get_secret(\"system-password\").value\n",
    "    self.client_id = dbutils.secrets.get(key_vault, \"idam-client-id\")\n",
    "    self.client_secret = dbutils.secrets.get(key_vault, \"idam-secret\")\n",
    "    self.username = dbutils.secrets.get(key_vault, \"system-username\")\n",
    "    self.password = dbutils.secrets.get(key_vault, \"system-password\")\n",
    "\n",
    "    # OAuth2 token endpoint (password grant).\n",
    "    self.token_url = f\"{self.idam_host}/o/token\"\n",
    "    self.uid_url = f\"{self.idam_host}/o/userinfo\"\n",
    "    # Requested scopes.\n",
    "    self.scope = \"openid profile roles\"\n",
    "\n",
    "\n",
    "\n",
    "\n",
    "  def _fetch_token(self):\n",
    "    data = {\n",
    "            \"grant_type\": \"password\",\n",
    "            \"client_id\": self.client_id,\n",
    "            \"client_secret\": self.client_secret,\n",
    "            \"username\": self.username,\n",
    "            \"password\": self.password,\n",
    "            \"scope\": self.scope,\n",
    "        }\n",
    "    \n",
    "    headers = {\"Content-Type\":\"application/x-www-form-urlencoded\"}\n",
    "\n",
    "    idam_response = requests.post(self.token_url , headers=headers, data=data)\n",
    "\n",
    "    if idam_response.status_code != 200:\n",
    "      raise RuntimeError(f\"Token request failed: {idam_response.status_code} {idam_response.text}\")\n",
    "\n",
    "\n",
    "    payload = idam_response.json()\n",
    "\n",
    "    idam_token = payload.get(\"access_token\")\n",
    "    expires_in = payload.get(\"expires_in\")\n",
    "    if not idam_token or not expires_in:\n",
    "      raise RuntimeError(f\"Invalid token response: {payload}\")\n",
    "\n",
    "    now = datetime.now(timezone.utc)\n",
    "\n",
    "    expiration_time = now + timedelta(seconds=int(expires_in))\n",
    "\n",
    "    uid = self._fetch_uid(idam_token)\n",
    "\n",
    "    return idam_token,expiration_time,uid\n",
    "  \n",
    "\n",
    "  def _needs_refresh(self):\n",
    "\n",
    "    if not self._token or not self._expiration_time:\n",
    "      return True\n",
    "\n",
    "    return datetime.now(timezone.utc) >= (self._expiration_time - self.skew)\n",
    "\n",
    "\n",
    "  def get_token(self):\n",
    "    if not self._needs_refresh():\n",
    "      return self._token,self._uid\n",
    "# use locking to only allow one block to refresh and other blocks will have to wait\n",
    "    with self._lock:\n",
    "      if self._needs_refresh():\n",
    "        self._token, self._expiration_time, self._uid = self._fetch_token()\n",
    "      return self._token, self._uid\n",
    "    \n",
    "  def _fetch_uid(self,idam_token):\n",
    "    uid_headers = {\"Authorization\": f\"Bearer {idam_token}\"}\n",
    "  ## make the get request to get the uid\n",
    "    try:\n",
    "        idam_response = requests.get(self.uid_url, headers=uid_headers)\n",
    "    except Exception as e:        \n",
    "        print(f\"UID request failed: {e}\")\n",
    "  ## safley convert to json\n",
    "    try:\n",
    "      payload = idam_response.json()\n",
    "    except ValueError:\n",
    "      raise RuntimeError(f\"UID endpoint did not return valid JSON: {idam_response.text}\")\n",
    "  ## get the uid from the json\n",
    "    uid = payload.get(\"uid\")\n",
    "    if not uid:\n",
    "        raise RuntimeError(f\"UID missing in response: {payload}\")\n",
    "    return uid\n",
    "\n",
    "\n",
    "    \n",
    "  def invalidate(self):\n",
    "    with self._lock:\n",
    "      self._token = None\n",
    "      self._expiration_time = None\n",
    "      self._uid = None\n",
    "\n",
    "idam_token_mgr = IDAMTokenManager(env=\"sbox\")\n",
    "\n",
    "\n",
    "\n"
   ]
  },
  {
   "cell_type": "code",
   "execution_count": 0,
   "metadata": {
    "application/vnd.databricks.v1+cell": {
     "cellMetadata": {
      "byteLimit": 2048000,
      "rowLimit": 10000
     },
     "inputWidgets": {},
     "nuid": "1f6623dc-bd2a-4745-9a4b-559d5899fefc",
     "showTitle": false,
     "tableResultSettingsMap": {},
     "title": ""
    }
   },
   "outputs": [],
   "source": [
    "idam_token_mgr = IDAMTokenManager(env=\"sbox\")"
   ]
  },
  {
   "cell_type": "code",
   "execution_count": 0,
   "metadata": {
    "application/vnd.databricks.v1+cell": {
     "cellMetadata": {
      "byteLimit": 2048000,
      "rowLimit": 10000
     },
     "inputWidgets": {},
     "nuid": "8c903761-c099-42a5-bd6f-c36d214ce36f",
     "showTitle": false,
     "tableResultSettingsMap": {},
     "title": ""
    }
   },
   "outputs": [],
   "source": [
    "idam_token,uid = idam_token_mgr.get_token()\n",
    "print(idam_token)\n",
    "print(uid)"
   ]
  },
  {
   "cell_type": "markdown",
   "metadata": {
    "application/vnd.databricks.v1+cell": {
     "cellMetadata": {
      "byteLimit": 2048000,
      "rowLimit": 10000
     },
     "inputWidgets": {},
     "nuid": "cd5e60b5-c9a8-4b22-a995-c7b1de10453f",
     "showTitle": false,
     "tableResultSettingsMap": {},
     "title": ""
    }
   },
   "source": [
    "## Service to Service Token"
   ]
  },
  {
   "cell_type": "code",
   "execution_count": 0,
   "metadata": {
    "application/vnd.databricks.v1+cell": {
     "cellMetadata": {
      "byteLimit": 2048000,
      "rowLimit": 10000
     },
     "inputWidgets": {},
     "nuid": "6fd81f82-5014-432f-b365-bc7254a44985",
     "showTitle": false,
     "tableResultSettingsMap": {},
     "title": ""
    }
   },
   "outputs": [],
   "source": [
    "# %sh\n",
    "# nslookup rpe-service-auth-provider-aat.service.core-compute-aat.internal\n"
   ]
  },
  {
   "cell_type": "code",
   "execution_count": 0,
   "metadata": {
    "application/vnd.databricks.v1+cell": {
     "cellMetadata": {
      "byteLimit": 2048000,
      "rowLimit": 10000
     },
     "inputWidgets": {},
     "nuid": "81d072e5-0473-40f0-8544-b37cfe1fab7f",
     "showTitle": true,
     "tableResultSettingsMap": {},
     "title": "S2S Token Manager"
    }
   },
   "outputs": [],
   "source": [
    "import pyotp\n",
    "class S2S_Manager():\n",
    "    def __init__(self,env:str,skew:int=21):\n",
    "        self.env = env\n",
    "        self._s2s_token = None\n",
    "        self.expire_time = None\n",
    "        self._lock = threading.RLock()\n",
    "        self._skew = skew\n",
    "\n",
    "     # ----- Environment config (host + key vault) -----\n",
    "        if self.env ==\"sbox\":\n",
    "            self.s2s_host = \"rpe-service-auth-provider-aat.service.core-compute-aat.internal\"\n",
    "            self.s2s_ip = \"http://10.10.143.250/\"\n",
    "            key_vault = \"ia-aat\"\n",
    "        elif self.env ==\"stg\":\n",
    "            self.s2s_host = None\n",
    "            self.s2s_ip = None\n",
    "            key_vault = None\n",
    "        elif self.env ==\"prod\":\n",
    "            self.s2s_host = None\n",
    "            self.s2s_ip = None\n",
    "            key_vault = None\n",
    "\n",
    "    # ----- Secrets (fetched once per manager instance) -----\n",
    "    # Databricks utility to retrieve secrets from Key Vault. ## need to change this to use kv client\n",
    "\n",
    "        # credentials = DefaultAzureCredential()\n",
    "        # kv_client = SecretClient(vault_url=f\"https://{key_vault}.vault.azure.net/\", credential=credential)\n",
    "        # self.s2s_client_id = kv_client.get_secret(\"s2s-client-id\").value\n",
    "        self._s2s_secret = dbutils.secrets.get(key_vault, \"s2s-secret\")\n",
    "        self.url = f\"{self.s2s_ip}lease\"\n",
    "        self.s2s_microservice = \"iac\"\n",
    "\n",
    "\n",
    "    def _fetch_s2s_token(self):\n",
    "        otp = pyotp.TOTP(self._s2s_secret).now()\n",
    "        # create payload\n",
    "        s2s_payload = {\n",
    "            \"microservice\": self.s2s_microservice,\n",
    "            \"oneTimePassword\": otp\n",
    "        }    \n",
    "        # Attempt to make request to s2s endpoint\n",
    "        try:\n",
    "            now = datetime.now(timezone.utc)\n",
    "            s2s_response = requests.post(\n",
    "            self.url,\n",
    "            json=s2s_payload,\n",
    "            headers={\n",
    "                \"Host\": self.s2s_host,\n",
    "                \"Content-Type\": \"application/json\"\n",
    "            }\n",
    "    )\n",
    "        except Exception as e:\n",
    "            raise EOFError(f\"Error reuesting service to service token: {e}\")\n",
    "        ## Ensure you get a 200 response else raise an error\n",
    "        if s2s_response.status_code != 200:\n",
    "            raise RuntimeError(f\"Error requesting service to service token: {s2s_response.text}\")\n",
    "\n",
    "        ## Extract token from response\n",
    "        try:\n",
    "            payload = s2s_response.text.strip()\n",
    "            # s2s_token = payload.get(\"token\")\n",
    "        except Exception as e:\n",
    "            raise RuntimeError(f\"Error extracting service to service token: {e}\")\n",
    "        \n",
    "        self.expire_time = now + timedelta(seconds=int(self._skew))\n",
    "        self._s2s_token = payload\n",
    "\n",
    "        return payload\n",
    "\n",
    "\n",
    "    def get_token(self):\n",
    "        if self.expire_time and datetime.now(timezone.utc) < self.expire_time:\n",
    "            return self._s2s_token\n",
    "        with self._lock:\n",
    "            self._s2s_token = self._fetch_s2s_token()\n",
    "        return self._s2s_token\n",
    "\n",
    "\n",
    "\n",
    "s2s_manager = S2S_Manager(\"sbox\",21)\n",
    "\n",
    "\n",
    "    "
   ]
  },
  {
   "cell_type": "code",
   "execution_count": 0,
   "metadata": {
    "application/vnd.databricks.v1+cell": {
     "cellMetadata": {
      "byteLimit": 2048000,
      "rowLimit": 10000
     },
     "inputWidgets": {},
     "nuid": "ba36095d-6253-4056-ba0a-60c60704f871",
     "showTitle": false,
     "tableResultSettingsMap": {},
     "title": ""
    }
   },
   "outputs": [],
   "source": [
    "s2s_token = s2s_manager.get_token()\n",
    "print(s2s_token)"
   ]
  },
  {
   "cell_type": "markdown",
   "metadata": {
    "application/vnd.databricks.v1+cell": {
     "cellMetadata": {
      "byteLimit": 2048000,
      "rowLimit": 10000
     },
     "inputWidgets": {},
     "nuid": "b5deb5d1-d48e-421d-9262-27bd998ebf31",
     "showTitle": false,
     "tableResultSettingsMap": {},
     "title": ""
    }
   },
   "source": [
    "# CCD API"
   ]
  },
  {
   "cell_type": "markdown",
   "metadata": {
    "application/vnd.databricks.v1+cell": {
     "cellMetadata": {
      "byteLimit": 2048000,
      "rowLimit": 10000
     },
     "inputWidgets": {},
     "nuid": "0c4b0873-747c-4fd2-9808-0c41797ebdb8",
     "showTitle": false,
     "tableResultSettingsMap": {},
     "title": ""
    }
   },
   "source": [
    "## Start Case Creation"
   ]
  },
  {
   "cell_type": "code",
   "execution_count": 0,
   "metadata": {
    "application/vnd.databricks.v1+cell": {
     "cellMetadata": {
      "byteLimit": 2048000,
      "rowLimit": 10000
     },
     "inputWidgets": {},
     "nuid": "0c3315df-5591-47fb-a99e-98d77591f975",
     "showTitle": true,
     "tableResultSettingsMap": {},
     "title": "start_case funciton"
    }
   },
   "outputs": [],
   "source": [
    "def start_case_creation(ccd_base_url,uid,jid,ctid,etid,idam_token,s2s_token):\n",
    "\n",
    "\n",
    "    start_case_endpoint = f\"/caseworkers/{uid}/jurisdictions/{jid}/case-types/{ctid}/event-triggers/{etid}/token\"\n",
    "\n",
    "    start_case_creation_url = f\"{ccd_base_url}{start_case_endpoint}\"\n",
    "\n",
    "    headers = {\n",
    "    \"Authorization\": f\"Bearer {idam_token}\",        # IDAM user JWT\n",
    "    \"ServiceAuthorization\": f\"Bearer {s2s_token}\",  # service-to-service JWT\n",
    "    \"Accept\": \"application/json\"\n",
    "    }\n",
    "    try:\n",
    "        response = requests.get(start_case_creation_url,headers=headers)\n",
    "        return response\n",
    "    except Exception as e:\n",
    "        print(f\"❌ Network error while calling {start_case_creation_url}: {e}\")\n",
    "        return None\n",
    "\n",
    "\n",
    "\n",
    "\n"
   ]
  },
  {
   "cell_type": "code",
   "execution_count": 0,
   "metadata": {
    "application/vnd.databricks.v1+cell": {
     "cellMetadata": {
      "byteLimit": 2048000,
      "rowLimit": 10000
     },
     "inputWidgets": {},
     "nuid": "ded7ac8d-2613-4528-bf7e-29583b1cf1c9",
     "showTitle": true,
     "tableResultSettingsMap": {},
     "title": "experiment: **DELETE**"
    }
   },
   "outputs": [],
   "source": [
    "jid = \"IA\"\n",
    "ctid = \"Asylum\"\n",
    "etid = \"ariaCreateCase\"\n",
    "env = \"sbox\"\n",
    "caseNo = \"1234567890123456\"\n",
    "\n",
    "if env == \"sbox\":\n",
    "    ccd_base_url = f\"https://ccd-data-store-api-ia-case-api-pr-{2750}.preview.platform.hmcts.net\"\n",
    "elif env == \"stg\":\n",
    "    ccd_base_url = None\n",
    "elif env == \"prod\":\n",
    "    ccd_base_url = None\n",
    "else:\n",
    "    raise ValueError(\"Invalid environment\")\n",
    "\n",
    "\n",
    "start_response = start_case_creation(ccd_base_url,uid,jid,ctid,etid,idam_token,s2s_token)\n",
    "\n",
    "if start_response.status_code == 200 :\n",
    "    event_token = start_response.json()[\"token\"]\n",
    "else:\n",
    "    result = {\n",
    "        \"caseNo\": caseNo,\n",
    "        \"status\": start_response.status_code,\n",
    "        \"message\": \"Case creation failed\",\n",
    "        \"time\": datetime.now(timezone.utc).isoformat()\n",
    "        }\n",
    "    \n",
    "result"
   ]
  },
  {
   "cell_type": "code",
   "execution_count": 0,
   "metadata": {
    "application/vnd.databricks.v1+cell": {
     "cellMetadata": {
      "byteLimit": 2048000,
      "rowLimit": 10000
     },
     "inputWidgets": {},
     "nuid": "2fce3525-8df8-413e-8d2e-8dd0f72fbefd",
     "showTitle": true,
     "tableResultSettingsMap": {},
     "title": "validate_case function"
    }
   },
   "outputs": [],
   "source": [
    "def validate_case(event_token, payload_data,jid,ctid,idam_token,uid,s2s_token):\n",
    "\n",
    "    validate_case_endpoint = f\"/caseworkers/{uid}/jurisdictions/{jid}/case-types/{ctid}/validate\"\n",
    "\n",
    "    validate_case_url = ccd_base_url + validate_case_endpoint\n",
    "\n",
    "    headers = {\n",
    "    \"Authorization\": f\"Bearer {idam_token}\",        # IDAM user JWT\n",
    "    \"ServiceAuthorization\": f\"Bearer {s2s_token}\",  # service-to-service JWT\n",
    "    \"Accept\": \"application/json\"\n",
    "    }\n",
    "\n",
    "\n",
    "    json_data = json.dumps({\n",
    "    \"data\": payload_data,\n",
    "    \"event\": {\"id\":\"ariaCreateCase\"},\n",
    "    \"event_token\": event_token, \n",
    "    \"ignore_warning\": True\n",
    "    })\n",
    "\n",
    "    try:\n",
    "        response = requests.post(validate_case_url,headers=headers,body=json_data)\n",
    "        return response\n",
    "    except Exception as e:\n",
    "        print(f\"❌ Network error while calling {validate_case_url}: {e}\")\n",
    "        return None\n",
    "\n"
   ]
  },
  {
   "cell_type": "code",
   "execution_count": 0,
   "metadata": {
    "application/vnd.databricks.v1+cell": {
     "cellMetadata": {
      "byteLimit": 2048000,
      "rowLimit": 10000
     },
     "inputWidgets": {},
     "nuid": "8fff0aa1-8461-4076-8b20-b01fb0ca512d",
     "showTitle": true,
     "tableResultSettingsMap": {},
     "title": "submit_case function"
    }
   },
   "outputs": [],
   "source": [
    "def submit_case(event_token, payload_data,jid,ctid,idam_token,uid,s2s_token):\n",
    "\n",
    "    submit_case_endpoint = f\"/caseworkers/{uid}/jurisdictions/{jid}/case-types/{ctid}/cases\" \n",
    "\n",
    "    headers = {\n",
    "    \"Authorization\": f\"Bearer {idam_token}\",        # IDAM user JWT\n",
    "    \"ServiceAuthorization\": f\"Bearer {s2s_token}\",  # service-to-service JWT\n",
    "    \"Accept\": \"application/json\"\n",
    "    }\n",
    "\n",
    "    json_data = json.dumps({\n",
    "    \"data\": payload_data,\n",
    "    \"event\": {\"id\":\"ariaCreateCase\"},\n",
    "    \"event_token\": event_token, \n",
    "    \"ignore_warning\": True\n",
    "    })\n",
    "\n",
    "    submit_case_url = ccd_base_url + submit_case_endpoint \n",
    "    try:\n",
    "        response = requests.post(submit_case_url,headers=headers,body=json_data)\n",
    "        return response\n",
    "    except Exception as e:\n",
    "        print(f\"❌ Network error while calling {submit_case_url}: {e}\")\n",
    "        return None\n",
    "\n",
    "\n",
    "\n"
   ]
  },
  {
   "cell_type": "code",
   "execution_count": 0,
   "metadata": {
    "application/vnd.databricks.v1+cell": {
     "cellMetadata": {},
     "inputWidgets": {},
     "nuid": "82d64e29-1c4a-4261-adde-f1e6ab91a203",
     "showTitle": false,
     "tableResultSettingsMap": {},
     "title": ""
    }
   },
   "outputs": [],
   "source": []
  },
  {
   "cell_type": "code",
   "execution_count": 0,
   "metadata": {
    "application/vnd.databricks.v1+cell": {
     "cellMetadata": {
      "byteLimit": 2048000,
      "rowLimit": 10000
     },
     "inputWidgets": {},
     "nuid": "f39d1371-d571-4f1a-a37e-92790ae8d768",
     "showTitle": true,
     "tableResultSettingsMap": {},
     "title": "result eventhub funciton"
    }
   },
   "outputs": [],
   "source": [
    "from azure.eventhub import EventHubProducerClient\n",
    "producer = EventHubProducerClient.from_connection_string(conn_str=connection_str, eventhub_name=eventhub_name)\n",
    "def submit_json_to_eventhub(producer, result):\n",
    "    \n",
    "    try:\n",
    "        event_data_batch = producer.create_batch()\n",
    "        event_data_batch.add(EventData(json.dumps(result)))\n",
    "        producer.send_batch(event_data_batch)\n",
    "    finally:\n",
    "        producer.close()"
   ]
  },
  {
   "cell_type": "code",
   "execution_count": 0,
   "metadata": {
    "application/vnd.databricks.v1+cell": {
     "cellMetadata": {
      "byteLimit": 2048000,
      "rowLimit": 10000
     },
     "inputWidgets": {},
     "nuid": "3b9ec1fb-8c25-4990-b7b5-4347d70bab86",
     "showTitle": true,
     "tableResultSettingsMap": {},
     "title": "pre-req to run process function"
    }
   },
   "outputs": [],
   "source": [
    "idam_token_mgr = IDAMTokenManager(env=\"sbox\")\n",
    "idam_token,uid = idam_token_mgr.get_token()\n",
    "s2s_manager = S2S_Manager(\"sbox\",21)\n",
    "s2s_token = s2s_manager.get_token()"
   ]
  },
  {
   "cell_type": "code",
   "execution_count": 0,
   "metadata": {
    "application/vnd.databricks.v1+cell": {
     "cellMetadata": {
      "byteLimit": 2048000,
      "rowLimit": 10000
     },
     "inputWidgets": {},
     "nuid": "c3bae6a3-ba61-4a6b-8819-46c738f3d4df",
     "showTitle": true,
     "tableResultSettingsMap": {},
     "title": "process case function"
    }
   },
   "outputs": [],
   "source": [
    "### caseNo = event.key, payload_data = event.value\n",
    "\n",
    "def process_case(env,caseNo,payload_data,idam_token,uid,s2s_token,PR_NUMBER=2750):\n",
    "\n",
    "    jid = \"IA\"\n",
    "    ctid = \"Asylum\"\n",
    "    etid = \"ariaCreateCase\"\n",
    "\n",
    "    urls = {\n",
    "        \"sbox\":f\"https://ccd-data-store-api-ia-case-api-pr-{PR_NUMBER}.preview.platform.hmcts.net\",\n",
    "        \"stg\":None,\n",
    "        \"prod\":None\n",
    "    }\n",
    "\n",
    "    try:\n",
    "        ccd_base_url = urls[env]\n",
    "    except KeyError:\n",
    "        raise ValueError(\"Invalid environment\")\n",
    "\n",
    "    # if env == \"sbox\":\n",
    "    #     ccd_base_url = f\"https://ccd-data-store-api-ia-case-api-pr-{PR_NUMBER}.preview.platform.hmcts.net\"\n",
    "    # elif env == \"stg\":\n",
    "    #     ccd_base_url = None\n",
    "    # elif env == \"prod\":\n",
    "    #     ccd_base_url = None\n",
    "    # else:\n",
    "    #     raise ValueError(\"Invalid environment\")\n",
    "\n",
    "    ## start case creation\n",
    "\n",
    "    start_response = start_case_creation(ccd_base_url,uid,jid,ctid,etid,idam_token,s2s_token)\n",
    "\n",
    "    if start_response is None or start_response.status_code != 200 :\n",
    "\n",
    "        status_code = start_response.status_code if start_response else \"N/A\"\n",
    "        text = start_response.text if start_response else \"No response from API\"\n",
    "\n",
    "        print(f\"Case creation failed: {status_code} - {text}\")\n",
    "\n",
    "        result = {\n",
    "        \"runID\": \"get run id from event body\",\n",
    "        \"caseNo\": caseNo,\n",
    "        \"state\": \"Add state from event body\",\n",
    "        \"status\": \"ERROR\",\n",
    "        \"error\": f\"Case creation failed: {status_code} - {text}\",\n",
    "        \"end_date_time\": datetime.now(timezone.utc).isoformat()\n",
    "        }\n",
    "        return result\n",
    "    else:\n",
    "\n",
    "        event_token = start_response.json()[\"token\"]\n",
    "\n",
    "    # validate case\n",
    "\n",
    "    validate_case_response = validate_case(event_token, payload_data)\n",
    "\n",
    "    if validate_case_response is None or validate_case_response.status_code != 201:\n",
    "        \n",
    "\n",
    "        status_code = validate_case_response.status_code if validate_case_response else \"N/A\"\n",
    "        text = validate_case_response.text if validate_case_response else \"No response from API\"\n",
    "\n",
    "        print(f\"Case validation failed: {status_code} - {text}\")\n",
    "\n",
    "        result = {\n",
    "            \"runID\": \"get run id from event body\",\n",
    "            \"caseNo\": caseNo,\n",
    "            \"state\": \"Add state from event body\",\n",
    "            \"status\": \"EEROR\", ### change this to the validate response code\n",
    "            \"error\": f\"Case validation failed: {status_code} - {text}\",\n",
    "            \"end_date_time\": datetime.now(timezone.utc).isoformat()\n",
    "        }\n",
    "        return result\n",
    "\n",
    "    else:\n",
    "        print(f\"Validation passed for case {caseNo}\")\n",
    "\n",
    "    ## submit case\n",
    "    submit_case_response = submit_case(event_token, payload_data)\n",
    "    if submit_case_response is None or submit_case_response.status_code != 201:\n",
    "\n",
    "        status_code = submit_case_response.status_code if submit_case_response else \"N/A\"\n",
    "        text = submit_case_response.text if submit_case_response else \"No response from API\"\n",
    "\n",
    "        print(f\"Case submission failed: {status_code} - {text}\")\n",
    "\n",
    "        result = {\n",
    "            \"caseNo\": caseNo,\n",
    "            \"state\": \"Add state from event body\",\n",
    "            \"status\": \"ERROR\",\n",
    "            \"error\": f\"Case submission failed: {status_code} - {text}\",\n",
    "            \"end_date_time\": datetime.now(timezone.utc).isoformat()\n",
    "        }\n",
    "        return result\n",
    "\n",
    "    else:\n",
    "        result = {\n",
    "            \"runID\": \"get run id from event body\",\n",
    "            \"caseNo\": caseNo,\n",
    "            \"state\": \"Add state from event body\",\n",
    "            \"status\": \"Success\",\n",
    "            \"error\": None,\n",
    "            \"end_date_time\": datetime.now(timezone.utc).isoformat(),\n",
    "            \"ccd_case_id\": submit_case_response.json()[\"id\"]\n",
    "        }\n",
    "        return result\n",
    "\n",
    "\n",
    "\n",
    "\n",
    "\n",
    "\n",
    "\n",
    "\n"
   ]
  },
  {
   "cell_type": "code",
   "execution_count": 0,
   "metadata": {
    "application/vnd.databricks.v1+cell": {
     "cellMetadata": {},
     "inputWidgets": {},
     "nuid": "d6ef54a8-b86b-4462-8392-5de2fa960068",
     "showTitle": false,
     "tableResultSettingsMap": {},
     "title": ""
    }
   },
   "outputs": [],
   "source": []
  },
  {
   "cell_type": "markdown",
   "metadata": {
    "application/vnd.databricks.v1+cell": {
     "cellMetadata": {},
     "inputWidgets": {},
     "nuid": "fefd5052-357a-45a9-861b-c837bfac4605",
     "showTitle": false,
     "tableResultSettingsMap": {},
     "title": ""
    }
   },
   "source": [
    "## Creating a dummy payload"
   ]
  },
  {
   "cell_type": "markdown",
   "metadata": {
    "application/vnd.databricks.v1+cell": {
     "cellMetadata": {},
     "inputWidgets": {},
     "nuid": "48058ce9-2fd8-44dc-a6c0-8381fc7352a2",
     "showTitle": false,
     "tableResultSettingsMap": {},
     "title": ""
    }
   },
   "source": [
    "This section is to test the functions and classes above to process a dummy payload"
   ]
  },
  {
   "cell_type": "code",
   "execution_count": 0,
   "metadata": {
    "application/vnd.databricks.v1+cell": {
     "cellMetadata": {
      "byteLimit": 2048000,
      "rowLimit": 10000
     },
     "inputWidgets": {},
     "nuid": "5a2a9544-63de-46de-9984-4b3e22799ee0",
     "showTitle": false,
     "tableResultSettingsMap": {},
     "title": ""
    }
   },
   "outputs": [],
   "source": [
    "payload_data = \"\"\"\n",
    "{\n",
    "  \"email\": \"example@test.com\",\n",
    "  \"isEjp\": \"No\",\n",
    "  \"feeCode\": \"FEE0238\",\n",
    "  \"isAdmin\": \"Yes\",\n",
    "  \"paidDate\": \"2024-08-05\",\n",
    "  \"appealType\": \"refusalOfHumanRights\",\n",
    "  \"feeVersion\": \"2\",\n",
    "  \"paidAmount\": \"14000\",\n",
    "  \"s94bStatus\": \"No\",\n",
    "  \"paymentDate\": \"5 Aug 2024\",\n",
    "  \"feeAmountGbp\": \"14000\",\n",
    "  \"isIntegrated\": \"No\",\n",
    "  \"appellantInUk\": \"Yes\",\n",
    "  \"hearingCentre\": \"taylorHouse\",\n",
    "  \"isNabaEnabled\": \"No\",\n",
    "  \"paymentStatus\": \"Paid\",\n",
    "  \"staffLocation\": \"Taylor House\",\n",
    "  \"SearchCriteria\": {\n",
    "    \"SearchParties\": [\n",
    "      {\n",
    "        \"id\": \"ec889f66-0475-4633-8d69-b31b80d76e5a\",\n",
    "        \"value\": {\n",
    "          \"Name\": \"GivenName Migration 3 FamilyName appealSubmitted\",\n",
    "          \"PostCode\": \"SE10 0XX\",\n",
    "          \"DateOfBirth\": \"2000-01-01\",\n",
    "          \"AddressLine1\": \"Flat 101\",\n",
    "          \"EmailAddress\": \"example@test.com\"\n",
    "        }\n",
    "      }\n",
    "    ],\n",
    "    \"OtherCaseReferences\": [\n",
    "      {\n",
    "        \"id\": \"65e7cf55-21c9-4d5b-af62-afd13222a8eb\",\n",
    "        \"value\": \"HU/50009/2024\"\n",
    "      }\n",
    "    ]\n",
    "  },\n",
    "  \"feeDescription\": \"Appeal determined with a hearing\",\n",
    "  \"feeWithHearing\": \"140\",\n",
    "  \"searchPostcode\": \"SE10 0XX\",\n",
    "  \"hasOtherAppeals\": \"No\",\n",
    "  \"adminDeclaration1\": [\n",
    "    \"hasDeclared\"\n",
    "  ],\n",
    "  \"appellantAddress\": {\n",
    "    \"County\": \"\",\n",
    "    \"Country\": \"United Kingdom\",\n",
    "    \"PostCode\": \"SE10 0XX\",\n",
    "    \"PostTown\": \"London\",\n",
    "    \"AddressLine1\": \"Flat 101\",\n",
    "    \"AddressLine2\": \"10 Cutter Lane\",\n",
    "    \"AddressLine3\": \"\"\n",
    "  },\n",
    "  \"appellantPartyId\": \"45889c92-2cf4-4dae-ae9a-f64aa051d525\",\n",
    "  \"ariaDesiredState\": \"appealSubmitted\",\n",
    "  \"isAppellantMinor\": \"No\",\n",
    "  \"isNabaAdaEnabled\": \"No\",\n",
    "  \"isNabaEnabledOoc\": \"No\",\n",
    "  \"hearingTypeResult\": \"No\",\n",
    "  \"hmctsCaseCategory\": \"Human rights\",\n",
    "  \"notificationsSent\": [],\n",
    "  \"tribunalDocuments\": [],\n",
    "  \"appealOutOfCountry\": \"No\",\n",
    "  \"appellantStateless\": \"hasNationality\",\n",
    "  \"legalRepFamilyName\": \"\",\n",
    "  \"paymentDescription\": \"Appeal determined with a hearing\",\n",
    "  \"appellantFamilyName\": \"FamilyName appealSubmitted\",\n",
    "  \"appellantGivenNames\": \"GivenName Migration 3\",\n",
    "  \"isFeePaymentEnabled\": \"Yes\",\n",
    "  \"isRemissionsEnabled\": \"Yes\",\n",
    "  \"submissionOutOfTime\": \"No\",\n",
    "  \"appealSubmissionDate\": \"2024-08-07\",\n",
    "  \"appellantDateOfBirth\": \"2000-01-01\",\n",
    "  \"feePaymentAppealType\": \"Yes\",\n",
    "  \"letterSentOrReceived\": \"Sent\",\n",
    "  \"localAuthorityPolicy\": {\n",
    "    \"Organisation\": {},\n",
    "    \"OrgPolicyCaseAssignedRole\": \"[LEGALREPRESENTATIVE]\"\n",
    "  },\n",
    "  \"tribunalReceivedDate\": \"2024-08-05\",\n",
    "  \"additionalPaymentInfo\": \"Additional paid information\",\n",
    "  \"appealReferenceNumber\": \"HU/50009/2024\",\n",
    "  \"caseNameHmctsInternal\": \"GivenName Migration 3 FamilyName appealSubmitted\",\n",
    "  \"hmctsCaseNameInternal\": \"GivenName Migration 3 FamilyName appealSubmitted\",\n",
    "  \"isOutOfCountryEnabled\": \"Yes\",\n",
    "  \"appellantNationalities\": [\n",
    "    {\n",
    "      \"id\": \"520cd556-39b3-4729-9093-a07513f4b03e\",\n",
    "      \"value\": {\n",
    "        \"code\": \"GB\"\n",
    "      }\n",
    "    }\n",
    "  ],\n",
    "  \"caseManagementCategory\": {\n",
    "    \"value\": {\n",
    "      \"code\": \"refusalOfHumanRights\",\n",
    "      \"label\": \"Refusal of a human rights claim\"\n",
    "    },\n",
    "    \"list_items\": [\n",
    "      {\n",
    "        \"code\": \"refusalOfHumanRights\",\n",
    "        \"label\": \"Refusal of a human rights claim\"\n",
    "      }\n",
    "    ]\n",
    "  },\n",
    "  \"caseManagementLocation\": {\n",
    "    \"region\": \"1\",\n",
    "    \"baseLocation\": \"765324\"\n",
    "  },\n",
    "  \"homeOfficeDecisionDate\": \"2024-08-05\",\n",
    "  \"internalAppellantEmail\": \"example@test.com\",\n",
    "  \"appealGroundsForDisplay\": [],\n",
    "  \"appellantsRepresentation\": \"Yes\",\n",
    "  \"appellantNameForDisplay\": \"GivenName Migration 3 FamilyName appealSubmitted\",\n",
    "  \"deportationOrderOptions\": \"No\",\n",
    "  \"uploadTheAppealFormDocs\": [],\n",
    "  \"appellantHasFixedAddress\": \"Yes\",\n",
    "  \"decisionHearingFeeOption\": \"decisionWithHearing\",\n",
    "  \"hasServiceRequestAlready\": \"No\",\n",
    "  \"homeOfficeReferenceNumber\": \"012345678\",\n",
    "  \"isDlrmFeeRemissionEnabled\": \"Yes\",\n",
    "  \"legalRepIndividualPartyId\": \"f7159136-7bff-40fb-921a-c8a53633afc8\",\n",
    "  \"legalRepOrganisationPartyId\": \"71c50709-b802-42c7-ac56-2ef03e6e14e7\",\n",
    "  \"appealSubmissionInternalDate\": \"2024-08-07\",\n",
    "  \"ccdReferenceNumberForDisplay\": \"1723 0197 9804 1350\",\n",
    "  \"legalRepresentativeDocuments\": [],\n",
    "  \"sendDirectionActionAvailable\": \"Yes\",\n",
    "  \"uploadTheNoticeOfDecisionDocs\": [],\n",
    "  \"automaticEndAppealTimedEventId\": \"fd614594-6b6b-4116-8568-f0d80298486e\",\n",
    "  \"currentCaseStateVisibleToJudge\": \"appealSubmitted\",\n",
    "  \"currentCaseStateVisibleToCaseOfficer\": \"appealSubmitted\",\n",
    "  \"changeDirectionDueDateActionAvailable\": \"No\",\n",
    "  \"currentCaseStateVisibleToAdminOfficer\": \"appealSubmitted\",\n",
    "  \"markEvidenceAsReviewedActionAvailable\": \"No\",\n",
    "  \"uploadAddendumEvidenceActionAvailable\": \"No\",\n",
    "  \"currentCaseStateVisibleToHomeOfficeAll\": \"appealSubmitted\",\n",
    "  \"currentCaseStateVisibleToHomeOfficeApc\": \"appealSubmitted\",\n",
    "  \"currentCaseStateVisibleToHomeOfficePou\": \"appealSubmitted\",\n",
    "  \"currentCaseStateVisibleToHomeOfficeLart\": \"appealSubmitted\",\n",
    "  \"uploadAdditionalEvidenceActionAvailable\": \"No\",\n",
    "  \"applicationChangeDesignatedHearingCentre\": \"taylorHouse\",\n",
    "  \"currentCaseStateVisibleToHomeOfficeGeneric\": \"appealSubmitted\",\n",
    "  \"haveHearingAttendeesAndDurationBeenRecorded\": \"No\",\n",
    "  \"currentCaseStateVisibleToLegalRepresentative\": \"appealSubmitted\",\n",
    "  \"markAddendumEvidenceAsReviewedActionAvailable\": \"No\",\n",
    "  \"uploadAddendumEvidenceLegalRepActionAvailable\": \"No\",\n",
    "  \"isServiceRequestTabVisibleConsideringRemissions\": \"Yes\",\n",
    "  \"uploadAddendumEvidenceHomeOfficeActionAvailable\": \"No\",\n",
    "  \"uploadAddendumEvidenceAdminOfficerActionAvailable\": \"No\",\n",
    "  \"uploadAdditionalEvidenceHomeOfficeActionAvailable\": \"No\",\n",
    "  \"remissionType\": \"hoWaiverRemission\",\n",
    "  \"ariaMigrationTaskDueDays\": \"2\"\n",
    "} \"\"\""
   ]
  },
  {
   "cell_type": "code",
   "execution_count": 0,
   "metadata": {
    "application/vnd.databricks.v1+cell": {
     "cellMetadata": {
      "byteLimit": 2048000,
      "rowLimit": 10000
     },
     "inputWidgets": {},
     "nuid": "57b29b9c-3f46-424a-baff-88c1ba517c36",
     "showTitle": false,
     "tableResultSettingsMap": {},
     "title": ""
    }
   },
   "outputs": [],
   "source": [
    "import json\n",
    "caseNo = \"ABC/123\"\n",
    "\n",
    "# payload_data = json.dumps({\n",
    "#   \"data\": payload_data,\n",
    "#   \"event\": {\"id\":\"ariaCreateCase\"},\n",
    "#   \"event_token\": event_token, \n",
    "#   \"ignore_warning\": True\n",
    "# })\n",
    "\n",
    "results = process_case(env=\"sbox\",caseNo=caseNo,payload_data=payload_data,idam_token=idam_token,uid=uid,s2s_token=s2s_token)"
   ]
  },
  {
   "cell_type": "code",
   "execution_count": 0,
   "metadata": {
    "application/vnd.databricks.v1+cell": {
     "cellMetadata": {
      "byteLimit": 2048000,
      "rowLimit": 10000
     },
     "inputWidgets": {},
     "nuid": "901523c4-f653-4d3a-8842-21057bf19da9",
     "showTitle": false,
     "tableResultSettingsMap": {},
     "title": ""
    }
   },
   "outputs": [],
   "source": [
    "print(results)"
   ]
  },
  {
   "cell_type": "code",
   "execution_count": 0,
   "metadata": {
    "application/vnd.databricks.v1+cell": {
     "cellMetadata": {},
     "inputWidgets": {},
     "nuid": "5f02c3aa-6e86-4976-9697-53da497880fa",
     "showTitle": false,
     "tableResultSettingsMap": {},
     "title": ""
    }
   },
   "outputs": [],
   "source": []
  }
 ],
 "metadata": {
  "application/vnd.databricks.v1+notebook": {
   "computePreferences": null,
   "dashboards": [],
   "environmentMetadata": {
    "base_environment": "",
    "environment_version": "2"
   },
   "inputWidgetPreferences": null,
   "language": "python",
   "notebookMetadata": {
    "mostRecentlyExecutedCommandWithImplicitDF": {
     "commandId": 8734891718069976,
     "dataframes": [
      "_sqldf"
     ]
    },
    "pythonIndentUnit": 4
   },
   "notebookName": "CCD connection code",
   "widgets": {}
  },
  "language_info": {
   "name": "python"
  }
 },
 "nbformat": 4,
 "nbformat_minor": 0
}
