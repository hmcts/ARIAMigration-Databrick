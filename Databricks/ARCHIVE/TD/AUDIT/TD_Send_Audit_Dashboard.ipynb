{
 "cells": [
  {
   "cell_type": "markdown",
   "metadata": {
    "application/vnd.databricks.v1+cell": {
     "cellMetadata": {},
     "inputWidgets": {},
     "nuid": "a1834749-c284-4803-95a8-2fd47e26089e",
     "showTitle": false,
     "tableResultSettingsMap": {},
     "title": ""
    }
   },
   "source": [
    "***TD ACKNOWLEDGE AUDIT DATA***"
   ]
  },
  {
   "cell_type": "code",
   "execution_count": 0,
   "metadata": {
    "application/vnd.databricks.v1+cell": {
     "cellMetadata": {
      "byteLimit": 2048000,
      "rowLimit": 10000
     },
     "inputWidgets": {},
     "nuid": "2420573e-9007-4c10-a42a-714979c15172",
     "showTitle": false,
     "tableResultSettingsMap": {},
     "title": ""
    }
   },
   "outputs": [],
   "source": [
    "df_joh_ack_audit_data = spark.read.format(\"delta\").load(\"abfss://silver@ingest00curatedsbox.dfs.core.windows.net/ARIADM/ARM/AUDIT/TD/td_ack_audit/\")\n",
    "df_joh_ack_audit_data.createOrReplaceTempView(\"td_acknowledge_audit_data\")"
   ]
  },
  {
   "cell_type": "code",
   "execution_count": 0,
   "metadata": {
    "application/vnd.databricks.v1+cell": {
     "cellMetadata": {
      "byteLimit": 2048000,
      "implicitDf": true,
      "rowLimit": 10000
     },
     "inputWidgets": {},
     "nuid": "3639e285-4e4e-4ebe-81f6-cbd348f419d3",
     "showTitle": false,
     "tableResultSettingsMap": {},
     "title": ""
    }
   },
   "outputs": [
    {
     "data": {
      "text/plain": [
       "Databricks visualization. Run in Databricks to view."
      ]
     },
     "metadata": {
      "application/vnd.databricks.v1.subcommand+json": {
       "baseErrorDetails": null,
       "bindings": {},
       "collapsed": false,
       "command": "%sql \nSELECT DATE_FORMAT(timestamp, 'ddMMMyyyy') as date,\n       COUNT(filename) as count_filename,\n       COUNT(CASE WHEN http_response = 201  and http_message = 'Created' THEN 1 END) as count_successful_response,\n       COUNT(CASE WHEN http_response <> 201 and http_message <> 'Created' THEN 1 END) as count_unsuccessful_response\nFROM bail_acknowledge_audit_data\nGROUP BY DATE_FORMAT(timestamp, 'ddMMMyyyy')\n\n--%sql SELECT * FROM bail_acknowledge_audit_data",
       "commandTitle": "Visualization 2",
       "commandType": "auto",
       "commandVersion": 0,
       "commentThread": [],
       "commentsVisible": false,
       "contentSha256Hex": null,
       "customPlotOptions": {
        "redashChart": [
         {
          "key": "type",
          "value": "DETAILS"
         },
         {
          "key": "options",
          "value": {
           "columns": [
            {
             "name": "date",
             "title": "date",
             "type": "string"
            },
            {
             "name": "count_filename",
             "title": "count_filename",
             "type": "integer"
            },
            {
             "name": "count_successful_response",
             "title": "count_successful_response",
             "type": "integer"
            },
            {
             "name": "count_unsuccessful_response",
             "title": "count_unsuccessful_response",
             "type": "integer"
            }
           ],
           "version": 1
          }
         }
        ]
       },
       "datasetPreviewNameToCmdIdMap": {},
       "diffDeletes": [],
       "diffInserts": [],
       "displayType": "redashChart",
       "error": null,
       "errorDetails": null,
       "errorSummary": null,
       "errorTraceType": null,
       "finishTime": 0,
       "globalVars": {},
       "guid": "",
       "height": "auto",
       "hideCommandCode": false,
       "hideCommandResult": false,
       "iPythonMetadata": null,
       "inputWidgets": {},
       "isLockedInExamMode": false,
       "latestUser": "a user",
       "latestUserId": null,
       "listResultMetadata": null,
       "metadata": {},
       "nuid": "2e25a564-a5c0-4652-9852-f920fe99732e",
       "origId": 0,
       "parentHierarchy": [],
       "pivotAggregation": null,
       "pivotColumns": null,
       "position": 4,
       "resultDbfsErrorMessage": null,
       "resultDbfsStatus": "INLINED_IN_TREE",
       "results": null,
       "showCommandTitle": false,
       "startTime": 0,
       "state": "input",
       "streamStates": {},
       "subcommandOptions": {},
       "submitTime": 0,
       "subtype": "tableResultSubCmd.visualization",
       "tableResultIndex": 0,
       "tableResultSettingsMap": {},
       "useConsistentColors": false,
       "version": "CommandV1",
       "width": "auto",
       "workflows": null,
       "xColumns": null,
       "yColumns": null
      }
     },
     "output_type": "display_data"
    }
   ],
   "source": [
    "%sql \n",
    "SELECT DATE_FORMAT(timestamp, 'ddMMMyyyy') as date,\n",
    "       COUNT(filename) as total_expected_count,\n",
    "       COUNT(CASE WHEN http_response = 201  and http_message = 'Created' THEN 1 END) as count_successful_response,\n",
    "       COUNT(CASE WHEN http_response <> 201 and http_message <> 'Created' THEN 1 END) as count_unsuccessful_response\n",
    "       \n",
    "FROM td_acknowledge_audit_data\n",
    "GROUP BY DATE_FORMAT(timestamp, 'ddMMMyyyy')"
   ]
  },
  {
   "cell_type": "markdown",
   "metadata": {
    "application/vnd.databricks.v1+cell": {
     "cellMetadata": {},
     "inputWidgets": {},
     "nuid": "6d64e126-76a7-4085-970a-e0f74c9b7b68",
     "showTitle": false,
     "tableResultSettingsMap": {},
     "title": ""
    }
   },
   "source": [
    "***TD CREATE AUDIT DATA***"
   ]
  },
  {
   "cell_type": "code",
   "execution_count": 0,
   "metadata": {
    "application/vnd.databricks.v1+cell": {
     "cellMetadata": {
      "byteLimit": 2048000,
      "implicitDf": true,
      "rowLimit": 10000
     },
     "inputWidgets": {},
     "nuid": "82a934eb-ceed-4df2-8f43-7ec0aac871d1",
     "showTitle": false,
     "tableResultSettingsMap": {},
     "title": ""
    }
   },
   "outputs": [],
   "source": [
    "df_joh_created_audit_data = spark.read.format(\"delta\").load(\"abfss://silver@ingest00curatedsbox.dfs.core.windows.net/ARIADM/ARM/AUDIT/TD/td_cr_audit_table/\")\n",
    "\n",
    "df_joh_created_audit_data.createOrReplaceTempView(\"td_created_audit_data\")"
   ]
  },
  {
   "cell_type": "code",
   "execution_count": 0,
   "metadata": {
    "application/vnd.databricks.v1+cell": {
     "cellMetadata": {
      "byteLimit": 2048000,
      "implicitDf": true,
      "rowLimit": 10000
     },
     "inputWidgets": {},
     "nuid": "ecc6f676-3f42-4d54-ae41-826d756dcbfc",
     "showTitle": false,
     "tableResultSettingsMap": {},
     "title": ""
    }
   },
   "outputs": [],
   "source": [
    "%sql\n",
    "\n",
    "SELECT * FROM td_created_audit_data\n"
   ]
  },
  {
   "cell_type": "markdown",
   "metadata": {
    "application/vnd.databricks.v1+cell": {
     "cellMetadata": {},
     "inputWidgets": {},
     "nuid": "d764986f-2a47-41bd-bd0f-efce222649bc",
     "showTitle": false,
     "tableResultSettingsMap": {},
     "title": ""
    }
   },
   "source": [
    "\n",
    "***Eventhub AUDIT DATA***"
   ]
  },
  {
   "cell_type": "code",
   "execution_count": 0,
   "metadata": {
    "application/vnd.databricks.v1+cell": {
     "cellMetadata": {
      "byteLimit": 2048000,
      "rowLimit": 10000
     },
     "inputWidgets": {},
     "nuid": "076ad9b9-1d25-4212-ab9f-edf668ab022d",
     "showTitle": false,
     "tableResultSettingsMap": {},
     "title": ""
    }
   },
   "outputs": [],
   "source": [
    "df_publish_audit_db_eh_audit_data = spark.read.format(\"delta\").load(\"abfss://silver@ingest00curatedsbox.dfs.core.windows.net/ARIADM/ARM/AUDIT/TD/td_pub_audit_db_eh/\")\n",
    "df_publish_audit_db_eh_audit_data.createOrReplaceTempView(\"td_publish_audit_db_eh_data\")"
   ]
  },
  {
   "cell_type": "code",
   "execution_count": 0,
   "metadata": {
    "application/vnd.databricks.v1+cell": {
     "cellMetadata": {
      "byteLimit": 2048000,
      "implicitDf": true,
      "rowLimit": 10000
     },
     "inputWidgets": {},
     "nuid": "3e603cd9-9284-4cdd-8bb0-2a3951dc5f42",
     "showTitle": false,
     "tableResultSettingsMap": {},
     "title": ""
    }
   },
   "outputs": [
    {
     "data": {
      "text/plain": [
       "Databricks visualization. Run in Databricks to view."
      ]
     },
     "metadata": {
      "application/vnd.databricks.v1.subcommand+json": {
       "baseErrorDetails": null,
       "bindings": {},
       "collapsed": false,
       "command": "%sql \n\nSELECT \n        COUNT(CASE WHEN status = 'success' THEN 1 END) AS actual_count_of_successful_response,\n        COUNT(CASE WHEN status <> 'success' THEN 1 END) AS actual_count_of_unsuccessful_response\n\nFROM td_publish_audit_db_eh_data",
       "commandTitle": "Visualization 1",
       "commandType": "auto",
       "commandVersion": 0,
       "commentThread": [],
       "commentsVisible": false,
       "contentSha256Hex": null,
       "customPlotOptions": {
        "redashChart": [
         {
          "key": "type",
          "value": "DETAILS"
         },
         {
          "key": "options",
          "value": {
           "columns": [
            {
             "name": "actual_count_of_successful_response",
             "title": "actual_count_of_successful_response",
             "type": "integer"
            },
            {
             "name": "actual_count_of_unsuccessful_response",
             "title": "actual_count_of_unsuccessful_response",
             "type": "integer"
            }
           ],
           "version": 1
          }
         }
        ]
       },
       "datasetPreviewNameToCmdIdMap": {},
       "diffDeletes": [],
       "diffInserts": [],
       "displayType": "redashChart",
       "error": null,
       "errorDetails": null,
       "errorSummary": null,
       "errorTraceType": null,
       "finishTime": 0,
       "globalVars": {},
       "guid": "",
       "height": "auto",
       "hideCommandCode": false,
       "hideCommandResult": false,
       "iPythonMetadata": null,
       "inputWidgets": {},
       "isLockedInExamMode": false,
       "latestUser": "a user",
       "latestUserId": null,
       "listResultMetadata": null,
       "metadata": {},
       "nuid": "65bfe594-2b55-4308-b4d2-a94c565f5a10",
       "origId": 0,
       "parentHierarchy": [],
       "pivotAggregation": null,
       "pivotColumns": null,
       "position": 10,
       "resultDbfsErrorMessage": null,
       "resultDbfsStatus": "INLINED_IN_TREE",
       "results": null,
       "showCommandTitle": false,
       "startTime": 0,
       "state": "input",
       "streamStates": {},
       "subcommandOptions": {},
       "submitTime": 0,
       "subtype": "tableResultSubCmd.visualization",
       "tableResultIndex": 0,
       "tableResultSettingsMap": {},
       "useConsistentColors": false,
       "version": "CommandV1",
       "width": "auto",
       "workflows": null,
       "xColumns": null,
       "yColumns": null
      }
     },
     "output_type": "display_data"
    }
   ],
   "source": [
    "%sql \n",
    "\n",
    "SELECT \n",
    "        COUNT(CASE WHEN status = 'success' THEN 1 END) AS count_successful_response,\n",
    "        COUNT(CASE WHEN status <> 'success' THEN 1 END) AS count_unsuccessful_response\n",
    "\n",
    "FROM td_publish_audit_db_eh_data"
   ]
  }
 ],
 "metadata": {
  "application/vnd.databricks.v1+notebook": {
   "computePreferences": null,
   "dashboards": [
    {
     "elements": [
      {
       "dashboardResultIndex": null,
       "elementNUID": "65bfe594-2b55-4308-b4d2-a94c565f5a10",
       "elementType": "command",
       "guid": "34643db0-53b9-4d87-adfb-7efd9c5305c9",
       "options": {
        "autoScaleImg": false,
        "scale": 0,
        "showTitle": true,
        "title": "TD EventHub Audit Data",
        "titleAlign": "center"
       },
       "position": {
        "height": 4,
        "width": 24,
        "x": 0,
        "y": 0,
        "z": null
       },
       "resultIndex": null
      },
      {
       "dashboardResultIndex": 0,
       "elementNUID": "ecc6f676-3f42-4d54-ae41-826d756dcbfc",
       "elementType": "command",
       "guid": "414cbfc4-da03-4951-9717-f07aad28f890",
       "options": {
        "autoScaleImg": false,
        "scale": 0,
        "showTitle": true,
        "title": "TD Create Audit Data",
        "titleAlign": "center"
       },
       "position": {
        "height": 8,
        "width": 24,
        "x": 0,
        "y": 9,
        "z": null
       },
       "resultIndex": null
      },
      {
       "dashboardResultIndex": null,
       "elementNUID": "2e25a564-a5c0-4652-9852-f920fe99732e",
       "elementType": "command",
       "guid": "73b7d710-82f9-48e6-9a50-8f911d52954f",
       "options": {
        "autoScaleImg": false,
        "scale": 0,
        "showTitle": true,
        "title": "TD Audit Acknowledge Audit Data",
        "titleAlign": "center"
       },
       "position": {
        "height": 5,
        "width": 24,
        "x": 0,
        "y": 4,
        "z": null
       },
       "resultIndex": null
      }
     ],
     "globalVars": {},
     "guid": "",
     "layoutOption": {
      "grid": true,
      "stack": true
     },
     "nuid": "3a28d7e3-185e-4471-854f-e70490451a21",
     "origId": 2752775492439419,
     "title": "JOH Send Audit Dashboard",
     "version": "DashboardViewV1",
     "width": 1024
    }
   ],
   "environmentMetadata": {
    "base_environment": "",
    "environment_version": "2"
   },
   "inputWidgetPreferences": null,
   "language": "python",
   "notebookMetadata": {
    "mostRecentlyExecutedCommandWithImplicitDF": {
     "commandId": 2752775492439415,
     "dataframes": [
      "_sqldf"
     ]
    },
    "pythonIndentUnit": 4
   },
   "notebookName": "TD_Send_Audit_Dashboard",
   "widgets": {}
  },
  "language_info": {
   "name": "python"
  }
 },
 "nbformat": 4,
 "nbformat_minor": 0
}
