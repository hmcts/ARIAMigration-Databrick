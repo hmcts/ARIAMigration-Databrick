{
 "cells": [
  {
   "cell_type": "markdown",
   "metadata": {
    "application/vnd.databricks.v1+cell": {
     "cellMetadata": {},
     "inputWidgets": {},
     "nuid": "5a31f79b-a1c8-43f0-b2d9-dcf31bec81e5",
     "showTitle": false,
     "tableResultSettingsMap": {},
     "title": ""
    }
   },
   "source": [
    "***CREATE RECORD AUDIT DATA***"
   ]
  },
  {
   "cell_type": "code",
   "execution_count": 0,
   "metadata": {
    "application/vnd.databricks.v1+cell": {
     "cellMetadata": {},
     "inputWidgets": {},
     "nuid": "8b6a8ed6-f4c9-4e67-80e6-2092a0b2cacb",
     "showTitle": false,
     "tableResultSettingsMap": {},
     "title": ""
    }
   },
   "outputs": [],
   "source": [
    "config = spark.read.option(\"multiline\", \"true\").json(\"dbfs:/configs/config.json\")\n",
    "env = config.first()[\"env\"].strip().lower()\n",
    "lz_key = config.first()[\"lz_key\"].strip().lower()\n",
    "\n",
    "keyvault_name = f\"ingest{lz_key}-meta002-{env}\"\n",
    "\n",
    "# Access the Service Principle secrets from keyvaults\n",
    "client_secret = dbutils.secrets.get(scope=keyvault_name, key='SERVICE-PRINCIPLE-CLIENT-SECRET')\n",
    "tenant_id = dbutils.secrets.get(scope=keyvault_name, key='SERVICE-PRINCIPLE-TENANT-ID')\n",
    "client_id = dbutils.secrets.get(scope=keyvault_name, key='SERVICE-PRINCIPLE-CLIENT-ID')\n",
    "\n",
    "storage_accounts = [\"curated\"]"
   ]
  },
  {
   "cell_type": "code",
   "execution_count": 0,
   "metadata": {
    "application/vnd.databricks.v1+cell": {
     "cellMetadata": {},
     "inputWidgets": {},
     "nuid": "6dd22af7-73c6-48f3-b541-834ee0ff82c7",
     "showTitle": false,
     "tableResultSettingsMap": {},
     "title": ""
    }
   },
   "outputs": [],
   "source": [
    "for storage_account in storage_accounts:\n",
    "    spark.conf.set(\n",
    "        f'fs.azure.account.auth.type.ingest{lz_key}{storage_account}{env}.dfs.core.windows.net', 'OAuth')\n",
    "    spark.conf.set(\n",
    "        f'fs.azure.account.oauth.provider.type.ingest{lz_key}{storage_account}{env}.dfs.core.windows.net', 'org.apache.hadoop.fs.azurebfs.oauth2.ClientCredsTokenProvider')\n",
    "    spark.conf.set(\n",
    "        f'fs.azure.account.oauth2.client.id.ingest{lz_key}{storage_account}{env}.dfs.core.windows.net', client_id)\n",
    "    spark.conf.set(\n",
    "        f'fs.azure.account.oauth2.client.secret.ingest{lz_key}{storage_account}{env}.dfs.core.windows.net', client_secret)\n",
    "    spark.conf.set(\n",
    "        f'fs.azure.account.oauth2.client.endpoint.ingest{lz_key}{storage_account}{env}.dfs.core.windows.net', f'https://login.microsoftonline.com/{tenant_id}/oauth2/token')"
   ]
  },
  {
   "cell_type": "code",
   "execution_count": 0,
   "metadata": {
    "application/vnd.databricks.v1+cell": {
     "cellMetadata": {},
     "inputWidgets": {},
     "nuid": "2ec76168-c2a8-4c9b-9be9-c7406ce51046",
     "showTitle": false,
     "tableResultSettingsMap": {},
     "title": ""
    }
   },
   "outputs": [],
   "source": [
    "ARM_segment = \"FPADEV\" if env == \"sbox\" else \"FPA\"\n",
    "ARIA_segment = \"APLFPA\""
   ]
  },
  {
   "cell_type": "code",
   "execution_count": 0,
   "metadata": {
    "application/vnd.databricks.v1+cell": {
     "cellMetadata": {},
     "inputWidgets": {},
     "nuid": "8411ef5a-560c-4ce7-b118-7a55500f7505",
     "showTitle": false,
     "tableResultSettingsMap": {},
     "title": ""
    }
   },
   "outputs": [],
   "source": [
    "curated_storage_account = f\"ingest{lz_key}curated{env}\"\n",
    "silver_container = \"silver\""
   ]
  },
  {
   "cell_type": "code",
   "execution_count": 0,
   "metadata": {
    "application/vnd.databricks.v1+cell": {
     "cellMetadata": {},
     "inputWidgets": {},
     "nuid": "ceffd596-ba71-42f0-a74d-dec55d936251",
     "showTitle": false,
     "tableResultSettingsMap": {},
     "title": ""
    }
   },
   "outputs": [],
   "source": [
    "df_create_record_data = spark.read.format(\"delta\").load(f\"abfss://{silver_container}@{curated_storage_account}.dfs.core.windows.net/ARIADM/ARM/response/{ARIA_segment}/create_record/\")\n",
    "df_create_record_data.createOrReplaceTempView(\"fpa_create_record\")"
   ]
  },
  {
   "cell_type": "code",
   "execution_count": 0,
   "metadata": {
    "application/vnd.databricks.v1+cell": {
     "cellMetadata": {
      "byteLimit": 2048000,
      "implicitDf": true,
      "rowLimit": 10000
     },
     "inputWidgets": {},
     "nuid": "da358175-64ef-421a-882e-26f73b3060a4",
     "showTitle": false,
     "tableResultSettingsMap": {},
     "title": ""
    }
   },
   "outputs": [
    {
     "output_type": "display_data",
     "data": {
      "text/plain": [
       "Databricks visualization. Run in Databricks to view."
      ]
     },
     "metadata": {
      "application/vnd.databricks.v1.subcommand+json": {
       "baseErrorDetails": null,
       "bindings": {},
       "collapsed": false,
       "command": "%sql WITH q AS (SELECT  DATE_FORMAT(Process_time, 'ddMMMyyyy') as date,\n        operation,\n        COUNT(*) as total_expected_count,\n        COUNT(CASE WHEN status = 1 THEN 1 END) as count_successful_response,\n        COUNT(CASE WHEN status = 0 THEN 1 END) as count_unsuccessful_response,\n        COUNT(CASE WHEN status IS NULL THEN 1 END) as count_status_null\n\nFROM td_create_record\n\nGROUP BY DATE_FORMAT(Process_time, 'ddMMMyyyy'), operation) SELECT `operation`,SUM(`total_expected_count`) `column_54d456a7148`,SUM(`count_successful_response`) `column_54d456a7151`,SUM(`count_unsuccessful_response`) `column_54d456a7154`,`date` FROM q GROUP BY `date`,`operation`",
       "commandTitle": "Visualization 1",
       "commandType": "auto",
       "commandVersion": 0,
       "commentThread": [],
       "commentsVisible": false,
       "contentSha256Hex": null,
       "customPlotOptions": {
        "redashChart": [
         {
          "key": "type",
          "value": "CHART"
         },
         {
          "key": "options",
          "value": {
           "alignYAxesAtZero": true,
           "coefficient": 1,
           "columnConfigurationMap": {
            "series": {
             "column": "date",
             "id": "column_54d456a7156"
            },
            "x": {
             "column": "operation",
             "id": "column_54d456a7146"
            },
            "y": [
             {
              "column": "total_expected_count",
              "id": "column_54d456a7148",
              "transform": "SUM"
             },
             {
              "column": "count_successful_response",
              "id": "column_54d456a7151",
              "transform": "SUM"
             },
             {
              "column": "count_unsuccessful_response",
              "id": "column_54d456a7154",
              "transform": "SUM"
             }
            ]
           },
           "dateTimeFormat": "DD/MM/YYYY HH:mm",
           "direction": {
            "type": "counterclockwise"
           },
           "error_y": {
            "type": "data",
            "visible": true
           },
           "globalSeriesType": "column",
           "hideYAxes": false,
           "isAggregationOn": true,
           "legend": {
            "traceorder": "normal"
           },
           "missingValuesAsZero": true,
           "numberFormat": "0,0.[00000]",
           "percentFormat": "0[.]00%",
           "series": {
            "error_y": {
             "type": "data",
             "visible": true
            },
            "stacking": null
           },
           "seriesOptions": {
            "01May2025, SUM(count_successful_response)": {
             "color": "#00A972",
             "name": "Sum Successful Response"
            },
            "01May2025, SUM(count_unsuccessful_response)": {
             "color": "#FF3621",
             "name": "Sum Unsuccessful Response"
            },
            "01May2025, SUM(total_expected_count)": {
             "color": "#077A9D",
             "name": "Sum Total Expected Rows"
            },
            "30Apr2025, SUM(count_successful_response)": {
             "color": "#00A972",
             "name": "Sum Successful Response"
            },
            "30Apr2025, SUM(count_unsuccessful_response)": {
             "name": "Sum Unsuccessful Response"
            },
            "30Apr2025, SUM(total_expected_count)": {
             "color": "#077A9D",
             "name": "Sum Total Expected Rows"
            },
            "column_54d456a7148": {
             "type": "column",
             "yAxis": 0
            },
            "column_54d456a7151": {
             "type": "column",
             "yAxis": 0
            },
            "column_54d456a7154": {
             "type": "column",
             "yAxis": 0
            }
           },
           "showDataLabels": true,
           "sizemode": "diameter",
           "sortX": true,
           "sortY": true,
           "swappedAxes": false,
           "textFormat": "",
           "useAggregationsUi": true,
           "valuesOptions": {},
           "version": 2,
           "xAxis": {
            "labels": {
             "enabled": false
            },
            "type": "-"
           },
           "yAxis": [
            {
             "title": {
              "text": "Sum of operation values"
             },
             "type": "-"
            },
            {
             "opposite": true,
             "type": "-"
            }
           ]
          }
         }
        ]
       },
       "datasetPreviewNameToCmdIdMap": {},
       "diffDeletes": [],
       "diffInserts": [],
       "displayType": "redashChart",
       "error": null,
       "errorDetails": null,
       "errorSummary": null,
       "errorTraceType": null,
       "finishTime": 0,
       "globalVars": {},
       "guid": "",
       "height": "auto",
       "hideCommandCode": false,
       "hideCommandResult": false,
       "iPythonMetadata": null,
       "inputWidgets": {},
       "isLockedInExamMode": false,
       "latestUser": "a user",
       "latestUserId": null,
       "listResultMetadata": null,
       "metadata": {},
       "nuid": "5efdbd6c-cb75-4000-a265-c4336ef740f3",
       "origId": 0,
       "parentHierarchy": [],
       "pivotAggregation": null,
       "pivotColumns": null,
       "position": 4.0,
       "resultDbfsErrorMessage": null,
       "resultDbfsStatus": "INLINED_IN_TREE",
       "results": null,
       "showCommandTitle": false,
       "startTime": 0,
       "state": "input",
       "streamStates": {},
       "subcommandOptions": {
        "queryPlan": {
         "groups": [
          {
           "column": "date",
           "type": "column"
          },
          {
           "column": "operation",
           "type": "column"
          }
         ],
         "selects": [
          {
           "column": "date",
           "type": "column"
          },
          {
           "column": "operation",
           "type": "column"
          },
          {
           "alias": "column_54d456a7148",
           "args": [
            {
             "column": "total_expected_count",
             "type": "column"
            }
           ],
           "function": "SUM",
           "type": "function"
          },
          {
           "alias": "column_54d456a7151",
           "args": [
            {
             "column": "count_successful_response",
             "type": "column"
            }
           ],
           "function": "SUM",
           "type": "function"
          },
          {
           "alias": "column_54d456a7154",
           "args": [
            {
             "column": "count_unsuccessful_response",
             "type": "column"
            }
           ],
           "function": "SUM",
           "type": "function"
          }
         ]
        }
       },
       "submitTime": 0,
       "subtype": "tableResultSubCmd.visualization",
       "tableResultIndex": 0,
       "tableResultSettingsMap": {},
       "useConsistentColors": false,
       "version": "CommandV1",
       "width": "auto",
       "workflows": null,
       "xColumns": null,
       "yColumns": null
      }
     },
     "output_type": "display_data"
    }
   ],
   "source": [
    "%sql\n",
    "\n",
    "SELECT  DATE_FORMAT(Process_time, 'ddMMMyyyy') as date,\n",
    "        operation,\n",
    "        COUNT(*) as total_expected_count,\n",
    "        COUNT(CASE WHEN status = 1 THEN 1 END) as count_successful_response,\n",
    "        COUNT(CASE WHEN status = 0 THEN 1 END) as count_unsuccessful_response,\n",
    "        COUNT(CASE WHEN status IS NULL THEN 1 END) as count_status_null\n",
    "\n",
    "FROM fpa_create_record\n",
    "\n",
    "GROUP BY DATE_FORMAT(Process_time, 'ddMMMyyyy'), operation"
   ]
  },
  {
   "cell_type": "markdown",
   "metadata": {
    "application/vnd.databricks.v1+cell": {
     "cellMetadata": {},
     "inputWidgets": {},
     "nuid": "bbcdaf19-0092-49f0-b199-6099506ce81a",
     "showTitle": false,
     "tableResultSettingsMap": {},
     "title": ""
    }
   },
   "source": [
    "***INPUT UPLOAD AUDIT DATA***"
   ]
  },
  {
   "cell_type": "code",
   "execution_count": 0,
   "metadata": {
    "application/vnd.databricks.v1+cell": {
     "cellMetadata": {
      "byteLimit": 2048000,
      "rowLimit": 10000
     },
     "inputWidgets": {},
     "nuid": "927351ad-2345-49ec-b5b5-23f4fdd8136c",
     "showTitle": false,
     "tableResultSettingsMap": {},
     "title": ""
    }
   },
   "outputs": [],
   "source": [
    "df_input_upload_data = spark.read.format(\"delta\").load(f\"abfss://{silver_container}@{curated_storage_account}.dfs.core.windows.net/ARIADM/ARM/response/{ARIA_segment}/input_upload/\")\n",
    "df_input_upload_data.createOrReplaceTempView(\"fpa_input_upload\")"
   ]
  },
  {
   "cell_type": "code",
   "execution_count": 0,
   "metadata": {
    "application/vnd.databricks.v1+cell": {
     "cellMetadata": {
      "byteLimit": 2048000,
      "implicitDf": true,
      "rowLimit": 10000
     },
     "inputWidgets": {},
     "nuid": "e4888916-3515-4de3-9ff9-a55dc8d93a81",
     "showTitle": false,
     "tableResultSettingsMap": {},
     "title": ""
    }
   },
   "outputs": [
    {
     "output_type": "display_data",
     "data": {
      "text/plain": [
       "Databricks visualization. Run in Databricks to view."
      ]
     },
     "metadata": {
      "application/vnd.databricks.v1.subcommand+json": {
       "baseErrorDetails": null,
       "bindings": {},
       "collapsed": false,
       "command": "%sql\n\nSELECT  DATE_FORMAT(timestamp, 'ddMMMyyyy') as date,\n        operation,\n        COUNT(*) as total_expected_count,\n        COUNT(CASE WHEN status = 1 THEN 1 END) as actual_count_status_1,\n        COUNT(CASE WHEN status = 0 THEN 1 END) as actual_count_status_0,\n        COUNT(CASE WHEN status IS NULL THEN 1 END) as count_status_null\n\nFROM joh_input_upload\n\nGROUP BY DATE_FORMAT(timestamp, 'ddMMMyyyy'), operation",
       "commandTitle": "Visualization 1",
       "commandType": "auto",
       "commandVersion": 0,
       "commentThread": [],
       "commentsVisible": false,
       "contentSha256Hex": null,
       "customPlotOptions": {
        "redashChart": [
         {
          "key": "type",
          "value": "DETAILS"
         },
         {
          "key": "options",
          "value": {
           "columns": [
            {
             "name": "date",
             "title": "date",
             "type": "string"
            },
            {
             "name": "operation",
             "title": "operation",
             "type": "string"
            },
            {
             "name": "total_expected_count",
             "title": "total_expected_count",
             "type": "integer"
            },
            {
             "name": "actual_count_status_1",
             "title": "actual_count_status_1",
             "type": "integer"
            },
            {
             "name": "actual_count_status_0",
             "title": "actual_count_status_0",
             "type": "integer"
            },
            {
             "name": "count_status_null",
             "title": "count_status_null",
             "type": "integer"
            }
           ],
           "version": 1
          }
         }
        ]
       },
       "datasetPreviewNameToCmdIdMap": {},
       "diffDeletes": [],
       "diffInserts": [],
       "displayType": "redashChart",
       "error": null,
       "errorDetails": null,
       "errorSummary": null,
       "errorTraceType": null,
       "finishTime": 0,
       "globalVars": {},
       "guid": "",
       "height": "auto",
       "hideCommandCode": false,
       "hideCommandResult": false,
       "iPythonMetadata": null,
       "inputWidgets": {},
       "isLockedInExamMode": false,
       "latestUser": "a user",
       "latestUserId": null,
       "listResultMetadata": null,
       "metadata": {},
       "nuid": "5ee5380e-8e92-4038-9254-45c90e5d6c73",
       "origId": 0,
       "parentHierarchy": [],
       "pivotAggregation": null,
       "pivotColumns": null,
       "position": 7.0,
       "resultDbfsErrorMessage": null,
       "resultDbfsStatus": "INLINED_IN_TREE",
       "results": null,
       "showCommandTitle": false,
       "startTime": 0,
       "state": "input",
       "streamStates": {},
       "subcommandOptions": {},
       "submitTime": 0,
       "subtype": "tableResultSubCmd.visualization",
       "tableResultIndex": 0,
       "tableResultSettingsMap": {},
       "useConsistentColors": false,
       "version": "CommandV1",
       "width": "auto",
       "workflows": null,
       "xColumns": null,
       "yColumns": null
      }
     },
     "output_type": "display_data"
    }
   ],
   "source": [
    "%sql\n",
    "\n",
    "SELECT  DATE_FORMAT(timestamp, 'ddMMMyyyy') as date,\n",
    "        operation,\n",
    "        COUNT(*) as total_expected_count,\n",
    "        COUNT(CASE WHEN status = 1 THEN 1 END) as count_successful_response,\n",
    "        COUNT(CASE WHEN status = 0 THEN 1 END) as count_unsuccessful_response,\n",
    "        COUNT(CASE WHEN status IS NULL THEN 1 END) as count_status_null\n",
    "\n",
    "FROM fpa_input_upload\n",
    "\n",
    "GROUP BY DATE_FORMAT(timestamp, 'ddMMMyyyy'), operation"
   ]
  },
  {
   "cell_type": "markdown",
   "metadata": {
    "application/vnd.databricks.v1+cell": {
     "cellMetadata": {},
     "inputWidgets": {},
     "nuid": "4f4ac63d-207c-4b57-9cc6-695d7cdbe2be",
     "showTitle": false,
     "tableResultSettingsMap": {},
     "title": ""
    }
   },
   "source": [
    "***UPLOAD FILE***"
   ]
  },
  {
   "cell_type": "code",
   "execution_count": 0,
   "metadata": {
    "application/vnd.databricks.v1+cell": {
     "cellMetadata": {
      "byteLimit": 2048000,
      "rowLimit": 10000
     },
     "inputWidgets": {},
     "nuid": "fd150939-5dc4-499d-aac9-d1cf261216b0",
     "showTitle": false,
     "tableResultSettingsMap": {},
     "title": ""
    }
   },
   "outputs": [],
   "source": [
    "df_upload_file_data = spark.read.format(\"delta\").load(f\"abfss://{silver_container}@{curated_storage_account}.dfs.core.windows.net/ARIADM/ARM/response/{ARIA_segment}/upload_file/\")\n",
    "df_upload_file_data.createOrReplaceTempView(\"fpa_upload_file\")"
   ]
  },
  {
   "cell_type": "code",
   "execution_count": 0,
   "metadata": {
    "application/vnd.databricks.v1+cell": {
     "cellMetadata": {
      "byteLimit": 2048000,
      "implicitDf": true,
      "rowLimit": 10000
     },
     "inputWidgets": {},
     "nuid": "d45f8d35-b4f2-412e-9654-454bb6eebf73",
     "showTitle": false,
     "tableResultSettingsMap": {},
     "title": ""
    }
   },
   "outputs": [
    {
     "output_type": "display_data",
     "data": {
      "text/plain": [
       "Databricks visualization. Run in Databricks to view."
      ]
     },
     "metadata": {
      "application/vnd.databricks.v1.subcommand+json": {
       "baseErrorDetails": null,
       "bindings": {},
       "collapsed": false,
       "command": "%sql WITH q AS (SELECT  DATE_FORMAT(process_time, 'ddMMMyyyy') as date,\n        operation,\n        COUNT(*) as total_expected_count,\n        SUM(CASE WHEN status = 1 THEN 1 END) as count_successful_response,\n        SUM(CASE WHEN status = 0 THEN 1 END) as count_unsuccessful_response,\n        SUM(CASE WHEN status IS NULL THEN 1 END) as count_status_null\n\nFROM td_upload_file\n\nGROUP BY DATE_FORMAT(process_time, 'ddMMMyyyy'), operation) SELECT `operation`,SUM(`count_successful_response`) `column_411560c852`,SUM(`count_unsuccessful_response`) `column_411560c855`,SUM(`total_expected_count`) `column_411560c858`,`date` FROM q GROUP BY `date`,`operation`",
       "commandTitle": "Visualization 1",
       "commandType": "auto",
       "commandVersion": 0,
       "commentThread": [],
       "commentsVisible": false,
       "contentSha256Hex": null,
       "customPlotOptions": {
        "redashChart": [
         {
          "key": "type",
          "value": "CHART"
         },
         {
          "key": "options",
          "value": {
           "alignYAxesAtZero": true,
           "coefficient": 1,
           "columnConfigurationMap": {
            "series": {
             "column": "date",
             "id": "column_411560c863"
            },
            "x": {
             "column": "operation",
             "id": "column_411560c850"
            },
            "y": [
             {
              "column": "count_successful_response",
              "id": "column_411560c852",
              "transform": "SUM"
             },
             {
              "column": "count_unsuccessful_response",
              "id": "column_411560c855",
              "transform": "SUM"
             },
             {
              "column": "total_expected_count",
              "id": "column_411560c858",
              "transform": "SUM"
             }
            ]
           },
           "dateTimeFormat": "DD/MM/YYYY HH:mm",
           "direction": {
            "type": "counterclockwise"
           },
           "error_y": {
            "type": "data",
            "visible": true
           },
           "globalSeriesType": "column",
           "isAggregationOn": true,
           "legend": {
            "traceorder": "normal"
           },
           "missingValuesAsZero": true,
           "numberFormat": "0,0.[00000]",
           "percentFormat": "0[.]00%",
           "series": {
            "error_y": {
             "type": "data",
             "visible": true
            },
            "stacking": null
           },
           "seriesOptions": {
            "01May2025, SUM(count_successful_response)": {
             "color": "#00A972",
             "name": "Sum Successful Response"
            },
            "01May2025, SUM(count_unsuccessful_response)": {
             "color": "#FF3621",
             "name": "Sum Unsuccessful Response"
            },
            "01May2025, SUM(total_expected_count)": {
             "color": "#077A9D",
             "name": "Sum Total Expected Rows"
            },
            "30Apr2025, SUM(count_successful_response)": {
             "name": "Sum Successful Response"
            },
            "30Apr2025, SUM(count_unsuccessful_response)": {
             "name": "Sum Unsuccessful Response"
            },
            "30Apr2025, SUM(total_expected_count)": {
             "name": "Sum Total Expected Rows"
            },
            "column_411560c852": {
             "color": "#00A972",
             "name": "Sum Successful Response",
             "type": "column",
             "yAxis": 0
            },
            "column_411560c855": {
             "name": "Sum Unsuccessful Response",
             "type": "column",
             "yAxis": 0
            },
            "column_411560c858": {
             "color": "#077A9D",
             "name": "Sum Total Expected Rows",
             "type": "column",
             "yAxis": 0
            }
           },
           "showDataLabels": true,
           "sizemode": "diameter",
           "sortX": false,
           "sortY": true,
           "swappedAxes": true,
           "textFormat": "",
           "useAggregationsUi": true,
           "valuesOptions": {},
           "version": 2,
           "xAxis": {
            "labels": {
             "enabled": false
            },
            "type": "-"
           },
           "yAxis": [
            {
             "title": {
              "text": "Sum of operation values"
             },
             "type": "-"
            },
            {
             "opposite": true,
             "type": "-"
            }
           ]
          }
         }
        ]
       },
       "datasetPreviewNameToCmdIdMap": {},
       "diffDeletes": [],
       "diffInserts": [],
       "displayType": "redashChart",
       "error": null,
       "errorDetails": null,
       "errorSummary": null,
       "errorTraceType": null,
       "finishTime": 0,
       "globalVars": {},
       "guid": "",
       "height": "auto",
       "hideCommandCode": false,
       "hideCommandResult": false,
       "iPythonMetadata": null,
       "inputWidgets": {},
       "isLockedInExamMode": false,
       "latestUser": "a user",
       "latestUserId": null,
       "listResultMetadata": null,
       "metadata": {},
       "nuid": "56ab0db0-343a-477c-90cd-3d23447c70e2",
       "origId": 0,
       "parentHierarchy": [],
       "pivotAggregation": null,
       "pivotColumns": null,
       "position": 10.0,
       "resultDbfsErrorMessage": null,
       "resultDbfsStatus": "INLINED_IN_TREE",
       "results": null,
       "showCommandTitle": false,
       "startTime": 0,
       "state": "input",
       "streamStates": {},
       "subcommandOptions": {
        "queryPlan": {
         "groups": [
          {
           "column": "date",
           "type": "column"
          },
          {
           "column": "operation",
           "type": "column"
          }
         ],
         "selects": [
          {
           "column": "date",
           "type": "column"
          },
          {
           "column": "operation",
           "type": "column"
          },
          {
           "alias": "column_411560c852",
           "args": [
            {
             "column": "count_successful_response",
             "type": "column"
            }
           ],
           "function": "SUM",
           "type": "function"
          },
          {
           "alias": "column_411560c855",
           "args": [
            {
             "column": "count_unsuccessful_response",
             "type": "column"
            }
           ],
           "function": "SUM",
           "type": "function"
          },
          {
           "alias": "column_411560c858",
           "args": [
            {
             "column": "total_expected_count",
             "type": "column"
            }
           ],
           "function": "SUM",
           "type": "function"
          }
         ]
        }
       },
       "submitTime": 0,
       "subtype": "tableResultSubCmd.visualization",
       "tableResultIndex": 0,
       "tableResultSettingsMap": {},
       "useConsistentColors": false,
       "version": "CommandV1",
       "width": "auto",
       "workflows": null,
       "xColumns": null,
       "yColumns": null
      }
     },
     "output_type": "display_data"
    }
   ],
   "source": [
    "%sql\n",
    "\n",
    "SELECT  DATE_FORMAT(process_time, 'ddMMMyyyy') as date,\n",
    "        operation,\n",
    "        COUNT(*) as total_expected_count,\n",
    "        SUM(CASE WHEN status = 1 THEN 1 END) as count_successful_response,\n",
    "        SUM(CASE WHEN status = 0 THEN 1 END) as count_unsuccessful_response,\n",
    "        SUM(CASE WHEN status IS NULL THEN 1 END) as count_status_null\n",
    "\n",
    "FROM fpa_upload_file\n",
    "\n",
    "GROUP BY DATE_FORMAT(process_time, 'ddMMMyyyy'), operation"
   ]
  },
  {
   "cell_type": "markdown",
   "metadata": {
    "application/vnd.databricks.v1+cell": {
     "cellMetadata": {},
     "inputWidgets": {},
     "nuid": "285b9a92-489e-404b-9215-c49c18837f75",
     "showTitle": false,
     "tableResultSettingsMap": {},
     "title": ""
    }
   },
   "source": [
    "***AMALGAMATED AUDIT DATA***"
   ]
  },
  {
   "cell_type": "code",
   "execution_count": 0,
   "metadata": {
    "application/vnd.databricks.v1+cell": {
     "cellMetadata": {
      "byteLimit": 2048000,
      "rowLimit": 10000
     },
     "inputWidgets": {},
     "nuid": "ba58c9f9-8c40-420d-8f9f-7c11d9631bf6",
     "showTitle": false,
     "tableResultSettingsMap": {},
     "title": ""
    }
   },
   "outputs": [],
   "source": [
    "df_amalgamated_response_data = spark.read.format(\"delta\").load(f\"abfss://{silver_container}@{curated_storage_account}.dfs.core.windows.net/ARIADM/ARM/response/{ARIA_segment}/amalgamated_responses/\")\n",
    "df_amalgamated_response_data.createOrReplaceTempView(\"fpa_amalgamated_response_data\")"
   ]
  },
  {
   "cell_type": "code",
   "execution_count": 0,
   "metadata": {
    "application/vnd.databricks.v1+cell": {
     "cellMetadata": {
      "byteLimit": 2048000,
      "implicitDf": true,
      "rowLimit": 10000
     },
     "inputWidgets": {},
     "nuid": "a1bc1c28-26b4-41ba-be29-1fdd1edc6de6",
     "showTitle": false,
     "tableResultSettingsMap": {},
     "title": ""
    }
   },
   "outputs": [],
   "source": [
    "%sql \n",
    "\n",
    "SELECT \n",
    "        DATE_FORMAT(process_time, 'ddMMMyyyy') as date,\n",
    "        operation,\n",
    "        COUNT(CASE WHEN operation = 'create_record' THEN 1 END) AS count_of_create_record,\n",
    "        COUNT(CASE WHEN operation = 'upload_new_file' THEN 1 END) AS count_of_upload_new_file,\n",
    "        COUNT(CASE WHEN operation = 'input_upload' THEN 1 END) AS count_of_input_upload,\n",
    "        COUNT(CASE WHEN status = 1 THEN 1 END) AS count_of_active,\n",
    "        COUNT(*) AS total_expected_count\n",
    "\n",
    " FROM fpa_amalgamated_response_data\n",
    "\n",
    " GROUP BY DATE_FORMAT(process_time, 'ddMMMyyyy'), operation"
   ]
  },
  {
   "cell_type": "code",
   "execution_count": 0,
   "metadata": {
    "application/vnd.databricks.v1+cell": {
     "cellMetadata": {
      "byteLimit": 2048000,
      "implicitDf": true,
      "rowLimit": 10000
     },
     "inputWidgets": {},
     "nuid": "a67c3d2d-6404-499e-b8cb-c7a59a9ff720",
     "showTitle": false,
     "tableResultSettingsMap": {},
     "title": ""
    }
   },
   "outputs": [],
   "source": [
    "%sql\n",
    "\n",
    "\n",
    "SELECT * FROM fpa_amalgamated_response_data"
   ]
  }
 ],
 "metadata": {
  "application/vnd.databricks.v1+notebook": {
   "computePreferences": null,
   "dashboards": [
    {
     "elements": [
      {
       "dashboardResultIndex": 0,
       "elementNUID": "a67c3d2d-6404-499e-b8cb-c7a59a9ff720",
       "elementType": "command",
       "guid": "28f2a44a-47e6-4762-85e1-ef9da23bef58",
       "options": {
        "autoScaleImg": false,
        "scale": 0,
        "showTitle": true,
        "title": "Amalgamated Audit Data",
        "titleAlign": "center"
       },
       "position": {
        "height": 6,
        "width": 24,
        "x": 0,
        "y": 12,
        "z": null
       },
       "resultIndex": null
      },
      {
       "dashboardResultIndex": null,
       "elementNUID": "56ab0db0-343a-477c-90cd-3d23447c70e2",
       "elementType": "command",
       "guid": "51ac67d8-7d4f-4136-b3f0-8d009b8bf172",
       "options": {
        "autoScaleImg": false,
        "scale": 0,
        "showTitle": true,
        "title": "Upload File Audit Data",
        "titleAlign": "center"
       },
       "position": {
        "height": 6,
        "width": 24,
        "x": 0,
        "y": 6,
        "z": null
       },
       "resultIndex": null
      },
      {
       "dashboardResultIndex": null,
       "elementNUID": "5efdbd6c-cb75-4000-a265-c4336ef740f3",
       "elementType": "command",
       "guid": "80e60a00-f236-4043-9bf3-2f687e6448d9",
       "options": {
        "autoScaleImg": false,
        "scale": 0,
        "showTitle": true,
        "title": "Create Record Audit Data",
        "titleAlign": "center"
       },
       "position": {
        "height": 6,
        "width": 12,
        "x": 0,
        "y": 0,
        "z": null
       },
       "resultIndex": null
      },
      {
       "dashboardResultIndex": null,
       "elementNUID": "5ee5380e-8e92-4038-9254-45c90e5d6c73",
       "elementType": "command",
       "guid": "d83d6d59-c90f-4bcf-a0e6-cc6e8cc6024f",
       "options": {
        "autoScaleImg": false,
        "scale": 0,
        "showTitle": true,
        "title": "Input Upload Audit Data",
        "titleAlign": "center"
       },
       "position": {
        "height": 6,
        "width": 12,
        "x": 12,
        "y": 0,
        "z": null
       },
       "resultIndex": null
      }
     ],
     "globalVars": {},
     "guid": "",
     "layoutOption": {
      "grid": true,
      "stack": true
     },
     "nuid": "e4d73918-2994-425e-beb4-5256fb9c2250",
     "origId": 4224418536939535,
     "title": "Receive Audit Dashboard",
     "version": "DashboardViewV1",
     "width": 1024
    }
   ],
   "environmentMetadata": {
    "base_environment": "",
    "environment_version": "2"
   },
   "inputWidgetPreferences": null,
   "language": "python",
   "notebookMetadata": {
    "mostRecentlyExecutedCommandWithImplicitDF": {
     "commandId": 6803213753371963,
     "dataframes": [
      "_sqldf"
     ]
    },
    "pythonIndentUnit": 4
   },
   "notebookName": "FPA_Receive_Audit_Dashboard",
   "widgets": {}
  },
  "language_info": {
   "name": "python"
  }
 },
 "nbformat": 4,
 "nbformat_minor": 0
}
