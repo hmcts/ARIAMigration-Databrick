{
 "cells": [
  {
   "cell_type": "code",
   "execution_count": 0,
   "metadata": {
    "application/vnd.databricks.v1+cell": {
     "cellMetadata": {
      "byteLimit": 2048000,
      "rowLimit": 10000
     },
     "inputWidgets": {},
     "nuid": "2e51936d-1778-4652-bf7e-a1256d38a92e",
     "showTitle": false,
     "tableResultSettingsMap": {},
     "title": ""
    }
   },
   "outputs": [],
   "source": [
    "from confluent_kafka import Producer\n",
    "import json\n",
    "from  itertools import islice\n",
    "import numpy as np\n",
    "from pyspark.sql.functions import col, decode, split, element_at,udf\n",
    "import logging\n",
    "from pyspark.sql.types import StructType, StructField, StringType\n",
    "from pyspark import SparkContext\n",
    "import datetime"
   ]
  },
  {
   "cell_type": "code",
   "execution_count": 0,
   "metadata": {
    "application/vnd.databricks.v1+cell": {
     "cellMetadata": {
      "byteLimit": 2048000,
      "rowLimit": 10000
     },
     "inputWidgets": {},
     "nuid": "8ece15cf-ea2b-4635-93d2-63584b1afa47",
     "showTitle": true,
     "tableResultSettingsMap": {},
     "title": "Extract Environment Details and Generate KeyVault Name"
    }
   },
   "outputs": [],
   "source": [
    "config = spark.read.option(\"multiline\", \"true\").json(\"dbfs:/configs/config.json\")\n",
    "env_name = config.first()[\"env\"].strip().lower()\n",
    "lz_key = config.first()[\"lz_key\"].strip().lower()\n",
    "\n",
    "print(f\"env_code: {lz_key}\")  # This won't be redacted\n",
    "print(f\"env_name: {env_name}\")  # This won't be redacted\n",
    "\n",
    "KeyVault_name = f\"ingest{lz_key}-meta002-{env_name}\"\n",
    "print(f\"KeyVault_name: {KeyVault_name}\") "
   ]
  },
  {
   "cell_type": "code",
   "execution_count": 0,
   "metadata": {
    "application/vnd.databricks.v1+cell": {
     "cellMetadata": {
      "byteLimit": 2048000,
      "rowLimit": 10000
     },
     "inputWidgets": {},
     "nuid": "6911cb8d-17ce-4d05-99bc-64f06a0e877e",
     "showTitle": true,
     "tableResultSettingsMap": {},
     "title": "Configure SP OAuth"
    }
   },
   "outputs": [],
   "source": [
    "# Service principal credentials\n",
    "client_id = dbutils.secrets.get(KeyVault_name, \"SERVICE-PRINCIPLE-CLIENT-ID\")\n",
    "client_secret = dbutils.secrets.get(KeyVault_name, \"SERVICE-PRINCIPLE-CLIENT-SECRET\")\n",
    "tenant_id = dbutils.secrets.get(KeyVault_name, \"SERVICE-PRINCIPLE-TENANT-ID\")\n",
    "\n",
    "# Storage account names\n",
    "curated_storage = f\"ingest{lz_key}curated{env_name}\"\n",
    "\n",
    "# Spark config for curated storage (Delta table)\n",
    "spark.conf.set(f\"fs.azure.account.auth.type.{curated_storage}.dfs.core.windows.net\", \"OAuth\")\n",
    "spark.conf.set(f\"fs.azure.account.oauth.provider.type.{curated_storage}.dfs.core.windows.net\", \"org.apache.hadoop.fs.azurebfs.oauth2.ClientCredsTokenProvider\")\n",
    "spark.conf.set(f\"fs.azure.account.oauth2.client.id.{curated_storage}.dfs.core.windows.net\", client_id)\n",
    "spark.conf.set(f\"fs.azure.account.oauth2.client.secret.{curated_storage}.dfs.core.windows.net\", client_secret)\n",
    "spark.conf.set(f\"fs.azure.account.oauth2.client.endpoint.{curated_storage}.dfs.core.windows.net\", f\"https://login.microsoftonline.com/{tenant_id}/oauth2/token\")\n"
   ]
  },
  {
   "cell_type": "code",
   "execution_count": 0,
   "metadata": {
    "application/vnd.databricks.v1+cell": {
     "cellMetadata": {
      "byteLimit": 2048000,
      "rowLimit": 10000
     },
     "inputWidgets": {},
     "nuid": "77d8d790-3738-42b9-91ac-57a4e2b4cb52",
     "showTitle": false,
     "tableResultSettingsMap": {},
     "title": ""
    }
   },
   "outputs": [],
   "source": [
    "# eh_kv_secret = dbutils.secrets.get(scope=KeyVault_name, key=\"evh-namespace-connection-string\")\n",
    "eh_kv_secret = dbutils.secrets.get(scope=KeyVault_name, key=\"RootManageSharedAccessKey\")\n",
    "\n",
    "\n",
    "\n",
    "# Event Hub configurations\n",
    "# eventhubs_hostname = \"sbox-dlrm-eventhub-ns.servicebus.windows.net:9093\"\n",
    "eventhubs_hostname = f\"ingest{lz_key}-integration-eventHubNamespace001-{env_name}.servicebus.windows.net:9093\"\n",
    "conf = {\n",
    "    'bootstrap.servers': eventhubs_hostname,\n",
    "    'security.protocol': 'SASL_SSL',\n",
    "    'sasl.mechanism': 'PLAIN',\n",
    "    'sasl.username': '$ConnectionString',\n",
    "    'sasl.password': eh_kv_secret ,\n",
    "    'retries': 5,                     # Increased retries\n",
    "    'enable.idempotence': True,        # Enable idempotent producer\n",
    "}\n",
    "broadcast_conf = sc.broadcast(conf)\n",
    "\n"
   ]
  },
  {
   "cell_type": "code",
   "execution_count": 0,
   "metadata": {
    "application/vnd.databricks.v1+cell": {
     "cellMetadata": {
      "byteLimit": 2048000,
      "rowLimit": 10000
     },
     "inputWidgets": {},
     "nuid": "06fc77cd-e11f-4c1c-ac60-225eb6f1a888",
     "showTitle": false,
     "tableResultSettingsMap": {},
     "title": ""
    }
   },
   "outputs": [],
   "source": [
    "# Read and prepare data HTML files\n",
    "json_mount = f\"abfss://gold@ingest{lz_key}curated{env_name}.dfs.core.windows.net/ARIADM/ARM/JOH/\"\n",
    "binary_df = spark.read.format('binaryFile') \\\n",
    "                     .option('pathGlobFilter', '*.a360') \\\n",
    "                     .option('recursiveFileLookup', 'true') \\\n",
    "                     .load(json_mount)\n",
    "\n",
    "\n",
    "\n",
    "html_df = binary_df.withColumn(\"content_str\", decode(col('content'), 'utf-8')) \\\n",
    "                   .withColumn('file_path', element_at(split(col('path'), '/'), -1))\n",
    "html_df = html_df.select('content_str','file_path')\n",
    "\n",
    "# # Repartition based on cluster resources\n",
    "# num_spark_partitions =  8\n",
    "# optimized_html_df = html_df.repartition(num_spark_partitions)\n",
    "\n",
    "html_df.display()"
   ]
  },
  {
   "cell_type": "markdown",
   "metadata": {
    "application/vnd.databricks.v1+cell": {
     "cellMetadata": {},
     "inputWidgets": {},
     "nuid": "22fb7b58-1c48-45d3-aa50-69b0b439e947",
     "showTitle": false,
     "tableResultSettingsMap": {},
     "title": ""
    }
   },
   "source": [
    "## Send to EventHubs"
   ]
  },
  {
   "cell_type": "code",
   "execution_count": 0,
   "metadata": {
    "application/vnd.databricks.v1+cell": {
     "cellMetadata": {
      "byteLimit": 2048000,
      "rowLimit": 10000
     },
     "inputWidgets": {},
     "nuid": "2ab30928-9086-4ce8-b747-62b3a64b7107",
     "showTitle": false,
     "tableResultSettingsMap": {},
     "title": ""
    }
   },
   "outputs": [],
   "source": [
    "# Repartition based on cluster resources\n",
    "num_spark_partitions =  8\n",
    "optimized_html_df = html_df.repartition(num_spark_partitions)"
   ]
  },
  {
   "cell_type": "code",
   "execution_count": 0,
   "metadata": {
    "application/vnd.databricks.v1+cell": {
     "cellMetadata": {
      "byteLimit": 2048000,
      "rowLimit": 10000
     },
     "inputWidgets": {},
     "nuid": "249be394-fad0-4737-8e43-e7af336f810d",
     "showTitle": false,
     "tableResultSettingsMap": {},
     "title": ""
    }
   },
   "outputs": [],
   "source": [
    "def process_partition(partition):\n",
    "    import logging\n",
    "    from confluent_kafka import Producer\n",
    "    from datetime import datetime\n",
    "\n",
    "    # Initialize logger\n",
    "    logging.basicConfig(level=logging.INFO)\n",
    "    logger = logging.getLogger('KafkaProducer')\n",
    "    \n",
    "    failure_list = []\n",
    "    success_list = []\n",
    "    results = []\n",
    "\n",
    "    # Initialize producer\n",
    "    producer = Producer(**broadcast_conf.value)\n",
    "\n",
    "    def delivery_report(err, msg):\n",
    "        key_str = msg.key().decode('utf-8') if msg.key() is not None else \"Unknown\"\n",
    "        if err is not None:\n",
    "            err_msg = str(err)\n",
    "            logger.error(f\"Message delivery failed for key {key_str}: {err}\")\n",
    "            failure_list.append((key_str, \"failure\", err_msg, datetime.utcnow().strftime(\"%Y-%m-%d %H:%M:%S\")))\n",
    "        else:\n",
    "            success_list.append((key_str, \"success\", \"\", datetime.utcnow().strftime(\"%Y-%m-%d %H:%M:%S\")))\n",
    "\n",
    "    for row in partition:\n",
    "        if row.file_path is None or row.content_str is None:\n",
    "            logger.warning(f\"Skipping row with missing file_path/content_str: {row}\")\n",
    "            continue\n",
    "\n",
    "        try:\n",
    "            if isinstance(row.content_str, str):\n",
    "                value = row.content_str.encode('utf-8')\n",
    "            elif isinstance(row.content_str, bytearray):\n",
    "                value = bytes(row.content_str)\n",
    "            elif isinstance(row.content_str, bytes):\n",
    "                value = row.content_str\n",
    "            else:\n",
    "                logger.error(f\"Unsupported type for content_str: {type(row.content_str)}\")\n",
    "                failure_list.append((row.file_path, \"failure\", \"Unsupported type\", datetime.utcnow().strftime(\"%Y-%m-%d %H:%M:%S\")))\n",
    "                continue\n",
    "\n",
    "            producer.produce(\n",
    "                # topic='evh-joh-pub-dev-uks-dlrm-01',\n",
    "                topic = f\"evh-joh-pub-{lz_key}-uks-dlrm-01\",\n",
    "                key=row.file_path.encode('utf-8'),\n",
    "                value=value,\n",
    "                callback=delivery_report\n",
    "            )\n",
    "\n",
    "        except BufferError:\n",
    "            logger.error(\"Producer buffer full. Polling for events.\")\n",
    "            producer.poll(1)  \n",
    "        except Exception as e:\n",
    "            logger.error(f\"Unexpected error during production: {e}\")\n",
    "            failure_list.append((row.file_path, \"failure\", str(e), datetime.utcnow().strftime(\"%Y-%m-%d %H:%M:%S\")))\n",
    "\n",
    "    try:\n",
    "        producer.flush()\n",
    "        logger.info(\"Producer flushed successfully.\")\n",
    "    except Exception as e:\n",
    "        logger.error(f\"Unexpected error during flush: {e}\")\n",
    "\n",
    "    # Append results to list instead of using yield\n",
    "    results.extend(success_list)\n",
    "    results.extend(failure_list)\n",
    "\n",
    "    return results  # Return list instead of using yield\n",
    "\n",
    "# Schema for result DataFrame\n",
    "schema = StructType([\n",
    "    StructField(\"file_name\", StringType(), True),\n",
    "    StructField(\"status\", StringType(), True),\n",
    "    StructField(\"error_message\", StringType(), True),\n",
    "    StructField(\"timestamp\", StringType(), True)\n",
    "])\n",
    "\n",
    "# Apply the optimized processing\n",
    "result_rdd = optimized_html_df.rdd.mapPartitions(process_partition)\n",
    "\n",
    "# Create DataFrame and show results\n",
    "result_df = spark.createDataFrame(result_rdd, schema)\n",
    "display(result_df)  # Debugging step to verify output"
   ]
  },
  {
   "cell_type": "code",
   "execution_count": 0,
   "metadata": {
    "application/vnd.databricks.v1+cell": {
     "cellMetadata": {
      "byteLimit": 2048000,
      "rowLimit": 10000
     },
     "inputWidgets": {},
     "nuid": "942c9f97-a028-4d4f-afa8-ccc4fa3e7845",
     "showTitle": false,
     "tableResultSettingsMap": {},
     "title": ""
    }
   },
   "outputs": [],
   "source": [
    "# # Display failed files\n",
    "\n",
    "failed_files = result_df.filter(col(\"status\") == \"failure\")\n",
    "\n",
    "display(failed_files)\n",
    "failed_files.count()"
   ]
  },
  {
   "cell_type": "code",
   "execution_count": 0,
   "metadata": {
    "application/vnd.databricks.v1+cell": {
     "cellMetadata": {
      "byteLimit": 2048000,
      "rowLimit": 10000
     },
     "inputWidgets": {},
     "nuid": "28a4b067-f3cd-445a-b111-4793cbb136f7",
     "showTitle": false,
     "tableResultSettingsMap": {},
     "title": ""
    }
   },
   "outputs": [],
   "source": [
    "result_df.write.format(\"delta\").mode(\"append\").save((f\"abfss://silver@ingest{lz_key}curated{env_name}.dfs.core.windows.net/ARIADM/ARM/AUDIT/JOH/JOH_HTML_a360_pub_audit_db_eh\")"
   ]
  }
 ],
 "metadata": {
  "application/vnd.databricks.v1+notebook": {
   "computePreferences": null,
   "dashboards": [],
   "environmentMetadata": {
    "base_environment": "",
    "environment_version": "2"
   },
   "inputWidgetPreferences": null,
   "language": "python",
   "notebookMetadata": {
    "pythonIndentUnit": 4
   },
   "notebookName": "JOH_to_eventhubs_A360",
   "widgets": {}
  },
  "language_info": {
   "name": "python"
  }
 },
 "nbformat": 4,
 "nbformat_minor": 0
}
