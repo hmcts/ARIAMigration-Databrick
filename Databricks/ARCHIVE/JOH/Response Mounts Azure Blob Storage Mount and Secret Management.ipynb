{
 "cells": [
  {
   "cell_type": "code",
   "execution_count": 0,
   "metadata": {
    "application/vnd.databricks.v1+cell": {
     "cellMetadata": {
      "byteLimit": 2048000,
      "rowLimit": 10000
     },
     "inputWidgets": {},
     "nuid": "b72b324c-1dca-468c-880f-5f3237b135d2",
     "showTitle": true,
     "tableResultSettingsMap": {},
     "title": "Importing Requests and JSON Libraries"
    }
   },
   "outputs": [],
   "source": [
    "import requests\n",
    "import json"
   ]
  },
  {
   "cell_type": "code",
   "execution_count": 0,
   "metadata": {
    "application/vnd.databricks.v1+cell": {
     "cellMetadata": {
      "byteLimit": 2048000,
      "rowLimit": 10000
     },
     "inputWidgets": {},
     "nuid": "fbef3b31-fbf1-4860-af1f-aad46f102bfd",
     "showTitle": true,
     "tableResultSettingsMap": {},
     "title": "Mount Azure Blob Storage and Print Secret Values"
    }
   },
   "outputs": [],
   "source": [
    "container_name = 'dropzone'\n",
    "storage_account_name = 'a360c2x2555dz'\n",
    "# secret_value = dbutils.secrets.get(scope='dbScope', key= 'secret')\n",
    "\n",
    "# List of required secrets\n",
    "required_secrets = [\n",
    "    \"ARIAB-SAS-TOKEN\", \"ARIAFTA-SAS-TOKEN\", \"ARIAJR-SAS-TOKEN\",\n",
    "    \"ARIASB-SAS-TOKEN\", \"ARIATD-SAS-TOKEN\", \"ARIAUTA-SAS-TOKEN\"\n",
    "]"
   ]
  },
  {
   "cell_type": "code",
   "execution_count": 0,
   "metadata": {
    "application/vnd.databricks.v1+cell": {
     "cellMetadata": {
      "byteLimit": 2048000,
      "rowLimit": 10000
     },
     "inputWidgets": {},
     "nuid": "cb34bae7-5495-4627-8c47-ae78b9ef4e98",
     "showTitle": true,
     "tableResultSettingsMap": {},
     "title": "List Files in Mounted Directory"
    }
   },
   "outputs": [],
   "source": [
    "display(dbutils.fs.ls(\"/mnt/dropzoneariab/ARIAB/submission\"))"
   ]
  },
  {
   "cell_type": "code",
   "execution_count": 0,
   "metadata": {
    "application/vnd.databricks.v1+cell": {
     "cellMetadata": {
      "byteLimit": 2048000,
      "rowLimit": 10000
     },
     "inputWidgets": {},
     "nuid": "853966b0-efc6-4095-9877-d3730aa9b123",
     "showTitle": false,
     "tableResultSettingsMap": {},
     "title": ""
    }
   },
   "outputs": [],
   "source": [
    "response_files = dbutils.fs.ls(\"/mnt/dropzoneariab/ARIAB/response\")\n",
    "file_count = len(response_files)\n",
    "file_count"
   ]
  },
  {
   "cell_type": "code",
   "execution_count": 0,
   "metadata": {
    "application/vnd.databricks.v1+cell": {
     "cellMetadata": {
      "byteLimit": 2048000,
      "rowLimit": 10000
     },
     "inputWidgets": {},
     "nuid": "255424b2-fc33-4997-9c15-78951dbb539b",
     "showTitle": false,
     "tableResultSettingsMap": {},
     "title": ""
    }
   },
   "outputs": [],
   "source": [
    "test_message_df = spark.read.json(\"dbfs:/mnt/dropzoneariab/ARIAB/submission/test_message.json\")\n",
    "display(test_message_df)"
   ]
  },
  {
   "cell_type": "code",
   "execution_count": 0,
   "metadata": {
    "application/vnd.databricks.v1+cell": {
     "cellMetadata": {
      "byteLimit": 2048000,
      "rowLimit": 10000
     },
     "inputWidgets": {},
     "nuid": "7f246cd4-e5b1-4045-a441-9e556f0b4ae6",
     "showTitle": false,
     "tableResultSettingsMap": {},
     "title": ""
    }
   },
   "outputs": [],
   "source": [
    "dbutils.secrets.listScopes()"
   ]
  },
  {
   "cell_type": "code",
   "execution_count": 0,
   "metadata": {
    "application/vnd.databricks.v1+cell": {
     "cellMetadata": {
      "byteLimit": 2048000,
      "rowLimit": 10000
     },
     "inputWidgets": {},
     "nuid": "7cb04b46-78c2-4edb-9c5c-ebdceb6ba143",
     "showTitle": false,
     "tableResultSettingsMap": {},
     "title": ""
    }
   },
   "outputs": [],
   "source": [
    "dbutils.secrets.list(scope='dbScope')"
   ]
  },
  {
   "cell_type": "code",
   "execution_count": 0,
   "metadata": {
    "application/vnd.databricks.v1+cell": {
     "cellMetadata": {
      "byteLimit": 2048000,
      "rowLimit": 10000
     },
     "inputWidgets": {},
     "nuid": "755b8454-371c-441f-a7e3-8a55968a6b37",
     "showTitle": false,
     "tableResultSettingsMap": {},
     "title": ""
    }
   },
   "outputs": [],
   "source": [
    "dbutils.secrets.list(scope='ingest00-meta002-sbox')"
   ]
  },
  {
   "cell_type": "code",
   "execution_count": 0,
   "metadata": {
    "application/vnd.databricks.v1+cell": {
     "cellMetadata": {
      "byteLimit": 2048000,
      "rowLimit": 10000
     },
     "inputWidgets": {},
     "nuid": "b94e9066-b579-4311-aed3-b325fff59fa9",
     "showTitle": false,
     "tableResultSettingsMap": {},
     "title": ""
    }
   },
   "outputs": [],
   "source": [
    "foldername = secret.split('-')[0]"
   ]
  },
  {
   "cell_type": "code",
   "execution_count": 0,
   "metadata": {
    "application/vnd.databricks.v1+cell": {
     "cellMetadata": {
      "byteLimit": 2048000,
      "rowLimit": 10000
     },
     "inputWidgets": {},
     "nuid": "4df633b6-4c93-45c5-8c5c-e73c1647b16d",
     "showTitle": true,
     "tableResultSettingsMap": {},
     "title": "Check and Mount Azure Blob Storage Containers"
    }
   },
   "outputs": [],
   "source": [
    "for secret in required_secrets:\n",
    "    foldername = secret.split('-')[0]\n",
    "    mount_point = f\"/mnt/{container_name}{foldername.lower()}\"\n",
    "\n",
    "    # Ensure mount_info is accessed correctly\n",
    "    mounts = dbutils.fs.mounts()\n",
    "    \n",
    "    if not any(mount_point in (mount_info.mountPoint if isinstance(mount_info, tuple) else mount_info['mountPoint']) for mount_info in mounts):\n",
    "        try:\n",
    "            dbutils.fs.mount(\n",
    "                source=source_url,\n",
    "                mount_point=mount_point,\n",
    "                extra_configs={f\"fs.azure.sas.{container_name}.{storage_account_name}.blob.core.windows.net\": dbutils.secrets.get(scope='dbScope', key=secret)}\n",
    "            )\n",
    "            print(f\"Container '{container_name}' mounted successfully at '{mount_point}'\")\n",
    "        except Exception as e:\n",
    "            print(f\"Error mounting container at '{mount_point}': {e}\")\n",
    "    else:\n",
    "        print(f\"Mount point '{mount_point}' already exists.\")\n",
    "\n",
    "    # Access the specific folder\n",
    "    folder_path = f\"{mount_point}/{foldername}\"\n",
    "\n",
    "    # List files in the folder to verify\n",
    "    try:\n",
    "        files = dbutils.fs.ls(folder_path)\n",
    "        display(files)\n",
    "        print(f\"Folder '{foldername}' accessed successfully at '{folder_path}'\")\n",
    "    except Exception as e:\n",
    "        print(f\"Error accessing folder '{foldername}': {e}\")\n"
   ]
  },
  {
   "cell_type": "code",
   "execution_count": 0,
   "metadata": {
    "application/vnd.databricks.v1+cell": {
     "cellMetadata": {
      "byteLimit": 2048000,
      "rowLimit": 10000
     },
     "inputWidgets": {},
     "nuid": "30379391-3822-4531-a2ad-a93978fc853d",
     "showTitle": true,
     "tableResultSettingsMap": {},
     "title": "Display Mounted File Systems"
    }
   },
   "outputs": [],
   "source": [
    "display(dbutils.fs.mounts())"
   ]
  },
  {
   "cell_type": "code",
   "execution_count": 0,
   "metadata": {
    "application/vnd.databricks.v1+cell": {
     "cellMetadata": {
      "byteLimit": 2048000,
      "rowLimit": 10000
     },
     "inputWidgets": {},
     "nuid": "fa185f47-c57c-4ada-8db2-1d1b54c9d42f",
     "showTitle": false,
     "tableResultSettingsMap": {},
     "title": ""
    }
   },
   "outputs": [],
   "source": [
    "dbutils.notebook.exit(\"Success\")"
   ]
  },
  {
   "cell_type": "markdown",
   "metadata": {
    "application/vnd.databricks.v1+cell": {
     "cellMetadata": {},
     "inputWidgets": {},
     "nuid": "01710e2d-b226-4088-a22c-125e0743ecd1",
     "showTitle": false,
     "tableResultSettingsMap": {},
     "title": ""
    }
   },
   "source": [
    "## APPENDIX"
   ]
  },
  {
   "cell_type": "markdown",
   "metadata": {
    "application/vnd.databricks.v1+cell": {
     "cellMetadata": {},
     "inputWidgets": {},
     "nuid": "057ff27d-02eb-4d67-b789-bc2c2a78eb64",
     "showTitle": false,
     "tableResultSettingsMap": {},
     "title": ""
    }
   },
   "source": [
    "### Use the code below to add or delete keys in the DB secret scope.\n",
    "\n",
    "You need to obtain the databricks_token, databricks_instance, and keyvault_scope."
   ]
  },
  {
   "cell_type": "code",
   "execution_count": 0,
   "metadata": {
    "application/vnd.databricks.v1+cell": {
     "cellMetadata": {
      "byteLimit": 2048000,
      "rowLimit": 10000
     },
     "inputWidgets": {},
     "nuid": "f7fc19db-c72f-4190-b7ba-ba1c79266e39",
     "showTitle": true,
     "tableResultSettingsMap": {},
     "title": "Adding of keys to DB scope"
    }
   },
   "outputs": [],
   "source": [
    "\n",
    "# Databricks Configurations\n",
    "databricks_instance = \"adb-3635282203417052.12.azuredatabricks.net\"\n",
    "databricks_token = \"xxxxxxxx\"  \n",
    "db_scope = \"dbScope\"\n",
    "keyvault_scope = \"ingest00-keyvault-sbox\"\n",
    "\n",
    "# List of required secrets\n",
    "required_secrets = [\n",
    "    \"ARIAB-SAS-TOKEN\", \"ARIAFTA-SAS-TOKEN\", \"ARIAJR-SAS-TOKEN\",\n",
    "    \"ARIASB-SAS-TOKEN\", \"ARIATD-SAS-TOKEN\", \"ARIAUTA-SAS-TOKEN\", \"ingest00-metadata-mysql-username-sbox\"\n",
    "]\n",
    "\n",
    "# Headers for API requests\n",
    "headers = {\n",
    "    \"Authorization\": f\"Bearer {databricks_token}\",\n",
    "    \"Content-Type\": \"application/json\"\n",
    "}\n",
    "\n",
    "# Step 1: Get the existing secrets in `dbScope`\n",
    "list_secrets_url = f\"https://{databricks_instance}/api/2.0/secrets/list\"\n",
    "response = requests.get(list_secrets_url, headers=headers, json={\"scope\": db_scope})\n",
    "\n",
    "if response.status_code == 200:\n",
    "    existing_secrets = {secret[\"key\"] for secret in response.json().get(\"secrets\", [])}\n",
    "else:\n",
    "    print(\"Error fetching existing secrets:\", response.text)\n",
    "    existing_secrets = set()\n",
    "\n",
    "# Step 2: Loop through required secrets and create missing ones\n",
    "for secret_key in required_secrets:\n",
    "    if secret_key not in existing_secrets:\n",
    "        print(f\"{secret_key} is missing. Fetching from {keyvault_scope}...\")\n",
    "\n",
    "        # Fetch secret from Azure Key Vault scope\n",
    "        try:\n",
    "            secret_value = dbutils.secrets.get(scope=keyvault_scope, key=secret_key)\n",
    "        except Exception as e:\n",
    "            print(f\"Error fetching {secret_key} from {keyvault_scope}: {str(e)}\")\n",
    "            continue  # Skip if secret is not found in Key Vault\n",
    "\n",
    "        # Step 3: Create the missing secret in `dbScope`\n",
    "        create_secret_url = f\"https://{databricks_instance}/api/2.0/secrets/put\"\n",
    "        payload = {\n",
    "            \"scope\": db_scope,\n",
    "            \"key\": secret_key,\n",
    "            \"string_value\": secret_value\n",
    "        }\n",
    "\n",
    "        create_response = requests.post(create_secret_url, headers=headers, json=payload)\n",
    "\n",
    "        if create_response.status_code == 200:\n",
    "            print(f\"Successfully added {secret_key} to {db_scope}.\")\n",
    "        else:\n",
    "            print(f\"Failed to add {secret_key}: {create_response.text}\")\n",
    "    else:\n",
    "        print(f\"{secret_key} already exists in {db_scope}.\")\n"
   ]
  },
  {
   "cell_type": "code",
   "execution_count": 0,
   "metadata": {
    "application/vnd.databricks.v1+cell": {
     "cellMetadata": {
      "byteLimit": 2048000,
      "rowLimit": 10000
     },
     "inputWidgets": {},
     "nuid": "a71b5c12-e8a6-47b1-8590-2b342cf462f8",
     "showTitle": true,
     "tableResultSettingsMap": {},
     "title": "deletion of keys in DB secret scope"
    }
   },
   "outputs": [],
   "source": [
    "\n",
    "# # Databricks Configurations\n",
    "# databricks_instance = \"adb-3635282203417052.12.azuredatabricks.net\"\n",
    "# databricks_token = \"\"  \n",
    "# db_scope = \"dbScope\"\n",
    "\n",
    "# # List of secrets to delete\n",
    "# secrets_to_delete = [\n",
    "#     \"ARIAB-SAS-TOKEN\", \"ARIAFTA-SAS-TOKEN\", \"ARIAJR-SAS-TOKEN\",\n",
    "#     \"ARIASB-SAS-TOKEN\", \"ARIATD-SAS-TOKEN\", \"ARIAUTA-SAS-TOKEN\",\n",
    "#     \"ingest00-metadata-mysql-username-sbox\"\n",
    "# ]\n",
    "\n",
    "# # Headers for API requests\n",
    "# headers = {\n",
    "#     \"Authorization\": f\"Bearer {databricks_token}\",\n",
    "#     \"Content-Type\": \"application/json\"\n",
    "# }\n",
    "\n",
    "# # Step 1: Get existing secrets in `dbScope`\n",
    "# list_secrets_url = f\"https://{databricks_instance}/api/2.0/secrets/list\"\n",
    "# response = requests.get(list_secrets_url, headers=headers, json={\"scope\": db_scope})\n",
    "\n",
    "# if response.status_code == 200:\n",
    "#     existing_secrets = {secret[\"key\"] for secret in response.json().get(\"secrets\", [])}\n",
    "# else:\n",
    "#     print(\"Error fetching existing secrets:\", response.text)\n",
    "#     existing_secrets = set()\n",
    "\n",
    "# # Step 2: Delete secrets if they exist in `dbScope`\n",
    "# for secret_key in secrets_to_delete:\n",
    "#     if secret_key in existing_secrets:\n",
    "#         delete_secret_url = f\"https://{databricks_instance}/api/2.0/secrets/delete\"\n",
    "#         payload = {\n",
    "#             \"scope\": db_scope,\n",
    "#             \"key\": secret_key\n",
    "#         }\n",
    "\n",
    "#         delete_response = requests.post(delete_secret_url, headers=headers, json=payload)\n",
    "\n",
    "#         if delete_response.status_code == 200:\n",
    "#             print(f\"Successfully deleted {secret_key} from {db_scope}.\")\n",
    "#         else:\n",
    "#             print(f\"Failed to delete {secret_key}: {delete_response.text}\")\n",
    "#     else:\n",
    "#         print(f\"{secret_key} not found in {db_scope}. Skipping deletion.\")\n"
   ]
  },
  {
   "cell_type": "code",
   "execution_count": 0,
   "metadata": {
    "application/vnd.databricks.v1+cell": {
     "cellMetadata": {
      "byteLimit": 2048000,
      "rowLimit": 10000
     },
     "inputWidgets": {},
     "nuid": "e2b7e681-7453-4f75-85c9-d0b6de408d78",
     "showTitle": false,
     "tableResultSettingsMap": {},
     "title": ""
    }
   },
   "outputs": [],
   "source": [
    "dbutils.secrets.list(scope = 'dbScope')"
   ]
  },
  {
   "cell_type": "code",
   "execution_count": 0,
   "metadata": {
    "application/vnd.databricks.v1+cell": {
     "cellMetadata": {
      "byteLimit": 2048000,
      "rowLimit": 10000
     },
     "inputWidgets": {},
     "nuid": "aca463fc-c9e5-44f0-a559-a57885540ce6",
     "showTitle": false,
     "tableResultSettingsMap": {},
     "title": ""
    }
   },
   "outputs": [],
   "source": [
    "dbutils.fs.ls('/mnt/dropzoneariasb/ARIASB/submission')"
   ]
  },
  {
   "cell_type": "code",
   "execution_count": 0,
   "metadata": {
    "application/vnd.databricks.v1+cell": {
     "cellMetadata": {
      "byteLimit": 2048000,
      "rowLimit": 10000
     },
     "inputWidgets": {},
     "nuid": "af546dc3-f80f-4824-bc91-b554e0827f88",
     "showTitle": false,
     "tableResultSettingsMap": {},
     "title": ""
    }
   },
   "outputs": [],
   "source": [
    "container_name = 'dropzone'\n",
    "storage_account_name = 'a360c2x2555dz'\n",
    "folder_name = 'ARIAJR'\n",
    "sas_token = dbutils.secrets.get(scope='dbScope', key='ARIAJR-SAS-TOKEN')"
   ]
  },
  {
   "cell_type": "code",
   "execution_count": 0,
   "metadata": {
    "application/vnd.databricks.v1+cell": {
     "cellMetadata": {
      "byteLimit": 2048000,
      "rowLimit": 10000
     },
     "inputWidgets": {},
     "nuid": "2287201c-3bd8-484d-ba7a-5bf8b75fa860",
     "showTitle": false,
     "tableResultSettingsMap": {},
     "title": ""
    }
   },
   "outputs": [],
   "source": [
    "sas_token = \"\"\n",
    "\n",
    "spark.conf.set(\n",
    "    f\"fs.azure.sas.gold.ingest00curatedsbox.blob.core.windows.net\",\n",
    "    sas_token\n",
    ")\n"
   ]
  },
  {
   "cell_type": "code",
   "execution_count": 0,
   "metadata": {
    "application/vnd.databricks.v1+cell": {
     "cellMetadata": {
      "byteLimit": 2048000,
      "rowLimit": 10000
     },
     "inputWidgets": {},
     "nuid": "b1e602b6-9b35-45ed-af85-d9db527c425a",
     "showTitle": false,
     "tableResultSettingsMap": {},
     "title": ""
    }
   },
   "outputs": [],
   "source": [
    "df = spark.read.format(\"delta\").load(\"wasbs://gold@ingest00curatedsbox.blob.core.windows.net/ARIADM/ARM/APPEALS/gold_appeals_with_a360/\")\n",
    "display(df)\n"
   ]
  },
  {
   "cell_type": "code",
   "execution_count": 0,
   "metadata": {
    "application/vnd.databricks.v1+cell": {
     "cellMetadata": {
      "byteLimit": 2048000,
      "rowLimit": 10000
     },
     "inputWidgets": {},
     "nuid": "5469e41e-c5f7-4609-a5de-4c7ddcd6b599",
     "showTitle": false,
     "tableResultSettingsMap": {},
     "title": ""
    }
   },
   "outputs": [],
   "source": [
    "sas_token = \"\"\n",
    "\n",
    "spark.conf.set(\n",
    "    f\"fs.azure.sas.gold.ingest00curatedsbox.dfs.core.windows.net\",\n",
    "    sas_token\n",
    ")\n",
    "\n",
    "df = spark.read.format(\"delta\").load(\"abfss://gold@ingest00curatedsbox.dfs.core.windows.net/ARIADM/ARM/APPEALS/gold_appeals_with_a360/\")\n",
    "display(df)"
   ]
  },
  {
   "cell_type": "code",
   "execution_count": 0,
   "metadata": {
    "application/vnd.databricks.v1+cell": {
     "cellMetadata": {
      "byteLimit": 2048000,
      "rowLimit": 10000
     },
     "inputWidgets": {},
     "nuid": "858172fa-337f-49f5-9053-2c1e70277050",
     "showTitle": false,
     "tableResultSettingsMap": {},
     "title": ""
    }
   },
   "outputs": [],
   "source": [
    "%python\n",
    "sas_token = \"\"\n",
    "\n",
    "spark.conf.set(\n",
    "    \"fs.azure.account.auth.type.ingest00curatedsbox.dfs.core.windows.net\",\n",
    "    \"SAS\"\n",
    ")\n",
    "spark.conf.set(\n",
    "    \"fs.azure.sas.ingest00curatedsbox.dfs.core.windows.net\",\n",
    "    sas_token\n",
    ")\n",
    "\n",
    "df = spark.read.format(\"delta\").load(\"abfss://gold@ingest00curatedsbox.dfs.core.windows.net/ARIADM/ARM/APPEALS/gold_appeals_with_a360/\")\n",
    "display(df)"
   ]
  },
  {
   "cell_type": "code",
   "execution_count": 0,
   "metadata": {
    "application/vnd.databricks.v1+cell": {
     "cellMetadata": {
      "byteLimit": 2048000,
      "rowLimit": 10000
     },
     "inputWidgets": {},
     "nuid": "a6712596-5c03-40a3-a382-908326a065d1",
     "showTitle": false,
     "tableResultSettingsMap": {},
     "title": ""
    }
   },
   "outputs": [],
   "source": [
    "df = spark.read.format(\"delta\").load(\"abfss://gold@ingest00curatedsbox.dfs.core.windows.net/ARIADM/ARM/APPEALS/gold_appeals_with_a360/\")\n",
    "display(df)\n"
   ]
  },
  {
   "cell_type": "markdown",
   "metadata": {
    "application/vnd.databricks.v1+cell": {
     "cellMetadata": {},
     "inputWidgets": {},
     "nuid": "b7313796-216a-4e7e-ba6f-01332eaa4f90",
     "showTitle": false,
     "tableResultSettingsMap": {},
     "title": ""
    }
   },
   "source": [
    "\n",
    "# Authentication Method Table\n",
    "<table>\n",
    "  <tr>\n",
    "    <th>Authentication Method</th>\n",
    "    <th>Spark Config Command</th>\n",
    "    <th>Notes</th>\n",
    "  </tr>\n",
    "  <tr>\n",
    "    <td><b>Storage Account Access Key</b></td>\n",
    "    <td>fs.azure.account.key.ingest00curatedsbox.dfs.core.windows.net = &lt;access_key&gt;</td>\n",
    "    <td>Simple method, but not recommended for security reasons.</td>\n",
    "  </tr>\n",
    "  <tr>\n",
    "    <td><b>SAS Token (Recommended)</b></td>\n",
    "    <td>fs.azure.sas.gold.ingest00curatedsbox.dfs.core.windows.net = &lt;sas_token&gt;</td>\n",
    "    <td>More secure than access keys, grants scoped access.</td>\n",
    "  </tr>\n",
    "  <tr>\n",
    "    <td><b>Service Principal (OAuth)</b></td>\n",
    "    <td>\n",
    "      fs.azure.account.auth.type.ingest00curatedsbox.dfs.core.windows.net = OAuth<br>\n",
    "      fs.azure.account.oauth.provider.type.ingest00curatedsbox.dfs.core.windows.net = org.apache.hadoop.fs.azurebfs.oauth2.ClientCredsTokenProvider<br>\n",
    "      fs.azure.account.oauth2.client.id.ingest00curatedsbox.dfs.core.windows.net = &lt;client_id&gt;<br>\n",
    "      fs.azure.account.oauth2.client.secret.ingest00curatedsbox.dfs.core.windows.net = &lt;client_secret&gt;<br>\n",
    "      fs.azure.account.oauth2.client.endpoint.ingest00curatedsbox.dfs.core.windows.net = https://login.microsoftonline.com/&lt;tenant_id&gt;/oauth2/token\n",
    "    </td>\n",
    "    <td>Most secure, requires Azure AD Service Principal setup.</td>\n",
    "  </tr>\n",
    "  <tr>\n",
    "    <td><b>Managed Identity (MSI)</b></td>\n",
    "    <td>\n",
    "      fs.azure.account.auth.type.ingest00curatedsbox.dfs.core.windows.net = OAuth<br>\n",
    "      fs.azure.account.oauth.provider.type.ingest00curatedsbox.dfs.core.windows.net = org.apache.hadoop.fs.azurebfs.oauth2.MsiTokenProvider\n",
    "    </td>\n",
    "    <td>Best for Databricks on Azure, removes need for secrets.</td>\n",
    "  </tr>\n",
    "</table>\n"
   ]
  },
  {
   "cell_type": "code",
   "execution_count": 0,
   "metadata": {
    "application/vnd.databricks.v1+cell": {
     "cellMetadata": {},
     "inputWidgets": {},
     "nuid": "7f5c0ae9-c846-408f-8466-d369c7b6cedf",
     "showTitle": false,
     "tableResultSettingsMap": {},
     "title": ""
    }
   },
   "outputs": [],
   "source": [
    "# Solution: Set Up OAuth for abfss:// Access\n",
    "# Databricks needs an Azure AD Service Principal for authentication when using abfss://."
   ]
  },
  {
   "cell_type": "code",
   "execution_count": 0,
   "metadata": {
    "application/vnd.databricks.v1+cell": {
     "cellMetadata": {},
     "inputWidgets": {},
     "nuid": "fc4fb169-2d3b-450a-a8a1-aaec3914ed46",
     "showTitle": false,
     "tableResultSettingsMap": {},
     "title": ""
    }
   },
   "outputs": [],
   "source": [
    "# Step 1: Retrieve Secrets for Authentication\n",
    "# Ensure you have Client ID, Secret, and Tenant ID stored in Databricks Secrets (dbScope)."
   ]
  },
  {
   "cell_type": "code",
   "execution_count": 0,
   "metadata": {
    "application/vnd.databricks.v1+cell": {
     "cellMetadata": {},
     "inputWidgets": {},
     "nuid": "1a55e060-c776-4f51-8c70-e40a1231186d",
     "showTitle": false,
     "tableResultSettingsMap": {},
     "title": ""
    }
   },
   "outputs": [],
   "source": [
    "client_id = dbutils.secrets.get(scope=\"dbScope\", key=\"client-id\")\n",
    "client_secret = dbutils.secrets.get(scope=\"dbScope\", key=\"client-secret\")\n",
    "tenant_id = dbutils.secrets.get(scope=\"dbScope\", key=\"tenant-id\")\n"
   ]
  },
  {
   "cell_type": "code",
   "execution_count": 0,
   "metadata": {
    "application/vnd.databricks.v1+cell": {
     "cellMetadata": {},
     "inputWidgets": {},
     "nuid": "cba0a917-081a-4c8d-ad47-4fa810b21f93",
     "showTitle": false,
     "tableResultSettingsMap": {},
     "title": ""
    }
   },
   "outputs": [],
   "source": [
    "# Step 2: Configure Spark for abfss://\n",
    "# Set up authentication for abfss://gold@ingest00curatedsbox.dfs.core.windows.net:"
   ]
  },
  {
   "cell_type": "code",
   "execution_count": 0,
   "metadata": {
    "application/vnd.databricks.v1+cell": {
     "cellMetadata": {},
     "inputWidgets": {},
     "nuid": "58ebae85-bc14-411c-92b3-f5464cbe0dd6",
     "showTitle": false,
     "tableResultSettingsMap": {},
     "title": ""
    }
   },
   "outputs": [],
   "source": [
    "spark.conf.set(\"fs.azure.account.auth.type.ingest00curatedsbox.dfs.core.windows.net\", \"OAuth\")\n",
    "spark.conf.set(\"fs.azure.account.oauth.provider.type.ingest00curatedsbox.dfs.core.windows.net\", \"org.apache.hadoop.fs.azurebfs.oauth2.ClientCredsTokenProvider\")\n",
    "spark.conf.set(\"fs.azure.account.oauth2.client.id.ingest00curatedsbox.dfs.core.windows.net\", client_id)\n",
    "spark.conf.set(\"fs.azure.account.oauth2.client.secret.ingest00curatedsbox.dfs.core.windows.net\", client_secret)\n",
    "spark.conf.set(\"fs.azure.account.oauth2.client.endpoint.ingest00curatedsbox.dfs.core.windows.net\", f\"https://login.microsoftonline.com/{tenant_id}/oauth2/token\")\n"
   ]
  },
  {
   "cell_type": "code",
   "execution_count": 0,
   "metadata": {
    "application/vnd.databricks.v1+cell": {
     "cellMetadata": {
      "byteLimit": 2048000,
      "rowLimit": 10000
     },
     "inputWidgets": {},
     "nuid": "0af36e08-38c4-483f-9fbf-c83d7cc3896a",
     "showTitle": false,
     "tableResultSettingsMap": {},
     "title": ""
    }
   },
   "outputs": [],
   "source": [
    "sas_token = \"\"\n",
    "\n",
    "spark.conf.set(\"fs.azure.sas.gold.ingest00curatedsbox.dfs.core.windows.net\", sas_token)\n",
    "\n",
    "df = spark.read.format(\"delta\").load(\"abfss://gold@ingest00curatedsbox.dfs.core.windows.net/ARIADM/ARM/APPEALS/gold_appeals_with_a360/\")\n",
    "\n"
   ]
  }
 ],
 "metadata": {
  "application/vnd.databricks.v1+notebook": {
   "computePreferences": null,
   "dashboards": [],
   "environmentMetadata": {
    "base_environment": "",
    "environment_version": "2"
   },
   "language": "python",
   "notebookMetadata": {
    "pythonIndentUnit": 4
   },
   "notebookName": "Response Mounts: Azure Blob Storage Mount and Secret Management",
   "widgets": {}
  },
  "language_info": {
   "name": "python"
  }
 },
 "nbformat": 4,
 "nbformat_minor": 0
}
