{
 "cells": [
  {
   "cell_type": "markdown",
   "metadata": {
    "application/vnd.databricks.v1+cell": {
     "cellMetadata": {},
     "inputWidgets": {},
     "nuid": "5a31f79b-a1c8-43f0-b2d9-dcf31bec81e5",
     "showTitle": false,
     "tableResultSettingsMap": {},
     "title": ""
    }
   },
   "source": [
    "***CREATE RECORD AUDIT DATA***"
   ]
  },
  {
   "cell_type": "code",
   "execution_count": 0,
   "metadata": {
    "application/vnd.databricks.v1+cell": {
     "cellMetadata": {
      "byteLimit": 2048000,
      "rowLimit": 10000
     },
     "inputWidgets": {},
     "nuid": "f48645e3-d432-45e6-8bd0-01f5df0d17b4",
     "showTitle": false,
     "tableResultSettingsMap": {},
     "title": ""
    }
   },
   "outputs": [],
   "source": [
    "df_create_record_data = spark.read.format(\"delta\").load(\"abfss://silver@ingest00curatedsbox.dfs.core.windows.net/ARIADM/ARM/response/APPEALS/ARIAUTA/create_record/\")\n",
    "df_create_record_data.createOrReplaceTempView(\"ariauta_create_record\")"
   ]
  },
  {
   "cell_type": "code",
   "execution_count": 0,
   "metadata": {
    "application/vnd.databricks.v1+cell": {
     "cellMetadata": {
      "byteLimit": 2048000,
      "implicitDf": true,
      "rowLimit": 10000
     },
     "inputWidgets": {},
     "nuid": "da358175-64ef-421a-882e-26f73b3060a4",
     "showTitle": false,
     "tableResultSettingsMap": {},
     "title": ""
    }
   },
   "outputs": [
    {
     "data": {
      "text/plain": [
       "Databricks visualization. Run in Databricks to view."
      ]
     },
     "metadata": {
      "application/vnd.databricks.v1.subcommand+json": {
       "baseErrorDetails": null,
       "bindings": {},
       "collapsed": false,
       "command": "%sql WITH q AS (SELECT  DATE_FORMAT(Process_time, 'ddMMMyyyy') as date,\n        operation,\n        COUNT(*) as total_expected_count,\n        COUNT(CASE WHEN status = 1 THEN 1 END) as actual_count_status_1,\n        COUNT(CASE WHEN status = 0 THEN 1 END) as actual_count_status_0,\n        COUNT(CASE WHEN status IS NULL THEN 1 END) as count_status_null\n\nFROM joh_create_record\n\nGROUP BY DATE_FORMAT(Process_time, 'ddMMMyyyy'), operation) SELECT `operation`,SUM(`actual_count_status_1`) `column_80ec3a0b99`,SUM(`total_expected_count`) `column_80ec3a0b102`,SUM(`actual_count_status_0`) `column_80ec3a0b105`,`date` FROM q GROUP BY `date`,`operation`",
       "commandTitle": "Visualization 1",
       "commandType": "auto",
       "commandVersion": 0,
       "commentThread": [],
       "commentsVisible": false,
       "contentSha256Hex": null,
       "customPlotOptions": {
        "redashChart": [
         {
          "key": "type",
          "value": "CHART"
         },
         {
          "key": "options",
          "value": {
           "alignYAxesAtZero": true,
           "coefficient": 1,
           "columnConfigurationMap": {
            "series": {
             "column": "date",
             "id": "column_80ec3a0b110"
            },
            "x": {
             "column": "operation",
             "id": "column_80ec3a0b97"
            },
            "y": [
             {
              "column": "actual_count_status_1",
              "id": "column_80ec3a0b99",
              "transform": "SUM"
             },
             {
              "column": "total_expected_count",
              "id": "column_80ec3a0b102",
              "transform": "SUM"
             },
             {
              "column": "actual_count_status_0",
              "id": "column_80ec3a0b105",
              "transform": "SUM"
             }
            ]
           },
           "dateTimeFormat": "DD/MM/YYYY HH:mm",
           "direction": {
            "type": "counterclockwise"
           },
           "error_y": {
            "type": "data",
            "visible": true
           },
           "globalSeriesType": "column",
           "isAggregationOn": true,
           "legend": {
            "traceorder": "normal"
           },
           "missingValuesAsZero": true,
           "numberFormat": "0,0.[00000]",
           "percentFormat": "0[.]00%",
           "series": {
            "error_y": {
             "type": "data",
             "visible": true
            },
            "stacking": null
           },
           "seriesOptions": {
            "23Apr2025, SUM(actual_count_status_0)": {
             "name": "Sum of status = 0"
            },
            "23Apr2025, SUM(actual_count_status_1)": {
             "name": "Sum of status = 1"
            },
            "23Apr2025, SUM(total_expected_count)": {
             "name": "Sum of total expected count"
            },
            "27Apr2025, SUM(actual_count_status_0)": {
             "name": "Sum of count status = 0"
            },
            "27Apr2025, SUM(actual_count_status_1)": {
             "name": "Sum of count status = 1"
            },
            "27Apr2025, SUM(total_expected_count)": {
             "name": "Sum of total expected rows"
            },
            "column_80ec3a0b102": {
             "type": "column",
             "yAxis": 0
            },
            "column_80ec3a0b105": {
             "type": "column",
             "yAxis": 0
            },
            "column_80ec3a0b108": {
             "type": "column",
             "yAxis": 0
            },
            "column_80ec3a0b99": {
             "type": "column",
             "yAxis": 0
            }
           },
           "showDataLabels": true,
           "sizemode": "diameter",
           "sortX": true,
           "sortY": true,
           "swappedAxes": false,
           "textFormat": "",
           "useAggregationsUi": true,
           "valuesOptions": {},
           "version": 2,
           "xAxis": {
            "labels": {
             "enabled": false
            },
            "type": "-"
           },
           "yAxis": [
            {
             "title": {
              "text": "SUM of operation values"
             },
             "type": "-"
            },
            {
             "opposite": true,
             "type": "-"
            }
           ]
          }
         }
        ]
       },
       "datasetPreviewNameToCmdIdMap": {},
       "diffDeletes": [],
       "diffInserts": [],
       "displayType": "redashChart",
       "error": null,
       "errorDetails": null,
       "errorSummary": null,
       "errorTraceType": null,
       "finishTime": 0,
       "globalVars": {},
       "guid": "",
       "height": "auto",
       "hideCommandCode": false,
       "hideCommandResult": false,
       "iPythonMetadata": null,
       "inputWidgets": {},
       "isLockedInExamMode": false,
       "latestUser": "a user",
       "latestUserId": null,
       "listResultMetadata": null,
       "metadata": {},
       "nuid": "d9b7e24e-8765-455c-9786-9cf1ffb3a724",
       "origId": 0,
       "parentHierarchy": [],
       "pivotAggregation": null,
       "pivotColumns": null,
       "position": 4,
       "resultDbfsErrorMessage": null,
       "resultDbfsStatus": "INLINED_IN_TREE",
       "results": null,
       "showCommandTitle": false,
       "startTime": 0,
       "state": "input",
       "streamStates": {},
       "subcommandOptions": {
        "queryPlan": {
         "groups": [
          {
           "column": "date",
           "type": "column"
          },
          {
           "column": "operation",
           "type": "column"
          }
         ],
         "selects": [
          {
           "column": "date",
           "type": "column"
          },
          {
           "column": "operation",
           "type": "column"
          },
          {
           "alias": "column_80ec3a0b99",
           "args": [
            {
             "column": "actual_count_status_1",
             "type": "column"
            }
           ],
           "function": "SUM",
           "type": "function"
          },
          {
           "alias": "column_80ec3a0b102",
           "args": [
            {
             "column": "total_expected_count",
             "type": "column"
            }
           ],
           "function": "SUM",
           "type": "function"
          },
          {
           "alias": "column_80ec3a0b105",
           "args": [
            {
             "column": "actual_count_status_0",
             "type": "column"
            }
           ],
           "function": "SUM",
           "type": "function"
          }
         ]
        }
       },
       "submitTime": 0,
       "subtype": "tableResultSubCmd.visualization",
       "tableResultIndex": 0,
       "tableResultSettingsMap": {},
       "useConsistentColors": false,
       "version": "CommandV1",
       "width": "auto",
       "workflows": null,
       "xColumns": null,
       "yColumns": null
      }
     },
     "output_type": "display_data"
    }
   ],
   "source": [
    "%sql\n",
    "\n",
    "SELECT  DATE_FORMAT(Process_time, 'ddMMMyyyy') as date,\n",
    "        operation,\n",
    "        COUNT(*) as total_expected_count,\n",
    "        COUNT(CASE WHEN status = 1 THEN 1 END) as actual_count_status_1,\n",
    "        COUNT(CASE WHEN status = 0 THEN 1 END) as actual_count_status_0,\n",
    "        COUNT(CASE WHEN status IS NULL THEN 1 END) as count_status_null\n",
    "\n",
    "FROM ariauta_create_record\n",
    "\n",
    "GROUP BY DATE_FORMAT(Process_time, 'ddMMMyyyy'), operation"
   ]
  },
  {
   "cell_type": "markdown",
   "metadata": {
    "application/vnd.databricks.v1+cell": {
     "cellMetadata": {},
     "inputWidgets": {},
     "nuid": "bbcdaf19-0092-49f0-b199-6099506ce81a",
     "showTitle": false,
     "tableResultSettingsMap": {},
     "title": ""
    }
   },
   "source": [
    "***INPUT UPLOAD AUDIT DATA***"
   ]
  },
  {
   "cell_type": "code",
   "execution_count": 0,
   "metadata": {
    "application/vnd.databricks.v1+cell": {
     "cellMetadata": {
      "byteLimit": 2048000,
      "rowLimit": 10000
     },
     "inputWidgets": {},
     "nuid": "927351ad-2345-49ec-b5b5-23f4fdd8136c",
     "showTitle": false,
     "tableResultSettingsMap": {},
     "title": ""
    }
   },
   "outputs": [],
   "source": [
    "df_input_upload_data = spark.read.format(\"delta\").load(\"abfss://silver@ingest00curatedsbox.dfs.core.windows.net/ARIADM/ARM/response/APPEALS/ARIAUTA/input_upload/\")\n",
    "df_input_upload_data.createOrReplaceTempView(\"ariauta_input_upload\")"
   ]
  },
  {
   "cell_type": "code",
   "execution_count": 0,
   "metadata": {
    "application/vnd.databricks.v1+cell": {
     "cellMetadata": {
      "byteLimit": 2048000,
      "implicitDf": true,
      "rowLimit": 10000
     },
     "inputWidgets": {},
     "nuid": "e4888916-3515-4de3-9ff9-a55dc8d93a81",
     "showTitle": false,
     "tableResultSettingsMap": {},
     "title": ""
    }
   },
   "outputs": [
    {
     "data": {
      "text/plain": [
       "Databricks visualization. Run in Databricks to view."
      ]
     },
     "metadata": {
      "application/vnd.databricks.v1.subcommand+json": {
       "baseErrorDetails": null,
       "bindings": {},
       "collapsed": false,
       "command": "%sql\n\nSELECT  DATE_FORMAT(timestamp, 'ddMMMyyyy') as date,\n        operation,\n        COUNT(*) as total_expected_count,\n        COUNT(CASE WHEN status = 1 THEN 1 END) as actual_count_status_1,\n        COUNT(CASE WHEN status = 0 THEN 1 END) as actual_count_status_0,\n        COUNT(CASE WHEN status IS NULL THEN 1 END) as count_status_null\n\nFROM joh_input_upload\n\nGROUP BY DATE_FORMAT(timestamp, 'ddMMMyyyy'), operation",
       "commandTitle": "Visualization 1",
       "commandType": "auto",
       "commandVersion": 0,
       "commentThread": [],
       "commentsVisible": false,
       "contentSha256Hex": null,
       "customPlotOptions": {
        "redashChart": [
         {
          "key": "type",
          "value": "DETAILS"
         },
         {
          "key": "options",
          "value": {
           "columns": [
            {
             "name": "date",
             "title": "date",
             "type": "string"
            },
            {
             "name": "operation",
             "title": "operation",
             "type": "string"
            },
            {
             "name": "total_expected_count",
             "title": "total_expected_count",
             "type": "integer"
            },
            {
             "name": "actual_count_status_1",
             "title": "actual_count_status_1",
             "type": "integer"
            },
            {
             "name": "actual_count_status_0",
             "title": "actual_count_status_0",
             "type": "integer"
            },
            {
             "name": "count_status_null",
             "title": "count_status_null",
             "type": "integer"
            }
           ],
           "version": 1
          }
         }
        ]
       },
       "datasetPreviewNameToCmdIdMap": {},
       "diffDeletes": [],
       "diffInserts": [],
       "displayType": "redashChart",
       "error": null,
       "errorDetails": null,
       "errorSummary": null,
       "errorTraceType": null,
       "finishTime": 0,
       "globalVars": {},
       "guid": "",
       "height": "auto",
       "hideCommandCode": false,
       "hideCommandResult": false,
       "iPythonMetadata": null,
       "inputWidgets": {},
       "isLockedInExamMode": false,
       "latestUser": "a user",
       "latestUserId": null,
       "listResultMetadata": null,
       "metadata": {},
       "nuid": "5ee5380e-8e92-4038-9254-45c90e5d6c73",
       "origId": 0,
       "parentHierarchy": [],
       "pivotAggregation": null,
       "pivotColumns": null,
       "position": 7,
       "resultDbfsErrorMessage": null,
       "resultDbfsStatus": "INLINED_IN_TREE",
       "results": null,
       "showCommandTitle": false,
       "startTime": 0,
       "state": "input",
       "streamStates": {},
       "subcommandOptions": {},
       "submitTime": 0,
       "subtype": "tableResultSubCmd.visualization",
       "tableResultIndex": 0,
       "tableResultSettingsMap": {},
       "useConsistentColors": false,
       "version": "CommandV1",
       "width": "auto",
       "workflows": null,
       "xColumns": null,
       "yColumns": null
      }
     },
     "output_type": "display_data"
    }
   ],
   "source": [
    "%sql\n",
    "\n",
    "SELECT  DATE_FORMAT(timestamp, 'ddMMMyyyy') as date,\n",
    "        operation,\n",
    "        COUNT(*) as total_expected_count,\n",
    "        COUNT(CASE WHEN status = 1 THEN 1 END) as actual_count_status_1,\n",
    "        COUNT(CASE WHEN status = 0 THEN 1 END) as actual_count_status_0,\n",
    "        COUNT(CASE WHEN status IS NULL THEN 1 END) as count_status_null\n",
    "\n",
    "FROM ariauta_input_upload\n",
    "\n",
    "GROUP BY DATE_FORMAT(timestamp, 'ddMMMyyyy'), operation"
   ]
  },
  {
   "cell_type": "markdown",
   "metadata": {
    "application/vnd.databricks.v1+cell": {
     "cellMetadata": {},
     "inputWidgets": {},
     "nuid": "4f4ac63d-207c-4b57-9cc6-695d7cdbe2be",
     "showTitle": false,
     "tableResultSettingsMap": {},
     "title": ""
    }
   },
   "source": [
    "***UPLOAD FILE***"
   ]
  },
  {
   "cell_type": "code",
   "execution_count": 0,
   "metadata": {
    "application/vnd.databricks.v1+cell": {
     "cellMetadata": {
      "byteLimit": 2048000,
      "rowLimit": 10000
     },
     "inputWidgets": {},
     "nuid": "fd150939-5dc4-499d-aac9-d1cf261216b0",
     "showTitle": false,
     "tableResultSettingsMap": {},
     "title": ""
    }
   },
   "outputs": [],
   "source": [
    "df_upload_file_data = spark.read.format(\"delta\").load(\"abfss://silver@ingest00curatedsbox.dfs.core.windows.net/ARIADM/ARM/response/APPEALS/ARIAUTA/upload_file/\")\n",
    "df_upload_file_data.createOrReplaceTempView(\"ariauta_upload_file\")"
   ]
  },
  {
   "cell_type": "code",
   "execution_count": 0,
   "metadata": {
    "application/vnd.databricks.v1+cell": {
     "cellMetadata": {
      "byteLimit": 2048000,
      "implicitDf": true,
      "rowLimit": 10000
     },
     "inputWidgets": {},
     "nuid": "d45f8d35-b4f2-412e-9654-454bb6eebf73",
     "showTitle": false,
     "tableResultSettingsMap": {},
     "title": ""
    }
   },
   "outputs": [
    {
     "data": {
      "text/plain": [
       "Databricks visualization. Run in Databricks to view."
      ]
     },
     "metadata": {
      "application/vnd.databricks.v1.subcommand+json": {
       "baseErrorDetails": null,
       "bindings": {},
       "collapsed": false,
       "command": "%sql WITH q AS (SELECT  DATE_FORMAT(process_time, 'ddMMMyyyy') as date,\n        operation,\n        COUNT(*) as total_expected_count,\n        SUM(CASE WHEN status = 1 THEN 1 END) as actual_count_status_1,\n        SUM(CASE WHEN status = 0 THEN 1 END) as actual_count_status_0,\n        SUM(CASE WHEN status IS NULL THEN 1 END) as count_status_null\n\nFROM joh_upload_file\n\nGROUP BY DATE_FORMAT(process_time, 'ddMMMyyyy'), operation) SELECT `operation`,SUM(`total_expected_count`) `column_80ec3a0b119`,SUM(`actual_count_status_1`) `column_80ec3a0b122`,SUM(`actual_count_status_0`) `column_80ec3a0b125`,`date` FROM q GROUP BY `date`,`operation`",
       "commandTitle": "Visualization 1",
       "commandType": "auto",
       "commandVersion": 0,
       "commentThread": [],
       "commentsVisible": false,
       "contentSha256Hex": null,
       "customPlotOptions": {
        "redashChart": [
         {
          "key": "type",
          "value": "CHART"
         },
         {
          "key": "options",
          "value": {
           "alignYAxesAtZero": true,
           "coefficient": 1,
           "columnConfigurationMap": {
            "series": {
             "column": "date",
             "id": "column_80ec3a0b127"
            },
            "x": {
             "column": "operation",
             "id": "column_80ec3a0b117"
            },
            "y": [
             {
              "column": "total_expected_count",
              "id": "column_80ec3a0b119",
              "transform": "SUM"
             },
             {
              "column": "actual_count_status_1",
              "id": "column_80ec3a0b122",
              "transform": "SUM"
             },
             {
              "column": "actual_count_status_0",
              "id": "column_80ec3a0b125",
              "transform": "SUM"
             }
            ]
           },
           "dateTimeFormat": "DD/MM/YYYY HH:mm",
           "direction": {
            "type": "counterclockwise"
           },
           "error_y": {
            "type": "data",
            "visible": true
           },
           "globalSeriesType": "column",
           "hideYAxes": false,
           "isAggregationOn": true,
           "legend": {
            "traceorder": "normal"
           },
           "missingValuesAsZero": true,
           "numberFormat": "0,0.[00000]",
           "percentFormat": "0[.]00%",
           "series": {
            "error_y": {
             "type": "data",
             "visible": true
            },
            "stacking": null
           },
           "seriesOptions": {
            "23Apr2025, SUM(actual_count_status_0)": {
             "name": "Sum of status = 0"
            },
            "23Apr2025, SUM(actual_count_status_1)": {
             "name": "Sum of status = 1"
            },
            "23Apr2025, SUM(total_expected_count)": {
             "name": "Sum of total expected rows"
            },
            "27Apr2025, SUM(actual_count_status_0)": {
             "name": "Sum of status = 0"
            },
            "27Apr2025, SUM(actual_count_status_1)": {
             "name": "Sum of status = 1"
            },
            "27Apr2025, SUM(total_expected_count)": {
             "name": "Sum of total expected rows"
            },
            "column_80ec3a0b119": {
             "type": "column",
             "yAxis": 0
            },
            "column_80ec3a0b122": {
             "type": "column",
             "yAxis": 0
            },
            "column_80ec3a0b125": {
             "type": "column",
             "yAxis": 0
            }
           },
           "showDataLabels": true,
           "sizemode": "diameter",
           "sortX": true,
           "sortY": true,
           "swappedAxes": true,
           "textFormat": "",
           "useAggregationsUi": true,
           "valuesOptions": {},
           "version": 2,
           "xAxis": {
            "labels": {
             "enabled": false
            },
            "type": "-"
           },
           "yAxis": [
            {
             "title": {
              "text": "Sum of status values"
             },
             "type": "-"
            },
            {
             "opposite": true,
             "type": "-"
            }
           ]
          }
         }
        ]
       },
       "datasetPreviewNameToCmdIdMap": {},
       "diffDeletes": [],
       "diffInserts": [],
       "displayType": "redashChart",
       "error": null,
       "errorDetails": null,
       "errorSummary": null,
       "errorTraceType": null,
       "finishTime": 0,
       "globalVars": {},
       "guid": "",
       "height": "auto",
       "hideCommandCode": false,
       "hideCommandResult": false,
       "iPythonMetadata": null,
       "inputWidgets": {},
       "isLockedInExamMode": false,
       "latestUser": "a user",
       "latestUserId": null,
       "listResultMetadata": null,
       "metadata": {},
       "nuid": "a55ca6f4-a489-452a-b610-c9b01fab44b4",
       "origId": 0,
       "parentHierarchy": [],
       "pivotAggregation": null,
       "pivotColumns": null,
       "position": 9,
       "resultDbfsErrorMessage": null,
       "resultDbfsStatus": "INLINED_IN_TREE",
       "results": null,
       "showCommandTitle": false,
       "startTime": 0,
       "state": "input",
       "streamStates": {},
       "subcommandOptions": {
        "queryPlan": {
         "groups": [
          {
           "column": "date",
           "type": "column"
          },
          {
           "column": "operation",
           "type": "column"
          }
         ],
         "selects": [
          {
           "column": "date",
           "type": "column"
          },
          {
           "column": "operation",
           "type": "column"
          },
          {
           "alias": "column_80ec3a0b119",
           "args": [
            {
             "column": "total_expected_count",
             "type": "column"
            }
           ],
           "function": "SUM",
           "type": "function"
          },
          {
           "alias": "column_80ec3a0b122",
           "args": [
            {
             "column": "actual_count_status_1",
             "type": "column"
            }
           ],
           "function": "SUM",
           "type": "function"
          },
          {
           "alias": "column_80ec3a0b125",
           "args": [
            {
             "column": "actual_count_status_0",
             "type": "column"
            }
           ],
           "function": "SUM",
           "type": "function"
          }
         ]
        }
       },
       "submitTime": 0,
       "subtype": "tableResultSubCmd.visualization",
       "tableResultIndex": 0,
       "tableResultSettingsMap": {},
       "useConsistentColors": false,
       "version": "CommandV1",
       "width": "auto",
       "workflows": null,
       "xColumns": null,
       "yColumns": null
      }
     },
     "output_type": "display_data"
    }
   ],
   "source": [
    "%sql\n",
    "\n",
    "SELECT  DATE_FORMAT(process_time, 'ddMMMyyyy') as date,\n",
    "        operation,\n",
    "        COUNT(*) as total_expected_count,\n",
    "        SUM(CASE WHEN status = 1 THEN 1 END) as actual_count_status_1,\n",
    "        SUM(CASE WHEN status = 0 THEN 1 END) as actual_count_status_0,\n",
    "        SUM(CASE WHEN status IS NULL THEN 1 END) as count_status_null\n",
    "\n",
    "FROM ariauta_upload_file\n",
    "\n",
    "GROUP BY DATE_FORMAT(process_time, 'ddMMMyyyy'), operation"
   ]
  },
  {
   "cell_type": "markdown",
   "metadata": {
    "application/vnd.databricks.v1+cell": {
     "cellMetadata": {},
     "inputWidgets": {},
     "nuid": "285b9a92-489e-404b-9215-c49c18837f75",
     "showTitle": false,
     "tableResultSettingsMap": {},
     "title": ""
    }
   },
   "source": [
    "***AMALGAMATED AUDIT DATA***"
   ]
  },
  {
   "cell_type": "code",
   "execution_count": 0,
   "metadata": {
    "application/vnd.databricks.v1+cell": {
     "cellMetadata": {
      "byteLimit": 2048000,
      "rowLimit": 10000
     },
     "inputWidgets": {},
     "nuid": "ba58c9f9-8c40-420d-8f9f-7c11d9631bf6",
     "showTitle": false,
     "tableResultSettingsMap": {},
     "title": ""
    }
   },
   "outputs": [],
   "source": [
    "df_amalgamated_response_data = spark.read.format(\"delta\").load(\"abfss://silver@ingest00curatedsbox.dfs.core.windows.net/ARIADM/ARM/response/APPEALS/ARIAUTA/amalgamated_responses/\")\n",
    "df_amalgamated_response_data.createOrReplaceTempView(\"ariauta_amalgamated_response_data\")"
   ]
  },
  {
   "cell_type": "code",
   "execution_count": 0,
   "metadata": {
    "application/vnd.databricks.v1+cell": {
     "cellMetadata": {
      "byteLimit": 2048000,
      "implicitDf": true,
      "rowLimit": 10000
     },
     "inputWidgets": {},
     "nuid": "a1bc1c28-26b4-41ba-be29-1fdd1edc6de6",
     "showTitle": false,
     "tableResultSettingsMap": {},
     "title": ""
    }
   },
   "outputs": [],
   "source": [
    "%sql \n",
    "\n",
    "SELECT \n",
    "        DATE_FORMAT(process_time, 'ddMMMyyyy') as date,\n",
    "        operation,\n",
    "        COUNT(CASE WHEN operation = 'create_record' THEN 1 END) AS count_of_create_record,\n",
    "        COUNT(CASE WHEN operation = 'upload_new_file' THEN 1 END) AS count_of_upload_new_file,\n",
    "        COUNT(CASE WHEN operation = 'input_upload' THEN 1 END) AS count_of_input_upload,\n",
    "        COUNT(CASE WHEN status = 1 THEN 1 END) AS count_of_active,\n",
    "        COUNT(*) AS total_expected_count\n",
    "\n",
    " FROM ariauta_amalgamated_response_data\n",
    "\n",
    " GROUP BY DATE_FORMAT(process_time, 'ddMMMyyyy'), operation"
   ]
  },
  {
   "cell_type": "code",
   "execution_count": 0,
   "metadata": {
    "application/vnd.databricks.v1+cell": {
     "cellMetadata": {
      "byteLimit": 2048000,
      "implicitDf": true,
      "rowLimit": 10000
     },
     "inputWidgets": {},
     "nuid": "a67c3d2d-6404-499e-b8cb-c7a59a9ff720",
     "showTitle": false,
     "tableResultSettingsMap": {},
     "title": ""
    }
   },
   "outputs": [],
   "source": [
    "%sql\n",
    "\n",
    "\n",
    "SELECT * FROM ariauta_amalgamated_response_data"
   ]
  }
 ],
 "metadata": {
  "application/vnd.databricks.v1+notebook": {
   "computePreferences": null,
   "dashboards": [
    {
     "elements": [
      {
       "dashboardResultIndex": null,
       "elementNUID": "d9b7e24e-8765-455c-9786-9cf1ffb3a724",
       "elementType": "command",
       "guid": "170c94f8-e319-422c-9608-a5262d33c71b",
       "options": {
        "autoScaleImg": false,
        "scale": 0,
        "showTitle": true,
        "title": "UTA Create Record Audit Data",
        "titleAlign": "center"
       },
       "position": {
        "height": 6,
        "width": 12,
        "x": 0,
        "y": 0,
        "z": null
       },
       "resultIndex": null
      },
      {
       "dashboardResultIndex": 0,
       "elementNUID": "a67c3d2d-6404-499e-b8cb-c7a59a9ff720",
       "elementType": "command",
       "guid": "28f2a44a-47e6-4762-85e1-ef9da23bef58",
       "options": {
        "autoScaleImg": false,
        "scale": 0,
        "showTitle": true,
        "title": "UTA Amalgamated Audit Data",
        "titleAlign": "center"
       },
       "position": {
        "height": 6,
        "width": 24,
        "x": 0,
        "y": 12,
        "z": null
       },
       "resultIndex": null
      },
      {
       "dashboardResultIndex": null,
       "elementNUID": "5ee5380e-8e92-4038-9254-45c90e5d6c73",
       "elementType": "command",
       "guid": "d83d6d59-c90f-4bcf-a0e6-cc6e8cc6024f",
       "options": {
        "autoScaleImg": false,
        "scale": 0,
        "showTitle": true,
        "title": "UTA Input Upload Audit Data",
        "titleAlign": "center"
       },
       "position": {
        "height": 6,
        "width": 12,
        "x": 12,
        "y": 0,
        "z": null
       },
       "resultIndex": null
      },
      {
       "dashboardResultIndex": null,
       "elementNUID": "a55ca6f4-a489-452a-b610-c9b01fab44b4",
       "elementType": "command",
       "guid": "fe99c542-aebd-4ce0-8bf9-813589f177fd",
       "options": {
        "autoScaleImg": false,
        "scale": 0,
        "showTitle": true,
        "title": "UTA Upload File Audit Data",
        "titleAlign": "center"
       },
       "position": {
        "height": 6,
        "width": 24,
        "x": 0,
        "y": 6,
        "z": null
       },
       "resultIndex": null
      }
     ],
     "globalVars": {},
     "guid": "",
     "layoutOption": {
      "grid": true,
      "stack": true
     },
     "nuid": "e4d73918-2994-425e-beb4-5256fb9c2250",
     "origId": 2752775492407181,
     "title": "UTA Receive Dashboard",
     "version": "DashboardViewV1",
     "width": 1024
    }
   ],
   "environmentMetadata": {
    "base_environment": "",
    "environment_version": "2"
   },
   "inputWidgetPreferences": null,
   "language": "python",
   "notebookMetadata": {
    "mostRecentlyExecutedCommandWithImplicitDF": {
     "commandId": 2752775492407179,
     "dataframes": [
      "_sqldf"
     ]
    },
    "pythonIndentUnit": 4
   },
   "notebookName": "UTA_Receive_Audit_Dashboard",
   "widgets": {}
  },
  "language_info": {
   "name": "python"
  }
 },
 "nbformat": 4,
 "nbformat_minor": 0
}
