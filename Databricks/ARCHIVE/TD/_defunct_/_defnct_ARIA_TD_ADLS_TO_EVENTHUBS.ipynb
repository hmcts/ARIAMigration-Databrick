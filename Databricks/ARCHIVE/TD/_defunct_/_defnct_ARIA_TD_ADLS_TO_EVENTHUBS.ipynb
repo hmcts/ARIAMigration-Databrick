{
 "cells": [
  {
   "cell_type": "code",
   "execution_count": 0,
   "metadata": {
    "application/vnd.databricks.v1+cell": {
     "cellMetadata": {
      "byteLimit": 2048000,
      "rowLimit": 10000
     },
     "inputWidgets": {},
     "nuid": "971d01f4-9654-4671-91ff-b2b6e49d88bc",
     "showTitle": false,
     "tableResultSettingsMap": {},
     "title": ""
    }
   },
   "outputs": [],
   "source": [
    "from confluent_kafka import Producer\n",
    "import json\n",
    "from  itertools import islice\n",
    "import numpy as np\n",
    "from pyspark.sql.functions import col, decode, split, element_at,udf\n",
    "import logging\n",
    "from pyspark.sql.types import StructType, StructField, StringType\n",
    "from pyspark import SparkContext\n"
   ]
  },
  {
   "cell_type": "markdown",
   "metadata": {
    "application/vnd.databricks.v1+cell": {
     "cellMetadata": {
      "byteLimit": 2048000,
      "rowLimit": 10000
     },
     "inputWidgets": {},
     "nuid": "ca5d0732-52ee-47db-8fc2-e2cd9efaac84",
     "showTitle": false,
     "tableResultSettingsMap": {},
     "title": ""
    }
   },
   "source": [
    "## Read in HTML and JSON files"
   ]
  },
  {
   "cell_type": "code",
   "execution_count": 0,
   "metadata": {
    "application/vnd.databricks.v1+cell": {
     "cellMetadata": {
      "byteLimit": 2048000,
      "rowLimit": 10000
     },
     "inputWidgets": {},
     "nuid": "0a41ea18-a1ef-4126-9f92-363cc05a0761",
     "showTitle": false,
     "tableResultSettingsMap": {},
     "title": ""
    }
   },
   "outputs": [],
   "source": [
    "eh_kv_secret = dbutils.secrets.get(scope=\"ingest00-meta002-sbox\", key=\"EventHubNamespace-ConnStr\")"
   ]
  },
  {
   "cell_type": "code",
   "execution_count": 0,
   "metadata": {
    "application/vnd.databricks.v1+cell": {
     "cellMetadata": {
      "byteLimit": 2048000,
      "rowLimit": 10000
     },
     "inputWidgets": {},
     "nuid": "625208fc-4823-45f7-8e56-5338370ef88a",
     "showTitle": false,
     "tableResultSettingsMap": {},
     "title": ""
    }
   },
   "outputs": [],
   "source": [
    "from pyspark.sql import SparkSession\n",
    "from pyspark.sql.functions import col, split, element_at\n",
    "from pyspark.sql.types import StructType, StructField, StringType\n",
    "from pyspark import SparkContext\n",
    "\n",
    "\n",
    "\n",
    "# Event Hub configurations\n",
    "eventhubs_hostname = \"sbox-dlrm-eventhub-ns.servicebus.windows.net:9093\"\n",
    "# conf = {\n",
    "#     'bootstrap.servers': eventhubs_hostname,\n",
    "#     'security.protocol': 'SASL_SSL',\n",
    "#     'sasl.mechanism': 'PLAIN',\n",
    "#     'sasl.username': '$ConnectionString',\n",
    "#     # 'sasl.password': \"Endpoint=sb://sbox-dlrm-eventhub-ns.servicebus.windows.net/;SharedAccessKeyName=RootManageSharedAccessKey;SharedAccessKey=\" ,\n",
    "#     'sasl.password': eh_kv_secret,\n",
    "#     'retries': 5,                     # Increased retries\n",
    "#     'enable.idempotence': True,        # Enable idempotent producer\n",
    "# }\n",
    "# broadcast_conf = sc.broadcast(conf)\n",
    "\n"
   ]
  },
  {
   "cell_type": "code",
   "execution_count": 0,
   "metadata": {
    "application/vnd.databricks.v1+cell": {
     "cellMetadata": {
      "byteLimit": 2048000,
      "rowLimit": 10000
     },
     "inputWidgets": {},
     "nuid": "9f6cb218-b174-495b-877f-bf882def0356",
     "showTitle": false,
     "tableResultSettingsMap": {},
     "title": ""
    }
   },
   "outputs": [],
   "source": [
    "conf = {\n",
    "    'bootstrap.servers': eventhubs_hostname,\n",
    "    'security.protocol': 'SASL_SSL',\n",
    "    'sasl.mechanism': 'PLAIN',\n",
    "    'sasl.username': '$ConnectionString',\n",
    "    'sasl.password': eh_kv_secret,\n",
    "    'acks': 'all',                    # Ensure data durability\n",
    "    'request.timeout.ms': 120000,      # Increase request timeout (default ~30 sec)\n",
    "    'retries': 10,                     # Increase retries (from 5)\n",
    "    'retry.backoff.ms': 1000,          # Wait 1 sec before retrying\n",
    "    'linger.ms': 50,                   # Reduce latency (default ~0)\n",
    "    'batch.size': 32768,               # Increase batch size for throughput\n",
    "    'enable.idempotence': True,        # Prevent duplicate messages\n",
    "    'compression.type': 'snappy',      # Optimize event size\n",
    "}\n"
   ]
  },
  {
   "cell_type": "code",
   "execution_count": 0,
   "metadata": {
    "application/vnd.databricks.v1+cell": {
     "cellMetadata": {
      "byteLimit": 2048000,
      "rowLimit": 10000
     },
     "inputWidgets": {},
     "nuid": "7f01fafd-ed67-4e00-8681-55e0916b98ee",
     "showTitle": false,
     "tableResultSettingsMap": {},
     "title": ""
    }
   },
   "outputs": [],
   "source": [
    "# Read and prepare data HTML files\n",
    "json_mount = '/mnt/ingest00curatedsboxgold/ARIADM/ARM/ARIATD/'\n",
    "binary_df = spark.read.format('binaryFile') \\\n",
    "                     .option('pathGlobFilter', '*.{html,json}') \\\n",
    "                     .option('recursiveFileLookup', 'true') \\\n",
    "                     .load(json_mount) \\\n",
    "                    #  .limit(10000)"
   ]
  },
  {
   "cell_type": "code",
   "execution_count": 0,
   "metadata": {
    "application/vnd.databricks.v1+cell": {
     "cellMetadata": {
      "byteLimit": 2048000,
      "rowLimit": 10000
     },
     "inputWidgets": {},
     "nuid": "24c2aef4-dec0-43e7-8d12-c118e0c7a812",
     "showTitle": false,
     "tableResultSettingsMap": {},
     "title": ""
    }
   },
   "outputs": [],
   "source": [
    "# Read and prepare data HTML files\n",
    "# json_mount = '/mnt/ingest00curatedsboxgold/ARIADM/ARM/TD/'\n",
    "# binary_df = spark.read.format('binaryFile') \\\n",
    "#                      .option('pathGlobFilter', '*.{html,json}') \\\n",
    "#                      .option('recursiveFileLookup', 'true') \\\n",
    "#                      .load(json_mount)\n",
    "\n",
    "\n",
    "\n",
    "html_df = binary_df.withColumn(\"content_str\", decode(col('content'), 'utf-8')) \\\n",
    "                   .withColumn('file_path', element_at(split(col('path'), '/'), -1))\n",
    "html_df = html_df.select('content_str','file_path')\n",
    "\n",
    "# # Repartition based on cluster resources\n",
    "# num_spark_partitions =  8\n",
    "# optimized_html_df = html_df.repartition(num_spark_partitions)\n",
    "\n",
    "html_df.display()"
   ]
  },
  {
   "cell_type": "markdown",
   "metadata": {
    "application/vnd.databricks.v1+cell": {
     "cellMetadata": {
      "byteLimit": 2048000,
      "rowLimit": 10000
     },
     "inputWidgets": {},
     "nuid": "d99f4b22-2d4c-4550-9959-219d94d18973",
     "showTitle": false,
     "tableResultSettingsMap": {},
     "title": ""
    }
   },
   "source": [
    "## Send to EventHubs"
   ]
  },
  {
   "cell_type": "code",
   "execution_count": 0,
   "metadata": {
    "application/vnd.databricks.v1+cell": {
     "cellMetadata": {
      "byteLimit": 2048000,
      "rowLimit": 10000
     },
     "inputWidgets": {},
     "nuid": "9936986e-646e-41a0-af3a-b6854c68b8e9",
     "showTitle": false,
     "tableResultSettingsMap": {},
     "title": ""
    }
   },
   "outputs": [],
   "source": [
    "num_cores = spark.sparkContext.defaultParallelism  # Get available cores\n",
    "optimal_partitions = 16 * 2  # 2x cores for parallelism\n",
    "# repartitioned_df = df_combined.repartition(optimal_partitions)\n",
    "optimal_partitions"
   ]
  },
  {
   "cell_type": "code",
   "execution_count": 0,
   "metadata": {
    "application/vnd.databricks.v1+cell": {
     "cellMetadata": {
      "byteLimit": 2048000,
      "rowLimit": 10000
     },
     "inputWidgets": {},
     "nuid": "3e6df5e0-b6ae-481f-a221-a7bcd2a64141",
     "showTitle": false,
     "tableResultSettingsMap": {},
     "title": ""
    }
   },
   "outputs": [],
   "source": [
    "# Repartition based on cluster resources\n",
    "num_spark_partitions =  8\n",
    "optimized_html_df = html_df.repartition(optimal_partitions)"
   ]
  },
  {
   "cell_type": "code",
   "execution_count": 0,
   "metadata": {
    "application/vnd.databricks.v1+cell": {
     "cellMetadata": {
      "byteLimit": 2048000,
      "rowLimit": 10000
     },
     "inputWidgets": {},
     "nuid": "2cacfef9-1522-43f8-ad26-82864f1c6bce",
     "showTitle": false,
     "tableResultSettingsMap": {},
     "title": ""
    }
   },
   "outputs": [],
   "source": [
    "def process_partition(partition):\n",
    "    import logging\n",
    "    from confluent_kafka import Producer\n",
    "\n",
    "    # Initialize logger\n",
    "    logging.basicConfig(level=logging.INFO)\n",
    "    logger = logging.getLogger('KafkaProducer')\n",
    "    \n",
    "    failure_list = []\n",
    "    success_list = []\n",
    "    results = []\n",
    "\n",
    "    # Initialize producer\n",
    "    producer = Producer(**broadcast_conf.value)\n",
    "\n",
    "    def delivery_report(err, msg):\n",
    "        key_str = msg.key().decode('utf-8') if msg.key() is not None else \"Unknown\"\n",
    "        if err is not None:\n",
    "            err_msg = str(err)\n",
    "            logger.error(f\"Message delivery failed for key {key_str}: {err}\")\n",
    "            failure_list.append((key_str, \"failure\", err_msg))\n",
    "        else:\n",
    "            success_list.append((key_str, \"success\", \"\"))\n",
    "\n",
    "    for row in partition:\n",
    "        if row.file_path is None or row.content_str is None:\n",
    "            logger.warning(f\"Skipping row with missing file_path/content_str: {row}\")\n",
    "            continue\n",
    "\n",
    "        try:\n",
    "            if isinstance(row.content_str, str):\n",
    "                value = row.content_str.encode('utf-8')\n",
    "            elif isinstance(row.content_str, bytearray):\n",
    "                value = bytes(row.content_str)\n",
    "            elif isinstance(row.content_str, bytes):\n",
    "                value = row.content_str\n",
    "            else:\n",
    "                logger.error(f\"Unsupported type for content_str: {type(row.content_str)}\")\n",
    "                failure_list.append((row.file_path, \"failure\", \"Unsupported type\"))\n",
    "                continue\n",
    "\n",
    "            producer.produce(\n",
    "                topic='evh-td-pub-dev-uks-dlrm-01',\n",
    "                key=row.file_path.encode('utf-8'),\n",
    "                value=value,\n",
    "                callback=delivery_report\n",
    "            )\n",
    "\n",
    "        except BufferError:\n",
    "            logger.error(\"Producer buffer full. Polling for events.\")\n",
    "            producer.poll(1)  \n",
    "        except Exception as e:\n",
    "            logger.error(f\"Unexpected error during production: {e}\")\n",
    "            failure_list.append((row.file_path, \"failure\", str(e)))\n",
    "\n",
    "    try:\n",
    "        producer.flush()\n",
    "        logger.info(\"Producer flushed successfully.\")\n",
    "    except Exception as e:\n",
    "        logger.error(f\"Unexpected error during flush: {e}\")\n",
    "\n",
    "    # Append results to list instead of using yield\n",
    "    results.extend(success_list)\n",
    "    results.extend(failure_list)\n",
    "\n",
    "    return results  # Return list instead of using yield\n",
    "\n",
    "# Schema for result DataFrame\n",
    "schema = StructType([\n",
    "    StructField(\"file_name\", StringType(), True),\n",
    "    StructField(\"status\", StringType(), True),\n",
    "    StructField(\"error_message\", StringType(), True)\n",
    "])\n",
    "\n",
    "# Apply the optimized processing\n",
    "result_rdd = optimized_html_df.rdd.mapPartitions(process_partition)\n",
    "\n",
    "# Create DataFrame and show results\n",
    "result_df = spark.createDataFrame(result_rdd, schema)\n",
    "result_df.display()  # Debugging step to verify output"
   ]
  },
  {
   "cell_type": "code",
   "execution_count": 0,
   "metadata": {
    "application/vnd.databricks.v1+cell": {
     "cellMetadata": {
      "byteLimit": 2048000,
      "rowLimit": 10000
     },
     "inputWidgets": {},
     "nuid": "9ea0014f-d416-470f-9d74-15337a6d4b32",
     "showTitle": false,
     "tableResultSettingsMap": {},
     "title": ""
    }
   },
   "outputs": [],
   "source": [
    "# # Display failed files\n",
    "\n",
    "failed_files = result_df.filter(col(\"status\") == \"failure\")\n",
    "\n",
    "display(failed_files)\n"
   ]
  },
  {
   "cell_type": "code",
   "execution_count": 0,
   "metadata": {
    "application/vnd.databricks.v1+cell": {
     "cellMetadata": {
      "byteLimit": 2048000,
      "rowLimit": 10000
     },
     "inputWidgets": {},
     "nuid": "22565815-245f-41ad-9236-a3b384b8f61f",
     "showTitle": false,
     "tableResultSettingsMap": {},
     "title": ""
    }
   },
   "outputs": [],
   "source": [
    "# display(dbutils.fs.ls(\"/mnt/dropzoneariab/ARIAB/submission\"))\n",
    "\n",
    "\n"
   ]
  },
  {
   "cell_type": "code",
   "execution_count": 0,
   "metadata": {
    "application/vnd.databricks.v1+cell": {
     "cellMetadata": {
      "byteLimit": 2048000,
      "rowLimit": 10000
     },
     "inputWidgets": {},
     "nuid": "b0b1c5ac-f480-4b3a-bda6-0471f4b8e153",
     "showTitle": false,
     "tableResultSettingsMap": {},
     "title": ""
    }
   },
   "outputs": [],
   "source": [
    "from pyspark.sql.functions import from_unixtime, lit\n",
    "\n",
    "timestamp = 1739971552000 / 1000\n",
    "datetime_str = from_unixtime(lit(timestamp)).cast(\"timestamp\")\n",
    "\n",
    "display(datetime_str)"
   ]
  },
  {
   "cell_type": "code",
   "execution_count": 0,
   "metadata": {
    "application/vnd.databricks.v1+cell": {
     "cellMetadata": {
      "byteLimit": 2048000,
      "rowLimit": 10000
     },
     "inputWidgets": {},
     "nuid": "757f2c8e-c06e-4421-813c-ab8c7af337d7",
     "showTitle": true,
     "tableResultSettingsMap": {},
     "title": "TD submission"
    }
   },
   "outputs": [],
   "source": [
    "from pyspark.sql.functions import col, from_unixtime\n",
    "\n",
    "files_df = spark.createDataFrame(dbutils.fs.ls(\"/mnt/dropzoneariatd/ARIATD/submission/\"))\n",
    "files_df = files_df.withColumn(\"modificationTime\", from_unixtime(col(\"modificationTime\") / 1000).cast(\"timestamp\"))\n",
    "\n",
    "display(files_df.orderBy(col(\"modificationTime\").desc()))"
   ]
  },
  {
   "cell_type": "code",
   "execution_count": 0,
   "metadata": {
    "application/vnd.databricks.v1+cell": {
     "cellMetadata": {
      "byteLimit": 2048000,
      "rowLimit": 10000
     },
     "inputWidgets": {},
     "nuid": "e190ce73-230c-49bd-ae5b-05e1a62eea95",
     "showTitle": true,
     "tableResultSettingsMap": {},
     "title": "TD submission  count"
    }
   },
   "outputs": [],
   "source": [
    "# display(files_df.count()) #730403 #876098 # 1077781"
   ]
  },
  {
   "cell_type": "code",
   "execution_count": 0,
   "metadata": {
    "application/vnd.databricks.v1+cell": {
     "cellMetadata": {
      "byteLimit": 2048000,
      "rowLimit": 10000
     },
     "inputWidgets": {},
     "nuid": "c44d9c50-e515-475a-843a-c1fbb1bdc152",
     "showTitle": false,
     "tableResultSettingsMap": {},
     "title": ""
    }
   },
   "outputs": [],
   "source": [
    "\n",
    "\n",
    "json_count = files_df.filter(col(\"path\").endswith(\".json\")).count()\n",
    "html_count = files_df.filter(col(\"path\").endswith(\".html\")).count()\n",
    "\n",
    "display(json_count)\n",
    "display(html_count)"
   ]
  },
  {
   "cell_type": "code",
   "execution_count": 0,
   "metadata": {
    "application/vnd.databricks.v1+cell": {
     "cellMetadata": {
      "byteLimit": 2048000,
      "implicitDf": true,
      "rowLimit": 10000
     },
     "inputWidgets": {},
     "nuid": "a6c27b25-ed71-4ab7-9de2-9522ac7aafd8",
     "showTitle": false,
     "tableResultSettingsMap": {},
     "title": ""
    }
   },
   "outputs": [],
   "source": [
    "%sql\n",
    "select count(*) from hive_metastore.ariadm_arm_td.stg_create_td_iris_json_content\n",
    "where JSONStatus not like 'Suc%'"
   ]
  },
  {
   "cell_type": "code",
   "execution_count": 0,
   "metadata": {
    "application/vnd.databricks.v1+cell": {
     "cellMetadata": {
      "byteLimit": 2048000,
      "implicitDf": true,
      "rowLimit": 10000
     },
     "inputWidgets": {},
     "nuid": "aa992495-5add-4bb8-be2b-1452a7b3d3e5",
     "showTitle": false,
     "tableResultSettingsMap": {},
     "title": ""
    }
   },
   "outputs": [],
   "source": [
    "%sql\n",
    "select count(*) from hive_metastore.ariadm_arm_td.stg_create_td_iris_HTML_content\n",
    "-- where HTMLStatus not like 'Suc%'"
   ]
  },
  {
   "cell_type": "code",
   "execution_count": 0,
   "metadata": {
    "application/vnd.databricks.v1+cell": {
     "cellMetadata": {
      "byteLimit": 2048000,
      "rowLimit": 10000
     },
     "inputWidgets": {},
     "nuid": "0fc840ea-808b-4e04-b575-03abd8c611c4",
     "showTitle": false,
     "tableResultSettingsMap": {},
     "title": ""
    }
   },
   "outputs": [],
   "source": [
    "gold_mnt = \"/mnt/ingest00curatedsboxgold/ARIADM/ARM/ARIATD\"\n",
    "display(spark.read.format(\"binaryFile\").load(f\"{gold_mnt}/HTML\").count())\n",
    "display(spark.read.format(\"binaryFile\").load(f\"{gold_mnt}/JSON\").count())\n",
    "display(spark.read.format(\"binaryFile\").load(f\"{gold_mnt}/A360\").count())"
   ]
  },
  {
   "cell_type": "code",
   "execution_count": 0,
   "metadata": {
    "application/vnd.databricks.v1+cell": {
     "cellMetadata": {
      "byteLimit": 2048000,
      "rowLimit": 10000
     },
     "inputWidgets": {},
     "nuid": "54cc9baa-b9b4-4bd1-ad0f-9b3fe4cb395b",
     "showTitle": false,
     "tableResultSettingsMap": {},
     "title": ""
    }
   },
   "outputs": [],
   "source": [
    "from pyspark.sql.functions import col, from_unixtime\n",
    "\n",
    "files_df = spark.createDataFrame(dbutils.fs.ls(\"/mnt/dropzoneariatd/ARIATD/response/\"))\n",
    "files_df = files_df.withColumn(\"modificationTime\", from_unixtime(col(\"modificationTime\") / 1000).cast(\"timestamp\"))\n",
    "\n",
    "display(files_df.orderBy(col(\"modificationTime\").desc()))"
   ]
  },
  {
   "cell_type": "code",
   "execution_count": 0,
   "metadata": {
    "application/vnd.databricks.v1+cell": {
     "cellMetadata": {
      "byteLimit": 2048000,
      "rowLimit": 10000
     },
     "inputWidgets": {},
     "nuid": "daf831eb-0a40-4920-9bae-8d155815e62f",
     "showTitle": false,
     "tableResultSettingsMap": {},
     "title": ""
    }
   },
   "outputs": [],
   "source": [
    "files_df.count()"
   ]
  },
  {
   "cell_type": "code",
   "execution_count": 0,
   "metadata": {
    "application/vnd.databricks.v1+cell": {
     "cellMetadata": {
      "byteLimit": 2048000,
      "rowLimit": 10000
     },
     "inputWidgets": {},
     "nuid": "20965ce5-8e54-4032-8ddd-5f01d2f17b37",
     "showTitle": false,
     "tableResultSettingsMap": {},
     "title": ""
    }
   },
   "outputs": [],
   "source": [
    "display(dbutils.fs.ls(\"/mnt/dropzoneariatd/ARIATD/submission/\"))"
   ]
  },
  {
   "cell_type": "code",
   "execution_count": 0,
   "metadata": {
    "application/vnd.databricks.v1+cell": {
     "cellMetadata": {
      "byteLimit": 2048000,
      "rowLimit": 10000
     },
     "inputWidgets": {},
     "nuid": "d3ed727c-17ed-40ef-bef0-875341ce2246",
     "showTitle": false,
     "tableResultSettingsMap": {},
     "title": ""
    }
   },
   "outputs": [],
   "source": [
    "# # Read and prepare data HTML files\n",
    "# t_json_mount = '/mnt/dropzoneariab/ARIAB/response/'\n",
    "# t_binary_df = spark.read.format('binaryFile') \\\n",
    "#                      .option('pathGlobFilter', '*.rsp') \\\n",
    "#                      .option('recursiveFileLookup', 'true') \\\n",
    "#                      .load(t_json_mount)\n",
    " \n",
    " \n",
    " \n",
    "# t_html_df = t_binary_df.withColumn(\"content_str\", decode(col('content'), 'utf-8')) \\\n",
    "#                    .withColumn('file_path', element_at(split(col('path'), '/'), -1))\n",
    "# t_html_df = t_html_df.select('content_str','file_path')\n",
    " \n",
    "# display(t_html_df)"
   ]
  },
  {
   "cell_type": "code",
   "execution_count": 0,
   "metadata": {
    "application/vnd.databricks.v1+cell": {
     "cellMetadata": {
      "byteLimit": 2048000,
      "rowLimit": 10000
     },
     "inputWidgets": {},
     "nuid": "c1df4d3b-6b95-415e-ac2b-adb66815853e",
     "showTitle": false,
     "tableResultSettingsMap": {},
     "title": ""
    }
   },
   "outputs": [],
   "source": [
    "# context = dbutils.notebook.entry_point.getDbutils().notebook().getContext()\n",
    "# workspace_host = context.tags().get(\"browserHostName\").get()  # Example: 'adb-3635282203417052.12.azuredatabricks.net'\n",
    "# print(f\"Workspace Name: {workspace_host}\")\n",
    "# workspace_name = workspace_host.split(\".\")[0]  # Extracts adb-3635282203417052\n",
    "# print(f\"Workspace Name: {workspace_name}\")\n",
    "\n"
   ]
  }
 ],
 "metadata": {
  "application/vnd.databricks.v1+notebook": {
   "computePreferences": null,
   "dashboards": [],
   "environmentMetadata": {
    "base_environment": "",
    "environment_version": "2"
   },
   "inputWidgetPreferences": null,
   "language": "python",
   "notebookMetadata": {
    "mostRecentlyExecutedCommandWithImplicitDF": {
     "commandId": 1103525563272951,
     "dataframes": [
      "_sqldf"
     ]
    },
    "pythonIndentUnit": 4
   },
   "notebookName": "_defnct_ARIA_TD_ADLS_TO_EVENTHUBS",
   "widgets": {}
  },
  "language_info": {
   "name": "python"
  }
 },
 "nbformat": 4,
 "nbformat_minor": 0
}
