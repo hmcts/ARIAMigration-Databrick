{
 "cells": [
  {
   "cell_type": "code",
   "execution_count": 0,
   "metadata": {
    "application/vnd.databricks.v1+cell": {
     "cellMetadata": {
      "byteLimit": 2048000,
      "rowLimit": 10000
     },
     "inputWidgets": {},
     "nuid": "55703e49-2501-4dff-9e01-82528ccc926c",
     "showTitle": true,
     "tableResultSettingsMap": {},
     "title": "Pip install"
    }
   },
   "outputs": [],
   "source": [
    "# %pip install pycountry\n",
    "# %pip install uk-postcodes-parsing"
   ]
  },
  {
   "cell_type": "code",
   "execution_count": 0,
   "metadata": {
    "application/vnd.databricks.v1+cell": {
     "cellMetadata": {
      "byteLimit": 2048000,
      "rowLimit": 10000
     },
     "inputWidgets": {},
     "nuid": "65cb672e-fad4-41c9-955b-9e447b8ff7f6",
     "showTitle": false,
     "tableResultSettingsMap": {},
     "title": ""
    }
   },
   "outputs": [],
   "source": [
    "## BUild the python wheel\n",
    "!python -m pip install -U build\n",
    "!python -m build --wheel\n",
    "## install the python wheel and restart the python kernel\n",
    "%pip install dist/*.whl\n",
    "dbutils.library.restartPython()"
   ]
  },
  {
   "cell_type": "code",
   "execution_count": 0,
   "metadata": {
    "application/vnd.databricks.v1+cell": {
     "cellMetadata": {
      "byteLimit": 2048000,
      "rowLimit": 10000
     },
     "inputWidgets": {},
     "nuid": "7831545c-1e19-4244-ab14-25869bbd78f7",
     "showTitle": true,
     "tableResultSettingsMap": {},
     "title": "Import packages"
    }
   },
   "outputs": [],
   "source": [
    "import json\n",
    "from datetime import datetime\n",
    "from pyspark.sql.functions import *\n",
    "import uk_postcodes_parsing\n",
    "from pyspark.sql import functions as F\n",
    "import os"
   ]
  },
  {
   "cell_type": "code",
   "execution_count": 0,
   "metadata": {
    "application/vnd.databricks.v1+cell": {
     "cellMetadata": {
      "byteLimit": 2048000,
      "rowLimit": 10000
     },
     "inputWidgets": {},
     "nuid": "e251edd4-ffe0-47d2-9c90-2add21a1af59",
     "showTitle": true,
     "tableResultSettingsMap": {},
     "title": "Assign configs"
    }
   },
   "outputs": [],
   "source": [
    "config = spark.read.option(\"multiline\", \"true\").json(\"dbfs:/configs/config.json\")\n",
    "env_name = config.first()[\"env\"].strip().lower()\n",
    "lz_key = config.first()[\"lz_key\"].strip().lower()\n",
    "\n",
    "print(f\"env_code: {lz_key}\")  # This won't be redacted\n",
    "print(f\"env_name: {env_name}\")  # This won't be redacted\n",
    "\n",
    "KeyVault_name = f\"ingest{lz_key}-meta002-{env_name}\"\n",
    "print(f\"KeyVault_name: {KeyVault_name}\") "
   ]
  },
  {
   "cell_type": "code",
   "execution_count": 0,
   "metadata": {
    "application/vnd.databricks.v1+cell": {
     "cellMetadata": {
      "byteLimit": 2048000,
      "rowLimit": 10000
     },
     "inputWidgets": {},
     "nuid": "36f0c0bd-2026-4b2c-8800-f4732e142615",
     "showTitle": true,
     "tableResultSettingsMap": {},
     "title": "Assign OAuth"
    }
   },
   "outputs": [],
   "source": [
    "# Service principal credentials\n",
    "client_id = dbutils.secrets.get(KeyVault_name, \"SERVICE-PRINCIPLE-CLIENT-ID\")\n",
    "client_secret = dbutils.secrets.get(KeyVault_name, \"SERVICE-PRINCIPLE-CLIENT-SECRET\")\n",
    "tenant_id = dbutils.secrets.get(KeyVault_name, \"SERVICE-PRINCIPLE-TENANT-ID\")\n",
    "\n",
    "# Storage account names\n",
    "curated_storage = f\"ingest{lz_key}curated{env_name}\"\n",
    "checkpoint_storage = f\"ingest{lz_key}xcutting{env_name}\"\n",
    "raw_storage = f\"ingest{lz_key}raw{env_name}\"\n",
    "landing_storage = f\"ingest{lz_key}landing{env_name}\"\n",
    "external_storage = f\"ingest{lz_key}external{env_name}\"\n",
    "\n",
    "\n",
    "# Spark config for curated storage (Delta table)\n",
    "spark.conf.set(f\"fs.azure.account.auth.type.{curated_storage}.dfs.core.windows.net\", \"OAuth\")\n",
    "spark.conf.set(f\"fs.azure.account.oauth.provider.type.{curated_storage}.dfs.core.windows.net\", \"org.apache.hadoop.fs.azurebfs.oauth2.ClientCredsTokenProvider\")\n",
    "spark.conf.set(f\"fs.azure.account.oauth2.client.id.{curated_storage}.dfs.core.windows.net\", client_id)\n",
    "spark.conf.set(f\"fs.azure.account.oauth2.client.secret.{curated_storage}.dfs.core.windows.net\", client_secret)\n",
    "spark.conf.set(f\"fs.azure.account.oauth2.client.endpoint.{curated_storage}.dfs.core.windows.net\", f\"https://login.microsoftonline.com/{tenant_id}/oauth2/token\")\n",
    "\n",
    "# Spark config for checkpoint storage\n",
    "spark.conf.set(f\"fs.azure.account.auth.type.{checkpoint_storage}.dfs.core.windows.net\", \"OAuth\")\n",
    "spark.conf.set(f\"fs.azure.account.oauth.provider.type.{checkpoint_storage}.dfs.core.windows.net\", \"org.apache.hadoop.fs.azurebfs.oauth2.ClientCredsTokenProvider\")\n",
    "spark.conf.set(f\"fs.azure.account.oauth2.client.id.{checkpoint_storage}.dfs.core.windows.net\", client_id)\n",
    "spark.conf.set(f\"fs.azure.account.oauth2.client.secret.{checkpoint_storage}.dfs.core.windows.net\", client_secret)\n",
    "spark.conf.set(f\"fs.azure.account.oauth2.client.endpoint.{checkpoint_storage}.dfs.core.windows.net\", f\"https://login.microsoftonline.com/{tenant_id}/oauth2/token\")\n",
    "\n",
    "# Spark config for checkpoint storage\n",
    "spark.conf.set(f\"fs.azure.account.auth.type.{raw_storage}.dfs.core.windows.net\", \"OAuth\")\n",
    "spark.conf.set(f\"fs.azure.account.oauth.provider.type.{raw_storage}.dfs.core.windows.net\", \"org.apache.hadoop.fs.azurebfs.oauth2.ClientCredsTokenProvider\")\n",
    "spark.conf.set(f\"fs.azure.account.oauth2.client.id.{raw_storage}.dfs.core.windows.net\", client_id)\n",
    "spark.conf.set(f\"fs.azure.account.oauth2.client.secret.{raw_storage}.dfs.core.windows.net\", client_secret)\n",
    "spark.conf.set(f\"fs.azure.account.oauth2.client.endpoint.{raw_storage}.dfs.core.windows.net\", f\"https://login.microsoftonline.com/{tenant_id}/oauth2/token\")\n",
    "\n",
    "# Spark config for checkpoint storage\n",
    "spark.conf.set(f\"fs.azure.account.auth.type.{landing_storage}.dfs.core.windows.net\", \"OAuth\")\n",
    "spark.conf.set(f\"fs.azure.account.oauth.provider.type.{landing_storage}.dfs.core.windows.net\", \"org.apache.hadoop.fs.azurebfs.oauth2.ClientCredsTokenProvider\")\n",
    "spark.conf.set(f\"fs.azure.account.oauth2.client.id.{landing_storage}.dfs.core.windows.net\", client_id)\n",
    "spark.conf.set(f\"fs.azure.account.oauth2.client.secret.{landing_storage}.dfs.core.windows.net\", client_secret)\n",
    "spark.conf.set(f\"fs.azure.account.oauth2.client.endpoint.{landing_storage}.dfs.core.windows.net\", f\"https://login.microsoftonline.com/{tenant_id}/oauth2/token\")\n",
    "\n",
    "\n",
    "# Spark config for checkpoint storage\n",
    "spark.conf.set(f\"fs.azure.account.auth.type.{external_storage}.dfs.core.windows.net\", \"OAuth\")\n",
    "spark.conf.set(f\"fs.azure.account.oauth.provider.type.{external_storage}.dfs.core.windows.net\", \"org.apache.hadoop.fs.azurebfs.oauth2.ClientCredsTokenProvider\")\n",
    "spark.conf.set(f\"fs.azure.account.oauth2.client.id.{external_storage}.dfs.core.windows.net\", client_id)\n",
    "spark.conf.set(f\"fs.azure.account.oauth2.client.secret.{external_storage}.dfs.core.windows.net\", client_secret)\n",
    "spark.conf.set(f\"fs.azure.account.oauth2.client.endpoint.{external_storage}.dfs.core.windows.net\", f\"https://login.microsoftonline.com/{tenant_id}/oauth2/token\")"
   ]
  },
  {
   "cell_type": "code",
   "execution_count": 0,
   "metadata": {
    "application/vnd.databricks.v1+cell": {
     "cellMetadata": {
      "byteLimit": 2048000,
      "rowLimit": 10000
     },
     "inputWidgets": {},
     "nuid": "e169fc23-7079-4102-8017-e009060ec361",
     "showTitle": true,
     "tableResultSettingsMap": {},
     "title": "Assign Paths"
    }
   },
   "outputs": [],
   "source": [
    "AppealState = \"awaitingRespondentEvidence(a)\"\n",
    "output_name = \"awaitingRespondentEvidence_b\"\n",
    "\n",
    "# AppealState = \"paymentPending\"\n",
    "\n",
    "# Setting variables for use in subsequent cells\n",
    "bronze_path = f\"abfss://bronze@ingest{lz_key}curated{env_name}.dfs.core.windows.net/ARIADM/ACTIVE/CCD/APPEALS/\"\n",
    "silver_path = f\"abfss://silver@ingest{lz_key}curated{env_name}.dfs.core.windows.net/ARIADM/ACTIVE/CCD/APPEALS/\"\n",
    "audit_path = f\"abfss://silver@ingest{lz_key}curated{env_name}.dfs.core.windows.net/ARIADM/ACTIVE/CCD/APPEALS/AUDIT/{AppealState}\"\n",
    "gold_outputs = f\"ARIADM/ACTIVE/CCD/APPEALS/{AppealState}\"\n",
    "\n",
    "# Print all variables\n",
    "variables = {\n",
    "    # \"read_hive\": read_hive,\n",
    "    \n",
    "    \"bronze_path\": bronze_path,\n",
    "    \"silver_path\": silver_path,\n",
    "    \"audit_path\": audit_path,\n",
    "    \"gold_outputs\": gold_outputs,\n",
    "    \"key_vault\": KeyVault_name,\n",
    "    \"AppealState\": AppealState\n",
    "\n",
    "}\n",
    "\n",
    "display(variables)"
   ]
  },
  {
   "cell_type": "code",
   "execution_count": 0,
   "metadata": {
    "application/vnd.databricks.v1+cell": {
     "cellMetadata": {
      "byteLimit": 2048000,
      "rowLimit": 10000
     },
     "inputWidgets": {},
     "nuid": "cf35cc30-e4f7-4bf8-aa28-451a231d48d1",
     "showTitle": true,
     "tableResultSettingsMap": {},
     "title": "Install paymentPending Functions to Notebook"
    }
   },
   "outputs": [],
   "source": [
    "# import importlib.util\n",
    "# from pyspark.sql.functions import col, struct, lit\n",
    "\n",
    "# # Exact path to your .py file\n",
    "# # file_path = \"/Workspace/Users/andrew.mcdevitt@hmcts.net/active_common_utils.py\"\n",
    "# file_path = os.getcwd() + \"/Active_Functions/paymentPending.py\"\n",
    "# module_name = \"paymentPending.py\"\n",
    "\n",
    "# # Load the module explicitly\n",
    "# spec = importlib.util.spec_from_file_location(module_name, file_path)            # Load the module\n",
    "# active_common_utils = importlib.util.module_from_spec(spec)                      # Build the module\n",
    "# spec.loader.exec_module(active_common_utils)                                     # Execute the module\n",
    "\n",
    "# # Confirm the module path\n",
    "# print(active_common_utils.__file__)"
   ]
  },
  {
   "cell_type": "code",
   "execution_count": 0,
   "metadata": {
    "application/vnd.databricks.v1+cell": {
     "cellMetadata": {
      "byteLimit": 2048000,
      "rowLimit": 10000
     },
     "inputWidgets": {},
     "nuid": "fa39248b-be0a-4f70-96fe-5b6bb4713cf3",
     "showTitle": true,
     "tableResultSettingsMap": {},
     "title": "Import Field group functions"
    }
   },
   "outputs": [],
   "source": [
    "import Active_Functions.paymentPending as PP\n",
    "import Active_Functions.AwaitingEvidenceRespondant_a as AERa\n",
    "import Active_Functions.AwaitingEvidenceRespondant_b as AERb\n"
   ]
  },
  {
   "cell_type": "code",
   "execution_count": 0,
   "metadata": {
    "application/vnd.databricks.v1+cell": {
     "cellMetadata": {
      "byteLimit": 2048000,
      "rowLimit": 10000
     },
     "inputWidgets": {},
     "nuid": "6d30465e-ae52-4a05-9eab-bba6e0964456",
     "showTitle": true,
     "tableResultSettingsMap": {},
     "title": "Read in tables"
    }
   },
   "outputs": [],
   "source": [
    "from pyspark.sql.functions import col, lit\n",
    "\n",
    "silver_m1 = spark.table(\"ariadm_active_appeals.silver_appealcase_detail\").filter(col(\"dv_targetState\") == lit(AppealState)).distinct()\n",
    "silver_m2 = spark.table(\"ariadm_active_appeals.silver_caseapplicant_detail\") \n",
    "silver_m3 = spark.table(\"ariadm_active_appeals.silver_status_detail\").filter(col(\"dv_targetState\") == lit(AppealState))\n",
    "silver_m5 = spark.table(\"ariadm_active_appeals.silver_link_detail\").filter(col(\"dv_targetState\") == lit(AppealState))\n",
    "silver_c = spark.table(\"ariadm_active_appeals.silver_appealcategory_detail\")\n",
    "bronze_countryFromAddress = spark.table(\"ariadm_active_appeals.bronze_countries_countryFromAddress\").withColumn(\"lu_countryGovUkOocAdminJ\",col(\"countryGovUkOocAdminJ\"))\n",
    "bronze_HORef_cleansing = spark.table(\"ariadm_active_appeals.bronze_HORef_cleansing\")\n",
    "bronze_remission_lookup_df = spark.table(\"ariadm_active_appeals.bronze_remissions\").distinct()"
   ]
  },
  {
   "cell_type": "code",
   "execution_count": 0,
   "metadata": {
    "application/vnd.databricks.v1+cell": {
     "cellMetadata": {
      "byteLimit": 2048000,
      "rowLimit": 10000
     },
     "inputWidgets": {},
     "nuid": "725183e4-68d6-4f35-b27f-07d7eee61392",
     "showTitle": true,
     "tableResultSettingsMap": {},
     "title": "Function: appealType"
    }
   },
   "outputs": [],
   "source": [
    "df, df_audit = PP.appealType(silver_m1)\n",
    "# display(df)"
   ]
  },
  {
   "cell_type": "code",
   "execution_count": 0,
   "metadata": {
    "application/vnd.databricks.v1+cell": {
     "cellMetadata": {
      "byteLimit": 2048000,
      "rowLimit": 10000
     },
     "inputWidgets": {},
     "nuid": "9d9d0d26-a1c2-4f16-83f5-a80b03efadfe",
     "showTitle": true,
     "tableResultSettingsMap": {},
     "title": "Function: CaseData"
    }
   },
   "outputs": [],
   "source": [
    "df,df_audit = PP.caseData(silver_m1, silver_m3)\n",
    "# display(df)"
   ]
  },
  {
   "cell_type": "code",
   "execution_count": 0,
   "metadata": {
    "application/vnd.databricks.v1+cell": {
     "cellMetadata": {
      "byteLimit": 2048000,
      "rowLimit": 10000
     },
     "inputWidgets": {},
     "nuid": "09990ce8-21fa-4219-b5d0-13535ffb304d",
     "showTitle": true,
     "tableResultSettingsMap": {},
     "title": "Function: flagsLabels"
    }
   },
   "outputs": [],
   "source": [
    "df, df_audit = PP.flagsLabels(silver_m1, silver_m2, silver_c)\n",
    "# display(df)"
   ]
  },
  {
   "cell_type": "code",
   "execution_count": 0,
   "metadata": {
    "application/vnd.databricks.v1+cell": {
     "cellMetadata": {
      "byteLimit": 2048000,
      "rowLimit": 10000
     },
     "inputWidgets": {},
     "nuid": "72fff6c4-ba39-4fab-a502-f1e8e0ee951f",
     "showTitle": true,
     "tableResultSettingsMap": {},
     "title": "Function: Clean Email + PhoneNumber"
    }
   },
   "outputs": [],
   "source": [
    "#Included in active_common_utils.py"
   ]
  },
  {
   "cell_type": "code",
   "execution_count": 0,
   "metadata": {
    "application/vnd.databricks.v1+cell": {
     "cellMetadata": {
      "byteLimit": 2048000,
      "rowLimit": 10000
     },
     "inputWidgets": {},
     "nuid": "08506343-ba05-4eb7-bba4-29ebc1f6f854",
     "showTitle": true,
     "tableResultSettingsMap": {},
     "title": "Function: General Address"
    }
   },
   "outputs": [],
   "source": [
    "#Included in active_common_utils.py"
   ]
  },
  {
   "cell_type": "code",
   "execution_count": 0,
   "metadata": {
    "application/vnd.databricks.v1+cell": {
     "cellMetadata": {
      "byteLimit": 2048000,
      "rowLimit": 10000
     },
     "inputWidgets": {},
     "nuid": "f34c43f4-2863-49aa-a26b-59ce05ee4ae6",
     "showTitle": true,
     "tableResultSettingsMap": {},
     "title": "Function: legalRepDetails"
    }
   },
   "outputs": [],
   "source": [
    "df, df_audit = PP.legalRepDetails(silver_m1)\n",
    "# display(df)"
   ]
  },
  {
   "cell_type": "code",
   "execution_count": 0,
   "metadata": {
    "application/vnd.databricks.v1+cell": {
     "cellMetadata": {
      "byteLimit": 2048000,
      "rowLimit": 10000
     },
     "inputWidgets": {},
     "nuid": "9b0711b1-620b-49c0-a685-b637119898cc",
     "showTitle": false,
     "tableResultSettingsMap": {},
     "title": ""
    }
   },
   "outputs": [],
   "source": [
    "## function comes from AwaitingEvidenceRespondant_a\n",
    "df_awaitingEvidenceRespondent_a, df_audit_awaitingEvidenceRespondent_a = AERa.appellantDetails(silver_m1, silver_m2, silver_c, bronze_countryFromAddress)"
   ]
  },
  {
   "cell_type": "code",
   "execution_count": 0,
   "metadata": {
    "application/vnd.databricks.v1+cell": {
     "cellMetadata": {
      "byteLimit": 2048000,
      "rowLimit": 10000
     },
     "inputWidgets": {},
     "nuid": "e28c1fbd-a930-4363-a6bf-e1cb43a30b37",
     "showTitle": true,
     "tableResultSettingsMap": {},
     "title": "Function: appellantDetails"
    }
   },
   "outputs": [],
   "source": [
    "## function comes from AwaitingEvidenceRespondant_a\n",
    "df_awaitingEvidenceRespondent_a, df_audit_awaitingEvidenceRespondent_a = AERa.appellantDetails(silver_m1, silver_m2, silver_c, bronze_countryFromAddress)\n",
    "\n",
    "## Compare both DataFrames to ensure update has passed through\n",
    "# display(df)\n",
    "# display(df_awaitingEvidenceRespondent_a)"
   ]
  },
  {
   "cell_type": "code",
   "execution_count": 0,
   "metadata": {
    "application/vnd.databricks.v1+cell": {
     "cellMetadata": {
      "byteLimit": 2048000,
      "rowLimit": 10000
     },
     "inputWidgets": {},
     "nuid": "c07ba4a2-0028-4133-b7af-c80ca1359d98",
     "showTitle": true,
     "tableResultSettingsMap": {},
     "title": "Function: homeOfficeDetails"
    }
   },
   "outputs": [],
   "source": [
    "df, df_audit = AERa.homeOfficeDetails(silver_m1, silver_m2, silver_c, bronze_HORef_cleansing)\n",
    "# display(df)"
   ]
  },
  {
   "cell_type": "code",
   "execution_count": 0,
   "metadata": {
    "application/vnd.databricks.v1+cell": {
     "cellMetadata": {
      "byteLimit": 2048000,
      "rowLimit": 10000
     },
     "inputWidgets": {},
     "nuid": "17b67c33-e74d-4159-8ebd-d525cada317f",
     "showTitle": true,
     "tableResultSettingsMap": {},
     "title": "Function: paymentType"
    }
   },
   "outputs": [],
   "source": [
    "df, a_df = PP.paymentType(silver_m1)\n",
    "display(df)"
   ]
  },
  {
   "cell_type": "code",
   "execution_count": 0,
   "metadata": {
    "application/vnd.databricks.v1+cell": {
     "cellMetadata": {
      "byteLimit": 2048000,
      "rowLimit": 10000
     },
     "inputWidgets": {},
     "nuid": "c06653d4-f0de-4256-bc42-620efe620d81",
     "showTitle": true,
     "tableResultSettingsMap": {},
     "title": "Function: PartyIDs"
    }
   },
   "outputs": [],
   "source": [
    "df_final,df_audit = PP.partyID(silver_m1, silver_m3, silver_c)\n",
    "# display(df_final)"
   ]
  },
  {
   "cell_type": "code",
   "execution_count": 0,
   "metadata": {
    "application/vnd.databricks.v1+cell": {
     "cellMetadata": {
      "byteLimit": 2048000,
      "rowLimit": 10000
     },
     "inputWidgets": {},
     "nuid": "0f606b4c-55c7-4c4d-9129-a48cf913d30a",
     "showTitle": true,
     "tableResultSettingsMap": {},
     "title": "Function: remissionTypes"
    }
   },
   "outputs": [],
   "source": [
    "df_final, df_audit = PP.remissionTypes(silver_m1, bronze_remission_lookup_df)\n",
    "display(df_final)"
   ]
  },
  {
   "cell_type": "code",
   "execution_count": 0,
   "metadata": {
    "application/vnd.databricks.v1+cell": {
     "cellMetadata": {
      "byteLimit": 2048000,
      "rowLimit": 10000
     },
     "inputWidgets": {},
     "nuid": "3202d868-a71f-49e2-9571-5a28b812ed34",
     "showTitle": true,
     "tableResultSettingsMap": {},
     "title": "Function: sponsorDetails"
    }
   },
   "outputs": [],
   "source": [
    "df, df_audit = PP.sponsorDetails(silver_m1, silver_c)\n",
    "# display(df)"
   ]
  },
  {
   "cell_type": "code",
   "execution_count": 0,
   "metadata": {
    "application/vnd.databricks.v1+cell": {
     "cellMetadata": {
      "byteLimit": 2048000,
      "rowLimit": 10000
     },
     "inputWidgets": {},
     "nuid": "78e872c0-0b0b-4259-a3b8-233ba36a9d31",
     "showTitle": true,
     "tableResultSettingsMap": {},
     "title": "Function: GeneralFunctions"
    }
   },
   "outputs": [],
   "source": [
    "df, df_audit = PP.general(silver_m1)\n",
    "# display(df)"
   ]
  },
  {
   "cell_type": "code",
   "execution_count": 0,
   "metadata": {
    "application/vnd.databricks.v1+cell": {
     "cellMetadata": {
      "byteLimit": 2048000,
      "rowLimit": 10000
     },
     "inputWidgets": {},
     "nuid": "6c85fb77-8935-4f9a-a237-7778c4dd59a8",
     "showTitle": true,
     "tableResultSettingsMap": {},
     "title": "Function: GeneralDefault - Default Values"
    }
   },
   "outputs": [],
   "source": [
    "## function comes from AwaitingEvidenceRespondant_b\n",
    "df_awaitingEvidenceRespondent_b, df_audit_awaitingEvidenceRespondent_b = AERb.generalDefault(silver_m1)\n",
    "\n",
    "## Compare both DataFrames to ensure update has passed through\n",
    "# display(df)\n",
    "# display(df_awaitingEvidenceRespondent_a)"
   ]
  },
  {
   "cell_type": "code",
   "execution_count": 0,
   "metadata": {
    "application/vnd.databricks.v1+cell": {
     "cellMetadata": {
      "byteLimit": 2048000,
      "rowLimit": 10000
     },
     "inputWidgets": {},
     "nuid": "79de0936-f579-432a-990c-dad2f6f3f74a",
     "showTitle": true,
     "tableResultSettingsMap": {},
     "title": "Function: Documents"
    }
   },
   "outputs": [],
   "source": [
    "## function comes from AwaitingEvidenceRespondant_b\n",
    "documents_content, documents_audit = AERb.documents(silver_m1)\n",
    "\n",
    "# display(documents_content)"
   ]
  },
  {
   "cell_type": "code",
   "execution_count": 0,
   "metadata": {
    "application/vnd.databricks.v1+cell": {
     "cellMetadata": {
      "byteLimit": 2048000,
      "rowLimit": 10000
     },
     "inputWidgets": {},
     "nuid": "8e89be12-a1e2-48c7-a51a-d4be284c03c1",
     "showTitle": true,
     "tableResultSettingsMap": {},
     "title": "Function: caseState"
    }
   },
   "outputs": [],
   "source": [
    "\n",
    "\n",
    "## Call the awaitingEvidenceRespondent_a function\n",
    "df_awaitingEvidenceRespondent_a, df_audit_awaitingEvidenceRespondent_a = PP.caseState(silver_m1)\n",
    "\n",
    "## Compare both DataFrames to ensure update has passed through\n",
    "# display(df)\n",
    "# display(df_awaitingEvidenceRespondent_a)"
   ]
  },
  {
   "cell_type": "code",
   "execution_count": 0,
   "metadata": {
    "application/vnd.databricks.v1+cell": {
     "cellMetadata": {
      "byteLimit": 2048000,
      "rowLimit": 10000
     },
     "inputWidgets": {},
     "nuid": "5552c83b-7c45-4994-a403-1b94dc87827f",
     "showTitle": true,
     "tableResultSettingsMap": {
      "0": {
       "dataGridStateBlob": "{\"version\":1,\"tableState\":{\"columnPinning\":{\"left\":[\"#row_number#\"],\"right\":[]},\"columnSizing\":{},\"columnVisibility\":{}},\"settings\":{\"columns\":{}},\"syncTimestamp\":1755773247182}",
       "filterBlob": null,
       "queryPlanFiltersBlob": null,
       "tableResultIndex": 0
      }
     },
     "title": "Function: mainPaymentPending"
    }
   },
   "outputs": [],
   "source": [
    "from pyspark.sql.types import StringType, StructType, ArrayType, MapType\n",
    "from pyspark.sql.functions import col, lit, to_json, struct, concat, regexp_replace\n",
    "from datetime import datetime\n",
    "\n",
    "def mainPaymentPending(silver_m1, silver_m2, silver_m3, silver_c, bronze_remissions, bronze_countryFromAddress, bronze_HORef_cleansing):\n",
    "\n",
    "    AppealState = \"awaitingRespondentEvidence(a)\"\n",
    "\n",
    "    # Aggregate details\n",
    "    AppealType_df, AppealType_df_audit = PP.appealType(silver_m1)\n",
    "    caseData_df, caseData_df_audit = PP.caseData(silver_m1, silver_m3)\n",
    "    flagsLabels_df, flagsLabels_df_audit = PP.flagsLabels(silver_m1, silver_m2, silver_c)\n",
    "    appellantDetails_df, appellantDetails_df_audit = AERa.appellantDetails(silver_m1, silver_m2, silver_c,bronze_countryFromAddress)\n",
    "    legalRepDetails_df, legalRepDetails_df_audit = PP.legalRepDetails(silver_m1)\n",
    "    partyID_df, partyID_df_audit = PP.partyID(silver_m1, silver_m3, silver_c)\n",
    "    payment_df, payment_df_audit = PP.paymentType(silver_m1)\n",
    "    homeOfficeDetails_df, homeOfficeDetails_df_audit = PP.homeOfficeDetails(silver_m1, silver_m2, silver_c, bronze_HORef_cleansing)\n",
    "    remissionTypes_df, remissionTypes_df_audit = PP.remissionTypes(silver_m1, bronze_remissions)\n",
    "    sponsorDetails_df, sponsorDetails_df_audit = PP.sponsorDetails(silver_m1, silver_c)\n",
    "    general_df, general_df_audit = PP.general(silver_m1)\n",
    "    generalDefault_df, generalDefault_df_audit = AERb.generalDefault(silver_m1)\n",
    "    documents_df, documents_df_audit = PP.documents(silver_m1)\n",
    "    caseState_df, caseState_df_audit = PP.caseState(silver_m1)\n",
    "\n",
    "    # Join all aggregated data with Appeal Case Details\n",
    "    df_combined = (\n",
    "        AppealType_df.join(caseData_df, on=\"CaseNo\", how=\"left\")\n",
    "        .join(legalRepDetails_df, on=\"CaseNo\", how=\"left\")\n",
    "        .join(appellantDetails_df, on=\"CaseNo\", how=\"left\")\n",
    "        .join(flagsLabels_df, on=\"CaseNo\", how=\"left\")\n",
    "        .join(partyID_df, on=\"CaseNo\", how=\"left\")\n",
    "        .join(homeOfficeDetails_df, on=\"CaseNo\", how=\"left\")\n",
    "        .join(remissionTypes_df, on=\"CaseNo\", how=\"left\")\n",
    "        .join(sponsorDetails_df, on=\"CaseNo\", how=\"left\")\n",
    "        .join(payment_df, on=\"CaseNo\", how=\"left\")\n",
    "        .join(general_df, on=\"CaseNo\", how=\"left\")\n",
    "        .join(generalDefault_df, on=\"CaseNo\", how=\"left\")\n",
    "        .join(documents_df, on=\"CaseNo\", how=\"left\")\n",
    "        .join(caseState_df, on=\"CaseNo\", how=\"left\")\n",
    "    \n",
    "    )\n",
    "\n",
    "    # Join all aggregated data with Appeal Case Details\n",
    "    df_combined_audit = (\n",
    "        AppealType_df_audit.join(caseData_df_audit, on=\"CaseNo\", how=\"left\")\n",
    "        .join(legalRepDetails_df_audit, on=\"CaseNo\", how=\"left\")\n",
    "        .join(appellantDetails_df_audit, on=\"CaseNo\", how=\"left\")\n",
    "        .join(flagsLabels_df_audit, on=\"CaseNo\", how=\"left\")\n",
    "        .join(partyID_df_audit, on=\"CaseNo\", how=\"left\")\n",
    "        .join(homeOfficeDetails_df_audit, on=\"CaseNo\", how=\"left\")\n",
    "        .join(remissionTypes_df_audit, on=\"CaseNo\", how=\"left\")\n",
    "        .join(sponsorDetails_df_audit, on=\"CaseNo\", how=\"left\")\n",
    "        .join(payment_df_audit, on=\"CaseNo\", how=\"left\")\n",
    "        .join(general_df_audit, on=\"CaseNo\", how=\"left\")\n",
    "        .join(generalDefault_df_audit, on=\"CaseNo\", how=\"left\")\n",
    "        .join(documents_df_audit, on=\"CaseNo\", how=\"left\")\n",
    "        .join(caseState_df_audit, on=\"CaseNo\", how=\"left\")\n",
    "    )\n",
    "\n",
    "    Datetime_name = datetime.now().strftime(\"%Y_%m_%d_%H_%M_%S\")\n",
    "\n",
    "    # Create JSON and filename and omit columns that are with null values\n",
    "    df_final = df_combined.withColumn(\n",
    "        \"JSON_Content\", to_json(struct(*df_combined.drop(col(\"CaseNo\")).columns))\n",
    "    ).withColumn(\n",
    "        \"JSON_File_name\", concat(lit(f\"{gold_outputs}/{Datetime_name}/JSON/APPEALS_\"), regexp_replace(col(\"CaseNo\"), \"/\", \"_\"), lit(\".json\"))\n",
    "    )\n",
    "    \n",
    "    return df_final, df_combined_audit\n",
    "\n",
    "silver_m1 = spark.table(\"ariadm_active_appeals.silver_appealcase_detail\").filter(col(\"dv_targetState\") == lit(AppealState)).distinct()\n",
    "silver_m2 =  spark.table(\"ariadm_active_appeals.silver_caseapplicant_detail\").filter(col(\"dv_targetState\") == lit(AppealState))\n",
    "silver_m3 = spark.table(\"ariadm_active_appeals.silver_status_detail\").filter(col(\"dv_targetState\") == lit(AppealState))\n",
    "silver_c = spark.table(\"ariadm_active_appeals.silver_appealcategory_detail\").filter(col(\"dv_targetState\") == lit(AppealState))\n",
    "bronze_remission_lookup_df = spark.table(\"ariadm_active_appeals.bronze_remissions\").distinct()\n",
    "\n",
    "bronze_countryFromAddress = spark.table(\"ariadm_active_appeals.bronze_countries_countryFromAddress\").withColumn(\"lu_countryGovUkOocAdminJ\",col(\"countryGovUkOocAdminJ\"))\n",
    "\n",
    "bronze_HORef_cleansing = spark.table(\"ariadm_active_appeals.bronze_HORef_cleansing\")\n",
    "\n",
    "df_final, df_audit = mainPaymentPending(silver_m1, silver_m2, silver_m3, silver_c, bronze_remission_lookup_df,bronze_countryFromAddress,bronze_HORef_cleansing)\n",
    "\n",
    "display(df_final)"
   ]
  },
  {
   "cell_type": "markdown",
   "metadata": {
    "application/vnd.databricks.v1+cell": {
     "cellMetadata": {
      "byteLimit": 2048000,
      "rowLimit": 10000
     },
     "inputWidgets": {},
     "nuid": "b1e06424-6966-4125-9563-3d73261b37c0",
     "showTitle": false,
     "tableResultSettingsMap": {},
     "title": ""
    }
   },
   "source": [
    "### Function: Upload  and Blob Client Connection Configuration"
   ]
  },
  {
   "cell_type": "code",
   "execution_count": 0,
   "metadata": {
    "application/vnd.databricks.v1+cell": {
     "cellMetadata": {
      "byteLimit": 2048000,
      "rowLimit": 10000
     },
     "inputWidgets": {},
     "nuid": "3bd38396-bc28-4971-84ae-805bfd07e775",
     "showTitle": true,
     "tableResultSettingsMap": {},
     "title": "Secret Retrieval for Database Connection"
    }
   },
   "outputs": [],
   "source": [
    "secret = dbutils.secrets.get(KeyVault_name, f\"CURATED-{env_name}-SAS-TOKEN\")"
   ]
  },
  {
   "cell_type": "code",
   "execution_count": 0,
   "metadata": {
    "application/vnd.databricks.v1+cell": {
     "cellMetadata": {
      "byteLimit": 2048000,
      "rowLimit": 10000
     },
     "inputWidgets": {},
     "nuid": "5169b7b1-135d-4de4-a228-a25b02b66f97",
     "showTitle": true,
     "tableResultSettingsMap": {},
     "title": "Azure Blob Storage Connection Setup in Python"
    }
   },
   "outputs": [],
   "source": [
    "from azure.storage.blob import BlobServiceClient, BlobClient, ContainerClient\n",
    "import os\n",
    "\n",
    "# Set up the BlobServiceClient with your connection string\n",
    "connection_string = secret\n",
    "\n",
    "blob_service_client = BlobServiceClient.from_connection_string(connection_string)\n",
    "\n",
    "# Specify the container name\n",
    "container_name = \"gold\"\n",
    "container_client = blob_service_client.get_container_client(container_name)"
   ]
  },
  {
   "cell_type": "code",
   "execution_count": 0,
   "metadata": {
    "application/vnd.databricks.v1+cell": {
     "cellMetadata": {
      "byteLimit": 2048000,
      "rowLimit": 10000
     },
     "inputWidgets": {},
     "nuid": "dd8881aa-9b58-41e1-ad05-93d0230af4c5",
     "showTitle": true,
     "tableResultSettingsMap": {},
     "title": "Function: Format Dates for UploadBlob Storage"
    }
   },
   "outputs": [],
   "source": [
    "# Upload HTML to Azure Blob Storage\n",
    "def upload_to_blob(file_name, file_content):\n",
    "    try:\n",
    "        # blob_client = container_client.get_blob_client(f\"{gold_outputs}/HTML/{file_name}\")\n",
    "        blob_client = container_client.get_blob_client(f\"{file_name}\")\n",
    "        blob_client.upload_blob(file_content, overwrite=True)\n",
    "        return \"success\"\n",
    "    except Exception as e:\n",
    "        return f\"error: {str(e)}\"\n",
    "\n",
    "# Register the upload function as a UDF\n",
    "upload_udf = udf(upload_to_blob)\n",
    "\n",
    "# df_with_upload_status = df_final.withColumn(\n",
    "#     \"Status\", upload_udf(col(\"JSON_File_name\"), col(\"JSON_Content\"))\n",
    "# )\n",
    "\n",
    "# display(df_with_upload_status)\n"
   ]
  },
  {
   "cell_type": "markdown",
   "metadata": {
    "application/vnd.databricks.v1+cell": {
     "cellMetadata": {
      "byteLimit": 2048000,
      "rowLimit": 10000
     },
     "inputWidgets": {},
     "nuid": "db97feb8-762a-40b6-8cb9-5afa8f134fe3",
     "showTitle": false,
     "tableResultSettingsMap": {},
     "title": ""
    }
   },
   "source": [
    "## Gold Outputs and Tracking DLT Table Creation"
   ]
  },
  {
   "cell_type": "code",
   "execution_count": 0,
   "metadata": {
    "application/vnd.databricks.v1+cell": {
     "cellMetadata": {
      "byteLimit": 2048000,
      "rowLimit": 10000
     },
     "inputWidgets": {},
     "nuid": "1d0a40f1-a629-4e07-a52e-7efbf49454f2",
     "showTitle": true,
     "tableResultSettingsMap": {},
     "title": "Expectations collection"
    }
   },
   "outputs": [],
   "source": [
    "# Define a dictionary to hold data quality checks\n",
    "checks = {}\n",
    "\n",
    "# ##############################\n",
    "# # ARIADM-669 (appealType)\n",
    "# ##############################\n",
    "checks[\"valid_appealReferenceNumber_not_null\"] = \"(appealReferenceNumber IS NOT NULL)\"\n",
    "\n",
    "# ##############################\n",
    "# # ARIADM-671 (appealType)\n",
    "# ##############################\n",
    "checks[\"valid_appealtype_in_allowed_values\"] = (\n",
    "    \"(AppealType IN ('refusalOfHumanRights', 'refusalOfEu', 'deprivation', 'protection', 'revocationOfProtection', 'euSettlementScheme'))\"\n",
    ")\n",
    "checks[\"valid_hmctsCaseCategory_not_null\"] = \"(hmctsCaseCategory IS NOT NULL)\"\n",
    "checks[\"valid_appealTypeDescription_not_null\"] = \"(appealTypeDescription IS NOT NULL)\"\n",
    "# Null Values as accepted values as where Representation = AIP\n",
    "checks[\"valid_caseManagementCategory_code_in_list_items\"] = \"\"\"\n",
    "(\n",
    "  caseManagementCategory.value.code IS NULL OR\n",
    "  ARRAY_CONTAINS(\n",
    "    TRANSFORM(caseManagementCategory.list_items, x -> x.code),\n",
    "    caseManagementCategory.value.code\n",
    "  )\n",
    ")\n",
    "\"\"\"\n",
    "checks[\"valid_caseManagementCategory_label_in_list_items\"] = \"\"\"\n",
    "(\n",
    "  caseManagementCategory.value.label IS NULL OR\n",
    "  ARRAY_CONTAINS(\n",
    "    TRANSFORM(caseManagementCategory.list_items, x -> x.label),\n",
    "    caseManagementCategory.value.label\n",
    "  )\n",
    ")\n",
    "\"\"\"\n",
    "\n",
    "# ##############################\n",
    "# # ARIADM-673 (caseData)\n",
    "\n",
    "# \\d is a regular expression (regex) metacharacter that matches any single digit from 0 to 9.\n",
    "# \"yyyy-mm-ddTHH:mm:ssZ\" r'^\\d{4}-\\d{2}-\\d{2}T\\d{2}:\\d{2}:\\d{2}Z$'\" for ISO 8601 datetime format\n",
    "# \"yyyy-MM-dd\" r'^\\d{4}-\\d{2}-\\d{2}$' for ISO 8601 date format\n",
    "##############################\n",
    "checks[\"valid_appealSubmissionDate_format\"] = (\n",
    "    \"(appealSubmissionDate RLIKE r'^\\\\d{4}-\\\\d{2}-\\\\d{2}$')\"\n",
    ")\n",
    "checks[\"valid_appealSubmissionInternalDate_format\"] = (\n",
    "    \"(appealSubmissionInternalDate RLIKE r'^\\\\d{4}-\\\\d{2}-\\\\d{2}$')\"\n",
    ")\n",
    "checks[\"valid_tribunalReceivedDate_format\"] = (\n",
    "    \"(tribunalReceivedDate RLIKE r'^\\\\d{4}-\\\\d{2}-\\\\d{2}$')\"\n",
    ")\n",
    "\n",
    "# ##############################\n",
    "# # ARIADM-675 (caseData)\n",
    "# ##############################\n",
    "checks[\"valid_appellantsRepresentation_yes_no\"] = (\n",
    "    \"(appellantsRepresentation IS NOT NULL AND appellantsRepresentation IN ('Yes', 'No'))\"\n",
    ")\n",
    "checks[\"valid_submissionOutOfTime_yes_no\"] = (\n",
    "    \"(submissionOutOfTime IS NOT NULL AND submissionOutOfTime IN ('Yes', 'No'))\"\n",
    ")\n",
    "checks[\"valid_recordedOutOfTimeDecision_yes_no_or_null\"] = (\n",
    "    \"(recordedOutOfTimeDecision IS NULL OR recordedOutOfTimeDecision IN ('Yes', 'No'))\"\n",
    ")\n",
    "checks[\"valid_applicationOutOfTimeExplanation_yes_no_or_null\"] = (\n",
    "    \"(applicationOutOfTimeExplanation IS NULL OR applicationOutOfTimeExplanation IN ('Yes', 'No'))\"\n",
    ")\n",
    "\n",
    "# ##############################\n",
    "# # ARIADM-708 (CaseData)\n",
    "# ##############################\n",
    "checks[\"valid_hearingCentre_in_allowed_values\"] = \"\"\"\n",
    "(\n",
    "    hearingCentre IN ('taylorHouse', 'newport', 'newcastle', 'manchester', 'hattonCross', \n",
    "    'glasgow', 'bradford', 'birmingham', 'arnhemHouse', 'crownHouse', 'harmondsworth', \n",
    "    'yarlsWood', 'remoteHearing', 'decisionWithoutHearing')\n",
    ")\n",
    "\"\"\"\n",
    "checks[\"valid_staffLocation_not_null\"] = \"(staffLocation IS NOT NULL)\"\n",
    "checks[\"valid_caseManagementLocation_region_and_baseLocation\"] = \"\"\"\n",
    "(\n",
    "  caseManagementLocation.region = '1' AND\n",
    "  caseManagementLocation.baseLocation IN (\n",
    "    '231596', '698118', '366559', '386417', '512401',\n",
    "    '227101', '765324', '366796', '324339', '649000',\n",
    "    '999971', '420587', '28837'\n",
    "  )\n",
    ")\n",
    "\"\"\"\n",
    "checks[\"valid_hearingCentreDynamicList_code_in_list_items\"] = \"\"\"\n",
    "(\n",
    "  hearingCentreDynamicList.value.code IS NOT NULL AND\n",
    "  ARRAY_CONTAINS(\n",
    "    TRANSFORM(hearingCentreDynamicList.list_items, x -> x.code),\n",
    "    hearingCentreDynamicList.value.code\n",
    "  )\n",
    ")\n",
    "\"\"\"\n",
    "checks[\"valid_hearingCentreDynamicList_label_in_list_items\"] = \"\"\"\n",
    "(\n",
    "  hearingCentreDynamicList.value.label IS NOT NULL AND\n",
    "  ARRAY_CONTAINS(\n",
    "    TRANSFORM(hearingCentreDynamicList.list_items, x -> x.label),\n",
    "    hearingCentreDynamicList.value.label\n",
    "  )\n",
    ")\n",
    "\"\"\"\n",
    "checks[\"valid_caseManagementLocationRefData_code_in_list_items\"] = \"\"\"\n",
    "(\n",
    "  caseManagementLocationRefData.baseLocation.value.code IS NOT NULL AND\n",
    "  ARRAY_CONTAINS(\n",
    "    TRANSFORM(caseManagementLocationRefData.baseLocation.list_items, x -> x.code),\n",
    "    caseManagementLocationRefData.baseLocation.value.code\n",
    "  )\n",
    ")\n",
    "\"\"\"\n",
    "checks[\"valid_caseManagementLocationRefData_label_in_list_items\"] = \"\"\"\n",
    "(\n",
    "  caseManagementLocationRefData.baseLocation.value.label IS NOT NULL AND\n",
    "  ARRAY_CONTAINS(\n",
    "    TRANSFORM(caseManagementLocationRefData.baseLocation.list_items, x -> x.label),\n",
    "    caseManagementLocationRefData.baseLocation.value.label\n",
    "  )\n",
    ")\n",
    "\"\"\"\n",
    "checks[\"valid_selectedHearingCentreRefData_not_null\"] = \"(selectedHearingCentreRefData IS NOT NULL)\"\n",
    "\n",
    "\n",
    "# ##############################\n",
    "# # ARIADM-768 (legalRepDetails)\n",
    "# # Null Values as accepted values as where Representation = AIP\n",
    "# ##############################\n",
    "\n",
    "checks[\"valid_legalRepGivenName_not_null\"] = \"((dv_representation = 'LR' AND legalRepGivenName IS NOT NULL) OR (dv_representation != 'LR' AND legalRepGivenName IS NULL))\"\n",
    "\n",
    "checks[\"valid_legalRepFamilyNamePaperJ_not_null\"] = \"((dv_representation = 'LR' AND legalRepFamilyNamePaperJ IS NOT NULL) OR (dv_representation != 'LR' AND legalRepFamilyNamePaperJ IS NULL))\"\n",
    "\n",
    "checks[\"valid_legalRepCompanyPaperJ_not_null\"] = \"((dv_representation = 'LR' AND legalRepCompanyPaperJ IS NOT NULL) OR (dv_representation != 'LR' AND legalRepCompanyPaperJ IS NULL))\"\n",
    "\n",
    "\n",
    "# ##############################\n",
    "# # ARIADM-756 (appellantDetails)\n",
    "# ##############################\n",
    "checks[\"valid_appellantFamilyName_not_null\"] = \"(appellantFamilyName IS NOT NULL)\"\n",
    "checks[\"valid_appellantGivenNames_not_null\"] = \"(appellantGivenNames IS NOT NULL)\"\n",
    "checks[\"valid_appellantFullName_not_null\"] = \"(appellantFullName IS NOT NULL)\"\n",
    "checks[\"valid_appellantNameForDisplay_not_null\"] = \"(appellantNameForDisplay IS NOT NULL)\"\n",
    "\n",
    "checks[\"valid_appellantDateOfBirth_format\"] = (\n",
    "    \"(appellantDateOfBirth RLIKE r'^\\\\d{4}-\\\\d{2}-\\\\d{2}$')\"\n",
    ")\n",
    "checks[\"valid_caseNameHmctsInternal_not_null\"] = \"(caseNameHmctsInternal IS NOT NULL)\"\n",
    "checks[\"valid_hmctsCaseNameInternal_not_null\"] = \"(hmctsCaseNameInternal IS NOT NULL)\"\n",
    "\n",
    "# ##############################\n",
    "# # ARIADM-771 (AppealType - legalRepDetails)\n",
    "# ##############################\n",
    "\n",
    "checks[\"valid_legalrepEmail_not_null\"] = \"((dv_representation = 'LR' AND legalRepEmail RLIKE r'^([a-zA-Z0-9_\\\\-\\\\.]+)@([a-zA-Z0-9_\\\\-\\\\.]+)\\\\.([a-zA-Z]{2,5})$') OR (dv_representation != 'LR' AND legalRepEmail IS NULL))\"\n",
    "\n",
    "# ##############################\n",
    "# # ARIADM-758 (appellantDetails)\n",
    "# ##############################\n",
    "\n",
    "checks[\"valid_isAppellantMinor_yes_no\"] = (\n",
    "    \"(isAppellantMinor IS NOT NULL AND isAppellantMinor IN ('Yes', 'No'))\"\n",
    ")\n",
    "checks[\"valid_deportationOrderOptions_yes_no\"] = (\n",
    "    \"(deportationOrderOptions IS NULL OR deportationOrderOptions IN ('Yes', 'No'))\"\n",
    ")\n",
    "checks[\"valid_appellantInUk_yes_no\"] = (\n",
    "    \"(appellantInUk IS  NULL OR appellantInUk IN ('Yes', 'No'))\"\n",
    ")\n",
    "checks[\"valid_appealOutOfCountry_yes_no\"] = (\n",
    "    \"(appealOutOfCountry IS  NULL OR appealOutOfCountry IN ('Yes', 'No'))\"\n",
    ")\n",
    "\n",
    "# ##############################\n",
    "# # ARIADM-769 (legalRepDetails - Address logic)CaseRepAddress5\n",
    "# ##############################\n",
    "\n",
    "checks[\"valid_legalRepHasAddress_yes_no\"] = ( #Omit non-LR records. NLE data will fail all expectations (55) as address are non-UK\n",
    "  \"((dv_representation = 'LR' AND legalRepHasAddress IS NOT NULL AND legalRepHasAddress = 'Yes') OR (dv_representation != 'LR' AND legalRepHasAddress IS NULL))\"\n",
    ")\n",
    "checks[\"valid_legalRepHasAddressUK\"]   = ( #Omit non-LR records. All fields are null, hence all expectations will fail. (55)\n",
    "  \"(((dv_representation = 'LR' AND oocAddressLine1 IS NOT NULL AND LEN(oocAddressLine1) < 151) OR (dv_representation != 'LR' AND oocAddressLine1 IS NULL)\"\n",
    "  \"OR ((dv_representation = 'LR' AND LEN(oocAddressLine2) < 51) OR (dv_representation != 'LR' AND oocAddressLine2 IS NULL))\" \n",
    "  \"OR ((dv_representation = 'LR' AND LEN(oocAddressLine3) < 51) OR (dv_representation != 'LR' AND oocAddressLine3 IS NULL))\"\n",
    "  \"OR ((dv_representation = 'LR' AND LEN(oocAddressLine4) < 51) OR (dv_representation != 'LR' AND oocAddressLine4 IS NULL))\"\n",
    "  \"OR ((dv_representation = 'LR' AND LEN(CaseRep_Address5) < 51) OR (dv_representation != 'LR' AND CaseRep_Address5 IS NULL))\"\n",
    "  \"OR ((dv_representation = 'LR' AND LEN(CaseRep_Postcode) < 15) OR (dv_representation != 'LR' AND CaseRep_Postcode IS NULL))))\"\n",
    ")   \n",
    "checks[\"valid_oocAddressLine1\"] = ( #Omit non-LR records. NLE data will fail all expectations (55) as fields are null\n",
    "  \"((dv_representation = 'LR' AND oocAddressLine1 IS NOT NULL) OR (dv_representation != 'LR' AND oocAddressLine1 IS NULL))\"\n",
    ")\n",
    "checks[\"valid_oocAddressLine2\"] = ( #Omit non-LR records. NLE data will fail all expectations (55) as fields are null\n",
    "  \"((dv_representation = 'LR' AND oocAddressLine2 IS NOT NULL) OR (dv_representation != 'LR' AND oocAddressLine2 IS NULL))\"\n",
    ")\n",
    "checks[\"valid_oocAddressLine3\"] = ( #Omit non-LR records. NLE data will fail all expectations (55) as fields are null\n",
    "  \"((dv_representation = 'LR' AND oocAddressLine3 IS NOT NULL) OR (dv_representation != 'LR' AND oocAddressLine3 IS NULL))\"\n",
    ")\n",
    "checks[\"valid_oocAddressLine4\"] = ( #Omit non-LR records. NLE data will fail all expectations (55) as fields are null\n",
    "  \"((dv_representation = 'LR' AND oocAddressLine4 IS NOT NULL) OR (dv_representation != 'LR' AND oocAddressLine4 IS NULL))\"\n",
    ")\n",
    "checks[\"valid_oocrCountryGovUkAdminJ\"] = ( #Omit non-LR records. NLE data will fail all expectations (55) as fields are null\n",
    "  \"((dv_representation = 'LR' AND CaseRep_Address5 IS NOT NULL AND valid_countryGovUkOocAdminJ IS NOT NULL ) OR (dv_representation != 'LR' AND CaseRep_Address5 IS NULL))\"\n",
    "  )\n",
    "\n",
    "# ##############################\n",
    "# # ARIADM-766 (appellantStateless)\n",
    "# ##############################\n",
    "checks[\"valid_appellantStateless_values\"] = (\"(appellantStateless IN ('isStateless', 'hasNationality'))\")\n",
    "\n",
    "checks[\"valid_appellantNationalitiesDescription_not_null\"] = \"(appellantNationalitiesDescription IS NOT NULL)\"\n",
    "\n",
    "checks[\"valid_appellantNationalities_not_null\"] = (\"(appellantNationalities IS NOT NULL)\")\n",
    "\n",
    "##############################\n",
    "# ARIADM-760 (appellantDetails) - appellantHasFixedAddress and appellantAddress\n",
    "##############################\n",
    "\n",
    "# Only include if CategoryIdList contains 37; check for 'Yes' or 'No'\n",
    "checks[\"valid_appellantHasFixedAddress_yes_no_if_cat37\"] = (\n",
    "    \"( (array_contains(valid_categoryIdList, 37) AND appellantHasFixedAddress IS NOT NULL AND appellantHasFixedAddress IN ('Yes', 'No')) OR (NOT array_contains(valid_categoryIdList, 37)) )\"\n",
    ")\n",
    "\n",
    "# ARIADM-XXX (appellantAddress expectations)\n",
    "# Only include if array_contains(valid_categoryIdList, 37)\n",
    "checks[\"valid_appellantAddress_AddressLine1_mandatory_and_length\"] = (\n",
    "    \"( (array_contains(valid_categoryIdList, 37) AND appellantAddress.Address_Line1 IS NOT NULL AND LENGTH(appellantAddress.Address_Line1) <= 150) OR (NOT array_contains(valid_categoryIdList, 37)) )\"\n",
    ")\n",
    "checks[\"valid_appellantAddress_AddressLine2_length\"] = (\n",
    "    \"( (array_contains(valid_categoryIdList, 37) AND (appellantAddress.AddressLine2 IS NULL OR LENGTH(appellantAddress.AddressLine2) <= 50)) OR (NOT array_contains(valid_categoryIdList, 37)) )\"\n",
    ")\n",
    "checks[\"valid_appellantAddress_AddressLine3_length\"] = (\n",
    "    \"( (array_contains(valid_categoryIdList, 37) AND (appellantAddress.AddressLine3 IS NULL OR LENGTH(appellantAddress.AddressLine3) <= 50)) OR (NOT array_contains(valid_categoryIdList, 37)) )\"\n",
    ")\n",
    "checks[\"valid_appellantAddress_PostTown_length\"] = (\n",
    "    \"( (array_contains(valid_categoryIdList, 37) AND (appellantAddress.PostTown IS NULL OR LENGTH(appellantAddress.PostTown) <= 50)) OR (NOT array_contains(valid_categoryIdList, 37)) )\"\n",
    ")\n",
    "checks[\"valid_appellantAddress_County_length\"] = (\n",
    "    \"( (array_contains(valid_categoryIdList, 37) AND (appellantAddress.County IS NULL OR LENGTH(appellantAddress.County) <= 50)) OR (NOT array_contains(valid_categoryIdList, 37)) )\"\n",
    ")\n",
    "checks[\"valid_appellantAddress_PostCode_length\"] = (\n",
    "    \"( (array_contains(valid_categoryIdList, 37) AND (appellantAddress.PostCode IS NULL OR LENGTH(appellantAddress.PostCode) <= 14)) OR (NOT array_contains(valid_categoryIdList, 37)) )\"\n",
    ")\n",
    "checks[\"valid_appellantAddress_Country_length\"] = (\n",
    "    \"( (array_contains(valid_categoryIdList, 37) AND (appellantAddress.Country IS NULL OR LENGTH(appellantAddress.Country) <= 50)) OR (NOT array_contains(valid_categoryIdList, 37)) )\"\n",
    ")\n",
    "\n",
    "\n",
    "# #############################\n",
    "# # ARIADM-709 (flagsLabels)\n",
    "# #############################\n",
    "\n",
    "checks[\"valid_journeyType_aip_orNull\"] = \"((dv_representation = 'AIP' AND journeyType = 'aip') OR (dv_representation != 'AIP' AND journeyType IS NULL))\"\n",
    "\n",
    "# #############################\n",
    "# # ARIADM-710 (flagsLabels)\n",
    "# #############################\n",
    "\n",
    "checks[\"valid_isAriaMigratedFeeExemption_yes_no\"] = \"((dv_CCDAppealType = 'DA' AND isAriaMigratedFeeExemption = 'Yes') OR (dv_CCDAppealType != 'DA' AND isAriaMigratedFeeExemption = 'No'))\"\n",
    "\n",
    "# ##############################\n",
    "# # ARIADM-712 (flagsLabel)- caseFlags\n",
    "# ##############################\n",
    "checks[\"valid_caseFlags_name_in_list\"] = \"\"\"\n",
    "(\n",
    "  caseFlags.details IS NULL OR\n",
    "  ARRAY_CONTAINS(\n",
    "    TRANSFORM(caseFlags.details, x -> x.value.name),\n",
    "    caseFlags.details[0].value.name\n",
    "  )\n",
    ")\n",
    "\"\"\"\n",
    "checks[\"valid_caseFlags_pathId_in_list\"] = \"\"\"\n",
    "(\n",
    "  caseFlags.details IS NULL OR\n",
    "  ARRAY_CONTAINS(\n",
    "    TRANSFORM(caseFlags.details, x -> x.value.path[0].id),\n",
    "    caseFlags.details[0].value.path[0].id\n",
    "  )\n",
    ")\n",
    "\"\"\"\n",
    "checks[\"valid_caseFlags_flagCode_in_list\"] = \"\"\"\n",
    "(\n",
    "  caseFlags.details IS NULL OR\n",
    "  ARRAY_CONTAINS(\n",
    "    TRANSFORM(caseFlags.details, x -> x.value.flagCode),\n",
    "    caseFlags.details[0].value.flagCode\n",
    "  )\n",
    ")\n",
    "\"\"\"\n",
    "checks[\"valid_caseFlags_flagComment_in_list\"] = \"\"\"\n",
    "(\n",
    "  caseFlags.details IS NULL OR\n",
    "  ARRAY_CONTAINS(\n",
    "    TRANSFORM(caseFlags.details, x -> x.value.flagComment),\n",
    "    caseFlags.details[0].value.flagComment\n",
    "  )\n",
    ")\n",
    "\"\"\"\n",
    "checks[\"valid_caseFlags_hearingRelevant_in_list\"] = \"\"\"\n",
    "(\n",
    "  caseFlags.details IS NULL OR\n",
    "  ARRAY_CONTAINS(\n",
    "    TRANSFORM(caseFlags.details, x -> x.value.hearingRelevant),\n",
    "    caseFlags.details[0].value.hearingRelevant\n",
    "  )\n",
    ")\n",
    "\"\"\"\n",
    "\n",
    "# ##############################\n",
    "# # ARIADM-712 (flagsLabel)- appellantLevelFlags\n",
    "# ##############################\n",
    "\n",
    "checks[\"valid_appellantLevelFlags_name_in_details\"] = \"\"\"\n",
    "(\n",
    "  appellantLevelFlags.details[0].value.name IS NULL OR\n",
    "  ARRAY_CONTAINS(\n",
    "    TRANSFORM(appellantLevelFlags.details, x -> x.value.name),\n",
    "    appellantLevelFlags.details[0].value.name\n",
    "  )\n",
    ")\n",
    "\"\"\"\n",
    "\n",
    "checks[\"valid_appellantLevelFlags_path_id_in_details\"] = \"\"\"\n",
    "(\n",
    "  appellantLevelFlags.details[0].value.path[0].id IS NULL OR\n",
    "  ARRAY_CONTAINS(\n",
    "    TRANSFORM(appellantLevelFlags.details, x -> x.value.path[0].id),\n",
    "    appellantLevelFlags.details[0].value.path[0].id\n",
    "  )\n",
    ")\n",
    "\"\"\"\n",
    "\n",
    "checks[\"valid_appellantLevelFlags_flagCode_in_details\"] = \"\"\"\n",
    "(\n",
    "  appellantLevelFlags.details[0].value.flagCode IS NULL OR\n",
    "  ARRAY_CONTAINS(\n",
    "    TRANSFORM(appellantLevelFlags.details, x -> x.value.flagCode),\n",
    "    appellantLevelFlags.details[0].value.flagCode\n",
    "  )\n",
    ")\n",
    "\"\"\"\n",
    "\n",
    "checks[\"valid_appellantLevelFlags_flagComment_in_details\"] = \"\"\"\n",
    "(\n",
    "  appellantLevelFlags.details[0].value.flagComment IS NULL OR\n",
    "  ARRAY_CONTAINS(\n",
    "    TRANSFORM(appellantLevelFlags.details, x -> x.value.flagComment),\n",
    "    appellantLevelFlags.details[0].value.flagComment\n",
    "  )\n",
    ")\n",
    "\"\"\"\n",
    "\n",
    "checks[\"valid_appellantLevelFlags_hearingRelevant_in_details\"] = \"\"\"\n",
    "(\n",
    "  appellantLevelFlags.details[0].value.hearingRelevant IS NULL OR\n",
    "  ARRAY_CONTAINS(\n",
    "    TRANSFORM(appellantLevelFlags.details, x -> x.value.hearingRelevant),\n",
    "    appellantLevelFlags.details[0].value.hearingRelevant\n",
    "  )\n",
    ")\n",
    "\"\"\"\n",
    "\n",
    "# ##############################\n",
    "# # ARIADM-780 (PartyID)\n",
    "# ##############################\n",
    "\n",
    "checks[\"valid_appellantPartyId_not_null\"] = (\n",
    "  \"(appellantPartyId IS NOT NULL)\"\n",
    "  )\n",
    "checks[\"valid_legalRepIndividualPartyId_not_null\"] = ( #If appellantsRep = no then appellantsRep = LR\n",
    "  \"(legalRepIndividualPartyId IS NOT NULL AND appellantsRepresentation = 'No')\"\n",
    "  )\n",
    "checks[\"validlegalRepOrganisationPartyId_not_null\"] = ( #If appellantsRep = no then appellantsRep = LR\n",
    "  \"(legalRepOrganisationPartyId IS NOT NULL AND appellantsRepresentation = 'No')\"\n",
    "  )\n",
    "checks[\"valid_sponsorPartyId_not_null\"] = (\n",
    "  \"(sponsorPartyId IS NOT NULL)\"\n",
    "  )\n",
    "\n",
    "# ##############################\n",
    "# # ARIADM-783 (payment)\n",
    "# ##############################\n",
    "checks[\"valid_feeAmountGbp\"] = ( # fee amount is not null and is an int\n",
    "    \"(dv_CCDAppealType IN ('EA','EU','HU','PA') AND (feeAmountGbp IS NOT NULL) AND (TRY_CAST(feeAmountGbp AS INT) IS NOT NULL)) OR (dv_CCDAppealType NOT IN ('EA','EU','HU','PA') AND (feeAmountGbp IS NULL))\"\n",
    "    )\n",
    "\n",
    "# checks[\"valid_feeAmountGbp\"] = ( # fee amount is not null and is an int\n",
    "#     \"(feeAmountGbp IS NOT NULL AND TRY_CAST(feeAmountGbp AS INT) IS NOT NULL)\"\n",
    "# )\n",
    "\n",
    "checks[\"valid_feeDescription\"] = ( #feeDescription is not null\n",
    "    \"(dv_CCDAppealType IN ('EA','EU','HU','PA') AND (feeDescription IS NOT NULL)) OR (dv_CCDAppealType NOT IN ('EA','EU','HU','PA') AND (feeDescription IS NULL))\"\n",
    ")\n",
    "\n",
    "# checks[\"valid_feeDescription\"] = ( #feeDescription is not null\n",
    "#     \"(feeDescription IS NOT NULL)\"\n",
    "# )\n",
    "\n",
    "checks[\"valid_feeWithHearing\"] = ( # feeWithHearing is not null and is an int\n",
    "    \"(dv_CCDAppealType IN ('EA','EU','HU','PA') AND (feeWithHearing IS NOT NULL) AND (TRY_CAST(feeWithHearing AS INT) IS NOT NULL)) OR (dv_CCDAppealType NOT IN ('EA','EU','HU','PA') AND (feeWithHearing IS NULL))\"\n",
    ")\n",
    "\n",
    "# checks[\"valid_feeWithHearing\"] = ( # feeWithHearing is not null and is an int\n",
    "#     \"(feeWithHearing IS NOT NULL AND TRY_CAST(feeWithHearing AS INT) IS NOT NULL)\"\n",
    "# )\n",
    "\n",
    "checks[\"valid_feeWithoutHearing\"] = (# feeWithoutHearing is not null and is an int\n",
    "    \"(dv_CCDAppealType IN ('EA','EU','HU','PA') AND (feeWithoutHearing IS NOT NULL) AND (TRY_CAST(feeWithoutHearing AS INT) IS NOT NULL)) OR (dv_CCDAppealType NOT IN ('EA','EU','HU','PA') AND (feeWithoutHearing IS NULL))\"\n",
    ")\n",
    "\n",
    "# checks[\"valid_feeWithoutHearing\"] = (# feeWithoutHearing is not null and is an int\n",
    "#     \"(feeWithoutHearing IS NOT NULL AND TRY_CAST(feeWithoutHearing AS INT) IS NOT NULL)\"\n",
    "# )\n",
    "\n",
    "checks[\"valid_paymentDescription\"] = ( # paymentDescription is not null\n",
    "    \"(dv_CCDAppealType IN ('EA','EU','HU','PA') AND (paymentDescription IS NOT NULL)) OR (dv_CCDAppealType NOT IN ('EA','EU','HU','PA') AND (paymentDescription IS NULL))\"\n",
    ")\n",
    "\n",
    "# checks[\"valid_paymentDescription\"] = ( # paymentDescription is not null\n",
    "#     \"(paymentDescription IS NOT NULL)\"\n",
    "# )\n",
    "\n",
    "checks[\"valid_paymentStatus\"] = ( # paymentStatus is not null\n",
    "  \"(dv_CCDAppealType IN ('EA','EU','HU','PA') AND (paymentStatus IS NOT NULL)) OR (dv_CCDAppealType NOT IN ('EA','EU','HU','PA') AND (paymentStatus IS NULL))\"\n",
    ")\n",
    "\n",
    "# checks[\"valid_paymentStatus\"] = ( # paymentStatus is not null\n",
    "#   \"(paymentStatus IS NOT NULL)\"\n",
    "# )\n",
    "\n",
    "checks[\"valid_feeVersion\"] = ( # feeVersion is not null\n",
    "  \"(dv_CCDAppealType IN ('EA','EU','HU','PA') AND (feeVersion IS NOT NULL)) OR (dv_CCDAppealType NOT IN ('EA','EU','HU','PA') AND (feeVersion IS NULL))\"\n",
    ")\n",
    "\n",
    "# checks[\"valid_feeVersion\"] = ( # feeVersion is not null\n",
    "#   \"(feeVersion IS NOT NULL)\"\n",
    "# )\n",
    "\n",
    "checks[\"valid_feePaymentAppealType\"] = ( # feePaymentAppealType is not null\n",
    "  \"(dv_CCDAppealType IN ('EA','EU','HU','PA') AND (feePaymentAppealType IS NOT NULL)) OR (dv_CCDAppealType NOT IN ('EA','EU','HU','PA') AND (feePaymentAppealType IS NULL))\"\n",
    ")\n",
    "\n",
    "# checks[\"valid_feePaymentAppealType\"] = ( # feePaymentAppealType is not null\n",
    "#   \"(feePaymentAppealType IS NOT NULL)\"\n",
    "# )\n",
    "\n",
    "# ##############################\n",
    "# # ARIADM-785 (remissionTypes)\n",
    "# ############################## \n",
    "\n",
    "checks[\"valid_remissionType_in_list\"] = (\n",
    "    \"(remissionType IN ('noRemission', 'hoWaiverRemission', 'helpWithFees', 'exceptionalCircumstancesRemission') AND dv_CCDAppealType IN ('EA', 'EU', 'HU', 'PA')) OR (remissionType IS NULL AND dv_CCDAppealType NOT IN ('EA', 'EU', 'HU', 'PA'))\"\n",
    ")\n",
    "\n",
    "checks[\"valid_remissionClaim_in_list\"] = (\n",
    "    \"(remissionClaim IN ('asylumSupport', 'legalAid', 'section17', 'section20', 'homeOfficeWaiver') AND dv_CCDAppealType IN ('EA', 'EU', 'HU', 'PA')) OR (remissionClaim IS NULL AND dv_CCDAppealType NOT IN ('EA', 'EU', 'HU', 'PA'))\"\n",
    ")\n",
    "\n",
    "checks[\"valid_feeRemissionType_not_null\"] = (\n",
    "    \"(feeRemissionType IS NOT NULL AND dv_CCDAppealType IN ('EA', 'EU', 'HU', 'PA')) OR (dv_CCDAppealType NOT IN ('EA', 'EU', 'HU', 'PA') AND feeRemissionType IS NULL)\"\n",
    ")\n",
    "\n",
    "# ##############################\n",
    "# # ARIADM-786 (remissionTypes)\n",
    "# ##############################\n",
    "\n",
    "checks[\"valid_exceptionalCircumstances_not_null\"] = (\n",
    "    \"(exceptionalCircumstances IS NOT NULL AND dv_CCDAppealType IN ('EA', 'EU', 'HU', 'PA')) OR (dv_CCDAppealType NOT IN ('EA', 'EU', 'HU', 'PA') AND exceptionalCircumstances IS NULL)\"\n",
    ")\n",
    "\n",
    "checks[\"valid_helpWithFeesReferenceNumber_not_null\"] = (\n",
    "    \"(helpWithFeesReferenceNumber IS NOT NULL AND dv_CCDAppealType IN ('EA', 'EU', 'HU', 'PA')) OR (dv_CCDAppealType NOT IN ('EA', 'EU', 'HU', 'PA') AND helpWithFeesReferenceNumber IS NULL)\"\n",
    ")\n",
    "\n",
    "checks[\"valid_legalAidAccountNumber_not_null\"] = (\n",
    "    \"(legalAidAccountNumber IS NOT NULL AND dv_CCDAppealType IN ('EA', 'EU', 'HU', 'PA')) OR (dv_CCDAppealType NOT IN ('EA', 'EU', 'HU', 'PA') AND legalAidAccountNumber IS NULL)\"\n",
    ")\n",
    "\n",
    "checks[\"valid_asylumSupportReference_not_null\"] = (\n",
    "    \"(asylumSupportReference IS NOT NULL AND dv_CCDAppealType IN ('EA', 'EU', 'HU', 'PA')) OR (dv_CCDAppealType NOT IN ('EA', 'EU', 'HU', 'PA') AND asylumSupportReference IS NULL)\"\n",
    ")\n",
    "\n",
    "##############################\n",
    "# ARIADM-773 (SponsorDetails)\n",
    "##############################\n",
    "checks[\"valid_hasSponsor_yes_no\"] = (\n",
    "    \"(hasSponsor IS NOT NULL AND hasSponsor IN ('Yes', 'No'))\"\n",
    ")\n",
    "\n",
    "checks[\"valid_sponsorGivenNames_not_null\"] = (\n",
    "    \"(((array_contains(valid_categoryIdList, 38)) AND hasSponsor = 'Yes' AND sponsorGivenNames IS NOT NULL) OR (NOT array_contains(valid_categoryIdList, 38) AND hasSponsor = 'No' AND sponsorGivenNames IS NULL))\"\n",
    ")\n",
    "\n",
    "checks[\"valid_sponsorFamilyName_not_null\"] = (\n",
    "    \"(((array_contains(valid_categoryIdList, 38) AND hasSponsor = 'Yes' AND sponsorFamilyName IS NOT NULL) OR (NOT array_contains(valid_categoryIdList, 38) AND hasSponsor = 'No' AND sponsorFamilyName IS NULL)))\"\n",
    ")\n",
    "\n",
    "checks[\"valid_sponsorAuthorisation_yes_no\"] = (\n",
    "    \"((array_contains(valid_categoryIdList, 38) AND hasSponsor = 'Yes' AND sponsorAuthorisation IN ('Yes', 'No')))\"\n",
    ")\n",
    "\n",
    "##############################\n",
    "# ARIADM-776 (SponsorDetails)\n",
    "##############################\n",
    "checks[\"valid_sponsorAddress_not_null\"] = (\n",
    "    \"(((array_contains(valid_categoryIdList, 38) AND hasSponsor = 'Yes' AND sponsorAddress IS NOT NULL) OR (NOT array_contains(valid_categoryIdList, 38) AND hasSponsor = 'No' AND sponsorAddress IS NULL)))\"\n",
    ")\n",
    "##############################\n",
    "# ARIADM-778 (SponsorDetails)\n",
    "##############################\n",
    "checks[\"valid_sponsorEmailAdminJ\"] = (\n",
    "    \"(((array_contains(valid_categoryIdList, 38) AND hasSponsor = 'Yes' AND sponsorEmailAdminJ IS NOT NULL) \"\n",
    "    \"OR (NOT array_contains(valid_categoryIdList, 38) OR hasSponsor = 'No') AND sponsorEmailAdminJ IS NULL))\"\n",
    ")\n",
    "\n",
    "checks[\"valid_sponsorMobileNumberAdminJ\"] = (\n",
    "    \"(((array_contains(valid_categoryIdList, 38) AND hasSponsor = 'Yes' AND sponsorMobileNumberAdminJ IS NOT NULL) \"\n",
    "    \"OR (NOT array_contains(valid_categoryIdList, 38) OR hasSponsor = 'No') AND sponsorMobileNumberAdminJ IS NULL))\"\n",
    ")\n",
    "# ##############################\n",
    "# ARIADM-760 (appellantDetails)\n",
    "# ARIADM-762 (appellantDetails)\n",
    "# ##############################\n",
    "checks[\"valid_oocAppealAdminJ_values\"] = (\n",
    "    \"( ( (array_contains(valid_categoryIdList, 38) OR MainRespondentId = 4) \"\n",
    "    \"AND oocAppealAdminJ IN ('entryClearanceDecision', 'leaveUk', 'none') ) \"\n",
    "    \"OR (oocAppealAdminJ IS NULL) )\"\n",
    ")\n",
    "\n",
    "# Only IF CategoryId IN [38] = Include; ELSE null\n",
    "checks[\"valid_appellantHasFixedAddressAdminJ\"] = (\n",
    "    \"( (array_contains(valid_categoryIdList, 38) AND appellantHasFixedAddressAdminJ IN ('Yes', 'No')) \"\n",
    "    \"OR (NOT array_contains(valid_categoryIdList, 38) AND appellantHasFixedAddressAdminJ IS NULL) )\"\n",
    ")\n",
    "\n",
    "# addressLine1AdminJ: IS NOT NULL when array_contains(valid_categoryIdList, 38) AND at least one of the coalesce fields is not null; ELSE can be NULL\n",
    "checks[\"valid_addressLine1AdminJ\"] = (\n",
    "    \"( (array_contains(valid_categoryIdList, 38) AND \"\n",
    "    \"(Appellant_Address1 IS NOT NULL OR Appellant_Address2 IS NOT NULL OR Appellant_Address3 IS NOT NULL OR Appellant_Address4 IS NOT NULL OR Appellant_Address5 IS NOT NULL OR Appellant_Postcode IS NOT NULL) \"\n",
    "    \"AND addressLine1AdminJ IS NOT NULL) \"\n",
    "    \"OR (addressLine1AdminJ IS NULL) )\"\n",
    ")\n",
    "\n",
    "# addressLine2AdminJ: IS NOT NULL when array_contains(valid_categoryIdList, 38) AND dv_representation = 'LR' AND at least one of the coalesce fields is not null; ELSE can be NULL\n",
    "checks[\"valid_addressLine2AdminJ\"] = (\n",
    "    \"( (array_contains(valid_categoryIdList, 38) AND dv_representation = 'LR' AND \"\n",
    "    \"(Appellant_Address2 IS NOT NULL OR Appellant_Address3 IS NOT NULL OR Appellant_Address4 IS NOT NULL OR Appellant_Address5 IS NOT NULL OR Appellant_Postcode IS NOT NULL) \"\n",
    "    \"AND addressLine2AdminJ IS NOT NULL) \"\n",
    "    \"OR (addressLine2AdminJ IS NULL) )\"\n",
    ")\n",
    "\n",
    "# addressLine3AdminJ: IS NOT NULL when array_contains(valid_categoryIdList, 38) AND at least one of the coalesce fields is not null; ELSE can be NULL\n",
    "checks[\"valid_addressLine3AdminJ\"] = (\n",
    "    \"( (array_contains(valid_categoryIdList, 38) AND \"\n",
    "    \"(Appellant_Address3 IS NOT NULL OR Appellant_Address4 IS NOT NULL) \"\n",
    "    \"AND addressLine3AdminJ IS NOT NULL) \"\n",
    "    \"OR ( addressLine3AdminJ IS NULL) )\"\n",
    ")\n",
    "\n",
    "# addressLine4AdminJ: IS NOT NULL when array_contains(valid_categoryIdList, 38) AND at least one of the coalesce fields is not null; ELSE can be NULL\n",
    "checks[\"valid_addressLine4AdminJ\"] = (\n",
    "    \"( (array_contains(valid_categoryIdList, 38) AND \"\n",
    "    \"(Appellant_Address5 IS NOT NULL OR Appellant_Postcode IS NOT NULL) \"\n",
    "    \"AND addressLine4AdminJ IS NOT NULL) \"\n",
    "    \"OR ( addressLine4AdminJ IS NULL) )\"\n",
    ")\n",
    "\n",
    "# countryGovUkOocAdminJ: IS NOT NULL when array_contains(valid_categoryIdList, 38); ELSE can be NULL\n",
    "checks[\"valid_countryGovUkOocAdminJ\"] = (\n",
    "    \"( (array_contains(valid_categoryIdList, 38) AND countryGovUkOocAdminJ IS NOT NULL) \"\n",
    "    \"OR (countryGovUkOocAdminJ IS NULL) )\"\n",
    ")\n",
    "##############################\n",
    "# AARIADM-764 (appellantDetails)\n",
    "##############################\n",
    "# ^([a-zA-Z0-9_\\-\\.]+)@([a-zA-Z0-9_\\-\\.]+)\\.([a-zA-Z]{2,5})$ \n",
    "checks[\"valid_internalAppellantEmail_format\"] = (\n",
    "    \"( internalAppellantEmail RLIKE r'^([a-zA-Z0-9_\\\\-\\\\.]+)@([a-zA-Z0-9_\\\\-\\\\.]+)\\\\.([a-zA-Z]{2,5})$' OR internalAppellantEmail IS NULL)\"\n",
    ")\n",
    "\n",
    "checks[\"valid_email_format\"] = (\n",
    "    \"(email RLIKE r'^([a-zA-Z0-9_\\\\-\\\\.]+)@([a-zA-Z0-9_\\\\-\\\\.]+)\\\\.([a-zA-Z]{2,5})$' OR email IS NULL)\"\n",
    ")\n",
    "\n",
    "checks[\"valid_internalAppellantMobileNumber\"] = (\n",
    "    \"(internalAppellantMobileNumber RLIKE r'^(?=(?:\\\\D*\\\\d){7,15}\\\\D*$)\\\\+?(\\\\d[\\\\d-. ]+)?(\\\\([\\\\d-. ]+\\\\))?[\\\\d-. ]*\\\\d$' OR internalAppellantMobileNumber IS NULL)\"\n",
    ")\n",
    "\n",
    "# ^(?=(?:\\D*\\d){7,15}\\D*$)\\+?(\\d[\\d-. ]+)?(\\([\\d-. ]+\\))?[\\d-. ]*\\d$\n",
    "checks[\"valid_mobileNumber\"] = (\n",
    "    \"(mobileNumber RLIKE r'^(?=(?:\\\\D*\\\\d){7,15}\\\\D*$)\\\\+?(\\\\d[\\\\d-. ]+)?(\\\\([\\\\d-. ]+\\\\))?[\\\\d-. ]*\\\\d$' OR mobileNumber IS NULL)\"\n",
    ")\n",
    "##############################\n",
    "# ARIADM-778 (General)\n",
    "##############################\n",
    "checks[\"isServiceRequestTabVisibleConsideringRemissions_yes_no\"] = (\n",
    "    \"(isServiceRequestTabVisibleConsideringRemissions IS NOT NULL AND isServiceRequestTabVisibleConsideringRemissions IN ('Yes', 'No'))\"\n",
    ")\n",
    "\n",
    "checks[\"lu_applicationChangeDesignatedHearingCentre_fixed_list\"] = (\n",
    "  \"(lu_applicationChangeDesignatedHearingCentre IS NOT NULL AND lu_applicationChangeDesignatedHearingCentre IN ('taylorHouse', 'newport', 'newcastle', 'manchester', 'hattonCross' ,'glasgow' ,'bradford' ,'birmingham', 'arnhemHouse', 'crownHouse', 'harmondsworth', 'yarlsWood', 'remoteHearing', 'decisionWithoutHearing'))\"\n",
    ")\n",
    "#########################################\n",
    "# ARIADM-788 and ARIADM-792 (homeOffice)\n",
    "#########################################\n",
    "checks[\"valid_homeOfficeDecisionDate_format\"] = (\n",
    "    \"(homeOfficeDecisionDate IS NOT NULL AND homeOfficeDecisionDate RLIKE r'^\\\\d{4}-\\\\d{2}-\\\\d{2}$')\"\n",
    ")\n",
    "\n",
    "checks[\"valid_decisionLetterReceivedDate_format\"] = (\n",
    "    \"(decisionLetterReceivedDate IS NOT NULL AND decisionLetterReceivedDate RLIKE r'^\\\\d{4}-\\\\d{2}-\\\\d{2}$')\"\n",
    ")\n",
    "\n",
    "checks[\"valid_dateEntryClearanceDecision_format\"] = (\n",
    "    \"(dateEntryClearanceDecision IS NOT NULL AND dateEntryClearanceDecision RLIKE r'^\\\\d{4}-\\\\d{2}-\\\\d{2}$')\"\n",
    ")\n",
    "\n",
    "checks[\"valid_homeOfficeReferenceNumber_not_null\"] = (\n",
    "    \"(homeOfficeReferenceNumber IS NOT NULL)\"\n",
    ")\n",
    "\n",
    "checks[\"valid_gwfReferenceNumber_not_null\"] = (\n",
    "    \"(gwfReferenceNumber IS NOT NULL)\"\n",
    ")\n",
    "\n",
    "#########################################\n",
    "# ARIADM-799 (Documents)\n",
    "#########################################\n",
    "\n",
    "checks[\"valid_uploadTheAppealFormDocs\"] = (\n",
    "  \"(uploadTheAppealFormDocs IS NOT NULL)\"\n",
    ")\n",
    "\n",
    "checks[\"valid_caseNotes\"] = (\n",
    "  \"(caseNotes IS NOT NULL)\"\n",
    ")\n",
    "\n",
    "checks[\"valid_tribunalDocuments\"] = (\n",
    "  \"(tribunalDocuments IS NOT NULL)\"\n",
    ")\n",
    "\n",
    "checks[\"valid_legalRepresentativeDocuments\"] = (\n",
    "  \"(legalRepresentativeDocuments IS NOT NULL)\"\n",
    ")"
   ]
  },
  {
   "cell_type": "code",
   "execution_count": 0,
   "metadata": {
    "application/vnd.databricks.v1+cell": {
     "cellMetadata": {
      "byteLimit": 2048000,
      "rowLimit": 10000
     },
     "inputWidgets": {},
     "nuid": "68b88c16-e4c6-4ba2-81c9-7f755c89ae30",
     "showTitle": true,
     "tableResultSettingsMap": {},
     "title": "Combine Validation Checks into String"
    }
   },
   "outputs": [],
   "source": [
    "dq_rules = \"({0})\".format(\" AND \".join(checks.values()))"
   ]
  },
  {
   "cell_type": "code",
   "execution_count": 0,
   "metadata": {
    "application/vnd.databricks.v1+cell": {
     "cellMetadata": {
      "byteLimit": 2048000,
      "rowLimit": 10000
     },
     "inputWidgets": {},
     "nuid": "f3d01276-8aa3-40b8-9143-07edd5e2f8bc",
     "showTitle": true,
     "tableResultSettingsMap": {},
     "title": "Transformation: stg_main_payment_pending_validation"
    }
   },
   "outputs": [],
   "source": [
    "import dlt\n",
    "from pyspark.sql.functions import col, lit, expr\n",
    "\n",
    "@dlt.table(\n",
    "    name=f\"stg_main_{output_name}_validation\",\n",
    "    comment=\"DLT table running mainPaymentPending to generate a JSON_Content column for CCD validation. Applies DLT expectations on CCD, adding is_valid to flag validation results.\",\n",
    "    path=f\"{audit_path}/stg_main_{output_name}_validation\"\n",
    ")\n",
    "@dlt.expect_all(checks)\n",
    "def stg_main_payment_pending_validation():\n",
    "    try:\n",
    "        silver_m1 = dlt.read(\"silver_appealcase_detail\").filter(col(\"dv_targetState\") == lit(AppealState)).distinct()\n",
    "        bronze_appealtype_lookup_df = dlt.read(\"bronze_appealtype\").distinct()\n",
    "        bronze_hearing_centres_lookup_df = dlt.read(\"bronze_hearing_centres\").distinct()\n",
    "        # stg_representation = dlt.read(\"stg_representation\").select(col(\"Representation\").alias(\"valid_representation\"))\n",
    "        silver_m2 = dlt.read(\"silver_caseapplicant_detail\").filter(col(\"dv_targetState\") == lit(AppealState))\n",
    "        silver_m3 = dlt.read(\"silver_status_detail\").filter(col(\"dv_targetState\") == lit(AppealState))\n",
    "        # silver_m4 = dlt.read(\"silver_transaction_detail\").filter(col(\"dv_targetState\") == lit(AppealState))\n",
    "        silver_m5 = dlt.read(\"silver_link_detail\").filter(col(\"dv_targetState\") == lit(AppealState))\n",
    "        # silver_m6 = dlt.read(\"silver_adjudicator_detail\").filter(col(\"dv_targetState\") == lit(AppealState))\n",
    "        silver_c = dlt.read(\"silver_appealcategory_detail\").filter(col(\"dv_targetState\") == lit(AppealState))\n",
    "        # silver_m8 = dlt.read(\"silver_documentsreceived_detail\").filter(col(\"dv_targetState\") == lit(AppealState))\n",
    "        # silver_m9 = dlt.read(\"silver_history_detail\").filter(col(\"dv_targetState\") == lit(AppealState))\n",
    "        bronze_countries_postal_lookup_df = dlt.read(\"bronze_countries_postal\").distinct()\n",
    "        bronze_remissions_lookup_df = dlt.read(\"bronze_remissions\").distinct()\n",
    "        bronze_countryFromAddress = dlt.read(\"bronze_countries_countryFromAddress\")\n",
    "        bronze_HORef_cleansing = dlt.read(\"bronze_HORef_cleansing\")\n",
    "    except:\n",
    "        silver_m1 = spark.table(\"ariadm_active_appeals.silver_appealcase_detail\").filter(col(\"dv_targetState\") == lit(AppealState)).distinct()\n",
    "        bronze_appealtype_lookup_df = spark.table(\"ariadm_active_appeals.bronze_appealtype\").distinct()\n",
    "        bronze_hearing_centres_lookup_df = spark.table(\"ariadm_active_appeals.bronze_hearing_centres\").distinct()\n",
    "        # stg_representation = spark.table(\"ariadm_active_appeals.stg_representation\").select(col(\"Representation\").alias(\"valid_representation\"))\n",
    "        silver_m2 = spark.table(\"ariadm_active_appeals.silver_caseapplicant_detail\").filter(col(\"dv_targetState\") == lit(AppealState))\n",
    "        silver_m3 = spark.table(\"ariadm_active_appeals.silver_status_detail\").filter(col(\"dv_targetState\") == lit(AppealState))\n",
    "        # silver_m4 = spark.table(\"ariadm_active_appeals.silver_transaction_detail\").filter(col(\"dv_targetState\") == lit(AppealState))\n",
    "        silver_m5 = spark.table(\"ariadm_active_appeals.silver_link_detail\").filter(col(\"dv_targetState\") == lit(AppealState))\n",
    "        # silver_m6 = spark.table(\"ariadm_active_appeals.silver_adjudicator_detail\").filter(col(\"dv_targetState\") == lit(AppealState))\n",
    "        silver_c = spark.table(\"ariadm_active_appeals.silver_appealcategory_detail\").filter(col(\"dv_targetState\") == lit(AppealState))\n",
    "        # silver_m8 = spark.table(\"ariadm_active_appeals.silver_documentsreceived_detail\").filter(col(\"dv_targetState\") == lit(AppealState))\n",
    "        # silver_m9 = spark.table(\"ariadm_active_appeals.silver_history_detail\").filter(col(\"dv_targetState\") == lit(AppealState))\n",
    "        bronze_countries_postal_lookup_df = spark.table(\"ariadm_active_appeals.bronze_countries_postal\").distinct() \n",
    "        bronze_remissions_lookup_df = spark.table(\"ariadm_active_appeals.bronze_remissions\").distinct()\n",
    "        bronze_countryFromAddress = spark.table(\"ariadm_active_appeals.bronze_countries_countryFromAddress\")\n",
    "        bronze_HORef_cleansing = spark.table(\"ariadm_active_appeals.bronze_HORef_cleansing\")\n",
    "\n",
    " \n",
    "    df_final,df_audit = mainPaymentPending(silver_m1,silver_m2, silver_m3,silver_c, bronze_remissions_lookup_df,bronze_countryFromAddress,bronze_HORef_cleansing)\n",
    " \n",
    "    valid_representation = silver_m1.select(col(\"CaseNo\"), col(\"dv_representation\"),col(\"dv_CCDAppealType\"), col(\"CaseRep_Address5\"), col(\"CaseRep_Postcode\"),col(\"MainRespondentId\"), col(\"lu_appealType\")) \n",
    "    valid_appealant_address = silver_m2.select(col(\"CaseNo\"), col(\"Appellant_Address1\"), col(\"Appellant_Address2\"),col(\"Appellant_Address3\"),(\"Appellant_Address4\"), col(\"Appellant_Address5\"), col(\"Appellant_Postcode\"),col(\"Appellant_Email\"),col(\"Appellant_Telephone\"))\n",
    "    valid_country_list = bronze_countries_postal_lookup_df.select(col(\"countryGovUkOocAdminJ\").alias(\"valid_countryGovUkOocAdminJ\")).distinct()\n",
    "    valid_catagoryid_list = silver_c.groupBy(\"CaseNo\").agg(F.collect_list(\"CategoryId\").alias(\"valid_categoryIdList\"))\n",
    " \n",
    "    df_final = df_final.join(valid_representation, on=\"CaseNo\", how=\"left\"\n",
    "                            ).join(valid_country_list, on=col(\"CaseRep_Address5\") == col(\"valid_countryGovUkOocAdminJ\"), how=\"left\"\n",
    "                            ).join(valid_catagoryid_list, on=\"CaseNo\", how=\"left\"\n",
    "                            ).join(valid_appealant_address, on=\"CaseNo\", how=\"left\"\n",
    "                            )\n",
    "\n",
    " \n",
    "    df_final = df_final.withColumn(\"is_valid\", expr(dq_rules))\n",
    "\n",
    "    # df_final = df_final.drop(col(\"dv_representation\"), col(\"CaseRepAddress5\"), col(\"CaseRepPostcode\"), col(\"valid_countryGovUkOocAdminJ\"))\n",
    "\n",
    "    # columns_to_drop = [\"dv_representation\", \"CaseRepAddress5\", \"CaseRepPostcode\"]\n",
    "\n",
    "    # if all(col in df_final.columns for col in columns_to_drop): #If the columns exist - remove \n",
    "    #     df_final = df_final.drop(*columns_to_drop)\n",
    "\n",
    "    return df_final"
   ]
  },
  {
   "cell_type": "code",
   "execution_count": 0,
   "metadata": {
    "application/vnd.databricks.v1+cell": {
     "cellMetadata": {
      "byteLimit": 2048000,
      "rowLimit": 10000
     },
     "inputWidgets": {},
     "nuid": "3362b255-72e6-4a4f-8b12-170c233128ad",
     "showTitle": true,
     "tableResultSettingsMap": {},
     "title": "Transformation: stg_valid_payment_pending_records"
    }
   },
   "outputs": [],
   "source": [
    "@dlt.table(\n",
    "    name=f\"stg_valid_{output_name}_records\",\n",
    "    comment=\"Delta Live Gold Table with JSON content.\",\n",
    "    path=f\"{audit_path}/stg_valid_{output_name}_records\"\n",
    ")\n",
    "def stg_valid_payment_pending_records():\n",
    "    \"\"\"\n",
    "    Delta Live Table for creating and uploading JSON content for Appeals.\n",
    "    \"\"\"\n",
    "    # Load source data\n",
    "    df = dlt.read(f\"stg_main_{output_name}_validation\")\n",
    "\n",
    "    df_filtered = df.filter(\n",
    "        (col(\"is_valid\") == True)\n",
    "    )\n",
    "\n",
    "    # Repartition to optimize parallelism\n",
    "    repartitioned_df = df_filtered.repartition(64)\n",
    "\n",
    "    df_with_upload_status = repartitioned_df.filter(~col(\"JSON_content\").like(\"Error%\")).withColumn(\n",
    "            \"Status\", upload_udf(col(\"JSON_File_Name\"), col(\"JSON_content\"))\n",
    "        )\n",
    "\n",
    "    # Return the DataFrame for DLT table creation\n",
    "    return df_with_upload_status.select(\"CaseNo\", \"JSON_content\",col(\"JSON_File_Name\").alias(\"File_Name\"),\"Status\")\n"
   ]
  },
  {
   "cell_type": "code",
   "execution_count": 0,
   "metadata": {
    "application/vnd.databricks.v1+cell": {
     "cellMetadata": {
      "byteLimit": 2048000,
      "rowLimit": 10000
     },
     "inputWidgets": {},
     "nuid": "60bfdf72-3653-4133-ae58-42f66d648a28",
     "showTitle": true,
     "tableResultSettingsMap": {},
     "title": "Transformation: stg_invalid_payment_pending_quarantine_records"
    }
   },
   "outputs": [],
   "source": [
    "@dlt.table(\n",
    "    name=f\"stg_invalid_{output_name}_quarantine_records\",\n",
    "    comment=\"Quarantined records that failed data quality checks or JSON generation.\",\n",
    "    path=f\"{audit_path}/stg_invalid_{output_name}_quarantine_records\"\n",
    ")\n",
    "def stg_invalid_payment_pending_quarantine_records():\n",
    "\n",
    "    df = dlt.read(f\"stg_main_{output_name}_validation\")\n",
    "\n",
    "    df_filtered = df.filter(\n",
    "        (col(\"is_valid\") != True)\n",
    "    ).withColumn(\"JSON_File_Name\", regexp_replace(col(\"JSON_File_Name\"), \"/JSON/\", \"/INVALID_JSON/\"))\n",
    "\n",
    "    # Repartition to optimize parallelism\n",
    "    repartitioned_df = df_filtered.repartition(64)\n",
    "\n",
    "    df_with_upload_status = repartitioned_df.filter(~col(\"JSON_content\").like(\"Error%\")).withColumn(\n",
    "            \"Status\", upload_udf(col(\"JSON_File_Name\"), col(\"JSON_content\"))\n",
    "        )\n",
    "\n",
    "    return df_with_upload_status.select(\"CaseNo\", \"JSON_content\",col(\"JSON_File_Name\").alias(\"File_Name\"),\"Status\") \n"
   ]
  },
  {
   "cell_type": "code",
   "execution_count": 0,
   "metadata": {
    "application/vnd.databricks.v1+cell": {
     "cellMetadata": {
      "byteLimit": 2048000,
      "rowLimit": 10000
     },
     "inputWidgets": {},
     "nuid": "a81bf947-c500-4014-b228-71862de0a3fc",
     "showTitle": true,
     "tableResultSettingsMap": {},
     "title": "Transformation: apl_active_payment_pending_cr_audit_table"
    }
   },
   "outputs": [],
   "source": [
    "import dlt\n",
    "from pyspark.sql.functions import col, lit, expr\n",
    "\n",
    "@dlt.table(\n",
    "    name=f\"apl_active_{output_name}_cr_audit_table\",\n",
    "    comment=\"DLT table Covers 4.2 Silver layer LLD requirements: Audits CCD attributes, input field values, derived values, and all columns for validation and traceability.\",\n",
    "    path=f\"{audit_path}/apl_active_{output_name}_cr_audit_table\"\n",
    ")\n",
    "def apl_active_payment_pending_cr_audit_table():\n",
    "    try:\n",
    "        silver_m1 = dlt.read(\"silver_appealcase_detail\").filter(col(\"dv_targetState\") == lit(AppealState)).distinct()\n",
    "        silver_m2 = dlt.read(\"silver_caseapplicant_detail\").filter(col(\"dv_targetState\") == lit(AppealState))\n",
    "        bronze_appealtype_lookup_df = dlt.read(\"bronze_appealtype\").distinct()\n",
    "        bronze_hearing_centres_lookup_df = dlt.read(\"bronze_hearing_centres\").distinct()\n",
    "        silver_m3 = dlt.read(\"silver_status_detail\").filter(col(\"dv_targetState\") == lit(AppealState))\n",
    "        silver_c = dlt.read(\"ariadm_active_appeals.silver_appealcategory_detail\").filter(col(\"dv_targetState\") == lit(AppealState))\n",
    "        bronze_remission_lookup_df = dlt.read(\"bronze_remissions\").distinct()\n",
    "        bronze_remissions_lookup_df = dlt.read(\"bronze_remissions\").distinct()\n",
    "        bronze_countryFromAddress = dlt.read(\"bronze_countries_countryFromAddress\")\n",
    "        bronze_HORef_cleansing = dlt.read(\"bronze_HORef_cleansing\")\n",
    "      \n",
    "    except:\n",
    "        silver_m1 = spark.table(\"ariadm_active_appeals.silver_appealcase_detail\").filter(col(\"dv_targetState\") == lit(AppealState)).distinct()\n",
    "        silver_m2 = spark.table(\"ariadm_active_appeals.silver_caseapplicant_detail\").filter(col(\"dv_targetState\") == lit(AppealState))\n",
    "        bronze_appealtype_lookup_df = spark.table(\"ariadm_active_appeals.bronze_appealtype\").distinct()\n",
    "        bronze_hearing_centres_lookup_df = spark.table(\"ariadm_active_appeals.bronze_hearing_centres\").distinct()\n",
    "        silver_m3 = spark.table(\"ariadm_active_appeals.silver_status_detail\").filter(col(\"dv_targetState\") == lit(AppealState))\n",
    "        silver_c = spark.table(\"ariadm_active_appeals.silver_appealcategory_detail\").filter(col(\"dv_targetState\") == lit(AppealState))\n",
    "        bronze_remissions_lookup_df = spark.table(\"ariadm_active_appeals.bronze_remissions\").distinct()\n",
    "        bronze_countryFromAddress = spark.table(\"ariadm_active_appeals.bronze_countries_countryFromAddress\")\n",
    "        bronze_HORef_cleansing = spark.table(\"ariadm_active_appeals.bronze_HORef_cleansing\")\n",
    " \n",
    "    df_final,df_audit = mainPaymentPending(silver_m1,silver_m2, silver_m3,silver_c, bronze_remissions_lookup_df,bronze_countryFromAddress,bronze_HORef_cleansing)\n",
    "\n",
    "    return df_audit"
   ]
  },
  {
   "cell_type": "code",
   "execution_count": 0,
   "metadata": {
    "application/vnd.databricks.v1+cell": {
     "cellMetadata": {
      "byteLimit": 2048000,
      "rowLimit": 10000
     },
     "inputWidgets": {},
     "nuid": "1c065211-f4d5-47d6-9f7f-757fedeaa149",
     "showTitle": true,
     "tableResultSettingsMap": {},
     "title": "Exit Notebook"
    }
   },
   "outputs": [],
   "source": [
    "dbutils.notebook.exit(\"Notebook completed successfully\")"
   ]
  },
  {
   "cell_type": "code",
   "execution_count": 0,
   "metadata": {
    "application/vnd.databricks.v1+cell": {
     "cellMetadata": {},
     "inputWidgets": {},
     "nuid": "bb991e00-19ea-42a5-8af2-0be4b028de7e",
     "showTitle": false,
     "tableResultSettingsMap": {},
     "title": ""
    }
   },
   "outputs": [],
   "source": []
  }
 ],
 "metadata": {
  "application/vnd.databricks.v1+notebook": {
   "computePreferences": null,
   "dashboards": [],
   "environmentMetadata": {
    "base_environment": "",
    "environment_version": "2"
   },
   "inputWidgetPreferences": null,
   "language": "python",
   "notebookMetadata": {
    "mostRecentlyExecutedCommandWithImplicitDF": {
     "commandId": 6755913017508968,
     "dataframes": [
      "_sqldf"
     ]
    },
    "pythonIndentUnit": 4
   },
   "notebookName": "GOLD_AWAITING_EVIDENCE_RESPONDENT_B_JSON",
   "widgets": {}
  },
  "language_info": {
   "name": "python"
  }
 },
 "nbformat": 4,
 "nbformat_minor": 0
}
