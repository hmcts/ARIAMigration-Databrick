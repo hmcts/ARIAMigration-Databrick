{
 "cells": [
  {
   "cell_type": "markdown",
   "metadata": {
    "application/vnd.databricks.v1+cell": {
     "cellMetadata": {
      "byteLimit": 2048000,
      "rowLimit": 10000
     },
     "inputWidgets": {},
     "nuid": "2522e663-16c8-479b-a5d0-cde07c2e4358",
     "showTitle": false,
     "tableResultSettingsMap": {},
     "title": ""
    }
   },
   "source": [
    "## Audit Configuration"
   ]
  },
  {
   "cell_type": "code",
   "execution_count": 0,
   "metadata": {
    "application/vnd.databricks.v1+cell": {
     "cellMetadata": {
      "byteLimit": 2048000,
      "rowLimit": 10000
     },
     "inputWidgets": {},
     "nuid": "9cbb73ff-ea97-4d52-8cb2-bef1d6a7c843",
     "showTitle": false,
     "tableResultSettingsMap": {},
     "title": ""
    }
   },
   "outputs": [],
   "source": [
    "import dlt\n",
    "import json\n",
    "from pyspark.sql.functions import *\n",
    "from pyspark.sql.types import *\n",
    "from concurrent.futures import ThreadPoolExecutor, as_completed\n",
    "from datetime import datetime\n",
    "from pyspark.sql.window import Window\n",
    "import uuid\n",
    "from delta.tables import DeltaTable"
   ]
  },
  {
   "cell_type": "code",
   "execution_count": 0,
   "metadata": {
    "application/vnd.databricks.v1+cell": {
     "cellMetadata": {
      "byteLimit": 2048000,
      "rowLimit": 10000
     },
     "inputWidgets": {},
     "nuid": "6cc965ca-f2ef-4ccf-8063-b089ee1dd9d8",
     "showTitle": false,
     "tableResultSettingsMap": {},
     "title": ""
    }
   },
   "outputs": [],
   "source": [
    "# dbutils.fs.ls(\"/mnt/ingest00curatedsboxsilver/ARIADM/ARM/AUDIT/JOH\")"
   ]
  },
  {
   "cell_type": "code",
   "execution_count": 0,
   "metadata": {
    "application/vnd.databricks.v1+cell": {
     "cellMetadata": {
      "byteLimit": 2048000,
      "rowLimit": 10000
     },
     "inputWidgets": {},
     "nuid": "f0d2f113-790d-4706-80c6-7b161ab5a259",
     "showTitle": false,
     "tableResultSettingsMap": {},
     "title": ""
    }
   },
   "outputs": [],
   "source": [
    "# audit_mnt = \"/mnt/ingest00curatedsboxsilver/ARIADM/ARM/AUDIT/TD\"\n",
    "audit_delta_path = \"/mnt/ingest00curatedsboxsilver/ARIADM/ARM/AUDIT/JOH/joh_cr_audit_table\""
   ]
  },
  {
   "cell_type": "code",
   "execution_count": 0,
   "metadata": {
    "application/vnd.databricks.v1+cell": {
     "cellMetadata": {
      "byteLimit": 2048000,
      "rowLimit": 10000
     },
     "inputWidgets": {},
     "nuid": "21d6bc13-19f1-4d4f-93b1-3420aa291f45",
     "showTitle": false,
     "tableResultSettingsMap": {},
     "title": ""
    }
   },
   "outputs": [],
   "source": [
    "\n",
    "\n",
    "def datetime_uuid():\n",
    "    dt_str = datetime.utcnow().strftime(\"%Y-%m-%d %H:%M:%S\")\n",
    "    return str(uuid.uuid5(uuid.NAMESPACE_DNS, dt_str))\n",
    "\n",
    "run_id_value = datetime_uuid()\n",
    "\n",
    "audit_schema = StructType([\n",
    "    StructField(\"Runid\", StringType(), True),\n",
    "    StructField(\"Unique_identifier_desc\", StringType(), True),\n",
    "    StructField(\"Unique_identifier\", StringType(), True),\n",
    "    StructField(\"Table_name\", StringType(), True),\n",
    "    StructField(\"Stage_name\", StringType(), True),\n",
    "    StructField(\"Record_count\", IntegerType(), True),\n",
    "    StructField(\"Run_dt\", TimestampType(), True),\n",
    "    StructField(\"Batch_id\", StringType(), True),\n",
    "    StructField(\"Description\", StringType(), True),\n",
    "    StructField(\"File_name\", StringType(), True),\n",
    "    StructField(\"Status\", StringType(), True)\n",
    "])\n",
    "\n",
    "def create_audit_df(df: DataFrame, unique_identifier_desc: str, table_name: str, stage_name: str, description: str, additional_columns: list = None) -> DataFrame:\n",
    "    \"\"\"\n",
    "    Creates an audit DataFrame and writes it to Delta format.\n",
    "\n",
    "    :param df: Input DataFrame from which unique identifiers are extracted.\n",
    "    :param unique_identifier_desc: Column name that acts as a unique identifier.\n",
    "    :param table_name: Name of the source table.\n",
    "    :param stage_name: Name of the data processing stage.\n",
    "    :param description: Description of the table.\n",
    "    :param additional_columns: List of additional columns to include in the audit DataFrame.\n",
    "    :return: DataFrame containing the audit information.\n",
    "    \"\"\"\n",
    "\n",
    "    dt_desc = datetime.utcnow()\n",
    "\n",
    "    additional_columns = additional_columns or []  # Default to an empty list if None   \n",
    "    additional_columns = [col(c) for c in additional_columns if c is not None]  # Filter out None values\n",
    "\n",
    "    audit_df = df.select(col(unique_identifier_desc).alias(\"unique_identifier\"), *additional_columns) \\\n",
    "        .withColumn(\"Runid\", lit(run_id_value)) \\\n",
    "        .withColumn(\"Unique_identifier_desc\", lit(unique_identifier_desc)) \\\n",
    "        .withColumn(\"Stage_name\", lit(stage_name)) \\\n",
    "        .withColumn(\"Table_name\", lit(table_name)) \\\n",
    "        .withColumn(\"Run_dt\", lit(dt_desc).cast(TimestampType())) \\\n",
    "        .withColumn(\"Description\", lit(description))\n",
    "\n",
    "    list_cols = audit_df.columns\n",
    "\n",
    "    final_audit_df = audit_df.groupBy(*list_cols).agg(count(\"*\").cast(IntegerType()).alias(\"Record_count\"))\n",
    "\n",
    "    # final_audit_df.write.format(\"delta\").mode(\"append\").option(\"mergeSchema\", \"true\").save(audit_delta_path)\n",
    "    \n",
    "    return final_audit_df"
   ]
  },
  {
   "cell_type": "code",
   "execution_count": 0,
   "metadata": {
    "application/vnd.databricks.v1+cell": {
     "cellMetadata": {
      "byteLimit": 2048000,
      "rowLimit": 10000
     },
     "inputWidgets": {},
     "nuid": "bf4da11e-d865-4a22-8ec7-ae1866b46213",
     "showTitle": false,
     "tableResultSettingsMap": {},
     "title": ""
    }
   },
   "outputs": [],
   "source": [
    "# Define Delta Table Path in Azure Storage\n",
    "\n",
    "\n",
    "if not DeltaTable.isDeltaTable(spark, audit_delta_path):\n",
    "    print(f\"🛑 Delta table '{audit_delta_path}' does not exist. Creating an empty Delta table...\")\n",
    "\n",
    "    # Create an empty DataFrame\n",
    "    empty_df = spark.createDataFrame([], audit_schema)\n",
    "\n",
    "    # Write the empty DataFrame in Delta format to create the table\n",
    "    empty_df.write.format(\"delta\").mode(\"overwrite\").save(audit_delta_path)\n",
    "\n",
    "    print(\"✅ Empty Delta table successfully created in Azure Storage.\")\n",
    "else:\n",
    "    print(f\"⚡ Delta table '{audit_delta_path}' already exists.\")"
   ]
  },
  {
   "cell_type": "code",
   "execution_count": 0,
   "metadata": {
    "application/vnd.databricks.v1+cell": {
     "cellMetadata": {
      "byteLimit": 2048000,
      "rowLimit": 10000
     },
     "inputWidgets": {},
     "nuid": "0392391e-e2c0-49dd-9854-59ba0fa9f1c4",
     "showTitle": false,
     "tableResultSettingsMap": {},
     "title": ""
    }
   },
   "outputs": [],
   "source": [
    "audit_params = [\n",
    "        {\n",
    "        \"unique_identifier_cols\": [\"AdjudicatorId\"],\n",
    "        \"table_name\": \"bronze_adjudicator_et_hc_dnur\",\n",
    "        \"stage_name\": \"bronze_stage\",\n",
    "        \"description\": \"Combines adjudicator data with hearing centre, employment terms, and do not use reason details. Provides a standardized view of adjudicators, their designated centres, employment terms, judicial status, and restrictions. Includes metadata such as source files, modification timestamps, and process tracking for auditing.\"\n",
    "    },\n",
    "    {\n",
    "        \"unique_identifier_cols\": [\"AdjudicatorId\"],\n",
    "        \"table_name\": \"bronze_johistory_users\",\n",
    "        \"stage_name\": \"bronze_stage\",\n",
    "        \"description\": \"Combines JoHistory records with user details, providing historical adjudicator activity along with corresponding user information. Includes comments, user names, audit timestamps, source filenames, and process metadata for tracking and auditing.\"\n",
    "    },\n",
    "    {\n",
    "        \"unique_identifier_cols\": [\"AdjudicatorId\"],\n",
    "        \"table_name\": \"bronze_othercentre_hearingcentre\",\n",
    "        \"stage_name\": \"bronze_stage\",\n",
    "        \"description\": \"Combines OtherCentre records with HearingCentre details, linking adjudicators to their assigned hearing centres. Includes metadata such as timestamps, source files, and process tracking for auditing and traceability.\"\n",
    "    },\n",
    "    {\n",
    "        \"unique_identifier_cols\": [\"AdjudicatorId\"],\n",
    "        \"table_name\": \"bronze_adjudicator_role\",\n",
    "        \"stage_name\": \"bronze_stage\",\n",
    "        \"description\": \"Filters and segments adjudicators, retaining only those who are not assigned roles 7 or 8, or have no assigned role. Uses data from bronze_adjudicator_et_hc_dnur and bronze_adjudicator_role to generate a complete list of adjudicators.\"\n",
    "    },\n",
    "    {\n",
    "        \"unique_identifier_cols\": [\"AdjudicatorId\"],\n",
    "        \"table_name\": \"stg_joh_filtered\",\n",
    "        \"stage_name\": \"segmentation_stage\",\n",
    "        \"description\": \"Filters and segments adjudicators, retaining only those who are not assigned roles 7 or 8, or have no assigned role. Uses data from bronze_adjudicator_et_hc_dnur and bronze_adjudicator_role to generate a complete list of adjudicators.\"\n",
    "    },\n",
    "    {\n",
    "        \"unique_identifier_cols\": [\"AdjudicatorId\"],\n",
    "        \"table_name\": \"silver_adjudicator_detail\",\n",
    "        \"stage_name\": \"silver_stage\",\n",
    "        \"description\": \"Filters adjudicators based on segmentation criteria and enriches their records with Hearing Centre and Do Not Use Reason (DNUR) details. Standardizes key attributes such as correspondence address, contact details, employment terms, and judicial status.\"\n",
    "    },\n",
    "    {\n",
    "        \"unique_identifier_cols\": [\"AdjudicatorId\"],\n",
    "        \"table_name\": \"silver_history_detail\",\n",
    "        \"stage_name\": \"silver_stage\",\n",
    "        \"description\": \"Filters and enhances historical adjudicator activity records by incorporating user details. Maps history types to their corresponding descriptions, providing a structured view of events such as allocations, case updates, and administrative actions.\"\n",
    "    },\n",
    "    {\n",
    "        \"unique_identifier_cols\": [\"AdjudicatorId\"],\n",
    "        \"table_name\": \"silver_othercentre_detail\",\n",
    "        \"stage_name\": \"silver_stage\",\n",
    "        \"description\": \"Filters and enhances OtherCentre records by applying adjudicator segmentation criteria. Retains adjudicators linked to Hearing Centres while ensuring completeness through process metadata, timestamps, and source tracking.\"\n",
    "    },\n",
    "    {\n",
    "        \"unique_identifier_cols\": [\"AdjudicatorId\"],\n",
    "        \"table_name\": \"silver_appointment_detail\",\n",
    "        \"stage_name\": \"silver_stage\",\n",
    "        \"description\": \"Filters and enhances adjudicator role records by mapping role codes to their descriptions. Provides a structured view of adjudicator appointments, including start and end dates, and metadata for auditing.\"\n",
    "    },\n",
    "    {\n",
    "        \"unique_identifier_cols\": [\"client_identifier\"],\n",
    "        \"table_name\": \"silver_archive_metadata\",\n",
    "        \"stage_name\": \"silver_stage\",\n",
    "        \"description\": \"Metadata table of adjudicator records by combining various metadata fields. Provides a structured view of adjudicator details, including event dates, region, and other relevant information for archival purposes.\"\n",
    "    },\n",
    "    {\n",
    "        \"unique_identifier_cols\": [\"AdjudicatorId\"],\n",
    "        \"table_name\": \"stg_judicial_officer_combined\",\n",
    "        \"stage_name\": \"staging_stage\",\n",
    "        \"description\": \"Metadata table of adjudicator records by combining various metadata fields. Provides a structured view of adjudicator details, including event dates, region, and other relevant information for archival purposes.\"\n",
    "    },\n",
    "    {\n",
    "        \"unique_identifier_cols\": [\"AdjudicatorId\"],\n",
    "        \"table_name\": \"stg_create_joh_json_content\",\n",
    "        \"stage_name\": \"staging_stage\",\n",
    "        \"description\": \"Generates JSON-formatted adjudicator records for gold-level outputs. Creates structured JSON content for each adjudicator and assigns a filename. Tracks JSON creation status to identify failures and successful transformations\",\n",
    "        \"Extra_columns_mapping\": {\"File_name\": \"JSONFileName\", \"Status\": \"JSONStatus\"}\n",
    "    },\n",
    "    {\n",
    "        \"unique_identifier_cols\": [\"AdjudicatorId\"],\n",
    "        \"table_name\": \"stg_create_joh_html_content\",\n",
    "        \"stage_name\": \"staging_stage\",\n",
    "        \"description\": \"Generates HTML-formatted adjudicator records for gold-level outputs. Uses a UDF to transform data into structured HTML content and assigns a filename. Tracks HTML creation status to identify failures and succe\",\n",
    "        \"Extra_columns_mapping\": {\"File_name\": \"HTMLFileName\", \"Status\": \"HTMLStatus\"}\n",
    "    },\n",
    "    {\n",
    "        \"unique_identifier_cols\": [\"client_identifier\"],\n",
    "        \"table_name\": \"stg_create_joh_a360_content\",\n",
    "        \"stage_name\": \"staging_stage\",\n",
    "        \"description\": \"Generates A360-formatted adjudicator records for gold-level outputs. Uses a UDF to transform metadata into A360 content and assigns processing statuses. Supports Hive-based retrieval for non-initial loads, ensuring comprehensive archival integration.\",\n",
    "        \"Extra_columns_mapping\": {\"File_name\": \"NotYetBatched\", \"Status\": \"A360Status\"}\n",
    "    },\n",
    "    {\n",
    "        \"unique_identifier_cols\": [\"AdjudicatorId\"],\n",
    "        \"table_name\": \"gold_judicial_officer_with_json\",\n",
    "        \"stage_name\": \"Gold_stage\",\n",
    "        \"description\": \"Final gold-level table integrating adjudicator records with validated HTML content. Ensures data integrity by enforcing error-free JSON content. Optimizes processing through repartitioning and triggers upload operations for structured archival and distribution.\",\n",
    "        \"Extra_columns_mapping\": {\"File_name\": \"JSONFileName\", \"Status\": \"UploadStatus\"}\n",
    "    },\n",
    "    {\n",
    "        \"unique_identifier_cols\": [\"AdjudicatorId\"],\n",
    "        \"table_name\": \"gold_judicial_officer_with_html\",\n",
    "        \"stage_name\": \"Gold_stage\",\n",
    "        \"description\": \"Final gold-level table integrating adjudicator records with validated JSON content. Ensures data integrity by enforcing error-free HTML content. Optimizes processing through repartitioning and triggers upload operations for structured archival and distribution.\",\n",
    "        \"Extra_columns_mapping\": {\"File_name\": \"HTMLFileName\", \"Status\": \"UploadStatus\"}\n",
    "    },\n",
    "    {\n",
    "        \"unique_identifier_cols\": [\"A360BatchId\"],\n",
    "        \"table_name\": \"gold_judicial_officer_with_a360\",\n",
    "        \"stage_name\": \"Gold_stage\",\n",
    "        \"description\": \"Final gold-level table consolidating adjudicator A360 content for structured archival and processing. Ensures data integrity by filtering out records with errors in A360 content. Aggregates and batches records, optimizes processing through repartitioning, and triggers upload operations.\",\n",
    "        \"Extra_columns_mapping\": {\"File_name\": \"A360FileName\", \"Status\": \"UploadStatus\"}\n",
    "    }\n",
    "]\n",
    "\n",
    "audit_dataframes = []\n",
    "\n",
    "for params in audit_params:\n",
    "    table_name = params[\"table_name\"]\n",
    "    stage_name = params[\"stage_name\"]\n",
    "    unique_identifier_cols = params[\"unique_identifier_cols\"]\n",
    "    description = params[\"description\"]\n",
    "    extra_columns_mapping = params.get(\"Extra_columns_mapping\", {})\n",
    "    unique_identifier_desc = \"_\".join(unique_identifier_cols)\n",
    "\n",
    "    try:\n",
    "\n",
    "        df_logging = spark.read.table(f\"hive_metastore.ariadm_arm_joh.{table_name}\")\n",
    "\n",
    "        df_audit = df_logging\n",
    "        if len(unique_identifier_cols) > 1:\n",
    "            df_audit = df_audit.withColumn(\n",
    "                unique_identifier_desc, \n",
    "                concat_ws(\"_\", *[col(c).cast(\"string\") for c in unique_identifier_cols])\n",
    "            )\n",
    "        else:\n",
    "            df_audit = df_audit.withColumn(unique_identifier_desc, col(unique_identifier_desc))\n",
    "\n",
    "        # Apply extra column mappings dynamically\n",
    "        if not extra_columns_mapping:\n",
    "            df_audit = df_audit.withColumn(\"File_Name\", lit(None)).withColumn(\"Status\", lit(None))\n",
    "        else:\n",
    "            for new_col, source_col in extra_columns_mapping.items():\n",
    "                if source_col == \"NotYetBatched\":\n",
    "                    df_audit = df_audit.withColumn(new_col, lit(\"NotYetBatched\"))\n",
    "                else:\n",
    "                    df_audit = df_audit.withColumn(new_col, col(source_col))\n",
    "                        \n",
    "\n",
    "        # Generate the audit DataFrame\n",
    "        df_audit_appended = create_audit_df(\n",
    "            df_audit,\n",
    "            unique_identifier_desc=unique_identifier_desc,\n",
    "            table_name=table_name,\n",
    "            stage_name=stage_name,\n",
    "            description=description,\n",
    "            additional_columns = [\"File_Name\", \"Status\"]\n",
    "        )\n",
    "\n",
    "        audit_dataframes.append(df_audit_appended)\n",
    "\n",
    "        print(f\"✅ Successfully processed table: {table_name}\")\n",
    "\n",
    "    except Exception as e:\n",
    "        print(f\"🛑 Failed to process table: {table_name}. Error: {str(e)}\")\n",
    "        failed_table = f\"Table {table_name} does not exist\"\n",
    "\n",
    "\n",
    "        # Table does not exist, create an audit entry for it\n",
    "        status = f\"Failed - Table {table_name} does not exist\"\n",
    "\n",
    "        row_data = {\n",
    "            \"Runid\": run_id_value,\n",
    "            \"Unique_identifier_desc\": unique_identifier_desc,\n",
    "            \"Unique_identifier\": None,\n",
    "            \"Table_name\": table_name,\n",
    "            \"Stage_name\": stage_name,\n",
    "            \"Record_count\": 0,\n",
    "            \"Run_dt\": datetime.now(),\n",
    "            \"Batch_id\": None,\n",
    "            \"Description\": description,\n",
    "            \"File_name\": None,\n",
    "            \"Status\": status\n",
    "        }\n",
    "\n",
    "        row_df = spark.createDataFrame([row_data], schema=audit_schema)\n",
    "        audit_dataframes.append(row_df)\n",
    "\n",
    "\n",
    "\n",
    "\n",
    "df_final_audit = audit_dataframes[0]\n",
    "for df in audit_dataframes[1:]:\n",
    "    df_final_audit = df_final_audit.unionByName(df, allowMissingColumns=True)\n",
    "\n"
   ]
  },
  {
   "cell_type": "code",
   "execution_count": 0,
   "metadata": {
    "application/vnd.databricks.v1+cell": {
     "cellMetadata": {
      "byteLimit": 2048000,
      "rowLimit": 10000
     },
     "inputWidgets": {},
     "nuid": "bb545dd2-e117-4f63-b601-44f8cacc2b2e",
     "showTitle": false,
     "tableResultSettingsMap": {},
     "title": ""
    }
   },
   "outputs": [],
   "source": [
    "df_final_audit.write.format(\"delta\").mode(\"append\").option(\"mergeSchema\", \"true\").save(audit_delta_path)"
   ]
  },
  {
   "cell_type": "code",
   "execution_count": 0,
   "metadata": {
    "application/vnd.databricks.v1+cell": {
     "cellMetadata": {
      "byteLimit": 2048000,
      "rowLimit": 10000
     },
     "inputWidgets": {},
     "nuid": "72a503c6-da5f-4c9c-be65-9575e11a69c2",
     "showTitle": false,
     "tableResultSettingsMap": {},
     "title": ""
    }
   },
   "outputs": [],
   "source": [
    "dbutils.notebook.exit(\"Notebook completed successfully\")"
   ]
  },
  {
   "cell_type": "markdown",
   "metadata": {
    "application/vnd.databricks.v1+cell": {
     "cellMetadata": {
      "byteLimit": 2048000,
      "rowLimit": 10000
     },
     "inputWidgets": {},
     "nuid": "a48e666d-b58a-4670-ae05-fe6dc93d0747",
     "showTitle": false,
     "tableResultSettingsMap": {},
     "title": ""
    }
   },
   "source": [
    "## Appendix"
   ]
  },
  {
   "cell_type": "code",
   "execution_count": 0,
   "metadata": {
    "application/vnd.databricks.v1+cell": {
     "cellMetadata": {
      "byteLimit": 2048000,
      "rowLimit": 10000
     },
     "inputWidgets": {},
     "nuid": "bb07e90c-3a47-4c4a-bf87-74855d514e37",
     "showTitle": false,
     "tableResultSettingsMap": {},
     "title": ""
    }
   },
   "outputs": [],
   "source": [
    "# df_final_audit.createOrReplaceTempView(\"tv_final_audit\")"
   ]
  },
  {
   "cell_type": "code",
   "execution_count": 0,
   "metadata": {
    "application/vnd.databricks.v1+cell": {
     "cellMetadata": {
      "byteLimit": 2048000,
      "implicitDf": true,
      "rowLimit": 10000
     },
     "inputWidgets": {},
     "nuid": "31616534-a183-4389-8bb8-3e2329cff376",
     "showTitle": false,
     "tableResultSettingsMap": {},
     "title": ""
    }
   },
   "outputs": [],
   "source": [
    "\n",
    "# %sql\n",
    "# select * from tv_final_audit\n",
    "# where table_name like 'gold_judicial_officer_with_json%'"
   ]
  },
  {
   "cell_type": "code",
   "execution_count": 0,
   "metadata": {
    "application/vnd.databricks.v1+cell": {
     "cellMetadata": {
      "byteLimit": 2048000,
      "implicitDf": true,
      "rowLimit": 10000
     },
     "inputWidgets": {},
     "nuid": "8db932b0-a56e-4078-9e8b-c6ef85857c0c",
     "showTitle": false,
     "tableResultSettingsMap": {},
     "title": ""
    }
   },
   "outputs": [],
   "source": [
    "%sql\n",
    "select * from hive_metastore.ariadm_arm_joh.gold_judicial_officer_with_json"
   ]
  }
 ],
 "metadata": {
  "application/vnd.databricks.v1+notebook": {
   "computePreferences": null,
   "dashboards": [],
   "environmentMetadata": {
    "base_environment": "",
    "environment_version": "2"
   },
   "inputWidgetPreferences": null,
   "language": "python",
   "notebookMetadata": {
    "mostRecentlyExecutedCommandWithImplicitDF": {
     "commandId": 7954082128872395,
     "dataframes": [
      "_sqldf"
     ]
    },
    "pythonIndentUnit": 4
   },
   "notebookName": "ARIADM_ARM_JOH_AUDIT_DATA_PROCESSING",
   "widgets": {}
  },
  "language_info": {
   "name": "python"
  }
 },
 "nbformat": 4,
 "nbformat_minor": 0
}
