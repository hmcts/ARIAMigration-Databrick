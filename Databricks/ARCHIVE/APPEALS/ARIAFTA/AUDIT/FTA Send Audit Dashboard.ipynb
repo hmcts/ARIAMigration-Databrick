{
 "cells": [
  {
   "cell_type": "markdown",
   "metadata": {
    "application/vnd.databricks.v1+cell": {
     "cellMetadata": {},
     "inputWidgets": {},
     "nuid": "a1834749-c284-4803-95a8-2fd47e26089e",
     "showTitle": false,
     "tableResultSettingsMap": {},
     "title": ""
    }
   },
   "source": [
    "***FTA ACKNOWLEDGE AUDIT DATA***"
   ]
  },
  {
   "cell_type": "code",
   "execution_count": 0,
   "metadata": {
    "application/vnd.databricks.v1+cell": {
     "cellMetadata": {
      "byteLimit": 2048000,
      "rowLimit": 10000
     },
     "inputWidgets": {},
     "nuid": "2420573e-9007-4c10-a42a-714979c15172",
     "showTitle": false,
     "tableResultSettingsMap": {},
     "title": ""
    }
   },
   "outputs": [],
   "source": [
    "df_joh_ack_audit_data = spark.read.format(\"delta\").load(\"abfss://silver@ingest00curatedsbox.dfs.core.windows.net/ARIADM/ARM/AUDIT/ARIAFTA/fta_ack_audit/\")\n",
    "df_joh_ack_audit_data.createOrReplaceTempView(\"ariafta_acknowledge_audit_data\")"
   ]
  },
  {
   "cell_type": "code",
   "execution_count": 0,
   "metadata": {
    "application/vnd.databricks.v1+cell": {
     "cellMetadata": {
      "byteLimit": 2048000,
      "implicitDf": true,
      "rowLimit": 10000
     },
     "inputWidgets": {},
     "nuid": "3639e285-4e4e-4ebe-81f6-cbd348f419d3",
     "showTitle": false,
     "tableResultSettingsMap": {},
     "title": ""
    }
   },
   "outputs": [
    {
     "data": {
      "text/plain": [
       "Databricks visualization. Run in Databricks to view."
      ]
     },
     "metadata": {
      "application/vnd.databricks.v1.subcommand+json": {
       "baseErrorDetails": null,
       "bindings": {},
       "collapsed": false,
       "command": "%sql \nSELECT DATE_FORMAT(timestamp, 'ddMMMyyyy') as date,\n       COUNT(filename) as count_filename,\n       COUNT(CASE WHEN http_response = 201  and http_message = 'Created' THEN 1 END) as count_successful_response,\n       COUNT(CASE WHEN http_response <> 201 and http_message <> 'Created' THEN 1 END) as count_unsuccessful_response\nFROM bail_acknowledge_audit_data\nGROUP BY DATE_FORMAT(timestamp, 'ddMMMyyyy')\n\n--%sql SELECT * FROM bail_acknowledge_audit_data",
       "commandTitle": "Visualization 2",
       "commandType": "auto",
       "commandVersion": 0,
       "commentThread": [],
       "commentsVisible": false,
       "contentSha256Hex": null,
       "customPlotOptions": {
        "redashChart": [
         {
          "key": "type",
          "value": "DETAILS"
         },
         {
          "key": "options",
          "value": {
           "columns": [
            {
             "name": "date",
             "title": "date",
             "type": "string"
            },
            {
             "name": "count_filename",
             "title": "count_filename",
             "type": "integer"
            },
            {
             "name": "count_successful_response",
             "title": "count_successful_response",
             "type": "integer"
            },
            {
             "name": "count_unsuccessful_response",
             "title": "count_unsuccessful_response",
             "type": "integer"
            }
           ],
           "version": 1
          }
         }
        ]
       },
       "datasetPreviewNameToCmdIdMap": {},
       "diffDeletes": [],
       "diffInserts": [],
       "displayType": "redashChart",
       "error": null,
       "errorDetails": null,
       "errorSummary": null,
       "errorTraceType": null,
       "finishTime": 0,
       "globalVars": {},
       "guid": "",
       "height": "auto",
       "hideCommandCode": false,
       "hideCommandResult": false,
       "iPythonMetadata": null,
       "inputWidgets": {},
       "isLockedInExamMode": false,
       "latestUser": "a user",
       "latestUserId": null,
       "listResultMetadata": null,
       "metadata": {},
       "nuid": "2e25a564-a5c0-4652-9852-f920fe99732e",
       "origId": 0,
       "parentHierarchy": [],
       "pivotAggregation": null,
       "pivotColumns": null,
       "position": 4,
       "resultDbfsErrorMessage": null,
       "resultDbfsStatus": "INLINED_IN_TREE",
       "results": null,
       "showCommandTitle": false,
       "startTime": 0,
       "state": "input",
       "streamStates": {},
       "subcommandOptions": {},
       "submitTime": 0,
       "subtype": "tableResultSubCmd.visualization",
       "tableResultIndex": 0,
       "tableResultSettingsMap": {},
       "useConsistentColors": false,
       "version": "CommandV1",
       "width": "auto",
       "workflows": null,
       "xColumns": null,
       "yColumns": null
      }
     },
     "output_type": "display_data"
    }
   ],
   "source": [
    "%sql \n",
    "SELECT DATE_FORMAT(timestamp, 'ddMMMyyyy') as date,\n",
    "       COUNT(filename) as total_expected_count,\n",
    "       COUNT(CASE WHEN http_response = 201  and http_message = 'Created' THEN 1 END) as count_successful_response,\n",
    "       COUNT(CASE WHEN http_response <> 201 and http_message <> 'Created' THEN 1 END) as count_unsuccessful_response\n",
    "       \n",
    "FROM ariafta_acknowledge_audit_data\n",
    "GROUP BY DATE_FORMAT(timestamp, 'ddMMMyyyy')"
   ]
  },
  {
   "cell_type": "markdown",
   "metadata": {
    "application/vnd.databricks.v1+cell": {
     "cellMetadata": {},
     "inputWidgets": {},
     "nuid": "6d64e126-76a7-4085-970a-e0f74c9b7b68",
     "showTitle": false,
     "tableResultSettingsMap": {},
     "title": ""
    }
   },
   "source": [
    "***FTA CREATE AUDIT DATA***"
   ]
  },
  {
   "cell_type": "code",
   "execution_count": 0,
   "metadata": {
    "application/vnd.databricks.v1+cell": {
     "cellMetadata": {
      "byteLimit": 2048000,
      "implicitDf": true,
      "rowLimit": 10000
     },
     "inputWidgets": {},
     "nuid": "82a934eb-ceed-4df2-8f43-7ec0aac871d1",
     "showTitle": false,
     "tableResultSettingsMap": {},
     "title": ""
    }
   },
   "outputs": [],
   "source": [
    "df_joh_created_audit_data = spark.read.format(\"delta\").load(\"abfss://silver@ingest00curatedsbox.dfs.core.windows.net/ARIADM/ARM/AUDIT/ARIAFTA/apl_fta_cr_audit_table/\")\n",
    "\n",
    "df_joh_created_audit_data.createOrReplaceTempView(\"ariafta_created_audit_data\")"
   ]
  },
  {
   "cell_type": "code",
   "execution_count": 0,
   "metadata": {
    "application/vnd.databricks.v1+cell": {
     "cellMetadata": {
      "byteLimit": 2048000,
      "implicitDf": true,
      "rowLimit": 10000
     },
     "inputWidgets": {},
     "nuid": "ecc6f676-3f42-4d54-ae41-826d756dcbfc",
     "showTitle": false,
     "tableResultSettingsMap": {},
     "title": ""
    }
   },
   "outputs": [],
   "source": [
    "%sql\n",
    "\n",
    "SELECT * FROM ariafta_created_audit_data\n"
   ]
  },
  {
   "cell_type": "markdown",
   "metadata": {
    "application/vnd.databricks.v1+cell": {
     "cellMetadata": {},
     "inputWidgets": {},
     "nuid": "d764986f-2a47-41bd-bd0f-efce222649bc",
     "showTitle": false,
     "tableResultSettingsMap": {},
     "title": ""
    }
   },
   "source": [
    "\n",
    "***Eventhub AUDIT DATA***"
   ]
  },
  {
   "cell_type": "code",
   "execution_count": 0,
   "metadata": {
    "application/vnd.databricks.v1+cell": {
     "cellMetadata": {
      "byteLimit": 2048000,
      "rowLimit": 10000
     },
     "inputWidgets": {},
     "nuid": "076ad9b9-1d25-4212-ab9f-edf668ab022d",
     "showTitle": false,
     "tableResultSettingsMap": {},
     "title": ""
    }
   },
   "outputs": [],
   "source": [
    "df_publish_audit_db_eh_audit_data = spark.read.format(\"delta\").load(\"abfss://silver@ingest00curatedsbox.dfs.core.windows.net/ARIADM/ARM/AUDIT/ARIAFTA/apl_fta_pub_audit_db_eh/\")\n",
    "df_publish_audit_db_eh_audit_data.createOrReplaceTempView(\"joh_publish_audit_db_eh_data\")"
   ]
  },
  {
   "cell_type": "code",
   "execution_count": 0,
   "metadata": {
    "application/vnd.databricks.v1+cell": {
     "cellMetadata": {
      "byteLimit": 2048000,
      "implicitDf": true,
      "rowLimit": 10000
     },
     "inputWidgets": {},
     "nuid": "3e603cd9-9284-4cdd-8bb0-2a3951dc5f42",
     "showTitle": false,
     "tableResultSettingsMap": {},
     "title": ""
    }
   },
   "outputs": [
    {
     "data": {
      "text/plain": [
       "Databricks visualization. Run in Databricks to view."
      ]
     },
     "metadata": {
      "application/vnd.databricks.v1.subcommand+json": {
       "baseErrorDetails": null,
       "bindings": {},
       "collapsed": false,
       "command": "%sql WITH q AS (SELECT \n        COUNT(CASE WHEN status = 'success' THEN 1 END) AS actual_count_of_status_1,\n        COUNT(CASE WHEN status <> 'success' THEN 1 END) AS actual_count_of_status_0\n\nFROM joh_publish_audit_db_eh_data) SELECT `actual_count_of_status_0`,SUM(`actual_count_of_status_1`) `column_80ec3a0b71`,SUM(`actual_count_of_status_0`) `column_80ec3a0b85`,`actual_count_of_status_0` FROM q GROUP BY `actual_count_of_status_0`",
       "commandTitle": "Visualization 1",
       "commandType": "auto",
       "commandVersion": 0,
       "commentThread": [],
       "commentsVisible": false,
       "contentSha256Hex": null,
       "customPlotOptions": {
        "redashChart": [
         {
          "key": "type",
          "value": "CHART"
         },
         {
          "key": "options",
          "value": {
           "alignYAxesAtZero": true,
           "coefficient": 1,
           "columnConfigurationMap": {
            "series": {
             "column": "actual_count_of_status_0",
             "id": "column_80ec3a0b76"
            },
            "x": {
             "column": "actual_count_of_status_0",
             "id": "column_80ec3a0b83"
            },
            "y": [
             {
              "column": "actual_count_of_status_1",
              "id": "column_80ec3a0b71",
              "transform": "SUM"
             },
             {
              "column": "actual_count_of_status_0",
              "id": "column_80ec3a0b85",
              "transform": "SUM"
             }
            ]
           },
           "dateTimeFormat": "DD/MM/YYYY HH:mm",
           "direction": {
            "type": "counterclockwise"
           },
           "error_y": {
            "type": "data",
            "visible": true
           },
           "globalSeriesType": "column",
           "isAggregationOn": true,
           "legend": {
            "traceorder": "normal"
           },
           "missingValuesAsZero": true,
           "numberFormat": "0,0.[00000]",
           "percentFormat": "0[.]00%",
           "series": {
            "error_y": {
             "type": "data",
             "visible": true
            },
            "stacking": null
           },
           "seriesOptions": {
            "0, SUM(actual_count_of_status_0)": {
             "name": "Count of status = 0"
            },
            "0, SUM(actual_count_of_status_1)": {
             "name": "Count of status = 1"
            },
            "column_80ec3a0b71": {
             "name": "actual_count_of_status_0",
             "type": "column",
             "yAxis": 0
            },
            "column_80ec3a0b74": {
             "type": "column",
             "yAxis": 0
            },
            "column_80ec3a0b85": {
             "type": "column",
             "yAxis": 0
            }
           },
           "showDataLabels": true,
           "sizemode": "diameter",
           "sortX": true,
           "sortY": true,
           "swappedAxes": false,
           "textFormat": "",
           "useAggregationsUi": true,
           "valuesOptions": {},
           "version": 2,
           "xAxis": {
            "labels": {
             "enabled": false
            },
            "title": {
             "text": "Status"
            },
            "type": "-"
           },
           "yAxis": [
            {
             "title": {
              "text": "Count of status values"
             },
             "type": "-"
            },
            {
             "opposite": true,
             "type": "-"
            }
           ]
          }
         }
        ]
       },
       "datasetPreviewNameToCmdIdMap": {},
       "diffDeletes": [],
       "diffInserts": [],
       "displayType": "redashChart",
       "error": null,
       "errorDetails": null,
       "errorSummary": null,
       "errorTraceType": null,
       "finishTime": 0,
       "globalVars": {},
       "guid": "",
       "height": "auto",
       "hideCommandCode": false,
       "hideCommandResult": false,
       "iPythonMetadata": null,
       "inputWidgets": {},
       "isLockedInExamMode": false,
       "latestUser": "a user",
       "latestUserId": null,
       "listResultMetadata": null,
       "metadata": {},
       "nuid": "5f039075-c537-4b47-b1a3-c8b3406f8368",
       "origId": 0,
       "parentHierarchy": [],
       "pivotAggregation": null,
       "pivotColumns": null,
       "position": 10,
       "resultDbfsErrorMessage": null,
       "resultDbfsStatus": "INLINED_IN_TREE",
       "results": null,
       "showCommandTitle": false,
       "startTime": 0,
       "state": "input",
       "streamStates": {},
       "subcommandOptions": {
        "queryPlan": {
         "groups": [
          {
           "column": "actual_count_of_status_0",
           "type": "column"
          },
          {
           "column": "actual_count_of_status_0",
           "type": "column"
          }
         ],
         "selects": [
          {
           "column": "actual_count_of_status_0",
           "type": "column"
          },
          {
           "alias": "column_80ec3a0b71",
           "args": [
            {
             "column": "actual_count_of_status_1",
             "type": "column"
            }
           ],
           "function": "SUM",
           "type": "function"
          },
          {
           "alias": "column_80ec3a0b85",
           "args": [
            {
             "column": "actual_count_of_status_0",
             "type": "column"
            }
           ],
           "function": "SUM",
           "type": "function"
          },
          {
           "column": "actual_count_of_status_0",
           "type": "column"
          }
         ]
        }
       },
       "submitTime": 0,
       "subtype": "tableResultSubCmd.visualization",
       "tableResultIndex": 0,
       "tableResultSettingsMap": {},
       "useConsistentColors": false,
       "version": "CommandV1",
       "width": "auto",
       "workflows": null,
       "xColumns": null,
       "yColumns": null
      }
     },
     "output_type": "display_data"
    }
   ],
   "source": [
    "%sql \n",
    "\n",
    "SELECT \n",
    "        COUNT(CASE WHEN status = 'success' THEN 1 END) AS count_successful_response,\n",
    "        COUNT(CASE WHEN status <> 'success' THEN 1 END) AS count_unsuccessful_response\n",
    "\n",
    "FROM joh_publish_audit_db_eh_data"
   ]
  }
 ],
 "metadata": {
  "application/vnd.databricks.v1+notebook": {
   "computePreferences": null,
   "dashboards": [
    {
     "elements": [
      {
       "dashboardResultIndex": null,
       "elementNUID": "2e25a564-a5c0-4652-9852-f920fe99732e",
       "elementType": "command",
       "guid": "8f1520b2-831f-4a49-b8a1-7a4c0888b8e7",
       "options": {
        "autoScaleImg": false,
        "scale": 0,
        "showTitle": true,
        "title": "Bails Acknowledge",
        "titleAlign": "center"
       },
       "position": {
        "height": 4,
        "width": 20,
        "x": 0,
        "y": 6,
        "z": null
       },
       "resultIndex": null
      }
     ],
     "globalVars": {},
     "guid": "",
     "layoutOption": {
      "grid": true,
      "stack": false
     },
     "nuid": "01cefc4f-771e-41f9-ad65-29380747b6d7",
     "origId": 4431479232377204,
     "title": "Bails Audit Dashboard",
     "version": "DashboardViewV1",
     "width": 1440
    },
    {
     "elements": [],
     "globalVars": {},
     "guid": "",
     "layoutOption": {
      "grid": true,
      "stack": true
     },
     "nuid": "ae333640-0887-49ac-b8e1-e1a6ca6df601",
     "origId": 4431479232377205,
     "title": "Create & Send Audit Data",
     "version": "DashboardViewV1",
     "width": 1024
    },
    {
     "elements": [],
     "globalVars": {},
     "guid": "",
     "layoutOption": {
      "grid": true,
      "stack": true
     },
     "nuid": "ba1cd016-4c45-4c50-aa00-cd65476dd2e6",
     "origId": 4431479232377206,
     "title": "JOH Receive Dashboard",
     "version": "DashboardViewV1",
     "width": 1024
    },
    {
     "elements": [
      {
       "dashboardResultIndex": null,
       "elementNUID": "5f039075-c537-4b47-b1a3-c8b3406f8368",
       "elementType": "command",
       "guid": "00f576af-5d7a-44f4-bfe0-36c69664740d",
       "options": {
        "autoScaleImg": false,
        "scale": 0,
        "showTitle": true,
        "title": "Publish EH Audit Data",
        "titleAlign": "center"
       },
       "position": {
        "height": 9,
        "width": 12,
        "x": 0,
        "y": 4,
        "z": null
       },
       "resultIndex": null
      },
      {
       "dashboardResultIndex": null,
       "elementNUID": "2e25a564-a5c0-4652-9852-f920fe99732e",
       "elementType": "command",
       "guid": "0d93caa8-46d4-4bb7-a842-c2449e66cf83",
       "options": {
        "autoScaleImg": false,
        "scale": 0,
        "showTitle": true,
        "title": "JOH Acknowledge Audit Data",
        "titleAlign": "center"
       },
       "position": {
        "height": 4,
        "width": 24,
        "x": 0,
        "y": 0,
        "z": null
       },
       "resultIndex": null
      },
      {
       "dashboardResultIndex": 0,
       "elementNUID": "ecc6f676-3f42-4d54-ae41-826d756dcbfc",
       "elementType": "command",
       "guid": "402bebf0-008f-417d-8d2d-ca0a24908d19",
       "options": {
        "autoScaleImg": false,
        "scale": 0,
        "showTitle": true,
        "title": "JOH Created Audit Data",
        "titleAlign": "center"
       },
       "position": {
        "height": 9,
        "width": 12,
        "x": 12,
        "y": 4,
        "z": null
       },
       "resultIndex": null
      }
     ],
     "globalVars": {},
     "guid": "",
     "layoutOption": {
      "grid": true,
      "stack": true
     },
     "nuid": "3a28d7e3-185e-4471-854f-e70490451a21",
     "origId": 4431479232377207,
     "title": "JOH Send Audit Dashboard",
     "version": "DashboardViewV1",
     "width": 1024
    }
   ],
   "environmentMetadata": {
    "base_environment": "",
    "environment_version": "2"
   },
   "inputWidgetPreferences": null,
   "language": "python",
   "notebookMetadata": {
    "mostRecentlyExecutedCommandWithImplicitDF": {
     "commandId": 3613858643131618,
     "dataframes": [
      "_sqldf"
     ]
    },
    "pythonIndentUnit": 4
   },
   "notebookName": "FTA Send Audit Dashboard",
   "widgets": {}
  },
  "language_info": {
   "name": "python"
  }
 },
 "nbformat": 4,
 "nbformat_minor": 0
}
