{
 "cells": [
  {
   "cell_type": "markdown",
   "metadata": {
    "application/vnd.databricks.v1+cell": {
     "cellMetadata": {},
     "inputWidgets": {},
     "nuid": "a1834749-c284-4803-95a8-2fd47e26089e",
     "showTitle": false,
     "tableResultSettingsMap": {},
     "title": ""
    }
   },
   "source": [
    "***JOH ACKNOWLEDGE AUDIT DATA***"
   ]
  },
  {
   "cell_type": "code",
   "execution_count": 0,
   "metadata": {
    "application/vnd.databricks.v1+cell": {
     "cellMetadata": {
      "byteLimit": 2048000,
      "rowLimit": 10000
     },
     "inputWidgets": {},
     "nuid": "d076fc3a-1221-478c-b8e9-5ea2e84e4c18",
     "showTitle": false,
     "tableResultSettingsMap": {},
     "title": ""
    }
   },
   "outputs": [],
   "source": [
    "config = spark.read.option(\"multiline\", \"true\").json(\"dbfs:/configs/config.json\")\n",
    "env = config.first()[\"env\"].strip().lower()\n",
    "lz_key = config.first()[\"lz_key\"].strip().lower()\n",
    "\n",
    "keyvault_name = f\"ingest{lz_key}-meta002-{env}\"\n",
    "\n",
    "# Access the Service Principle secrets from keyvaults\n",
    "client_secret = dbutils.secrets.get(scope=keyvault_name, key='SERVICE-PRINCIPLE-CLIENT-SECRET')\n",
    "tenant_id = dbutils.secrets.get(scope=keyvault_name, key='SERVICE-PRINCIPLE-TENANT-ID')\n",
    "client_id = dbutils.secrets.get(scope=keyvault_name, key='SERVICE-PRINCIPLE-CLIENT-ID')\n",
    "\n",
    "storage_accounts = [\"curated\"]"
   ]
  },
  {
   "cell_type": "code",
   "execution_count": 0,
   "metadata": {
    "application/vnd.databricks.v1+cell": {
     "cellMetadata": {
      "byteLimit": 2048000,
      "rowLimit": 10000
     },
     "inputWidgets": {},
     "nuid": "3a1b4955-61a9-4647-b712-e3442c8de8c6",
     "showTitle": false,
     "tableResultSettingsMap": {},
     "title": ""
    }
   },
   "outputs": [],
   "source": [
    "for storage_account in storage_accounts:\n",
    "    spark.conf.set(\n",
    "        f'fs.azure.account.auth.type.ingest{lz_key}{storage_account}{env}.dfs.core.windows.net', 'OAuth')\n",
    "    spark.conf.set(\n",
    "        f'fs.azure.account.oauth.provider.type.ingest{lz_key}{storage_account}{env}.dfs.core.windows.net', 'org.apache.hadoop.fs.azurebfs.oauth2.ClientCredsTokenProvider')\n",
    "    spark.conf.set(\n",
    "        f'fs.azure.account.oauth2.client.id.ingest{lz_key}{storage_account}{env}.dfs.core.windows.net', client_id)\n",
    "    spark.conf.set(\n",
    "        f'fs.azure.account.oauth2.client.secret.ingest{lz_key}{storage_account}{env}.dfs.core.windows.net', client_secret)\n",
    "    spark.conf.set(\n",
    "        f'fs.azure.account.oauth2.client.endpoint.ingest{lz_key}{storage_account}{env}.dfs.core.windows.net', f'https://login.microsoftonline.com/{tenant_id}/oauth2/token')"
   ]
  },
  {
   "cell_type": "code",
   "execution_count": 0,
   "metadata": {
    "application/vnd.databricks.v1+cell": {
     "cellMetadata": {
      "byteLimit": 2048000,
      "rowLimit": 10000
     },
     "inputWidgets": {},
     "nuid": "5ced4568-a41e-4b98-bed5-86207a880914",
     "showTitle": false,
     "tableResultSettingsMap": {},
     "title": ""
    }
   },
   "outputs": [],
   "source": [
    "curated_storage_account = f\"ingest{lz_key}curated{env}\"\n",
    "silver_container = \"silver\" "
   ]
  },
  {
   "cell_type": "code",
   "execution_count": 0,
   "metadata": {
    "application/vnd.databricks.v1+cell": {
     "cellMetadata": {
      "byteLimit": 2048000,
      "rowLimit": 10000
     },
     "inputWidgets": {},
     "nuid": "2420573e-9007-4c10-a42a-714979c15172",
     "showTitle": false,
     "tableResultSettingsMap": {},
     "title": ""
    }
   },
   "outputs": [],
   "source": [
    "df_joh_ack_audit_data = spark.read.format(\"delta\").load(f\"abfss://{silver_container}@{curated_storage_account}.dfs.core.windows.net/ARIADM/ARM/AUDIT/JOH/joh_ack_audit/\")\n",
    "df_joh_ack_audit_data.createOrReplaceTempView(\"joh_acknowledge_audit_data\")"
   ]
  },
  {
   "cell_type": "code",
   "execution_count": 0,
   "metadata": {
    "application/vnd.databricks.v1+cell": {
     "cellMetadata": {
      "byteLimit": 2048000,
      "implicitDf": true,
      "rowLimit": 10000
     },
     "inputWidgets": {},
     "nuid": "3639e285-4e4e-4ebe-81f6-cbd348f419d3",
     "showTitle": false,
     "tableResultSettingsMap": {},
     "title": ""
    }
   },
   "outputs": [
    {
     "output_type": "display_data",
     "data": {
      "text/plain": [
       "Databricks visualization. Run in Databricks to view."
      ]
     },
     "metadata": {
      "application/vnd.databricks.v1.subcommand+json": {
       "baseErrorDetails": null,
       "bindings": {},
       "collapsed": false,
       "command": "%sql \nSELECT DATE_FORMAT(timestamp, 'ddMMMyyyy') as date,\n       COUNT(filename) as count_filename,\n       COUNT(CASE WHEN http_response = 201  and http_message = 'Created' THEN 1 END) as count_successful_response,\n       COUNT(CASE WHEN http_response <> 201 and http_message <> 'Created' THEN 1 END) as count_unsuccessful_response\nFROM bail_acknowledge_audit_data\nGROUP BY DATE_FORMAT(timestamp, 'ddMMMyyyy')\n\n--%sql SELECT * FROM bail_acknowledge_audit_data",
       "commandTitle": "Visualization 2",
       "commandType": "auto",
       "commandVersion": 0,
       "commentThread": [],
       "commentsVisible": false,
       "contentSha256Hex": null,
       "customPlotOptions": {
        "redashChart": [
         {
          "key": "type",
          "value": "DETAILS"
         },
         {
          "key": "options",
          "value": {
           "columns": [
            {
             "name": "date",
             "title": "date",
             "type": "string"
            },
            {
             "name": "count_filename",
             "title": "count_filename",
             "type": "integer"
            },
            {
             "name": "count_successful_response",
             "title": "count_successful_response",
             "type": "integer"
            },
            {
             "name": "count_unsuccessful_response",
             "title": "count_unsuccessful_response",
             "type": "integer"
            }
           ],
           "version": 1
          }
         }
        ]
       },
       "datasetPreviewNameToCmdIdMap": {},
       "diffDeletes": [],
       "diffInserts": [],
       "displayType": "redashChart",
       "error": null,
       "errorDetails": null,
       "errorSummary": null,
       "errorTraceType": null,
       "finishTime": 0,
       "globalVars": {},
       "guid": "",
       "height": "auto",
       "hideCommandCode": false,
       "hideCommandResult": false,
       "iPythonMetadata": null,
       "inputWidgets": {},
       "isLockedInExamMode": false,
       "latestUser": "a user",
       "latestUserId": null,
       "listResultMetadata": null,
       "metadata": {},
       "nuid": "2e25a564-a5c0-4652-9852-f920fe99732e",
       "origId": 0,
       "parentHierarchy": [],
       "pivotAggregation": null,
       "pivotColumns": null,
       "position": 4.0,
       "resultDbfsErrorMessage": null,
       "resultDbfsStatus": "INLINED_IN_TREE",
       "results": null,
       "showCommandTitle": false,
       "startTime": 0,
       "state": "input",
       "streamStates": {},
       "subcommandOptions": {},
       "submitTime": 0,
       "subtype": "tableResultSubCmd.visualization",
       "tableResultIndex": 0,
       "tableResultSettingsMap": {},
       "useConsistentColors": false,
       "version": "CommandV1",
       "width": "auto",
       "workflows": null,
       "xColumns": null,
       "yColumns": null
      }
     },
     "output_type": "display_data"
    }
   ],
   "source": [
    "%sql \n",
    "SELECT DATE_FORMAT(timestamp, 'ddMMMyyyy') as date,\n",
    "       COUNT(filename) as total_expected_count,\n",
    "       COUNT(CASE WHEN http_response = 201  and http_message = 'Created' THEN 1 END) as count_successful_response,\n",
    "       COUNT(CASE WHEN http_response <> 201 and http_message <> 'Created' THEN 1 END) as count_unsuccessful_response\n",
    "       \n",
    "FROM joh_acknowledge_audit_data\n",
    "GROUP BY DATE_FORMAT(timestamp, 'ddMMMyyyy')"
   ]
  },
  {
   "cell_type": "markdown",
   "metadata": {
    "application/vnd.databricks.v1+cell": {
     "cellMetadata": {},
     "inputWidgets": {},
     "nuid": "6d64e126-76a7-4085-970a-e0f74c9b7b68",
     "showTitle": false,
     "tableResultSettingsMap": {},
     "title": ""
    }
   },
   "source": [
    "***JOH CREATE AUDIT DATA***"
   ]
  },
  {
   "cell_type": "code",
   "execution_count": 0,
   "metadata": {
    "application/vnd.databricks.v1+cell": {
     "cellMetadata": {
      "byteLimit": 2048000,
      "implicitDf": true,
      "rowLimit": 10000
     },
     "inputWidgets": {},
     "nuid": "82a934eb-ceed-4df2-8f43-7ec0aac871d1",
     "showTitle": false,
     "tableResultSettingsMap": {},
     "title": ""
    }
   },
   "outputs": [],
   "source": [
    "df_joh_created_audit_data = spark.read.format(\"delta\").load(f\"abfss://{silver_container}@{curated_storage_account}.dfs.core.windows.net/ARIADM/ARM/AUDIT/JOH/joh_cr_audit_table/\")\n",
    "\n",
    "df_joh_created_audit_data.createOrReplaceTempView(\"joh_created_audit_data\")"
   ]
  },
  {
   "cell_type": "code",
   "execution_count": 0,
   "metadata": {
    "application/vnd.databricks.v1+cell": {
     "cellMetadata": {
      "byteLimit": 2048000,
      "implicitDf": true,
      "rowLimit": 10000
     },
     "inputWidgets": {},
     "nuid": "ecc6f676-3f42-4d54-ae41-826d756dcbfc",
     "showTitle": false,
     "tableResultSettingsMap": {},
     "title": ""
    }
   },
   "outputs": [],
   "source": [
    "%sql\n",
    "\n",
    "SELECT * FROM joh_created_audit_data\n"
   ]
  },
  {
   "cell_type": "markdown",
   "metadata": {
    "application/vnd.databricks.v1+cell": {
     "cellMetadata": {},
     "inputWidgets": {},
     "nuid": "d764986f-2a47-41bd-bd0f-efce222649bc",
     "showTitle": false,
     "tableResultSettingsMap": {},
     "title": ""
    }
   },
   "source": [
    "\n",
    "***Eventhub AUDIT DATA***"
   ]
  },
  {
   "cell_type": "code",
   "execution_count": 0,
   "metadata": {
    "application/vnd.databricks.v1+cell": {
     "cellMetadata": {
      "byteLimit": 2048000,
      "rowLimit": 10000
     },
     "inputWidgets": {},
     "nuid": "076ad9b9-1d25-4212-ab9f-edf668ab022d",
     "showTitle": false,
     "tableResultSettingsMap": {},
     "title": ""
    }
   },
   "outputs": [],
   "source": [
    "df_publish_audit_db_eh_audit_data = spark.read.format(\"delta\").load(f\"abfss://{silver_container}@{curated_storage_account}.dfs.core.windows.net/ARIADM/ARM/AUDIT/JOH/JOH_HTML_a360_pub_audit_db_eh/\")\n",
    "df_publish_audit_db_eh_audit_data.createOrReplaceTempView(\"joh_publish_audit_db_eh_data\")"
   ]
  },
  {
   "cell_type": "code",
   "execution_count": 0,
   "metadata": {
    "application/vnd.databricks.v1+cell": {
     "cellMetadata": {
      "byteLimit": 2048000,
      "implicitDf": true,
      "rowLimit": 10000
     },
     "inputWidgets": {},
     "nuid": "3e603cd9-9284-4cdd-8bb0-2a3951dc5f42",
     "showTitle": false,
     "tableResultSettingsMap": {},
     "title": ""
    }
   },
   "outputs": [
    {
     "output_type": "display_data",
     "data": {
      "text/plain": [
       "Databricks visualization. Run in Databricks to view."
      ]
     },
     "metadata": {
      "application/vnd.databricks.v1.subcommand+json": {
       "baseErrorDetails": null,
       "bindings": {},
       "collapsed": false,
       "command": "%sql \n\nSELECT \n        COUNT(CASE WHEN status = 'success' THEN 1 END) AS count_successful_response,\n        COUNT(CASE WHEN status <> 'success' THEN 1 END) AS count_unsuccessful_response\n\nFROM joh_publish_audit_db_eh_data",
       "commandTitle": "Visualization 1",
       "commandType": "auto",
       "commandVersion": 0,
       "commentThread": [],
       "commentsVisible": false,
       "contentSha256Hex": null,
       "customPlotOptions": {
        "redashChart": [
         {
          "key": "type",
          "value": "DETAILS"
         },
         {
          "key": "options",
          "value": {
           "columns": [
            {
             "name": "count_successful_response",
             "title": "count_successful_response",
             "type": "integer"
            },
            {
             "name": "count_unsuccessful_response",
             "title": "count_unsuccessful_response",
             "type": "integer"
            }
           ],
           "version": 1
          }
         }
        ]
       },
       "datasetPreviewNameToCmdIdMap": {},
       "diffDeletes": [],
       "diffInserts": [],
       "displayType": "redashChart",
       "error": null,
       "errorDetails": null,
       "errorSummary": null,
       "errorTraceType": null,
       "finishTime": 0,
       "globalVars": {},
       "guid": "",
       "height": "auto",
       "hideCommandCode": false,
       "hideCommandResult": false,
       "iPythonMetadata": null,
       "inputWidgets": {},
       "isLockedInExamMode": false,
       "latestUser": "a user",
       "latestUserId": null,
       "listResultMetadata": null,
       "metadata": {},
       "nuid": "ac6516fb-e50d-4a11-b9c1-6d85ebce349d",
       "origId": 0,
       "parentHierarchy": [],
       "pivotAggregation": null,
       "pivotColumns": null,
       "position": 13.0,
       "resultDbfsErrorMessage": null,
       "resultDbfsStatus": "INLINED_IN_TREE",
       "results": null,
       "showCommandTitle": false,
       "startTime": 0,
       "state": "input",
       "streamStates": {},
       "subcommandOptions": {},
       "submitTime": 0,
       "subtype": "tableResultSubCmd.visualization",
       "tableResultIndex": 0,
       "tableResultSettingsMap": {},
       "useConsistentColors": false,
       "version": "CommandV1",
       "width": "auto",
       "workflows": null,
       "xColumns": null,
       "yColumns": null
      }
     },
     "output_type": "display_data"
    }
   ],
   "source": [
    "%sql \n",
    "\n",
    "SELECT \n",
    "        COUNT(CASE WHEN status = 'success' THEN 1 END) AS count_successful_response,\n",
    "        COUNT(CASE WHEN status <> 'success' THEN 1 END) AS count_unsuccessful_response\n",
    "\n",
    "FROM joh_publish_audit_db_eh_data"
   ]
  },
  {
   "cell_type": "code",
   "execution_count": 0,
   "metadata": {
    "application/vnd.databricks.v1+cell": {
     "cellMetadata": {},
     "inputWidgets": {},
     "nuid": "ff19cdba-d4ad-4152-a955-b6bb27b4043a",
     "showTitle": false,
     "tableResultSettingsMap": {},
     "title": ""
    }
   },
   "outputs": [],
   "source": []
  }
 ],
 "metadata": {
  "application/vnd.databricks.v1+notebook": {
   "computePreferences": null,
   "dashboards": [
    {
     "elements": [
      {
       "dashboardResultIndex": null,
       "elementNUID": "ac6516fb-e50d-4a11-b9c1-6d85ebce349d",
       "elementType": "command",
       "guid": "1623c758-6676-4f14-8a21-09cd0d5ebaa5",
       "options": {
        "autoScaleImg": false,
        "scale": 0,
        "showTitle": true,
        "title": "EvntHub Audit Data",
        "titleAlign": "center"
       },
       "position": {
        "height": 4,
        "width": 24,
        "x": 0,
        "y": 0,
        "z": null
       },
       "resultIndex": null
      },
      {
       "dashboardResultIndex": 0,
       "elementNUID": "ecc6f676-3f42-4d54-ae41-826d756dcbfc",
       "elementType": "command",
       "guid": "50eaa293-7c7d-43ef-b6c8-2cf258fb0abe",
       "options": {
        "autoScaleImg": false,
        "scale": 0,
        "showTitle": true,
        "title": "Create Audit Data",
        "titleAlign": "center"
       },
       "position": {
        "height": 8,
        "width": 24,
        "x": 0,
        "y": 8,
        "z": null
       },
       "resultIndex": null
      },
      {
       "dashboardResultIndex": null,
       "elementNUID": "2e25a564-a5c0-4652-9852-f920fe99732e",
       "elementType": "command",
       "guid": "ba493525-57bb-4fad-af6d-5fdb9f7e00fc",
       "options": {
        "autoScaleImg": false,
        "scale": 0,
        "showTitle": true,
        "title": "Acknowledge Audit Data",
        "titleAlign": "center"
       },
       "position": {
        "height": 4,
        "width": 24,
        "x": 0,
        "y": 4,
        "z": null
       },
       "resultIndex": null
      }
     ],
     "globalVars": {},
     "guid": "",
     "layoutOption": {
      "grid": true,
      "stack": true
     },
     "nuid": "3a28d7e3-185e-4471-854f-e70490451a21",
     "origId": 5317661655962701,
     "title": "JOH Send Audit Dashboard",
     "version": "DashboardViewV1",
     "width": 1024
    }
   ],
   "environmentMetadata": {
    "base_environment": "",
    "environment_version": "2"
   },
   "inputWidgetPreferences": null,
   "language": "python",
   "notebookMetadata": {
    "mostRecentlyExecutedCommandWithImplicitDF": {
     "commandId": 5317661655962697,
     "dataframes": [
      "_sqldf"
     ]
    },
    "pythonIndentUnit": 4
   },
   "notebookName": "JOH_Send_Audit_Dashboard",
   "widgets": {}
  },
  "language_info": {
   "name": "python"
  }
 },
 "nbformat": 4,
 "nbformat_minor": 0
}
