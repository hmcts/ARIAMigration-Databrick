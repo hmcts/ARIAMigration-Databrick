{
 "cells": [
  {
   "cell_type": "markdown",
   "metadata": {
    "application/vnd.databricks.v1+cell": {
     "cellMetadata": {
      "batchId": -8543599700716626,
      "byteLimit": 2048000,
      "rowLimit": 10000
     },
     "inputWidgets": {},
     "nuid": "63becc65-076d-4266-b01f-dee75e73c0d5",
     "showTitle": false,
     "tableResultSettingsMap": {},
     "title": ""
    }
   },
   "source": [
    "# Active Appeals CCD MVP Base Build (Bronze Layer)\n",
    "<table style='float:left;'>\n",
    "   <tbody>\n",
    "      <tr>\n",
    "         <td style='text-align: left;'><b>Name: </b></td>\n",
    "         <td>BRONZE_ACTIVE_APPEALS</td>\n",
    "      </tr>\n",
    "      <tr>\n",
    "         <td style='text-align: left;'><b>Description: </b></td>\n",
    "         <td>Notebook responsible for the bronze layer, common for all active appeal states..</td>\n",
    "      </tr>\n",
    "      <tr>\n",
    "         <td style='text-align: left;'><b>First Created: </b></td>\n",
    "         <td>May-2025</td>\n",
    "      </tr>\n",
    "      <tr>\n",
    "         <th style='text-align: left;'><b>Changelog (JIRA ref/initials/date):</b></th>\n",
    "         <th>Comments</th>\n",
    "      </tr>\n",
    "      <tr>\n",
    "         <td style='text-align: left;'><a href=\"https://tools.hmcts.net/jira/browse/ARIADM-634\">ARIADM-634</a>/NSA/JUN-2025</td>\n",
    "         <td>Active CCD MVP Base Build: Create Raw Bronze Tables from Landing Data</td>\n",
    "      </tr>\n",
    "      <tr>\n",
    "         <td style='text-align: left;'><a href=\"https://tools.hmcts.net/jira/browse/ARIADM-650\">ARIADM-634</a>/NSA/JUN-2025</td>\n",
    "         <td>Active CCD MVP Base Build: Add CSVs for ref tables: countries_nationality, countries_postal, countries_countryFromAddress, hearing_centres, reason_link and remissions</td>\n",
    "      </tr>\n",
    "       <tr>\n",
    "         <td style='text-align: left;'><a href=\"https://tools.hmcts.net/jira/browse/ARIADM-665\">ARIADM-634</a>/GB/JUN-2025</td>\n",
    "         <td>cerate bronze 'default values' table from csv</td>\n",
    "      </tr>\n",
    "      <tr>\n",
    "         <td style='text-align: left;'><a href=\"https://tools.hmcts.net/jira/browse/ARIADM-665\">ARIADM-634</a>/GB/JUN-2025</td>\n",
    "         <td>cerate bronze 'default values' table from csv.</td>\n",
    "      </tr>\n",
    "      <tr>\n",
    "         <td style='text-align: left;'><a href=\"https://tools.hmcts.net/jira/browse/ARIADM-651\">ARIADM-651</a>/NSA/JUL-2024</td>\n",
    "         <td>Add explicit schema for lookUps : countries_nationality, countries_postal, countries_countryFromAddress, hearing_centres, reason_link and remissions</td>\n",
    "      </tr>\n",
    "   </tbody>\n",
    "</table>"
   ]
  },
  {
   "cell_type": "code",
   "execution_count": 0,
   "metadata": {
    "application/vnd.databricks.v1+cell": {
     "cellMetadata": {
      "batchId": -8543599700716626,
      "byteLimit": 2048000,
      "rowLimit": 10000
     },
     "inputWidgets": {},
     "nuid": "935115e9-47a8-4129-b3aa-b9c4160daacb",
     "showTitle": false,
     "tableResultSettingsMap": {},
     "title": ""
    }
   },
   "outputs": [],
   "source": [
    "spark.conf.set(\"pipelines.tableManagedByMultiplePipelinesCheck.enabled\", \"false\")"
   ]
  },
  {
   "cell_type": "markdown",
   "metadata": {
    "application/vnd.databricks.v1+cell": {
     "cellMetadata": {
      "batchId": -8543599700716626,
      "byteLimit": 2048000,
      "rowLimit": 10000
     },
     "inputWidgets": {},
     "nuid": "3f774907-fc37-46d5-a291-178f71b9d681",
     "showTitle": false,
     "tableResultSettingsMap": {},
     "title": ""
    }
   },
   "source": [
    "### Import packages"
   ]
  },
  {
   "cell_type": "code",
   "execution_count": 0,
   "metadata": {
    "application/vnd.databricks.v1+cell": {
     "cellMetadata": {
      "batchId": -8543599700716626,
      "byteLimit": 2048000,
      "rowLimit": 10000
     },
     "inputWidgets": {},
     "nuid": "7bec4448-3f26-4094-baa2-495017e2e215",
     "showTitle": false,
     "tableResultSettingsMap": {},
     "title": ""
    }
   },
   "outputs": [],
   "source": [
    "import dlt\n",
    "import json\n",
    "from pyspark.sql.functions import when, col,coalesce, current_timestamp, lit, date_format\n",
    "from pyspark.sql.functions import *\n",
    "from pyspark.sql.types import *\n",
    "from concurrent.futures import ThreadPoolExecutor, as_completed\n",
    "from datetime import datetime\n",
    "from pyspark.sql.window import Window"
   ]
  },
  {
   "cell_type": "markdown",
   "metadata": {
    "application/vnd.databricks.v1+cell": {
     "cellMetadata": {
      "batchId": -8543599700716626,
      "byteLimit": 2048000,
      "rowLimit": 10000
     },
     "inputWidgets": {},
     "nuid": "59f15234-ce0d-49c3-acaa-807c44f51e95",
     "showTitle": false,
     "tableResultSettingsMap": {},
     "title": ""
    }
   },
   "source": [
    "## Set Variables"
   ]
  },
  {
   "cell_type": "code",
   "execution_count": 0,
   "metadata": {
    "application/vnd.databricks.v1+cell": {
     "cellMetadata": {
      "batchId": -8543599700716626,
      "byteLimit": 2048000,
      "rowLimit": 10000
     },
     "inputWidgets": {},
     "nuid": "fee1b829-5ff8-40c5-bef4-08968b35ae3d",
     "showTitle": true,
     "tableResultSettingsMap": {},
     "title": "Extract Environment Details and Generate KeyVault Name"
    }
   },
   "outputs": [],
   "source": [
    "config = spark.read.option(\"multiline\", \"true\").json(\"dbfs:/configs/config.json\")\n",
    "env_name = config.first()[\"env\"].strip().lower()\n",
    "lz_key = config.first()[\"lz_key\"].strip().lower()\n",
    "\n",
    "print(f\"env_code: {lz_key}\")  # This won't be redacted\n",
    "print(f\"env_name: {env_name}\")  # This won't be redacted\n",
    "\n",
    "KeyVault_name = f\"ingest{lz_key}-meta002-{env_name}\"\n",
    "print(f\"KeyVault_name: {KeyVault_name}\") "
   ]
  },
  {
   "cell_type": "code",
   "execution_count": 0,
   "metadata": {
    "application/vnd.databricks.v1+cell": {
     "cellMetadata": {
      "batchId": -8543599700716626,
      "byteLimit": 2048000,
      "rowLimit": 10000
     },
     "inputWidgets": {},
     "nuid": "67086cfd-a5be-4994-a270-bd63f9d3977c",
     "showTitle": true,
     "tableResultSettingsMap": {},
     "title": "Configure SP OAuth"
    }
   },
   "outputs": [],
   "source": [
    "# Service principal credentials\n",
    "client_id = dbutils.secrets.get(KeyVault_name, \"SERVICE-PRINCIPLE-CLIENT-ID\")\n",
    "client_secret = dbutils.secrets.get(KeyVault_name, \"SERVICE-PRINCIPLE-CLIENT-SECRET\")\n",
    "tenant_id = dbutils.secrets.get(KeyVault_name, \"SERVICE-PRINCIPLE-TENANT-ID\")\n",
    "\n",
    "# Storage account names\n",
    "curated_storage = f\"ingest{lz_key}curated{env_name}\"\n",
    "checkpoint_storage = f\"ingest{lz_key}xcutting{env_name}\"\n",
    "raw_storage = f\"ingest{lz_key}raw{env_name}\"\n",
    "landing_storage = f\"ingest{lz_key}landing{env_name}\"\n",
    "external_storage = f\"ingest{lz_key}external{env_name}\"\n",
    "\n",
    "\n",
    "# Spark config for curated storage (Delta table)\n",
    "spark.conf.set(f\"fs.azure.account.auth.type.{curated_storage}.dfs.core.windows.net\", \"OAuth\")\n",
    "spark.conf.set(f\"fs.azure.account.oauth.provider.type.{curated_storage}.dfs.core.windows.net\", \"org.apache.hadoop.fs.azurebfs.oauth2.ClientCredsTokenProvider\")\n",
    "spark.conf.set(f\"fs.azure.account.oauth2.client.id.{curated_storage}.dfs.core.windows.net\", client_id)\n",
    "spark.conf.set(f\"fs.azure.account.oauth2.client.secret.{curated_storage}.dfs.core.windows.net\", client_secret)\n",
    "spark.conf.set(f\"fs.azure.account.oauth2.client.endpoint.{curated_storage}.dfs.core.windows.net\", f\"https://login.microsoftonline.com/{tenant_id}/oauth2/token\")\n",
    "\n",
    "# Spark config for checkpoint storage\n",
    "spark.conf.set(f\"fs.azure.account.auth.type.{checkpoint_storage}.dfs.core.windows.net\", \"OAuth\")\n",
    "spark.conf.set(f\"fs.azure.account.oauth.provider.type.{checkpoint_storage}.dfs.core.windows.net\", \"org.apache.hadoop.fs.azurebfs.oauth2.ClientCredsTokenProvider\")\n",
    "spark.conf.set(f\"fs.azure.account.oauth2.client.id.{checkpoint_storage}.dfs.core.windows.net\", client_id)\n",
    "spark.conf.set(f\"fs.azure.account.oauth2.client.secret.{checkpoint_storage}.dfs.core.windows.net\", client_secret)\n",
    "spark.conf.set(f\"fs.azure.account.oauth2.client.endpoint.{checkpoint_storage}.dfs.core.windows.net\", f\"https://login.microsoftonline.com/{tenant_id}/oauth2/token\")\n",
    "\n",
    "# Spark config for checkpoint storage\n",
    "spark.conf.set(f\"fs.azure.account.auth.type.{raw_storage}.dfs.core.windows.net\", \"OAuth\")\n",
    "spark.conf.set(f\"fs.azure.account.oauth.provider.type.{raw_storage}.dfs.core.windows.net\", \"org.apache.hadoop.fs.azurebfs.oauth2.ClientCredsTokenProvider\")\n",
    "spark.conf.set(f\"fs.azure.account.oauth2.client.id.{raw_storage}.dfs.core.windows.net\", client_id)\n",
    "spark.conf.set(f\"fs.azure.account.oauth2.client.secret.{raw_storage}.dfs.core.windows.net\", client_secret)\n",
    "spark.conf.set(f\"fs.azure.account.oauth2.client.endpoint.{raw_storage}.dfs.core.windows.net\", f\"https://login.microsoftonline.com/{tenant_id}/oauth2/token\")\n",
    "\n",
    "# Spark config for checkpoint storage\n",
    "spark.conf.set(f\"fs.azure.account.auth.type.{landing_storage}.dfs.core.windows.net\", \"OAuth\")\n",
    "spark.conf.set(f\"fs.azure.account.oauth.provider.type.{landing_storage}.dfs.core.windows.net\", \"org.apache.hadoop.fs.azurebfs.oauth2.ClientCredsTokenProvider\")\n",
    "spark.conf.set(f\"fs.azure.account.oauth2.client.id.{landing_storage}.dfs.core.windows.net\", client_id)\n",
    "spark.conf.set(f\"fs.azure.account.oauth2.client.secret.{landing_storage}.dfs.core.windows.net\", client_secret)\n",
    "spark.conf.set(f\"fs.azure.account.oauth2.client.endpoint.{landing_storage}.dfs.core.windows.net\", f\"https://login.microsoftonline.com/{tenant_id}/oauth2/token\")\n",
    "\n",
    "\n",
    "# Spark config for checkpoint storage\n",
    "spark.conf.set(f\"fs.azure.account.auth.type.{external_storage}.dfs.core.windows.net\", \"OAuth\")\n",
    "spark.conf.set(f\"fs.azure.account.oauth.provider.type.{external_storage}.dfs.core.windows.net\", \"org.apache.hadoop.fs.azurebfs.oauth2.ClientCredsTokenProvider\")\n",
    "spark.conf.set(f\"fs.azure.account.oauth2.client.id.{external_storage}.dfs.core.windows.net\", client_id)\n",
    "spark.conf.set(f\"fs.azure.account.oauth2.client.secret.{external_storage}.dfs.core.windows.net\", client_secret)\n",
    "spark.conf.set(f\"fs.azure.account.oauth2.client.endpoint.{external_storage}.dfs.core.windows.net\", f\"https://login.microsoftonline.com/{tenant_id}/oauth2/token\")"
   ]
  },
  {
   "cell_type": "code",
   "execution_count": 0,
   "metadata": {
    "application/vnd.databricks.v1+cell": {
     "cellMetadata": {
      "batchId": -8543599700716626,
      "byteLimit": 2048000,
      "rowLimit": 10000
     },
     "inputWidgets": {},
     "nuid": "53a642d6-2514-449d-b628-976d63811a95",
     "showTitle": true,
     "tableResultSettingsMap": {},
     "title": "Set Paths and Hive Schema Variables"
    }
   },
   "outputs": [],
   "source": [
    "# read_hive = False\n",
    "\n",
    "# Setting variables for use in subsequent cells\n",
    "raw_path = f\"abfss://raw@ingest{lz_key}raw{env_name}.dfs.core.windows.net/ARIADM/ACTIVE/CCD/APPEALS\"\n",
    "landing_path = f\"abfss://landing@ingest{lz_key}landing{env_name}.dfs.core.windows.net/SQLServer/Sales/IRIS/dbo/\"\n",
    "bronze_path = f\"abfss://bronze@ingest{lz_key}curated{env_name}.dfs.core.windows.net/ARIADM/ACTIVE/CCD/APPEALS\"\n",
    "silver_path = f\"abfss://silver@ingest{lz_key}curated{env_name}.dfs.core.windows.net/ARIADM/ACTIVE/CCD/APPEALS\"\n",
    "gold_path = f\"abfss://gold@ingest{lz_key}curated{env_name}.dfs.core.windows.net/ARIADM/ACTIVE/CCD/APPEALS\"\n",
    "external_path = f\"abfss:///external-csv@ingest{lz_key}external{env_name}.dfs.core.windows.net/\"\n",
    "gold_outputs = \"ARIADM/CCD/APPEALS\"\n",
    "hive_schema = \"ariadm_ccd_apl\"\n",
    "# key_vault = \"ingest00-keyvault-sbox\"\n",
    "\n",
    "html_path = f\"abfss://html-template@ingest{lz_key}landing{env_name}.dfs.core.windows.net/\"\n",
    "\n",
    "# Print all variables\n",
    "variables = {\n",
    "    # \"read_hive\": read_hive,\n",
    "    \"raw_path\": raw_path,\n",
    "    \"landing_path\": landing_path,\n",
    "    \"bronze_path\": bronze_path,\n",
    "    \"silver_path\": silver_path,\n",
    "    \"gold_path\": gold_path,\n",
    "    \"html_path\": html_path,\n",
    "    \"gold_outputs\": gold_outputs,\n",
    "    \"hive_schema\": hive_schema,\n",
    "    \"key_vault\": KeyVault_name\n",
    "}\n",
    "\n",
    "display(variables)"
   ]
  },
  {
   "cell_type": "markdown",
   "metadata": {
    "application/vnd.databricks.v1+cell": {
     "cellMetadata": {
      "batchId": -8543599700716626,
      "byteLimit": 2048000,
      "rowLimit": 10000
     },
     "inputWidgets": {},
     "nuid": "a54421a4-164e-41f9-9ad5-96fb8d0eb860",
     "showTitle": false,
     "tableResultSettingsMap": {},
     "title": ""
    }
   },
   "source": [
    "## Functions to Read Latest Landing Files"
   ]
  },
  {
   "cell_type": "code",
   "execution_count": 0,
   "metadata": {
    "application/vnd.databricks.v1+cell": {
     "cellMetadata": {
      "batchId": -8543599700716626,
      "byteLimit": 2048000,
      "rowLimit": 10000
     },
     "inputWidgets": {},
     "nuid": "51531c08-22b4-489a-a03c-d4cdc5c9c474",
     "showTitle": false,
     "tableResultSettingsMap": {},
     "title": ""
    }
   },
   "outputs": [],
   "source": [
    "\n",
    "# Function to recursively list all files in the ADLS directory\n",
    "def deep_ls(path: str, depth: int = 0, max_depth: int = 10) -> list:\n",
    "    \"\"\"\n",
    "    Recursively list all files and directories in ADLS directory.\n",
    "    Returns a list of all paths found.\n",
    "    \"\"\"\n",
    "    output = set()  # Using a set to avoid duplicates\n",
    "    if depth > max_depth:\n",
    "        return list(output)\n",
    "\n",
    "    try:\n",
    "        children = dbutils.fs.ls(path)\n",
    "        for child in children:\n",
    "            if child.path.endswith(\".parquet\"):\n",
    "                output.add(child.path.strip())  # Add only .parquet files to the set\n",
    "\n",
    "            if child.isDir:\n",
    "                output.update(deep_ls(child.path, depth=depth + 1, max_depth=max_depth))\n",
    "\n",
    "    except Exception as e:\n",
    "        print(f\"Error accessing {path}: {e}\")\n",
    "\n",
    "    return list(output)\n",
    "\n",
    "# Main function to read the latest parquet file, add audit columns, and return the DataFrame\n",
    "def read_latest_parquet(folder_name: str, view_name: str, process_name: str, base_path: str = f\"{landing_path}/\") -> \"DataFrame\":\n",
    "    \"\"\"\n",
    "    Reads the latest .parquet file from a specified folder, adds audit columns, creates a temporary Spark view, and returns the DataFrame.\n",
    "    \n",
    "    Parameters:\n",
    "    - folder_name (str): The name of the folder to look for the .parquet files (e.g., \"AdjudicatorRole\").\n",
    "    - view_name (str): The name of the temporary view to create (e.g., \"tv_AdjudicatorRole\").\n",
    "    - process_name (str): The name of the process adding the audit information (e.g., \"ARIA_ARM_JOH\").\n",
    "    - base_path (str): The base path for the folders in the data lake.\n",
    "    \n",
    "    Returns:\n",
    "    - DataFrame: The DataFrame created from the latest .parquet file with added audit columns.\n",
    "    \"\"\"\n",
    "    # Construct the full folder path\n",
    "    folder_path = f\"{base_path}{folder_name}/full/\"\n",
    "    \n",
    "    # List all .parquet files in the folder\n",
    "    all_files = deep_ls(folder_path)\n",
    "    \n",
    "    # Check if files were found\n",
    "    if not all_files:\n",
    "        print(f\"No .parquet files found in {folder_path}\")\n",
    "        return None\n",
    "\n",
    "    # Create a DataFrame from the file paths\n",
    "    file_df = spark.createDataFrame([(f,) for f in all_files], [\"file_path\"])\n",
    "    \n",
    "    # Extract timestamp from the file name using a regex pattern (assuming it's the last underscore-separated part before \".parquet\")\n",
    "    file_df = file_df.withColumn(\"timestamp\", regexp_extract(\"file_path\", r\"_(\\d+)\\.parquet$\", 1).cast(\"long\"))\n",
    "    \n",
    "    # Find the maximum timestamp\n",
    "    max_timestamp = file_df.agg(max(\"timestamp\")).collect()[0][0]\n",
    "    \n",
    "    # Filter to get the file with the maximum timestamp\n",
    "    latest_file_df = file_df.filter(col(\"timestamp\") == max_timestamp)\n",
    "    latest_file = latest_file_df.first()[\"file_path\"]\n",
    "    \n",
    "    # Print the latest file being loaded for logging purposes\n",
    "    print(f\"Reading latest file: {latest_file}\")\n",
    "    \n",
    "    # Read the latest .parquet file into a DataFrame\n",
    "    df = spark.read.option(\"inferSchema\", \"true\").parquet(latest_file)\n",
    "    \n",
    "    # Add audit columns\n",
    "    df = df.withColumn(\"AdtclmnFirstCreatedDatetime\", current_timestamp()) \\\n",
    "           .withColumn(\"AdtclmnModifiedDatetime\", current_timestamp()) \\\n",
    "           .withColumn(\"SourceFileName\", lit(latest_file)) \\\n",
    "           .withColumn(\"InsertedByProcessName\", lit(process_name))\n",
    "    \n",
    "    # Create or replace a temporary view\n",
    "    df.createOrReplaceTempView(view_name)\n",
    "    \n",
    "    print(f\"Loaded the latest file for {folder_name} into view {view_name} with audit columns\")\n",
    "    \n",
    "    # Return the DataFrame\n",
    "    return df\n"
   ]
  },
  {
   "cell_type": "markdown",
   "metadata": {
    "application/vnd.databricks.v1+cell": {
     "cellMetadata": {
      "batchId": -8543599700716626,
      "byteLimit": 2048000,
      "rowLimit": 10000
     },
     "inputWidgets": {},
     "nuid": "1c90e4dd-a20d-4c01-849c-4de2a9f96f61",
     "showTitle": false,
     "tableResultSettingsMap": {},
     "title": ""
    }
   },
   "source": [
    "## Raw DLT Tables Creation"
   ]
  },
  {
   "cell_type": "code",
   "execution_count": 0,
   "metadata": {
    "application/vnd.databricks.v1+cell": {
     "cellMetadata": {
      "batchId": -8543599700716626,
      "byteLimit": 2048000,
      "rowLimit": 10000
     },
     "inputWidgets": {},
     "nuid": "283a391f-e3bf-4a27-b4f3-a20df00e5c63",
     "showTitle": false,
     "tableResultSettingsMap": {},
     "title": ""
    }
   },
   "outputs": [],
   "source": [
    "@dlt.table(\n",
    "    name=\"raw_appealcase\",\n",
    "    comment=\"Delta Live Table ARIA AppealCase.\",\n",
    "    path=f\"{raw_path}/Raw_AppealCase\"\n",
    ")\n",
    "def Raw_AppealCase():\n",
    "    return read_latest_parquet(\"AppealCase\", \"tv_AppealCase\", \"ARIA_ACTIVE_APPEALS\")\n",
    "\n",
    "@dlt.table(\n",
    "    name=\"raw_caserep\",\n",
    "    comment=\"Delta Live Table ARIA CaseRep.\",\n",
    "    path=f\"{raw_path}/Raw_CaseRep\"\n",
    ")\n",
    "def raw_CaseRep():\n",
    "     return read_latest_parquet(\"CaseRep\", \"tv_CaseRep\", \"ARIA_ACTIVE_APPEALS\") \n",
    " \n",
    "\n",
    "@dlt.table(\n",
    "    name=\"raw_representative\",\n",
    "    comment=\"Delta Live Table ARIA Representative.\",\n",
    "    path=f\"{raw_path}/Raw_Representative\"\n",
    ")\n",
    "def raw_Representative():\n",
    "     return read_latest_parquet(\"Representative\", \"tv_Representative\", \"ARIA_ACTIVE_APPEALS\")\n",
    "\n",
    "@dlt.table(\n",
    "    name=\"raw_casesponsor\",\n",
    "    comment=\"Delta Live Table ARIA CaseSponsor.\",\n",
    "    path=f\"{raw_path}/Raw_CaseSponsor\"\n",
    ")\n",
    "def raw_CaseSponsor():\n",
    "     return read_latest_parquet(\"CaseSponsor\", \"tv_CaseSponsor\", \"ARIA_ACTIVE_APPEALS\") \n",
    " \n",
    "@dlt.table(\n",
    "    name=\"raw_caserespondent\",\n",
    "    comment=\"Delta Live Table ARIA CaseRespondent.\",\n",
    "    path=f\"{raw_path}/Raw_CaseRespondent\"\n",
    ")\n",
    "def CaseRespondent():\n",
    "    return read_latest_parquet(\"CaseRespondent\", \"tv_CaseRespondent\", \"ARIA_ACTIVE_APPEALS\")\n",
    "\n",
    "@dlt.table(\n",
    "    name=\"raw_filelocation\",\n",
    "    comment=\"Delta Live Table ARIA FileLocation.\",\n",
    "    path=f\"{raw_path}/Raw_FileLocation\"\n",
    ")\n",
    "def raw_FileLocation():\n",
    "     return read_latest_parquet(\"FileLocation\", \"tv_FileLocation\", \"ARIA_ACTIVE_APPEALS\") \n",
    " \n",
    "@dlt.table(\n",
    "    name=\"raw_casefeesummary\",\n",
    "    comment=\"Delta Live Table ARIA CaseFeeSummary.\",\n",
    "    path=f\"{raw_path}/Raw_CaseFeeSummary\"\n",
    ")\n",
    "def raw_CaseFeeSummary():\n",
    "    return read_latest_parquet(\"CaseFeeSummary\", \"tv_CaseFeeSummary\", \"ARIA_ACTIVE_APPEALS\")  \n",
    " \n",
    "@dlt.table(\n",
    "    name=\"raw_caseappellant\",\n",
    "    comment=\"Delta Live Table ARIA CaseAppellant.\",\n",
    "    path=f\"{raw_path}/Raw_CaseAppellant\"\n",
    ")\n",
    "def raw_CaseAppellant():\n",
    "     return read_latest_parquet(\"CaseAppellant\", \"tv_CaseAppellant\", \"ARIA_ACTIVE_APPEALS\")\n",
    " \n",
    "@dlt.table(\n",
    "    name=\"raw_appellant\",\n",
    "    comment=\"Delta Live Table ARIA Appellant.\",\n",
    "    path=f\"{raw_path}/Raw_Appellant\"\n",
    ")\n",
    "def raw_Appellant():\n",
    "     return read_latest_parquet(\"Appellant\", \"tv_Appellant\", \"ARIA_ACTIVE_APPEALS\") \n",
    " \n",
    "@dlt.table(\n",
    "    name=\"raw_transaction\",\n",
    "    comment=\"Delta Live Table ARIA Transaction.\",\n",
    "    path=f\"{raw_path}/Raw_Transaction\"\n",
    ")\n",
    "def raw_Transaction():\n",
    "     return read_latest_parquet(\"Transaction\", \"tv_Transaction\", \"ARIA_ACTIVE_APPEALS\")   \n",
    "\n",
    "@dlt.table(\n",
    "    name=\"raw_transactiontype\",\n",
    "    comment=\"Delta Live Table ARIA TransactionType.\",\n",
    "    path=f\"{raw_path}/Raw_TransactionType\"\n",
    ")\n",
    "def raw_TransactionType():\n",
    "     return read_latest_parquet(\"TransactionType\", \"tv_TransactionType\", \"ARIA_ACTIVE_APPEALS\")  \n",
    " \n",
    "@dlt.table(\n",
    "    name=\"raw_link\",\n",
    "    comment=\"Delta Live Table ARIA Link.\",\n",
    "    path=f\"{raw_path}/Raw_Link\"\n",
    ")\n",
    "def raw_Link():\n",
    "     return read_latest_parquet(\"Link\", \"tv_Link\", \"ARIA_ACTIVE_APPEALS\")  \n",
    " \n",
    "@dlt.table(\n",
    "    name=\"raw_linkdetail\",\n",
    "    comment=\"Delta Live Table ARIA LinkDetail.\",\n",
    "    path=f\"{raw_path}/Raw_LinkDetail\"\n",
    ")\n",
    "def raw_LinkDetail():\n",
    "     return read_latest_parquet(\"LinkDetail\", \"tv_LinkDetail\", \"ARIA_ACTIVE_APPEALS\")  \n",
    " \n",
    "@dlt.table(\n",
    "    name=\"raw_caseadjudicator\",\n",
    "    comment=\"Delta Live Table ARIA AppealTypeCategory.\",\n",
    "    path=f\"{raw_path}/raw_caseadjudicator\"\n",
    ")\n",
    "def raw_caseadjudicator():\n",
    "     return read_latest_parquet(\"CaseAdjudicator\", \"tv_caseadjudicator\", \"ARIA_ACTIVE_APPEALS\") \n",
    " \n",
    "@dlt.table(\n",
    "    name=\"raw_adjudicator\",\n",
    "    comment=\"Delta Live Table ARIA Adjudicator.\",\n",
    "    path=f\"{raw_path}/Raw_Adjudicator\"\n",
    ")\n",
    "def raw_Adjudicator():\n",
    "     return read_latest_parquet(\"Adjudicator\", \"tv_Adjudicator\", \"ARIA_ACTIVE_APPEALS\")\n",
    " \n",
    "@dlt.table(\n",
    "    name=\"raw_appealcategory\",\n",
    "    comment=\"Delta Live Table ARIA AppealCategory.\",\n",
    "    path=f\"{raw_path}/Raw_AppealCategory\"\n",
    ")\n",
    "def raw_AppealCategory():\n",
    "     return read_latest_parquet(\"AppealCategory\", \"tv_AppealCategory\", \"ARIA_ACTIVE_APPEALS\") \n",
    " \n",
    "@dlt.table(\n",
    "    name=\"raw_documentsreceived\",\n",
    "    comment=\"Delta Live Table ARIA DocumentsReceived.\",\n",
    "    path=f\"{raw_path}/Raw_DocumentsReceived\"\n",
    ")\n",
    "def raw_DocumentsReceived():\n",
    "     return read_latest_parquet(\"DocumentsReceived\", \"tv_DocumentsReceived\", \"ARIA_ACTIVE_APPEALS\")  \n",
    " \n",
    "@dlt.table(\n",
    "    name=\"raw_history\",\n",
    "    comment=\"Delta Live Table ARIA History.\",\n",
    "    path=f\"{raw_path}/Raw_History\"\n",
    ")\n",
    "def raw_History():\n",
    "     return read_latest_parquet(\"History\", \"tv_History\", \"ARIA_ACTIVE_APPEALS\")\n",
    " \n",
    "\n",
    "@dlt.table(\n",
    "    name=\"raw_caselist\",\n",
    "    comment=\"Delta Live Table ARIA CaseList.\",\n",
    "    path=f\"{raw_path}/Raw_CaseList\"\n",
    ")\n",
    "def raw_CaseList():\n",
    "     return read_latest_parquet(\"CaseList\", \"tv_CaseList\", \"ARIA_ARM_APPEALS\") \n",
    " \n",
    "@dlt.table(\n",
    "    name=\"raw_status\",\n",
    "    comment=\"Delta Live Table ARIA Status.\",\n",
    "    path=f\"{raw_path}/Raw_Status\"\n",
    ")\n",
    "def raw_Status():\n",
    "     return read_latest_parquet(\"Status\", \"tv_Status\", \"ARIA_ARM_APPEALS\") \n",
    " \n",
    "@dlt.table(\n",
    "    name=\"raw_list\",\n",
    "    comment=\"Delta Live Table ARIA Status.\",\n",
    "    path=f\"{raw_path}/raw_list\"\n",
    ")\n",
    "def raw_list():\n",
    "     return read_latest_parquet(\"List\", \"tv_List\", \"ARIA_ACTIVE_APPEALS\") \n",
    " \n",
    "\n",
    "@dlt.table(\n",
    "    name=\"raw_listtype\",\n",
    "    comment=\"Delta Live Table ARIA Status.\",\n",
    "    path=f\"{raw_path}/raw_listtype\"\n",
    ")\n",
    "def raw_listtype():\n",
    "     return read_latest_parquet(\"ListType\", \"tv_ListType\", \"ARIA_ACTIVE_APPEALS\") \n",
    " \n",
    "@dlt.table(\n",
    "    name=\"raw_hearingtype\",\n",
    "    comment=\"Delta Live Table ARIA Status.\",\n",
    "    path=f\"{raw_path}/raw_hearingtype\"\n",
    ")\n",
    "def raw_hearingtype():\n",
    "     return read_latest_parquet(\"HearingType\", \"tv_HearingType\", \"ARIA_ACTIVE_APPEALS\") \n",
    " \n",
    "@dlt.table(\n",
    "    name=\"raw_court\",\n",
    "    comment=\"Delta Live Table ARIA Status.\",\n",
    "    path=f\"{raw_path}/raw_court\"\n",
    ")\n",
    "def raw_court():\n",
    "     return read_latest_parquet(\"Court\", \"tv_Court\", \"ARIA_ACTIVE_APPEALS\")\n",
    "\n",
    "\n",
    "@dlt.table(\n",
    "    name=\"raw_listsitting\",\n",
    "    comment=\"Delta Live Table ARIA Status.\",\n",
    "    path=f\"{raw_path}/raw_listsitting\"\n",
    ")\n",
    "def raw_listsitting():\n",
    "     return read_latest_parquet(\"ListSitting\", \"tv_ListSitting\", \"ARIA_ACTIVE_APPEALS\") \n",
    " "
   ]
  },
  {
   "cell_type": "markdown",
   "metadata": {
    "application/vnd.databricks.v1+cell": {
     "cellMetadata": {
      "batchId": -8543599700716626,
      "byteLimit": 2048000,
      "rowLimit": 10000
     },
     "inputWidgets": {},
     "nuid": "60cc0fd4-16ed-47b2-b299-1f1acffaa7b3",
     "showTitle": false,
     "tableResultSettingsMap": {},
     "title": ""
    }
   },
   "source": [
    "## Bronze DLT Tables Creation"
   ]
  },
  {
   "cell_type": "markdown",
   "metadata": {
    "application/vnd.databricks.v1+cell": {
     "cellMetadata": {
      "batchId": -8543599700716626,
      "byteLimit": 2048000,
      "rowLimit": 10000
     },
     "inputWidgets": {},
     "nuid": "6606c5ee-aa8e-428c-9baf-9700801952fa",
     "showTitle": false,
     "tableResultSettingsMap": {},
     "title": ""
    }
   },
   "source": [
    "### Transformation M1 bronze_appealcase_crep_rep_floc_cspon_cfs"
   ]
  },
  {
   "cell_type": "markdown",
   "metadata": {
    "application/vnd.databricks.v1+cell": {
     "cellMetadata": {
      "batchId": -8543599700716626,
      "byteLimit": 2048000,
      "rowLimit": 10000
     },
     "inputWidgets": {},
     "nuid": "d91067a0-134a-4ca6-b47c-3fd753f4bc44",
     "showTitle": false,
     "tableResultSettingsMap": {},
     "title": ""
    }
   },
   "source": [
    "```sql\n",
    "-- m1.bronze_appealcase_crep_rep_floc_cspon_cfs\n",
    "SELECT\n",
    "-- AppealCase\n",
    "ac.CaseNo,\n",
    "ac.CasePrefix,\n",
    "ac.OutOfTimeIssue,\n",
    "ac.DateLodged,\n",
    "ac.DateAppealReceived,\n",
    "ac.CentreId,\n",
    "ac.NationalityId,\n",
    "ac.AppealTypeId,\n",
    "ac.DeportationDate,\n",
    "ac.RemovalDate,\n",
    "ac.VisitVisaType,\n",
    "ac.DateOfApplicationDecision,\n",
    "ac.HORef,\n",
    "ac.InCamera,\n",
    "ac.CourtPreference,\n",
    "ac.LanguageId,\n",
    "ac.Interpreter,\n",
    "-- CaseRep\n",
    "crep.RepresentativeId,\n",
    "crep.Name AS CaseRepName,\n",
    "crep.Address1 AS CaseRepAddress1,\n",
    "crep.Address2 AS CaseRepAddress2,\n",
    "crep.Address3 AS CaseRepAddress3,\n",
    "crep.Address4 AS CaseRepAddress4,\n",
    "crep.Address5 AS CaseRepAddress5,\n",
    "crep.Postcode AS CaseRepPostcode,\n",
    "crep.Contact,\n",
    "crep.Email AS CaseRepEmail,\n",
    "crep.FileSpecificEmail,\n",
    "-- Representative\n",
    "rep.Name AS RepName,\n",
    "rep.Address1 AS RepAddress1,\n",
    "rep.Address2 AS RepAddress2,\n",
    "rep.Address3 AS RepAddress3,\n",
    "rep.Address4 AS RepAddress4,\n",
    "rep.Address5 AS RepAddress5,\n",
    "rep.Postcode AS RepPostcode,\n",
    "rep.Email AS RepEmail,\n",
    "-- CaseSponsor\n",
    "cspon.Name AS SponsorName,\n",
    "cspon.Forenames AS SponsorForenames,\n",
    "cspon.Address1 AS SponsorAddress1,\n",
    "cspon.Address2 AS SponsorAddress2,\n",
    "cspon.Address3 AS SponsorAddress3,\n",
    "cspon.Address4 AS SponsorAddress4,\n",
    "cspon.Address5 AS SponsorAddress5,\n",
    "cspon.Postcode AS SponsorPostcode,\n",
    "cspon.Email AS SponsorEmail,\n",
    "cspon.Telephone AS SponsorTelephone,\n",
    "cspon.Authorised AS SponsorAuthorisation,\n",
    "-- CaseRespondent\n",
    "cr.MainRespondentId,\n",
    "-- FileLocation\n",
    "floc.DeptId,\n",
    "-- CaseFeeSummary\n",
    "cfs.PaymentRemissionRequested,\n",
    "cfs.PaymentRemissionReason,\n",
    "cfs.PaymentRemissionGranted,\n",
    "cfs.PaymentRemissionReasonNote,\n",
    "cfs.LSCReference,\n",
    "cfs.ASFReferenceNo,\n",
    "cfs.DateCorrectFeeReceived\n",
    "FROM dbo.AppealCase ac\n",
    "LEFT OUTER JOIN dbo.CaseRep crep ON ac.CaseNo = crep.CaseNo\n",
    "LEFT OUTER JOIN dbo.Representative rep ON crep.RepresentativeId = rep.RepresentativeId\n",
    "LEFT OUTER JOIN dbo.CaseSponsor cspon ON cspon.CaseNo = ac.CaseNo\n",
    "LEFT OUTER JOIN dbo.CaseRespondent cr on ac.CaseNo = cr.CaseNo\n",
    "LEFT OUTER JOIN dbo.FileLocation floc ON floc.CaseNo = ac.CaseNo\n",
    "LEFT OUTER JOIN dbo.CaseFeeSummary cfs ON cfs.CaseNo = ac.CaseNo\n",
    "```"
   ]
  },
  {
   "cell_type": "code",
   "execution_count": 0,
   "metadata": {
    "application/vnd.databricks.v1+cell": {
     "cellMetadata": {
      "byteLimit": 2048000,
      "rowLimit": 10000
     },
     "inputWidgets": {},
     "nuid": "e2bce427-ece5-4314-a3f9-06b796c6f3e6",
     "showTitle": false,
     "tableResultSettingsMap": {},
     "title": ""
    }
   },
   "outputs": [],
   "source": [
    "@dlt.table(\n",
    "    name=\"bronze_appealcase_crep_rep_floc_cspon_cfs\",\n",
    "    comment=\"Delta Live Table combining AppealCase with CaseRep, Representative, CaseSponsor, CaseRespondent, FileLocation, and CaseFeeSummary data.\",\n",
    "    path=f\"{bronze_path}/bronze_appealcase_crep_rep_floc_cspon_cfs\"\n",
    ")\n",
    "def bronze_appealcase_crep_rep_floc_cspon_cfs():\n",
    "    df = (\n",
    "        dlt.read(\"raw_appealcase\").alias(\"ac\")\n",
    "        .join(dlt.read(\"raw_caserep\").alias(\"crep\"), col(\"ac.CaseNo\") == col(\"crep.CaseNo\"), \"left_outer\")\n",
    "        .join(dlt.read(\"raw_representative\").alias(\"rep\"), col(\"crep.RepresentativeId\") == col(\"rep.RepresentativeId\"), \"left_outer\")\n",
    "        .join(dlt.read(\"raw_casesponsor\").alias(\"cspon\"), col(\"ac.CaseNo\") == col(\"cspon.CaseNo\"), \"left_outer\")\n",
    "        .join(dlt.read(\"raw_caserespondent\").alias(\"cr\"), col(\"ac.CaseNo\") == col(\"cr.CaseNo\"), \"left_outer\")\n",
    "        .join(dlt.read(\"raw_filelocation\").alias(\"floc\"), col(\"ac.CaseNo\") == col(\"floc.CaseNo\"), \"left_outer\")\n",
    "        .join(dlt.read(\"raw_casefeesummary\").alias(\"cfs\"), col(\"ac.CaseNo\") == col(\"cfs.CaseNo\"), \"left_outer\")\n",
    "        .select(\n",
    "            # AppealCase\n",
    "            col(\"ac.CaseNo\"),\n",
    "            col(\"ac.CasePrefix\"),\n",
    "            col(\"ac.OutOfTimeIssue\"),\n",
    "            col(\"ac.DateLodged\"),\n",
    "            col(\"ac.DateAppealReceived\"),\n",
    "            col(\"ac.CentreId\"),\n",
    "            col(\"ac.NationalityId\"),\n",
    "            col(\"ac.AppealTypeId\"),\n",
    "            col(\"ac.DeportationDate\"),\n",
    "            col(\"ac.RemovalDate\"),\n",
    "            col(\"ac.VisitVisaType\"),\n",
    "            col(\"ac.DateOfApplicationDecision\"),\n",
    "            col(\"ac.HORef\"),\n",
    "            col(\"ac.InCamera\"),\n",
    "            col(\"ac.CourtPreference\"),\n",
    "            col(\"ac.LanguageId\"),\n",
    "            col(\"ac.Interpreter\"),\n",
    "\n",
    "            # CaseRep\n",
    "            col(\"crep.RepresentativeId\"),\n",
    "            col(\"crep.Name\").alias(\"CaseRepName\"),\n",
    "            col(\"crep.Address1\").alias(\"CaseRepAddress1\"),\n",
    "            col(\"crep.Address2\").alias(\"CaseRepAddress2\"),\n",
    "            col(\"crep.Address3\").alias(\"CaseRepAddress3\"),\n",
    "            col(\"crep.Address4\").alias(\"CaseRepAddress4\"),\n",
    "            col(\"crep.Address5\").alias(\"CaseRepAddress5\"),\n",
    "            col(\"crep.Postcode\").alias(\"CaseRepPostcode\"),\n",
    "            col(\"crep.Contact\"),\n",
    "            col(\"crep.Email\").alias(\"CaseRepEmail\"),\n",
    "            col(\"crep.FileSpecificEmail\"),\n",
    "\n",
    "            # Representative\n",
    "            col(\"rep.Name\").alias(\"RepName\"),\n",
    "            col(\"rep.Address1\").alias(\"RepAddress1\"),\n",
    "            col(\"rep.Address2\").alias(\"RepAddress2\"),\n",
    "            col(\"rep.Address3\").alias(\"RepAddress3\"),\n",
    "            col(\"rep.Address4\").alias(\"RepAddress4\"),\n",
    "            col(\"rep.Address5\").alias(\"RepAddress5\"),\n",
    "            col(\"rep.Postcode\").alias(\"RepPostcode\"),\n",
    "            col(\"rep.Email\").alias(\"RepEmail\"),\n",
    "\n",
    "            # CaseSponsor\n",
    "            col(\"cspon.Name\").alias(\"SponsorName\"),\n",
    "            col(\"cspon.Forenames\").alias(\"SponsorForenames\"),\n",
    "            col(\"cspon.Address1\").alias(\"SponsorAddress1\"),\n",
    "            col(\"cspon.Address2\").alias(\"SponsorAddress2\"),\n",
    "            col(\"cspon.Address3\").alias(\"SponsorAddress3\"),\n",
    "            col(\"cspon.Address4\").alias(\"SponsorAddress4\"),\n",
    "            col(\"cspon.Address5\").alias(\"SponsorAddress5\"),\n",
    "            col(\"cspon.Postcode\").alias(\"SponsorPostcode\"),\n",
    "            col(\"cspon.Email\").alias(\"SponsorEmail\"),\n",
    "            col(\"cspon.Telephone\").alias(\"SponsorTelephone\"),\n",
    "            col(\"cspon.Authorised\").alias(\"SponsorAuthorisation\"),\n",
    "\n",
    "            # CaseRespondent\n",
    "            col(\"cr.MainRespondentId\"),\n",
    "\n",
    "            # FileLocation\n",
    "            col(\"floc.DeptId\"),\n",
    "\n",
    "            # CaseFeeSummary\n",
    "            col(\"cfs.PaymentRemissionRequested\"),\n",
    "            col(\"cfs.PaymentRemissionReason\"),\n",
    "            col(\"cfs.PaymentRemissionGranted\"),\n",
    "            col(\"cfs.PaymentRemissionReasonNote\"),\n",
    "            col(\"cfs.LSCReference\"),\n",
    "            col(\"cfs.ASFReferenceNo\"),\n",
    "            col(\"cfs.DateCorrectFeeReceived\")\n",
    "        )\n",
    "    )\n",
    "\n",
    "    return df\n"
   ]
  },
  {
   "cell_type": "markdown",
   "metadata": {
    "application/vnd.databricks.v1+cell": {
     "cellMetadata": {
      "byteLimit": 2048000,
      "rowLimit": 10000
     },
     "inputWidgets": {},
     "nuid": "3bd49c0d-a4cd-4515-b30e-74c789609946",
     "showTitle": false,
     "tableResultSettingsMap": {},
     "title": ""
    }
   },
   "source": [
    "### Transformation M2 bronze_appealcase_caseappellant_appellant"
   ]
  },
  {
   "cell_type": "markdown",
   "metadata": {
    "application/vnd.databricks.v1+cell": {
     "cellMetadata": {
      "byteLimit": 2048000,
      "rowLimit": 10000
     },
     "inputWidgets": {},
     "nuid": "6a19ac83-3fc6-407f-910e-7baa53d6bafe",
     "showTitle": false,
     "tableResultSettingsMap": {},
     "title": ""
    }
   },
   "source": [
    "```sql\n",
    "-- m2.bronze_appealcase_caseappellant_appellant \n",
    "-- This query *could* pull back multiple rows per case however for all the cases migrating to CCD there is only ever 1 row per CaseNo. \n",
    "\n",
    "SELECT \n",
    "ac.CaseNo, \n",
    "-- Appellant \n",
    "ap.Name AS AppellantName, \n",
    "ap.Forenames AS AppellantForenames, \n",
    "ap.BirthDate, \n",
    "ap.Email AS AppellantEmail, \n",
    "ap.Telephone AS AppellantTelephone, \n",
    "ap.Address1 AS AppellantAddress1, \n",
    "ap.Address2 AS AppellantAddress2, \n",
    "ap.Address3 AS AppellantAddress3, \n",
    "ap.Address4 AS AppellantAddress4, \n",
    "ap.Address5 AS AppellantAddress5, \n",
    "ap.Postcode AS AppellantPostcode, \n",
    "ap.AppellantCountryId, \n",
    "ap.FCONumber \n",
    "FROM dbo.AppealCase ac \n",
    "LEFT OUTER JOIN dbo.CaseAppellant cap ON cap.CaseNO = ac.CaseNo \n",
    "LEFT OUTER JOIN dbo.Appellant ap ON cap.AppellantId = ap.AppellantId \n",
    "```"
   ]
  },
  {
   "cell_type": "code",
   "execution_count": 0,
   "metadata": {
    "application/vnd.databricks.v1+cell": {
     "cellMetadata": {
      "byteLimit": 2048000,
      "rowLimit": 10000
     },
     "inputWidgets": {},
     "nuid": "4d2d5026-e090-41ad-a5b7-d3c8b2df38c0",
     "showTitle": false,
     "tableResultSettingsMap": {},
     "title": ""
    }
   },
   "outputs": [],
   "source": [
    "@dlt.table(\n",
    "    name=\"bronze_appealcase_caseappellant_appellant\",\n",
    "    comment=\"DLT table joining AppealCase with CaseAppellant and Appellant details.\",\n",
    "    path=f\"{bronze_path}/bronze_appealcase_caseappellant_appellant\"\n",
    ")\n",
    "def bronze_appealcase_caseappellant_appellant():\n",
    "    df = (\n",
    "        dlt.read(\"raw_appealcase\").alias(\"ac\")\n",
    "        .join(dlt.read(\"raw_caseappellant\").alias(\"cap\"), col(\"ac.CaseNo\") == col(\"cap.CaseNo\"), \"left_outer\")\n",
    "        .join(dlt.read(\"raw_appellant\").alias(\"ap\"), col(\"cap.AppellantId\") == col(\"ap.AppellantId\"), \"left_outer\")\n",
    "        .select(\n",
    "            col(\"ac.CaseNo\"),\n",
    "\n",
    "            # Appellant\n",
    "            col(\"ap.Name\").alias(\"AppellantName\"),\n",
    "            col(\"ap.Forenames\").alias(\"AppellantForenames\"),\n",
    "            col(\"ap.BirthDate\"),\n",
    "            col(\"ap.Email\").alias(\"AppellantEmail\"),\n",
    "            col(\"ap.Telephone\").alias(\"AppellantTelephone\"),\n",
    "            col(\"ap.Address1\").alias(\"AppellantAddress1\"),\n",
    "            col(\"ap.Address2\").alias(\"AppellantAddress2\"),\n",
    "            col(\"ap.Address3\").alias(\"AppellantAddress3\"),\n",
    "            col(\"ap.Address4\").alias(\"AppellantAddress4\"),\n",
    "            col(\"ap.Address5\").alias(\"AppellantAddress5\"),\n",
    "            col(\"ap.Postcode\").alias(\"AppellantPostcode\"),\n",
    "            col(\"ap.AppellantCountryId\"),\n",
    "            col(\"ap.FCONumber\")\n",
    "        )\n",
    "    )\n",
    "\n",
    "    return df\n"
   ]
  },
  {
   "cell_type": "markdown",
   "metadata": {
    "application/vnd.databricks.v1+cell": {
     "cellMetadata": {
      "byteLimit": 2048000,
      "rowLimit": 10000
     },
     "inputWidgets": {},
     "nuid": "493e7099-7607-4342-95b3-8514b1792cd1",
     "showTitle": false,
     "tableResultSettingsMap": {},
     "title": ""
    }
   },
   "source": [
    "### Transformation M3 bronze_status_htype_clist_list_ltype_court_lsitting_adj"
   ]
  },
  {
   "cell_type": "markdown",
   "metadata": {
    "application/vnd.databricks.v1+cell": {
     "cellMetadata": {
      "byteLimit": 2048000,
      "rowLimit": 10000
     },
     "inputWidgets": {},
     "nuid": "406deb18-7c46-47f1-8a2f-2255325a9605",
     "showTitle": false,
     "tableResultSettingsMap": {},
     "title": ""
    }
   },
   "source": [
    "```sql\n",
    "-- m3.bronze_status_htype_clist_list_ltype_court_lsitting_adj \n",
    "-- This will return multiple rows per CaseNo  \n",
    "SELECT  \n",
    "s.StatusId, \n",
    "s.CaseNo, \n",
    "s.CaseStatus, \n",
    "s.Outcome, \n",
    "s.KeyDate AS HearingDate, \n",
    "s.CentreId, \n",
    "s.DecisionDate, \n",
    "s.Party, \n",
    "s.DateReceived, \n",
    "s.OutOfTime, \n",
    "s.DecisionReserved, \n",
    "s.AdjudicatorId, \n",
    "adjs.Surname AS AdjSurname,  \n",
    "adjs.Forenames AS AdjForenames,  \n",
    "adjs.Title AS AdjTitle,  \n",
    "s.Promulgated AS DateOfService, \n",
    "s.AdditionalLanguageId, \n",
    "-- Listing details fields \n",
    "s.ListedCentre AS HearingCentre, \n",
    "c.CourtName, \n",
    "l.ListName, \n",
    "lt.Description AS ListType, \n",
    "ht.Description AS HearingType, \n",
    "cl.StartTime, \n",
    "cl.TimeEstimate, \n",
    "-- Assigned Judges & Clerk for Listing Details \n",
    "adjLS1.Surname AS Judge1FTSurname, \n",
    "adjLS1.Forenames AS Judge1FTForenames, \n",
    "adjLS1.Title AS Judge1FTTitle,\t \n",
    "adjLS2.Surname AS Judge2FTSurname, \n",
    "adjLS2.Forenames AS Judge2FTForenames, \n",
    "adjLS2.Title AS Judge2FTTitle,\t \n",
    "adjLS3.Surname AS Judge3FTSurname, \n",
    "adjLS3.Forenames AS Judge3FTForenames, \n",
    "adjLS3.Title AS Judge3FTTitle,\t \n",
    "adjLS4.Surname AS CourtClerkSurname, \n",
    "adjLS4.Forenames AS CourtClerkForenames, \n",
    "adjLS4.Title AS CourtClerkTitle, \n",
    "ac.Notes \n",
    "FROM dbo.Status s \n",
    "LEFT OUTER JOIN dbo.CaseList cl ON cl.StatusId = s.StatusId \n",
    "LEFT OUTER JOIN dbo.List l ON l.ListId = cl.ListId \n",
    "LEFT OUTER JOIN dbo.HearingType ht ON cl.HearingTypeId = ht.HearingTypeId \n",
    "LEFT OUTER JOIN dbo.Adjudicator adjs ON s.AdjudicatorId = adjs.AdjudicatorId \n",
    "LEFT OUTER JOIN dbo.ListType lt ON l.ListTypeId = lt.ListTypeId \n",
    "LEFT OUTER JOIN dbo.Court c ON c.CourtId = l.CourtId \n",
    "LEFT OUTER JOIN dbo.AppealCase ac ON ac.CaseNO = s.CaseNo \n",
    "LEFT OUTER JOIN dbo.ListSitting LS1 ON l.ListId = LS1.ListId AND LS1.Position = 10 AND LS1.Cancelled = 0 \n",
    "LEFT OUTER JOIN dbo.Adjudicator adjLS1 ON LS1.AdjudicatorId = adjLS1.AdjudicatorId \n",
    "LEFT OUTER JOIN dbo.ListSitting LS2 ON l.ListId = LS2.ListId AND LS2.Position = 11 AND LS2.Cancelled = 0 \n",
    "LEFT OUTER JOIN dbo.Adjudicator adjLS2 ON LS2.AdjudicatorId = adjLS2.AdjudicatorId \n",
    "LEFT OUTER JOIN dbo.ListSitting LS3 ON l.ListId = LS3.ListId AND LS3.Position = 12 AND LS3.Cancelled = 0 \n",
    "LEFT OUTER JOIN dbo.Adjudicator adjLS3 ON LS3.AdjudicatorId = adjLS3.AdjudicatorId \n",
    "LEFT OUTER JOIN dbo.ListSitting LS4 ON l.ListId = LS4.ListId AND LS4.Position = 3 AND LS4.Cancelled = 0 \n",
    "LEFT OUTER JOIN dbo.Adjudicator adjLS4 ON LS4.AdjudicatorId = adjLS4.AdjudicatorId\n",
    "\n",
    "```"
   ]
  },
  {
   "cell_type": "code",
   "execution_count": 0,
   "metadata": {
    "application/vnd.databricks.v1+cell": {
     "cellMetadata": {
      "byteLimit": 2048000,
      "rowLimit": 10000
     },
     "inputWidgets": {},
     "nuid": "fea86b39-986e-4847-a7d6-b8955f61abcd",
     "showTitle": false,
     "tableResultSettingsMap": {},
     "title": ""
    }
   },
   "outputs": [],
   "source": [
    "@dlt.table(\n",
    "    name=\"bronze_status_htype_clist_list_ltype_court_lsitting_adj\",\n",
    "    comment=\"DLT table joining Status with hearing types, court listings, adjudicators, and associated metadata.\",\n",
    "    path=f\"{bronze_path}/bronze_status_htype_clist_list_ltype_court_lsitting_adj\"\n",
    ")\n",
    "def bronze_status_htype_clist_list_ltype_court_lsitting_adj():\n",
    "    df = (\n",
    "        dlt.read(\"raw_status\").alias(\"s\")\n",
    "        .join(dlt.read(\"raw_caselist\").alias(\"cl\"), col(\"s.StatusId\") == col(\"cl.StatusId\"), \"left_outer\")\n",
    "        .join(dlt.read(\"raw_list\").alias(\"l\"), col(\"cl.ListId\") == col(\"l.ListId\"), \"left_outer\")\n",
    "        .join(dlt.read(\"raw_hearingtype\").alias(\"ht\"), col(\"cl.HearingTypeId\") == col(\"ht.HearingTypeId\"), \"left_outer\")\n",
    "        .join(dlt.read(\"raw_adjudicator\").alias(\"adjs\"), col(\"s.AdjudicatorId\") == col(\"adjs.AdjudicatorId\"), \"left_outer\")\n",
    "        .join(dlt.read(\"raw_listtype\").alias(\"lt\"), col(\"l.ListTypeId\") == col(\"lt.ListTypeId\"), \"left_outer\")\n",
    "        .join(dlt.read(\"raw_court\").alias(\"c\"), col(\"l.CourtId\") == col(\"c.CourtId\"), \"left_outer\")\n",
    "        .join(dlt.read(\"raw_appealcase\").alias(\"ac\"), col(\"s.CaseNo\") == col(\"ac.CaseNo\"), \"left_outer\")\n",
    "        .join(dlt.read(\"raw_listsitting\").alias(\"LS1\"), (col(\"l.ListId\") == col(\"LS1.ListId\")) & (col(\"LS1.Position\") == 10) & (col(\"LS1.Cancelled\") == 0), \"left_outer\")\n",
    "        .join(dlt.read(\"raw_adjudicator\").alias(\"adjLS1\"), col(\"LS1.AdjudicatorId\") == col(\"adjLS1.AdjudicatorId\"), \"left_outer\")\n",
    "        .join(dlt.read(\"raw_listsitting\").alias(\"LS2\"), (col(\"l.ListId\") == col(\"LS2.ListId\")) & (col(\"LS2.Position\") == 11) & (col(\"LS2.Cancelled\") == 0), \"left_outer\")\n",
    "        .join(dlt.read(\"raw_adjudicator\").alias(\"adjLS2\"), col(\"LS2.AdjudicatorId\") == col(\"adjLS2.AdjudicatorId\"), \"left_outer\")\n",
    "        .join(dlt.read(\"raw_listsitting\").alias(\"LS3\"), (col(\"l.ListId\") == col(\"LS3.ListId\")) & (col(\"LS3.Position\") == 12) & (col(\"LS3.Cancelled\") == 0), \"left_outer\")\n",
    "        .join(dlt.read(\"raw_adjudicator\").alias(\"adjLS3\"), col(\"LS3.AdjudicatorId\") == col(\"adjLS3.AdjudicatorId\"), \"left_outer\")\n",
    "        .join(dlt.read(\"raw_listsitting\").alias(\"LS4\"), (col(\"l.ListId\") == col(\"LS4.ListId\")) & (col(\"LS4.Position\") == 3) & (col(\"LS4.Cancelled\") == 0), \"left_outer\")\n",
    "        .join(dlt.read(\"raw_adjudicator\").alias(\"adjLS4\"), col(\"LS4.AdjudicatorId\") == col(\"adjLS4.AdjudicatorId\"), \"left_outer\")\n",
    "        .select(\n",
    "            col(\"s.StatusId\"),\n",
    "            col(\"s.CaseNo\"),\n",
    "            col(\"s.CaseStatus\"),\n",
    "            col(\"s.Outcome\"),\n",
    "            col(\"s.KeyDate\").alias(\"HearingDate\"),\n",
    "            col(\"s.CentreId\"),\n",
    "            col(\"s.DecisionDate\"),\n",
    "            col(\"s.Party\"),\n",
    "            col(\"s.DateReceived\"),\n",
    "            col(\"s.OutOfTime\"),\n",
    "            col(\"s.DecisionReserved\"),\n",
    "            col(\"s.AdjudicatorId\"),\n",
    "            col(\"adjs.Surname\").alias(\"AdjSurname\"),\n",
    "            col(\"adjs.Forenames\").alias(\"AdjForenames\"),\n",
    "            col(\"adjs.Title\").alias(\"AdjTitle\"),\n",
    "            col(\"s.Promulgated\").alias(\"DateOfService\"),\n",
    "            col(\"s.AdditionalLanguageId\"),\n",
    "            col(\"s.ListedCentre\").alias(\"HearingCentre\"),\n",
    "            col(\"c.CourtName\"),\n",
    "            col(\"l.ListName\"),\n",
    "            col(\"lt.Description\").alias(\"ListType\"),\n",
    "            col(\"ht.Description\").alias(\"HearingType\"),\n",
    "            col(\"cl.StartTime\"),\n",
    "            col(\"cl.TimeEstimate\"),\n",
    "            col(\"adjLS1.Surname\").alias(\"Judge1FTSurname\"),\n",
    "            col(\"adjLS1.Forenames\").alias(\"Judge1FTForenames\"),\n",
    "            col(\"adjLS1.Title\").alias(\"Judge1FTTitle\"),\n",
    "            col(\"adjLS2.Surname\").alias(\"Judge2FTSurname\"),\n",
    "            col(\"adjLS2.Forenames\").alias(\"Judge2FTForenames\"),\n",
    "            col(\"adjLS2.Title\").alias(\"Judge2FTTitle\"),\n",
    "            col(\"adjLS3.Surname\").alias(\"Judge3FTSurname\"),\n",
    "            col(\"adjLS3.Forenames\").alias(\"Judge3FTForenames\"),\n",
    "            col(\"adjLS3.Title\").alias(\"Judge3FTTitle\"),\n",
    "            col(\"adjLS4.Surname\").alias(\"CourtClerkSurname\"),\n",
    "            col(\"adjLS4.Forenames\").alias(\"CourtClerkForenames\"),\n",
    "            col(\"adjLS4.Title\").alias(\"CourtClerkTitle\"),\n",
    "            col(\"ac.Notes\")\n",
    "        )\n",
    "    )\n",
    "\n",
    "    return df"
   ]
  },
  {
   "cell_type": "markdown",
   "metadata": {
    "application/vnd.databricks.v1+cell": {
     "cellMetadata": {
      "byteLimit": 2048000,
      "rowLimit": 10000
     },
     "inputWidgets": {},
     "nuid": "ce008a28-a831-480d-9bbe-68757441c8c2",
     "showTitle": false,
     "tableResultSettingsMap": {},
     "title": ""
    }
   },
   "source": [
    "### Transformation M4 bronze_appealcase_transaction_transactiontype"
   ]
  },
  {
   "cell_type": "markdown",
   "metadata": {
    "application/vnd.databricks.v1+cell": {
     "cellMetadata": {
      "byteLimit": 2048000,
      "rowLimit": 10000
     },
     "inputWidgets": {},
     "nuid": "7cc8ff4b-e1c5-4b2f-b3a4-3dbe538526b9",
     "showTitle": false,
     "tableResultSettingsMap": {},
     "title": ""
    }
   },
   "source": [
    "```sql\n",
    "-- m4.bronze_appealcase_transaction_transactiontype\n",
    "-- This will return multiple rows per CaseNo\n",
    "SELECT\n",
    "-- Transaction\n",
    "t.CaseNo,\n",
    "t.TransactionId,\n",
    "t.TransactionTypeId,\n",
    "t.ReferringTransactionId,\n",
    "t.Amount,\n",
    "t.TransactionDate,\n",
    "t.Status,\n",
    "-- TransactionType\n",
    "tt.SumBalance,\n",
    "tt.SumTotalFee,\n",
    "tt.SumTotalPay\n",
    "FROM dbo.[Transaction] t\n",
    "LEFT OUTER JOIN dbo.TransactionType tt ON t.TransactionTypeId = tt.TransactionTypeId\n",
    "```"
   ]
  },
  {
   "cell_type": "code",
   "execution_count": 0,
   "metadata": {
    "application/vnd.databricks.v1+cell": {
     "cellMetadata": {
      "byteLimit": 2048000,
      "rowLimit": 10000
     },
     "inputWidgets": {},
     "nuid": "9044e702-8169-4fd1-a902-8c1e38cd9c2e",
     "showTitle": false,
     "tableResultSettingsMap": {},
     "title": ""
    }
   },
   "outputs": [],
   "source": [
    "@dlt.table(\n",
    "    name=\"bronze_appealcase_transaction_transactiontype\",\n",
    "    comment=\"DLT table joining Transaction with TransactionType to return multiple rows per CaseNo.\",\n",
    "    path=f\"{bronze_path}/bronze_appealcase_transaction_transactiontype\"\n",
    ")\n",
    "def bronze_appealcase_transaction_transactiontype():\n",
    "    df = (\n",
    "        dlt.read(\"raw_transaction\").alias(\"t\")\n",
    "        .join(\n",
    "            dlt.read(\"raw_transactiontype\").alias(\"tt\"),\n",
    "            col(\"t.TransactionTypeId\") == col(\"tt.TransactionTypeId\"),\n",
    "            \"left_outer\"\n",
    "        )\n",
    "        .select(\n",
    "            col(\"t.CaseNo\"),\n",
    "            col(\"t.TransactionId\"),\n",
    "            col(\"t.TransactionTypeId\"),\n",
    "            col(\"t.ReferringTransactionId\"),\n",
    "            col(\"t.Amount\"),\n",
    "            col(\"t.TransactionDate\"),\n",
    "            col(\"t.Status\"),\n",
    "            # TransactionType \n",
    "            col(\"tt.SumBalance\"),\n",
    "            col(\"tt.SumTotalFee\"),\n",
    "            col(\"tt.SumTotalPay\")\n",
    "        )\n",
    "    )\n",
    "\n",
    "    return df\n",
    "\n"
   ]
  },
  {
   "cell_type": "markdown",
   "metadata": {
    "application/vnd.databricks.v1+cell": {
     "cellMetadata": {
      "byteLimit": 2048000,
      "rowLimit": 10000
     },
     "inputWidgets": {},
     "nuid": "643c81a5-2bcc-4360-b230-2bf1f9fdab86",
     "showTitle": false,
     "tableResultSettingsMap": {},
     "title": ""
    }
   },
   "source": [
    "### Transformation M5 bronze_appealcase_transaction_transactiontype"
   ]
  },
  {
   "cell_type": "markdown",
   "metadata": {
    "application/vnd.databricks.v1+cell": {
     "cellMetadata": {
      "byteLimit": 2048000,
      "rowLimit": 10000
     },
     "inputWidgets": {},
     "nuid": "4e82e67a-c636-48ae-b361-2d51a9e4db00",
     "showTitle": false,
     "tableResultSettingsMap": {},
     "title": ""
    }
   },
   "source": [
    "```sql\n",
    "-- m5.bronze_appealcase_link_linkdetail\n",
    "-- This can return multiple rows per CaseNo\n",
    "SELECT\n",
    "-- Link\n",
    "l.CaseNo,\n",
    "l.LinkNo,\n",
    "-- LinkDetail\n",
    "ld.ReasonLinkId\n",
    "FROM dbo.Link l\n",
    "LEFT OUTER JOIN dbo.LinkDetail ld ON l.LinkNo = ld.LinkNo\n",
    "ORDER BY CaseNO\n",
    "```"
   ]
  },
  {
   "cell_type": "code",
   "execution_count": 0,
   "metadata": {
    "application/vnd.databricks.v1+cell": {
     "cellMetadata": {
      "byteLimit": 2048000,
      "rowLimit": 10000
     },
     "inputWidgets": {},
     "nuid": "d8c49ac1-c113-4f23-8fce-deb03a704384",
     "showTitle": false,
     "tableResultSettingsMap": {},
     "title": ""
    }
   },
   "outputs": [],
   "source": [
    "@dlt.table(\n",
    "    name=\"bronze_appealcase_link_linkdetail\",\n",
    "    comment=\"DLT table joining Link with LinkDetail. Can return multiple rows per CaseNo.\",\n",
    "    path=f\"{bronze_path}/bronze_appealcase_link_linkdetail\"\n",
    ")\n",
    "def bronze_appealcase_link_linkdetail():\n",
    "    df = (\n",
    "        dlt.read(\"raw_link\").alias(\"l\")\n",
    "        .join(\n",
    "            dlt.read(\"raw_linkdetail\").alias(\"ld\"),\n",
    "            col(\"l.LinkNo\") == col(\"ld.LinkNo\"),\n",
    "            \"left_outer\"\n",
    "        )\n",
    "        .select(\n",
    "            col(\"l.CaseNo\"),\n",
    "            col(\"l.LinkNo\"),\n",
    "            col(\"ld.ReasonLinkId\")\n",
    "        )\n",
    "    )\n",
    "\n",
    "    return df\n"
   ]
  },
  {
   "cell_type": "markdown",
   "metadata": {
    "application/vnd.databricks.v1+cell": {
     "cellMetadata": {
      "byteLimit": 2048000,
      "rowLimit": 10000
     },
     "inputWidgets": {},
     "nuid": "81dd99c9-b54b-412f-9fb9-a18ea8330507",
     "showTitle": false,
     "tableResultSettingsMap": {},
     "title": ""
    }
   },
   "source": [
    "### Transformation M6 bronze_caseadjudicator_adjudicator"
   ]
  },
  {
   "cell_type": "code",
   "execution_count": 0,
   "metadata": {
    "application/vnd.databricks.v1+cell": {
     "cellMetadata": {
      "byteLimit": 2048000,
      "rowLimit": 10000
     },
     "inputWidgets": {},
     "nuid": "5783055d-1867-46c4-9079-d9a2874b9e77",
     "showTitle": false,
     "tableResultSettingsMap": {},
     "title": ""
    }
   },
   "outputs": [],
   "source": [
    "@dlt.table(\n",
    "    name=\"bronze_caseadjudicator_adjudicator\",\n",
    "    comment=\"DLT table joining CaseAdjudicator with Adjudicator. Can return multiple rows per CaseNo.\",\n",
    "    path=f\"{bronze_path}/bronze_caseadjudicator_adjudicator\"\n",
    ")\n",
    "def bronze_caseadjudicator_adjudicator():\n",
    "    df = (\n",
    "        dlt.read(\"raw_caseadjudicator\").alias(\"ca\")\n",
    "        .join(\n",
    "            dlt.read(\"raw_adjudicator\").alias(\"adj\"),\n",
    "            (col(\"ca.AdjudicatorId\") == col(\"adj.AdjudicatorId\")) & (col(\"adj.DoNotList\") == 0),\n",
    "            \"inner\"\n",
    "        )\n",
    "        .select(\n",
    "            col(\"ca.CaseNo\"),\n",
    "            col(\"ca.Required\"),\n",
    "            col(\"adj.Surname\").alias(\"JudgeSurname\"),\n",
    "            col(\"adj.Forenames\").alias(\"JudgeForenames\"),\n",
    "            col(\"adj.Title\").alias(\"JudgeTitle\")\n",
    "        )\n",
    "    )\n",
    "\n",
    "    return df\n"
   ]
  },
  {
   "cell_type": "markdown",
   "metadata": {
    "application/vnd.databricks.v1+cell": {
     "cellMetadata": {
      "byteLimit": 2048000,
      "rowLimit": 10000
     },
     "inputWidgets": {},
     "nuid": "4d3226a5-b79a-41f9-8542-1267d00be3b3",
     "showTitle": false,
     "tableResultSettingsMap": {},
     "title": ""
    }
   },
   "source": [
    "### Transformation bronze_appealcategory"
   ]
  },
  {
   "cell_type": "code",
   "execution_count": 0,
   "metadata": {
    "application/vnd.databricks.v1+cell": {
     "cellMetadata": {
      "byteLimit": 2048000,
      "rowLimit": 10000
     },
     "inputWidgets": {},
     "nuid": "c192c9a6-7d0f-47ee-b28c-dec4e9422ac4",
     "showTitle": false,
     "tableResultSettingsMap": {},
     "title": ""
    }
   },
   "outputs": [],
   "source": [
    "@dlt.table(\n",
    "    name=\"bronze_appealcategory\",\n",
    "    comment=\"DLT table for AppealCategory. Returns multiple rows per CaseNo.\",\n",
    "    path=f\"{bronze_path}/bronze_appealcategory\"\n",
    ")\n",
    "def bronze_appealcategory():\n",
    "    return (\n",
    "        dlt.read(\"raw_appealcategory\")\n",
    "        .select(\n",
    "            col(\"CaseNo\"),\n",
    "            col(\"CategoryId\")\n",
    "        )\n",
    "    )\n"
   ]
  },
  {
   "cell_type": "markdown",
   "metadata": {
    "application/vnd.databricks.v1+cell": {
     "cellMetadata": {
      "byteLimit": 2048000,
      "rowLimit": 10000
     },
     "inputWidgets": {},
     "nuid": "ce805d1c-73cc-4de5-a8be-c71e1a53ab4f",
     "showTitle": false,
     "tableResultSettingsMap": {},
     "title": ""
    }
   },
   "source": [
    "### Transformation bronze_documentsreceived"
   ]
  },
  {
   "cell_type": "code",
   "execution_count": 0,
   "metadata": {
    "application/vnd.databricks.v1+cell": {
     "cellMetadata": {
      "byteLimit": 2048000,
      "rowLimit": 10000
     },
     "inputWidgets": {},
     "nuid": "39e6d39a-3e83-435d-8463-122bb1598a1d",
     "showTitle": false,
     "tableResultSettingsMap": {},
     "title": ""
    }
   },
   "outputs": [],
   "source": [
    "@dlt.table(\n",
    "    name=\"bronze_documentsreceived\",\n",
    "    comment=\"DLT table for DocumentsReceived; may contain multiple rows per CaseNo.\",\n",
    "    path=f\"{bronze_path}/bronze_documentsreceived\"\n",
    ")\n",
    "def bronze_documentsreceived():\n",
    "    return (\n",
    "        dlt.read(\"raw_documentsreceived\")      # adjust if your raw table name differs\n",
    "            .select(\n",
    "                col(\"CaseNo\"),\n",
    "                col(\"ReceivedDocumentId\"),\n",
    "                col(\"DateReceived\")\n",
    "            )\n",
    "    )\n"
   ]
  },
  {
   "cell_type": "markdown",
   "metadata": {
    "application/vnd.databricks.v1+cell": {
     "cellMetadata": {
      "byteLimit": 2048000,
      "rowLimit": 10000
     },
     "inputWidgets": {},
     "nuid": "0ceb0874-29c6-498c-9465-ccc8c8331be6",
     "showTitle": false,
     "tableResultSettingsMap": {},
     "title": ""
    }
   },
   "source": [
    "### Transformation bronze_history"
   ]
  },
  {
   "cell_type": "code",
   "execution_count": 0,
   "metadata": {
    "application/vnd.databricks.v1+cell": {
     "cellMetadata": {
      "byteLimit": 2048000,
      "rowLimit": 10000
     },
     "inputWidgets": {},
     "nuid": "9976ea3e-8680-42d4-9251-fe60f5c379a2",
     "showTitle": false,
     "tableResultSettingsMap": {},
     "title": ""
    }
   },
   "outputs": [],
   "source": [
    "@dlt.table(\n",
    "    name=\"bronze_history\",\n",
    "    comment=\"DLT table for History; may contain multiple rows per CaseNo.\",\n",
    "    path=f\"{bronze_path}/bronze_history\"\n",
    ")\n",
    "def bronze_history():\n",
    "    return (\n",
    "        dlt.read(\"raw_history\")   # Replace with actual raw source name if different\n",
    "            .select(\n",
    "                col(\"HistoryId\"),\n",
    "                col(\"CaseNo\"),\n",
    "                col(\"HistType\"),\n",
    "                col(\"Comment\")\n",
    "            )\n",
    "    )\n"
   ]
  },
  {
   "cell_type": "markdown",
   "metadata": {
    "application/vnd.databricks.v1+cell": {
     "cellMetadata": {
      "byteLimit": 2048000,
      "rowLimit": 10000
     },
     "inputWidgets": {},
     "nuid": "c504ea9b-e4f1-4af0-b66a-a8f4c88fb83e",
     "showTitle": false,
     "tableResultSettingsMap": {},
     "title": ""
    }
   },
   "source": [
    "## Bronze Reference DLT Tables Creation\n",
    "> Note: Reference data from csv"
   ]
  },
  {
   "cell_type": "markdown",
   "metadata": {
    "application/vnd.databricks.v1+cell": {
     "cellMetadata": {
      "byteLimit": 2048000,
      "rowLimit": 10000
     },
     "inputWidgets": {},
     "nuid": "f0e8b4dc-060f-4484-8c32-95182e637c99",
     "showTitle": false,
     "tableResultSettingsMap": {},
     "title": ""
    }
   },
   "source": [
    "### Transformation bronze_countries_nationality"
   ]
  },
  {
   "cell_type": "code",
   "execution_count": 0,
   "metadata": {
    "application/vnd.databricks.v1+cell": {
     "cellMetadata": {
      "byteLimit": 2048000,
      "rowLimit": 10000
     },
     "inputWidgets": {},
     "nuid": "e9abdb3a-2978-4184-9055-dabc39522a18",
     "showTitle": false,
     "tableResultSettingsMap": {},
     "title": ""
    }
   },
   "outputs": [],
   "source": [
    "@dlt.table(\n",
    "    name=\"bronze_countries_nationality\",\n",
    "    comment=\"DLT table for History; may contain multiple rows per CaseNo.\",\n",
    "    path=f\"{bronze_path}/bronze_countries_nationality\"\n",
    ")\n",
    "def bronze_countries_nationality():\n",
    "    schema = StructType([\n",
    "        StructField(\"NationalityId\", IntegerType(), True),\n",
    "        StructField(\"Description\", StringType(), True),\n",
    "        StructField(\"countryCode\", StringType(), True),\n",
    "        StructField(\"appellantNationalitiesDescription\", StringType(), True)\n",
    "    ])\n",
    "    \n",
    "    return (\n",
    "        spark.read.format(\"csv\")\n",
    "            .option(\"header\", \"true\")\n",
    "            .option(\"inferSchema\", \"false\")\n",
    "            .option(\"encoding\", \"UTF-8\")\n",
    "            .schema(schema)\n",
    "            .load(f\"abfss://external-csv@{external_storage}.dfs.core.windows.net/ReferenceData/countries_nationality.csv\")\n",
    "            .select(\"*\")\n",
    "    )"
   ]
  },
  {
   "cell_type": "markdown",
   "metadata": {
    "application/vnd.databricks.v1+cell": {
     "cellMetadata": {
      "byteLimit": 2048000,
      "rowLimit": 10000
     },
     "inputWidgets": {},
     "nuid": "c9ee0003-4921-4523-acf6-18b2704be05c",
     "showTitle": false,
     "tableResultSettingsMap": {},
     "title": ""
    }
   },
   "source": [
    "### Transformation bronze_countries_postal"
   ]
  },
  {
   "cell_type": "code",
   "execution_count": 0,
   "metadata": {
    "application/vnd.databricks.v1+cell": {
     "cellMetadata": {
      "byteLimit": 2048000,
      "rowLimit": 10000
     },
     "inputWidgets": {},
     "nuid": "d5a5cfc8-79a8-4a9c-8f2f-6c0afa9ea108",
     "showTitle": false,
     "tableResultSettingsMap": {},
     "title": ""
    }
   },
   "outputs": [],
   "source": [
    "@dlt.table(\n",
    "    name=\"bronze_countries_postal\",\n",
    "    comment=\"DLT table for History; may contain multiple rows per CaseNo.\",\n",
    "    path=f\"{bronze_path}/bronze_countries_postal\"\n",
    ")\n",
    "def bronze_countries_postal():\n",
    "    schema = StructType([\n",
    "        StructField(\"AppellantCountryId\", IntegerType(), True),\n",
    "        StructField(\"Description\", StringType(), True),\n",
    "        StructField(\"countryGovUkOocAdminJ\", StringType(), True)\n",
    "    ])\n",
    "    \n",
    "    return (\n",
    "        spark.read.format(\"csv\")\n",
    "            .option(\"header\", \"true\")\n",
    "            .option(\"inferSchema\", \"false\")\n",
    "            .option(\"encoding\", \"UTF-8\")\n",
    "            .schema(schema)\n",
    "            .load(f\"abfss://external-csv@{external_storage}.dfs.core.windows.net/ReferenceData/countries_postal.csv\")\n",
    "            .select(\"*\")\n",
    "    )"
   ]
  },
  {
   "cell_type": "markdown",
   "metadata": {
    "application/vnd.databricks.v1+cell": {
     "cellMetadata": {
      "byteLimit": 2048000,
      "rowLimit": 10000
     },
     "inputWidgets": {},
     "nuid": "3ef1d1ad-b296-4dda-be86-22e2057badda",
     "showTitle": false,
     "tableResultSettingsMap": {},
     "title": ""
    }
   },
   "source": [
    "### Transformation bronze_countries_countryFromAddress"
   ]
  },
  {
   "cell_type": "code",
   "execution_count": 0,
   "metadata": {
    "application/vnd.databricks.v1+cell": {
     "cellMetadata": {
      "byteLimit": 2048000,
      "rowLimit": 10000
     },
     "inputWidgets": {},
     "nuid": "1a9fe75d-2e47-488a-9554-0e7e9e075b41",
     "showTitle": false,
     "tableResultSettingsMap": {},
     "title": ""
    }
   },
   "outputs": [],
   "source": [
    "@dlt.table(\n",
    "    name=\"bronze_countries_countryFromAddress\",\n",
    "    comment=\"DLT table for History; may contain multiple rows per CaseNo.\",\n",
    "    path=f\"{bronze_path}/bronze_countries_countryFromAddress\"\n",
    ")\n",
    "def bronze_countries_countryFromAddress():\n",
    "    schema = StructType([\n",
    "        StructField(\"CountryId\", IntegerType(), True),\n",
    "        StructField(\"Description\", StringType(), True),\n",
    "        StructField(\"countryCode\", StringType(), True)\n",
    "    ])\n",
    "    \n",
    "    return (\n",
    "        spark.read.format(\"csv\")\n",
    "            .option(\"header\", \"true\")\n",
    "            .option(\"inferSchema\", \"false\")\n",
    "            .option(\"encoding\", \"UTF-8\")\n",
    "            .schema(schema)\n",
    "            .load(f\"abfss://external-csv@{external_storage}.dfs.core.windows.net/ReferenceData/countries_countryFromAddress.csv\")\n",
    "            .select(\"*\")\n",
    "    )"
   ]
  },
  {
   "cell_type": "markdown",
   "metadata": {
    "application/vnd.databricks.v1+cell": {
     "cellMetadata": {
      "byteLimit": 2048000,
      "rowLimit": 10000
     },
     "inputWidgets": {},
     "nuid": "2ce323ba-dd4c-4521-ab36-83f646adfd54",
     "showTitle": false,
     "tableResultSettingsMap": {},
     "title": ""
    }
   },
   "source": [
    "### Transformation bronze_hearing_centres"
   ]
  },
  {
   "cell_type": "code",
   "execution_count": 0,
   "metadata": {
    "application/vnd.databricks.v1+cell": {
     "cellMetadata": {
      "byteLimit": 2048000,
      "rowLimit": 10000
     },
     "inputWidgets": {},
     "nuid": "7cf49534-fef5-4906-bbd3-511cc0be2602",
     "showTitle": false,
     "tableResultSettingsMap": {},
     "title": ""
    }
   },
   "outputs": [],
   "source": [
    "@dlt.table(\n",
    "    name=\"bronze_hearing_centres\",\n",
    "    comment=\"DLT table for History; may contain multiple rows per CaseNo.\",\n",
    "    path=f\"{bronze_path}/bronze_hearing_centres\"\n",
    ")\n",
    "def bronze_hearing_centres():\n",
    "    input_schema = StructType([\n",
    "        StructField(\"CentreId\", IntegerType(), True),\n",
    "        StructField(\"prevFileLocation\", StringType(), True),\n",
    "        StructField(\"hearingCentre\", StringType(), True),\n",
    "        StructField(\"staffLocation\", StringType(), True),\n",
    "        StructField(\"caseManagementLocation\", StringType(), True),\n",
    "        StructField(\"locationCode\", StringType(), True),\n",
    "        StructField(\"locationLabel\", StringType(), True),\n",
    "        StructField(\"selectedHearingCentreRefData\", StringType(), True),\n",
    "        StructField(\"listCaseHearingCentre\", StringType(), True),\n",
    "        StructField(\"applicationChangeDesignatedHearingCentre\", StringType(), True)\n",
    "    ])\n",
    "\n",
    "    caseManagementLocation_schema = StructType([\n",
    "        StructField(\"region\", StringType(), True),\n",
    "        StructField(\"baseLocation\", StringType(), True)\n",
    "    ])\n",
    "\n",
    "    df = (\n",
    "        spark.read.format(\"csv\")\n",
    "            .option(\"header\", \"true\")\n",
    "            .option(\"inferSchema\", \"false\")\n",
    "            .option(\"encoding\", \"UTF-8\")\n",
    "            .option(\"multiline\", \"true\")\n",
    "            .option(\"escape\", \"\\\"\")\n",
    "            .schema(input_schema)\n",
    "            .load(f\"abfss://external-csv@{external_storage}.dfs.core.windows.net/ReferenceData/hearing_centres.csv\")\n",
    "            .withColumn(\"caseManagementLocation\", regexp_replace(trim(regexp_replace(col(\"caseManagementLocation\"), \",$\", \"\")), \"^\\\\s+|\\\\s+$\", \"\"))  # Remove trailing commas and leading/trailing whitespace\n",
    "            .withColumn(\"caseManagementLocation\", from_json(col(\"caseManagementLocation\"), caseManagementLocation_schema))\n",
    "            .select(\"*\")\n",
    "    )\n",
    "\n",
    "    return df"
   ]
  },
  {
   "cell_type": "markdown",
   "metadata": {
    "application/vnd.databricks.v1+cell": {
     "cellMetadata": {
      "byteLimit": 2048000,
      "rowLimit": 10000
     },
     "inputWidgets": {},
     "nuid": "50f69d91-d855-47f9-87c3-5a839b98fef8",
     "showTitle": false,
     "tableResultSettingsMap": {},
     "title": ""
    }
   },
   "source": [
    "### Transformation bronze_remissions"
   ]
  },
  {
   "cell_type": "code",
   "execution_count": 0,
   "metadata": {
    "application/vnd.databricks.v1+cell": {
     "cellMetadata": {
      "byteLimit": 2048000,
      "rowLimit": 10000
     },
     "inputWidgets": {},
     "nuid": "af3ff52c-751a-4d27-8f3d-32f699c2eae2",
     "showTitle": false,
     "tableResultSettingsMap": {},
     "title": ""
    }
   },
   "outputs": [],
   "source": [
    "@dlt.table(\n",
    "    name=\"bronze_remissions\",\n",
    "    comment=\"DLT table for History; may contain multiple rows per CaseNo.\",\n",
    "    path=f\"{bronze_path}/bronze_remissions\"\n",
    ")\n",
    "def bronze_remissions():\n",
    "    schema = StructType([\n",
    "        StructField(\"PaymentRemissionRequested\", StringType(), True),\n",
    "        StructField(\"PaymentRemissionReason\", StringType(), True),\n",
    "        StructField(\"ReasonDescription\", StringType(), True),\n",
    "        StructField(\"remissionType\", StringType(), True),\n",
    "        StructField(\"remissionClaim\", StringType(), True),\n",
    "        StructField(\"feeRemissionType\", StringType(), True),\n",
    "        StructField(\"exceptionalCircumstances\", StringType(), True),\n",
    "        StructField(\"legalAidAccountNumber\", StringType(), True),\n",
    "        StructField(\"asylumSupportReference\", StringType(), True),\n",
    "        StructField(\"helpWithFeesReferenceNumber\", StringType(), True)\n",
    "    ])\n",
    "    \n",
    "    return (\n",
    "        spark.read.format(\"csv\")\n",
    "            .option(\"header\", \"true\")\n",
    "            .option(\"inferSchema\", \"false\")\n",
    "            .option(\"encoding\", \"UTF-8\")\n",
    "            .option(\"multiline\", \"true\")\n",
    "            .option(\"escape\", \"\\\"\")\n",
    "            .schema(schema)\n",
    "            .load(f\"abfss://external-csv@{external_storage}.dfs.core.windows.net/ReferenceData/remissions.csv\")\n",
    "            .select(\"*\")\n",
    "    )"
   ]
  },
  {
   "cell_type": "markdown",
   "metadata": {
    "application/vnd.databricks.v1+cell": {
     "cellMetadata": {
      "byteLimit": 2048000,
      "rowLimit": 10000
     },
     "inputWidgets": {},
     "nuid": "c830a713-a818-43fa-8a04-044c10f0a2bc",
     "showTitle": false,
     "tableResultSettingsMap": {},
     "title": ""
    }
   },
   "source": [
    "### Transformation bronze_appealtype"
   ]
  },
  {
   "cell_type": "code",
   "execution_count": 0,
   "metadata": {
    "application/vnd.databricks.v1+cell": {
     "cellMetadata": {
      "byteLimit": 2048000,
      "rowLimit": 10000
     },
     "inputWidgets": {},
     "nuid": "8d795c75-3b7c-426f-92c8-f4c4007e869d",
     "showTitle": false,
     "tableResultSettingsMap": {},
     "title": ""
    }
   },
   "outputs": [],
   "source": [
    "@dlt.table(\n",
    "    name=\"bronze_appealtype\",\n",
    "    comment=\"DLT table for AppealType.\",\n",
    "    path=f\"{bronze_path}/bronze_appealtype\"\n",
    ")\n",
    "def bronze_appealtype():\n",
    "    input_schema = StructType([\n",
    "        StructField(\"CCDAppealType\", StringType(), True),\n",
    "        StructField(\"appealType\", StringType(), True),\n",
    "        StructField(\"hmctsCaseCategory\", StringType(), True),\n",
    "        StructField(\"appealTypeDescription\", StringType(), True),\n",
    "        StructField(\"caseManagementCategory\", StringType(), True),\n",
    "        StructField(\"appealReferenceNumber\", StringType(), True),\n",
    "        StructField(\"isAppealReferenceNumberAvailable\", StringType(), True),\n",
    "        StructField(\"ccdReferenceNumberForDisplay\", StringType(), True)\n",
    "    ])\n",
    "\n",
    "    caseManagementCategory_json_schema = StructType([\n",
    "        StructField(\"value\", StructType([\n",
    "            StructField(\"code\", StringType(), True),\n",
    "            StructField(\"label\", StringType(), True)\n",
    "        ]), True),\n",
    "        StructField(\"list_items\", ArrayType(\n",
    "            StructType([\n",
    "                StructField(\"code\", StringType(), True),\n",
    "                StructField(\"label\", StringType(), True)\n",
    "            ])\n",
    "        ), True)\n",
    "    ])\n",
    "\n",
    "    df = spark.read.format(\"csv\") \\\n",
    "        .option(\"header\", \"true\") \\\n",
    "        .option(\"inferSchema\", \"false\") \\\n",
    "        .option(\"encoding\", \"UTF-8\") \\\n",
    "        .option(\"multiline\", \"true\") \\\n",
    "        .option(\"escape\", \"\\\"\") \\\n",
    "        .schema(input_schema) \\\n",
    "        .load(f\"abfss://external-csv@{external_storage}.dfs.core.windows.net/ReferenceData/appeal_type.csv\") \\\n",
    "        .withColumnRenamed(\"CCD Appeal Type (Conditions - Column H)\", \"CCDAppealType\") \\\n",
    "        .withColumn(\"caseManagementCategory\", regexp_replace(trim(regexp_replace(col(\"caseManagementCategory\"), \",$\", \"\")), \"^\\\\s+|\\\\s+$\", \"\")) \\\n",
    "        .select(\"*\")\n",
    "\n",
    "    # Parse JSON string column to struct\n",
    "    df_parsed = df.withColumn(\"caseManagementCategoryParsed\", from_json(col(\"caseManagementCategory\"), caseManagementCategory_json_schema))\n",
    "\n",
    "    # Apply schema to df_parsed\n",
    "    df_final = df_parsed.select(\n",
    "        col(\"CCDAppealType\").cast(StringType()),\n",
    "        col(\"appealType\").cast(StringType()),\n",
    "        col(\"hmctsCaseCategory\").cast(StringType()),\n",
    "        col(\"appealTypeDescription\").cast(StringType()),\n",
    "        col(\"caseManagementCategoryParsed\").alias(\"caseManagementCategory\"),\n",
    "        col(\"appealReferenceNumber\").cast(StringType()),\n",
    "        col(\"isAppealReferenceNumberAvailable\").cast(StringType()),\n",
    "        col(\"ccdReferenceNumberForDisplay\").cast(StringType())\n",
    "    )\n",
    "\n",
    "    return df_final"
   ]
  },
  {
   "cell_type": "markdown",
   "metadata": {
    "application/vnd.databricks.v1+cell": {
     "cellMetadata": {
      "byteLimit": 2048000,
      "rowLimit": 10000
     },
     "inputWidgets": {},
     "nuid": "d9b21605-23ee-4c9b-8623-5f53b7316519",
     "showTitle": false,
     "tableResultSettingsMap": {},
     "title": ""
    }
   },
   "source": [
    "### Transformation bronze_statevalue"
   ]
  },
  {
   "cell_type": "code",
   "execution_count": 0,
   "metadata": {
    "application/vnd.databricks.v1+cell": {
     "cellMetadata": {
      "byteLimit": 2048000,
      "rowLimit": 10000
     },
     "inputWidgets": {},
     "nuid": "445d3fce-cc57-4fc7-8117-e223f916e922",
     "showTitle": false,
     "tableResultSettingsMap": {},
     "title": ""
    }
   },
   "outputs": [],
   "source": [
    "@dlt.table(\n",
    "    name=\"bronze_statevalue\",\n",
    "    comment=\"DLT table for default state values.\",\n",
    "    path=f\"{bronze_path}/bronze_statevalue\"\n",
    ")\n",
    "def bronze_statevalue():\n",
    "    schema = StructType([\n",
    "        StructField(\"Field\", StringType(), True),\n",
    "        StructField(\"paymentPending\", StringType(), True),\n",
    "        StructField(\"appealSubmitted\", StringType(), True),\n",
    "        StructField(\"awaitingRespondentEvidence_a\", StringType(), True),\n",
    "        StructField(\"awaitingRespondentEvidence_b\", StringType(), True),\n",
    "        StructField(\"caseUnderReview\", StringType(), True),\n",
    "        StructField(\"reasonsForAppealSubmitted\", StringType(), True),\n",
    "        StructField(\"listing\", StringType(), True)\n",
    "    ])\n",
    "    \n",
    "    return (\n",
    "        spark.read.format(\"csv\")\n",
    "        .option(\"header\", \"true\")\n",
    "        .option(\"inferSchema\", \"false\")\n",
    "        .option(\"encoding\", \"UTF-8\")\n",
    "        .option(\"multiline\", \"true\")\n",
    "        .option(\"escape\", \"\\\"\")\n",
    "        .schema(schema)\n",
    "        .load(f\"abfss://external-csv@{external_storage}.dfs.core.windows.net/ReferenceData/statevalue_mappings.csv\")\n",
    "        .select(\"*\")\n",
    "    )\n",
    "\n",
    "display(bronze_appealtype)"
   ]
  },
  {
   "cell_type": "markdown",
   "metadata": {
    "application/vnd.databricks.v1+cell": {
     "cellMetadata": {
      "byteLimit": 2048000,
      "rowLimit": 10000
     },
     "inputWidgets": {},
     "nuid": "723d8f87-4ff6-492d-bb40-eed5a13081b4",
     "showTitle": false,
     "tableResultSettingsMap": {},
     "title": ""
    }
   },
   "source": [
    "## Exit Notebook with Success Message"
   ]
  },
  {
   "cell_type": "code",
   "execution_count": 0,
   "metadata": {
    "application/vnd.databricks.v1+cell": {
     "cellMetadata": {
      "byteLimit": 2048000,
      "rowLimit": 10000
     },
     "inputWidgets": {},
     "nuid": "57d6a8dc-a45c-4767-bee4-270289a114f2",
     "showTitle": false,
     "tableResultSettingsMap": {},
     "title": ""
    }
   },
   "outputs": [],
   "source": [
    "dbutils.notebook.exit(\"Notebook completed successfully\")"
   ]
  },
  {
   "cell_type": "markdown",
   "metadata": {
    "application/vnd.databricks.v1+cell": {
     "cellMetadata": {
      "byteLimit": 2048000,
      "rowLimit": 10000
     },
     "inputWidgets": {},
     "nuid": "a57f2ed7-bcc5-4466-a6bf-f0967741d849",
     "showTitle": false,
     "tableResultSettingsMap": {},
     "title": ""
    }
   },
   "source": [
    "### Appendix"
   ]
  },
  {
   "cell_type": "code",
   "execution_count": 0,
   "metadata": {
    "application/vnd.databricks.v1+cell": {
     "cellMetadata": {
      "byteLimit": 2048000,
      "implicitDf": true,
      "rowLimit": 10000
     },
     "inputWidgets": {},
     "nuid": "6f671971-8b2d-493a-a39a-549e145cf271",
     "showTitle": false,
     "tableResultSettingsMap": {},
     "title": ""
    }
   },
   "outputs": [],
   "source": [
    "# %sql\n",
    "# select * from ariadm_active_appeals.bronze_appealcase_crep_rep_floc_cspon_cfs"
   ]
  },
  {
   "cell_type": "code",
   "execution_count": 0,
   "metadata": {
    "application/vnd.databricks.v1+cell": {
     "cellMetadata": {
      "byteLimit": 2048000,
      "rowLimit": 10000
     },
     "inputWidgets": {},
     "nuid": "e9308033-e2c6-43fe-b907-16263ce81372",
     "showTitle": false,
     "tableResultSettingsMap": {},
     "title": ""
    }
   },
   "outputs": [],
   "source": [
    "# config = spark.read.option(\"multiline\", \"true\").json(\"dbfs:/configs/config.json\")\n",
    "\n",
    "# env = config.first()[\"env\"].strip().lower()\n",
    "\n",
    "# lz_key = config.first()[\"lz_key\"].strip().lower()\n",
    " \n",
    "# keyvault_name = f\"ingest00-meta002-{env}\"\n",
    " \n",
    "# # Access the Service Principle secrets from keyvaults\n",
    "\n",
    "# client_secret = dbutils.secrets.get(scope=keyvault_name, key='SERVICE-PRINCIPLE-CLIENT-SECRET')\n",
    "\n",
    "# tenant_id = dbutils.secrets.get(scope=keyvault_name, key='SERVICE-PRINCIPLE-TENANT-ID')\n",
    "\n",
    "# client_id = dbutils.secrets.get(scope=keyvault_name, key='SERVICE-PRINCIPLE-CLIENT-ID')\n",
    " \n",
    "# storage_accounts = [\"external\"]\n",
    " \n",
    "# for storage_account in storage_accounts:\n",
    "\n",
    "#     spark.conf.set(\n",
    "\n",
    "#         f'fs.azure.account.auth.type.ingest00{storage_account}{env}.dfs.core.windows.net', 'OAuth')\n",
    "#     spark.conf.set(\n",
    "#         f'fs.azure.account.oauth.provider.type.ingest00{storage_account}{env}.dfs.core.windows.net', 'org.apache.hadoop.fs.azurebfs.oauth2.ClientCredsTokenProvider')\n",
    "#     spark.conf.set(\n",
    "#         f'fs.azure.account.oauth2.client.id.ingest00{storage_account}{env}.dfs.core.windows.net', client_id)\n",
    "#     spark.conf.set(\n",
    "#         f'fs.azure.account.oauth2.client.secret.ingest00{storage_account}{env}.dfs.core.windows.net', client_secret)\n",
    "#     spark.conf.set(\n",
    "\n",
    "#         f'fs.azure.account.oauth2.client.endpoint.ingest00{storage_account}{env}.dfs.core.windows.net', f'https://login.microsoftonline.com/{tenant_id}/oauth2/token')\n",
    " \n",
    "# curated_storage_account = f\"ingest00external{env}\"\n",
    "\n",
    "# silver_container = \"external-csv\"\n",
    " \n",
    "# dbutils.fs.ls(f\"abfss://{silver_container}@{curated_storage_account}.dfs.core.windows.net/ReferenceData/\")\n",
    " "
   ]
  },
  {
   "cell_type": "code",
   "execution_count": 0,
   "metadata": {
    "application/vnd.databricks.v1+cell": {
     "cellMetadata": {
      "byteLimit": 2048000,
      "implicitDf": true,
      "rowLimit": 10000
     },
     "inputWidgets": {},
     "nuid": "ed3bae5f-c7c0-4831-b3f3-00759d3cba47",
     "showTitle": false,
     "tableResultSettingsMap": {},
     "title": ""
    }
   },
   "outputs": [],
   "source": [
    "# %sql\n",
    "# select *, size(tempCaseStatusDetails) as tempCaseStatusDetails_length from hive_metastore.ariadm_arm_fta.stg_statusdetail_data\n",
    "# -- where CaseNo = 'CC/00009/2005'\n",
    "# order by tempCaseStatusDetails_length desc\n",
    "# limit 10"
   ]
  },
  {
   "cell_type": "code",
   "execution_count": 0,
   "metadata": {
    "application/vnd.databricks.v1+cell": {
     "cellMetadata": {
      "byteLimit": 2048000,
      "implicitDf": true,
      "rowLimit": 10000
     },
     "inputWidgets": {},
     "nuid": "09a4a943-de4f-476d-b3a2-f26322fec4f2",
     "showTitle": false,
     "tableResultSettingsMap": {},
     "title": ""
    }
   },
   "outputs": [],
   "source": [
    "# %sql\n",
    "# select * from hive_metastore.ariadm_arm_fta.silver_list_detail"
   ]
  },
  {
   "cell_type": "code",
   "execution_count": 0,
   "metadata": {
    "application/vnd.databricks.v1+cell": {
     "cellMetadata": {
      "byteLimit": 2048000,
      "implicitDf": true,
      "rowLimit": 10000
     },
     "inputWidgets": {},
     "nuid": "9975bad0-0b4c-4b3d-9b7c-09799702cbdc",
     "showTitle": false,
     "tableResultSettingsMap": {},
     "title": ""
    }
   },
   "outputs": [],
   "source": [
    "# %sql\n",
    "# select * from hive_metastore.ariadm_arm_fta.silver_transaction_detail"
   ]
  },
  {
   "cell_type": "code",
   "execution_count": 0,
   "metadata": {
    "application/vnd.databricks.v1+cell": {
     "cellMetadata": {
      "byteLimit": 2048000,
      "implicitDf": true,
      "rowLimit": 10000
     },
     "inputWidgets": {},
     "nuid": "56256288-eb9d-4fe1-a0a2-1448205ff26e",
     "showTitle": false,
     "tableResultSettingsMap": {},
     "title": ""
    }
   },
   "outputs": [],
   "source": [
    "# %sql\n",
    "# select currentStatus, KeyDate, * from hive_metastore.ariadm_arm_uta.silver_status_detail\n",
    "# where CaseNo = 'CC/00009/2005'\n",
    "# order by statusId desc"
   ]
  }
 ],
 "metadata": {
  "application/vnd.databricks.v1+notebook": {
   "computePreferences": null,
   "dashboards": [],
   "environmentMetadata": null,
   "inputWidgetPreferences": null,
   "language": "python",
   "notebookMetadata": {
    "mostRecentlyExecutedCommandWithImplicitDF": {
     "commandId": 8568130050323213,
     "dataframes": [
      "_sqldf"
     ]
    },
    "pythonIndentUnit": 4
   },
   "notebookName": "BRONZE_ACTIVE_APPEALS",
   "widgets": {}
  },
  "language_info": {
   "name": "python"
  }
 },
 "nbformat": 4,
 "nbformat_minor": 0
}
