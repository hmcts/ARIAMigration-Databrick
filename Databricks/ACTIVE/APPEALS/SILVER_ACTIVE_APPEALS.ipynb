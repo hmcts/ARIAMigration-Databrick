{
 "cells": [
  {
   "cell_type": "markdown",
   "metadata": {
    "application/vnd.databricks.v1+cell": {
     "cellMetadata": {
      "byteLimit": 2048000,
      "rowLimit": 10000
     },
     "inputWidgets": {},
     "nuid": "d5c5d2b2-623d-4be3-ab12-a76818167672",
     "showTitle": false,
     "tableResultSettingsMap": {},
     "title": ""
    }
   },
   "source": [
    "# Active Appeals Base Build (Silver Layer)\n",
    "<table style='float:left;'>\n",
    "   <tbody>\n",
    "      <tr>\n",
    "         <td style='text-align: left;'><b>Name: </b></td>\n",
    "         <td>SILVER_ACTIVE_APPEALS</td>\n",
    "      </tr>\n",
    "      <tr>\n",
    "         <td style='text-align: left;'><b>Description: </b></td>\n",
    "         <td>Notebook responsible for the silver layer, common for all active appeal states.</td>\n",
    "      </tr>\n",
    "      <tr>\n",
    "         <td style='text-align: left;'><b>First Created: </b></td>\n",
    "         <td>May-2025</td>\n",
    "      </tr>\n",
    "      <tr>\n",
    "         <th style='text-align: left;'><b>Changelog (JIRA ref/initials/date):</b></th>\n",
    "         <th>Comments</th>\n",
    "      </tr>\n",
    "      <tr>\n",
    "         <td style='text-align: left;'><a href=\"https://tools.hmcts.net/jira/browse/ARIADM-635\">ARIADM-635</a>/NSA/JUN-2025</td>\n",
    "         <td>Active CCD MVP Base Build: Create Segmentation (Part One) Table - Perform All Joins for CCD-IAC Base Dataset</td>\n",
    "      </tr>\n",
    "      <tr>\n",
    "         <td style='text-align: left;'><a href=\"https://tools.hmcts.net/jira/browse/ARIADM-637\">ARIADM-637</a>/NSA/JUN-2025</td>\n",
    "         <td>Active CCD MVP Base Build: Enhance CCD-IAC Segmentation (Part Two) Table - Apply Filters and Case Logic</td>\n",
    "      </tr>\n",
    "      <tr>\n",
    "         <td style='text-align: left;'><a href=\"https://tools.hmcts.net/jira/browse/ARIADM-636\">ARIADM-636</a>/NSA/JUN-2025</td>\n",
    "         <td>Active CCD MVP Base Build: Silver Tables with Reference Data Enrichment</td>\n",
    "      </tr>\n",
    "      <tr>\n",
    "         <td style='text-align: left;'><a href=\"https://tools.hmcts.net/jira/browse/ARIADM-738\">ARIADM-738</a>/NSA/JUL-2025</td>\n",
    "         <td>Update PySpark of CCD segmentation query</td>\n",
    "      </tr>\n",
    "      <tr>\n",
    "         <td style='text-align: left;'><a href=\"https://tools.hmcts.net/jira/browse/ARIADM-847\">ARIADM-847</a>/NSA/JUL-2025</td>\n",
    "         <td>ARIADM-733 Data mismatch in table silver_appealcase_detail : Column : lu_caseManagementLocation </td>\n",
    "      </tr>\n",
    "      <tr>\n",
    "         <td style='text-align: left;'><a href=\"https://tools.hmcts.net/jira/browse/ARIADM-849\">ARIADM-849</a>/NSA/JUL-2025</td>\n",
    "         <td>ARIADM-733 Data mismatch in table silver_status_detail : Column : Notes</td>\n",
    "      </tr>\n",
    "      <tr>\n",
    "         <td style='text-align: left;'><a href=\"https://tools.hmcts.net/jira/browse/ARIADM-xxx\">ARIADM-xxx</a>/NSA/AUG-2025</td>\n",
    "         <td>Deduplicate M1: Aggregate CategoryIds and CaseFeeSummary per CaseNo</td>\n",
    "      </tr>\n",
    "      <tr>\n",
    "         <td style='text-align: left;'><a href=\"https://tools.hmcts.net/jira/browse/ARIADM-657\">ARIADM-657</a>/NSA/AUG-2025</td>\n",
    "         <td>segmentation logic filter fix with PR #258</td>\n",
    "      </tr>\n",
    "   </tbody>\n",
    "</table>"
   ]
  },
  {
   "cell_type": "markdown",
   "metadata": {
    "application/vnd.databricks.v1+cell": {
     "cellMetadata": {
      "byteLimit": 2048000,
      "rowLimit": 10000
     },
     "inputWidgets": {},
     "nuid": "a6b49dac-308d-447a-8532-b56207d5350c",
     "showTitle": false,
     "tableResultSettingsMap": {},
     "title": ""
    }
   },
   "source": [
    "### Import packages"
   ]
  },
  {
   "cell_type": "code",
   "execution_count": 0,
   "metadata": {
    "application/vnd.databricks.v1+cell": {
     "cellMetadata": {
      "byteLimit": 2048000,
      "rowLimit": 10000
     },
     "inputWidgets": {},
     "nuid": "47cb7071-a7f5-4143-aff8-d956deb54805",
     "showTitle": false,
     "tableResultSettingsMap": {},
     "title": ""
    }
   },
   "outputs": [],
   "source": [
    "import dlt\n",
    "import json\n",
    "# from pyspark.sql.functions import when, col,coalesce, current_timestamp, lit, date_format\n",
    "from pyspark.sql.functions import *"
   ]
  },
  {
   "cell_type": "code",
   "execution_count": 0,
   "metadata": {
    "application/vnd.databricks.v1+cell": {
     "cellMetadata": {
      "byteLimit": 2048000,
      "rowLimit": 10000
     },
     "inputWidgets": {},
     "nuid": "1ace5af5-8756-453e-b843-032a5c8baaba",
     "showTitle": false,
     "tableResultSettingsMap": {},
     "title": ""
    }
   },
   "outputs": [],
   "source": [
    "config = spark.read.option(\"multiline\", \"true\").json(\"dbfs:/configs/config.json\")\n",
    "env_name = config.first()[\"env\"].strip().lower()\n",
    "lz_key = config.first()[\"lz_key\"].strip().lower()\n",
    "\n",
    "print(f\"env_code: {lz_key}\")  # This won't be redacted\n",
    "print(f\"env_name: {env_name}\")  # This won't be redacted\n",
    "\n",
    "KeyVault_name = f\"ingest{lz_key}-meta002-{env_name}\"\n",
    "print(f\"KeyVault_name: {KeyVault_name}\") "
   ]
  },
  {
   "cell_type": "code",
   "execution_count": 0,
   "metadata": {
    "application/vnd.databricks.v1+cell": {
     "cellMetadata": {
      "byteLimit": 2048000,
      "rowLimit": 10000
     },
     "inputWidgets": {},
     "nuid": "7fce9d72-a29e-4db7-910a-d6b0d235c297",
     "showTitle": false,
     "tableResultSettingsMap": {},
     "title": ""
    }
   },
   "outputs": [],
   "source": [
    "# Service principal credentials\n",
    "client_id = dbutils.secrets.get(KeyVault_name, \"SERVICE-PRINCIPLE-CLIENT-ID\")\n",
    "client_secret = dbutils.secrets.get(KeyVault_name, \"SERVICE-PRINCIPLE-CLIENT-SECRET\")\n",
    "tenant_id = dbutils.secrets.get(KeyVault_name, \"SERVICE-PRINCIPLE-TENANT-ID\")\n",
    "\n",
    "# Storage account names\n",
    "curated_storage = f\"ingest{lz_key}curated{env_name}\"\n",
    "checkpoint_storage = f\"ingest{lz_key}xcutting{env_name}\"\n",
    "raw_storage = f\"ingest{lz_key}raw{env_name}\"\n",
    "landing_storage = f\"ingest{lz_key}landing{env_name}\"\n",
    "\n",
    "# Spark config for curated storage (Delta table)\n",
    "spark.conf.set(f\"fs.azure.account.auth.type.{curated_storage}.dfs.core.windows.net\", \"OAuth\")\n",
    "spark.conf.set(f\"fs.azure.account.oauth.provider.type.{curated_storage}.dfs.core.windows.net\", \"org.apache.hadoop.fs.azurebfs.oauth2.ClientCredsTokenProvider\")\n",
    "spark.conf.set(f\"fs.azure.account.oauth2.client.id.{curated_storage}.dfs.core.windows.net\", client_id)\n",
    "spark.conf.set(f\"fs.azure.account.oauth2.client.secret.{curated_storage}.dfs.core.windows.net\", client_secret)\n",
    "spark.conf.set(f\"fs.azure.account.oauth2.client.endpoint.{curated_storage}.dfs.core.windows.net\", f\"https://login.microsoftonline.com/{tenant_id}/oauth2/token\")\n",
    "\n",
    "# Spark config for checkpoint storage\n",
    "spark.conf.set(f\"fs.azure.account.auth.type.{checkpoint_storage}.dfs.core.windows.net\", \"OAuth\")\n",
    "spark.conf.set(f\"fs.azure.account.oauth.provider.type.{checkpoint_storage}.dfs.core.windows.net\", \"org.apache.hadoop.fs.azurebfs.oauth2.ClientCredsTokenProvider\")\n",
    "spark.conf.set(f\"fs.azure.account.oauth2.client.id.{checkpoint_storage}.dfs.core.windows.net\", client_id)\n",
    "spark.conf.set(f\"fs.azure.account.oauth2.client.secret.{checkpoint_storage}.dfs.core.windows.net\", client_secret)\n",
    "spark.conf.set(f\"fs.azure.account.oauth2.client.endpoint.{checkpoint_storage}.dfs.core.windows.net\", f\"https://login.microsoftonline.com/{tenant_id}/oauth2/token\")\n",
    "\n",
    "# Spark config for checkpoint storage\n",
    "spark.conf.set(f\"fs.azure.account.auth.type.{raw_storage}.dfs.core.windows.net\", \"OAuth\")\n",
    "spark.conf.set(f\"fs.azure.account.oauth.provider.type.{raw_storage}.dfs.core.windows.net\", \"org.apache.hadoop.fs.azurebfs.oauth2.ClientCredsTokenProvider\")\n",
    "spark.conf.set(f\"fs.azure.account.oauth2.client.id.{raw_storage}.dfs.core.windows.net\", client_id)\n",
    "spark.conf.set(f\"fs.azure.account.oauth2.client.secret.{raw_storage}.dfs.core.windows.net\", client_secret)\n",
    "spark.conf.set(f\"fs.azure.account.oauth2.client.endpoint.{raw_storage}.dfs.core.windows.net\", f\"https://login.microsoftonline.com/{tenant_id}/oauth2/token\")\n",
    "\n",
    "# Spark config for checkpoint storage\n",
    "spark.conf.set(f\"fs.azure.account.auth.type.{landing_storage}.dfs.core.windows.net\", \"OAuth\")\n",
    "spark.conf.set(f\"fs.azure.account.oauth.provider.type.{landing_storage}.dfs.core.windows.net\", \"org.apache.hadoop.fs.azurebfs.oauth2.ClientCredsTokenProvider\")\n",
    "spark.conf.set(f\"fs.azure.account.oauth2.client.id.{landing_storage}.dfs.core.windows.net\", client_id)\n",
    "spark.conf.set(f\"fs.azure.account.oauth2.client.secret.{landing_storage}.dfs.core.windows.net\", client_secret)\n",
    "spark.conf.set(f\"fs.azure.account.oauth2.client.endpoint.{landing_storage}.dfs.core.windows.net\", f\"https://login.microsoftonline.com/{tenant_id}/oauth2/token\")"
   ]
  },
  {
   "cell_type": "markdown",
   "metadata": {
    "application/vnd.databricks.v1+cell": {
     "cellMetadata": {
      "byteLimit": 2048000,
      "rowLimit": 10000
     },
     "inputWidgets": {},
     "nuid": "d1b86460-a200-4c6b-9bf1-382b6bc1e8db",
     "showTitle": false,
     "tableResultSettingsMap": {},
     "title": ""
    }
   },
   "source": [
    "## Set Variables"
   ]
  },
  {
   "cell_type": "code",
   "execution_count": 0,
   "metadata": {
    "application/vnd.databricks.v1+cell": {
     "cellMetadata": {
      "byteLimit": 2048000,
      "rowLimit": 10000
     },
     "inputWidgets": {},
     "nuid": "e6d53e3e-0282-4481-959b-3f6fbadab65f",
     "showTitle": false,
     "tableResultSettingsMap": {},
     "title": ""
    }
   },
   "outputs": [],
   "source": [
    "# read_hive = False\n",
    "\n",
    "# Setting variables for use in subsequent cells\n",
    "raw_path = f\"abfss://raw@ingest{lz_key}raw{env_name}.dfs.core.windows.net/ARIADM/ACTIVE/CCD/APPEALS\"\n",
    "landing_path = f\"abfss://landing@ingest{lz_key}landing{env_name}.dfs.core.windows.net/SQLServer/Sales/IRIS/dbo/\"\n",
    "bronze_path = f\"abfss://bronze@ingest{lz_key}curated{env_name}.dfs.core.windows.net/ARIADM/ACTIVE/CCD/APPEALS\"\n",
    "silver_path = f\"abfss://silver@ingest{lz_key}curated{env_name}.dfs.core.windows.net/ARIADM/ACTIVE/CCD/APPEALS\"\n",
    "gold_path = f\"abfss://gold@ingest{lz_key}curated{env_name}.dfs.core.windows.net/ARIADM/ACTIVE/CCD/APPEALS\"\n",
    "gold_outputs = \"ARIADM/CCD/APPEALS\"\n",
    "hive_schema = \"ariadm_ccd_apl\"\n",
    "# key_vault = \"ingest00-keyvault-sbox\"\n",
    "\n",
    "html_path = f\"abfss://html-template@ingest{lz_key}landing{env_name}.dfs.core.windows.net/\"\n",
    "\n",
    "# Print all variables\n",
    "variables = {\n",
    "    # \"read_hive\": read_hive,\n",
    "    \"raw_path\": raw_path,\n",
    "    \"landing_path\": landing_path,\n",
    "    \"bronze_path\": bronze_path,\n",
    "    \"silver_path\": silver_path,\n",
    "    \"gold_path\": gold_path,\n",
    "    \"html_path\": html_path,\n",
    "    \"gold_outputs\": gold_outputs,\n",
    "    \"hive_schema\": hive_schema,\n",
    "    \"key_vault\": KeyVault_name\n",
    "}\n",
    "\n",
    "display(variables)"
   ]
  },
  {
   "cell_type": "markdown",
   "metadata": {
    "application/vnd.databricks.v1+cell": {
     "cellMetadata": {
      "byteLimit": 2048000,
      "rowLimit": 10000
     },
     "inputWidgets": {},
     "nuid": "38bc033b-0d3b-4d53-a28d-19099eaaca10",
     "showTitle": false,
     "tableResultSettingsMap": {},
     "title": ""
    }
   },
   "source": [
    "## Segmentation DLT Tables Creation - stg_segmentation_states \n"
   ]
  },
  {
   "cell_type": "code",
   "execution_count": 0,
   "metadata": {
    "application/vnd.databricks.v1+cell": {
     "cellMetadata": {
      "byteLimit": 2048000,
      "rowLimit": 10000
     },
     "inputWidgets": {},
     "nuid": "deaaac4d-e572-4528-be78-b2dfddb476f9",
     "showTitle": true,
     "tableResultSettingsMap": {},
     "title": "Transformation: stg_balance_due"
    }
   },
   "outputs": [],
   "source": [
    "@dlt.table(\n",
    "    name=\"stg_balance_due\",\n",
    "    comment=\"DLT table for balance due per CaseNo based on specific transaction rules.\",\n",
    "    path=f\"{silver_path}/stg_balance_due\"\n",
    ")\n",
    "def stg_balance_due():\n",
    "    # Read transaction and transaction type data\n",
    "    try:\n",
    "        tx = dlt.read(\"raw_transaction\")\n",
    "        tx_type = dlt.read(\"raw_transactiontype\")\n",
    "    except:\n",
    "        # Fallback for interactive runs (debug mode)\n",
    "        tx = spark.table(\"ariadm_arm_appeals.raw_transaction\")\n",
    "        tx_type = spark.table(\"ariadm_arm_appeals.raw_transactiontype\")\n",
    "\n",
    "    # Filter for balance-related transactions\n",
    "    filtered_tx = (\n",
    "        tx.join(tx_type, tx.TransactionTypeId == tx_type.TransactionTypeID, \"left\")\n",
    "          .filter((tx_type.SumBalance == 1) & (~tx.TransactionId.isin(\n",
    "              tx.filter(tx.TransactionTypeId.isin([6, 19]))\n",
    "                .select(\"ReferringTransactionId\")\n",
    "                .rdd.flatMap(lambda x: x).collect()\n",
    "          )))\n",
    "    )\n",
    "\n",
    "    # Aggregate by CaseNo\n",
    "    return (\n",
    "        filtered_tx\n",
    "            .groupBy(\"CaseNo\")\n",
    "            .agg(sum(\"Amount\").alias(\"BalanceDue\"))\n",
    "    )"
   ]
  },
  {
   "cell_type": "code",
   "execution_count": 0,
   "metadata": {
    "application/vnd.databricks.v1+cell": {
     "cellMetadata": {
      "byteLimit": 2048000,
      "rowLimit": 10000
     },
     "inputWidgets": {},
     "nuid": "7d451d2f-67c7-4c0d-8e80-9207ec5a8b64",
     "showTitle": true,
     "tableResultSettingsMap": {},
     "title": "Transformation: stg_representation"
    }
   },
   "outputs": [],
   "source": [
    "@dlt.table(\n",
    "    name=\"stg_representation\",\n",
    "    comment=\"DLT table to determine if each case is AIP or LR based on CaseRep information.\",\n",
    "    path=f\"{silver_path}/stg_representation\"\n",
    ")\n",
    "def stg_representation():\n",
    "    try:\n",
    "        # Read the AppealCase and CaseRep DLT tables\n",
    "        appeal_case = dlt.read(\"raw_appealcase\").filter(col(\"CaseType\") == 1)\n",
    "        case_rep = dlt.read(\"raw_caserep\")\n",
    "    except:\n",
    "        appeal_case = spark.table(\"ariadm_active_appeals.raw_appealcase\").filter(col(\"CaseType\") == 1)\n",
    "        case_rep = spark.table(\"ariadm_active_appeals.raw_caserep\")\n",
    "     \n",
    "    df = appeal_case.join(case_rep, on=\"CaseNo\", how=\"left\")\n",
    "        \n",
    "    # Clean logic for determining Representation\n",
    "    aip_conditions = (\n",
    "        (col(\"RepresentativeID\") == 957) |  # RepresentativeID is 957\n",
    "        (col(\"RepresentativeID\").isNull()) |  # RepresentativeID is NULL\n",
    "        col(\"Name\").like(\"%no rep%\") |  # Name contains 'no rep'\n",
    "        col(\"Name\").like(\"%no  rep%\") |  # Name contains 'no  rep'\n",
    "        col(\"Name\").like(\"%No rep%\") |  # Name contains 'No rep'\n",
    "        col(\"Name\").like(\"%No Rep%\") |  # Name contains 'No Rep'\n",
    "        col(\"Name\").like(\"%NO REP%\") |  # Name contains 'NO REP'\n",
    "        col(\"Name\").like(\"none\") |  # Name contains 'none'\n",
    "        col(\"Name\").like(\"%unrepresented%\") |  # Name contains 'unrepresented'\n",
    "        col(\"Name\").like(\"%self%\") |  # Name contains 'self'\n",
    "        col(\"Name\").like(\"%not rep%\") |  # Name contains 'not rep'\n",
    "        col(\"Name\").like(\"%not  rep%\") |  # Name contains 'not  rep'\n",
    "        (col(\"Name\") == \"-\") |  # Name is '-'\n",
    "        col(\"Name\").like(\"%(spo%\") |  # Name contains '(spo'\n",
    "        col(\"Name\").like(\"%spons%\")  # Name contains 'spons'\n",
    "    )\n",
    "\n",
    "    return df.select(\n",
    "        col(\"CaseNo\"),\n",
    "        when(aip_conditions, \"AIP\").otherwise(\"LR\").alias(\"Representation\")\n",
    "    )"
   ]
  },
  {
   "cell_type": "code",
   "execution_count": 0,
   "metadata": {
    "application/vnd.databricks.v1+cell": {
     "cellMetadata": {
      "byteLimit": 2048000,
      "rowLimit": 10000
     },
     "inputWidgets": {},
     "nuid": "b58a603a-f64a-4f8f-8fc0-360952ec706d",
     "showTitle": true,
     "tableResultSettingsMap": {},
     "title": "Transformation: stg_segmentation_states"
    }
   },
   "outputs": [],
   "source": [
    "from pyspark.sql.functions import when, max as spark_max, add_months\n",
    "from pyspark.sql import functions as F\n",
    "\n",
    "# from pyspark.sql.functions import col, current_date, add_months, add_years\n",
    "\n",
    "@dlt.table(\n",
    "    name=\"stg_segmentation_states\",\n",
    "    comment=\"Bronze DLT table replicating the AppealCase join logic.\",\n",
    "    path=f\"{silver_path}/stg_segmentation_states\"\n",
    ")\n",
    "def stg_segmentation_states():\n",
    "    # Base tables\n",
    "    try:\n",
    "        # Base tables\n",
    "        appealcase = dlt.read(\"raw_appealcase\")\n",
    "        status = dlt.read(\"raw_status\")\n",
    "        caselist = dlt.read(\"raw_caselist\")\n",
    "        documentsreceived = dlt.read(\"raw_documentsreceived\")\n",
    "        filelocation = dlt.read(\"raw_filelocation\")\n",
    "        balancedue = dlt.read(\"stg_balance_due\")\n",
    "        representation = dlt.read(\"stg_representation\")\n",
    "    except:\n",
    "        appealcase = spark.table(\"ariadm_active_appeals.raw_appealcase\")\n",
    "        status = spark.table(\"ariadm_active_appeals.raw_status\")\n",
    "        caselist = spark.table(\"ariadm_active_appeals.raw_caselist\")\n",
    "        documentsreceived = spark.table(\"ariadm_active_appeals.raw_documentsreceived\")\n",
    "        filelocation = spark.table(\"ariadm_active_appeals.raw_filelocation\")\n",
    "        balancedue = spark.table(\"ariadm_active_appeals.stg_balance_due\")\n",
    "        representation = spark.table(\"ariadm_active_appeals.stg_representation\")\n",
    "                  \n",
    "    s_subquery01 = (\n",
    "        status.filter(((~col(\"outcome\").isin([38, 111]))) &\n",
    "                  ((~col(\"casestatus\").isin(['17']))))\n",
    "          .groupBy(\"CaseNo\")\n",
    "          .agg(spark_max(\"StatusId\").alias(\"max_ID\"))\n",
    "    )\n",
    "                  \n",
    "    # Previous status logic\n",
    "    prev_subquery02 = (\n",
    "        status.filter((col(\"casestatus\").isNull()) | (~col(\"casestatus\").isin(['50', '52', '36'])))\n",
    "          .groupBy(\"CaseNo\")\n",
    "          .agg(spark_max(\"StatusId\").alias(\"Prev_ID\"))\n",
    "    )\n",
    "\n",
    "    # UT status\n",
    "    ut_subquery03 = (\n",
    "        status.filter(col(\"CaseStatus\").isin(['40', '41', '42', '43', '44', '45', '53', '27', '28', '29', '34', '32', '33']))\n",
    "          .groupBy(\"CaseNo\")\n",
    "          .agg(spark_max(\"StatusId\").alias(\"UT_ID\"))\n",
    "    )\n",
    "\n",
    "    # Latest document received\n",
    "    docreceived_subquery04 = (\n",
    "        documentsreceived.groupBy(\"CaseNo\")\n",
    "          .agg(spark_max(\"ReceivedDocumentId\").alias(\"max_ReceivedDocumentId\"))\n",
    "    )\n",
    "\n",
    "    # SA previous status\n",
    "    sa_prev_subquery05 = (\n",
    "        status.filter((col(\"casestatus\").isNull()) | (col(\"casestatus\") != '46'))\n",
    "          .groupBy(\"CaseNo\")\n",
    "          .agg(spark_max(\"StatusId\").alias(\"Prev_ID\"))\n",
    "    )\n",
    "\n",
    "    # Final join\n",
    "    result = (\n",
    "        appealcase.alias(\"ac\")\n",
    "        .join(s_subquery01.alias(\"s\"), col(\"ac.CaseNo\") == col(\"s.CaseNo\"), \"left\")\n",
    "        .join(status.alias(\"t\"), (col(\"t.CaseNo\") == col(\"s.CaseNo\")) & (col(\"t.StatusId\") == col(\"s.max_ID\")), \"left\")\n",
    "        .join(caselist.alias(\"cl\"), col(\"t.StatusId\") == col(\"cl.StatusId\"), \"left\")\n",
    "        .join(prev_subquery02.alias(\"prev\"), col(\"ac.CaseNo\") == col(\"prev.CaseNo\"), \"left\")\n",
    "        .join(status.alias(\"st\"), (col(\"st.CaseNo\") == col(\"prev.CaseNo\")) & (col(\"st.StatusId\") == col(\"prev.Prev_ID\")), \"left\")\n",
    "        .join(ut_subquery03.alias(\"ut\"), col(\"ac.CaseNo\") == col(\"ut.CaseNo\"), \"left\")\n",
    "        .join(status.alias(\"us\"), (col(\"us.CaseNo\") == col(\"ut.CaseNo\")) & (col(\"us.StatusId\") == col(\"ut.UT_ID\")), \"left\")\n",
    "        .join(docreceived_subquery04.alias(\"doc_received\"), col(\"ac.CaseNo\") == col(\"doc_received.CaseNo\"), \"left\")\n",
    "        .join(documentsreceived.alias(\"dr\"), (col(\"dr.CaseNo\") == col(\"doc_received.CaseNo\")) & (col(\"dr.ReceivedDocumentId\") == col(\"doc_received.max_ReceivedDocumentId\")), \"left\")\n",
    "        .join(sa_prev_subquery05.alias(\"sa_prev\"), col(\"ac.CaseNo\") == col(\"sa_prev.CaseNo\"), \"left\")\n",
    "        .join(status.alias(\"sa\"), (col(\"sa.CaseNo\") == col(\"sa_prev.CaseNo\")) & (col(\"sa.StatusId\") == col(\"sa_prev.Prev_ID\")), \"left\")\n",
    "        .join(filelocation.alias(\"fl\"), col(\"ac.CaseNo\") == col(\"fl.CaseNo\"), \"left\")\n",
    "        .join(balancedue.alias(\"bd\"), col(\"ac.CaseNo\") == col(\"bd.CaseNo\"), \"left\")\n",
    "        .join(representation.alias(\"r\"), col(\"ac.CaseNo\") == col(\"r.CaseNo\"), \"left\")\n",
    "        .filter((col(\"ac.CaseType\") == 1) & (~col(\"fl.DeptId\").isin(519, 520)))\n",
    "        .select(\n",
    "            \"ac.CaseNo\", \n",
    "            # \"ac.CasePrefix\",\n",
    "            when(\n",
    "                (col(\"ac.CasePrefix\").isin(\"EA\", \"HU\")) &\n",
    "                (\n",
    "                    (col(\"t.CaseStatus\").isNull()) |\n",
    "                    ((col(\"t.CaseStatus\") == '10') & col(\"t.Outcome\").isin(0, 109, 99, 104, 82, 121)) |\n",
    "                    ((col(\"t.CaseStatus\") == '46') & (col(\"t.Outcome\") == 1) & (col(\"sa.CaseStatus\") == '10'))\n",
    "                ) &\n",
    "                (\n",
    "                    (col(\"dr.ReceivedDocumentId\") <= 2) |\n",
    "                    (col(\"dr.ReceivedDocumentId\").isNull())\n",
    "                ) &\n",
    "                (col(\"bd.BalanceDue\") > 0), \"paymentPending\"\n",
    "            ).when(\n",
    "                (col(\"ac.CasePrefix\").isin(\"EA\", \"HU\")) &\n",
    "                (col(\"t.CaseStatus\").isin(\"50\", \"52\", \"36\")) & (col(\"t.Outcome\") == 0) &\n",
    "                (\n",
    "                    ((col(\"st.CaseStatus\") == '10') & (col(\"st.Outcome\") == 0)) |\n",
    "                    (col(\"st.CaseStatus\").isNull())\n",
    "                ) &\n",
    "                (\n",
    "                    (col(\"dr.ReceivedDocumentId\") <= 2) |\n",
    "                    (col(\"dr.ReceivedDocumentId\").isNull())\n",
    "                ) &\n",
    "                (col(\"bd.BalanceDue\") > 0), \"paymentPending\"\n",
    "            ).when(\n",
    "                (\n",
    "                    (col(\"ac.CasePrefix\").isin(\"EA\", \"HU\") & ((col(\"bd.BalanceDue\") <= 0) | col(\"bd.BalanceDue\").isNull())) |\n",
    "                    col(\"ac.CasePrefix\").isin(\"PA\", \"DC\", \"RP\", \"DA\", \"IA\", \"LE\", \"LP\", \"LR\", \"LD\", \"LH\")\n",
    "                ) &\n",
    "                (\n",
    "                    (col(\"t.CaseStatus\").isNull()) |\n",
    "                    ((col(\"t.CaseStatus\") == '10') & col(\"t.Outcome\").isin(0, 109, 99, 104, 82, 121)) |\n",
    "                    ((col(\"t.CaseStatus\") == '46') & (col(\"t.Outcome\") == 1) & (col(\"sa.CaseStatus\") == '10'))\n",
    "                ) &\n",
    "                (\n",
    "                    (col(\"dr.ReceivedDocumentId\") <= 2) |\n",
    "                    (col(\"dr.ReceivedDocumentId\").isNull())\n",
    "                ), \"appealSubmitted\"\n",
    "            ).when(\n",
    "                (\n",
    "                    (col(\"ac.CasePrefix\").isin(\"EA\", \"HU\") & ((col(\"bd.BalanceDue\") <= 0) | col(\"bd.BalanceDue\").isNull())) |\n",
    "                    col(\"ac.CasePrefix\").isin(\"PA\", \"DC\", \"RP\", \"DA\", \"IA\", \"LE\", \"LP\", \"LR\", \"LD\", \"LH\")\n",
    "                ) &\n",
    "                (col(\"t.CaseStatus\").isin(\"50\", \"52\", \"36\")) & (col(\"t.Outcome\") == 0) &\n",
    "                (\n",
    "                    ((col(\"st.CaseStatus\") == '10') & (col(\"st.Outcome\") == 0)) |\n",
    "                    (col(\"st.CaseStatus\").isNull())\n",
    "                ) &\n",
    "                (\n",
    "                    (col(\"dr.ReceivedDocumentId\") <= 2) |\n",
    "                    (col(\"dr.ReceivedDocumentId\").isNull())\n",
    "                ), \"appealSubmitted\"\n",
    "            ).when(\n",
    "                (\n",
    "                    (col(\"t.CaseStatus\").isNull()) |\n",
    "                    ((col(\"t.CaseStatus\") == '10') & col(\"t.Outcome\").isin(0, 109, 99, 121, 82, 104)) |\n",
    "                    ((col(\"t.CaseStatus\") == '46') & (col(\"t.Outcome\") == 1) & (col(\"sa.CaseStatus\") == '10'))\n",
    "                ) &\n",
    "                (col(\"dr.ReceivedDocumentId\") == 3) &\n",
    "                (col(\"dr.DateReceived\").isNull()), \"awaitingRespondentEvidence(a)\"\n",
    "            ).when(\n",
    "                (col(\"t.CaseStatus\").isin(\"50\", \"52\", \"36\")) & (col(\"t.Outcome\") == 0) &\n",
    "                (\n",
    "                    ((col(\"st.CaseStatus\") == '10') & (col(\"st.Outcome\") == 0)) |\n",
    "                    (col(\"st.CaseStatus\").isNull())\n",
    "                ) &\n",
    "                (col(\"dr.ReceivedDocumentId\") == 3) &\n",
    "                (col(\"dr.DateReceived\").isNull()), \"awaitingRespondentEvidence(a)\"\n",
    "            ).when(\n",
    "                (\n",
    "                    (col(\"t.CaseStatus\").isNull()) |\n",
    "                    ((col(\"t.CaseStatus\") == '10') & (col(\"t.Outcome\") == 0)) |\n",
    "                    ((col(\"t.CaseStatus\") == '46') & (col(\"t.Outcome\") == 1) & (col(\"sa.CaseStatus\") == '10'))\n",
    "                ) &\n",
    "                (col(\"dr.ReceivedDocumentId\") == 3) &\n",
    "                (col(\"dr.DateReceived\").isNotNull()), \"awaitingRespondentEvidence(b)\"\n",
    "            ).when(\n",
    "                (col(\"t.CaseStatus\").isin(\"50\", \"52\", \"36\")) & (col(\"t.Outcome\") == 0) &\n",
    "                (\n",
    "                    ((col(\"st.CaseStatus\") == '10') & (col(\"st.Outcome\") == 0)) |\n",
    "                    (col(\"st.CaseStatus\").isNull())\n",
    "                ) &\n",
    "                (col(\"dr.ReceivedDocumentId\") == 3) &\n",
    "                (col(\"dr.DateReceived\").isNotNull()), \"awaitingRespondentEvidence(b)\"\n",
    "            ).when(\n",
    "                (\n",
    "                    ((col(\"t.CaseStatus\") == '10') & col(\"t.Outcome\").isin(121, 109, 99, 82, 104) &\n",
    "                    (col(\"dr.ReceivedDocumentId\") == 3) & col(\"dr.DateReceived\").isNotNull()) |\n",
    "                    ((col(\"t.CaseStatus\") == '26') & col(\"t.Outcome\").isin(0, 27, 39, 50, 89))\n",
    "                ) &\n",
    "                (col(\"r.Representation\") == \"LR\"), \"caseUnderReview\"\n",
    "            ).when(\n",
    "                (col(\"t.CaseStatus\").isin(\"50\", \"52\", \"36\")) & (col(\"t.Outcome\") == 0) &\n",
    "                (\n",
    "                    ((col(\"st.CaseStatus\") == '26') & col(\"st.Outcome\").isin(0, 27, 39, 50, 89))\n",
    "                ) &\n",
    "                (col(\"r.Representation\") == \"LR\"), \"caseUnderReview\"\n",
    "            ).when(\n",
    "                (\n",
    "                    ((col(\"t.CaseStatus\") == '10') & col(\"t.Outcome\").isin(121, 109, 99, 82, 104) &\n",
    "                    (col(\"dr.ReceivedDocumentId\") == 3) & col(\"dr.DateReceived\").isNotNull()) |\n",
    "                    ((col(\"t.CaseStatus\") == '26') & col(\"t.Outcome\").isin(0, 27, 39, 50, 89))\n",
    "                ) &\n",
    "                (col(\"r.Representation\") == \"AIP\"), \"reasonsForAppealSubmitted\"\n",
    "            ).when(\n",
    "                (col(\"t.CaseStatus\").isin(\"50\", \"52\", \"36\")) & (col(\"t.Outcome\") == 0) &\n",
    "                (\n",
    "                    ((col(\"st.CaseStatus\") == '26') & col(\"st.Outcome\").isin(0, 27, 39, 50, 89))\n",
    "                ) &\n",
    "                (col(\"r.Representation\") == \"AIP\"), \"reasonsForAppealSubmitted\"\n",
    "            ).when(\n",
    "                (\n",
    "                    ((col(\"t.CaseStatus\") == '26') & col(\"t.Outcome\").isin(40, 52)) |\n",
    "                    ((col(\"t.CaseStatus\").isin(\"37\", \"38\")) & col(\"t.Outcome\").isin(39, 40, 37, 50, 27, 5)) |\n",
    "                    ((col(\"t.CaseStatus\").isin(\"37\", \"38\")) & (col(\"t.Outcome\") == 0) & col(\"t.KeyDate\").isNull())\n",
    "                ), \"listing\"\n",
    "            ).when(\n",
    "                (col(\"t.CaseStatus\").isin(\"50\", \"52\", \"36\")) & (col(\"t.Outcome\") == 0) &\n",
    "                (\n",
    "                    ((col(\"st.CaseStatus\") == '26') & col(\"st.Outcome\").isin(40, 52))\n",
    "                ), \"listing\"\n",
    "            ).when(\n",
    "                (col(\"t.CaseStatus\").isin(\"37\", \"38\")) & (col(\"t.Outcome\") == 0) &\n",
    "                (col(\"t.KeyDate\") > current_date()) &\n",
    "                (col(\"t.DecisionReserved\") != 1) &\n",
    "                (col(\"cl.ListId\").isNotNull()), \"prepareForHearing\"\n",
    "            ).when(\n",
    "                (col(\"t.CaseStatus\").isin(\"37\", \"38\")) & (col(\"t.Outcome\") == 0) &\n",
    "                (col(\"t.KeyDate\").isNotNull()) &\n",
    "                (col(\"t.DecisionReserved\") == 1), \"decision\"\n",
    "            ).when(\n",
    "                (\n",
    "                    ((col(\"t.CaseStatus\").isin(\"46\", \"39\")) & (col(\"t.Outcome\") == 86)) |\n",
    "                    ((col(\"t.CaseStatus\") == '46') & (col(\"t.Outcome\") == 1) & (col(\"sa.CaseStatus\") != 10))\n",
    "                ), \"decided(b)\"\n",
    "            ).when(\n",
    "                (col(\"t.CaseStatus\") == '39') & (col(\"t.Outcome\") == 0) & (col(\"t.AdjudicatorId\") == 0), \"fptaSubmitted(a)\"\n",
    "            ).when(\n",
    "                (col(\"t.CaseStatus\") == '39') & (col(\"t.Outcome\") == 0) & (col(\"t.AdjudicatorId\") != 0), \"ftpaSubmitted(b)\"\n",
    "            ).when(\n",
    "                (\n",
    "                    ((col(\"t.CaseStatus\") == '46') & (col(\"t.Outcome\") == 31) & col(\"sa.CaseStatus\").isin(\"37\", \"38\")) |\n",
    "                    ((col(\"t.CaseStatus\") == '26') & col(\"t.Outcome\").isin(1, 2)) |\n",
    "                    ((col(\"t.CaseStatus\").isin(\"37\", \"38\")) & col(\"t.Outcome\").isin(1, 2)) |\n",
    "                    ((col(\"t.CaseStatus\") == '52') & col(\"t.Outcome\").isin(91, 95) & col(\"st.CaseStatus\").isin(\"37\", \"38\", \"17\")) |\n",
    "                    ((col(\"t.CaseStatus\") == '36') & col(\"t.Outcome\").isin(1, 2, 25) & col(\"st.CaseStatus\").isin(\"37\", \"38\", \"17\"))\n",
    "                ), \"decided(a)\"\n",
    "            ).when(\n",
    "                (col(\"t.CaseStatus\").isin(\"50\", \"52\", \"36\")) & (col(\"t.Outcome\") == 0) &\n",
    "                (\n",
    "                    ((col(\"st.CaseStatus\").isin(\"37\", \"38\")) & col(\"st.Outcome\").isin(1, 2)) |\n",
    "                    (col(\"st.CaseStatus\") == 17)\n",
    "                ), \"decided(a)\"\n",
    "            ).when(\n",
    "                (\n",
    "                    ((col(\"t.CaseStatus\") == '46') & (col(\"t.Outcome\") == 31) & (col(\"sa.CaseStatus\") == 39)) |\n",
    "                    ((col(\"t.CaseStatus\") == '39') & col(\"t.Outcome\").isin(30, 31, 14)) |\n",
    "                    ((col(\"t.CaseStatus\") == '52') & col(\"t.Outcome\").isin(91, 95) & (col(\"st.CaseStatus\") == 39)) |\n",
    "                    ((col(\"t.CaseStatus\") == '36') & col(\"t.Outcome\").isin(1, 2, 25) & (col(\"st.CaseStatus\") == 39))\n",
    "                ), \"ftpaDecided\"\n",
    "            ).when(\n",
    "                (col(\"t.CaseStatus\").isin(\"50\", \"52\", \"36\")) & (col(\"t.Outcome\") == 0) &\n",
    "                (\n",
    "                    (col(\"st.CaseStatus\") == '39') & col(\"st.Outcome\").isin(31, 30, 14)\n",
    "                ), \"ftpaDecided\"\n",
    "            ).when(\n",
    "                (\n",
    "                    ((col(\"t.CaseStatus\") == '10') & col(\"t.Outcome\").isin(80, 122, 25, 120, 2, 105, 13)) |\n",
    "                    ((col(\"t.CaseStatus\") == '46') & (col(\"t.Outcome\") == 31) & col(\"sa.CaseStatus\").isin(10, 51, 52)) |\n",
    "                    ((col(\"t.CaseStatus\") == '26') & col(\"t.Outcome\").isin(80, 13, 25)) |\n",
    "                    ((col(\"t.CaseStatus\").isin(\"37\", \"38\")) & col(\"t.Outcome\").isin(80, 13, 25, 72, 125)) |\n",
    "                    ((col(\"t.CaseStatus\") == '39') & (col(\"t.Outcome\") == 25)) |\n",
    "                    ((col(\"t.CaseStatus\") == '51') & col(\"t.Outcome\").isin(94, 93)) |\n",
    "                    (((col(\"t.CaseStatus\") == '52') & col(\"t.Outcome\").isin(91, 95) & (~col(\"st.CaseStatus\").isin(\"37\", \"38\", \"39\", \"17\"))) | col(\"st.CaseStatus\").isNull()) |\n",
    "                    ((col(\"t.CaseStatus\") == '36') & col(\"t.Outcome\").isin(1, 2, 25) & (~col(\"st.CaseStatus\").isin(\"37\", \"38\", \"39\", \"17\")))\n",
    "                ), \"ended\"\n",
    "            ).when(\n",
    "                (col(\"t.CaseStatus\").isin(\"50\", \"52\", \"36\")) & (col(\"t.Outcome\") == 0) &\n",
    "                (\n",
    "                    ((col(\"st.CaseStatus\").isin(\"10\", \"26\")) & col(\"st.Outcome\").isin(80, 122, 2, 105, 120, 25)) |\n",
    "                    (col(\"st.CaseStatus\") == '51')\n",
    "                ), \"ended\"\n",
    "            ).when(\n",
    "                (col(\"t.CaseStatus\").isin(\"40\", \"41\", \"42\", \"43\", \"44\", \"53\")) & (col(\"t.Outcome\") == 86), \"remitted\"\n",
    "            ).otherwise(\"Not Sure\").alias(\"TargetState\"),\n",
    "            #################################################\n",
    "            when(\n",
    "                (col(\"t.CaseStatus\").isin('40', '41', '42', '43', '44', '45', '53', '27', '28', '29', '34', '32', '33')) & (col(\"t.Outcome\") == 86),\n",
    "                'CCD'\n",
    "            ).when(\n",
    "                (col(\"t.CaseStatus\").isin('40', '41', '42', '43', '44', '45', '53', '27', '28', '29', '34', '32', '33')) & (col(\"t.Outcome\") == 0),\n",
    "                'UT Active'\n",
    "            ).when(\n",
    "                (col(\"ac.CasePrefix\").isin('VA', 'AA', 'AS', 'CC', 'HR', 'HX', 'IM', 'NS', 'OA', 'OC', 'RD', 'TH', 'XX')) &\n",
    "                (col(\"t.CaseStatus\").isin('40', '41', '42', '43', '44', '45', '53', '27', '28', '29', '34', '32', '33')),\n",
    "                'UT Overdue'\n",
    "            ).when(\n",
    "                col(\"ac.CasePrefix\").isin('VA', 'AA', 'AS', 'CC', 'HR', 'HX', 'IM', 'NS', 'OA', 'OC', 'RD', 'TH', 'XX'),\n",
    "                'FT Overdue'\n",
    "            ).when(\n",
    "                (col(\"us.CaseStatus\").isNotNull()) & (\n",
    "                    (col(\"t.CaseStatus\").isNull()) |\n",
    "                    ((col(\"t.CaseStatus\") == '10') & col(\"t.Outcome\").isin(0, 109, 104, 82, 99, 121, 27, 39)) |\n",
    "                    ((col(\"t.CaseStatus\") == '46') & col(\"t.Outcome\").isin(1, 86)) |\n",
    "                    ((col(\"t.CaseStatus\") == '26') & col(\"t.Outcome\").isin(0, 27, 39, 50, 40, 52, 89)) |\n",
    "                    ((col(\"t.CaseStatus\").isin('37', '38')) & col(\"t.Outcome\").isin(39, 40, 37, 50, 27, 0, 5, 52)) |\n",
    "                    ((col(\"t.CaseStatus\") == '39') & col(\"t.Outcome\").isin(0, 86)) |\n",
    "                    ((col(\"t.CaseStatus\") == '50') & (col(\"t.Outcome\") == 0)) |\n",
    "                    ((col(\"t.CaseStatus\").isin('52', '36')) & (col(\"t.Outcome\") == 0) & col(\"st.DecisionDate\").isNull())\n",
    "                ),\n",
    "                'CCD'\n",
    "            ).when(\n",
    "                (\n",
    "                    col(\"ac.CasePrefix\").isin('DA', 'DC', 'EA', 'HU', 'PA', 'RP') |\n",
    "                    (col(\"ac.CasePrefix\").isin('LP', 'LR', 'LD', 'LH', 'LE', 'IA') & col(\"ac.HOANRef\").isNull())\n",
    "                ) & (\n",
    "                    (col(\"t.CaseStatus\").isNull()) |\n",
    "                    ((col(\"t.CaseStatus\") == '10') & col(\"t.Outcome\").isin(0, 109, 104, 82, 99, 121, 27, 39)) |\n",
    "                    ((col(\"t.CaseStatus\") == '46') & col(\"t.Outcome\").isin(1, 86)) |\n",
    "                    ((col(\"t.CaseStatus\") == '26') & col(\"t.Outcome\").isin(0, 27, 39, 50, 40, 52, 89)) |\n",
    "                    ((col(\"t.CaseStatus\").isin('37', '38')) & col(\"t.Outcome\").isin(39, 40, 37, 50, 27, 0, 5, 52)) |\n",
    "                    ((col(\"t.CaseStatus\") == '39') & col(\"t.Outcome\").isin(0, 86)) |\n",
    "                    ((col(\"t.CaseStatus\") == '50') & (col(\"t.Outcome\") == 0)) |\n",
    "                    ((col(\"t.CaseStatus\").isin('52', '36')) & (col(\"t.Outcome\") == 0) & col(\"st.DecisionDate\").isNull())\n",
    "                ),\n",
    "                'CCD'\n",
    "            ).when(\n",
    "                (\n",
    "                    col(\"ac.CasePrefix\").isin('DA', 'DC', 'EA', 'HU', 'PA', 'RP') |\n",
    "                    (col(\"ac.CasePrefix\").isin('LP', 'LR', 'LD', 'LH', 'LE', 'IA') & col(\"ac.HOANRef\").isNull()) |\n",
    "                    (\n",
    "                        col(\"ac.CasePrefix\").isin('LP', 'LR', 'LD', 'LH', 'LE', 'IA') & col(\"ac.HOANRef\").isNotNull() &\n",
    "                        col(\"us.CaseStatus\").isNotNull() &\n",
    "                        (add_months(col(\"us.DecisionDate\"), 60) < add_months(col(\"t.DecisionDate\"), 24))\n",
    "                    )\n",
    "                ) & (\n",
    "                    ((col(\"t.CaseStatus\") == '10') & col(\"t.Outcome\").isin(13, 80, 122, 25, 120, 2, 105, 119)) |\n",
    "                    ((col(\"t.CaseStatus\") == '46') & col(\"t.Outcome\").isin(31, 2, 50)) |\n",
    "                    ((col(\"t.CaseStatus\") == '26') & col(\"t.Outcome\").isin(80, 13, 25, 1, 2)) |\n",
    "                    ((col(\"t.CaseStatus\").isin('37', '38')) & col(\"t.Outcome\").isin(1, 2, 80, 13, 25, 72, 14, 125)) |\n",
    "                    ((col(\"t.CaseStatus\") == '39') & col(\"t.Outcome\").isin(30, 31, 25, 14, 80)) |\n",
    "                    ((col(\"t.CaseStatus\") == '51') & col(\"t.Outcome\").isin(94, 93)) |\n",
    "                    ((col(\"t.CaseStatus\") == '52') & col(\"t.Outcome\").isin(91, 95) & ((~col(\"st.CaseStatus\").isin('37', '38', '39', '17', '40', '41', '42', '43', '44', '45', '53', '27', '28', '29', '34', '32', '33')) | col(\"st.CaseStatus\").isNull())) |\n",
    "                    ((col(\"t.CaseStatus\") == '36') & (col(\"t.Outcome\") == 25) & ((~col(\"st.CaseStatus\").isin('40', '41', '42', '43', '44', '45', '53', '27', '28', '29', '34', '32', '33')) | col(\"st.CaseStatus\").isNull()))\n",
    "                ) & (\n",
    "                    add_months(col(\"t.DecisionDate\"), 6) >= current_date()\n",
    "                ),\n",
    "                'CCD'\n",
    "            ).when(\n",
    "                (\n",
    "                    (col(\"ac.CasePrefix\").isin('DA', 'DC', 'EA', 'HU', 'PA', 'RP') & col(\"us.CaseStatus\").isNull()) |\n",
    "                    (col(\"ac.CasePrefix\").isin('LP', 'LR', 'LD', 'LH', 'LE', 'IA') & col(\"ac.HOANRef\").isNull()) |\n",
    "                    (\n",
    "                        col(\"ac.CasePrefix\").isin('LP', 'LR', 'LD', 'LH', 'LE', 'IA') & col(\"ac.HOANRef\").isNotNull() &\n",
    "                        col(\"us.CaseStatus\").isNotNull() &\n",
    "                        (add_months(col(\"us.DecisionDate\"), 60) < add_months(col(\"t.DecisionDate\"), 24))\n",
    "                    )\n",
    "                ) & (\n",
    "                    ((col(\"t.CaseStatus\").isin('52', '36')) & (col(\"t.Outcome\") == 0) & col(\"st.DecisionDate\").isNotNull()) |\n",
    "                    ((col(\"t.CaseStatus\") == '36') & col(\"t.Outcome\").isin(1, 2, 50, 108)) |\n",
    "                    ((col(\"t.CaseStatus\") == '52') & col(\"t.Outcome\").isin(91, 95) & col(\"st.CaseStatus\").isin('37', '38', '39', '17'))\n",
    "                ) & (\n",
    "                    add_months(col(\"t.DecisionDate\"), 6) >= current_date()\n",
    "                ),\n",
    "                'CCD'\n",
    "            ).otherwise(\"Other\").alias(\"HighLevelSegment\")\n",
    "\n",
    "        )\n",
    "    )\n",
    "\n",
    "    result = result.filter(col('HighLevelSegment') == 'CCD')\n",
    "\n",
    "    return result"
   ]
  },
  {
   "cell_type": "markdown",
   "metadata": {
    "application/vnd.databricks.v1+cell": {
     "cellMetadata": {
      "byteLimit": 2048000,
      "rowLimit": 10000
     },
     "inputWidgets": {},
     "nuid": "7cd8d26a-6494-43f8-a966-67c0d2ac8f6e",
     "showTitle": false,
     "tableResultSettingsMap": {},
     "title": ""
    }
   },
   "source": [
    "## Silver DLT Tables Creation"
   ]
  },
  {
   "cell_type": "markdown",
   "metadata": {
    "application/vnd.databricks.v1+cell": {
     "cellMetadata": {
      "byteLimit": 2048000,
      "rowLimit": 10000
     },
     "inputWidgets": {},
     "nuid": "bd59a305-5b74-4000-abcd-1b6f60d22c82",
     "showTitle": false,
     "tableResultSettingsMap": {},
     "title": ""
    }
   },
   "source": [
    "### Transformation M1 silver_appealcase_detail"
   ]
  },
  {
   "cell_type": "code",
   "execution_count": 0,
   "metadata": {
    "application/vnd.databricks.v1+cell": {
     "cellMetadata": {
      "byteLimit": 2048000,
      "rowLimit": 10000
     },
     "inputWidgets": {},
     "nuid": "8d0d687a-2f25-4b24-999a-34a0276a7fbc",
     "showTitle": false,
     "tableResultSettingsMap": {},
     "title": ""
    }
   },
   "outputs": [],
   "source": [
    "@dlt.table(\n",
    "    name=\"silver_appealcase_detail\",\n",
    "    comment=\"DLT table to determine if each case is AIP or LR based on CaseRep information.\",\n",
    "    path=f\"{silver_path}/silver_appealcase_detail\"\n",
    ")\n",
    "def silver_appealcase_detail():\n",
    "    from pyspark.sql.window import Window\n",
    "    from pyspark.sql.functions import row_number, col, min, size, when\n",
    "\n",
    "    try:\n",
    "        appeal_case_raw = dlt.read(\"bronze_appealcase_crep_rep_floc_cspon_cfs\")\n",
    "        segmentation_states = dlt.read(\"stg_segmentation_states\")\n",
    "        countries_nationality = dlt.read(\"bronze_countries_nationality\")\n",
    "        hearing_centres = dlt.read(\"bronze_hearing_centres\")\n",
    "        appeal_category = dlt.read(\"bronze_appealcategory\")\n",
    "        appeal_type = dlt.read(\"bronze_appealtype\")\n",
    "        representation = dlt.read(\"stg_representation\")\n",
    "    except:\n",
    "        appeal_case_raw = spark.table(\"ariadm_active_appeals.bronze_appealcase_crep_rep_floc_cspon_cfs\")\n",
    "        segmentation_states = spark.table(\"ariadm_active_appeals.stg_segmentation_states\")\n",
    "        countries_nationality = spark.table(\"ariadm_active_appeals.bronze_countries_nationality\")\n",
    "        hearing_centres = spark.table(\"ariadm_active_appeals.bronze_hearing_centres\")\n",
    "        appeal_category = spark.table(\"ariadm_active_appeals.bronze_appealcategory\")\n",
    "        appeal_type = spark.table(\"ariadm_active_appeals.bronze_appealtype\")\n",
    "        representation = spark.table(\"ariadm_active_appeals.stg_representation\")\n",
    "\n",
    "    window_spec = Window.partitionBy(\"CaseNo\")\n",
    "    appeal_case = (\n",
    "        appeal_case_raw\n",
    "        .withColumn(\"min_id\", min(\"CaseFeeSummaryId\").over(window_spec))\n",
    "        .where(col(\"CaseFeeSummaryId\") == col(\"min_id\"))\n",
    "        .drop(\"min_id\")\n",
    "    )\n",
    "\n",
    "    app_cat_agg = (\n",
    "        appeal_category.groupBy(\"CaseNo\")\n",
    "        .agg(F.collect_list(\"CategoryId\").alias(\"CategoryIds\"))\n",
    "    )\n",
    "\n",
    "    result = (\n",
    "        appeal_case.alias(\"ac\")\n",
    "        .join(segmentation_states, on=\"CaseNo\", how=\"inner\")\n",
    "        .join(countries_nationality.alias(\"cn\"), col(\"ac.NationalityId\") == col(\"cn.NationalityId\"), how=\"left\")\n",
    "        .join(hearing_centres.alias(\"hc\"), col(\"ac.CentreId\") == col(\"hc.CentreId\"), how=\"left\")\n",
    "        .join(app_cat_agg.alias(\"app\"), col(\"ac.CaseNo\") == col(\"app.CaseNo\"), how=\"left\")\n",
    "        .join(representation.alias(\"rep\"), col(\"ac.CaseNo\") == col(\"rep.CaseNo\"), how=\"left\")\n",
    "        .withColumn(\n",
    "            \"MappedCCDAppealType\",\n",
    "            when(\n",
    "                (col(\"ac.CasePrefix\") == \"EA\") &\n",
    "                (\n",
    "                    (~F.array_contains(col(\"app.CategoryIds\"), 47)) |\n",
    "                    (~F.array_contains(col(\"app.CategoryIds\"), 48)) |\n",
    "                    (~F.array_contains(col(\"app.CategoryIds\"), 49))\n",
    "                ),\n",
    "                \"EU\"\n",
    "            ).when(\n",
    "                (col(\"ac.CasePrefix\") == \"EA\") &\n",
    "                (\n",
    "                    F.array_contains(col(\"app.CategoryIds\"), 47) |\n",
    "                    F.array_contains(col(\"app.CategoryIds\"), 48) |\n",
    "                    F.array_contains(col(\"app.CategoryIds\"), 49)\n",
    "                ),\n",
    "                \"EA\"\n",
    "            ).when(col(\"ac.CasePrefix\") == \"DA\", \"EA\")\n",
    "            .when(col(\"ac.CasePrefix\") == \"DC\", \"DC\")\n",
    "            .when(col(\"ac.CasePrefix\") == \"HU\", \"HU\")\n",
    "            .when(col(\"ac.CasePrefix\") == \"IA\", \"HU\")\n",
    "            .when(col(\"ac.CasePrefix\") == \"LD\", \"DC\")\n",
    "            .when(col(\"ac.CasePrefix\") == \"LE\", \"EA\")\n",
    "            .when(col(\"ac.CasePrefix\") == \"LH\", \"HU\")\n",
    "            .when(col(\"ac.CasePrefix\") == \"LP\", \"PA\")\n",
    "            .when(col(\"ac.CasePrefix\") == \"LR\", \"RP\")\n",
    "            .when(col(\"ac.CasePrefix\") == \"PA\", \"PA\")\n",
    "            .when(col(\"ac.CasePrefix\") == \"RP\", \"RP\")\n",
    "            .otherwise(None)\n",
    "        )\n",
    "        .join(\n",
    "            appeal_type.alias(\"at\"),\n",
    "            col(\"MappedCCDAppealType\") == col(\"at.CCDAppealType\"),\n",
    "            how=\"left\"\n",
    "        )\n",
    "        .withColumn(\n",
    "            \"hearingCentreDynamicList\",\n",
    "            when(\n",
    "                col(\"hc.locationCode\").isNotNull() & col(\"hc.locationLabel\").isNotNull(),\n",
    "                F.struct(\n",
    "                    F.struct(\n",
    "                        col(\"hc.locationCode\").alias(\"code\"),\n",
    "                        col(\"hc.locationLabel\").alias(\"label\")\n",
    "                    ).alias(\"value\"),\n",
    "                    F.array(\n",
    "                        F.struct(F.lit(\"227101\").alias(\"code\"), F.lit(\"Newport Tribunal Centre - Columbus House\").alias(\"label\")),\n",
    "                        F.struct(F.lit(\"231596\").alias(\"code\"), F.lit(\"Birmingham Civil And Family Justice Centre\").alias(\"label\")),\n",
    "                        F.struct(F.lit(\"28837\").alias(\"code\"), F.lit(\"Harmondsworth Tribunal Hearing Centre\").alias(\"label\")),\n",
    "                        F.struct(F.lit(\"366559\").alias(\"code\"), F.lit(\"Atlantic Quay - Glasgow\").alias(\"label\")),\n",
    "                        F.struct(F.lit(\"366796\").alias(\"code\"), F.lit(\"Newcastle Civil And Family Courts And Tribunals Centre\").alias(\"label\")),\n",
    "                        F.struct(F.lit(\"386417\").alias(\"code\"), F.lit(\"Hatton Cross Tribunal Hearing Centre\").alias(\"label\")),\n",
    "                        F.struct(F.lit(\"512401\").alias(\"code\"), F.lit(\"Manchester Tribunal Hearing Centre - Piccadilly Exchange\").alias(\"label\")),\n",
    "                        F.struct(F.lit(\"649000\").alias(\"code\"), F.lit(\"Yarls Wood Immigration And Asylum Hearing Centre\").alias(\"label\")),\n",
    "                        F.struct(F.lit(\"698118\").alias(\"code\"), F.lit(\"Bradford Tribunal Hearing Centre\").alias(\"label\")),\n",
    "                        F.struct(F.lit(\"765324\").alias(\"code\"), F.lit(\"Taylor House Tribunal Hearing Centre\").alias(\"label\"))\n",
    "                    ).alias(\"list_items\")\n",
    "                )\n",
    "            ).otherwise(None)\n",
    "        )\n",
    "        .withColumn(\n",
    "            \"caseManagementLocationRefData\",\n",
    "            when(\n",
    "                col(\"hc.locationCode\").isNotNull() & col(\"hc.locationLabel\").isNotNull(),\n",
    "                F.struct(\n",
    "                    F.lit(\"1\").alias(\"region\"),\n",
    "                    F.struct(\n",
    "                        F.struct(\n",
    "                            col(\"hc.locationCode\").alias(\"code\"),\n",
    "                            col(\"hc.locationLabel\").alias(\"label\")\n",
    "                        ).alias(\"value\"),\n",
    "                        F.array(\n",
    "                            F.struct(F.lit(\"227101\").alias(\"code\"), F.lit(\"Newport Tribunal Centre - Columbus House\").alias(\"label\")),\n",
    "                            F.struct(F.lit(\"231596\").alias(\"code\"), F.lit(\"Birmingham Civil And Family Justice Centre\").alias(\"label\")),\n",
    "                            F.struct(F.lit(\"28837\").alias(\"code\"), F.lit(\"Harmondsworth Tribunal Hearing Centre\").alias(\"label\")),\n",
    "                            F.struct(F.lit(\"366559\").alias(\"code\"), F.lit(\"Atlantic Quay - Glasgow\").alias(\"label\")),\n",
    "                            F.struct(F.lit(\"366796\").alias(\"code\"), F.lit(\"Newcastle Civil And Family Courts And Tribunals Centre\").alias(\"label\")),\n",
    "                            F.struct(F.lit(\"386417\").alias(\"code\"), F.lit(\"Hatton Cross Tribunal Hearing Centre\").alias(\"label\")),\n",
    "                            F.struct(F.lit(\"512401\").alias(\"code\"), F.lit(\"Manchester Tribunal Hearing Centre - Piccadilly Exchange\").alias(\"label\")),\n",
    "                            F.struct(F.lit(\"649000\").alias(\"code\"), F.lit(\"Yarls Wood Immigration And Asylum Hearing Centre\").alias(\"label\")),\n",
    "                            F.struct(F.lit(\"698118\").alias(\"code\"), F.lit(\"Bradford Tribunal Hearing Centre\").alias(\"label\")),\n",
    "                            F.struct(F.lit(\"765324\").alias(\"code\"), F.lit(\"Taylor House Tribunal Hearing Centre\").alias(\"label\"))\n",
    "                        ).alias(\"list_items\")\n",
    "                    ).alias(\"baseLocation\")\n",
    "                )\n",
    "            ).otherwise(None)\n",
    "        )\n",
    "        .select(\n",
    "            \"ac.*\",\n",
    "            col(\"TargetState\").alias(\"dv_targetState\"),\n",
    "            col(\"cn.countryCode\").alias(\"lu_countryCode\"),\n",
    "            col(\"cn.appellantNationalitiesDescription\").alias(\"lu_appellantNationalitiesDescription\"),\n",
    "            col(\"hc.hearingCentre\").alias(\"lu_hearingCentre\"),\n",
    "            col(\"hc.staffLocation\").alias(\"lu_staffLocation\"),\n",
    "            col(\"hc.caseManagementLocation\").alias(\"lu_caseManagementLocation\"),\n",
    "            col(\"hc.locationCode\").alias(\"lu_locationCode\"),\n",
    "            col(\"hc.locationLabel\").alias(\"lu_locationLabel\"),\n",
    "            col(\"hc.selectedHearingCentreRefData\").alias(\"lu_selectedHearingCentreRefData\"),\n",
    "            col(\"hc.listCaseHearingCentre\").alias(\"lu_listCaseHearingCentre\"),\n",
    "            col(\"hc.prevFileLocation\").alias(\"lu_prevFileLocation\"),\n",
    "            col(\"hc.applicationChangeDesignatedHearingCentre\").alias(\"lu_applicationChangeDesignatedHearingCentre\"),\n",
    "            col(\"at.CCDAppealType\").alias(\"dv_CCDAppealType\"),\n",
    "            col(\"at.appealType\").alias(\"lu_appealType\"),\n",
    "            col(\"at.hmctsCaseCategory\").alias(\"lu_hmctsCaseCategory\"),\n",
    "            col(\"at.appealTypeDescription\").alias(\"lu_appealTypeDescription\"),\n",
    "            col(\"rep.representation\").alias(\"dv_representation\"),\n",
    "            col(\"at.caseManagementCategory\").alias(\"lu_caseManagementCategory\"),\n",
    "            col(\"hearingCentreDynamicList\").alias(\"dv_hearingCentreDynamicList\"),\n",
    "            col(\"caseManagementLocationRefData\").alias(\"dv_caseManagementLocationRefData\")\n",
    "        )\n",
    "    ).distinct()\n",
    "    return result\n",
    "#"
   ]
  },
  {
   "cell_type": "markdown",
   "metadata": {
    "application/vnd.databricks.v1+cell": {
     "cellMetadata": {
      "byteLimit": 2048000,
      "rowLimit": 10000
     },
     "inputWidgets": {},
     "nuid": "adf57f17-cdb7-4e1f-a6bb-abfdf86fbf1c",
     "showTitle": false,
     "tableResultSettingsMap": {},
     "title": ""
    }
   },
   "source": [
    "### Transformation M2 silver_caseapplicant_detail"
   ]
  },
  {
   "cell_type": "code",
   "execution_count": 0,
   "metadata": {
    "application/vnd.databricks.v1+cell": {
     "cellMetadata": {
      "byteLimit": 2048000,
      "rowLimit": 10000
     },
     "inputWidgets": {},
     "nuid": "9db017e8-ce08-4408-a384-0df5c33cb516",
     "showTitle": false,
     "tableResultSettingsMap": {},
     "title": ""
    }
   },
   "outputs": [],
   "source": [
    "@dlt.table(\n",
    "    name=\"silver_caseapplicant_detail\",\n",
    "    comment=\"DLT table to determine if each case is AIP or LR based on CaseRep information.\",\n",
    "    path=f\"{silver_path}/silver_caseapplicant_detail\"\n",
    ")\n",
    "def silver_caseapplicant_detail():\n",
    "    try:\n",
    "        # Read the AppealCase, CaseRep, and CountriesPostal DLT tables\n",
    "        app = dlt.read(\"bronze_appealcase_caseappellant_appellant\")\n",
    "        segmentation_states = dlt.read(\"stg_segmentation_states\")\n",
    "        countries_postal = dlt.read(\"bronze_countries_postal\")\n",
    "    except:\n",
    "        app = spark.table(\"ariadm_active_appeals.bronze_appealcase_caseappellant_appellant\")\n",
    "        segmentation_states = spark.table(\"ariadm_active_appeals.stg_segmentation_states\")\n",
    "        countries_postal = spark.table(\"ariadm_active_appeals.bronze_countries_postal\")\n",
    "\n",
    "    result = (\n",
    "        app.alias(\"a\")\n",
    "        .join(segmentation_states, on=\"CaseNo\", how=\"inner\")\n",
    "        .join(countries_postal.alias(\"cp\"), col(\"a.AppellantCountryId\") == col(\"cp.AppellantCountryId\"), how=\"left\")\n",
    "        .select(\n",
    "            \"a.*\", \n",
    "            col(\"TargetState\").alias(\"dv_targetState\"), \n",
    "            col(\"cp.countryGovUkOocAdminJ\").alias(\"lu_countryGovUkOocAdminJ\")\n",
    "        )\n",
    "    )\n",
    "    return result"
   ]
  },
  {
   "cell_type": "markdown",
   "metadata": {
    "application/vnd.databricks.v1+cell": {
     "cellMetadata": {
      "byteLimit": 2048000,
      "rowLimit": 10000
     },
     "inputWidgets": {},
     "nuid": "7fa6d62c-9b19-43b7-b4dd-adc31b4a303a",
     "showTitle": false,
     "tableResultSettingsMap": {},
     "title": ""
    }
   },
   "source": [
    "### Transformation M3 silver_status_detail"
   ]
  },
  {
   "cell_type": "code",
   "execution_count": 0,
   "metadata": {
    "application/vnd.databricks.v1+cell": {
     "cellMetadata": {
      "byteLimit": 2048000,
      "rowLimit": 10000
     },
     "inputWidgets": {},
     "nuid": "0f43b937-a93f-4596-8949-389174922d1e",
     "showTitle": false,
     "tableResultSettingsMap": {},
     "title": ""
    }
   },
   "outputs": [],
   "source": [
    "@dlt.table(\n",
    "    name=\"silver_status_detail\",\n",
    "    comment=\"DLT table to determine if each case is AIP or LR based on CaseRep information.\",\n",
    "    path=f\"{silver_path}/silver_status_detail\"\n",
    ")\n",
    "def silver_status_detail():\n",
    "    try:\n",
    "        # Read the AppealCase, CaseRep, and HearingCentres DLT tables\n",
    "        appeal_case = dlt.read(\"bronze_status_htype_clist_list_ltype_court_lsitting_adj\")\n",
    "        segmentation_states = dlt.read(\"stg_segmentation_states\")\n",
    "        hearing_centres = dlt.read(\"bronze_hearing_centres\")\n",
    "    except:\n",
    "        appeal_case = spark.table(\"ariadm_active_appeals.bronze_status_htype_clist_list_ltype_court_lsitting_adj\")\n",
    "        segmentation_states = spark.table(\"ariadm_active_appeals.stg_segmentation_states\")\n",
    "        hearing_centres = spark.table(\"ariadm_active_appeals.bronze_hearing_centres\")\n",
    "\n",
    "    result = (\n",
    "        appeal_case.alias(\"ac\")\n",
    "        .join(segmentation_states, on=\"CaseNo\", how=\"inner\")\n",
    "        .join(hearing_centres.alias(\"hc\"), col(\"ac.CentreId\") == col(\"hc.CentreId\"), how=\"left\")\n",
    "        .withColumn(\"tr_Notes\", regexp_replace(regexp_replace(trim(col(\"ac.Notes\")), '[\\r\\n]+', ' '), ' +', ' '))\n",
    "        .select(\n",
    "            \"ac.*\",\n",
    "            col(\"TargetState\").alias(\"dv_targetState\"),\n",
    "            col(\"hc.hearingCentre\").alias(\"lu_hearingCentre\"),\n",
    "            col(\"hc.staffLocation\").alias(\"lu_staffLocation\"),\n",
    "            col(\"hc.caseManagementLocation\").alias(\"lu_caseManagementLocation\"),\n",
    "            col(\"hc.locationCode\").alias(\"lu_locationCode\"),\n",
    "            col(\"hc.locationLabel\").alias(\"lu_locationLabel\"),\n",
    "            col(\"hc.selectedHearingCentreRefData\").alias(\"lu_selectedHearingCentreRefData\"),\n",
    "            col(\"hc.listCaseHearingCentre\").alias(\"lu_listCaseHearingCentre\"),\n",
    "            col(\"hc.applicationChangeDesignatedHearingCentre\").alias(\"lu_applicationChangeDesignatedHearingCentre\"),\n",
    "            col(\"tr_Notes\")\n",
    "        )\n",
    "    )\n",
    "    return result"
   ]
  },
  {
   "cell_type": "markdown",
   "metadata": {
    "application/vnd.databricks.v1+cell": {
     "cellMetadata": {
      "byteLimit": 2048000,
      "rowLimit": 10000
     },
     "inputWidgets": {},
     "nuid": "119730f3-2f81-4c39-a46c-a5434427cfeb",
     "showTitle": false,
     "tableResultSettingsMap": {},
     "title": ""
    }
   },
   "source": [
    "### Transformation M4 silver_transaction_detail"
   ]
  },
  {
   "cell_type": "code",
   "execution_count": 0,
   "metadata": {
    "application/vnd.databricks.v1+cell": {
     "cellMetadata": {
      "byteLimit": 2048000,
      "rowLimit": 10000
     },
     "inputWidgets": {},
     "nuid": "4d2171da-83ab-4f64-a731-c552e1195742",
     "showTitle": false,
     "tableResultSettingsMap": {},
     "title": ""
    }
   },
   "outputs": [],
   "source": [
    "@dlt.table(\n",
    "    name=\"silver_transaction_detail\",\n",
    "    comment=\"DLT table to determine if each case is AIP or LR based on CaseRep information.\",\n",
    "    path=f\"{silver_path}/silver_transaction_detail\"\n",
    ")\n",
    "def silver_transaction_detail():\n",
    "    try:\n",
    "        # Read the AppealCase and CaseRep DLT tables\n",
    "        tran = dlt.read(\"bronze_appealcase_transaction_transactiontype\")\n",
    "        segmentation_states = dlt.read(\"stg_segmentation_states\")\n",
    "    except:\n",
    "        tran = spark.table(\"ariadm_active_appeals.bronze_appealcase_transaction_transactiontype\")\n",
    "        segmentation_states = spark.table(\"ariadm_active_appeals.stg_segmentation_states\")\n",
    "\n",
    "    result = tran.alias(\"t\").join(segmentation_states, on=\"CaseNo\", how=\"inner\").select(\"t.*\",col(\"TargetState\").alias(\"dv_targetState\"))\n",
    "    return result"
   ]
  },
  {
   "cell_type": "markdown",
   "metadata": {
    "application/vnd.databricks.v1+cell": {
     "cellMetadata": {
      "byteLimit": 2048000,
      "rowLimit": 10000
     },
     "inputWidgets": {},
     "nuid": "c8b9bcc3-c969-4b2c-a66e-5f7e9dafa7c7",
     "showTitle": false,
     "tableResultSettingsMap": {},
     "title": ""
    }
   },
   "source": [
    "### Transformation M5 silver_link_detail"
   ]
  },
  {
   "cell_type": "code",
   "execution_count": 0,
   "metadata": {
    "application/vnd.databricks.v1+cell": {
     "cellMetadata": {
      "byteLimit": 2048000,
      "rowLimit": 10000
     },
     "inputWidgets": {},
     "nuid": "a15b960f-7b04-4092-8f10-8303eba35892",
     "showTitle": false,
     "tableResultSettingsMap": {},
     "title": ""
    }
   },
   "outputs": [],
   "source": [
    "@dlt.table(\n",
    "    name=\"silver_link_detail\",\n",
    "    comment=\"DLT table to determine if each case is AIP or LR based on CaseRep information.\",\n",
    "    path=f\"{silver_path}/silver_link_detail\"\n",
    ")\n",
    "def silver_link_detail():\n",
    "    try:\n",
    "        # Read the AppealCase and CaseRep DLT tables\n",
    "        link = dlt.read(\"bronze_appealcase_link_linkdetail\")\n",
    "        segmentation_states = dlt.read(\"stg_segmentation_states\")\n",
    "    except:\n",
    "        link = spark.table(\"ariadm_active_appeals.bronze_appealcase_link_linkdetail\")\n",
    "        segmentation_states = spark.table(\"ariadm_active_appeals.stg_segmentation_states\")\n",
    "\n",
    "    result = link.alias(\"l\").join(segmentation_states, on=\"CaseNo\", how=\"inner\").select(\"l.*\",col(\"TargetState\").alias(\"dv_targetState\"))\n",
    "    return result"
   ]
  },
  {
   "cell_type": "markdown",
   "metadata": {
    "application/vnd.databricks.v1+cell": {
     "cellMetadata": {
      "byteLimit": 2048000,
      "rowLimit": 10000
     },
     "inputWidgets": {},
     "nuid": "9704d95d-7e4e-4b89-a9f1-40f033a39f4b",
     "showTitle": false,
     "tableResultSettingsMap": {},
     "title": ""
    }
   },
   "source": [
    "### Transformation M6 silver_adjudicator_detail"
   ]
  },
  {
   "cell_type": "code",
   "execution_count": 0,
   "metadata": {
    "application/vnd.databricks.v1+cell": {
     "cellMetadata": {
      "byteLimit": 2048000,
      "rowLimit": 10000
     },
     "inputWidgets": {},
     "nuid": "4ab248c1-6143-4f21-9690-2a469764454f",
     "showTitle": false,
     "tableResultSettingsMap": {},
     "title": ""
    }
   },
   "outputs": [],
   "source": [
    "@dlt.table(\n",
    "    name=\"silver_adjudicator_detail\",\n",
    "    comment=\"DLT table to determine if each case is AIP or LR based on CaseRep information.\",\n",
    "    path=f\"{silver_path}/silver_adjudicator_detail\"\n",
    ")\n",
    "def silver_adjudicator_detail():\n",
    "    try:\n",
    "        # Read the AppealCase and CaseRep DLT tables\n",
    "        adj = dlt.read(\"bronze_caseadjudicator_adjudicator\")\n",
    "        segmentation_states = dlt.read(\"stg_segmentation_states\")\n",
    "    except:\n",
    "        adj = spark.table(\"ariadm_active_appeals.bronze_caseadjudicator_adjudicator\")\n",
    "        segmentation_states = spark.table(\"ariadm_active_appeals.stg_segmentation_states\")\n",
    "\n",
    "    result = adj.alias(\"adj\").join(segmentation_states, on=\"CaseNo\", how=\"inner\").select(\"adj.*\",col(\"TargetState\").alias(\"dv_targetState\"))\n",
    "    return result"
   ]
  },
  {
   "cell_type": "markdown",
   "metadata": {
    "application/vnd.databricks.v1+cell": {
     "cellMetadata": {
      "byteLimit": 2048000,
      "rowLimit": 10000
     },
     "inputWidgets": {},
     "nuid": "7668d8a9-c22f-49a8-bd4f-93721648043d",
     "showTitle": false,
     "tableResultSettingsMap": {},
     "title": ""
    }
   },
   "source": [
    "### Transformation silver_appealcategory_detail"
   ]
  },
  {
   "cell_type": "code",
   "execution_count": 0,
   "metadata": {
    "application/vnd.databricks.v1+cell": {
     "cellMetadata": {
      "byteLimit": 2048000,
      "rowLimit": 10000
     },
     "inputWidgets": {},
     "nuid": "da64de1a-2c5a-41b6-8aa8-e78a44c47b48",
     "showTitle": false,
     "tableResultSettingsMap": {},
     "title": ""
    }
   },
   "outputs": [],
   "source": [
    "@dlt.table(\n",
    "    name=\"silver_appealcategory_detail\",\n",
    "    comment=\"DLT table to determine if each case is AIP or LR based on CaseRep information.\",\n",
    "    path=f\"{silver_path}/silver_appealcategory_detail\"\n",
    ")\n",
    "def silver_appealcategory_detail():\n",
    "    try:\n",
    "        # Read the AppealCase and CaseRep DLT tables\n",
    "        ac = dlt.read(\"bronze_appealcategory\")\n",
    "        segmentation_states = dlt.read(\"stg_segmentation_states\")\n",
    "    except:\n",
    "        ac = spark.table(\"ariadm_active_appeals.bronze_appealcategory\")\n",
    "        segmentation_states = spark.table(\"ariadm_active_appeals.stg_segmentation_states\")\n",
    "\n",
    "    result = ac.alias(\"ac\").join(segmentation_states, on=\"CaseNo\", how=\"inner\").select(\"ac.*\",col(\"TargetState\").alias(\"dv_targetState\"))\n",
    "    return result"
   ]
  },
  {
   "cell_type": "markdown",
   "metadata": {
    "application/vnd.databricks.v1+cell": {
     "cellMetadata": {
      "byteLimit": 2048000,
      "rowLimit": 10000
     },
     "inputWidgets": {},
     "nuid": "b88f6e1c-fba2-444b-ac45-f9a698c63784",
     "showTitle": false,
     "tableResultSettingsMap": {},
     "title": ""
    }
   },
   "source": [
    "### Transformation silver_documentsreceived_detail"
   ]
  },
  {
   "cell_type": "code",
   "execution_count": 0,
   "metadata": {
    "application/vnd.databricks.v1+cell": {
     "cellMetadata": {
      "byteLimit": 2048000,
      "rowLimit": 10000
     },
     "inputWidgets": {},
     "nuid": "97bff613-113b-4ddd-9090-94b794dafcb2",
     "showTitle": false,
     "tableResultSettingsMap": {},
     "title": ""
    }
   },
   "outputs": [],
   "source": [
    "@dlt.table(\n",
    "    name=\"silver_documentsreceived_detail\",\n",
    "    comment=\"DLT table to determine if each case is AIP or LR based on CaseRep information.\",\n",
    "    path=f\"{silver_path}/silver_documentsreceived_detail\"\n",
    ")\n",
    "def silver_documentsreceived_detail():\n",
    "    try:\n",
    "        # Read the AppealCase and CaseRep DLT tables\n",
    "        dr = dlt.read(\"bronze_documentsreceived\")\n",
    "        segmentation_states = dlt.read(\"stg_segmentation_states\")\n",
    "    except:\n",
    "        dr = spark.table(\"ariadm_active_appeals.bronze_documentsreceived\")\n",
    "        segmentation_states = spark.table(\"ariadm_active_appeals.stg_segmentation_states\")\n",
    "\n",
    "    result = dr.alias(\"dr\").join(segmentation_states, on=\"CaseNo\", how=\"inner\").select(\"dr.*\",col(\"TargetState\").alias(\"dv_targetState\"))\n",
    "    return result"
   ]
  },
  {
   "cell_type": "markdown",
   "metadata": {
    "application/vnd.databricks.v1+cell": {
     "cellMetadata": {
      "byteLimit": 2048000,
      "rowLimit": 10000
     },
     "inputWidgets": {},
     "nuid": "46f0d761-f1be-4910-9e72-126567136200",
     "showTitle": false,
     "tableResultSettingsMap": {},
     "title": ""
    }
   },
   "source": [
    "### Transformation silver_history_detail"
   ]
  },
  {
   "cell_type": "code",
   "execution_count": 0,
   "metadata": {
    "application/vnd.databricks.v1+cell": {
     "cellMetadata": {
      "byteLimit": 2048000,
      "rowLimit": 10000
     },
     "inputWidgets": {},
     "nuid": "70173cfb-e86b-48d5-b605-7f3841a3656f",
     "showTitle": false,
     "tableResultSettingsMap": {},
     "title": ""
    }
   },
   "outputs": [],
   "source": [
    "@dlt.table(\n",
    "    name=\"silver_history_detail\",\n",
    "    comment=\"DLT table to determine if each case is AIP or LR based on CaseRep information.\",\n",
    "    path=f\"{silver_path}/silver_history_detail\"\n",
    ")\n",
    "def silver_history_detail():\n",
    "    try:\n",
    "        # Read the AppealCase and CaseRep DLT tables\n",
    "        dr = dlt.read(\"bronze_history\")\n",
    "        segmentation_states = dlt.read(\"stg_segmentation_states\")\n",
    "    except:\n",
    "        dr = spark.table(\"ariadm_active_appeals.bronze_history\")\n",
    "        segmentation_states = spark.table(\"ariadm_active_appeals.stg_segmentation_states\")\n",
    "\n",
    "    result = dr.alias(\"dh\").join(segmentation_states, on=\"CaseNo\", how=\"inner\").select(\"dh.*\",col(\"TargetState\").alias(\"dv_targetState\"))\n",
    "    return result"
   ]
  },
  {
   "cell_type": "markdown",
   "metadata": {
    "application/vnd.databricks.v1+cell": {
     "cellMetadata": {
      "byteLimit": 2048000,
      "rowLimit": 10000
     },
     "inputWidgets": {},
     "nuid": "55ecc91e-4883-496e-ac6f-d66bf85fa0fe",
     "showTitle": false,
     "tableResultSettingsMap": {},
     "title": ""
    }
   },
   "source": [
    "## Exit Notebook with Success Message"
   ]
  },
  {
   "cell_type": "code",
   "execution_count": 0,
   "metadata": {
    "application/vnd.databricks.v1+cell": {
     "cellMetadata": {
      "byteLimit": 2048000,
      "rowLimit": 10000
     },
     "inputWidgets": {},
     "nuid": "22111985-9d8e-4249-8b96-78fb65cf5598",
     "showTitle": false,
     "tableResultSettingsMap": {},
     "title": ""
    }
   },
   "outputs": [],
   "source": [
    "dbutils.notebook.exit(\"Notebook completed successfully\")"
   ]
  },
  {
   "cell_type": "markdown",
   "metadata": {
    "application/vnd.databricks.v1+cell": {
     "cellMetadata": {
      "byteLimit": 2048000,
      "rowLimit": 10000
     },
     "inputWidgets": {},
     "nuid": "e9f18d80-a4e9-4167-a669-37483181b885",
     "showTitle": false,
     "tableResultSettingsMap": {},
     "title": ""
    }
   },
   "source": [
    "### Appendix"
   ]
  },
  {
   "cell_type": "code",
   "execution_count": 0,
   "metadata": {
    "application/vnd.databricks.v1+cell": {
     "cellMetadata": {
      "byteLimit": 2048000,
      "implicitDf": true,
      "rowLimit": 10000
     },
     "inputWidgets": {},
     "nuid": "bee956b5-179b-41eb-9f4d-a989c95b189f",
     "showTitle": false,
     "tableResultSettingsMap": {},
     "title": ""
    }
   },
   "outputs": [],
   "source": [
    "# %sql\n",
    "# drop schema if exists ariadadm_active_appeals cascade"
   ]
  }
 ],
 "metadata": {
  "application/vnd.databricks.v1+notebook": {
   "computePreferences": null,
   "dashboards": [],
   "environmentMetadata": {
    "base_environment": "",
    "environment_version": "2"
   },
   "inputWidgetPreferences": null,
   "language": "python",
   "notebookMetadata": {
    "mostRecentlyExecutedCommandWithImplicitDF": {
     "commandId": 7683653325342717,
     "dataframes": [
      "_sqldf"
     ]
    },
    "pythonIndentUnit": 4
   },
   "notebookName": "SILVER_ACTIVE_APPEALS",
   "widgets": {}
  },
  "language_info": {
   "name": "python"
  }
 },
 "nbformat": 4,
 "nbformat_minor": 0
}
