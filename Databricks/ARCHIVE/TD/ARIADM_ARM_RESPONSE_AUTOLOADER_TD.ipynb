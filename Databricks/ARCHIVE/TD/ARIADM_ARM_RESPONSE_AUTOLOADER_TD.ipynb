{
 "cells": [
  {
   "cell_type": "code",
   "execution_count": 0,
   "metadata": {
    "application/vnd.databricks.v1+cell": {
     "cellMetadata": {
      "byteLimit": 2048000,
      "rowLimit": 10000
     },
     "inputWidgets": {},
     "nuid": "fe8b8579-1f8c-419e-a16b-c2aa7b9b32d7",
     "showTitle": false,
     "tableResultSettingsMap": {},
     "title": ""
    }
   },
   "outputs": [],
   "source": [
    "from azure.storage.blob import BlobServiceClient\n",
    "from pyspark.sql.functions import col, decode, split, element_at,udf,input_file_name,regexp_extract,expr\n",
    "from pyspark.sql.types import StructType, StructField, StringType, IntegerType, TimestampType, LongType"
   ]
  },
  {
   "cell_type": "code",
   "execution_count": 0,
   "metadata": {
    "application/vnd.databricks.v1+cell": {
     "cellMetadata": {
      "byteLimit": 2048000,
      "rowLimit": 10000
     },
     "inputWidgets": {},
     "nuid": "b3064dc6-ae9b-4e63-8339-26ed44160a42",
     "showTitle": true,
     "tableResultSettingsMap": {},
     "title": "Define Schema for ARIAB Transaction Logs"
    }
   },
   "outputs": [],
   "source": [
    "\n",
    "expected_schema = StructType([\n",
    "    StructField(\"operation\", StringType(), True),\n",
    "    StructField(\"transaction_id\", StringType(), True),\n",
    "    StructField(\"relation_id\", StringType(), True),\n",
    "    StructField(\"a360_record_id\", StringType(), True),\n",
    "    StructField(\"process_time\", TimestampType(), True),\n",
    "    StructField(\"status\", IntegerType(), True),\n",
    "    StructField(\"input\", StringType(), True),  # Contains nested JSON as a string\n",
    "    StructField(\"exception_description\", StringType(), True),\n",
    "    StructField(\"error_status\", StringType(), True),\n",
    "    StructField(\"a360_file_id\", StringType(), True),\n",
    "    StructField(\"file_size\", LongType(), True),\n",
    "    StructField(\"s_md5\", StringType(), True),\n",
    "    StructField(\"s_sha256\", StringType(), True),\n",
    "    StructField(\"timestamp\", TimestampType(), True),  # may be used as process_time\n",
    "    StructField(\"filename\", StringType(), True),\n",
    "    StructField(\"submission_folder\", StringType(), True),\n",
    "    StructField(\"file_hash\", StringType(), True)\n",
    "])"
   ]
  },
  {
   "cell_type": "code",
   "execution_count": 0,
   "metadata": {
    "application/vnd.databricks.v1+cell": {
     "cellMetadata": {
      "byteLimit": 2048000,
      "rowLimit": 10000
     },
     "inputWidgets": {},
     "nuid": "b2de9ecc-5dae-46bb-a899-5c7bd845b1ba",
     "showTitle": true,
     "tableResultSettingsMap": {},
     "title": "Set Up Auto Loader for ARIAB Response Files"
    }
   },
   "outputs": [],
   "source": [
    "#### Set up Auto Loader job\n",
    "\n",
    "sas_token = dbutils.secrets.get(scope=\"ingest00-meta002-sbox\", key=\"ARIATD-SAS-TOKEN\")\n",
    "storage_account_name = \"a360c2x2555dz\"\n",
    "container_name = \"dropzone\"\n",
    "sub_dir = \"ARIATD/response\"\n",
    "\n",
    "input_path = f\"wasbs://{container_name}@{storage_account_name}.blob.core.windows.net/{sub_dir}\"\n",
    "\n",
    "spark.conf.set(\n",
    "    f\"fs.azure.sas.{container_name}.{storage_account_name}.blob.core.windows.net\",\n",
    "    sas_token\n",
    ")\n",
    "\n",
    "# schema_location = \"/mnt/autoLoaderSchema/ARMJOH/response/read_stream\"\n",
    "\n",
    "# Define a file regex that matches files ending with .rsp\n",
    "file_regex = \".*\\\\.rsp$\"\n",
    "\n",
    "output_container_name = \"silver\" \n",
    "\n",
    "output_storage_account_name = \"ingest00curatedsbox\"\n",
    "\n",
    "output_subdir_amalgamated_responses = \"ARIADM/ARM/response/TD/amalgamated_responses\"\n",
    "amalgamated_responses_path = f\"wasbs://{output_container_name}@{output_storage_account_name}.blob.core.windows.net/{output_subdir_amalgamated_responses}\"\n",
    "\n",
    "\n",
    "\n",
    "output_subdir_input_upload = \"ARIADM/ARM/response/TD/input_upload\"\n",
    "input_upload_responses_path = f\"wasbs://{output_container_name}@{output_storage_account_name}.blob.core.windows.net/{output_subdir_input_upload}\"\n",
    "\n",
    "\n",
    "output_subdir_create_record_upload = \"ARIADM/ARM/response/TD/create_record\"\n",
    "create_record_responses_path = f\"wasbs://{output_container_name}@{output_storage_account_name}.blob.core.windows.net/{output_subdir_create_record_upload}\"\n",
    "\n",
    "\n",
    "output_subdir_upload_file_upload = \"ARIADM/ARM/response/TD/upload_file\"\n",
    "upload_file_responses_path = f\"wasbs://{output_container_name}@{output_storage_account_name}.blob.core.windows.net/{output_subdir_upload_file_upload}\""
   ]
  },
  {
   "cell_type": "code",
   "execution_count": 0,
   "metadata": {
    "application/vnd.databricks.v1+cell": {
     "cellMetadata": {
      "byteLimit": 2048000,
      "rowLimit": 10000
     },
     "inputWidgets": {},
     "nuid": "6771dfbc-cbc4-413b-a3e3-2557cec9cee5",
     "showTitle": false,
     "tableResultSettingsMap": {},
     "title": ""
    }
   },
   "outputs": [],
   "source": [
    "# Service principal credentials\n",
    "client_id = dbutils.secrets.get(\"ingest00-meta002-sbox\", \"SERVICE-PRINCIPLE-CLIENT-ID\")\n",
    "client_secret = dbutils.secrets.get(\"ingest00-meta002-sbox\", \"SERVICE-PRINCIPLE-CLIENT-SECRET\")\n",
    "tenant_id = dbutils.secrets.get(\"ingest00-meta002-sbox\", \"SERVICE-PRINCIPLE-TENANT-ID\")\n",
    "\n",
    "# Storage account names\n",
    "\n",
    "checkpoint_storage = \"ingest00xcuttingsbox\"\n",
    "\n",
    "\n",
    "# Spark config for checkpoint storage\n",
    "spark.conf.set(f\"fs.azure.account.auth.type.{checkpoint_storage}.dfs.core.windows.net\", \"OAuth\")\n",
    "spark.conf.set(f\"fs.azure.account.oauth.provider.type.{checkpoint_storage}.dfs.core.windows.net\", \"org.apache.hadoop.fs.azurebfs.oauth2.ClientCredsTokenProvider\")\n",
    "spark.conf.set(f\"fs.azure.account.oauth2.client.id.{checkpoint_storage}.dfs.core.windows.net\", client_id)\n",
    "spark.conf.set(f\"fs.azure.account.oauth2.client.secret.{checkpoint_storage}.dfs.core.windows.net\", client_secret)\n",
    "spark.conf.set(f\"fs.azure.account.oauth2.client.endpoint.{checkpoint_storage}.dfs.core.windows.net\", f\"https://login.microsoftonline.com/{tenant_id}/oauth2/token\")\n",
    "\n",
    "\n",
    "spark.conf.set(f\"fs.azure.account.auth.type.{output_storage_account_name}.dfs.core.windows.net\", \"OAuth\")\n",
    "spark.conf.set(f\"fs.azure.account.oauth.provider.type.{output_storage_account_name}.dfs.core.windows.net\", \"org.apache.hadoop.fs.azurebfs.oauth2.ClientCredsTokenProvider\")\n",
    "spark.conf.set(f\"fs.azure.account.oauth2.client.id.{output_storage_account_name}.dfs.core.windows.net\", client_id)\n",
    "spark.conf.set(f\"fs.azure.account.oauth2.client.secret.{output_storage_account_name}.dfs.core.windows.net\", client_secret)\n",
    "spark.conf.set(f\"fs.azure.account.oauth2.client.endpoint.{output_storage_account_name}.dfs.core.windows.net\", f\"https://login.microsoftonline.com/{tenant_id}/oauth2/token\")\n",
    "\n",
    "\n",
    "\n",
    "check_point_path = \"abfss://db-rsp-checkpoint@ingest00xcuttingsbox.dfs.core.windows.net/ARMTD/RSP/\"\n",
    "\n",
    "schema_location = \"abfss://db-rsp-checkpoint@ingest00xcuttingsbox.dfs.core.windows.net/ARMTD/RSP/schema\""
   ]
  },
  {
   "cell_type": "code",
   "execution_count": 0,
   "metadata": {
    "application/vnd.databricks.v1+cell": {
     "cellMetadata": {
      "byteLimit": 2048000,
      "rowLimit": 10000
     },
     "inputWidgets": {},
     "nuid": "0134ddf8-abb7-48de-8944-b270a66098c9",
     "showTitle": true,
     "tableResultSettingsMap": {},
     "title": "Load JSON Files with Autoloader and Add UUID Column"
    }
   },
   "outputs": [],
   "source": [
    "### Run autoloader read stream\n",
    "\n",
    "\n",
    "df = (spark.readStream.format(\"cloudFiles\")\n",
    "      .schema(expected_schema)\n",
    "    .option(\"cloudFiles.format\", \"json\")\n",
    "    .option(\"cloudFiles.schemaLocation\", schema_location)\n",
    "    .option(\"multiline\", \"true\")\n",
    "    .option(\"cloudFiles.schemaEvolutionMode\", \"none\")\n",
    "    .option(\"checkpointLocation\", f\"{check_point_path}/rsp_readStream\")\n",
    "    .load(input_path)\n",
    "    .select( \"*\",col(\"_metadata.file_path\").alias(\"_file_path\"),\n",
    "             col(\"_metadata.file_modification_time\").alias(\"_file_modification_time\")\n",
    ")\n",
    "    .withColumn(\"id\", expr(\"uuid()\")))"
   ]
  },
  {
   "cell_type": "code",
   "execution_count": 0,
   "metadata": {
    "application/vnd.databricks.v1+cell": {
     "cellMetadata": {
      "byteLimit": 2048000,
      "rowLimit": 10000
     },
     "inputWidgets": {},
     "nuid": "19b1344b-bb6a-478f-ab75-faf44f8d3c0b",
     "showTitle": true,
     "tableResultSettingsMap": {},
     "title": "Save Complete Table to Silver Container in Blob Storage"
    }
   },
   "outputs": [],
   "source": [
    "### 4 write streams to Silver container in blob storage\n",
    "\n",
    "output_sas = dbutils.secrets.get(scope=\"ingest00-meta002-sbox\", key=\"CURATED-SAS-TOKEN\")\n",
    "\n",
    "spark.conf.set(\n",
    "    f\"fs.azure.sas.{output_container_name}.{output_storage_account_name}.blob.core.windows.net\",\n",
    "    output_sas\n",
    ")\n",
    "\n",
    "### first save the complete table\n",
    "\n",
    "df_complete = df.writeStream \\\n",
    "    .queryName(\"amalgamated\") \\\n",
    "    .format(\"delta\")\\\n",
    "        .option(\"checkpointLocation\", f\"{check_point_path}/amalgamated\")\\\n",
    "            .outputMode(\"append\")\\\n",
    "                    .start(amalgamated_responses_path)               "
   ]
  },
  {
   "cell_type": "code",
   "execution_count": 0,
   "metadata": {
    "application/vnd.databricks.v1+cell": {
     "cellMetadata": {
      "byteLimit": 2048000,
      "rowLimit": 10000
     },
     "inputWidgets": {},
     "nuid": "af78918f-0723-48ca-874c-2236cd09a5df",
     "showTitle": true,
     "tableResultSettingsMap": {},
     "title": "Stream Delta Table for ARMAppeals Create Record"
    }
   },
   "outputs": [],
   "source": [
    "### Create Record table\n",
    "df_create_upload = df.select(\"id\",\"operation\",\"transaction_id\",\"relation_id\",\"a360_record_id\",\"process_time\",\"status\",\"input\",\"exception_description\",\"error_status\",\"_file_path\",\"_file_modification_time\"\n",
    ").filter(col(\"operation\")==\"create_record\")\\\n",
    "    .writeStream \\\n",
    "    .queryName(\"create_record\") \\\n",
    "    .format(\"delta\")\\\n",
    "        .option(\"checkpointLocation\", f\"{check_point_path}/create_record\")\\\n",
    "            .outputMode(\"append\")\\\n",
    "                .start(create_record_responses_path)"
   ]
  },
  {
   "cell_type": "code",
   "execution_count": 0,
   "metadata": {
    "application/vnd.databricks.v1+cell": {
     "cellMetadata": {
      "byteLimit": 2048000,
      "rowLimit": 10000
     },
     "inputWidgets": {},
     "nuid": "ca92cd23-a518-4a3d-b975-2de5a46f9e56",
     "showTitle": false,
     "tableResultSettingsMap": {},
     "title": ""
    }
   },
   "outputs": [],
   "source": [
    "### upload file table\n",
    "df_upload = df.select(\"id\",\"operation\",\"transaction_id\",\"relation_id\",\"a360_record_id\",\"process_time\",\"status\",\"input\",\"exception_description\",\"error_status\",\"a360_file_id\",\"file_size\",\"s_md5\",\"s_sha256\",\"_file_path\",\"_file_modification_time\"\n",
    ").filter(col(\"operation\")==\"upload_new_file\")\\\n",
    "    .writeStream \\\n",
    "    .queryName(\"upload_new_file\") \\\n",
    "    .format(\"delta\")\\\n",
    "        .option(\"checkpointLocation\", f\"{check_point_path}/upload_file\")\\\n",
    "            .outputMode(\"append\")\\\n",
    "                .start(upload_file_responses_path)"
   ]
  },
  {
   "cell_type": "code",
   "execution_count": 0,
   "metadata": {
    "application/vnd.databricks.v1+cell": {
     "cellMetadata": {
      "byteLimit": 2048000,
      "rowLimit": 10000
     },
     "inputWidgets": {},
     "nuid": "e6e31917-b32a-4df5-bd2f-4cf55de6c135",
     "showTitle": true,
     "tableResultSettingsMap": {},
     "title": "Stream Delta Table for ARMAppeals Input Upload"
    }
   },
   "outputs": [],
   "source": [
    "### Input upload table\n",
    "\n",
    "df_input_upload = df.select(\"id\",\"operation\",\"timestamp\",\"status\",\"exception_description\",\"error_status\",\"filename\",\"submission_folder\",\"file_hash\",\"_file_path\",\"_file_modification_time\"\n",
    ").filter(col(\"operation\")==\"input_upload\")\\\n",
    "    .writeStream \\\n",
    "    .queryName(\"input_upload\") \\\n",
    "    .format(\"delta\")\\\n",
    "        .option(\"checkpointLocation\", f\"{check_point_path}/input_upload\")\\\n",
    "            .outputMode(\"append\")\\\n",
    "                .start(input_upload_responses_path)"
   ]
  },
  {
   "cell_type": "code",
   "execution_count": null,
   "metadata": {},
   "outputs": [],
   "source": [
    "# Wait 15 minutes for any stream to stop itself, or auto stop after 15mins.\n",
    "\n",
    "try:\n",
    "    spark.streams.awaitAnyTermination(900)\n",
    "finally:\n",
    "    # Stop all streams\n",
    "    df_complete.stop()\n",
    "    df_input_upload.stop()\n",
    "    df_create_upload.stop()\n",
    "    df_upload.stop()\n",
    "    print(\"All streams have been stopped\")\n",
    "\n",
    "\n",
    "df_input_upload = spark.read.format(\"delta\").load(input_upload_responses_path)\n",
    " \n",
    "# # Read the response data for create_record_upload\n",
    "df_create_record_upload = spark.read.format(\"delta\").load(create_record_responses_path)\n",
    " \n",
    "# # Read the response data for upload_file\n",
    "df_upload_file_upload = spark.read.format(\"delta\").load(upload_file_responses_path) \n",
    " \n",
    "# Read the response data for df_amalgamated_responses\n",
    "df_amalgamated_responses = spark.read.format(\"delta\").load(amalgamated_responses_path)\n",
    "\n",
    "print(f\"Records in df_input_upload: {df_input_upload.count()}\")\n",
    "print(f\"Records in df_create_record_upload: {df_create_record_upload.count()}\")\n",
    "print(f\"Records in df_upload_file_upload: {df_upload_file_upload.count()}\")\n",
    "print(f\"Records in df_amalgamated_responses: {df_amalgamated_responses.count()}\")"
   ]
  },
  {
   "cell_type": "code",
   "execution_count": 0,
   "metadata": {
    "application/vnd.databricks.v1+cell": {
     "cellMetadata": {
      "byteLimit": 2048000,
      "rowLimit": 10000
     },
     "inputWidgets": {},
     "nuid": "ba0d3129-bc06-457f-8f7d-b4042b0456b9",
     "showTitle": false,
     "tableResultSettingsMap": {},
     "title": ""
    }
   },
   "outputs": [],
   "source": [
    "dbutils.notebook.exit(\"Notebook execution completed successfully.\")"
   ]
  }
 ],
 "metadata": {
  "application/vnd.databricks.v1+notebook": {
   "computePreferences": null,
   "dashboards": [],
   "environmentMetadata": {
    "base_environment": "",
    "environment_version": "2"
   },
   "inputWidgetPreferences": null,
   "language": "python",
   "notebookMetadata": {
    "mostRecentlyExecutedCommandWithImplicitDF": {
     "commandId": 8492011652829405,
     "dataframes": [
      "_sqldf"
     ]
    },
    "pythonIndentUnit": 4
   },
   "notebookName": "ARIADM_ARM_RESPONSE_AUTOLOADER_TD",
   "widgets": {}
  },
  "language_info": {
   "name": "python"
  }
 },
 "nbformat": 4,
 "nbformat_minor": 0
}
