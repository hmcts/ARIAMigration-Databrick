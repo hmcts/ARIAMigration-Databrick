{
 "cells": [
  {
   "cell_type": "code",
   "execution_count": 0,
   "metadata": {
    "application/vnd.databricks.v1+cell": {
     "cellMetadata": {
      "byteLimit": 2048000,
      "rowLimit": 10000
     },
     "inputWidgets": {},
     "nuid": "3aa0fc98-8978-4a16-93d0-4c1539095120",
     "showTitle": false,
     "tableResultSettingsMap": {},
     "title": ""
    }
   },
   "outputs": [],
   "source": [
    "message = '''{\n",
    "    \"operation\": \"create_record\",\n",
    "    \"relation_id\": \"TH/00002/2004\",\n",
    "    \"record_metadata\": {\n",
    "        \"publisher\": \"ARIA\",\n",
    "        \"record_class\": \"ARIAFTA\",\n",
    "        \"region\": \"GBR\",\n",
    "        \"recordDate\": \"2025-04-24T13:43:02Z\",\n",
    "        \"event_date\": \"2025-04-24T13:43:02Z\",\n",
    "        \"client_identifier\": \"TH/00002/2004\",\n",
    "        \"entitlement_tag\": \"IA_Tribunal\",\n",
    "        \"bf_002\": \"Era\",\n",
    "        \"bf_003\": \"Strople\",\n",
    "        \"bf_004\": \"1946-09-25T00:00:00Z\"\n",
    "    }\n",
    "}\n",
    "{\n",
    "    \"operation\": \"upload_new_file\",\n",
    "    \"relation_id\": \"TH/00002/2004\",\n",
    "    \"file_metadata\": {\n",
    "        \"publisher\": \"ARIA\",\n",
    "        \"dz_file_name\": \"appeals_TH_00002_2004.html\",\n",
    "        \"file_tag\": \"html\"\n",
    "    }\n",
    "}\n",
    "{\n",
    "    \"operation\": \"upload_new_file\",\n",
    "    \"relation_id\": \"TH/00002/2004\",\n",
    "    \"file_metadata\": {\n",
    "        \"publisher\": \"ARIA\",\n",
    "        \"dz_file_name\": \"appeals_TH_00002_2004.json\",\n",
    "        \"file_tag\": \"json\"\n",
    "    }\n",
    "}'''\n"
   ]
  },
  {
   "cell_type": "code",
   "execution_count": 0,
   "metadata": {
    "application/vnd.databricks.v1+cell": {
     "cellMetadata": {
      "byteLimit": 2048000,
      "rowLimit": 10000
     },
     "inputWidgets": {},
     "nuid": "cfddcb5d-0fce-4af9-b0f5-bc7012a40144",
     "showTitle": false,
     "tableResultSettingsMap": {},
     "title": ""
    }
   },
   "outputs": [],
   "source": [
    "from azure.storage.blob import ContainerClient\n"
   ]
  },
  {
   "cell_type": "code",
   "execution_count": 0,
   "metadata": {
    "application/vnd.databricks.v1+cell": {
     "cellMetadata": {
      "byteLimit": 2048000,
      "rowLimit": 10000
     },
     "inputWidgets": {},
     "nuid": "955c3dd5-b09d-4e99-b763-307a8d0a7a5f",
     "showTitle": false,
     "tableResultSettingsMap": {},
     "title": ""
    }
   },
   "outputs": [],
   "source": [
    "sas_token = dbutils.secrets.get(scope=\"ingest00-meta002-sbox\", key=\"ARIAFTA-SAS-TOKEN\")\n",
    "storage_account_name = \"a360c2x2555dz\"\n",
    "container_name = \"dropzone\"\n",
    "sub_dir = \"ARIAFTA/Submission\"\n",
    "\n",
    "blob_name = \"test1.a360\"\n",
    "\n",
    "account_url = f\"https://{storage_account_name}.blob.core.windows.net\"\n",
    "\n",
    "\n",
    "container_client = ContainerClient(account_url, container_name, credential=sas_token)\n",
    "\n",
    "with container_client.get_blob_client(blob_name) as blob_client:\n",
    "    blob_client.upload_blob(message, overwrite=True)\n"
   ]
  },
  {
   "cell_type": "code",
   "execution_count": 0,
   "metadata": {
    "application/vnd.databricks.v1+cell": {
     "cellMetadata": {
      "byteLimit": 2048000,
      "rowLimit": 10000
     },
     "inputWidgets": {},
     "nuid": "5b25ae1b-d266-4320-92a3-a6058aa34b21",
     "showTitle": false,
     "tableResultSettingsMap": {},
     "title": ""
    }
   },
   "outputs": [],
   "source": [
    "print(f\"{account_url}/{container_name}/{blob_name}{sas_token}\")\n"
   ]
  },
  {
   "cell_type": "code",
   "execution_count": 0,
   "metadata": {
    "application/vnd.databricks.v1+cell": {
     "cellMetadata": {
      "byteLimit": 2048000,
      "rowLimit": 10000
     },
     "inputWidgets": {},
     "nuid": "d47bab75-2b83-4657-955f-acf576bc8cab",
     "showTitle": false,
     "tableResultSettingsMap": {},
     "title": ""
    }
   },
   "outputs": [],
   "source": [
    "dbutils.fs.mount(\n",
    "    source = account_url,\n",
    "    mount_point = \"/mnt/dropzoneARIAFTA\",\n",
    "    extra_configs = {\"fs.azure.sas.ingest00curatedsbox.blob.core.windows.net.blob.account.key\": sas_token}\n",
    ")"
   ]
  },
  {
   "cell_type": "code",
   "execution_count": 0,
   "metadata": {
    "application/vnd.databricks.v1+cell": {
     "cellMetadata": {},
     "inputWidgets": {},
     "nuid": "932702eb-55cf-48b5-8450-671b31e7cd29",
     "showTitle": false,
     "tableResultSettingsMap": {},
     "title": ""
    }
   },
   "outputs": [],
   "source": []
  }
 ],
 "metadata": {
  "application/vnd.databricks.v1+notebook": {
   "computePreferences": null,
   "dashboards": [],
   "environmentMetadata": {
    "base_environment": "",
    "environment_version": "2"
   },
   "inputWidgetPreferences": null,
   "language": "python",
   "notebookMetadata": {
    "pythonIndentUnit": 4
   },
   "notebookName": "test_option_2",
   "widgets": {}
  },
  "language_info": {
   "name": "python"
  }
 },
 "nbformat": 4,
 "nbformat_minor": 0
}
