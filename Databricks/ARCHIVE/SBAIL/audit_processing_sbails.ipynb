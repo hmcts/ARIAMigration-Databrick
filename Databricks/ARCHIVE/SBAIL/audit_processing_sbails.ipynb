{
 "cells": [
  {
   "cell_type": "code",
   "execution_count": 0,
   "metadata": {
    "application/vnd.databricks.v1+cell": {
     "cellMetadata": {
      "byteLimit": 2048000,
      "rowLimit": 10000
     },
     "inputWidgets": {},
     "nuid": "652d9fb3-202b-44a2-bcbb-39bb281a4fb0",
     "showTitle": false,
     "tableResultSettingsMap": {},
     "title": ""
    }
   },
   "outputs": [],
   "source": [
    "import dlt\n",
    "import json\n",
    "from pyspark.sql.functions import *\n",
    "from pyspark.sql.types import *\n",
    "from concurrent.futures import ThreadPoolExecutor, as_completed\n",
    "from datetime import datetime\n",
    "from pyspark.sql.window import Window\n",
    "import uuid\n",
    "from delta.tables import DeltaTable"
   ]
  },
  {
   "cell_type": "code",
   "execution_count": 0,
   "metadata": {
    "application/vnd.databricks.v1+cell": {
     "cellMetadata": {
      "byteLimit": 2048000,
      "rowLimit": 10000
     },
     "inputWidgets": {},
     "nuid": "eaf9bd00-c909-498e-8d4a-876b97d221fc",
     "showTitle": false,
     "tableResultSettingsMap": {},
     "title": ""
    }
   },
   "outputs": [],
   "source": [
    "## Set up configs"
   ]
  },
  {
   "cell_type": "code",
   "execution_count": 0,
   "metadata": {
    "application/vnd.databricks.v1+cell": {
     "cellMetadata": {
      "byteLimit": 2048000,
      "rowLimit": 10000
     },
     "inputWidgets": {},
     "nuid": "1fb627ca-da92-4b40-86a1-6cfb23534c60",
     "showTitle": false,
     "tableResultSettingsMap": {},
     "title": ""
    }
   },
   "outputs": [],
   "source": [
    "config = spark.read.option(\"multiline\", \"true\").json(\"dbfs:/configs/config.json\")\n",
    "env = config.first()[\"env\"].strip().lower()\n",
    "lz_key = config.first()[\"lz_key\"].strip().lower()"
   ]
  },
  {
   "cell_type": "code",
   "execution_count": 0,
   "metadata": {
    "application/vnd.databricks.v1+cell": {
     "cellMetadata": {
      "byteLimit": 2048000,
      "rowLimit": 10000
     },
     "inputWidgets": {},
     "nuid": "d1ff4ddf-c802-4761-9857-dd07941359be",
     "showTitle": false,
     "tableResultSettingsMap": {},
     "title": ""
    }
   },
   "outputs": [],
   "source": [
    "keyvault_name = f\"ingest{lz_key}-meta002-{env}\""
   ]
  },
  {
   "cell_type": "code",
   "execution_count": 0,
   "metadata": {
    "application/vnd.databricks.v1+cell": {
     "cellMetadata": {
      "byteLimit": 2048000,
      "rowLimit": 10000
     },
     "inputWidgets": {},
     "nuid": "3b90b8b5-4a46-489c-bddf-5d747b2240df",
     "showTitle": false,
     "tableResultSettingsMap": {},
     "title": ""
    }
   },
   "outputs": [],
   "source": [
    "# Access the Service Principle secrets from keyvaults\n",
    "client_secret = dbutils.secrets.get(scope=keyvault_name, key='SERVICE-PRINCIPLE-CLIENT-SECRET')\n",
    "tenant_id = dbutils.secrets.get(scope=keyvault_name, key='SERVICE-PRINCIPLE-TENANT-ID')\n",
    "client_id = dbutils.secrets.get(scope=keyvault_name, key='SERVICE-PRINCIPLE-CLIENT-ID')"
   ]
  },
  {
   "cell_type": "code",
   "execution_count": 0,
   "metadata": {
    "application/vnd.databricks.v1+cell": {
     "cellMetadata": {
      "byteLimit": 2048000,
      "rowLimit": 10000
     },
     "inputWidgets": {},
     "nuid": "27c37f2c-9919-4b2f-afe5-2dd0c30eb069",
     "showTitle": false,
     "tableResultSettingsMap": {},
     "title": ""
    }
   },
   "outputs": [],
   "source": [
    "curated_storage_account = f\"ingest{lz_key}curated{env}\"\n",
    "\n",
    "silver_curated_container = \"silver\""
   ]
  },
  {
   "cell_type": "code",
   "execution_count": 0,
   "metadata": {
    "application/vnd.databricks.v1+cell": {
     "cellMetadata": {
      "byteLimit": 2048000,
      "rowLimit": 10000
     },
     "inputWidgets": {},
     "nuid": "043cf3db-6394-4272-ad24-6c11c41a739d",
     "showTitle": false,
     "tableResultSettingsMap": {},
     "title": ""
    }
   },
   "outputs": [],
   "source": [
    "storage_accounts = [curated_storage_account]\n",
    "\n",
    "for storage_account in storage_accounts:\n",
    "    configs = {\n",
    "            f\"fs.azure.account.auth.type.{storage_account}.dfs.core.windows.net\": \"OAuth\",\n",
    "            f\"fs.azure.account.oauth.provider.type.{storage_account}.dfs.core.windows.net\":\n",
    "                \"org.apache.hadoop.fs.azurebfs.oauth2.ClientCredsTokenProvider\",\n",
    "            f\"fs.azure.account.oauth2.client.id.{storage_account}.dfs.core.windows.net\": client_id,\n",
    "            f\"fs.azure.account.oauth2.client.secret.{storage_account}.dfs.core.windows.net\": client_secret,\n",
    "            f\"fs.azure.account.oauth2.client.endpoint.{storage_account}.dfs.core.windows.net\":\n",
    "                f\"https://login.microsoftonline.com/{tenant_id}/oauth2/token\"\n",
    "        }\n",
    "    for key,val in configs.items():\n",
    "        spark.conf.set(key,val)"
   ]
  },
  {
   "cell_type": "code",
   "execution_count": 0,
   "metadata": {
    "application/vnd.databricks.v1+cell": {
     "cellMetadata": {
      "byteLimit": 2048000,
      "rowLimit": 10000
     },
     "inputWidgets": {},
     "nuid": "b72c051d-64bf-47e7-8049-f750d268ef3f",
     "showTitle": false,
     "tableResultSettingsMap": {},
     "title": ""
    }
   },
   "outputs": [],
   "source": [
    "# Print out the auth config for each storage account to confirm\n",
    "for storage_account in storage_accounts:\n",
    "    key = f\"fs.azure.account.auth.type.{storage_account}.dfs.core.windows.net\"\n",
    "    print(f\"{key}: {spark.conf.get(key, 'MISSING')}\")"
   ]
  },
  {
   "cell_type": "code",
   "execution_count": 0,
   "metadata": {
    "application/vnd.databricks.v1+cell": {
     "cellMetadata": {
      "byteLimit": 2048000,
      "rowLimit": 10000
     },
     "inputWidgets": {},
     "nuid": "ad28e04d-a142-4c00-8e85-19863c3378d2",
     "showTitle": false,
     "tableResultSettingsMap": {},
     "title": ""
    }
   },
   "outputs": [],
   "source": [
    "audit_delta_path = f\"abfss://{silver_curated_container}@{curated_storage_account}.dfs.core.windows.net/ARIADM/ARM/AUDIT/SBAILS/bl_cr_audit_table\""
   ]
  },
  {
   "cell_type": "code",
   "execution_count": 0,
   "metadata": {
    "application/vnd.databricks.v1+cell": {
     "cellMetadata": {
      "byteLimit": 2048000,
      "rowLimit": 10000
     },
     "inputWidgets": {},
     "nuid": "03d15677-9c48-4c80-a4e6-dc6818686754",
     "showTitle": false,
     "tableResultSettingsMap": {},
     "title": ""
    }
   },
   "outputs": [],
   "source": [
    "# audit_delta_path = \"/mnt/ingest00curatedsboxsilver/ARIADM/ARM/AUDIT/BAILS/bl_cr_audit_table\"\n",
    "hive_schema = \"aria_sbails\""
   ]
  },
  {
   "cell_type": "code",
   "execution_count": 0,
   "metadata": {
    "application/vnd.databricks.v1+cell": {
     "cellMetadata": {
      "byteLimit": 2048000,
      "rowLimit": 10000
     },
     "inputWidgets": {},
     "nuid": "5d26603e-8c23-4ad1-8798-79a91b577483",
     "showTitle": false,
     "tableResultSettingsMap": {},
     "title": ""
    }
   },
   "outputs": [],
   "source": [
    "\n",
    "\n",
    "def datetime_uuid():\n",
    "    dt_str = datetime.utcnow().strftime(\"%Y-%m-%d %H:%M:%S\")\n",
    "    return str(uuid.uuid5(uuid.NAMESPACE_DNS, dt_str))\n",
    "\n",
    "run_id_value = datetime_uuid()\n",
    "\n",
    "audit_schema = StructType([\n",
    "    StructField(\"Run_Id\", StringType(), True),\n",
    "    StructField(\"Unique_Identifier_Desc\", StringType(), True),\n",
    "    StructField(\"Unique_Identifier\", StringType(), True),\n",
    "    StructField(\"Table_Name\", StringType(), True),\n",
    "    StructField(\"Stage_Name\", StringType(), True),\n",
    "    StructField(\"Record_Count\", IntegerType(), True),\n",
    "    StructField(\"Run_DateTime\", TimestampType(), True),\n",
    "    StructField(\"Batch_Id\", StringType(), True),\n",
    "    StructField(\"Description\", StringType(), True),\n",
    "    StructField(\"File_Name\", StringType(), True),\n",
    "    StructField(\"Status\", StringType(), True)\n",
    "])\n",
    "\n",
    "def create_audit_df(df: DataFrame, Unique_Identifier_Desc: str,Table_Name: str, Stage_Name: str, description: str, File_Name = False,status = False,batchid = False) -> None:\n",
    "    \"\"\"\n",
    "    Creates an audit DataFrame and writes it to Delta format.\n",
    "\n",
    "    :param df: Input DataFrame from which unique identifiers are extracted.\n",
    "    :param Unique_Identifier_Desc: Column name that acts as a unique identifier.\n",
    "    :param Table_Name: Name of the source table.\n",
    "    :param Stage_Name: Name of the data processing stage.\n",
    "    :param description: Description of the table.\n",
    "    :param File_Name: Optional column name for file names. Default is False.\n",
    "    :param status: Optional column name for status. Default is False.\n",
    "    :param Batch_Id: Optional column name for batch ID. Default is False\n",
    "    \"\"\"\n",
    "\n",
    "    dt_desc = datetime.utcnow()\n",
    "\n",
    "    additional_columns = []\n",
    "    if File_Name is True:\n",
    "        additional_columns.append(\"File_Name\")\n",
    "    if status is True:\n",
    "        additional_columns.append(\"Status\")\n",
    "    if batchid is True:\n",
    "        additional_columns.append(\"batchid\")\n",
    "\n",
    "\n",
    "     # Default to an empty list if None   \n",
    "    additional_columns = [col(c) for c in additional_columns if c is not None]  # Filter out None values\n",
    "\n",
    "    audit_df = df.select(col(Unique_Identifier_Desc).alias(\"Unique_Identifier\"),*additional_columns)\\\n",
    "    .withColumn(\"Run_Id\", lit(run_id_value))\\\n",
    "        .withColumn(\"Unique_Identifier_Desc\", lit(Unique_Identifier_Desc))\\\n",
    "            .withColumn(\"Stage_Name\", lit(Stage_Name))\\\n",
    "                .withColumn(\"Table_Name\", lit(Table_Name))\\\n",
    "                    .withColumn(\"Run_DateTime\", lit(dt_desc).cast(TimestampType()))\\\n",
    "                        .withColumn(\"Description\", lit(description))\n",
    "\n",
    "    list_cols = audit_df.columns\n",
    "\n",
    "    final_audit_df = audit_df.groupBy(*list_cols).agg(count(\"*\").cast(IntegerType()).alias(\"Record_Count\"))\n",
    "\n",
    "    final_audit_df.write.format(\"delta\").mode(\"append\").option(\"mergeSchema\",\"true\").save(audit_delta_path)\n",
    "    \n",
    "    return final_audit_df"
   ]
  },
  {
   "cell_type": "code",
   "execution_count": 0,
   "metadata": {
    "application/vnd.databricks.v1+cell": {
     "cellMetadata": {
      "byteLimit": 2048000,
      "rowLimit": 10000
     },
     "inputWidgets": {},
     "nuid": "9cc2f226-ef22-41fb-a670-1a13695aeb97",
     "showTitle": false,
     "tableResultSettingsMap": {},
     "title": ""
    }
   },
   "outputs": [],
   "source": [
    "# Define Delta Table Path in Azure Storage\n",
    "\n",
    "\n",
    "if not DeltaTable.isDeltaTable(spark, audit_delta_path):\n",
    "    print(f\"🛑 Delta table '{audit_delta_path}' does not exist. Creating an empty Delta table...\")\n",
    "\n",
    "    # Create an empty DataFrame\n",
    "    empty_df = spark.createDataFrame([], audit_schema)\n",
    "\n",
    "    # Write the empty DataFrame in Delta format to create the table\n",
    "    empty_df.write.format(\"delta\").mode(\"overwrite\").save(audit_delta_path)\n",
    "\n",
    "    print(\"✅ Empty Delta table successfully created in Azure Storage.\")\n",
    "else:\n",
    "    print(f\"⚡ Delta table '{audit_delta_path}' already exists.\")"
   ]
  },
  {
   "cell_type": "code",
   "execution_count": 0,
   "metadata": {
    "application/vnd.databricks.v1+cell": {
     "cellMetadata": {
      "byteLimit": 2048000,
      "rowLimit": 10000
     },
     "inputWidgets": {},
     "nuid": "c14a5b8e-05a3-4297-a7ea-6f3f2fb60014",
     "showTitle": false,
     "tableResultSettingsMap": {},
     "title": ""
    }
   },
   "outputs": [],
   "source": [
    "audit_params = [\n",
    "            {\n",
    "        \"Unique_Identifier_cols\": \"CaseNo\",\n",
    "        \"Table_Name\": \"bronze_sbail_ac_cr_cs_ca_fl_cres_mr_res_lang\",\n",
    "        \"Stage_Name\": \"bronze_stage\",\n",
    "        \"description\": \"The bronze_sbail_ac_cr_cs_ca_fl_cres_mr_res_lang table consolidates key details of appeal cases, including case numbers, court preferences, hearing dates, language requirements, and respondents, alongside associated embassy, representative, and cost award information. It joins multiple tables to provide a comprehensive dataset for tracking legal proceedings and related entities\"\n",
    "    },\n",
    "            {\n",
    "        \"Unique_Identifier_cols\": \"CaseNo\",\n",
    "        \"Table_Name\": \"bronze_sbail_ac_ca_apt_country_detc\",\n",
    "        \"Stage_Name\": \"bronze_stage\",\n",
    "        \"description\": \"The bronze_sbail_ac_ca_apt_country_detc table consolidates key details related to appellants in bail cases. It joins data from multiple sources, including case appellant records, appellant personal details, detention centre information, and country data. The table provides a comprehensive view of the appellant’s identity, detention status, and nationality, linking them to their respective case numbers. Key attributes include appellant name, birth date, address, telephone, email, detention centre details, and country information, ensuring a structured dataset for tracking individuals involved in bail proceedings.\"\n",
    "        },\n",
    "            {\n",
    "        \"Unique_Identifier_cols\": \"CaseNo\",\n",
    "        \"Table_Name\": \"bronze_sbail_ac_cl_ht_list_lt_hc_c_ls_adj\",\n",
    "        \"Stage_Name\": \"bronze_stage\",\n",
    "        \"description\": \"The bronze_sbail_ac_cl_ht_list_lt_hc_c_ls_adj table consolidates information on case statuses, hearings, listings, courts, adjudicators, and appeal outcomes in bail cases. It integrates data from multiple sources, including case lists, hearing types, list types, courts, hearing centres, list sittings, adjudicators, and decision types, providing a structured view of legal proceedings. Key attributes include case status, hearing date, list type, court name, hearing centre, adjudicator details, and appeal case notes, enabling efficient tracking of hearing schedules and case outcomes\"\n",
    "        },\n",
    "            {\n",
    "        \"Unique_Identifier_cols\": \"CaseNo\",\n",
    "        \"Table_Name\": \"bronze_sbail_ac_bfdiary_bftype\",\n",
    "        \"Stage_Name\": \"bronze_stage\",\n",
    "        \"description\": \"The bronze_sbail_ac_bfdiary_bftype table consolidates information on BF (Bring Forward) diary entries related to bail cases. It links BF diary records with their corresponding BF types, providing a structured overview of case follow-ups and deadlines. Key attributes include case number, BF date, entry details, completion date, and BF type description, enabling efficient tracking of pending and completed case actions.\"\n",
    "        },\n",
    "            {\n",
    "        \"Unique_Identifier_cols\": \"CaseNo\",\n",
    "        \"Table_Name\": \"bronze_sbail_ac_history_users\",\n",
    "        \"Stage_Name\": \"bronze_stage\",\n",
    "        \"description\": \"The bronze_sbail_ac_history_users table captures a detailed history of actions taken on bail cases, linking historical records with user information. It integrates data from the history and users tables, providing insights into case modifications, timestamps, action types, and user activity. Key attributes include case number, history ID, action date, history type, comments, deleted by information, and the full name of the user responsible for the action, ensuring a transparent audit trail of case updates\"\n",
    "        },\n",
    "            {\n",
    "        \"Unique_Identifier_cols\": \"CaseNo\",\n",
    "        \"Table_Name\": \"bronze_sbail_ac_link_linkdetail\",\n",
    "        \"Stage_Name\": \"bronze_stage\",\n",
    "        \"description\": \"The bronze_sbail_ac_link_linkdetail table captures case linkages and related appellant details within bail cases. It integrates data from case links, link details, and appellant records, providing insights into case associations and relevant individuals. Key attributes include link number, case number, appellant’s name, title, and any associated comments from link details, facilitating the tracking of case relationships and appellant connections\"\n",
    "        },\n",
    "            {\n",
    "        \"Unique_Identifier_cols\": \"CaseNo\",\n",
    "        \"Table_Name\": \"bronze_sbail_status_sc_ra_cs\",\n",
    "        \"Stage_Name\": \"bronze_stage\",\n",
    "        \"description\": \"The bronze_sbail_status_sc_ra_cs table consolidates information related to case statuses, contacts, adjournment reasons, language preferences, list types, hearing types, and judiciary assignments.\"\n",
    "        },\n",
    "            {\n",
    "        \"Unique_Identifier_cols\": \"CaseNo\",\n",
    "        \"Table_Name\": \"bronze_sbail_ac_appealcategory_category\",\n",
    "        \"Stage_Name\": \"bronze_stage\",\n",
    "        \"description\": \"The bronze_sbail_ac_appealcategory_category table records appeal categories and their associated details for bail cases. It integrates data from appeal category records and general category descriptions, allowing for a structured view of case classifications.\"\n",
    "        },\n",
    "            {\n",
    "        \"Unique_Identifier_cols\": \"CaseNo\",\n",
    "        \"Table_Name\": \"bronze_case_surety_query\",\n",
    "        \"Stage_Name\": \"bronze_stage\",\n",
    "        \"description\": \"The bronze_case_surety_query table captures surety details related to bail cases, providing insights into individuals or entities offering financial guarantees for an appellant's release. It includes surety identity, contact details, financial commitments (recognizance and security amounts), lodging dates, solicitor involvement, and communication details.\"\n",
    "        },\n",
    "            {\n",
    "        \"Unique_Identifier_cols\": \"CaseNo\",\n",
    "        \"Table_Name\": \"judicial_requirement\",\n",
    "        \"Stage_Name\": \"bronze_stage\",\n",
    "        \"description\": \"The judicial_requirement table tracks judicial assignments and requirements for bail cases. It links case adjudicators to their assigned judges, providing a structured view of judicial oversight in legal proceedings. Key attributes include case number, adjudicator requirements, and judge details (surname, forenames, and title), ensuring visibility into judicial involvement and case management.\"\n",
    "        },\n",
    "            {\n",
    "        \"Unique_Identifier_cols\": \"CaseNo\",\n",
    "        \"Table_Name\": \"linked_cases_cost_award\",\n",
    "        \"Stage_Name\": \"bronze_stage\",\n",
    "        \"description\": \"The linked_cases_cost_award table consolidates cost awards and their associations with linked cases, appellants, and appeal stages. It provides a structured overview of financial awards in legal proceedings, linking them to case numbers, appellants, appeal stages, and case statuses.\"\n",
    "            },\n",
    "            {\n",
    "        \"Unique_Identifier_cols\": \"CaseNo\",\n",
    "        \"Table_Name\": \"silver_normal_sbail\",\n",
    "        \"Stage_Name\": \"segmentation_stage\",\n",
    "        \"description\": \"The silver_normal_sbail table processes and filters normal bail cases from raw datasets, refining the data for analytical and reporting purposes. It identifies archivable cases by determining the most recent status record for each case, filtering out specific file locations, and applying conditions based on case history comments and decision dates. The table ensures that only archivable normal bail cases are retained, providing structured insights into case numbers and bail type classifications.\"\n",
    "        },\n",
    "            {\n",
    "        \"Unique_Identifier_cols\": \"CaseNo\",\n",
    "        \"Table_Name\": \"silver_legal_hold_normal_sbail\",\n",
    "        \"Stage_Name\": \"segmentation_stage\",\n",
    "        \"description\": \"The silver_legal_hold_normal_sbail table identifies normal bail cases under legal hold by analyzing case history and file location data. It filters cases where indefinite retention is indicated in the history comments while excluding specific file locations. The table ensures that only cases meeting the legal hold criteria are retained, providing a structured dataset with case numbers and a classification of 'BailLegalHold' for tracking and auditing purposes.\"\n",
    "        },\n",
    "            {\n",
    "        \"Unique_Identifier_cols\": \"CaseNo\",\n",
    "        \"Table_Name\": \"silver_sbail_combined_segmentation_nb_lhnb\",\n",
    "        \"Stage_Name\": \"segmentation_stage\",\n",
    "        \"description\": \"The silver_sbail_combined_segmentation_nb_lhnb_ table consolidates normal bail cases and legal hold normal bail cases into a single dataset. It creates a unified view of bail case classifications. Key attributes include case numbers and corresponding bail types, providing a structured dataset for further analysis and decision-making.\"\n",
    "        },\n",
    "            ### Silver tables ###\n",
    "            {\n",
    "        \"Unique_Identifier_cols\": \"CaseNo\",\n",
    "        \"Table_Name\": \"silver_sbail_m1_case_details\",\n",
    "        \"Stage_Name\": \"silver_stage\",\n",
    "        \"description\": \"The silver_sbail_m1_case_details table refines and enriches bail case details by integrating segmentation data and bronze-level case records. It links bail cases with their segmentation type (Normal Bail, Legal Hold, or Scottish Bail) while applying meaningful descriptions to key categorical fields, such as Bail Type, Court Preference, Interpreter Requirement, Cost Award Types, and Paying Party Details. The result is a well-structured dataset that enables clear classification and analysis of bail cases based on their characteristics and financial/legal implications.\"\n",
    "        },\n",
    "            {\n",
    "        \"Unique_Identifier_cols\": \"CaseNo\",\n",
    "        \"Table_Name\": \"silver_sbail_m2_case_appellant\",\n",
    "        \"Stage_Name\": \"silver_stage\",\n",
    "        \"description\": \"The silver_sbail_m2_case_appellant table refines and enriches appellant-related details in bail cases by integrating segmentation data and bronze-level case appellant records. It links appellants to their bail case type while applying meaningful descriptions to the detention status of appellants. The result is a structured dataset that facilitates better analysis of appellant demographics, detention conditions, and case classifications within the bail system.\"\n",
    "        },\n",
    "            {\n",
    "        \"Unique_Identifier_cols\": \"CaseNo\",\n",
    "        \"Table_Name\": \"silver_sbail_m3_hearing_details\",\n",
    "        \"Stage_Name\": \"silver_stage\",\n",
    "        \"description\": \"The silver_sbail_m3_hearing_details table refines and consolidates hearing-related details for bail cases by grouping and aggregating key court and hearing attributes. It integrates bronze-level hearing records and bail segmentation data, providing structured insights into case status, hearing schedules, court locations, and adjudicator assignments. The table distinguishes between the presiding judge (JudgeFT) and court clerk/usher (CourtClerkUsher) based on their role in the proceedings. This dataset enables efficient tracking of hearing events, adjudicator assignments, and court proceedings within bail case management.\"\n",
    "        },\n",
    "            {\n",
    "        \"Unique_Identifier_cols\": \"CaseNo\",\n",
    "        \"Table_Name\": \"silver_sbail_m4_bf_diary\",\n",
    "        \"Stage_Name\": \"silver_stage\",\n",
    "        \"description\": \"The silver_sbail_m4_bf_diary table refines and consolidates BF (Bring Forward) diary records related to bail cases. It integrates bronze-level BF diary data with bail segmentation classifications, ensuring that each case is categorized under Normal Bail, Legal Hold, or Scottish Bail Funds. This table provides structured insights into BF dates, diary entries, completion statuses, and BF types, enabling effective tracking of pending actions and case follow-ups within the bail process.\"\n",
    "        },\n",
    "            {\n",
    "        \"Unique_Identifier_cols\": \"CaseNo\",\n",
    "        \"Table_Name\": \"silver_sbail_m5_history\",\n",
    "        \"Stage_Name\": \"silver_stage\",\n",
    "        \"description\": \"The silver_sbail_m5_history table consolidates historical actions and user activity related to bail cases. It integrates bronze-level case history records with bail segmentation classifications, ensuring that each case is categorized under Normal Bail and Legal Hold. Key attributes include historical changes, timestamps, action types, user activity, and related case updates, providing a transparent and structured audit trail for case modifications and decision-making processes.\"\n",
    "        },\n",
    "            {\n",
    "        \"Unique_Identifier_cols\": \"CaseNo\",\n",
    "        \"Table_Name\": \"silver_sbail_m6_link\",\n",
    "        \"Stage_Name\": \"silver_stage\",\n",
    "        \"description\": \"The silver_sbail_m6_link table consolidates case linkages and related details for bail cases. It integrates bronze-level case link data with bail segmentation classifications, ensuring that each case is categorized under Normal Bail or Legal Hold. Key attributes include case number, link number, link detail comments, and a concatenated full name (title, forenames, and name), providing a structured overview of case relationships and associated appellants for efficient case tracking and analysis.\"\n",
    "        },\n",
    "            {\n",
    "        \"Unique_Identifier_cols\": \"CaseNo\",\n",
    "        \"Table_Name\": \"silver_sbail_m7_status\",\n",
    "        \"Stage_Name\": \"silver_stage\",\n",
    "        \"description\": \"The silver_sbail_m7_status table refines bail status details by integrating bronze-level status records with bail segmentation classifications, ensuring each case is categorized under Normal Bail or Legal Hold. It enhances categorical fields by providing descriptive labels for bail conditions, interpreter requirements, residence orders, reporting orders, and status parties. This structured dataset facilitates clearer analysis of case statuses, bail conditions, and legal requirements for improved decision-making and case management.\"\n",
    "        },\n",
    "            {\n",
    "        \"Unique_Identifier_cols\": \"CaseNo\",\n",
    "        \"Table_Name\": \"silver_sbail_m8\",\n",
    "        \"Stage_Name\": \"silver_stage\",\n",
    "        \"description\": \"The silver_sbail_m8 table refines appeal category details by integrating bronze-level appeal category records with bail segmentation classifications, ensuring each case is categorized under Normal Bail or Legal Hold. It provides structured insights into case numbers, appeal categories, and associated classifications, enabling clearer tracking and analysis of case types and their legal classifications within the bail system.\"\n",
    "        },\n",
    "            {\n",
    "        \"Unique_Identifier_cols\": \"client_identifier\",\n",
    "        \"Table_Name\": \"silver_sbail_meta_data\",\n",
    "        \"Stage_Name\": \"silver_stage\",\n",
    "        \"description\": \"The silver_sbail_meta_data table consolidates key metadata from bail case details and appellant records, creating a structured dataset for tracking and categorizing bail cases. It assigns client identifiers, event dates, region, publisher, and record classifications while standardizing date formats and ensuring each case is assigned to a batch ID for processing. The table provides essential attributes to cteate the manifest file.\"\n",
    "            },\n",
    "            ### Staging tables ###\n",
    "            {\n",
    "        \"Unique_Identifier_cols\": \"CaseNo\",\n",
    "        \"Table_Name\": \"stg_m1_m2\",\n",
    "        \"Stage_Name\": \"staging_stage\",\n",
    "        \"description\": \"The stg_m1_m2 table combines data from silver-level m1 and m2 tables, providing a consolidated table with distinct CaseNo.\"\n",
    "        },\n",
    "            {\n",
    "        \"Unique_Identifier_cols\": \"CaseNo\",\n",
    "        \"Table_Name\": \"stg_m3_m7\",\n",
    "        \"Stage_Name\": \"staging_stage\",\n",
    "        \"description\": \"The stg_m3_m7 Delta Live Table joins adjudicator and hearing data from silver_sbail_m3_hearing_details with bail status information from silver_sbail_m7_status. It performs a pivot to group adjudicators by their position, creates a full name column for each adjudicator, and merges these with matching case and status IDs. The final output is a nested table grouped by CaseNo, where each case contains a list of all associated status records as structs.\"\n",
    "        },\n",
    "            {\n",
    "        \"Unique_Identifier_cols\": \"CaseNo\",\n",
    "        \"Table_Name\": \"stg_m7_m3_statuses\",\n",
    "        \"Stage_Name\": \"staging_stage\",\n",
    "        \"description\": \"The stg_m3_m7 table combines adjudicator and hearing details from silver_sbail_m3_hearing_details with bail status records from silver_sbail_m7_status, creating a nested structure of all status entries per case. The stg_m7_m3_statuses table then enhances this by extracting, for each case, the highest StatusId (as MaxCaseStatusDescription) and the most relevant non-null LanguageDescription (as SecondaryLanguage), joining these back to provide enriched, case-level data.\"\n",
    "        },\n",
    "            {\n",
    "        \"Unique_Identifier_cols\": \"CaseNo\",\n",
    "        \"Table_Name\": \"stg_m1_m2_m3_m7\",\n",
    "        \"Stage_Name\": \"staging_stage\",\n",
    "        \"description\": \"The stg_m1_m2_m3_m7 table merges core case details from stg_m1_m2 with enriched status and adjudicator information from stg_m7_m3_statuses using a left join on CaseNo, producing a unified view of case metadata, hearing details, and the latest status insights for downstream processing or reporting.\"\n",
    "        },\n",
    "            {\n",
    "        \"Unique_Identifier_cols\": \"CaseNo\",\n",
    "        \"Table_Name\": \"stg_m1_m2_m3_m5_m7\",\n",
    "        \"Stage_Name\": \"staging_stage\",\n",
    "        \"description\": \"The stg_m1_m2_m3_m5_m7 table enriches the unified case view from stg_m1_m2_m3_m7 by joining it with historical activity data from silver_sbail_m5_history. It aggregates each case’s history entries into a structured list (m5_history_details) and extracts key insights, including the latest document comment for HistType = 16 (last_document) and the most recent file location for HistType = 6 (file_location), providing a comprehensive case-level dataset for downstream use.\"\n",
    "        },\n",
    "            {\n",
    "        \"Unique_Identifier_cols\": \"CaseNo\",\n",
    "        \"Table_Name\": \"stg_m1_m2_m3_m4_m5_m7\",\n",
    "        \"Stage_Name\": \"staging_stage\",\n",
    "        \"description\": \"The stg_m1_m2_m3_m4_m5_m7 table builds on the enriched case data from stg_m1_m2_m3_m5_m7 by incorporating BF diary information from silver_sbail_m4_bf_diary. For each case, it aggregates BF entries—such as BF date, type, entry text, and completion date—into a nested list called bfdiary_details, creating a comprehensive view that includes case metadata, statuses, adjudication, history, and diary actions.\"\n",
    "        },\n",
    "            {\n",
    "        \"Unique_Identifier_cols\": \"CaseNo\",\n",
    "        \"Table_Name\": \"stg_m1_m2_m3_m4_m5_m7_m8\",\n",
    "        \"Stage_Name\": \"staging_stage\",\n",
    "        \"description\": \"The stg_m1_m2_m3_m4_m5_m7_m8 table extends the consolidated case dataset by joining in appeal category data from silver_sbail_m8. For each case, it aggregates related appeal categories and flags into a nested list called appeal_category_details, resulting in a rich, case-centric view that combines core case details, adjudicator and status insights, history records, BF diary entries, and appeal classification metadata.\"\n",
    "        },\n",
    "            {\n",
    "        \"Unique_Identifier_cols\": \"CaseNo\",\n",
    "        \"Table_Name\": \"stg_m1_m2_m3_m4_m5_m6_m7_m8\",\n",
    "        \"Stage_Name\": \"staging_stage\",\n",
    "        \"description\": \"The stg_m1_m2_m3_m4_m5_m6_m7_m8 table completes the comprehensive case view by integrating linked file information from silver_sbail_m6_link. It aggregates each case’s linked documents—such as comments, link numbers, and full names—into a nested linked_files_details column. This final table delivers an all-encompassing dataset with case metadata, adjudications, statuses, history, BF diary entries, appeal categories, and associated linked files for downstream consumption.\"\n",
    "        },\n",
    "            {\n",
    "        \"Unique_Identifier_cols\": \"CaseNo\",\n",
    "        \"Table_Name\": \"stg_m1_m2_m3_m4_m5_m6_m7_m8_cs\",\n",
    "        \"Stage_Name\": \"staging_stage\",\n",
    "        \"description\": \"The stg_m1_m2_m3_m4_m5_m6_m7_m8_cs table extends the full case view by joining in financial surety details from bronze_case_surety_query. For each case, it aggregates financial condition entries—including sponsor name, address, contact details, solicitor, and security amounts—into a nested financial_condition_details list. This final enriched dataset supports dynamic HTML generation using mappings like case_surety_replacement, enabling accurate population of financial guarantee information for each case.\"\n",
    "        },\n",
    "            {\n",
    "        \"Unique_Identifier_cols\": \"CaseNo\",\n",
    "        \"Table_Name\": \"final_staging_sbails\",\n",
    "        \"Stage_Name\": \"staging_stage\",\n",
    "        \"description\": \"The final_staging_sbails table represents the complete, enriched bail case dataset by joining the comprehensive case view from stg_m1_m2_m3_m4_m5_m6_m7_m8_cs with linked cost award case data from linked_cases_cost_award. For each case, it aggregates associated cost award records—such as applicant and paying parties, award type, decisions, and appeal outcomes—into a nested list called linked_cases_aggregated, creating a unified structure ready for downstream analytics, reporting, or templated document generation.\"\n",
    "            },\n",
    "\n",
    "\n",
    "            ### Gold tables ###\n",
    "\n",
    "            {\n",
    "        \"Unique_Identifier_cols\": \"CaseNo\",\n",
    "        \"Table_Name\": \"create_sbails_html_content\",\n",
    "        \"Stage_Name\": \"gold_stage\",\n",
    "        \"description\": \"The create_sbails_html_content table generates HTML content for bail cases, transforming structured case data into formatted HTML outputs. It reads from final_staging_sbails, processes the data using the create_html function, and assigns a unique file name for each case, ensuring proper formatting by replacing special characters in case numbers. This table supports automated document generation for bail case summaries, facilitating downstream reporting, storage, and retrieval.\",\n",
    "        \"File_name\": True,\n",
    "        \"status\": True\n",
    "        },\n",
    "            {\n",
    "        \"Unique_Identifier_cols\": \"CaseNo\",\n",
    "        \"Table_Name\": \"create_sbails_json_content\",\n",
    "        \"Stage_Name\": \"gold_stage\",\n",
    "        \"description\": \"The create_sbails_json_content table generates JSON content for bail cases, transforming structured case data into serialized JSON format. It reads from final_staging_sbails, converts all fields into a nested JSON structure, and assigns a unique file name for each case by replacing special characters in case numbers. This table facilitates automated JSON document generation, enabling structured data storage, retrieval, and downstream processing for bail case management and reporting.\",\n",
    "        \"File_name\": True,\n",
    "        \"status\": True\n",
    "        },\n",
    "            {\n",
    "        \"Unique_Identifier_cols\": \"client_identifier\",\n",
    "        \"Table_Name\": \"create_sbails_a360_content\",\n",
    "        \"Stage_Name\": \"gold_stage\",\n",
    "        \"description\": \"The create_sbails_json_content table generates JSON content for bail cases, transforming structured case data into serialized JSON format. It reads from final_staging_sbails, converts all fields into a nested JSON structure, and assigns a unique file name for each case by replacing special characters in case numbers. This table facilitates automated JSON document generation, enabling structured data storage, retrieval, and downstream processing for bail case management and reporting.\",\n",
    "        \"status\": True\n",
    "        },\n",
    "            {\n",
    "        \"Unique_Identifier_cols\": \"client_identifier\",\n",
    "        \"Table_Name\": \"gold_sbails_HTML_JSON_a360\",\n",
    "        \"Stage_Name\": \"gold_stage\",\n",
    "        \"description\": \"The gold_sbails_HTML_JSON_a360 table consolidates structured bail case content, integrating HTML, JSON, and A360 formats for A360 processing. It ensures data integrity by enforcing quality checks to exclude records containing errors in any content format and organizes cases into batches for streamlined processing.\",\n",
    "        \"batchid\": True,\n",
    "        },\n",
    "            {\n",
    "        \"Unique_Identifier_cols\": \"HTMLFileName\",\n",
    "        \"Table_Name\": \"save_html_to_blob\",\n",
    "        \"Stage_Name\": \"gold_stage\",\n",
    "        \"description\": \"The save_html_to_blob table is responsible for uploading generated HTML content for bail cases to blob storage. It reads from create_sbails_html_content, repartitions the data for optimized parallel processing, and applies the upload_to_blob_udf function to transfer each HTML file to blob storage. A new column, HTMLTransferStatus, is added to track the status of each upload, ensuring visibility into successful and failed transfers. This table facilitates automated storage and retrieval of bail case HTML documents for further processing and access.\",\n",
    "        \"status\": True\n",
    "        },\n",
    "            {\n",
    "        \"Unique_Identifier_cols\": \"JSONFileName\",\n",
    "        \"Table_Name\": \"save_json_to_blob\",\n",
    "        \"Stage_Name\": \"gold_stage\",\n",
    "        \"description\": \"The save_json_to_blob table is responsible for uploading generated JSON content for bail cases to blob storage. It reads from create_sbails_json_content, repartitions the data for optimized parallel processing, and applies the upload_to_blob_udf function to transfer each JSON file to blob storage. A new column, JSONTransferStatus, is added to track the status of each upload, ensuring visibility into successful and failed transfers. This table facilitates automated storage and retrieval of bail case JSON documents for further processing and access.\",\n",
    "        \"status\": True\n",
    "        },\n",
    "            {\n",
    "        \"Unique_Identifier_cols\": \"batchid\",\n",
    "        \"Table_Name\": \"gold_sbails_a360\",\n",
    "        \"Stage_Name\": \"gold_stage\",\n",
    "        \"description\": \"The save_a360_to_blob table is responsible for uploading generated A360 content for bail cases to blob storage. It reads from create_sbails_a360_content, repartitions the data for optimized parallel processing, and applies the upload_to_blob_udf function to transfer each A360 file to blob storage. A new column, A360TransferStatus, is added to track the status of each upload, ensuring visibility into successful and failed transfers. This table facilitates automated storage and retrieval of bail case A360 documents for further processing and access.\",\n",
    "        \"File_name\": True,\n",
    "        \"status\": True\n",
    "        }\n",
    "\n",
    "            \n",
    "]"
   ]
  },
  {
   "cell_type": "code",
   "execution_count": 0,
   "metadata": {
    "application/vnd.databricks.v1+cell": {
     "cellMetadata": {
      "byteLimit": 2048000,
      "rowLimit": 10000
     },
     "inputWidgets": {},
     "nuid": "8ecce0da-f7d6-492d-8d90-7e06de92220a",
     "showTitle": false,
     "tableResultSettingsMap": {},
     "title": ""
    }
   },
   "outputs": [],
   "source": [
    "for params in audit_params:\n",
    "    unique_identifier_cols = params[\"Unique_Identifier_cols\"]\n",
    "    table_name = params[\"Table_Name\"]\n",
    "    stage_name = params[\"Stage_Name\"]\n",
    "    description = params[\"description\"]\n",
    "    File_name = params.get(\"File_name\", False)\n",
    "    status = params.get(\"status\", False)\n",
    "\n",
    "    try:\n",
    "        df_loaded = spark.read.table(f\"hive_metastore.{hive_schema}.{table_name}\")\n",
    "        create_audit_df(df_loaded, unique_identifier_cols, table_name, stage_name, description, File_name, status)\n",
    "    \n",
    "    except Exception as e:\n",
    "        print(f\"Error: {e}\")\n"
   ]
  },
  {
   "cell_type": "code",
   "execution_count": 0,
   "metadata": {
    "application/vnd.databricks.v1+cell": {
     "cellMetadata": {
      "byteLimit": 2048000,
      "rowLimit": 10000
     },
     "inputWidgets": {},
     "nuid": "1a78d61d-4929-4f5d-a199-2c89a9545ac0",
     "showTitle": false,
     "tableResultSettingsMap": {},
     "title": ""
    }
   },
   "outputs": [],
   "source": [
    "audit_delta_path"
   ]
  },
  {
   "cell_type": "code",
   "execution_count": 0,
   "metadata": {
    "application/vnd.databricks.v1+cell": {
     "cellMetadata": {
      "byteLimit": 2048000,
      "rowLimit": 10000
     },
     "inputWidgets": {},
     "nuid": "ee5ee4c2-7ab6-4c28-9cc4-b4c077ba51a4",
     "showTitle": false,
     "tableResultSettingsMap": {},
     "title": ""
    }
   },
   "outputs": [],
   "source": [
    "df = spark.read.format(\"delta\").load(audit_delta_path)\n",
    "\n",
    "df.display()"
   ]
  },
  {
   "cell_type": "code",
   "execution_count": 0,
   "metadata": {
    "application/vnd.databricks.v1+cell": {
     "cellMetadata": {
      "byteLimit": 2048000,
      "rowLimit": 10000
     },
     "inputWidgets": {},
     "nuid": "65d5d809-be23-4ac7-9d41-afb533f72b08",
     "showTitle": false,
     "tableResultSettingsMap": {},
     "title": ""
    }
   },
   "outputs": [],
   "source": [
    "df.select(\"Table_Name\").distinct().display()"
   ]
  },
  {
   "cell_type": "code",
   "execution_count": 0,
   "metadata": {
    "application/vnd.databricks.v1+cell": {
     "cellMetadata": {
      "byteLimit": 2048000,
      "rowLimit": 10000
     },
     "inputWidgets": {},
     "nuid": "1e9f206d-a4ad-4bd9-ad9f-34ff1d6b1b9f",
     "showTitle": false,
     "tableResultSettingsMap": {},
     "title": ""
    }
   },
   "outputs": [],
   "source": [
    "df.select(\"Table_Name\").distinct().display()"
   ]
  },
  {
   "cell_type": "code",
   "execution_count": 0,
   "metadata": {
    "application/vnd.databricks.v1+cell": {
     "cellMetadata": {
      "byteLimit": 2048000,
      "rowLimit": 10000
     },
     "inputWidgets": {},
     "nuid": "a38965ae-ecf4-4c3c-a208-0112d4fe3b7f",
     "showTitle": false,
     "tableResultSettingsMap": {},
     "title": ""
    }
   },
   "outputs": [],
   "source": []
  }
 ],
 "metadata": {
  "application/vnd.databricks.v1+notebook": {
   "computePreferences": null,
   "dashboards": [],
   "environmentMetadata": {
    "base_environment": "",
    "environment_version": "2"
   },
   "inputWidgetPreferences": null,
   "language": "python",
   "notebookMetadata": {
    "pythonIndentUnit": 4
   },
   "notebookName": "audit_processing_sbails",
   "widgets": {}
  },
  "language_info": {
   "name": "python"
  }
 },
 "nbformat": 4,
 "nbformat_minor": 0
}
