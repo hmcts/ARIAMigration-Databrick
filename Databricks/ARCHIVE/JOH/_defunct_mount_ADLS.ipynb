{
 "cells": [
  {
   "cell_type": "markdown",
   "metadata": {
    "application/vnd.databricks.v1+cell": {
     "cellMetadata": {},
     "inputWidgets": {},
     "nuid": "c1507a59-4b68-4ac7-8e85-7d58c9cb86ce",
     "showTitle": false,
     "tableResultSettingsMap": {},
     "title": ""
    }
   },
   "source": [
    "# Mounting Azure Data Lake Storage Gen 2 \n",
    "\n",
    "This Notebook will allow the users to create a mount point to ADLS Gen 2 account by using the widgets attached to the notebook"
   ]
  },
  {
   "cell_type": "markdown",
   "metadata": {
    "application/vnd.databricks.v1+cell": {
     "cellMetadata": {},
     "inputWidgets": {},
     "nuid": "8758e4c9-b75e-4ccd-8bab-41d852c5ae1d",
     "showTitle": false,
     "tableResultSettingsMap": {},
     "title": ""
    }
   },
   "source": [
    "# Overview\n",
    "To create mount point,\n",
    "1. Select the widgets for the Storage Account Name and Container Name\n",
    "2. Enter a file path if you want to mount to a different path in the container\n",
    "3. Select the Secret Key Associated with the Storage Account in the widget"
   ]
  },
  {
   "cell_type": "markdown",
   "metadata": {
    "application/vnd.databricks.v1+cell": {
     "cellMetadata": {},
     "inputWidgets": {},
     "nuid": "f1a86e36-092b-400b-91a6-c06b627f324d",
     "showTitle": false,
     "tableResultSettingsMap": {},
     "title": ""
    }
   },
   "source": [
    "# Setting up the widgets\n",
    "\n",
    "This part of the code uses the creates the widgets at the top of the notebook.\n",
    "\n",
    "**Storage Account Name**: Is the name of the storage account you want to link to <br>\n",
    "<br>\n",
    "**Container Name**: Is the name of the container within the storage account you want to set up the mount point\n",
    "<br>\n",
    "<br>\n",
    "**File Path**: this is a free text field. If there is a partcular directory within in the container that you would like to connect a mount point to.\n",
    "<br>\n",
    "<br>\n",
    "**Secret Scope**: This is a provisioned Scope within the Databricks backed Secret scope.\n",
    "<br>\n",
    "<br>\n",
    "**Secret Key:** Is the Actual Key stored in Databricks Secret Scope associated with the Storage Account. One Secret Key will allow you to build multiple mount points within that storage account, irrespective of the container.\n"
   ]
  },
  {
   "cell_type": "code",
   "execution_count": 0,
   "metadata": {
    "application/vnd.databricks.v1+cell": {
     "cellMetadata": {
      "byteLimit": 2048000,
      "rowLimit": 10000
     },
     "inputWidgets": {},
     "nuid": "85fb9bf4-3740-495a-b48b-25cc9bb5a7a2",
     "showTitle": false,
     "tableResultSettingsMap": {},
     "title": ""
    }
   },
   "outputs": [],
   "source": [
    "dbutils.widgets.dropdown(name='storage_account_name',defaultValue='ingest00landingsbox',choices=['ingest00landingsbox','ingest00curatedsbox','ingest00rawsbox','ingest00externalsbox'],label='Storage Account Name')\n",
    "dbutils.widgets.dropdown(name='container_name',defaultValue='landing',choices=['landing','bronze','silver','gold','html-template','raw','external-csv'],label='Container Name')\n",
    "dbutils.widgets.text(name='file_path',defaultValue='SQLServer/Sales/IRIS/dbo/',label='File Path')\n",
    "dbutils.widgets.dropdown(name='secret_scope',defaultValue='dbScope',choices=['dbScope','ExternalStorageKey'],label=' Secret scope')\n",
    "dbutils.widgets.dropdown(name='secret_key',defaultValue='storageKey',choices=['storageKey','CuratedStorageSBOXKey','RawStorageSBOX','externalStorageKey'],label=' Secret Key')"
   ]
  },
  {
   "cell_type": "markdown",
   "metadata": {
    "application/vnd.databricks.v1+cell": {
     "cellMetadata": {},
     "inputWidgets": {},
     "nuid": "e0d887f9-1717-41cf-b4bb-3d1313a2b5eb",
     "showTitle": false,
     "tableResultSettingsMap": {},
     "title": ""
    }
   },
   "source": [
    "# Collect the user defined settings\n",
    "\n",
    "This part of the code uses the get function to collect in input parameters required to create the mount point."
   ]
  },
  {
   "cell_type": "code",
   "execution_count": 0,
   "metadata": {
    "application/vnd.databricks.v1+cell": {
     "cellMetadata": {
      "byteLimit": 2048000,
      "rowLimit": 10000
     },
     "inputWidgets": {},
     "nuid": "800e3d0a-71f3-4ca2-a623-90599a5d6d47",
     "showTitle": false,
     "tableResultSettingsMap": {},
     "title": ""
    }
   },
   "outputs": [],
   "source": [
    "storage_account_name = dbutils.widgets.get('storage_account_name')\n",
    "container_name = dbutils.widgets.get('container_name')\n",
    "file_path = dbutils.widgets.get('file_path')\n",
    "mountPoint = \"/mnt/\"+container_name\n",
    "print(mountPoint)\n",
    "storage_account_key = dbutils.secrets.get('dbScope', 'storageKey')\n",
    "print(file_path)\n"
   ]
  },
  {
   "cell_type": "code",
   "execution_count": 0,
   "metadata": {
    "application/vnd.databricks.v1+cell": {
     "cellMetadata": {
      "byteLimit": 2048000,
      "rowLimit": 10000
     },
     "inputWidgets": {},
     "nuid": "3447d28b-e77b-48e9-b695-348b4e218c5a",
     "showTitle": false,
     "tableResultSettingsMap": {},
     "title": ""
    }
   },
   "outputs": [],
   "source": [
    "# mountPoint_new = mountPoint.replace(mountPoint.split('/')[2][:8], '', 1)\n",
    "# display(mountPoint)\n",
    "# display(mountPoint_new)"
   ]
  },
  {
   "cell_type": "code",
   "execution_count": 0,
   "metadata": {
    "application/vnd.databricks.v1+cell": {
     "cellMetadata": {
      "byteLimit": 2048000,
      "rowLimit": 10000
     },
     "inputWidgets": {},
     "nuid": "04a1c79f-2608-4f9c-ac4d-49a124719668",
     "showTitle": false,
     "tableResultSettingsMap": {},
     "title": ""
    }
   },
   "outputs": [],
   "source": [
    "display(storage_account_name[8:])"
   ]
  },
  {
   "cell_type": "code",
   "execution_count": 0,
   "metadata": {
    "application/vnd.databricks.v1+cell": {
     "cellMetadata": {
      "byteLimit": 2048000,
      "rowLimit": 10000
     },
     "inputWidgets": {},
     "nuid": "6c211593-a220-4c2e-8aad-7910afbe07d8",
     "showTitle": false,
     "tableResultSettingsMap": {},
     "title": ""
    }
   },
   "outputs": [],
   "source": [
    "dbutils.secrets.listScopes()"
   ]
  },
  {
   "cell_type": "code",
   "execution_count": 0,
   "metadata": {
    "application/vnd.databricks.v1+cell": {
     "cellMetadata": {
      "byteLimit": 2048000,
      "rowLimit": 10000
     },
     "inputWidgets": {},
     "nuid": "b519fef7-8097-4831-8162-50f3b42ecf60",
     "showTitle": false,
     "tableResultSettingsMap": {},
     "title": ""
    }
   },
   "outputs": [],
   "source": [
    "if any(mount.mountPoint == mountPoint for mount in dbutils.fs.mounts()):\n",
    "  dbutils.fs.unmount(mountPoint)\n",
    "try:\n",
    "    dbutils.fs.mount(\n",
    "        source= \"wasbs://{}@{}.blob.core.windows.net/\".format(container_name, storage_account_name,file_path),\n",
    "        mount_point=mountPoint,\n",
    "        extra_configs={'fs.azure.account.key.' +storage_account_name+'.blob.core.windows.net':dbutils.secrets.get(dbutils.widgets.get('secret_scope'), dbutils.widgets.get('secret_key'))}\n",
    "    )\n",
    "    print(f\"Successfully mounted {mountPoint}\")\n",
    "except Exception as e:\n",
    "    print(f\"Error mounting {mountPoint} : {e}\")"
   ]
  },
  {
   "cell_type": "code",
   "execution_count": 0,
   "metadata": {
    "application/vnd.databricks.v1+cell": {
     "cellMetadata": {
      "byteLimit": 2048000,
      "rowLimit": 10000
     },
     "inputWidgets": {},
     "nuid": "a7a7885d-9c6c-467f-96b5-00ac01765e04",
     "showTitle": false,
     "tableResultSettingsMap": {},
     "title": ""
    }
   },
   "outputs": [],
   "source": []
  }
 ],
 "metadata": {
  "application/vnd.databricks.v1+notebook": {
   "computePreferences": null,
   "dashboards": [],
   "environmentMetadata": {
    "base_environment": "",
    "environment_version": "1"
   },
   "language": "python",
   "notebookMetadata": {
    "pythonIndentUnit": 4
   },
   "notebookName": "_defunct_mount_ADLS",
   "widgets": {
    "container_name": {
     "currentValue": "landing",
     "nuid": "da1b5356-39a4-4d55-8ebf-05c3b3ecff11",
     "typedWidgetInfo": {
      "autoCreated": false,
      "defaultValue": "landing",
      "label": "Container Name",
      "name": "container_name",
      "options": {
       "widgetDisplayType": "Dropdown",
       "choices": [
        "landing",
        "bronze",
        "silver",
        "gold",
        "html-template",
        "raw",
        "external-csv"
       ],
       "fixedDomain": true,
       "multiselect": false
      },
      "parameterDataType": "String"
     },
     "widgetInfo": {
      "widgetType": "dropdown",
      "defaultValue": "landing",
      "label": "Container Name",
      "name": "container_name",
      "options": {
       "widgetType": "dropdown",
       "autoCreated": null,
       "choices": [
        "landing",
        "bronze",
        "silver",
        "gold",
        "html-template",
        "raw",
        "external-csv"
       ]
      }
     }
    },
    "file_path": {
     "currentValue": "",
     "nuid": "acbb5f15-b333-44af-bab2-501044bcc788",
     "typedWidgetInfo": {
      "autoCreated": false,
      "defaultValue": "SQLServer/Sales/IRIS/dbo/",
      "label": "File Path",
      "name": "file_path",
      "options": {
       "widgetDisplayType": "Text",
       "validationRegex": null
      },
      "parameterDataType": "String"
     },
     "widgetInfo": {
      "widgetType": "text",
      "defaultValue": "SQLServer/Sales/IRIS/dbo/",
      "label": "File Path",
      "name": "file_path",
      "options": {
       "widgetType": "text",
       "autoCreated": null,
       "validationRegex": null
      }
     }
    },
    "secret_key": {
     "currentValue": "CuratedStorageSBOXKey",
     "nuid": "a34b34b6-4cf6-4053-90de-05f7b278e2cb",
     "typedWidgetInfo": {
      "autoCreated": false,
      "defaultValue": "storageKey",
      "label": " Secret Key",
      "name": "secret_key",
      "options": {
       "widgetDisplayType": "Dropdown",
       "choices": [
        "storageKey",
        "CuratedStorageSBOXKey",
        "RawStorageSBOX",
        "externalStorageKey"
       ],
       "fixedDomain": true,
       "multiselect": false
      },
      "parameterDataType": "String"
     },
     "widgetInfo": {
      "widgetType": "dropdown",
      "defaultValue": "storageKey",
      "label": " Secret Key",
      "name": "secret_key",
      "options": {
       "widgetType": "dropdown",
       "autoCreated": null,
       "choices": [
        "storageKey",
        "CuratedStorageSBOXKey",
        "RawStorageSBOX",
        "externalStorageKey"
       ]
      }
     }
    },
    "secret_scope": {
     "currentValue": "dbScope",
     "nuid": "12c64d41-4dd3-4a47-8330-78133736c9c8",
     "typedWidgetInfo": {
      "autoCreated": false,
      "defaultValue": "dbScope",
      "label": " Secret scope",
      "name": "secret_scope",
      "options": {
       "widgetDisplayType": "Dropdown",
       "choices": [
        "dbScope",
        "ExternalStorageKey"
       ],
       "fixedDomain": true,
       "multiselect": false
      },
      "parameterDataType": "String"
     },
     "widgetInfo": {
      "widgetType": "dropdown",
      "defaultValue": "dbScope",
      "label": " Secret scope",
      "name": "secret_scope",
      "options": {
       "widgetType": "dropdown",
       "autoCreated": null,
       "choices": [
        "dbScope",
        "ExternalStorageKey"
       ]
      }
     }
    },
    "storage_account_name": {
     "currentValue": "ingest00curatedsbox",
     "nuid": "ea5f4e54-d694-40d3-9ccf-47de2a3524b9",
     "typedWidgetInfo": {
      "autoCreated": false,
      "defaultValue": "ingest00landingsbox",
      "label": "Storage Account Name",
      "name": "storage_account_name",
      "options": {
       "widgetDisplayType": "Dropdown",
       "choices": [
        "ingest00landingsbox",
        "ingest00curatedsbox",
        "ingest00rawsbox",
        "ingest00externalsbox"
       ],
       "fixedDomain": true,
       "multiselect": false
      },
      "parameterDataType": "String"
     },
     "widgetInfo": {
      "widgetType": "dropdown",
      "defaultValue": "ingest00landingsbox",
      "label": "Storage Account Name",
      "name": "storage_account_name",
      "options": {
       "widgetType": "dropdown",
       "autoCreated": null,
       "choices": [
        "ingest00landingsbox",
        "ingest00curatedsbox",
        "ingest00rawsbox",
        "ingest00externalsbox"
       ]
      }
     }
    }
   }
  },
  "language_info": {
   "name": "python"
  }
 },
 "nbformat": 4,
 "nbformat_minor": 0
}
