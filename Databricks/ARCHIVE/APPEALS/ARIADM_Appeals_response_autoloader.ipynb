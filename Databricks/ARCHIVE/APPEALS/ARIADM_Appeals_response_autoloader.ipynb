{
 "cells": [
  {
   "cell_type": "code",
   "execution_count": 0,
   "metadata": {
    "application/vnd.databricks.v1+cell": {
     "cellMetadata": {
      "byteLimit": 2048000,
      "rowLimit": 10000
     },
     "inputWidgets": {},
     "nuid": "f8821ae9-478a-4045-ae52-afc7d315405f",
     "showTitle": false,
     "tableResultSettingsMap": {},
     "title": ""
    }
   },
   "outputs": [],
   "source": [
    "# from azure.storage.blob import BlobServiceClient"
   ]
  },
  {
   "cell_type": "code",
   "execution_count": 0,
   "metadata": {
    "application/vnd.databricks.v1+cell": {
     "cellMetadata": {
      "byteLimit": 2048000,
      "rowLimit": 10000
     },
     "inputWidgets": {},
     "nuid": "93fe2f3c-df31-4d1f-b894-31a8fe66502e",
     "showTitle": false,
     "tableResultSettingsMap": {},
     "title": ""
    }
   },
   "outputs": [],
   "source": [
    "# sas_token = dbutils.secrets.get(scope=\"ingest00-meta002-sbox\",key=\"ARIAB-SAS-TOKEN\")\n",
    "# storage_account_name = \"a360c2x2555dz\"\n",
    "# container_name = \"dropzone\"\n",
    "# sub_dir = \"ARIAB/submission\"\n",
    "\n",
    "# spark.conf.set(\n",
    "#     f\"fs.azure.account.key.{storage_account_name}.blob.core.windows.net\",\n",
    "#     \"{sas_token}\"\n",
    "# )\n"
   ]
  },
  {
   "cell_type": "code",
   "execution_count": 0,
   "metadata": {
    "application/vnd.databricks.v1+cell": {
     "cellMetadata": {
      "byteLimit": 2048000,
      "rowLimit": 10000
     },
     "inputWidgets": {},
     "nuid": "35e5a28a-2acd-46dd-8dc6-881276565ad1",
     "showTitle": true,
     "tableResultSettingsMap": {},
     "title": "Define Schema for ARIAB Transaction Logs"
    }
   },
   "outputs": [],
   "source": [
    "from pyspark.sql.types import StructType, StructField, StringType, IntegerType, TimestampType, LongType\n",
    "from pyspark.sql.functions import *\n",
    "\n",
    "\n",
    "expected_schema = StructType([\n",
    "    StructField(\"operation\", StringType(), True),\n",
    "    StructField(\"transaction_id\", StringType(), True),\n",
    "    StructField(\"relation_id\", StringType(), True),\n",
    "    StructField(\"a360_record_id\", StringType(), True),\n",
    "    StructField(\"process_time\", TimestampType(), True),\n",
    "    StructField(\"status\", IntegerType(), True),\n",
    "    StructField(\"input\", StringType(), True),  # Contains nested JSON as a string\n",
    "    StructField(\"exception_description\", StringType(), True),\n",
    "    StructField(\"error_status\", StringType(), True),\n",
    "    StructField(\"a360_file_id\", StringType(), True),\n",
    "    StructField(\"file_size\", LongType(), True),\n",
    "    StructField(\"s_md5\", StringType(), True),\n",
    "    StructField(\"s_sha256\", StringType(), True),\n",
    "\n",
    "    StructField(\"timestamp\", TimestampType(), True),  # may be used as process_time\n",
    "    StructField(\"filename\", StringType(), True),\n",
    "    StructField(\"submission_folder\", StringType(), True),\n",
    "    StructField(\"file_hash\", StringType(), True)\n",
    "])\n",
    " "
   ]
  },
  {
   "cell_type": "code",
   "execution_count": 0,
   "metadata": {
    "application/vnd.databricks.v1+cell": {
     "cellMetadata": {
      "byteLimit": 2048000,
      "rowLimit": 10000
     },
     "inputWidgets": {},
     "nuid": "b2de9ecc-5dae-46bb-a899-5c7bd845b1ba",
     "showTitle": true,
     "tableResultSettingsMap": {},
     "title": "Set Up Auto Loader for ARIAB Response Files"
    }
   },
   "outputs": [],
   "source": [
    "#### Set up Auto Loader job\n",
    "sas_token = dbutils.secrets.get(scope=\"ingest00-meta002-sbox\", key=\"ARIAB-SAS-TOKEN\")\n",
    "storage_account_name = \"a360c2x2555dz\"\n",
    "container_name = \"dropzone\"\n",
    "sub_dir = \"ARIAB/response\"\n",
    "\n",
    "input_path = f\"wasbs://{container_name}@{storage_account_name}.blob.core.windows.net/{sub_dir}\"\n",
    "\n",
    "spark.conf.set(\n",
    "    f\"fs.azure.sas.{container_name}.{storage_account_name}.blob.core.windows.net\",\n",
    "    sas_token\n",
    ")\n",
    "\n",
    "schema_location = \"/mnt/autoLoaderSchema/ARMAPPEALS/response/read_stream\"\n",
    "\n",
    "# Define a file regex that matches files ending with .rsp\n",
    "file_regex = \".*\\\\.rsp$\"\n",
    "output_container_name = \"silver\" \n",
    "output_storage_account_name = \"ingest00curatedsbox\"\n",
    "output_subdir_amalgamated_responses = \"ARIADM/ARM/response/APPEALS/amalgamated_responses\"\n",
    "amalgamated_responses_path = f\"wasbs://{output_container_name}@{output_storage_account_name}.blob.core.windows.net/{output_subdir_amalgamated_responses}\"\n",
    "\n",
    "output_subdir_input_upload = \"ARIADM/ARM/response/APPEALS/input_upload\"\n",
    "input_upload_responses_path = f\"wasbs://{output_container_name}@{output_storage_account_name}.blob.core.windows.net/{output_subdir_input_upload}\"\n",
    "\n",
    "output_subdir_create_record_upload = \"ARIADM/ARM/response/APPEALS/create_record\"\n",
    "create_record_responses_path = f\"wasbs://{output_container_name}@{output_storage_account_name}.blob.core.windows.net/{output_subdir_create_record_upload}\"\n",
    "\n",
    "output_subdir_upload_file_upload = \"ARIADM/ARM/response/APPEALS/upload_file\"\n",
    "upload_file_responses_path = f\"wasbs://{output_container_name}@{output_storage_account_name}.blob.core.windows.net/{output_subdir_upload_file_upload}\""
   ]
  },
  {
   "cell_type": "code",
   "execution_count": 0,
   "metadata": {
    "application/vnd.databricks.v1+cell": {
     "cellMetadata": {
      "byteLimit": 2048000,
      "rowLimit": 10000
     },
     "inputWidgets": {},
     "nuid": "0134ddf8-abb7-48de-8944-b270a66098c9",
     "showTitle": true,
     "tableResultSettingsMap": {},
     "title": "Load JSON Files with Autoloader and Add UUID Column"
    }
   },
   "outputs": [],
   "source": [
    "### Run Autoloader Read Stream\n",
    "df = (spark.readStream\n",
    "    .format(\"cloudFiles\")\n",
    "    .schema(expected_schema)\n",
    "    .option(\"cloudFiles.format\", \"json\")\n",
    "    .option(\"cloudFiles.schemaLocation\", schema_location)  # Schema tracking\n",
    "    .option(\"multiline\", \"true\")\n",
    "    .option(\"cloudFiles.schemaEvolutionMode\", \"none\")\n",
    "    .load(input_path)\n",
    "    .select(\n",
    "        \"*\",\n",
    "        col(\"_metadata.file_path\").alias(\"_file_path\"),\n",
    "        col(\"_metadata.file_modification_time\").alias(\"_file_modification_time\")\n",
    "    )\n",
    "    .withColumn(\"id\", expr(\"uuid()\"))  # Generates UUID correctly\n",
    ")\n",
    "\n",
    "# display(df)\n",
    "\n"
   ]
  },
  {
   "cell_type": "code",
   "execution_count": 0,
   "metadata": {
    "application/vnd.databricks.v1+cell": {
     "cellMetadata": {
      "byteLimit": 2048000,
      "rowLimit": 10000
     },
     "inputWidgets": {},
     "nuid": "19b1344b-bb6a-478f-ab75-faf44f8d3c0b",
     "showTitle": true,
     "tableResultSettingsMap": {},
     "title": "Save Complete Table to Silver Container in Blob Storage"
    }
   },
   "outputs": [],
   "source": [
    "### 4 write streams to Silver container in blob storage\n",
    "\n",
    "output_sas = dbutils.secrets.get(scope=\"ingest00-meta002-sbox\", key=\"CURATED-SAS-TOKEN\")\n",
    "\n",
    "spark.conf.set(\n",
    "    f\"fs.azure.sas.{output_container_name}.{output_storage_account_name}.blob.core.windows.net\",\n",
    "    output_sas\n",
    ")\n",
    "\n",
    "### first save the complete table\n",
    "\n",
    "df_amalgamated = df.writeStream \\\n",
    "    .format(\"delta\")\\\n",
    "        .option(\"checkpointLocation\", \"/mnt/autoLoaderSchema/ARMAPPEALS/response/amalgamated\")\\\n",
    "            .outputMode(\"append\")\\\n",
    "                .trigger(availableNow=True)\\\n",
    "                    .start(amalgamated_responses_path)\n",
    "df_amalgamated.awaitTermination()"
   ]
  },
  {
   "cell_type": "code",
   "execution_count": 0,
   "metadata": {
    "application/vnd.databricks.v1+cell": {
     "cellMetadata": {
      "byteLimit": 2048000,
      "rowLimit": 10000
     },
     "inputWidgets": {},
     "nuid": "e97812f3-cb81-4426-9643-0f2831e71303",
     "showTitle": false,
     "tableResultSettingsMap": {},
     "title": ""
    }
   },
   "outputs": [],
   "source": [
    "df_amalgamated_responses = spark.read.format(\"delta\").load(amalgamated_responses_path)\n",
    "display(df_amalgamated_responses)"
   ]
  },
  {
   "cell_type": "code",
   "execution_count": 0,
   "metadata": {
    "application/vnd.databricks.v1+cell": {
     "cellMetadata": {
      "byteLimit": 2048000,
      "rowLimit": 10000
     },
     "inputWidgets": {},
     "nuid": "af78918f-0723-48ca-874c-2236cd09a5df",
     "showTitle": true,
     "tableResultSettingsMap": {},
     "title": "Stream Delta Table for ARMAppeals Create Record"
    }
   },
   "outputs": [],
   "source": [
    "### Create Record table\n",
    "df_create_upload = df.filter(col(\"operation\").isin([\"create_record\"])).select(\"id\",\"operation\",\"transaction_id\",\"relation_id\",\"a360_record_id\",\"process_time\",\"status\",\"input\",\"exception_description\",\"error_status\",\"_file_path\",\"_file_modification_time\") \\\n",
    "    .writeStream \\\n",
    "    .format(\"delta\")\\\n",
    "        .option(\"checkpointLocation\", \"/mnt/autoLoaderSchema/ARMAPPEALS/response/create_record\")\\\n",
    "            .outputMode(\"append\")\\\n",
    "                .trigger(availableNow=True)\\\n",
    "                .start(create_record_responses_path)\n",
    "\n",
    "df_create_upload.awaitTermination()"
   ]
  },
  {
   "cell_type": "code",
   "execution_count": 0,
   "metadata": {
    "application/vnd.databricks.v1+cell": {
     "cellMetadata": {
      "byteLimit": 2048000,
      "rowLimit": 10000
     },
     "inputWidgets": {},
     "nuid": "46bbc485-d0da-4ea1-917e-81530b28072b",
     "showTitle": false,
     "tableResultSettingsMap": {},
     "title": ""
    }
   },
   "outputs": [],
   "source": [
    "df_create_record_responses = spark.read.format(\"delta\").load(create_record_responses_path)\n",
    "display(df_create_record_responses)"
   ]
  },
  {
   "cell_type": "code",
   "execution_count": 0,
   "metadata": {
    "application/vnd.databricks.v1+cell": {
     "cellMetadata": {
      "byteLimit": 2048000,
      "rowLimit": 10000
     },
     "inputWidgets": {},
     "nuid": "ca92cd23-a518-4a3d-b975-2de5a46f9e56",
     "showTitle": false,
     "tableResultSettingsMap": {},
     "title": ""
    }
   },
   "outputs": [],
   "source": [
    "### upload file table\n",
    "df_upload = df.filter(col(\"operation\").isin([\"upload_new_file\"])).select(\"id\",\"operation\",\"transaction_id\",\"relation_id\",\"a360_record_id\",\"process_time\",\"status\",\"input\",\"exception_description\",\"error_status\",\"a360_file_id\",\"file_size\",\"s_md5\",\"s_sha256\",\"_file_path\",\"_file_modification_time\"\n",
    ")\\\n",
    "    .writeStream \\\n",
    "    .format(\"delta\")\\\n",
    "        .option(\"checkpointLocation\", \"/mnt/autoLoaderSchema/ARMAPPEALS/response/upload_file\")\\\n",
    "            .outputMode(\"append\")\\\n",
    "                .trigger(availableNow=True)\\\n",
    "                .start(upload_file_responses_path)\n",
    "df_upload.awaitTermination()"
   ]
  },
  {
   "cell_type": "code",
   "execution_count": 0,
   "metadata": {
    "application/vnd.databricks.v1+cell": {
     "cellMetadata": {
      "byteLimit": 2048000,
      "rowLimit": 10000
     },
     "inputWidgets": {},
     "nuid": "3d502669-d75b-4113-b8f6-17045cc08454",
     "showTitle": false,
     "tableResultSettingsMap": {},
     "title": ""
    }
   },
   "outputs": [],
   "source": [
    "df_create_record_responses = spark.read.format(\"delta\").load(upload_file_responses_path)\n",
    "display(df_create_record_responses)"
   ]
  },
  {
   "cell_type": "code",
   "execution_count": 0,
   "metadata": {
    "application/vnd.databricks.v1+cell": {
     "cellMetadata": {
      "byteLimit": 2048000,
      "rowLimit": 10000
     },
     "inputWidgets": {},
     "nuid": "e6e31917-b32a-4df5-bd2f-4cf55de6c135",
     "showTitle": true,
     "tableResultSettingsMap": {},
     "title": "Stream Delta Table for ARMAppeals Input Upload"
    }
   },
   "outputs": [],
   "source": [
    "### Input upload table\n",
    "\n",
    "df_input_upload = df.filter(col(\"operation\").isin([\"input_upload\"])).select(\"id\",\"operation\",\"timestamp\",\"status\",\"exception_description\",\"error_status\",\"filename\",\"submission_folder\",\"file_hash\",\"_file_path\",\"_file_modification_time\"\n",
    ")\\\n",
    "    .writeStream \\\n",
    "    .format(\"delta\")\\\n",
    "        .option(\"checkpointLocation\", \"/mnt/autoLoaderSchema/ARMAPPEALS/response/input_upload\")\\\n",
    "            .outputMode(\"append\")\\\n",
    "                .trigger(availableNow=True)\\\n",
    "                .start(input_upload_responses_path)\n",
    "\n",
    "df_input_upload.awaitTermination()"
   ]
  },
  {
   "cell_type": "code",
   "execution_count": 0,
   "metadata": {
    "application/vnd.databricks.v1+cell": {
     "cellMetadata": {
      "byteLimit": 2048000,
      "rowLimit": 10000
     },
     "inputWidgets": {},
     "nuid": "e487d9a5-0570-4fd3-923a-7ce64bc4cae2",
     "showTitle": false,
     "tableResultSettingsMap": {},
     "title": ""
    }
   },
   "outputs": [],
   "source": [
    "df_input_upload_responses = spark.read.format(\"delta\").load(input_upload_responses_path)\n",
    "display(df_input_upload_responses)"
   ]
  },
  {
   "cell_type": "code",
   "execution_count": 0,
   "metadata": {
    "application/vnd.databricks.v1+cell": {
     "cellMetadata": {
      "byteLimit": 2048000,
      "rowLimit": 10000
     },
     "inputWidgets": {},
     "nuid": "ba0d3129-bc06-457f-8f7d-b4042b0456b9",
     "showTitle": false,
     "tableResultSettingsMap": {},
     "title": ""
    }
   },
   "outputs": [],
   "source": [
    "dbutils.notebook.exit(\"Notebook execution completed successfully.\")"
   ]
  },
  {
   "cell_type": "markdown",
   "metadata": {
    "application/vnd.databricks.v1+cell": {
     "cellMetadata": {
      "byteLimit": 2048000,
      "rowLimit": 10000
     },
     "inputWidgets": {},
     "nuid": "8428073b-7e4c-46a1-9559-9a3f33c72f08",
     "showTitle": false,
     "tableResultSettingsMap": {},
     "title": ""
    }
   },
   "source": [
    "## Appendix"
   ]
  },
  {
   "cell_type": "code",
   "execution_count": 0,
   "metadata": {
    "application/vnd.databricks.v1+cell": {
     "cellMetadata": {
      "byteLimit": 2048000,
      "rowLimit": 10000
     },
     "inputWidgets": {},
     "nuid": "2248bba9-77db-4129-8709-101ac98d4406",
     "showTitle": false,
     "tableResultSettingsMap": {},
     "title": ""
    }
   },
   "outputs": [],
   "source": [
    "# dbutils.fs.rm(\"/mnt/autoLoaderSchema/ARMAPPEALS/response\", True)"
   ]
  },
  {
   "cell_type": "code",
   "execution_count": 0,
   "metadata": {
    "application/vnd.databricks.v1+cell": {
     "cellMetadata": {
      "byteLimit": 2048000,
      "rowLimit": 10000
     },
     "inputWidgets": {},
     "nuid": "5870a49b-b181-4954-a19e-2551043ceabd",
     "showTitle": false,
     "tableResultSettingsMap": {},
     "title": ""
    }
   },
   "outputs": [],
   "source": [
    "# dbutils.fs.ls(\"/mnt/ingest00curatedsboxsilver/ARIADM/ARM/response/APPEALS/\")"
   ]
  },
  {
   "cell_type": "code",
   "execution_count": 0,
   "metadata": {
    "application/vnd.databricks.v1+cell": {
     "cellMetadata": {
      "byteLimit": 2048000,
      "rowLimit": 10000
     },
     "inputWidgets": {},
     "nuid": "8b038814-2a48-4d26-93e1-901497dbc3c5",
     "showTitle": false,
     "tableResultSettingsMap": {},
     "title": ""
    }
   },
   "outputs": [],
   "source": [
    "# dbutils.fs.rm(\"/mnt/ingest00curatedsboxsilver/ARIADM/ARM/response/APPEALS/\", True)"
   ]
  },
  {
   "cell_type": "code",
   "execution_count": 0,
   "metadata": {
    "application/vnd.databricks.v1+cell": {
     "cellMetadata": {
      "byteLimit": 2048000,
      "rowLimit": 10000
     },
     "inputWidgets": {},
     "nuid": "d87d743c-8899-4de3-bb51-4edeacc9013d",
     "showTitle": false,
     "tableResultSettingsMap": {},
     "title": ""
    }
   },
   "outputs": [],
   "source": [
    "# display(dbutils.fs.ls(\"/mnt/dropzoneariab/ARIAB/response/\"))"
   ]
  },
  {
   "cell_type": "code",
   "execution_count": 0,
   "metadata": {
    "application/vnd.databricks.v1+cell": {
     "cellMetadata": {
      "byteLimit": 2048000,
      "rowLimit": 10000
     },
     "inputWidgets": {},
     "nuid": "3f99e1fe-080a-4039-8219-639dd996547c",
     "showTitle": false,
     "tableResultSettingsMap": {},
     "title": ""
    }
   },
   "outputs": [],
   "source": [
    "dbutils.secrets.list(scope=\"ingest00-meta002-sbox\")"
   ]
  },
  {
   "cell_type": "code",
   "execution_count": 0,
   "metadata": {
    "application/vnd.databricks.v1+cell": {
     "cellMetadata": {
      "byteLimit": 2048000,
      "rowLimit": 10000
     },
     "inputWidgets": {},
     "nuid": "789bf5c9-b66f-4fc2-b836-7595007c9ead",
     "showTitle": false,
     "tableResultSettingsMap": {},
     "title": ""
    }
   },
   "outputs": [],
   "source": [
    "\n",
    "# from azure.storage.blob import ContainerClient\n",
    "\n",
    "# sas_token = dbutils.secrets.get(scope=\"ingest00-meta002-sbox\", key=\"ARIATD-SAS-TOKEN\")\n",
    "# storage_account_name = \"a360c2x2555dz\"\n",
    "# container_name = \"dropzone\"\n",
    "# sub_dir = \"ARIATD/submission\"\n",
    "# account_url = f\"https://{storage_account_name}.blob.core.windows.net\"\n"
   ]
  },
  {
   "cell_type": "code",
   "execution_count": 0,
   "metadata": {
    "application/vnd.databricks.v1+cell": {
     "cellMetadata": {
      "byteLimit": 2048000,
      "rowLimit": 10000
     },
     "inputWidgets": {},
     "nuid": "d09b5a77-bed4-4f8c-a6c6-b34adbb36a4b",
     "showTitle": false,
     "tableResultSettingsMap": {},
     "title": ""
    }
   },
   "outputs": [],
   "source": [
    "# html_df = spark.sql(\"\"\"\n",
    "# select CaseNo, HTMLContent as content_str, substring_index(HTMLFileName, '/', -1) as file_path from ariadm_arm_td.gold_td_iris_with_html\n",
    "# where CaseNo = 'FY/46144/2015'\n",
    "# \"\"\")\n",
    "\n",
    "# json_df = spark.sql(\"\"\"\n",
    "#  select CaseNo, JSONcollection  as content_str, substring_index(JSONFileName, '/', -1) as file_path from ariadm_arm_td.gold_td_iris_with_Json\n",
    "#   where CaseNo = 'FY/46144/2015';\n",
    "# \"\"\")\n",
    "\n",
    "# a360_df = spark.sql(\"\"\"\n",
    "# select CaseNo, A360Content  as content_str, substring_index(A360FileName, '/', -1) as file_path from ariadm_arm_td.gold_td_iris_with_a360\n",
    "#  where CaseNo = 'FY/46144/2015';\n",
    "# \"\"\")\n",
    "\n",
    "# display(html_df)\n",
    "# display(json_df)\n",
    "# display(a360_df)"
   ]
  },
  {
   "cell_type": "code",
   "execution_count": 0,
   "metadata": {
    "application/vnd.databricks.v1+cell": {
     "cellMetadata": {
      "byteLimit": 2048000,
      "rowLimit": 10000
     },
     "inputWidgets": {},
     "nuid": "d62d3f3f-7bd0-464d-8a93-13e5c9b7dc53",
     "showTitle": false,
     "tableResultSettingsMap": {},
     "title": ""
    }
   },
   "outputs": [],
   "source": [
    "\n",
    "# from datetime import datetime\n",
    "\n",
    "# results = []\n",
    "\n",
    "# df = a360_df\n",
    "\n",
    "\n",
    "# # Callback generator to capture responses for each file upload\n",
    "# def capture_response(result):\n",
    "#     def hook(response):\n",
    "#         http_response = response.http_response\n",
    "#         result[\"http_response\"] = http_response.status_code\n",
    "#         result[\"http_message\"] = getattr(http_response, \"reason\", \"No reason provided\")\n",
    "#         result[\"timestamp\"] = datetime.now().isoformat()\n",
    "#     return hook\n",
    "\n",
    "# try:\n",
    "#     # Create a ContainerClient using a container-level SAS token\n",
    "#     container_client = ContainerClient(\n",
    "#         account_url=account_url,\n",
    "#         container_name=container_name,\n",
    "#         credential=sas_token\n",
    "#     )\n",
    "#     print(\"Container client created\")\n",
    "\n",
    "#     for row in df.collect():\n",
    "#         message = row.content_str\n",
    "#         file_path = row.file_path\n",
    "\n",
    "#         file_name= f\"{sub_dir}/{file_path}\"\n",
    "\n",
    "#         blob_client = container_client.get_blob_client(file_name)\n",
    "\n",
    "#         result = {\n",
    "#             \"filename\": file_name,\n",
    "#             \"http_response\": None,\n",
    "#             \"timestamp\": None,\n",
    "#             \"http_message\": None\n",
    "#         }\n",
    "\n",
    "#         print(\"uploading message to blob storage\",file_name)\n",
    "#         blob_client.upload_blob(message,overwrite=True,raw_response_hook=capture_response(result))\n",
    "#         print(\"upload complete\")\n",
    "\n",
    "#         results.append(result)\n",
    "\n",
    "\n",
    "# except Exception as e:\n",
    "#     print(\"Failed to connect to blob storage:\", e)\n",
    "\n"
   ]
  },
  {
   "cell_type": "code",
   "execution_count": 0,
   "metadata": {
    "application/vnd.databricks.v1+cell": {
     "cellMetadata": {
      "byteLimit": 2048000,
      "rowLimit": 10000
     },
     "inputWidgets": {},
     "nuid": "8d996daf-af80-42d9-8c9c-b8e6856a95a9",
     "showTitle": false,
     "tableResultSettingsMap": {},
     "title": ""
    }
   },
   "outputs": [],
   "source": [
    "# display(dbutils.fs.ls(\"/mnt/dropzoneariatd/ARIATD/submission/\"))"
   ]
  },
  {
   "cell_type": "code",
   "execution_count": 0,
   "metadata": {
    "application/vnd.databricks.v1+cell": {
     "cellMetadata": {
      "byteLimit": 2048000,
      "rowLimit": 10000
     },
     "inputWidgets": {},
     "nuid": "c577c1da-a905-4d42-8caa-673d0a46fc79",
     "showTitle": false,
     "tableResultSettingsMap": {},
     "title": ""
    }
   },
   "outputs": [],
   "source": [
    "# dbutils.fs.ls(\"/mnt/dropzoneariatd/ARIATD/response\")\n"
   ]
  }
 ],
 "metadata": {
  "application/vnd.databricks.v1+notebook": {
   "computePreferences": null,
   "dashboards": [],
   "environmentMetadata": {
    "base_environment": "",
    "environment_version": "2"
   },
   "language": "python",
   "notebookMetadata": {
    "mostRecentlyExecutedCommandWithImplicitDF": {
     "commandId": 8492011652829405,
     "dataframes": [
      "_sqldf"
     ]
    },
    "pythonIndentUnit": 4
   },
   "notebookName": "ARIADM_Appeals_response_autoloader",
   "widgets": {}
  },
  "language_info": {
   "name": "python"
  }
 },
 "nbformat": 4,
 "nbformat_minor": 0
}
