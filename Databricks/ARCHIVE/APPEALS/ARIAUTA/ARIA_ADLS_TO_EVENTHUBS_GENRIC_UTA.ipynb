{
 "cells": [
  {
   "cell_type": "code",
   "execution_count": 0,
   "metadata": {
    "application/vnd.databricks.v1+cell": {
     "cellMetadata": {
      "byteLimit": 2048000,
      "rowLimit": 10000
     },
     "inputWidgets": {},
     "nuid": "971d01f4-9654-4671-91ff-b2b6e49d88bc",
     "showTitle": false,
     "tableResultSettingsMap": {},
     "title": ""
    }
   },
   "outputs": [],
   "source": [
    "from confluent_kafka import Producer\n",
    "import json\n",
    "from  itertools import islice\n",
    "import numpy as np\n",
    "from pyspark.sql.functions import col, decode, split, element_at,udf\n",
    "import logging\n",
    "from pyspark.sql.types import StructType, StructField, StringType\n",
    "from pyspark import SparkContext\n"
   ]
  },
  {
   "cell_type": "markdown",
   "metadata": {
    "application/vnd.databricks.v1+cell": {
     "cellMetadata": {
      "batchId": -6029473035989569,
      "byteLimit": 2048000,
      "rowLimit": 10000
     },
     "inputWidgets": {},
     "nuid": "ca5d0732-52ee-47db-8fc2-e2cd9efaac84",
     "showTitle": false,
     "tableResultSettingsMap": {},
     "title": ""
    }
   },
   "source": [
    "## Read in HTML and JSON files"
   ]
  },
  {
   "cell_type": "code",
   "execution_count": 0,
   "metadata": {
    "application/vnd.databricks.v1+cell": {
     "cellMetadata": {
      "byteLimit": 2048000,
      "rowLimit": 10000
     },
     "inputWidgets": {},
     "nuid": "db61c7ae-8fb8-4b2a-97fb-e3896b5be3a3",
     "showTitle": true,
     "tableResultSettingsMap": {},
     "title": "Extract Environment Details and Generate KeyVault Name"
    }
   },
   "outputs": [],
   "source": [
    "config = spark.read.option(\"multiline\", \"true\").json(\"dbfs:/configs/config.json\")\n",
    "env_name = config.first()[\"env\"].strip().lower()\n",
    "lz_key = config.first()[\"lz_key\"].strip().lower()\n",
    "\n",
    "print(f\"env_code: {lz_key}\")  # This won't be redacted\n",
    "print(f\"env_name: {env_name}\")  # This won't be redacted\n",
    "\n",
    "KeyVault_name = f\"ingest{lz_key}-meta002-{env_name}\"\n",
    "print(f\"KeyVault_name: {KeyVault_name}\") "
   ]
  },
  {
   "cell_type": "code",
   "execution_count": 0,
   "metadata": {
    "application/vnd.databricks.v1+cell": {
     "cellMetadata": {
      "byteLimit": 2048000,
      "rowLimit": 10000
     },
     "inputWidgets": {},
     "nuid": "188e31a5-d665-4394-a5e5-68b7be6eb2b5",
     "showTitle": true,
     "tableResultSettingsMap": {},
     "title": "Configure SP OAuth"
    }
   },
   "outputs": [],
   "source": [
    "KeyVault_name = f\"ingest{lz_key}-meta002-{env_name}\"\n",
    "\n",
    "# Service principal credentials\n",
    "client_id = dbutils.secrets.get(KeyVault_name, \"SERVICE-PRINCIPLE-CLIENT-ID\")\n",
    "client_secret = dbutils.secrets.get(KeyVault_name, \"SERVICE-PRINCIPLE-CLIENT-SECRET\")\n",
    "tenant_id = dbutils.secrets.get(KeyVault_name, \"SERVICE-PRINCIPLE-TENANT-ID\")\n",
    "\n",
    "# Storage account names\n",
    "curated_storage = f\"ingest{lz_key}curated{env_name}\"\n",
    "\n",
    "# Spark config for curated storage (Delta table)\n",
    "spark.conf.set(f\"fs.azure.account.auth.type.{curated_storage}.dfs.core.windows.net\", \"OAuth\")\n",
    "spark.conf.set(f\"fs.azure.account.oauth.provider.type.{curated_storage}.dfs.core.windows.net\", \"org.apache.hadoop.fs.azurebfs.oauth2.ClientCredsTokenProvider\")\n",
    "spark.conf.set(f\"fs.azure.account.oauth2.client.id.{curated_storage}.dfs.core.windows.net\", client_id)\n",
    "spark.conf.set(f\"fs.azure.account.oauth2.client.secret.{curated_storage}.dfs.core.windows.net\", client_secret)\n",
    "spark.conf.set(f\"fs.azure.account.oauth2.client.endpoint.{curated_storage}.dfs.core.windows.net\", f\"https://login.microsoftonline.com/{tenant_id}/oauth2/token\")\n"
   ]
  },
  {
   "cell_type": "code",
   "execution_count": 0,
   "metadata": {
    "application/vnd.databricks.v1+cell": {
     "cellMetadata": {
      "byteLimit": 2048000,
      "rowLimit": 10000
     },
     "inputWidgets": {},
     "nuid": "0a41ea18-a1ef-4126-9f92-363cc05a0761",
     "showTitle": false,
     "tableResultSettingsMap": {},
     "title": ""
    }
   },
   "outputs": [],
   "source": [
    "eh_kv_secret = dbutils.secrets.get(scope=KeyVault_name, key=\"evh-namespace-connection-string\")"
   ]
  },
  {
   "cell_type": "code",
   "execution_count": 0,
   "metadata": {
    "application/vnd.databricks.v1+cell": {
     "cellMetadata": {
      "byteLimit": 2048000,
      "rowLimit": 10000
     },
     "inputWidgets": {},
     "nuid": "2c83aff2-c598-4475-abcc-61056a203b46",
     "showTitle": false,
     "tableResultSettingsMap": {},
     "title": ""
    }
   },
   "outputs": [],
   "source": [
    "\n",
    "AppealCategory = \"ARIAUTA\"\n",
    "\n",
    "dbutils.widgets.dropdown(\n",
    "    name='file_types', \n",
    "    defaultValue='html,json', \n",
    "    choices=[\n",
    "        'html,json', \n",
    "        'a360'\n",
    "    ]\n",
    ")\n",
    "\n",
    "gold_mount = f\"abfss://gold@ingest{lz_key}curated{env_name}.dfs.core.windows.net/ARIADM/ARM/APPEALS/ARIA{AppealCategory[-3:].upper()}\"\n",
    "# topic = f\"evh-td-pub-dev-uks-dlrm-01\"\n",
    "topic = f\"evh-apl-{AppealCategory[-3:].lower()}-pub-dev-uks-dlrm-01\"\n",
    "# dropzone_mount = f\"/mnt/dropzonearia{{AppealCategory[-3:].lower()}}/TD/\"\n",
    "audit_path = f\"abfss://silver@ingest{lz_key}curated{env_name}.dfs.core.windows.net/ARIADM/ARM/AUDIT/APPEALS/ARIAFTA/{AppealCategory[-3:].lower()}_cr_audit_table\"\n",
    "\n",
    "file_types = dbutils.widgets.get('file_types')\n",
    "\n",
    "display(f\"Gold Mount: {gold_mount}\", f\"Topic: {topic}\", \n",
    "        # f\"Dropzone Mount: {dropzone_mount}\",\n",
    "         f\"File Types: {file_types}\", f\"Audit Path: {audit_path}\")"
   ]
  },
  {
   "cell_type": "code",
   "execution_count": 0,
   "metadata": {
    "application/vnd.databricks.v1+cell": {
     "cellMetadata": {
      "byteLimit": 2048000,
      "rowLimit": 10000
     },
     "inputWidgets": {},
     "nuid": "8c28ed67-0c7f-4a8d-a50b-bb65512ed092",
     "showTitle": false,
     "tableResultSettingsMap": {},
     "title": ""
    }
   },
   "outputs": [],
   "source": [
    "# # dbutils.widgets.dropdown(\n",
    "# #     name='gold_mount', \n",
    "# #     defaultValue='/mnt/ingest00curatedsboxgold/ARIADM/ARM/APPEALS/ARIAFTA/', \n",
    "# #     choices=[\n",
    "# #         '/mnt/ingest00curatedsboxgold/ARIADM/ARM/ARIATD/', \n",
    "# #         '/mnt/ingest00curatedsboxgold/ARIADM/ARM/ARIAJR/', \n",
    "# #         '/mnt/ingest00curatedsboxgold/ARIADM/ARM/APPEALS/ARIAFTA/',\n",
    "# #         '/mnt/ingest00curatedsboxgold/ARIADM/ARM/APPEALS/ARIAUTA/',\n",
    "# #         '/mnt/ingest00curatedsboxgold/ARIADM/ARM/APPEALS/ARIAFPA/',\n",
    "# #         '/mnt/ingest00curatedsboxgold/ARIADM/ARM/ARIAB/',\n",
    "# #         '/mnt/ingest00curatedsboxgold/ARIADM/ARM/ARIASB/'\n",
    "# #     ]\n",
    "# # )\n",
    "# # gold_mount = dbutils.widgets.get('gold_mount')\n",
    "\n",
    "# # dbutils.widgets.dropdown(\n",
    "# #     name='topic', \n",
    "# #     defaultValue='evh-td-pub-dev-uks-dlrm-01', \n",
    "# #     choices=[\n",
    "# #         'evh-td-pub-dev-uks-dlrm-01', \n",
    "# #         'evh-joh-pub-dev-uks-dlrm-01', \n",
    "# #         'evh-apl-pub-dev-uks-dlrm-01',\n",
    "# #         'evh-apl-fta-pub-dev-uks-dlrm-01',\n",
    "# #         'evh-apl-uta-pub-dev-uks-dlrm-01',\n",
    "# #         'evh-apl-fpa-pub-dev-uks-dlrm-01',\n",
    "# #         'evh-bl-pub-dev-uks-dlrm-01'\n",
    "# #     ]\n",
    "# # )\n",
    "# # topic = dbutils.widgets.get('topic')\n",
    "\n",
    "# # dbutils.widgets.dropdown(\n",
    "# #     name='dropzone_mount', \n",
    "# #     defaultValue='/mnt/dropzoneariafta/ARIAFTA/', \n",
    "# #     choices=[\n",
    "# #         '/mnt/dropzoneariatd/ARIATD/', \n",
    "# #         '/mnt/dropzoneariatjr/ARIAJR/',  \n",
    "# #         '/mnt/dropzoneariafta/ARIAFTA/', \n",
    "# #         '/mnt/dropzoneariauta/ARIAUTA/', \n",
    "# #         '/mnt/dropzoneariauta/ARIAFPA/', \n",
    "# #         '/mnt/dropzoneariab/ARIAB/', \n",
    "# #         '/mnt/dropzoneariasb/ARIASB/'\n",
    "# #     ]\n",
    "# # )\n",
    "# # dropzone_mount = dbutils.widgets.get('dropzone_mount')\n",
    "\n",
    "# dbutils.widgets.dropdown(\n",
    "#     name='file_types', \n",
    "#     defaultValue='html,json', \n",
    "#     choices=[\n",
    "#         'html,json', \n",
    "#         'a360'\n",
    "#     ]\n",
    "# )\n",
    "# file_types = dbutils.widgets.get('file_types')\n",
    "\n",
    "# dbutils.widgets.dropdown(\n",
    "#     name='audit_path', \n",
    "#     defaultValue='/mnt/ingest00curatedsboxsilver/ARIADM/ARM/AUDIT/APPEALS/ARIAFTA/apl_fta_pub_audit_db_eh', \n",
    "#     choices=[\n",
    "#         '/mnt/ingest00curatedsboxsilver/ARIADM/ARM/AUDIT/APPEALS/ARIAFTA/apl_fta_pub_audit_db_eh',\n",
    "#         '/mnt/ingest00curatedsboxsilver/ARIADM/ARM/AUDIT/APPEALS/ARIAUTA/apl_uta_pub_audit_db_eh',\n",
    "#         '/mnt/ingest00curatedsboxsilver/ARIADM/ARM/AUDIT/APPEALS/ARIAFPA/apl_fpa_pub_audit_db_eh'\n",
    "#     ]\n",
    "# )\n",
    "# audit_path = dbutils.widgets.get('audit_path')\n",
    "\n",
    "# display(f\"Gold Mount: {gold_mount}\", f\"Topic: {topic}\", f\"Dropzone Mount: {dropzone_mount}\", f\"File Types: {file_types}\", f\"Audit Path: {audit_path}\")"
   ]
  },
  {
   "cell_type": "code",
   "execution_count": 0,
   "metadata": {
    "application/vnd.databricks.v1+cell": {
     "cellMetadata": {
      "byteLimit": 2048000,
      "rowLimit": 10000
     },
     "inputWidgets": {},
     "nuid": "afd1df65-8a74-4703-8a78-15ba884f12fd",
     "showTitle": false,
     "tableResultSettingsMap": {},
     "title": ""
    }
   },
   "outputs": [],
   "source": [
    "topic"
   ]
  },
  {
   "cell_type": "code",
   "execution_count": 0,
   "metadata": {
    "application/vnd.databricks.v1+cell": {
     "cellMetadata": {
      "byteLimit": 2048000,
      "rowLimit": 10000
     },
     "inputWidgets": {},
     "nuid": "625208fc-4823-45f7-8e56-5338370ef88a",
     "showTitle": false,
     "tableResultSettingsMap": {},
     "title": ""
    }
   },
   "outputs": [],
   "source": [
    "from pyspark.sql import SparkSession\n",
    "from pyspark.sql.functions import col, split, element_at\n",
    "from pyspark.sql.types import StructType, StructField, StringType\n",
    "from pyspark import SparkContext\n",
    "\n",
    "\n",
    "\n",
    "# Event Hub configurations\n",
    "eventhubs_hostname = \"sbox-dlrm-eventhub-ns.servicebus.windows.net:9093\"\n",
    "conf = {\n",
    "    'bootstrap.servers': eventhubs_hostname,\n",
    "    'security.protocol': 'SASL_SSL',\n",
    "    'sasl.mechanism': 'PLAIN',\n",
    "    'sasl.username': '$ConnectionString',\n",
    "    # 'sasl.password': \"Endpoint=sb://sbox-dlrm-eventhub-ns.servicebus.windows.net/;SharedAccessKeyName=RootManageSharedAccessKey;SharedAccessKey=\" ,\n",
    "    'sasl.password': eh_kv_secret,\n",
    "    'retries': 5,                     # Increased retries\n",
    "    'enable.idempotence': True,        # Enable idempotent producer\n",
    "}\n",
    "broadcast_conf = sc.broadcast(conf)\n",
    "\n"
   ]
  },
  {
   "cell_type": "code",
   "execution_count": 0,
   "metadata": {
    "application/vnd.databricks.v1+cell": {
     "cellMetadata": {
      "byteLimit": 2048000,
      "rowLimit": 10000
     },
     "inputWidgets": {},
     "nuid": "24c2aef4-dec0-43e7-8d12-c118e0c7a812",
     "showTitle": false,
     "tableResultSettingsMap": {},
     "title": ""
    }
   },
   "outputs": [],
   "source": [
    "# Read and prepare data HTML files\n",
    "# json_mount = '/mnt/ingest00curatedsboxgold/ARIADM/ARM/ARIATD/'\n",
    "binary_df = spark.read.format('binaryFile') \\\n",
    "                     .option('pathGlobFilter', f'*.{{{file_types}}}') \\\n",
    "                     .option('recursiveFileLookup', 'true') \\\n",
    "                     .load(gold_mount)\n",
    "\n",
    "\n",
    "\n",
    "html_df = binary_df.withColumn(\"content_str\", decode(col('content'), 'utf-8')) \\\n",
    "                   .withColumn('file_path', element_at(split(col('path'), '/'), -1))\n",
    "html_df = html_df.select('content_str','file_path')\n",
    "\n",
    "# # Repartition based on cluster resources\n",
    "# num_spark_partitions =  8\n",
    "# optimized_html_df = html_df.repartition(num_spark_partitions)\n",
    "\n",
    "html_df.display()"
   ]
  },
  {
   "cell_type": "markdown",
   "metadata": {
    "application/vnd.databricks.v1+cell": {
     "cellMetadata": {
      "byteLimit": 2048000,
      "rowLimit": 10000
     },
     "inputWidgets": {},
     "nuid": "d99f4b22-2d4c-4550-9959-219d94d18973",
     "showTitle": false,
     "tableResultSettingsMap": {},
     "title": ""
    }
   },
   "source": [
    "## Send to EventHubs"
   ]
  },
  {
   "cell_type": "code",
   "execution_count": 0,
   "metadata": {
    "application/vnd.databricks.v1+cell": {
     "cellMetadata": {
      "byteLimit": 2048000,
      "rowLimit": 10000
     },
     "inputWidgets": {},
     "nuid": "3e6df5e0-b6ae-481f-a221-a7bcd2a64141",
     "showTitle": false,
     "tableResultSettingsMap": {},
     "title": ""
    }
   },
   "outputs": [],
   "source": [
    "# Repartition based on cluster resources\n",
    "num_spark_partitions =  8\n",
    "optimized_html_df = html_df.repartition(num_spark_partitions)"
   ]
  },
  {
   "cell_type": "code",
   "execution_count": 0,
   "metadata": {
    "application/vnd.databricks.v1+cell": {
     "cellMetadata": {
      "byteLimit": 2048000,
      "rowLimit": 10000
     },
     "inputWidgets": {},
     "nuid": "2cacfef9-1522-43f8-ad26-82864f1c6bce",
     "showTitle": false,
     "tableResultSettingsMap": {},
     "title": ""
    }
   },
   "outputs": [],
   "source": [
    "def process_partition(partition):\n",
    "    import logging\n",
    "    from confluent_kafka import Producer\n",
    "    from datetime import datetime\n",
    "\n",
    "    # Initialize logger\n",
    "    logging.basicConfig(level=logging.INFO)\n",
    "    logger = logging.getLogger('KafkaProducer')\n",
    "    \n",
    "    failure_list = []\n",
    "    success_list = []\n",
    "    results = []\n",
    "\n",
    "    # Initialize producer\n",
    "    producer = Producer(**broadcast_conf.value)\n",
    "\n",
    "    def delivery_report(err, msg):\n",
    "        key_str = msg.key().decode('utf-8') if msg.key() is not None else \"Unknown\"\n",
    "        if err is not None:\n",
    "            err_msg = str(err)\n",
    "            logger.error(f\"Message delivery failed for key {key_str}: {err}\")\n",
    "            failure_list.append((key_str, \"failure\", err_msg, datetime.utcnow().strftime(\"%Y-%m-%d %H:%M:%S\")))\n",
    "        else:\n",
    "            success_list.append((key_str, \"success\", \"\", datetime.utcnow().strftime(\"%Y-%m-%d %H:%M:%S\")))\n",
    "\n",
    "    for row in partition:\n",
    "        if row.file_path is None or row.content_str is None:\n",
    "            logger.warning(f\"Skipping row with missing file_path/content_str: {row}\")\n",
    "            continue\n",
    "\n",
    "        try:\n",
    "            if isinstance(row.content_str, str):\n",
    "                value = row.content_str.encode('utf-8')\n",
    "            elif isinstance(row.content_str, bytearray):\n",
    "                value = bytes(row.content_str)\n",
    "            elif isinstance(row.content_str, bytes):\n",
    "                value = row.content_str\n",
    "            else:\n",
    "                logger.error(f\"Unsupported type for content_str: {type(row.content_str)}\")\n",
    "                failure_list.append((row.file_path, \"failure\", \"Unsupported type\", datetime.utcnow().strftime(\"%Y-%m-%d %H:%M:%S\")))\n",
    "                continue\n",
    "\n",
    "            producer.produce(\n",
    "                topic=topic,\n",
    "                key=row.file_path.encode('utf-8'),\n",
    "                value=value,\n",
    "                callback=delivery_report\n",
    "            )\n",
    "\n",
    "        except BufferError:\n",
    "            logger.error(\"Producer buffer full. Polling for events.\")\n",
    "            producer.poll(1)  \n",
    "        except Exception as e:\n",
    "            logger.error(f\"Unexpected error during production: {e}\")\n",
    "            failure_list.append((row.file_path, \"failure\", str(e), datetime.utcnow().strftime(\"%Y-%m-%d %H:%M:%S\")))\n",
    "\n",
    "    try:\n",
    "        producer.flush()\n",
    "        logger.info(\"Producer flushed successfully.\")\n",
    "    except Exception as e:\n",
    "        logger.error(f\"Unexpected error during flush: {e}\")\n",
    "\n",
    "    # Append results to list instead of using yield\n",
    "    results.extend(success_list)\n",
    "    results.extend(failure_list)\n",
    "\n",
    "    return results  # Return list instead of using yield\n",
    "\n",
    "# Schema for result DataFrame\n",
    "schema = StructType([\n",
    "    StructField(\"file_name\", StringType(), True),\n",
    "    StructField(\"status\", StringType(), True),\n",
    "    StructField(\"error_message\", StringType(), True),\n",
    "    StructField(\"timestamp\", StringType(), True)\n",
    "])\n",
    "\n",
    "# Apply the optimized processing\n",
    "result_rdd = optimized_html_df.rdd.mapPartitions(process_partition)\n",
    "\n",
    "# Create DataFrame and show results\n",
    "result_df = spark.createDataFrame(result_rdd, schema)\n",
    "display(result_df)  # Debugging step to verify output"
   ]
  },
  {
   "cell_type": "code",
   "execution_count": 0,
   "metadata": {
    "application/vnd.databricks.v1+cell": {
     "cellMetadata": {
      "byteLimit": 2048000,
      "rowLimit": 10000
     },
     "inputWidgets": {},
     "nuid": "9ea0014f-d416-470f-9d74-15337a6d4b32",
     "showTitle": false,
     "tableResultSettingsMap": {},
     "title": ""
    }
   },
   "outputs": [],
   "source": [
    "# # Display failed files\n",
    "\n",
    "failed_files = result_df.filter(col(\"status\") == \"failure\")\n",
    "\n",
    "display(failed_files)\n"
   ]
  },
  {
   "cell_type": "code",
   "execution_count": 0,
   "metadata": {
    "application/vnd.databricks.v1+cell": {
     "cellMetadata": {
      "byteLimit": 2048000,
      "rowLimit": 10000
     },
     "inputWidgets": {},
     "nuid": "f1cabaeb-4b22-487c-97cf-26f42169478e",
     "showTitle": false,
     "tableResultSettingsMap": {},
     "title": ""
    }
   },
   "outputs": [],
   "source": [
    "result_df.write.format(\"delta\").mode(\"append\").save(audit_path)"
   ]
  },
  {
   "cell_type": "code",
   "execution_count": 0,
   "metadata": {
    "application/vnd.databricks.v1+cell": {
     "cellMetadata": {
      "byteLimit": 2048000,
      "rowLimit": 10000
     },
     "inputWidgets": {},
     "nuid": "87b72610-b1b4-488d-bc99-bcea706c35d5",
     "showTitle": false,
     "tableResultSettingsMap": {},
     "title": ""
    }
   },
   "outputs": [],
   "source": [
    "successful_files =  result_df.filter(col(\"status\") == \"success\").count()\n",
    "failed_files =  result_df.filter(col(\"status\") == \"failure\").count()\n",
    "\n",
    "dbutils.notebook.exit({\"successful_files\": successful_files, \"failed_files\": failed_files})"
   ]
  },
  {
   "cell_type": "markdown",
   "metadata": {
    "application/vnd.databricks.v1+cell": {
     "cellMetadata": {},
     "inputWidgets": {},
     "nuid": "388dbe66-2e57-4a7b-acb8-4022c0543656",
     "showTitle": false,
     "tableResultSettingsMap": {},
     "title": ""
    }
   },
   "source": [
    "## Appendix"
   ]
  },
  {
   "cell_type": "code",
   "execution_count": 0,
   "metadata": {
    "application/vnd.databricks.v1+cell": {
     "cellMetadata": {
      "byteLimit": 2048000,
      "rowLimit": 10000
     },
     "inputWidgets": {},
     "nuid": "842332e1-349f-429b-89c2-45d0c34f7b31",
     "showTitle": false,
     "tableResultSettingsMap": {},
     "title": ""
    }
   },
   "outputs": [],
   "source": [
    "# dbutils.fs.ls(\"/mnt/dropzoneariatd/ARIATD/submission\")"
   ]
  },
  {
   "cell_type": "code",
   "execution_count": 0,
   "metadata": {
    "application/vnd.databricks.v1+cell": {
     "cellMetadata": {
      "byteLimit": 2048000,
      "rowLimit": 10000
     },
     "inputWidgets": {},
     "nuid": "757f2c8e-c06e-4421-813c-ab8c7af337d7",
     "showTitle": false,
     "tableResultSettingsMap": {},
     "title": ""
    }
   },
   "outputs": [],
   "source": [
    "# from pyspark.sql.functions import col, from_unixtime\n",
    "\n",
    "# files_df = spark.createDataFrame(dbutils.fs.ls(f\"{dropzone_mount}submission/\"))\n",
    "# files_df = files_df.withColumn(\"modificationTime\", from_unixtime(col(\"modificationTime\") / 1000).cast(\"timestamp\"))\n",
    "\n",
    "# display(files_df.orderBy(col(\"modificationTime\").desc()))"
   ]
  },
  {
   "cell_type": "code",
   "execution_count": 0,
   "metadata": {
    "application/vnd.databricks.v1+cell": {
     "cellMetadata": {
      "byteLimit": 2048000,
      "rowLimit": 10000
     },
     "inputWidgets": {},
     "nuid": "62f21d0b-7f5a-4be5-b590-4fa6993c18f5",
     "showTitle": false,
     "tableResultSettingsMap": {},
     "title": ""
    }
   },
   "outputs": [],
   "source": [
    "# json_count = files_df.filter(col(\"path\").endswith(\".json\")).count()\n",
    "# html_count = files_df.filter(col(\"path\").endswith(\".html\")).count()\n",
    "# a360_count = files_df.filter(col(\"path\").endswith(\".a360\")).count()\n",
    "\n",
    "# display(json_count)\n",
    "# display(html_count)\n",
    "# display(a360_count)"
   ]
  },
  {
   "cell_type": "code",
   "execution_count": 0,
   "metadata": {
    "application/vnd.databricks.v1+cell": {
     "cellMetadata": {
      "byteLimit": 2048000,
      "rowLimit": 10000
     },
     "inputWidgets": {},
     "nuid": "d3ed727c-17ed-40ef-bef0-875341ce2246",
     "showTitle": false,
     "tableResultSettingsMap": {},
     "title": ""
    }
   },
   "outputs": [],
   "source": [
    "# # Read and prepare data HTML files\n",
    "# t_json_mount = f'{dropzone_mount}response/'\n",
    "# t_binary_df = spark.read.format('binaryFile') \\\n",
    "#                      .option('pathGlobFilter', '*.rsp') \\\n",
    "#                      .option('recursiveFileLookup', 'true') \\\n",
    "#                      .load(t_json_mount)\n",
    " \n",
    " \n",
    " \n",
    "# t_html_df = t_binary_df.withColumn(\"content_str\", decode(col('content'), 'utf-8')) \\\n",
    "#                    .withColumn('file_path', element_at(split(col('path'), '/'), -1))\n",
    "# t_html_df = t_html_df.select('content_str','file_path')\n",
    " \n",
    "# display(t_html_df)"
   ]
  }
 ],
 "metadata": {
  "application/vnd.databricks.v1+notebook": {
   "computePreferences": null,
   "dashboards": [],
   "environmentMetadata": {
    "base_environment": "",
    "environment_version": "2"
   },
   "inputWidgetPreferences": null,
   "language": "python",
   "notebookMetadata": {
    "mostRecentlyExecutedCommandWithImplicitDF": {
     "commandId": 3483635658919412,
     "dataframes": [
      "_sqldf"
     ]
    },
    "pythonIndentUnit": 4
   },
   "notebookName": "ARIA_ADLS_TO_EVENTHUBS_GENRIC_UTA",
   "widgets": {
    "file_types": {
     "currentValue": "html,json",
     "nuid": "e97176f1-ab23-4317-8967-bf0f17c33863",
     "typedWidgetInfo": {
      "autoCreated": false,
      "defaultValue": "html,json",
      "label": null,
      "name": "file_types",
      "options": {
       "widgetDisplayType": "Dropdown",
       "choices": [
        "html,json",
        "a360"
       ],
       "fixedDomain": true,
       "multiselect": false
      },
      "parameterDataType": "String"
     },
     "widgetInfo": {
      "widgetType": "dropdown",
      "defaultValue": "html,json",
      "label": null,
      "name": "file_types",
      "options": {
       "widgetType": "dropdown",
       "autoCreated": null,
       "choices": [
        "html,json",
        "a360"
       ]
      }
     }
    }
   }
  },
  "language_info": {
   "name": "python"
  }
 },
 "nbformat": 4,
 "nbformat_minor": 0
}
