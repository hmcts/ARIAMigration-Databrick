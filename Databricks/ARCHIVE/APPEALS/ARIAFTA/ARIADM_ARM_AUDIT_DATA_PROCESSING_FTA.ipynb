{
 "cells": [
  {
   "cell_type": "markdown",
   "metadata": {
    "application/vnd.databricks.v1+cell": {
     "cellMetadata": {
      "byteLimit": 2048000,
      "rowLimit": 10000
     },
     "inputWidgets": {},
     "nuid": "2522e663-16c8-479b-a5d0-cde07c2e4358",
     "showTitle": false,
     "tableResultSettingsMap": {},
     "title": ""
    }
   },
   "source": [
    "## Audit Configuration"
   ]
  },
  {
   "cell_type": "code",
   "execution_count": 0,
   "metadata": {
    "application/vnd.databricks.v1+cell": {
     "cellMetadata": {
      "byteLimit": 2048000,
      "rowLimit": 10000
     },
     "inputWidgets": {},
     "nuid": "9cbb73ff-ea97-4d52-8cb2-bef1d6a7c843",
     "showTitle": false,
     "tableResultSettingsMap": {},
     "title": ""
    }
   },
   "outputs": [],
   "source": [
    "import dlt\n",
    "import json\n",
    "from pyspark.sql.functions import *\n",
    "from pyspark.sql.types import *\n",
    "from concurrent.futures import ThreadPoolExecutor, as_completed\n",
    "from datetime import datetime\n",
    "from pyspark.sql.window import Window\n",
    "import uuid\n",
    "from delta.tables import DeltaTable"
   ]
  },
  {
   "cell_type": "code",
   "execution_count": 0,
   "metadata": {
    "application/vnd.databricks.v1+cell": {
     "cellMetadata": {
      "byteLimit": 2048000,
      "rowLimit": 10000
     },
     "inputWidgets": {},
     "nuid": "f0d2f113-790d-4706-80c6-7b161ab5a259",
     "showTitle": false,
     "tableResultSettingsMap": {},
     "title": ""
    }
   },
   "outputs": [],
   "source": [
    "# audit_mnt = \"/mnt/ingest00curatedsboxsilver/ARIADM/ARM/AUDIT/TD\"\n",
    "audit_delta_path = \"/mnt/ingest00curatedsboxsilver/ARIADM/ARM/AUDIT/APPEALS/ARIAFTA/td_cr_audit_table\""
   ]
  },
  {
   "cell_type": "code",
   "execution_count": 0,
   "metadata": {
    "application/vnd.databricks.v1+cell": {
     "cellMetadata": {
      "byteLimit": 2048000,
      "rowLimit": 10000
     },
     "inputWidgets": {},
     "nuid": "21d6bc13-19f1-4d4f-93b1-3420aa291f45",
     "showTitle": false,
     "tableResultSettingsMap": {},
     "title": ""
    }
   },
   "outputs": [],
   "source": [
    "\n",
    "\n",
    "def datetime_uuid():\n",
    "    dt_str = datetime.utcnow().strftime(\"%Y-%m-%d %H:%M:%S\")\n",
    "    return str(uuid.uuid5(uuid.NAMESPACE_DNS, dt_str))\n",
    "\n",
    "run_id_value = datetime_uuid()\n",
    "\n",
    "audit_schema = StructType([\n",
    "    StructField(\"Runid\", StringType(), True),\n",
    "    StructField(\"Unique_identifier_desc\", StringType(), True),\n",
    "    StructField(\"Unique_identifier\", StringType(), True),\n",
    "    StructField(\"Table_name\", StringType(), True),\n",
    "    StructField(\"Stage_name\", StringType(), True),\n",
    "    StructField(\"Record_count\", IntegerType(), True),\n",
    "    StructField(\"Run_dt\", TimestampType(), True),\n",
    "    StructField(\"Batch_id\", StringType(), True),\n",
    "    StructField(\"Description\", StringType(), True),\n",
    "    StructField(\"File_name\", StringType(), True),\n",
    "    StructField(\"Status\", StringType(), True)\n",
    "])\n",
    "\n",
    "def create_audit_df(df: DataFrame, unique_identifier_desc: str, table_name: str, stage_name: str, description: str, additional_columns: list = None) -> DataFrame:\n",
    "    \"\"\"\n",
    "    Creates an audit DataFrame and writes it to Delta format.\n",
    "\n",
    "    :param df: Input DataFrame from which unique identifiers are extracted.\n",
    "    :param unique_identifier_desc: Column name that acts as a unique identifier.\n",
    "    :param table_name: Name of the source table.\n",
    "    :param stage_name: Name of the data processing stage.\n",
    "    :param description: Description of the table.\n",
    "    :param additional_columns: List of additional columns to include in the audit DataFrame.\n",
    "    :return: DataFrame containing the audit information.\n",
    "    \"\"\"\n",
    "\n",
    "    dt_desc = datetime.utcnow()\n",
    "\n",
    "    additional_columns = additional_columns or []  # Default to an empty list if None   \n",
    "    additional_columns = [col(c) for c in additional_columns if c is not None]  # Filter out None values\n",
    "\n",
    "    audit_df = df.select(col(unique_identifier_desc).alias(\"unique_identifier\"), *additional_columns) \\\n",
    "        .withColumn(\"Runid\", lit(run_id_value)) \\\n",
    "        .withColumn(\"Unique_identifier_desc\", lit(unique_identifier_desc)) \\\n",
    "        .withColumn(\"Stage_name\", lit(stage_name)) \\\n",
    "        .withColumn(\"Table_name\", lit(table_name)) \\\n",
    "        .withColumn(\"Run_dt\", lit(dt_desc).cast(TimestampType())) \\\n",
    "        .withColumn(\"Description\", lit(description))\n",
    "\n",
    "    list_cols = audit_df.columns\n",
    "\n",
    "    final_audit_df = audit_df.groupBy(*list_cols).agg(count(\"*\").cast(IntegerType()).alias(\"Record_count\"))\n",
    "\n",
    "    # final_audit_df.write.format(\"delta\").mode(\"append\").option(\"mergeSchema\", \"true\").save(audit_delta_path)\n",
    "    \n",
    "    return final_audit_df"
   ]
  },
  {
   "cell_type": "code",
   "execution_count": 0,
   "metadata": {
    "application/vnd.databricks.v1+cell": {
     "cellMetadata": {
      "byteLimit": 2048000,
      "rowLimit": 10000
     },
     "inputWidgets": {},
     "nuid": "bf4da11e-d865-4a22-8ec7-ae1866b46213",
     "showTitle": false,
     "tableResultSettingsMap": {},
     "title": ""
    }
   },
   "outputs": [],
   "source": [
    "# Define Delta Table Path in Azure Storage\n",
    "\n",
    "\n",
    "if not DeltaTable.isDeltaTable(spark, audit_delta_path):\n",
    "    print(f\"🛑 Delta table '{audit_delta_path}' does not exist. Creating an empty Delta table...\")\n",
    "\n",
    "    # Create an empty DataFrame\n",
    "    empty_df = spark.createDataFrame([], audit_schema)\n",
    "\n",
    "    # Write the empty DataFrame in Delta format to create the table\n",
    "    empty_df.write.format(\"delta\").mode(\"overwrite\").save(audit_delta_path)\n",
    "\n",
    "    print(\"✅ Empty Delta table successfully created in Azure Storage.\")\n",
    "else:\n",
    "    print(f\"⚡ Delta table '{audit_delta_path}' already exists.\")"
   ]
  },
  {
   "cell_type": "code",
   "execution_count": 0,
   "metadata": {
    "application/vnd.databricks.v1+cell": {
     "cellMetadata": {
      "byteLimit": 2048000,
      "rowLimit": 10000
     },
     "inputWidgets": {},
     "nuid": "61e3b7b9-8654-46b1-bba7-16c4ca597811",
     "showTitle": false,
     "tableResultSettingsMap": {},
     "title": ""
    }
   },
   "outputs": [],
   "source": [
    "audit_params_bronze = [\n",
    "        {\n",
    "        \"unique_identifier_cols\": [\"CaseNo\"],\n",
    "        \"table_name\": \"bronze_appealcase_cr_cs_ca_fl_cres_mr_res_lang\",\n",
    "        \"stage_name\": \"bronze_stage\",\n",
    "        \"description\": \"The bronze_appealcase_cr_cs_ca_fl_cres_mr_res_lang Delta Live Table combining Appeal Case data with Case Respondent, Main Respondent, Respondent, File Location, Case Representative, Representative, and Language..\"\n",
    "    },\n",
    "    {\n",
    "        \"unique_identifier_cols\": [\"CaseNo\"],\n",
    "        \"table_name\": \"bronze_appealcase_ca_apt_country_detc\",\n",
    "        \"stage_name\": \"bronze_stage\",\n",
    "        \"description\": \"The bronze_appealcase_ca_apt_country_detc Delta Live Table combining Case Appellant data with Appellant, Detention Centre, and Country information..\"\n",
    "    },\n",
    "    {\n",
    "        \"unique_identifier_cols\": [\"CaseNo\"],\n",
    "        \"table_name\": \"bronze_appealcase_cl_ht_list_lt_hc_c_ls_adj\",\n",
    "        \"stage_name\": \"bronze_stage\",\n",
    "        \"description\": \"The bronze_appealcase_cl_ht_list_lt_hc_c_ls_adj Delta Live Table combining Status, Case List, Hearing Type, Adjudicator, Court, and other related details.\"\n",
    "    },\n",
    "    {\n",
    "        \"unique_identifier_cols\": [\"CaseNo\"],\n",
    "        \"table_name\": \"bronze_appealcase_bfdiary_bftype\",\n",
    "        \"stage_name\": \"bronze_stage\",\n",
    "        \"description\": \"The bronze_appealcase_bfdiary_bftype Delta Live Table combining BFDiary and BFType details..\"\n",
    "    },\n",
    "    {\n",
    "        \"unique_identifier_cols\": [\"CaseNo\"],\n",
    "        \"table_name\": \"bronze_appealcase_history_users\",\n",
    "        \"stage_name\": \"bronze_stage\",\n",
    "        \"description\": \"The bronze_appealcase_history_users Delta Live Table combining History and Users details\"\n",
    "    },\n",
    "    {\n",
    "        \"unique_identifier_cols\": [\"CaseNo\"],\n",
    "        \"table_name\": \"bronze_appealcase_link_linkdetail\",\n",
    "        \"stage_name\": \"bronze_stage\",\n",
    "        \"description\": \"The bronze_appealcase_link_linkdetail Delta Live Table combining Case Appellant data with Appellant, Detention Centre, and Country information..\"\n",
    "    },\n",
    "    {\n",
    "        \"unique_identifier_cols\": [\"CaseNo\"],\n",
    "        \"table_name\": \"bronze_appealcase_status_sc_ra_cs\",\n",
    "        \"stage_name\": \"bronze_stage\",\n",
    "        \"description\": \"The bronze_appealcase_status_sc_ra_cs Delta Live Table joining Status, CaseStatus, StatusContact, ReasonAdjourn, Language, and DecisionType details.\"\n",
    "    },\n",
    "    {\n",
    "        \"unique_identifier_cols\": [\"CaseNo\"],\n",
    "        \"table_name\": \"bronze_appealcase_appealcatagory_catagory\",\n",
    "        \"stage_name\": \"bronze_stage\",\n",
    "        \"description\": \"The bronze_appealcase_appealcatagory_catagory Delta Live Table for joining AppealCategory and Category tables to retrieve case and category details.\"\n",
    "    },\n",
    "    {\n",
    "        \"unique_identifier_cols\": [\"CaseNo\"],\n",
    "        \"table_name\": \"bronze_appealcase_p_e_cfs_prr_fs_cs_hc_ag_at\",\n",
    "        \"stage_name\": \"bronze_stage\",\n",
    "        \"description\": \"The bronze_appealcase_t_tt_ts_tm Delta Live Table for joining Transaction, TransactionType, TransactionStatus, and TransactionMethod tables to retrieve transaction details.\"\n",
    "    },\n",
    "    {\n",
    "        \"unique_identifier_cols\": [\"CaseNo\"],\n",
    "        \"table_name\": \"bronze_status_decisiontype\",\n",
    "        \"stage_name\": \"bronze_stage\",\n",
    "        \"description\": \"The bronze_status_decisiontype Delta Live Table for joining Status and DecisionType tables to retrieve case and decision type details.\"\n",
    "    },\n",
    "    {\n",
    "        \"unique_identifier_cols\": [\"CaseNo\"],\n",
    "        \"table_name\": \"bronze_appealcase_t_tt_ts_tm\",\n",
    "        \"stage_name\": \"bronze_stage\",\n",
    "        \"description\": \"The bronze_appealcase_t_tt_ts_tm Delta Live Table combining Case Appellant data with Appellant, Detention Centre, and Country information..\"\n",
    "    },\n",
    "    {\n",
    "        \"unique_identifier_cols\": [\"CaseNo\"],\n",
    "        \"table_name\": \"bronze_appealcase_ahr_hr\",\n",
    "        \"stage_name\": \"bronze_stage\",\n",
    "        \"description\": \"The bronze_appealcase_ahr_hr Delta Live Table for joining AppealHumanRight and HumanRight tables to retrieve case and human rights details.\"\n",
    "    },\n",
    "    {\n",
    "        \"unique_identifier_cols\": [\"CaseNo\"],\n",
    "        \"table_name\": \"bronze_appealcase_anm_nm\",\n",
    "        \"stage_name\": \"bronze_stage\",\n",
    "        \"description\": \"The bronze_appealcase_anm_nm Delta  Live Table for joining AppealNewMatter and NewMatter tables to retrieve appeal and new matter details.\"\n",
    "    }\n",
    "\n",
    "    ,\n",
    "    {\n",
    "        \"unique_identifier_cols\": [\"CaseNo\"],\n",
    "        \"table_name\": \"bronze_appealcase_dr_rd\",\n",
    "        \"stage_name\": \"bronze_stage\",\n",
    "        \"description\": \"The bronze_appealcase_dr_rd Delta Live Table for joining DocumentsReceived and ReceivedDocument tables to retrieve document details.\"\n",
    "    },\n",
    "    {\n",
    "        \"unique_identifier_cols\": [\"CaseNo\"],\n",
    "        \"table_name\": \"bronze_appealcase_rsd_sd\",\n",
    "        \"stage_name\": \"bronze_stage\",\n",
    "        \"description\": \"The bronze_appealcase_rsd_sd Delta Live Table for joining ReviewStandardDirection and StandardDirection tables to retrieve review standard direction details.\"\n",
    "    },\n",
    "    {\n",
    "        \"unique_identifier_cols\": [\"CaseNo\"],\n",
    "        \"table_name\": \"bronze_review_specific_direction\",\n",
    "        \"stage_name\": \"bronze_stage\",\n",
    "        \"description\": \"The bronze_review_specific_direction Delta Live Table for retrieving details from the ReviewSpecificDirection table.\"\n",
    "    },\n",
    "    {\n",
    "        \"unique_identifier_cols\": [\"CaseNo\"],\n",
    "        \"table_name\": \"bronze_cost_award\",\n",
    "        \"stage_name\": \"bronze_stage\",\n",
    "        \"description\": \"The bronze_cost_award Delta Live Table for retrieving details from the CostAward table.\"\n",
    "    },\n",
    "    {\n",
    "        \"unique_identifier_cols\": [\"CaseNo\"],\n",
    "        \"table_name\": \"bronze_cost_award_linked\",\n",
    "        \"stage_name\": \"bronze_stage\",\n",
    "        \"description\": \"The bronze_cost_award_linked Delta Live Table for retrieving details from the CostAward_linked table.\"\n",
    "    },\n",
    "    {\n",
    "        \"unique_identifier_cols\": [\"CaseNo\"],\n",
    "        \"table_name\": \"bronze_costorder\",\n",
    "        \"stage_name\": \"bronze_stage\",\n",
    "        \"description\": \"The bronze_costorder Delta Live Table for retrieving details from the CostOrder table.\"\n",
    "    },\n",
    "    {\n",
    "        \"unique_identifier_cols\": [\"CaseNo\"],\n",
    "        \"table_name\": \"bronze_hearing_points_change_reason\",\n",
    "        \"stage_name\": \"bronze_stage\",\n",
    "        \"description\": \"The bronze_hearing_points_change_reason Delta Live Table for retrieving details from the HearingPointsChangeReason table\"\n",
    "    },\n",
    "    {\n",
    "        \"unique_identifier_cols\": [\"CaseNo\"],\n",
    "        \"table_name\": \"bronze_appeal_type_category\",\n",
    "        \"stage_name\": \"bronze_stage\",\n",
    "        \"description\": \"The bronze_appeal_type_category Delta Live Table for retrieving details from the AppealTypeCategory table..ble.\"\n",
    "    },\n",
    "    {\n",
    "        \"unique_identifier_cols\": [\"CaseNo\"],\n",
    "        \"table_name\": \"bronze_appeal_grounds\",\n",
    "        \"stage_name\": \"bronze_stage\",\n",
    "        \"description\": \"The bronze_appeal_grounds Delta Live Table for retrieving details from the AppealTypeCategory table..\"\n",
    "    },\n",
    "    {\n",
    "        \"unique_identifier_cols\": [\"CaseNo\"],\n",
    "        \"table_name\": \"bronze_required_incompatible_adjudicator\",\n",
    "        \"stage_name\": \"bronze_stage\",\n",
    "        \"description\": \"The bronze_required_incompatible_adjudicator Delta Live Table for retrieving Appeal Grounds with Appeal Type descriptions..\"\n",
    "    },\n",
    "    {\n",
    "        \"unique_identifier_cols\": [\"CaseNo\"],\n",
    "        \"table_name\": \"bronze_case_adjudicator\",\n",
    "        \"stage_name\": \"bronze_stage\",\n",
    "        \"description\": \"The bronze_case_adjudicator Delta Live Table for retrieving Appeal Grounds with Appeal Type descriptions..\"\n",
    "    }\n",
    "]"
   ]
  },
  {
   "cell_type": "code",
   "execution_count": 0,
   "metadata": {
    "application/vnd.databricks.v1+cell": {
     "cellMetadata": {
      "byteLimit": 2048000,
      "rowLimit": 10000
     },
     "inputWidgets": {},
     "nuid": "2060dba7-1a0e-4a00-aa6d-c1e591bc76cd",
     "showTitle": false,
     "tableResultSettingsMap": {},
     "title": ""
    }
   },
   "outputs": [],
   "source": [
    "audit_params_segmentation = [\n",
    "        {\n",
    "        \"unique_identifier_cols\": [\"CaseNo\"],\n",
    "        \"table_name\": \"stg_appealcasestatus_filtered\",\n",
    "        \"stage_name\": \"segmentation_stage\",\n",
    "        \"description\": \"This is the stg_appealcasestatus_filtered table segmentation logic to identify distinct Appeals categories so in later stages we can identify the distinct appeal categories.\"\n",
    "    },\n",
    "    {\n",
    "        \"unique_identifier_cols\": [\"CaseNo\"],\n",
    "        \"table_name\": \"stg_firsttier_filtered\",\n",
    "        \"stage_name\": \"segmentation_stage\",\n",
    "        \"description\": \"This is the stg_firsttier_filtered table to Identify cases 'FT Retained - ARM catagory' and mark is as ARIAFTA(FirstTierApplication)\"\n",
    "    },\n",
    "    {\n",
    "        \"unique_identifier_cols\": [\"CaseNo\"],\n",
    "        \"table_name\": \"stg_skeleton_filtered\",\n",
    "        \"stage_name\": \"segmentation_stage\",\n",
    "        \"description\": \"This is the  skeleton cases using the segmentation logic-and mark is as ARIAFTA(FirstTierApplication)\"\n",
    "    },\n",
    "    {\n",
    "        \"unique_identifier_cols\": [\"CaseNo\"],\n",
    "        \"table_name\": \"stg_uppertribunalretained_filtered\",\n",
    "        \"stage_name\": \"segmentation_stage\",\n",
    "        \"description\": \"This is the stg_uppertribunalretained_filtered table to Identify cases 'UT Retained' catagory and mark is as ARIAUTA(UpperTribinalApplication)\"\n",
    "    },\n",
    "    {\n",
    "        \"unique_identifier_cols\": [\"CaseNo\"],\n",
    "        \"table_name\": \"stg_firsttieroverdue_filtered\",\n",
    "        \"stage_name\": \"segmentation_stage\",\n",
    "        \"description\": \"This is the stg_firsttieroverdue_filtered table to Identify cases 'FT Overdue' - ARM catagory and mark is as ARIAFTA(FirstTierApplication)\"\n",
    "    },\n",
    "    {\n",
    "        \"unique_identifier_cols\": [\"CaseNo\"],\n",
    "        \"table_name\": \"stg_uppertribunaloverdue_filtered\",\n",
    "        \"stage_name\": \"segmentation_stage\",\n",
    "        \"description\": \"This is the stg_uppertribunaloverdue_filtered table to Identify cases 'UT Overdue' - ARM catagory and mark is as ARIAUTA(UpperTribinalApplication)\"\n",
    "    },\n",
    "    {\n",
    "        \"unique_identifier_cols\": [\"CaseNo\"],\n",
    "        \"table_name\": \"stg_filepreservedcases_filtered\",\n",
    "        \"stage_name\": \"segmentation_stage\",\n",
    "        \"description\": \"This is the stg_filepreservedcases_filtered table to Identify cases with CaseType = 1 and DeptID == 520 and make is as 'ARIAFilePreservedCases' - ARM catagory and mark is as ARIAUTA(UpperTribinalApplication)\"\n",
    "    },\n",
    "    {\n",
    "        \"unique_identifier_cols\": [\"CaseNo\"],\n",
    "        \"table_name\": \"stg_appeals_filtered\",\n",
    "        \"stage_name\": \"segmentation_stage\",\n",
    "        \"description\": \"This is the stg_appeals_filtered table to Identify cases  ARIAFTA(FirstTierApplication)\"\n",
    "    }\n",
    "    \n",
    "    ]\n"
   ]
  },
  {
   "cell_type": "code",
   "execution_count": 0,
   "metadata": {
    "application/vnd.databricks.v1+cell": {
     "cellMetadata": {
      "byteLimit": 2048000,
      "rowLimit": 10000
     },
     "inputWidgets": {},
     "nuid": "22119e7c-2236-4de6-8601-7562a591356f",
     "showTitle": false,
     "tableResultSettingsMap": {},
     "title": ""
    }
   },
   "outputs": [],
   "source": [
    "audit_params_silver = [\n",
    "    {\n",
    "        \"unique_identifier_cols\": [\"CaseNo\"],\n",
    "        \"table_name\": \"silver_appealcase_detail\",\n",
    "        \"stage_name\": \"silver_stage\",\n",
    "        \"description\": \"The silver_appealcase_detail table contains Appeal Case details derived from bronze_appealcase_cr_cs_ca_fl_cres_mr_res_lang, filtered by Appeal Category.\"\n",
    "    },\n",
    "    {\n",
    "        \"unique_identifier_cols\": [\"CaseNo\"],\n",
    "        \"table_name\": \"silver_applicant_detail\",\n",
    "        \"stage_name\": \"silver_stage\",\n",
    "        \"description\": \"The silver_applicant_detail table contains case applicant details derived from bronze_appealcase_ca_apt_country_detc, filtered by Appeal Category and where CaseAppellantRelationship is null, excluding dependents.\"\n",
    "    },\n",
    "    {\n",
    "        \"unique_identifier_cols\": [\"CaseNo\"],\n",
    "        \"table_name\": \"silver_dependent_detail\",\n",
    "        \"stage_name\": \"silver_stage\",\n",
    "        \"description\": \"The silver_dependent_detail table contains case applicant dependents details derived from bronze_appealcase_ca_apt_country_detc, filtered by Appeal Category and where CaseAppellantRelationship is not null, excluding applicants.\"\n",
    "    },\n",
    "    {\n",
    "        \"unique_identifier_cols\": [\"CaseNo\"],\n",
    "        \"table_name\": \"silver_list_detail\",\n",
    "        \"stage_name\": \"silver_stage\",\n",
    "        \"description\": \"The silver_list_detail table contains list details derived from bronze_appealcase_cl_ht_list_lt_hc_c_ls_adj, filtered by Appeal Category.\"\n",
    "    },\n",
    "    {\n",
    "        \"unique_identifier_cols\": [\"CaseNo\"],\n",
    "        \"table_name\": \"silver_dfdairy_detail\",\n",
    "        \"stage_name\": \"silver_stage\",\n",
    "        \"description\": \"The silver_dfdairy_detail table contains BFDiary details derived from bronze_appealcase_bfdiary_bftype, filtered by Appeal Category.\"\n",
    "    },\n",
    "    {\n",
    "        \"unique_identifier_cols\": [\"CaseNo\"],\n",
    "        \"table_name\": \"silver_history_detail\",\n",
    "        \"stage_name\": \"silver_stage\",\n",
    "        \"description\": \"The silver_history_detail table contains history details derived from bronze_appealcase_history_users, filtered by Appeal Category.\"\n",
    "    },\n",
    "    {\n",
    "        \"unique_identifier_cols\": [\"CaseNo\"],\n",
    "        \"table_name\": \"silver_link_detail\",\n",
    "        \"stage_name\": \"silver_stage\",\n",
    "        \"description\": \"The silver_link_detail table contains link details derived from bronze_appealcase_history_users, filtered by Appeal Category.\"\n",
    "    },\n",
    "    {\n",
    "        \"unique_identifier_cols\": [\"CaseNo\"],\n",
    "        \"table_name\": \"silver_status_detail\",\n",
    "        \"stage_name\": \"silver_stage\",\n",
    "        \"description\": \"The silver_status_detail table contains status details derived from bronze_appealcase_appealcatagory_catagory, filtered by Appeal Category.\"\n",
    "    },\n",
    "    {\n",
    "        \"unique_identifier_cols\": [\"CaseNo\"],\n",
    "        \"table_name\": \"silver_appealcategory_detail\",\n",
    "        \"stage_name\": \"silver_stage\",\n",
    "        \"description\": \"The silver_appealcategory_detail table contains appeal category details derived from bronze_appealcase_history_users, filtered by Appeal Category.\"\n",
    "    },\n",
    "    {\n",
    "        \"unique_identifier_cols\": [\"CaseNo\"],\n",
    "        \"table_name\": \"silver_case_detail\",\n",
    "        \"stage_name\": \"silver_stage\",\n",
    "        \"description\": \"The silver_case_detail table contains case details derived from bronze_appealcase_p_e_cfs_prr_fs_cs_hc_ag_at, filtered by Appeal Category.\"\n",
    "    },\n",
    "    {\n",
    "        \"unique_identifier_cols\": [\"CaseNo\"],\n",
    "        \"table_name\": \"silver_statusdecisiontype_detail\",\n",
    "        \"stage_name\": \"silver_stage\",\n",
    "        \"description\": \"The silver_statusdecisiontype_detail table contains status decision type details derived from bronze_status_decisiontype, filtered by Appeal Category.\"\n",
    "    },\n",
    "    {\n",
    "        \"unique_identifier_cols\": [\"CaseNo\"],\n",
    "        \"table_name\": \"silver_transaction_detail\",\n",
    "        \"stage_name\": \"silver_stage\",\n",
    "        \"description\": \"The silver_transaction_detail table contains transaction details derived from bronze_appealcase_t_tt_ts_tm, filtered by Appeal Category.\"\n",
    "    },\n",
    "    {\n",
    "        \"unique_identifier_cols\": [\"CaseNo\"],\n",
    "        \"table_name\": \"silver_humanright_detail\",\n",
    "        \"stage_name\": \"silver_stage\",\n",
    "        \"description\": \"The silver_humanright_detail table contains human rights details derived from bronze_appealcase_ahr_hr, filtered by Appeal Category.\"\n",
    "    },\n",
    "    {\n",
    "        \"unique_identifier_cols\": [\"CaseNo\"],\n",
    "        \"table_name\": \"silver_newmatter_detail\",\n",
    "        \"stage_name\": \"silver_stage\",\n",
    "        \"description\": \"The silver_newmatter_detail table contains new matter details derived from bronze_appealcase_anm_nm, filtered by Appeal Category.\"\n",
    "    },\n",
    "    {\n",
    "        \"unique_identifier_cols\": [\"CaseNo\"],\n",
    "        \"table_name\": \"silver_documents_detail\",\n",
    "        \"stage_name\": \"silver_stage\",\n",
    "        \"description\": \"The silver_documents_detail table contains document details derived from bronze_appealcase_dr_rd, filtered by Appeal Category.\"\n",
    "    },\n",
    "    {\n",
    "        \"unique_identifier_cols\": [\"CaseNo\"],\n",
    "        \"table_name\": \"silver_direction_detail\",\n",
    "        \"stage_name\": \"silver_stage\",\n",
    "        \"description\": \"The silver_direction_detail table contains direction details derived from bronze_appealcase_rsd_sd, filtered by Appeal Category.\"\n",
    "    },\n",
    "    {\n",
    "        \"unique_identifier_cols\": [\"CaseNo\"],\n",
    "        \"table_name\": \"silver_reviewspecificdirection_detail\",\n",
    "        \"stage_name\": \"silver_stage\",\n",
    "        \"description\": \"The silver_reviewspecificdirection_detail table contains review-specific direction details derived from bronze_review_specific_direction, filtered by Appeal Category.\"\n",
    "    },\n",
    "    {\n",
    "        \"unique_identifier_cols\": [\"CaseNo\"],\n",
    "        \"table_name\": \"silver_linkedcostaward_detail\",\n",
    "        \"stage_name\": \"silver_stage\",\n",
    "        \"description\": \"The silver_linkedcostaward_detail table contains linked cost award details derived from bronze_cost_award_linked, filtered by Appeal Category.\"\n",
    "    },\n",
    "    {\n",
    "        \"unique_identifier_cols\": [\"CaseNo\"],\n",
    "        \"table_name\": \"silver_costaward_detail\",\n",
    "        \"stage_name\": \"silver_stage\",\n",
    "        \"description\": \"The silver_costaward_detail table contains cost award details derived from bronze_cost_award, filtered by Appeal Category.\"\n",
    "    },\n",
    "    {\n",
    "        \"unique_identifier_cols\": [\"CaseNo\"],\n",
    "        \"table_name\": \"silver_costorder_detail\",\n",
    "        \"stage_name\": \"silver_stage\",\n",
    "        \"description\": \"The silver_costorder_detail table contains cost order details derived from bronze_costorder, filtered by Appeal Category.\"\n",
    "    },\n",
    "    {\n",
    "        \"unique_identifier_cols\": [\"CaseNo\"],\n",
    "        \"table_name\": \"silver_hearingpointschange_detail\",\n",
    "        \"stage_name\": \"silver_stage\",\n",
    "        \"description\": \"The silver_hearingpointschange_detail table contains hearing points change reason details derived from bronze_hearing_points_change_reason, filtered by Appeal Category.\"\n",
    "    },\n",
    "    {\n",
    "        \"unique_identifier_cols\": [\"CaseNo\"],\n",
    "        \"table_name\": \"silver_hearing_points_history_detail\",\n",
    "        \"stage_name\": \"silver_stage\",\n",
    "        \"description\": \"The silver_hearing_points_history_detail table contains hearing points history details derived from bronze_hearing_points_history, filtered by Appeal Category.\"\n",
    "    },\n",
    "    {\n",
    "        \"unique_identifier_cols\": [\"CaseNo\"],\n",
    "        \"table_name\": \"silver_appealtypecategory_detail\",\n",
    "        \"stage_name\": \"silver_stage\",\n",
    "        \"description\": \"The silver_appealtypecategory_detail table contains appeal type category details derived from bronze_appeal_type_category, filtered by Appeal Category.\"\n",
    "    },\n",
    "    {\n",
    "        \"unique_identifier_cols\": [\"CaseNo\"],\n",
    "        \"table_name\": \"silver_appeal_grounds_detail\",\n",
    "        \"stage_name\": \"silver_stage\",\n",
    "        \"description\": \"The silver_appeal_grounds_detail table contains appeal grounds details derived from bronze_appeal_grounds, filtered by Appeal Category.\"\n",
    "    },\n",
    "    {\n",
    "        \"unique_identifier_cols\": [\"CaseNo\"],\n",
    "        \"table_name\": \"silver_required_incompatible_adjudicator\",\n",
    "        \"stage_name\": \"silver_stage\",\n",
    "        \"description\": \"The silver_required_incompatible_adjudicator table contains required incompatible adjudicator details derived from bronze_required_incompatible_adjudicator, filtered by Appeal Category.\"\n",
    "    },\n",
    "    {\n",
    "        \"unique_identifier_cols\": [\"CaseNo\"],\n",
    "        \"table_name\": \"silver_case_adjudicator\",\n",
    "        \"stage_name\": \"silver_stage\",\n",
    "        \"description\": \"The silver_case_adjudicator table contains adjudicator details derived from bronze_case_adjudicator, filtered by Appeal Category.\"\n",
    "    },\n",
    "    {\n",
    "        \"unique_identifier_cols\": [\"CaseNo\"],\n",
    "        \"table_name\": \"silver_archive_metadata\",\n",
    "        \"stage_name\": \"silver_stage\",\n",
    "        \"description\": \"The silver_archive_metadata table contains archive metadata derived from bronze_case_adjudicator, filtered by Appeal Category.\"\n",
    "    }\n",
    "]"
   ]
  },
  {
   "cell_type": "code",
   "execution_count": 0,
   "metadata": {
    "application/vnd.databricks.v1+cell": {
     "cellMetadata": {
      "byteLimit": 2048000,
      "rowLimit": 10000
     },
     "inputWidgets": {},
     "nuid": "0f26f3b7-3927-428f-a221-a6dc1c4a734c",
     "showTitle": false,
     "tableResultSettingsMap": {},
     "title": ""
    }
   },
   "outputs": [],
   "source": [
    "audit_params_gold = [\n",
    "        {\n",
    "        \"unique_identifier_cols\": [\"CaseNo\"],\n",
    "        \"table_name\": \"stg_statichtml_data\",\n",
    "        \"stage_name\": \"segmentation_stage\",\n",
    "        \"description\": \"This is the stg_statichtml_data staging table is used to derive static HTML with a one-to-one column mapping. that are applicable for gold outputs\"\n",
    "    },\n",
    "    {\n",
    "        \"unique_identifier_cols\": [\"CaseNo\"],\n",
    "        \"table_name\": \"stg_statusdetail_data\",\n",
    "        \"stage_name\": \"segmentation_stage\",\n",
    "        \"description\": \"This is the stg_statusdetail_data staging table derives HTML data for status details in nested tabs in HTML output.\"\n",
    "    },\n",
    "    {\n",
    "        \"unique_identifier_cols\": [\"CaseNo\"],\n",
    "        \"table_name\": \"stg_apl_combined\",\n",
    "        \"stage_name\": \"segmentation_stage\",\n",
    "        \"description\": \"This is the stg_apl_combined unified stage created all consolidated data\"\n",
    "    },\n",
    "    {\n",
    "        \"unique_identifier_cols\": [\"CaseNo\"],\n",
    "        \"table_name\": \"stg_apl_create_json_content\",\n",
    "        \"stage_name\": \"segmentation_stage\",\n",
    "        \"description\": \"This is the stg_apl_create_json_content staging table derives JSON data content.\",\n",
    "        \"Extra_columns_mapping\": {\"File_name\": \"JSONFileName\", \"Status\": \"JSONStatus\"}\n",
    "    },\n",
    "    {\n",
    "        \"unique_identifier_cols\": [\"CaseNo\"],\n",
    "        \"table_name\": \"stg_apl_create_html_content\",\n",
    "        \"stage_name\": \"segmentation_stage\",\n",
    "        \"description\": \"This is the stg_apl_create_html_content staging table derives HTML data content.\",\n",
    "        \"Extra_columns_mapping\": {\"File_name\": \"HTMLFileName\", \"Status\": \"HTMLStatus\"}\n",
    "    },\n",
    "    {\n",
    "        \"unique_identifier_cols\": [\"CaseNo\"],\n",
    "        \"table_name\": \"stg_apl_create_a360_content\",\n",
    "        \"stage_name\": \"segmentation_stage\",\n",
    "        \"description\": \"This is the stg_apl_create_a360_content staging table derives A360 data content.\",\n",
    "        \"Extra_columns_mapping\": {\"File_name\": \"NotYetBatched\", \"Status\": \"A360Status\"}\n",
    "    },\n",
    "    {\n",
    "        \"unique_identifier_cols\": [\"CaseNo\"],\n",
    "        \"table_name\": \"stg_appeals_unified\",\n",
    "        \"stage_name\": \"segmentation_stage\",\n",
    "        \"description\": \"This is the stg_appeals_unified  table consolidates all silver data, including HTML, JSON, and A360 content, along with its status.\",\n",
    "        \"Extra_columns_mapping\": {\"File_name\": \"A360FileName\", \"Status\": \"A360Status\"}  \n",
    "    }\n",
    "    ,\n",
    "    {\n",
    "        \"unique_identifier_cols\": [\"CaseNo\"],\n",
    "        \"table_name\": \"gold_appeals_with_json\",\n",
    "        \"stage_name\": \"segmentation_stage\",\n",
    "        \"description\": \"This is the gold_appeals_with_json  table to upload JSON gold outputs.\",\n",
    "        \"Extra_columns_mapping\": {\"File_name\": \"JSONFileName\", \"Status\": \"UploadStatus\"}\n",
    "    },\n",
    "    {\n",
    "        \"unique_identifier_cols\": [\"CaseNo\"],\n",
    "        \"table_name\": \"gold_appeals_with_html\",\n",
    "        \"stage_name\": \"segmentation_stage\",\n",
    "        \"description\": \"This is the gold_appeals_with_HTML  table to upload HTML gold outputs.\",\n",
    "        \"Extra_columns_mapping\": {\"File_name\": \"HTMLFileName\", \"Status\": \"UploadStatus\"}\n",
    "    },\n",
    "    {\n",
    "        \"unique_identifier_cols\": [\"CaseNo\"],\n",
    "        \"table_name\": \"gold_appeals_with_a360\",\n",
    "        \"stage_name\": \"segmentation_stage\",\n",
    "        \"description\": \"This is the gold_appeals_with_a360  table to upload JSON gold outputs.\",\n",
    "        \"Extra_columns_mapping\": {\"File_name\": \"A360FileName\", \"Status\": \"UploadStatus\"}\n",
    "    }\n",
    "    ]"
   ]
  },
  {
   "cell_type": "code",
   "execution_count": 0,
   "metadata": {
    "application/vnd.databricks.v1+cell": {
     "cellMetadata": {
      "byteLimit": 2048000,
      "rowLimit": 10000
     },
     "inputWidgets": {},
     "nuid": "f39bfc58-f6bc-4018-a6b2-34c028e1a16f",
     "showTitle": false,
     "tableResultSettingsMap": {},
     "title": ""
    }
   },
   "outputs": [],
   "source": [
    "audit_params = audit_params_bronze + audit_params_segmentation + audit_params_silver + audit_params_gold\n",
    "audit_params"
   ]
  },
  {
   "cell_type": "code",
   "execution_count": 0,
   "metadata": {
    "application/vnd.databricks.v1+cell": {
     "cellMetadata": {
      "byteLimit": 2048000,
      "rowLimit": 10000
     },
     "inputWidgets": {},
     "nuid": "484ab2a6-69b1-43bd-b6f1-3a0effd732c0",
     "showTitle": false,
     "tableResultSettingsMap": {},
     "title": ""
    }
   },
   "outputs": [],
   "source": [
    "audit_dataframes = []\n",
    "\n",
    "for params in audit_params:\n",
    "    table_name = params[\"table_name\"]\n",
    "    stage_name = params[\"stage_name\"]\n",
    "    unique_identifier_cols = params[\"unique_identifier_cols\"]\n",
    "    description = params[\"description\"]\n",
    "    extra_columns_mapping = params.get(\"Extra_columns_mapping\", {})\n",
    "    unique_identifier_desc = \"_\".join(unique_identifier_cols)\n",
    "\n",
    "    try:\n",
    "\n",
    "        df_logging = spark.read.table(f\"hive_metastore.ariadm_arm_fta.{table_name}\")\n",
    "\n",
    "        df_audit = df_logging\n",
    "        if len(unique_identifier_cols) > 1:\n",
    "            df_audit = df_audit.withColumn(\n",
    "                unique_identifier_desc, \n",
    "                concat_ws(\"_\", *[col(c).cast(\"string\") for c in unique_identifier_cols])\n",
    "            )\n",
    "        else:\n",
    "            df_audit = df_audit.withColumn(unique_identifier_desc, col(unique_identifier_desc))\n",
    "\n",
    "        # Apply extra column mappings dynamically\n",
    "        for new_col, source_col in extra_columns_mapping.items():\n",
    "            if source_col == \"NotYetBatched\":\n",
    "                df_audit = df_audit.withColumn(new_col, lit(\"NotYetBatched\"))\n",
    "            else:\n",
    "                df_audit = df_audit.withColumn(new_col, col(source_col))\n",
    "\n",
    "        # Generate the audit DataFrame\n",
    "        df_audit_appended = create_audit_df(\n",
    "            df_audit,\n",
    "            unique_identifier_desc=unique_identifier_desc,\n",
    "            table_name=table_name,\n",
    "            stage_name=stage_name,\n",
    "            description=description\n",
    "        )\n",
    "\n",
    "        audit_dataframes.append(df_audit_appended)\n",
    "\n",
    "    except Exception as e:\n",
    "\n",
    "        # Table does not exist, create an audit entry for it\n",
    "        status = f\"Failed - Table {table_name} does not exist\"\n",
    "\n",
    "        row_data = {\n",
    "            \"Runid\": run_id_value,\n",
    "            \"Unique_identifier_desc\": unique_identifier_desc,\n",
    "            \"Unique_identifier\": None,\n",
    "            \"Table_name\": table_name,\n",
    "            \"Stage_name\": stage_name,\n",
    "            \"Record_count\": 0,\n",
    "            \"Run_dt\": datetime.now(),\n",
    "            \"Batch_id\": None,\n",
    "            \"Description\": description,\n",
    "            \"File_name\": None,\n",
    "            \"Status\": status\n",
    "        }\n",
    "\n",
    "        row_df = spark.createDataFrame([row_data], schema=audit_schema)\n",
    "        audit_dataframes.append(row_df)\n",
    "\n",
    "df_final_audit = audit_dataframes[0]\n",
    "for df in audit_dataframes[1:]:\n",
    "    df_final_audit = df_final_audit.unionByName(df, allowMissingColumns=True)\n",
    "\n"
   ]
  },
  {
   "cell_type": "code",
   "execution_count": 0,
   "metadata": {
    "application/vnd.databricks.v1+cell": {
     "cellMetadata": {
      "byteLimit": 2048000,
      "rowLimit": 10000
     },
     "inputWidgets": {},
     "nuid": "ed5ad2c6-0905-4d60-9030-eeead054f5f5",
     "showTitle": false,
     "tableResultSettingsMap": {},
     "title": ""
    }
   },
   "outputs": [],
   "source": [
    "display(df_final_audit)"
   ]
  },
  {
   "cell_type": "code",
   "execution_count": 0,
   "metadata": {
    "application/vnd.databricks.v1+cell": {
     "cellMetadata": {
      "byteLimit": 2048000,
      "rowLimit": 10000
     },
     "inputWidgets": {},
     "nuid": "bb545dd2-e117-4f63-b601-44f8cacc2b2e",
     "showTitle": false,
     "tableResultSettingsMap": {},
     "title": ""
    }
   },
   "outputs": [],
   "source": [
    "df_final_audit.write.format(\"delta\").mode(\"append\").option(\"mergeSchema\", \"true\").save(audit_delta_path)"
   ]
  },
  {
   "cell_type": "code",
   "execution_count": 0,
   "metadata": {
    "application/vnd.databricks.v1+cell": {
     "cellMetadata": {
      "byteLimit": 2048000,
      "rowLimit": 10000
     },
     "inputWidgets": {},
     "nuid": "7002e379-be45-4b77-8bfd-e859b2fb9d0e",
     "showTitle": true,
     "tableResultSettingsMap": {},
     "title": "Exit Notebook with Success Message"
    }
   },
   "outputs": [],
   "source": [
    "dbutils.notebook.exit(\"Notebook completed successfully\")"
   ]
  },
  {
   "cell_type": "markdown",
   "metadata": {
    "application/vnd.databricks.v1+cell": {
     "cellMetadata": {
      "byteLimit": 2048000,
      "rowLimit": 10000
     },
     "inputWidgets": {},
     "nuid": "4fb4912b-b507-4781-8f20-c9a2ef72afb2",
     "showTitle": false,
     "tableResultSettingsMap": {},
     "title": ""
    }
   },
   "source": [
    "## Appendix"
   ]
  },
  {
   "cell_type": "code",
   "execution_count": 0,
   "metadata": {
    "application/vnd.databricks.v1+cell": {
     "cellMetadata": {
      "byteLimit": 2048000,
      "rowLimit": 10000
     },
     "inputWidgets": {},
     "nuid": "4cc62189-868d-4cab-93b0-e79e2bc73574",
     "showTitle": false,
     "tableResultSettingsMap": {},
     "title": ""
    }
   },
   "outputs": [],
   "source": [
    "# df_final_audit.createOrReplaceTempView(\"tv_final_audit\")\n",
    "\n"
   ]
  },
  {
   "cell_type": "code",
   "execution_count": 0,
   "metadata": {
    "application/vnd.databricks.v1+cell": {
     "cellMetadata": {
      "byteLimit": 2048000,
      "rowLimit": 10000
     },
     "inputWidgets": {},
     "nuid": "c5c94f39-3a3b-445f-9abc-8de65889693c",
     "showTitle": false,
     "tableResultSettingsMap": {},
     "title": ""
    }
   },
   "outputs": [],
   "source": [
    "# audit_tables = [param[\"table_name\"] for param in audit_params]\n",
    "# display(len(audit_tables))\n",
    "# print(audit_tables)"
   ]
  },
  {
   "cell_type": "code",
   "execution_count": 0,
   "metadata": {
    "application/vnd.databricks.v1+cell": {
     "cellMetadata": {
      "byteLimit": 2048000,
      "implicitDf": true,
      "rowLimit": 10000
     },
     "inputWidgets": {},
     "nuid": "1c61f59c-94ae-4bc5-a957-4422b7991ee7",
     "showTitle": false,
     "tableResultSettingsMap": {},
     "title": ""
    }
   },
   "outputs": [],
   "source": [
    "\n",
    "# distinct_table_names = spark.sql(\"\"\"select array_distinct(collect_list(table_name)) as distinct_table_names from tv_final_audit\"\"\").first()[\"distinct_table_names\"]\n",
    "\n",
    "# display(len(distinct_table_names))\n",
    "# print(distinct_table_names)\n"
   ]
  },
  {
   "cell_type": "code",
   "execution_count": 0,
   "metadata": {
    "application/vnd.databricks.v1+cell": {
     "cellMetadata": {
      "byteLimit": 2048000,
      "rowLimit": 10000
     },
     "inputWidgets": {},
     "nuid": "62ab1cd3-71dc-44c0-b204-81f4acae3dea",
     "showTitle": false,
     "tableResultSettingsMap": {},
     "title": ""
    }
   },
   "outputs": [],
   "source": [
    "# diff_tables = list(set(audit_tables) - set(distinct_table_names))\n",
    "# diff_tables"
   ]
  },
  {
   "cell_type": "code",
   "execution_count": 0,
   "metadata": {
    "application/vnd.databricks.v1+cell": {
     "cellMetadata": {
      "byteLimit": 2048000,
      "implicitDf": true,
      "rowLimit": 10000
     },
     "inputWidgets": {},
     "nuid": "37aae2fc-9be3-4e66-a029-6b224b2f4d7e",
     "showTitle": false,
     "tableResultSettingsMap": {},
     "title": ""
    }
   },
   "outputs": [],
   "source": [
    "# %sql\n",
    "# select table_name,runid, count(*) from tv_final_audit\n",
    "# --  where table_name like 'stg%'\n",
    "# group by all"
   ]
  },
  {
   "cell_type": "code",
   "execution_count": 0,
   "metadata": {
    "application/vnd.databricks.v1+cell": {
     "cellMetadata": {
      "byteLimit": 2048000,
      "rowLimit": 10000
     },
     "inputWidgets": {},
     "nuid": "b1d6dec2-137e-4cbd-9320-122f34249a94",
     "showTitle": false,
     "tableResultSettingsMap": {},
     "title": ""
    }
   },
   "outputs": [],
   "source": [
    "# stg_firsttier_filtered = spark.table(\"hive_metastore.ariadm_arm_fta.stg_firsttier_filtered\")\n",
    "# stg_skeleton_filtered = spark.table(\"hive_metastore.ariadm_arm_fta.stg_skeleton_filtered\")\n",
    "# stg_firsttieroverdue_filtered = spark.table(\"hive_metastore.ariadm_arm_fta.stg_firsttieroverdue_filtered\")\n",
    "\n",
    "# union_df = stg_firsttier_filtered.union(stg_skeleton_filtered).union(stg_firsttieroverdue_filtered)\n",
    "# display(union_df.filter(col(\"segment\") == lit(\"ARIAFTA\")).distinct().count())"
   ]
  },
  {
   "cell_type": "code",
   "execution_count": 0,
   "metadata": {
    "application/vnd.databricks.v1+cell": {
     "cellMetadata": {
      "byteLimit": 2048000,
      "rowLimit": 10000
     },
     "inputWidgets": {},
     "nuid": "7dbff93c-2885-4215-a637-a4140863d4d9",
     "showTitle": false,
     "tableResultSettingsMap": {},
     "title": ""
    }
   },
   "outputs": [],
   "source": [
    "# from pyspark.sql.functions import col\n",
    "\n",
    "# tables_df = spark.sql(\"SHOW TABLES IN hive_metastore.ariadm_arm_fta\")\n",
    "# display(tables_df.filter(col(\"tableName\").like(\"bronze_%\")))"
   ]
  }
 ],
 "metadata": {
  "application/vnd.databricks.v1+notebook": {
   "computePreferences": null,
   "dashboards": [],
   "environmentMetadata": {
    "base_environment": "",
    "environment_version": "2"
   },
   "inputWidgetPreferences": null,
   "language": "python",
   "notebookMetadata": {
    "mostRecentlyExecutedCommandWithImplicitDF": {
     "commandId": 7954082128872308,
     "dataframes": [
      "_sqldf"
     ]
    },
    "pythonIndentUnit": 4
   },
   "notebookName": "ARIADM_ARM_AUDIT_DATA_PROCESSING_FTA",
   "widgets": {}
  },
  "language_info": {
   "name": "python"
  }
 },
 "nbformat": 4,
 "nbformat_minor": 0
}
